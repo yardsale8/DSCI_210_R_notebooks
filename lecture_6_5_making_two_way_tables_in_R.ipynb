{
  "cells": [
    {
      "cell_type": "markdown",
      "metadata": {
        "id": "view-in-github",
        "colab_type": "text"
      },
      "source": [
        "<a href=\"https://colab.research.google.com/github/yardsale8/DSCI_210_R_notebooks/blob/main/lecture_6_5_making_two_way_tables_in_R.ipynb\" target=\"_parent\"><img src=\"https://colab.research.google.com/assets/colab-badge.svg\" alt=\"Open In Colab\"/></a>"
      ]
    },
    {
      "cell_type": "markdown",
      "metadata": {
        "id": "O2G3oJSe2fiG"
      },
      "source": [
        "# Grouping and Aggregating in R"
      ]
    },
    {
      "cell_type": "code",
      "execution_count": 1,
      "metadata": {
        "id": "YbKvn1th2fiH",
        "outputId": "03833c78-ee97-4eaf-cd0a-11cb26ff9abd",
        "colab": {
          "base_uri": "https://localhost:8080/"
        }
      },
      "outputs": [
        {
          "output_type": "stream",
          "name": "stderr",
          "text": [
            "── \u001b[1mAttaching core tidyverse packages\u001b[22m ──────────────────────── tidyverse 2.0.0 ──\n",
            "\u001b[32m✔\u001b[39m \u001b[34mdplyr    \u001b[39m 1.1.3     \u001b[32m✔\u001b[39m \u001b[34mreadr    \u001b[39m 2.1.4\n",
            "\u001b[32m✔\u001b[39m \u001b[34mforcats  \u001b[39m 1.0.0     \u001b[32m✔\u001b[39m \u001b[34mstringr  \u001b[39m 1.5.0\n",
            "\u001b[32m✔\u001b[39m \u001b[34mggplot2  \u001b[39m 3.4.4     \u001b[32m✔\u001b[39m \u001b[34mtibble   \u001b[39m 3.2.1\n",
            "\u001b[32m✔\u001b[39m \u001b[34mlubridate\u001b[39m 1.9.3     \u001b[32m✔\u001b[39m \u001b[34mtidyr    \u001b[39m 1.3.0\n",
            "\u001b[32m✔\u001b[39m \u001b[34mpurrr    \u001b[39m 1.0.2     \n",
            "── \u001b[1mConflicts\u001b[22m ────────────────────────────────────────── tidyverse_conflicts() ──\n",
            "\u001b[31m✖\u001b[39m \u001b[34mdplyr\u001b[39m::\u001b[32mfilter()\u001b[39m masks \u001b[34mstats\u001b[39m::filter()\n",
            "\u001b[31m✖\u001b[39m \u001b[34mdplyr\u001b[39m::\u001b[32mlag()\u001b[39m    masks \u001b[34mstats\u001b[39m::lag()\n",
            "\u001b[36mℹ\u001b[39m Use the conflicted package (\u001b[3m\u001b[34m<http://conflicted.r-lib.org/>\u001b[39m\u001b[23m) to force all conflicts to become errors\n"
          ]
        }
      ],
      "source": [
        "library(tidyverse)"
      ]
    },
    {
      "cell_type": "code",
      "execution_count": 2,
      "metadata": {
        "id": "JWInYpnJ2fiK",
        "outputId": "82ff620f-c15b-47d6-bcd5-5d69762352b5",
        "colab": {
          "base_uri": "https://localhost:8080/",
          "height": 306
        }
      },
      "outputs": [
        {
          "output_type": "display_data",
          "data": {
            "text/html": [
              "<table class=\"dataframe\">\n",
              "<caption>A data.frame: 6 × 23</caption>\n",
              "<thead>\n",
              "\t<tr><th></th><th scope=col>Father.Minority</th><th scope=col>Father.Age</th><th scope=col>Father.Years.of.Education</th><th scope=col>Mother.Minority</th><th scope=col>Mother.Age</th><th scope=col>Mother.Years.of.Education</th><th scope=col>Marital.Status</th><th scope=col>Mother.Smoker</th><th scope=col>Mother.Avg.Cigs</th><th scope=col>Mother.Weight.Gain</th><th scope=col>⋯</th><th scope=col>Month.of.Birth</th><th scope=col>Day.of.Birth</th><th scope=col>Gender</th><th scope=col>Number.of.Prenatal.Visits</th><th scope=col>Kotelchuck.Index</th><th scope=col>Gestational.Age</th><th scope=col>Birth.Weight.Grams</th><th scope=col>Low.Birth</th><th scope=col>Apgar.Score.One.Minute</th><th scope=col>Apgar.Score.Five.Minutes</th></tr>\n",
              "\t<tr><th></th><th scope=col>&lt;chr&gt;</th><th scope=col>&lt;int&gt;</th><th scope=col>&lt;int&gt;</th><th scope=col>&lt;chr&gt;</th><th scope=col>&lt;int&gt;</th><th scope=col>&lt;int&gt;</th><th scope=col>&lt;chr&gt;</th><th scope=col>&lt;chr&gt;</th><th scope=col>&lt;int&gt;</th><th scope=col>&lt;int&gt;</th><th scope=col>⋯</th><th scope=col>&lt;int&gt;</th><th scope=col>&lt;int&gt;</th><th scope=col>&lt;chr&gt;</th><th scope=col>&lt;chr&gt;</th><th scope=col>&lt;chr&gt;</th><th scope=col>&lt;int&gt;</th><th scope=col>&lt;int&gt;</th><th scope=col>&lt;chr&gt;</th><th scope=col>&lt;int&gt;</th><th scope=col>&lt;int&gt;</th></tr>\n",
              "</thead>\n",
              "<tbody>\n",
              "\t<tr><th scope=row>1</th><td>Nonwhite</td><td>50</td><td>12</td><td>White   </td><td>24</td><td>15</td><td>Unmarried</td><td>N</td><td> 0</td><td>50</td><td>⋯</td><td> 2</td><td>23</td><td>Female</td><td>10</td><td>3_Adequate    </td><td>38</td><td>2866</td><td>N</td><td>9</td><td>9</td></tr>\n",
              "\t<tr><th scope=row>2</th><td>White   </td><td>19</td><td> 9</td><td>White   </td><td>18</td><td> 9</td><td>Unmarried</td><td>Y</td><td>23</td><td>35</td><td>⋯</td><td> 1</td><td>25</td><td>Female</td><td>9 </td><td>3_Adequate    </td><td>35</td><td>3121</td><td>N</td><td>8</td><td>9</td></tr>\n",
              "\t<tr><th scope=row>3</th><td>White   </td><td>37</td><td>17</td><td>White   </td><td>35</td><td>17</td><td>Married  </td><td>N</td><td> 0</td><td>24</td><td>⋯</td><td> 1</td><td>25</td><td>Female</td><td>20</td><td>4_AdequatePlus</td><td>38</td><td>2667</td><td>N</td><td>8</td><td>9</td></tr>\n",
              "\t<tr><th scope=row>4</th><td>        </td><td>NA</td><td>NA</td><td>Nonwhite</td><td>22</td><td>14</td><td>Unmarried</td><td>N</td><td> 0</td><td>33</td><td>⋯</td><td>11</td><td>10</td><td>Male  </td><td>15</td><td>4_AdequatePlus</td><td>38</td><td>2696</td><td>N</td><td>8</td><td>9</td></tr>\n",
              "\t<tr><th scope=row>5</th><td>Nonwhite</td><td>39</td><td>11</td><td>Nonwhite</td><td>31</td><td>16</td><td>Unmarried</td><td>N</td><td> 0</td><td>30</td><td>⋯</td><td> 5</td><td>18</td><td>Female</td><td>12</td><td>1_Inadequate  </td><td>38</td><td>2979</td><td>N</td><td>4</td><td>9</td></tr>\n",
              "\t<tr><th scope=row>6</th><td>White   </td><td>20</td><td>11</td><td>Nonwhite</td><td>19</td><td>12</td><td>Unmarried</td><td>N</td><td> 0</td><td>10</td><td>⋯</td><td>11</td><td> 6</td><td>Male  </td><td>10</td><td>4_AdequatePlus</td><td>36</td><td>3036</td><td>N</td><td>9</td><td>9</td></tr>\n",
              "</tbody>\n",
              "</table>\n"
            ],
            "text/markdown": "\nA data.frame: 6 × 23\n\n| <!--/--> | Father.Minority &lt;chr&gt; | Father.Age &lt;int&gt; | Father.Years.of.Education &lt;int&gt; | Mother.Minority &lt;chr&gt; | Mother.Age &lt;int&gt; | Mother.Years.of.Education &lt;int&gt; | Marital.Status &lt;chr&gt; | Mother.Smoker &lt;chr&gt; | Mother.Avg.Cigs &lt;int&gt; | Mother.Weight.Gain &lt;int&gt; | ⋯ ⋯ | Month.of.Birth &lt;int&gt; | Day.of.Birth &lt;int&gt; | Gender &lt;chr&gt; | Number.of.Prenatal.Visits &lt;chr&gt; | Kotelchuck.Index &lt;chr&gt; | Gestational.Age &lt;int&gt; | Birth.Weight.Grams &lt;int&gt; | Low.Birth &lt;chr&gt; | Apgar.Score.One.Minute &lt;int&gt; | Apgar.Score.Five.Minutes &lt;int&gt; |\n|---|---|---|---|---|---|---|---|---|---|---|---|---|---|---|---|---|---|---|---|---|---|\n| 1 | Nonwhite | 50 | 12 | White    | 24 | 15 | Unmarried | N |  0 | 50 | ⋯ |  2 | 23 | Female | 10 | 3_Adequate     | 38 | 2866 | N | 9 | 9 |\n| 2 | White    | 19 |  9 | White    | 18 |  9 | Unmarried | Y | 23 | 35 | ⋯ |  1 | 25 | Female | 9  | 3_Adequate     | 35 | 3121 | N | 8 | 9 |\n| 3 | White    | 37 | 17 | White    | 35 | 17 | Married   | N |  0 | 24 | ⋯ |  1 | 25 | Female | 20 | 4_AdequatePlus | 38 | 2667 | N | 8 | 9 |\n| 4 | <!----> | NA | NA | Nonwhite | 22 | 14 | Unmarried | N |  0 | 33 | ⋯ | 11 | 10 | Male   | 15 | 4_AdequatePlus | 38 | 2696 | N | 8 | 9 |\n| 5 | Nonwhite | 39 | 11 | Nonwhite | 31 | 16 | Unmarried | N |  0 | 30 | ⋯ |  5 | 18 | Female | 12 | 1_Inadequate   | 38 | 2979 | N | 4 | 9 |\n| 6 | White    | 20 | 11 | Nonwhite | 19 | 12 | Unmarried | N |  0 | 10 | ⋯ | 11 |  6 | Male   | 10 | 4_AdequatePlus | 36 | 3036 | N | 9 | 9 |\n\n",
            "text/latex": "A data.frame: 6 × 23\n\\begin{tabular}{r|lllllllllllllllllllll}\n  & Father.Minority & Father.Age & Father.Years.of.Education & Mother.Minority & Mother.Age & Mother.Years.of.Education & Marital.Status & Mother.Smoker & Mother.Avg.Cigs & Mother.Weight.Gain & ⋯ & Month.of.Birth & Day.of.Birth & Gender & Number.of.Prenatal.Visits & Kotelchuck.Index & Gestational.Age & Birth.Weight.Grams & Low.Birth & Apgar.Score.One.Minute & Apgar.Score.Five.Minutes\\\\\n  & <chr> & <int> & <int> & <chr> & <int> & <int> & <chr> & <chr> & <int> & <int> & ⋯ & <int> & <int> & <chr> & <chr> & <chr> & <int> & <int> & <chr> & <int> & <int>\\\\\n\\hline\n\t1 & Nonwhite & 50 & 12 & White    & 24 & 15 & Unmarried & N &  0 & 50 & ⋯ &  2 & 23 & Female & 10 & 3\\_Adequate     & 38 & 2866 & N & 9 & 9\\\\\n\t2 & White    & 19 &  9 & White    & 18 &  9 & Unmarried & Y & 23 & 35 & ⋯ &  1 & 25 & Female & 9  & 3\\_Adequate     & 35 & 3121 & N & 8 & 9\\\\\n\t3 & White    & 37 & 17 & White    & 35 & 17 & Married   & N &  0 & 24 & ⋯ &  1 & 25 & Female & 20 & 4\\_AdequatePlus & 38 & 2667 & N & 8 & 9\\\\\n\t4 &          & NA & NA & Nonwhite & 22 & 14 & Unmarried & N &  0 & 33 & ⋯ & 11 & 10 & Male   & 15 & 4\\_AdequatePlus & 38 & 2696 & N & 8 & 9\\\\\n\t5 & Nonwhite & 39 & 11 & Nonwhite & 31 & 16 & Unmarried & N &  0 & 30 & ⋯ &  5 & 18 & Female & 12 & 1\\_Inadequate   & 38 & 2979 & N & 4 & 9\\\\\n\t6 & White    & 20 & 11 & Nonwhite & 19 & 12 & Unmarried & N &  0 & 10 & ⋯ & 11 &  6 & Male   & 10 & 4\\_AdequatePlus & 36 & 3036 & N & 9 & 9\\\\\n\\end{tabular}\n",
            "text/plain": [
              "  Father.Minority Father.Age Father.Years.of.Education Mother.Minority\n",
              "1 Nonwhite        50         12                        White          \n",
              "2 White           19          9                        White          \n",
              "3 White           37         17                        White          \n",
              "4                 NA         NA                        Nonwhite       \n",
              "5 Nonwhite        39         11                        Nonwhite       \n",
              "6 White           20         11                        Nonwhite       \n",
              "  Mother.Age Mother.Years.of.Education Marital.Status Mother.Smoker\n",
              "1 24         15                        Unmarried      N            \n",
              "2 18          9                        Unmarried      Y            \n",
              "3 35         17                        Married        N            \n",
              "4 22         14                        Unmarried      N            \n",
              "5 31         16                        Unmarried      N            \n",
              "6 19         12                        Unmarried      N            \n",
              "  Mother.Avg.Cigs Mother.Weight.Gain ⋯ Month.of.Birth Day.of.Birth Gender\n",
              "1  0              50                 ⋯  2             23           Female\n",
              "2 23              35                 ⋯  1             25           Female\n",
              "3  0              24                 ⋯  1             25           Female\n",
              "4  0              33                 ⋯ 11             10           Male  \n",
              "5  0              30                 ⋯  5             18           Female\n",
              "6  0              10                 ⋯ 11              6           Male  \n",
              "  Number.of.Prenatal.Visits Kotelchuck.Index Gestational.Age Birth.Weight.Grams\n",
              "1 10                        3_Adequate       38              2866              \n",
              "2 9                         3_Adequate       35              3121              \n",
              "3 20                        4_AdequatePlus   38              2667              \n",
              "4 15                        4_AdequatePlus   38              2696              \n",
              "5 12                        1_Inadequate     38              2979              \n",
              "6 10                        4_AdequatePlus   36              3036              \n",
              "  Low.Birth Apgar.Score.One.Minute Apgar.Score.Five.Minutes\n",
              "1 N         9                      9                       \n",
              "2 N         8                      9                       \n",
              "3 N         8                      9                       \n",
              "4 N         8                      9                       \n",
              "5 N         4                      9                       \n",
              "6 N         9                      9                       "
            ]
          },
          "metadata": {}
        }
      ],
      "source": [
        "births <- read.csv('https://github.com/WSU-DataScience/DSCI_210_R_notebooks/raw/main/data/NC_Birth.csv')\n",
        "head(births)"
      ]
    },
    {
      "cell_type": "markdown",
      "metadata": {
        "id": "OIsVnPD62fiK"
      },
      "source": [
        "# Outline\n",
        "\n",
        "* Simple Aggregation\n",
        "* Grouped Aggregation"
      ]
    },
    {
      "cell_type": "markdown",
      "metadata": {
        "id": "Uc3ZACIP2fiL"
      },
      "source": [
        "# Aggregation"
      ]
    },
    {
      "cell_type": "markdown",
      "metadata": {
        "id": "uQfM3KOr2fiM"
      },
      "source": [
        "### Simple aggregation\n",
        "\n",
        "<img src=\"https://github.com/yardsale8/DSCI_210_R_notebooks/blob/main/img/simple_aggregation.png?raw=1\" width=600>"
      ]
    },
    {
      "cell_type": "markdown",
      "metadata": {
        "id": "5uTNwy762fiM"
      },
      "source": [
        "#### Beware of `NA`!\n",
        "\n",
        "`NA + 1 == NA` in R"
      ]
    },
    {
      "cell_type": "code",
      "execution_count": 3,
      "metadata": {
        "id": "AY79_LxR2fiM",
        "outputId": "3477e7e7-8432-4f65-d351-5c1d4603a8ba",
        "colab": {
          "base_uri": "https://localhost:8080/",
          "height": 150
        }
      },
      "outputs": [
        {
          "output_type": "display_data",
          "data": {
            "text/html": [
              "<table class=\"dataframe\">\n",
              "<caption>A data.frame: 1 × 1</caption>\n",
              "<thead>\n",
              "\t<tr><th scope=col>avg_father_educ</th></tr>\n",
              "\t<tr><th scope=col>&lt;dbl&gt;</th></tr>\n",
              "</thead>\n",
              "<tbody>\n",
              "\t<tr><td>NA</td></tr>\n",
              "</tbody>\n",
              "</table>\n"
            ],
            "text/markdown": "\nA data.frame: 1 × 1\n\n| avg_father_educ &lt;dbl&gt; |\n|---|\n| NA |\n\n",
            "text/latex": "A data.frame: 1 × 1\n\\begin{tabular}{l}\n avg\\_father\\_educ\\\\\n <dbl>\\\\\n\\hline\n\t NA\\\\\n\\end{tabular}\n",
            "text/plain": [
              "  avg_father_educ\n",
              "1 NA             "
            ]
          },
          "metadata": {}
        }
      ],
      "source": [
        "(births\n",
        " %>% summarize(avg_father_educ = mean(Father.Years.of.Education))\n",
        " )"
      ]
    },
    {
      "cell_type": "markdown",
      "metadata": {
        "id": "MqzGh5iX2fiO"
      },
      "source": [
        "#### Option 1 -- Filter out incomplete rows"
      ]
    },
    {
      "cell_type": "code",
      "execution_count": 4,
      "metadata": {
        "id": "L70m_kc42fiO",
        "outputId": "bfb51914-baaf-479e-b691-d2883165f360",
        "colab": {
          "base_uri": "https://localhost:8080/",
          "height": 150
        }
      },
      "outputs": [
        {
          "output_type": "display_data",
          "data": {
            "text/html": [
              "<table class=\"dataframe\">\n",
              "<caption>A data.frame: 1 × 1</caption>\n",
              "<thead>\n",
              "\t<tr><th scope=col>avg_father_educ</th></tr>\n",
              "\t<tr><th scope=col>&lt;dbl&gt;</th></tr>\n",
              "</thead>\n",
              "<tbody>\n",
              "\t<tr><td>12.79394</td></tr>\n",
              "</tbody>\n",
              "</table>\n"
            ],
            "text/markdown": "\nA data.frame: 1 × 1\n\n| avg_father_educ &lt;dbl&gt; |\n|---|\n| 12.79394 |\n\n",
            "text/latex": "A data.frame: 1 × 1\n\\begin{tabular}{l}\n avg\\_father\\_educ\\\\\n <dbl>\\\\\n\\hline\n\t 12.79394\\\\\n\\end{tabular}\n",
            "text/plain": [
              "  avg_father_educ\n",
              "1 12.79394       "
            ]
          },
          "metadata": {}
        }
      ],
      "source": [
        "(births\n",
        " %>% filter(complete.cases(Father.Years.of.Education))\n",
        " %>% summarize(avg_father_educ = mean(Father.Years.of.Education))\n",
        " )"
      ]
    },
    {
      "cell_type": "markdown",
      "metadata": {
        "id": "1rKiiMyD2fiO"
      },
      "source": [
        "#### Option 2 -- set `na.rm=TRUE`"
      ]
    },
    {
      "cell_type": "code",
      "execution_count": 5,
      "metadata": {
        "id": "olfIpeS42fiO",
        "outputId": "ef0c721e-18c7-46f7-e866-9cd069e57c5f",
        "colab": {
          "base_uri": "https://localhost:8080/",
          "height": 150
        }
      },
      "outputs": [
        {
          "output_type": "display_data",
          "data": {
            "text/html": [
              "<table class=\"dataframe\">\n",
              "<caption>A data.frame: 1 × 1</caption>\n",
              "<thead>\n",
              "\t<tr><th scope=col>avg_father_educ</th></tr>\n",
              "\t<tr><th scope=col>&lt;dbl&gt;</th></tr>\n",
              "</thead>\n",
              "<tbody>\n",
              "\t<tr><td>12.79394</td></tr>\n",
              "</tbody>\n",
              "</table>\n"
            ],
            "text/markdown": "\nA data.frame: 1 × 1\n\n| avg_father_educ &lt;dbl&gt; |\n|---|\n| 12.79394 |\n\n",
            "text/latex": "A data.frame: 1 × 1\n\\begin{tabular}{l}\n avg\\_father\\_educ\\\\\n <dbl>\\\\\n\\hline\n\t 12.79394\\\\\n\\end{tabular}\n",
            "text/plain": [
              "  avg_father_educ\n",
              "1 12.79394       "
            ]
          },
          "metadata": {}
        }
      ],
      "source": [
        "(births\n",
        " %>% summarize(avg_father_educ = mean(Father.Years.of.Education, na.rm = TRUE))\n",
        " )"
      ]
    },
    {
      "cell_type": "markdown",
      "metadata": {
        "id": "M9mkbvFU2fiP"
      },
      "source": [
        "### Grouped aggregation\n",
        "\n",
        "<img src=\"https://github.com/yardsale8/DSCI_210_R_notebooks/blob/main/img/group_and_aggregate.png?raw=1\" width=600>\n",
        "\n",
        "#### One grouping variable\n",
        "\n",
        "Using `group_by`"
      ]
    },
    {
      "cell_type": "code",
      "execution_count": 10,
      "metadata": {
        "id": "P_pg_xzT2fiP",
        "outputId": "03b73540-0172-4fbf-d220-17f371366acf",
        "colab": {
          "base_uri": "https://localhost:8080/",
          "height": 181
        }
      },
      "outputs": [
        {
          "output_type": "display_data",
          "data": {
            "text/html": [
              "<table class=\"dataframe\">\n",
              "<caption>A tibble: 2 × 2</caption>\n",
              "<thead>\n",
              "\t<tr><th scope=col>Gender</th><th scope=col>avg_wt</th></tr>\n",
              "\t<tr><th scope=col>&lt;chr&gt;</th><th scope=col>&lt;dbl&gt;</th></tr>\n",
              "</thead>\n",
              "<tbody>\n",
              "\t<tr><td>Female</td><td>3203.117</td></tr>\n",
              "\t<tr><td>Male  </td><td>3279.816</td></tr>\n",
              "</tbody>\n",
              "</table>\n"
            ],
            "text/markdown": "\nA tibble: 2 × 2\n\n| Gender &lt;chr&gt; | avg_wt &lt;dbl&gt; |\n|---|---|\n| Female | 3203.117 |\n| Male   | 3279.816 |\n\n",
            "text/latex": "A tibble: 2 × 2\n\\begin{tabular}{ll}\n Gender & avg\\_wt\\\\\n <chr> & <dbl>\\\\\n\\hline\n\t Female & 3203.117\\\\\n\t Male   & 3279.816\\\\\n\\end{tabular}\n",
            "text/plain": [
              "  Gender avg_wt  \n",
              "1 Female 3203.117\n",
              "2 Male   3279.816"
            ]
          },
          "metadata": {}
        }
      ],
      "source": [
        "(births\n",
        " %>% group_by(Gender)\n",
        " %>% summarize(avg_wt = mean(Birth.Weight.Grams,\n",
        "                             na.rm = TRUE)\n",
        "              )\n",
        " )"
      ]
    },
    {
      "cell_type": "markdown",
      "source": [
        "Using `.by` argument in `summarise`"
      ],
      "metadata": {
        "id": "kQWdplSj3-jd"
      }
    },
    {
      "cell_type": "code",
      "source": [
        "(births\n",
        " %>% summarize(avg_wt = mean(Birth.Weight.Grams,\n",
        "                             na.rm = TRUE),\n",
        "              .by = Gender)\n",
        "\n",
        "\n",
        " )"
      ],
      "metadata": {
        "id": "0LqfZ1og3ig7",
        "outputId": "535ed8bd-23bd-45c7-957a-80b935be05ff",
        "colab": {
          "base_uri": "https://localhost:8080/",
          "height": 181
        }
      },
      "execution_count": 11,
      "outputs": [
        {
          "output_type": "display_data",
          "data": {
            "text/html": [
              "<table class=\"dataframe\">\n",
              "<caption>A data.frame: 2 × 2</caption>\n",
              "<thead>\n",
              "\t<tr><th scope=col>Gender</th><th scope=col>avg_wt</th></tr>\n",
              "\t<tr><th scope=col>&lt;chr&gt;</th><th scope=col>&lt;dbl&gt;</th></tr>\n",
              "</thead>\n",
              "<tbody>\n",
              "\t<tr><td>Female</td><td>3203.117</td></tr>\n",
              "\t<tr><td>Male  </td><td>3279.816</td></tr>\n",
              "</tbody>\n",
              "</table>\n"
            ],
            "text/markdown": "\nA data.frame: 2 × 2\n\n| Gender &lt;chr&gt; | avg_wt &lt;dbl&gt; |\n|---|---|\n| Female | 3203.117 |\n| Male   | 3279.816 |\n\n",
            "text/latex": "A data.frame: 2 × 2\n\\begin{tabular}{ll}\n Gender & avg\\_wt\\\\\n <chr> & <dbl>\\\\\n\\hline\n\t Female & 3203.117\\\\\n\t Male   & 3279.816\\\\\n\\end{tabular}\n",
            "text/plain": [
              "  Gender avg_wt  \n",
              "1 Female 3203.117\n",
              "2 Male   3279.816"
            ]
          },
          "metadata": {}
        }
      ]
    },
    {
      "cell_type": "markdown",
      "metadata": {
        "id": "GxDJPSls2fiP"
      },
      "source": [
        "#### Two grouping variables\n",
        "\n",
        "Using `group_by` in the pipe"
      ]
    },
    {
      "cell_type": "code",
      "execution_count": 12,
      "metadata": {
        "id": "tIJRobqG2fiQ",
        "outputId": "afe9eed7-cefb-4ae8-ff63-f1d565ad4efe",
        "colab": {
          "base_uri": "https://localhost:8080/",
          "height": 278
        }
      },
      "outputs": [
        {
          "output_type": "stream",
          "name": "stderr",
          "text": [
            "\u001b[1m\u001b[22m`summarise()` has grouped output by 'Gender'. You can override using the\n",
            "`.groups` argument.\n"
          ]
        },
        {
          "output_type": "display_data",
          "data": {
            "text/html": [
              "<table class=\"dataframe\">\n",
              "<caption>A grouped_df: 4 × 3</caption>\n",
              "<thead>\n",
              "\t<tr><th scope=col>Gender</th><th scope=col>Marital.Status</th><th scope=col>avg_wt</th></tr>\n",
              "\t<tr><th scope=col>&lt;chr&gt;</th><th scope=col>&lt;chr&gt;</th><th scope=col>&lt;dbl&gt;</th></tr>\n",
              "</thead>\n",
              "<tbody>\n",
              "\t<tr><td>Female</td><td>Married  </td><td>3249.788</td></tr>\n",
              "\t<tr><td>Female</td><td>Unmarried</td><td>3137.405</td></tr>\n",
              "\t<tr><td>Male  </td><td>Married  </td><td>3321.245</td></tr>\n",
              "\t<tr><td>Male  </td><td>Unmarried</td><td>3219.448</td></tr>\n",
              "</tbody>\n",
              "</table>\n"
            ],
            "text/markdown": "\nA grouped_df: 4 × 3\n\n| Gender &lt;chr&gt; | Marital.Status &lt;chr&gt; | avg_wt &lt;dbl&gt; |\n|---|---|---|\n| Female | Married   | 3249.788 |\n| Female | Unmarried | 3137.405 |\n| Male   | Married   | 3321.245 |\n| Male   | Unmarried | 3219.448 |\n\n",
            "text/latex": "A grouped\\_df: 4 × 3\n\\begin{tabular}{lll}\n Gender & Marital.Status & avg\\_wt\\\\\n <chr> & <chr> & <dbl>\\\\\n\\hline\n\t Female & Married   & 3249.788\\\\\n\t Female & Unmarried & 3137.405\\\\\n\t Male   & Married   & 3321.245\\\\\n\t Male   & Unmarried & 3219.448\\\\\n\\end{tabular}\n",
            "text/plain": [
              "  Gender Marital.Status avg_wt  \n",
              "1 Female Married        3249.788\n",
              "2 Female Unmarried      3137.405\n",
              "3 Male   Married        3321.245\n",
              "4 Male   Unmarried      3219.448"
            ]
          },
          "metadata": {}
        }
      ],
      "source": [
        "(births\n",
        " %>% group_by(Gender, Marital.Status)\n",
        " %>% summarize(avg_wt = mean(Birth.Weight.Grams,\n",
        "                             na.rm = TRUE)\n",
        "              )\n",
        " )"
      ]
    },
    {
      "cell_type": "markdown",
      "source": [
        "Using `.by` argument in `summarise`"
      ],
      "metadata": {
        "id": "nOFEv3lg4Npk"
      }
    },
    {
      "cell_type": "code",
      "source": [
        "(births\n",
        " %>% summarize(avg_wt = mean(Birth.Weight.Grams,\n",
        "                             na.rm = TRUE),\n",
        "               .by = c(Gender, Marital.Status)\n",
        "              )\n",
        " )"
      ],
      "metadata": {
        "id": "w5nkSnEx4W4-",
        "outputId": "378012b6-10a1-4f0a-ec3a-89312bb35045",
        "colab": {
          "base_uri": "https://localhost:8080/",
          "height": 244
        }
      },
      "execution_count": 13,
      "outputs": [
        {
          "output_type": "display_data",
          "data": {
            "text/html": [
              "<table class=\"dataframe\">\n",
              "<caption>A data.frame: 4 × 3</caption>\n",
              "<thead>\n",
              "\t<tr><th scope=col>Gender</th><th scope=col>Marital.Status</th><th scope=col>avg_wt</th></tr>\n",
              "\t<tr><th scope=col>&lt;chr&gt;</th><th scope=col>&lt;chr&gt;</th><th scope=col>&lt;dbl&gt;</th></tr>\n",
              "</thead>\n",
              "<tbody>\n",
              "\t<tr><td>Female</td><td>Unmarried</td><td>3137.405</td></tr>\n",
              "\t<tr><td>Female</td><td>Married  </td><td>3249.788</td></tr>\n",
              "\t<tr><td>Male  </td><td>Unmarried</td><td>3219.448</td></tr>\n",
              "\t<tr><td>Male  </td><td>Married  </td><td>3321.245</td></tr>\n",
              "</tbody>\n",
              "</table>\n"
            ],
            "text/markdown": "\nA data.frame: 4 × 3\n\n| Gender &lt;chr&gt; | Marital.Status &lt;chr&gt; | avg_wt &lt;dbl&gt; |\n|---|---|---|\n| Female | Unmarried | 3137.405 |\n| Female | Married   | 3249.788 |\n| Male   | Unmarried | 3219.448 |\n| Male   | Married   | 3321.245 |\n\n",
            "text/latex": "A data.frame: 4 × 3\n\\begin{tabular}{lll}\n Gender & Marital.Status & avg\\_wt\\\\\n <chr> & <chr> & <dbl>\\\\\n\\hline\n\t Female & Unmarried & 3137.405\\\\\n\t Female & Married   & 3249.788\\\\\n\t Male   & Unmarried & 3219.448\\\\\n\t Male   & Married   & 3321.245\\\\\n\\end{tabular}\n",
            "text/plain": [
              "  Gender Marital.Status avg_wt  \n",
              "1 Female Unmarried      3137.405\n",
              "2 Female Married        3249.788\n",
              "3 Male   Unmarried      3219.448\n",
              "4 Male   Married        3321.245"
            ]
          },
          "metadata": {}
        }
      ]
    },
    {
      "cell_type": "markdown",
      "metadata": {
        "id": "hI5CBifG2fiR"
      },
      "source": [
        "## <font color=\"red\"> Exercise 6.3.1 </font>\n",
        "\n",
        "Use `group_by` and/or `summarise` to perform each of the following tasks.\n",
        "\n",
        "**Tasks:**\n",
        "\n",
        "1. Compute the overall average (`mean`) and standard deviation(`sd`) of the birth weights (`Birth.Weight.Grams`)\n",
        "1. Compute the overall average (`mean`) and standard deviation(`sd`) of the birth weights (`Birth.Weight.Grams`) for each category of mother's smoking status (`Mother.Smoker`)"
      ]
    },
    {
      "cell_type": "code",
      "execution_count": null,
      "metadata": {
        "id": "RoLUtprT2fiR"
      },
      "outputs": [],
      "source": [
        "# Your code here"
      ]
    },
    {
      "cell_type": "markdown",
      "metadata": {
        "id": "zb6wzG422fiR"
      },
      "source": [
        "## Working with a Categorical Response\n",
        "\n",
        "Similar to the deficiencies we pointed out with JMP's **Table > Summary**,\n",
        "`dplyr` makes us work when creating two way summary tables for two categorical variables."
      ]
    },
    {
      "cell_type": "markdown",
      "metadata": {
        "id": "le_9K7cF2fiS"
      },
      "source": [
        "### Getting category counts\n",
        "\n",
        "It is relatively easy to get counts for a single or combination of categorical variables using the `count` function in the pipe. Note that this function performs a grouped aggregation."
      ]
    },
    {
      "cell_type": "code",
      "source": [
        "\n",
        "(births\n",
        " %>% count(Low.Birth, Mother.Smoker)\n",
        " )"
      ],
      "metadata": {
        "id": "XKBSvSEA4qv0",
        "outputId": "c871d120-7cd1-4964-aaa5-9e32d3bf182d",
        "colab": {
          "base_uri": "https://localhost:8080/"
        }
      },
      "execution_count": 16,
      "outputs": [
        {
          "output_type": "display_data",
          "data": {
            "text/html": [
              "<table class=\"dataframe\">\n",
              "<caption>A data.frame: 6 × 3</caption>\n",
              "<thead>\n",
              "\t<tr><th scope=col>Low.Birth</th><th scope=col>Mother.Smoker</th><th scope=col>n</th></tr>\n",
              "\t<tr><th scope=col>&lt;chr&gt;</th><th scope=col>&lt;chr&gt;</th><th scope=col>&lt;int&gt;</th></tr>\n",
              "</thead>\n",
              "<tbody>\n",
              "\t<tr><td>N</td><td> </td><td>   7</td></tr>\n",
              "\t<tr><td>N</td><td>N</td><td>1615</td></tr>\n",
              "\t<tr><td>N</td><td>Y</td><td> 203</td></tr>\n",
              "\t<tr><td>Y</td><td> </td><td>   1</td></tr>\n",
              "\t<tr><td>Y</td><td>N</td><td> 146</td></tr>\n",
              "\t<tr><td>Y</td><td>Y</td><td>  28</td></tr>\n",
              "</tbody>\n",
              "</table>\n"
            ],
            "text/markdown": "\nA data.frame: 6 × 3\n\n| Low.Birth &lt;chr&gt; | Mother.Smoker &lt;chr&gt; | n &lt;int&gt; |\n|---|---|---|\n| N | <!----> |    7 |\n| N | N | 1615 |\n| N | Y |  203 |\n| Y | <!----> |    1 |\n| Y | N |  146 |\n| Y | Y |   28 |\n\n",
            "text/latex": "A data.frame: 6 × 3\n\\begin{tabular}{lll}\n Low.Birth & Mother.Smoker & n\\\\\n <chr> & <chr> & <int>\\\\\n\\hline\n\t N &   &    7\\\\\n\t N & N & 1615\\\\\n\t N & Y &  203\\\\\n\t Y &   &    1\\\\\n\t Y & N &  146\\\\\n\t Y & Y &   28\\\\\n\\end{tabular}\n",
            "text/plain": [
              "  Low.Birth Mother.Smoker n   \n",
              "1 N                          7\n",
              "2 N         N             1615\n",
              "3 N         Y              203\n",
              "4 Y                          1\n",
              "5 Y         N              146\n",
              "6 Y         Y               28"
            ]
          },
          "metadata": {}
        }
      ]
    },
    {
      "cell_type": "markdown",
      "source": [
        "Alternatively, you can use `group_by` and `summarise` along with the `n` summary function, but this is approach results in needlessly complicated code."
      ],
      "metadata": {
        "id": "YDhn5HQ85FlT"
      }
    },
    {
      "cell_type": "code",
      "source": [
        "(births\n",
        " %>% group_by(Low.Birth, Mother.Smoker)\n",
        " %>% summarize(cnt = n())\n",
        " )"
      ],
      "metadata": {
        "id": "iDHsMVQk5B2P",
        "outputId": "9f394ec7-c6cd-4f97-f64d-72577664c28b",
        "colab": {
          "base_uri": "https://localhost:8080/",
          "height": 341
        }
      },
      "execution_count": 17,
      "outputs": [
        {
          "output_type": "stream",
          "name": "stderr",
          "text": [
            "\u001b[1m\u001b[22m`summarise()` has grouped output by 'Low.Birth'. You can override using the\n",
            "`.groups` argument.\n"
          ]
        },
        {
          "output_type": "display_data",
          "data": {
            "text/html": [
              "<table class=\"dataframe\">\n",
              "<caption>A grouped_df: 6 × 3</caption>\n",
              "<thead>\n",
              "\t<tr><th scope=col>Low.Birth</th><th scope=col>Mother.Smoker</th><th scope=col>cnt</th></tr>\n",
              "\t<tr><th scope=col>&lt;chr&gt;</th><th scope=col>&lt;chr&gt;</th><th scope=col>&lt;int&gt;</th></tr>\n",
              "</thead>\n",
              "<tbody>\n",
              "\t<tr><td>N</td><td> </td><td>   7</td></tr>\n",
              "\t<tr><td>N</td><td>N</td><td>1615</td></tr>\n",
              "\t<tr><td>N</td><td>Y</td><td> 203</td></tr>\n",
              "\t<tr><td>Y</td><td> </td><td>   1</td></tr>\n",
              "\t<tr><td>Y</td><td>N</td><td> 146</td></tr>\n",
              "\t<tr><td>Y</td><td>Y</td><td>  28</td></tr>\n",
              "</tbody>\n",
              "</table>\n"
            ],
            "text/markdown": "\nA grouped_df: 6 × 3\n\n| Low.Birth &lt;chr&gt; | Mother.Smoker &lt;chr&gt; | cnt &lt;int&gt; |\n|---|---|---|\n| N | <!----> |    7 |\n| N | N | 1615 |\n| N | Y |  203 |\n| Y | <!----> |    1 |\n| Y | N |  146 |\n| Y | Y |   28 |\n\n",
            "text/latex": "A grouped\\_df: 6 × 3\n\\begin{tabular}{lll}\n Low.Birth & Mother.Smoker & cnt\\\\\n <chr> & <chr> & <int>\\\\\n\\hline\n\t N &   &    7\\\\\n\t N & N & 1615\\\\\n\t N & Y &  203\\\\\n\t Y &   &    1\\\\\n\t Y & N &  146\\\\\n\t Y & Y &   28\\\\\n\\end{tabular}\n",
            "text/plain": [
              "  Low.Birth Mother.Smoker cnt \n",
              "1 N                          7\n",
              "2 N         N             1615\n",
              "3 N         Y              203\n",
              "4 Y                          1\n",
              "5 Y         N              146\n",
              "6 Y         Y               28"
            ]
          },
          "metadata": {}
        }
      ]
    },
    {
      "cell_type": "markdown",
      "metadata": {
        "id": "AEiZ5OPx2fiS"
      },
      "source": [
        "### Creating a two-way table with counts and row percents\n",
        "\n",
        "Suppose that we want to summarize the relationship between an explanatory variable (Mother Smoker) and a response variable (Low Birth) in the usual way (explanatory variable in rows, summaries for the response variables in columns.  We can accomplish this by performing the following steps.\n",
        "\n",
        "1. Determine all unique categories\n",
        "2. Make indicator columns for each response category\n",
        "3. Group by the explanatory variable and aggregate the response to get the counts by summing\n",
        "4. Compute the row percents using the resulting counts"
      ]
    },
    {
      "cell_type": "markdown",
      "metadata": {
        "id": "DX28dCDA2fiS"
      },
      "source": [
        "#### Step 1A - Determine the categories of the variables"
      ]
    },
    {
      "cell_type": "code",
      "source": [
        "births$Low.Birth %>% unique"
      ],
      "metadata": {
        "id": "ty4ugwO45lww",
        "outputId": "5f81af70-5b8d-469d-a57a-4170fc3e0cfa",
        "colab": {
          "base_uri": "https://localhost:8080/",
          "height": 55
        }
      },
      "execution_count": 19,
      "outputs": [
        {
          "output_type": "display_data",
          "data": {
            "text/html": [
              "<style>\n",
              ".list-inline {list-style: none; margin:0; padding: 0}\n",
              ".list-inline>li {display: inline-block}\n",
              ".list-inline>li:not(:last-child)::after {content: \"\\00b7\"; padding: 0 .5ex}\n",
              "</style>\n",
              "<ol class=list-inline><li>'N'</li><li>'Y'</li></ol>\n"
            ],
            "text/markdown": "1. 'N'\n2. 'Y'\n\n\n",
            "text/latex": "\\begin{enumerate*}\n\\item 'N'\n\\item 'Y'\n\\end{enumerate*}\n",
            "text/plain": [
              "[1] \"N\" \"Y\""
            ]
          },
          "metadata": {}
        }
      ]
    },
    {
      "cell_type": "code",
      "source": [
        "births$Mother.Smoker %>% unique"
      ],
      "metadata": {
        "id": "Z0U7usuE5rpC",
        "outputId": "240f4531-fb23-423d-d2d3-35c80bd74d65",
        "colab": {
          "base_uri": "https://localhost:8080/",
          "height": 55
        }
      },
      "execution_count": 21,
      "outputs": [
        {
          "output_type": "display_data",
          "data": {
            "text/html": [
              "<style>\n",
              ".list-inline {list-style: none; margin:0; padding: 0}\n",
              ".list-inline>li {display: inline-block}\n",
              ".list-inline>li:not(:last-child)::after {content: \"\\00b7\"; padding: 0 .5ex}\n",
              "</style>\n",
              "<ol class=list-inline><li>'N'</li><li>'Y'</li><li>''</li></ol>\n"
            ],
            "text/markdown": "1. 'N'\n2. 'Y'\n3. ''\n\n\n",
            "text/latex": "\\begin{enumerate*}\n\\item 'N'\n\\item 'Y'\n\\item ''\n\\end{enumerate*}\n",
            "text/plain": [
              "[1] \"N\" \"Y\" \"\" "
            ]
          },
          "metadata": {}
        }
      ]
    },
    {
      "cell_type": "markdown",
      "metadata": {
        "id": "T8WsKA0A2fiT"
      },
      "source": [
        "#### Step 2A - Create indicator columns for each category of the response variable."
      ]
    },
    {
      "cell_type": "code",
      "execution_count": 24,
      "metadata": {
        "id": "K_Z6txwv2fiT",
        "outputId": "6f39fee0-5dd9-4e4a-cebf-a3b5768289ac",
        "colab": {
          "base_uri": "https://localhost:8080/",
          "height": 306
        }
      },
      "outputs": [
        {
          "output_type": "display_data",
          "data": {
            "text/html": [
              "<table class=\"dataframe\">\n",
              "<caption>A data.frame: 6 × 4</caption>\n",
              "<thead>\n",
              "\t<tr><th></th><th scope=col>Mother.Smoker</th><th scope=col>Low.Birth</th><th scope=col>low_birth</th><th scope=col>not_low_birth</th></tr>\n",
              "\t<tr><th></th><th scope=col>&lt;chr&gt;</th><th scope=col>&lt;chr&gt;</th><th scope=col>&lt;dbl&gt;</th><th scope=col>&lt;dbl&gt;</th></tr>\n",
              "</thead>\n",
              "<tbody>\n",
              "\t<tr><th scope=row>1</th><td>N</td><td>N</td><td>0</td><td>1</td></tr>\n",
              "\t<tr><th scope=row>2</th><td>Y</td><td>N</td><td>0</td><td>1</td></tr>\n",
              "\t<tr><th scope=row>3</th><td>N</td><td>N</td><td>0</td><td>1</td></tr>\n",
              "\t<tr><th scope=row>4</th><td>N</td><td>N</td><td>0</td><td>1</td></tr>\n",
              "\t<tr><th scope=row>5</th><td>N</td><td>N</td><td>0</td><td>1</td></tr>\n",
              "\t<tr><th scope=row>6</th><td>N</td><td>N</td><td>0</td><td>1</td></tr>\n",
              "</tbody>\n",
              "</table>\n"
            ],
            "text/markdown": "\nA data.frame: 6 × 4\n\n| <!--/--> | Mother.Smoker &lt;chr&gt; | Low.Birth &lt;chr&gt; | low_birth &lt;dbl&gt; | not_low_birth &lt;dbl&gt; |\n|---|---|---|---|---|\n| 1 | N | N | 0 | 1 |\n| 2 | Y | N | 0 | 1 |\n| 3 | N | N | 0 | 1 |\n| 4 | N | N | 0 | 1 |\n| 5 | N | N | 0 | 1 |\n| 6 | N | N | 0 | 1 |\n\n",
            "text/latex": "A data.frame: 6 × 4\n\\begin{tabular}{r|llll}\n  & Mother.Smoker & Low.Birth & low\\_birth & not\\_low\\_birth\\\\\n  & <chr> & <chr> & <dbl> & <dbl>\\\\\n\\hline\n\t1 & N & N & 0 & 1\\\\\n\t2 & Y & N & 0 & 1\\\\\n\t3 & N & N & 0 & 1\\\\\n\t4 & N & N & 0 & 1\\\\\n\t5 & N & N & 0 & 1\\\\\n\t6 & N & N & 0 & 1\\\\\n\\end{tabular}\n",
            "text/plain": [
              "  Mother.Smoker Low.Birth low_birth not_low_birth\n",
              "1 N             N         0         1            \n",
              "2 Y             N         0         1            \n",
              "3 N             N         0         1            \n",
              "4 N             N         0         1            \n",
              "5 N             N         0         1            \n",
              "6 N             N         0         1            "
            ]
          },
          "metadata": {}
        }
      ],
      "source": [
        "(births\n",
        " %>% select(Mother.Smoker, Low.Birth) # Temp. for convenience\n",
        " %>% mutate(low_birth = ifelse(Low.Birth=='Y',1,0),\n",
        "            not_low_birth = ifelse(Low.Birth=='N',1,0)) # Indicators for the column labels\n",
        " %>% head # Temp. for convenience\n",
        ")"
      ]
    },
    {
      "cell_type": "markdown",
      "metadata": {
        "id": "-xnkq1o82fiT"
      },
      "source": [
        "#### Step 3 - Compute the `sum` of each indicator"
      ]
    },
    {
      "cell_type": "code",
      "execution_count": 25,
      "metadata": {
        "id": "sgbFe42h2fiU",
        "outputId": "bc218d7b-1bb8-4e1a-8829-e205710ea241",
        "colab": {
          "base_uri": "https://localhost:8080/",
          "height": 212
        }
      },
      "outputs": [
        {
          "output_type": "display_data",
          "data": {
            "text/html": [
              "<table class=\"dataframe\">\n",
              "<caption>A tibble: 3 × 3</caption>\n",
              "<thead>\n",
              "\t<tr><th scope=col>Mother.Smoker</th><th scope=col>total_low_birth</th><th scope=col>total_not_low_birth</th></tr>\n",
              "\t<tr><th scope=col>&lt;chr&gt;</th><th scope=col>&lt;dbl&gt;</th><th scope=col>&lt;dbl&gt;</th></tr>\n",
              "</thead>\n",
              "<tbody>\n",
              "\t<tr><td> </td><td>  1</td><td>   7</td></tr>\n",
              "\t<tr><td>N</td><td>146</td><td>1615</td></tr>\n",
              "\t<tr><td>Y</td><td> 28</td><td> 203</td></tr>\n",
              "</tbody>\n",
              "</table>\n"
            ],
            "text/markdown": "\nA tibble: 3 × 3\n\n| Mother.Smoker &lt;chr&gt; | total_low_birth &lt;dbl&gt; | total_not_low_birth &lt;dbl&gt; |\n|---|---|---|\n| <!----> |   1 |    7 |\n| N | 146 | 1615 |\n| Y |  28 |  203 |\n\n",
            "text/latex": "A tibble: 3 × 3\n\\begin{tabular}{lll}\n Mother.Smoker & total\\_low\\_birth & total\\_not\\_low\\_birth\\\\\n <chr> & <dbl> & <dbl>\\\\\n\\hline\n\t   &   1 &    7\\\\\n\t N & 146 & 1615\\\\\n\t Y &  28 &  203\\\\\n\\end{tabular}\n",
            "text/plain": [
              "  Mother.Smoker total_low_birth total_not_low_birth\n",
              "1                 1                7               \n",
              "2 N             146             1615               \n",
              "3 Y              28              203               "
            ]
          },
          "metadata": {}
        }
      ],
      "source": [
        "(births\n",
        " %>% mutate(low_birth = ifelse(Low.Birth=='Y',1,0),\n",
        "            not_low_birth = ifelse(Low.Birth=='N',1,0))\n",
        " %>% group_by(Mother.Smoker) # Group by the row labels\n",
        " %>% summarise(total_low_birth = sum(low_birth),\n",
        "               total_not_low_birth = sum(not_low_birth))\n",
        ")"
      ]
    },
    {
      "cell_type": "markdown",
      "metadata": {
        "id": "aZTRO6eb2fiU"
      },
      "source": [
        "#### Step 4 - Compute the row percents"
      ]
    },
    {
      "cell_type": "code",
      "execution_count": 26,
      "metadata": {
        "id": "4J1CmqLZ2fiU",
        "outputId": "c1784ee7-a6e7-46a6-a106-3f569b2211b7",
        "colab": {
          "base_uri": "https://localhost:8080/",
          "height": 212
        }
      },
      "outputs": [
        {
          "output_type": "display_data",
          "data": {
            "text/html": [
              "<table class=\"dataframe\">\n",
              "<caption>A tibble: 3 × 5</caption>\n",
              "<thead>\n",
              "\t<tr><th scope=col>Mother.Smoker</th><th scope=col>total_low_birth</th><th scope=col>total_not_low_birth</th><th scope=col>percent_low_birth</th><th scope=col>percent_not_low_birth</th></tr>\n",
              "\t<tr><th scope=col>&lt;chr&gt;</th><th scope=col>&lt;dbl&gt;</th><th scope=col>&lt;dbl&gt;</th><th scope=col>&lt;dbl&gt;</th><th scope=col>&lt;dbl&gt;</th></tr>\n",
              "</thead>\n",
              "<tbody>\n",
              "\t<tr><td> </td><td>  1</td><td>   7</td><td>12.5</td><td>87.5</td></tr>\n",
              "\t<tr><td>N</td><td>146</td><td>1615</td><td> 8.3</td><td>91.7</td></tr>\n",
              "\t<tr><td>Y</td><td> 28</td><td> 203</td><td>12.1</td><td>87.9</td></tr>\n",
              "</tbody>\n",
              "</table>\n"
            ],
            "text/markdown": "\nA tibble: 3 × 5\n\n| Mother.Smoker &lt;chr&gt; | total_low_birth &lt;dbl&gt; | total_not_low_birth &lt;dbl&gt; | percent_low_birth &lt;dbl&gt; | percent_not_low_birth &lt;dbl&gt; |\n|---|---|---|---|---|\n| <!----> |   1 |    7 | 12.5 | 87.5 |\n| N | 146 | 1615 |  8.3 | 91.7 |\n| Y |  28 |  203 | 12.1 | 87.9 |\n\n",
            "text/latex": "A tibble: 3 × 5\n\\begin{tabular}{lllll}\n Mother.Smoker & total\\_low\\_birth & total\\_not\\_low\\_birth & percent\\_low\\_birth & percent\\_not\\_low\\_birth\\\\\n <chr> & <dbl> & <dbl> & <dbl> & <dbl>\\\\\n\\hline\n\t   &   1 &    7 & 12.5 & 87.5\\\\\n\t N & 146 & 1615 &  8.3 & 91.7\\\\\n\t Y &  28 &  203 & 12.1 & 87.9\\\\\n\\end{tabular}\n",
            "text/plain": [
              "  Mother.Smoker total_low_birth total_not_low_birth percent_low_birth\n",
              "1                 1                7                12.5             \n",
              "2 N             146             1615                 8.3             \n",
              "3 Y              28              203                12.1             \n",
              "  percent_not_low_birth\n",
              "1 87.5                 \n",
              "2 91.7                 \n",
              "3 87.9                 "
            ]
          },
          "metadata": {}
        }
      ],
      "source": [
        "(births\n",
        " %>% mutate(low_birth = ifelse(Low.Birth=='Y',1,0),\n",
        "            not_low_birth = ifelse(Low.Birth=='N',1,0))\n",
        " %>% group_by(Mother.Smoker)\n",
        " %>% summarise(total_low_birth = sum(low_birth),\n",
        "               total_not_low_birth = sum(not_low_birth))\n",
        " %>% mutate(percent_low_birth = round(total_low_birth/(total_low_birth + total_not_low_birth)*100, 1),\n",
        "            percent_not_low_birth = round(total_not_low_birth/(total_low_birth + total_not_low_birth)*100, 1))\n",
        ")"
      ]
    },
    {
      "cell_type": "markdown",
      "metadata": {
        "id": "7dZz61nS2fiU"
      },
      "source": [
        "#### [Optional] Step 5 - Make `NA` more readable"
      ]
    },
    {
      "cell_type": "code",
      "execution_count": 27,
      "metadata": {
        "id": "EsXRH8sU2fiU",
        "outputId": "bcea21f0-542a-4e0c-aa6a-c5b448ad8cab",
        "colab": {
          "base_uri": "https://localhost:8080/",
          "height": 212
        }
      },
      "outputs": [
        {
          "output_type": "display_data",
          "data": {
            "text/html": [
              "<table class=\"dataframe\">\n",
              "<caption>A tibble: 3 × 5</caption>\n",
              "<thead>\n",
              "\t<tr><th scope=col>Mother.Smoker</th><th scope=col>total_low_birth</th><th scope=col>total_not_low_birth</th><th scope=col>percent_low_birth</th><th scope=col>percent_not_low_birth</th></tr>\n",
              "\t<tr><th scope=col>&lt;chr&gt;</th><th scope=col>&lt;dbl&gt;</th><th scope=col>&lt;dbl&gt;</th><th scope=col>&lt;dbl&gt;</th><th scope=col>&lt;dbl&gt;</th></tr>\n",
              "</thead>\n",
              "<tbody>\n",
              "\t<tr><td>Unknown</td><td>  1</td><td>   7</td><td>12.5</td><td>87.5</td></tr>\n",
              "\t<tr><td>N      </td><td>146</td><td>1615</td><td> 8.3</td><td>91.7</td></tr>\n",
              "\t<tr><td>Y      </td><td> 28</td><td> 203</td><td>12.1</td><td>87.9</td></tr>\n",
              "</tbody>\n",
              "</table>\n"
            ],
            "text/markdown": "\nA tibble: 3 × 5\n\n| Mother.Smoker &lt;chr&gt; | total_low_birth &lt;dbl&gt; | total_not_low_birth &lt;dbl&gt; | percent_low_birth &lt;dbl&gt; | percent_not_low_birth &lt;dbl&gt; |\n|---|---|---|---|---|\n| Unknown |   1 |    7 | 12.5 | 87.5 |\n| N       | 146 | 1615 |  8.3 | 91.7 |\n| Y       |  28 |  203 | 12.1 | 87.9 |\n\n",
            "text/latex": "A tibble: 3 × 5\n\\begin{tabular}{lllll}\n Mother.Smoker & total\\_low\\_birth & total\\_not\\_low\\_birth & percent\\_low\\_birth & percent\\_not\\_low\\_birth\\\\\n <chr> & <dbl> & <dbl> & <dbl> & <dbl>\\\\\n\\hline\n\t Unknown &   1 &    7 & 12.5 & 87.5\\\\\n\t N       & 146 & 1615 &  8.3 & 91.7\\\\\n\t Y       &  28 &  203 & 12.1 & 87.9\\\\\n\\end{tabular}\n",
            "text/plain": [
              "  Mother.Smoker total_low_birth total_not_low_birth percent_low_birth\n",
              "1 Unknown         1                7                12.5             \n",
              "2 N             146             1615                 8.3             \n",
              "3 Y              28              203                12.1             \n",
              "  percent_not_low_birth\n",
              "1 87.5                 \n",
              "2 91.7                 \n",
              "3 87.9                 "
            ]
          },
          "metadata": {}
        }
      ],
      "source": [
        "(births\n",
        " %>% mutate(low_birth = ifelse(Low.Birth=='Y',1,0),\n",
        "            not_low_birth = ifelse(Low.Birth=='N',1,0))\n",
        " %>% group_by(Mother.Smoker)\n",
        " %>% summarise(total_low_birth = sum(low_birth),\n",
        "               total_not_low_birth = sum(not_low_birth))\n",
        " %>% mutate(percent_low_birth = round(total_low_birth/(total_low_birth + total_not_low_birth)*100, 1),\n",
        "            percent_not_low_birth = round(total_not_low_birth/(total_low_birth + total_not_low_birth)*100, 1),\n",
        "            Mother.Smoker = recode(Mother.Smoker,\n",
        "                                   `Y` = 'Y',\n",
        "                                   `N` = 'N',\n",
        "                                   .default = \"Unknown\"))\n",
        ")"
      ]
    },
    {
      "cell_type": "markdown",
      "metadata": {
        "id": "qWTn11zr2fiU"
      },
      "source": [
        "## <font color=\"red\"> Exercise 6.3.2 </font>\n",
        "\n",
        "Use `group_by` and/or `summarise` to perform each of the following tasks.\n",
        "\n",
        "**Tasks:**\n",
        "\n",
        "1. Compute the counts (`n()`) for each category of the [Kotelchuck index](https://www-doh.state.nj.us/doh-shad/query/Kotelchuck.html) (`Kotelchuck.Index`)\n",
        "2. Compute the counts and row percents when the explanatory variable is the Kotelchuck index (`Kotelchuck.Index`) and the response variable is whether or not there was a low birth weight (`Low.Birth`)"
      ]
    },
    {
      "cell_type": "code",
      "execution_count": null,
      "metadata": {
        "id": "jzLbQJ462fiU"
      },
      "outputs": [],
      "source": [
        "# Your code here"
      ]
    },
    {
      "cell_type": "markdown",
      "metadata": {
        "id": "XVhN43Cv2fiU"
      },
      "source": [
        "***A mutate-group-aggregate-filter (note \"\" != NA):***"
      ]
    },
    {
      "cell_type": "code",
      "execution_count": 28,
      "metadata": {
        "id": "6nsepFJD2fiU",
        "outputId": "f4590b6c-db4b-4588-a0ff-7d72366bc624",
        "colab": {
          "base_uri": "https://localhost:8080/",
          "height": 306
        }
      },
      "outputs": [
        {
          "output_type": "display_data",
          "data": {
            "text/html": [
              "<table class=\"dataframe\">\n",
              "<caption>A data.frame: 6 × 13</caption>\n",
              "<thead>\n",
              "\t<tr><th></th><th scope=col>record_id</th><th scope=col>month</th><th scope=col>day</th><th scope=col>year</th><th scope=col>plot_id</th><th scope=col>species_id</th><th scope=col>sex</th><th scope=col>hindfoot_length</th><th scope=col>weight</th><th scope=col>genus</th><th scope=col>species</th><th scope=col>taxa</th><th scope=col>plot_type</th></tr>\n",
              "\t<tr><th></th><th scope=col>&lt;int&gt;</th><th scope=col>&lt;int&gt;</th><th scope=col>&lt;int&gt;</th><th scope=col>&lt;int&gt;</th><th scope=col>&lt;int&gt;</th><th scope=col>&lt;chr&gt;</th><th scope=col>&lt;chr&gt;</th><th scope=col>&lt;int&gt;</th><th scope=col>&lt;int&gt;</th><th scope=col>&lt;chr&gt;</th><th scope=col>&lt;chr&gt;</th><th scope=col>&lt;chr&gt;</th><th scope=col>&lt;chr&gt;</th></tr>\n",
              "</thead>\n",
              "<tbody>\n",
              "\t<tr><th scope=row>1</th><td>  1</td><td> 7</td><td>16</td><td>1977</td><td>2</td><td>NL</td><td>M</td><td>32</td><td>NA</td><td>Neotoma</td><td>albigula</td><td>Rodent</td><td>Control</td></tr>\n",
              "\t<tr><th scope=row>2</th><td> 72</td><td> 8</td><td>19</td><td>1977</td><td>2</td><td>NL</td><td>M</td><td>31</td><td>NA</td><td>Neotoma</td><td>albigula</td><td>Rodent</td><td>Control</td></tr>\n",
              "\t<tr><th scope=row>3</th><td>224</td><td> 9</td><td>13</td><td>1977</td><td>2</td><td>NL</td><td> </td><td>NA</td><td>NA</td><td>Neotoma</td><td>albigula</td><td>Rodent</td><td>Control</td></tr>\n",
              "\t<tr><th scope=row>4</th><td>266</td><td>10</td><td>16</td><td>1977</td><td>2</td><td>NL</td><td> </td><td>NA</td><td>NA</td><td>Neotoma</td><td>albigula</td><td>Rodent</td><td>Control</td></tr>\n",
              "\t<tr><th scope=row>5</th><td>349</td><td>11</td><td>12</td><td>1977</td><td>2</td><td>NL</td><td> </td><td>NA</td><td>NA</td><td>Neotoma</td><td>albigula</td><td>Rodent</td><td>Control</td></tr>\n",
              "\t<tr><th scope=row>6</th><td>363</td><td>11</td><td>12</td><td>1977</td><td>2</td><td>NL</td><td> </td><td>NA</td><td>NA</td><td>Neotoma</td><td>albigula</td><td>Rodent</td><td>Control</td></tr>\n",
              "</tbody>\n",
              "</table>\n"
            ],
            "text/markdown": "\nA data.frame: 6 × 13\n\n| <!--/--> | record_id &lt;int&gt; | month &lt;int&gt; | day &lt;int&gt; | year &lt;int&gt; | plot_id &lt;int&gt; | species_id &lt;chr&gt; | sex &lt;chr&gt; | hindfoot_length &lt;int&gt; | weight &lt;int&gt; | genus &lt;chr&gt; | species &lt;chr&gt; | taxa &lt;chr&gt; | plot_type &lt;chr&gt; |\n|---|---|---|---|---|---|---|---|---|---|---|---|---|---|\n| 1 |   1 |  7 | 16 | 1977 | 2 | NL | M | 32 | NA | Neotoma | albigula | Rodent | Control |\n| 2 |  72 |  8 | 19 | 1977 | 2 | NL | M | 31 | NA | Neotoma | albigula | Rodent | Control |\n| 3 | 224 |  9 | 13 | 1977 | 2 | NL | <!----> | NA | NA | Neotoma | albigula | Rodent | Control |\n| 4 | 266 | 10 | 16 | 1977 | 2 | NL | <!----> | NA | NA | Neotoma | albigula | Rodent | Control |\n| 5 | 349 | 11 | 12 | 1977 | 2 | NL | <!----> | NA | NA | Neotoma | albigula | Rodent | Control |\n| 6 | 363 | 11 | 12 | 1977 | 2 | NL | <!----> | NA | NA | Neotoma | albigula | Rodent | Control |\n\n",
            "text/latex": "A data.frame: 6 × 13\n\\begin{tabular}{r|lllllllllllll}\n  & record\\_id & month & day & year & plot\\_id & species\\_id & sex & hindfoot\\_length & weight & genus & species & taxa & plot\\_type\\\\\n  & <int> & <int> & <int> & <int> & <int> & <chr> & <chr> & <int> & <int> & <chr> & <chr> & <chr> & <chr>\\\\\n\\hline\n\t1 &   1 &  7 & 16 & 1977 & 2 & NL & M & 32 & NA & Neotoma & albigula & Rodent & Control\\\\\n\t2 &  72 &  8 & 19 & 1977 & 2 & NL & M & 31 & NA & Neotoma & albigula & Rodent & Control\\\\\n\t3 & 224 &  9 & 13 & 1977 & 2 & NL &   & NA & NA & Neotoma & albigula & Rodent & Control\\\\\n\t4 & 266 & 10 & 16 & 1977 & 2 & NL &   & NA & NA & Neotoma & albigula & Rodent & Control\\\\\n\t5 & 349 & 11 & 12 & 1977 & 2 & NL &   & NA & NA & Neotoma & albigula & Rodent & Control\\\\\n\t6 & 363 & 11 & 12 & 1977 & 2 & NL &   & NA & NA & Neotoma & albigula & Rodent & Control\\\\\n\\end{tabular}\n",
            "text/plain": [
              "  record_id month day year plot_id species_id sex hindfoot_length weight\n",
              "1   1        7    16  1977 2       NL         M   32              NA    \n",
              "2  72        8    19  1977 2       NL         M   31              NA    \n",
              "3 224        9    13  1977 2       NL             NA              NA    \n",
              "4 266       10    16  1977 2       NL             NA              NA    \n",
              "5 349       11    12  1977 2       NL             NA              NA    \n",
              "6 363       11    12  1977 2       NL             NA              NA    \n",
              "  genus   species  taxa   plot_type\n",
              "1 Neotoma albigula Rodent Control  \n",
              "2 Neotoma albigula Rodent Control  \n",
              "3 Neotoma albigula Rodent Control  \n",
              "4 Neotoma albigula Rodent Control  \n",
              "5 Neotoma albigula Rodent Control  \n",
              "6 Neotoma albigula Rodent Control  "
            ]
          },
          "metadata": {}
        }
      ],
      "source": [
        "surveys <- read.csv('https://github.com/WSU-DataScience/DSCI_210_R_notebooks/raw/main/data/portal_data_joined.csv')\n",
        "head(surveys)"
      ]
    },
    {
      "cell_type": "code",
      "source": [
        "surveys$taxa %>% unique"
      ],
      "metadata": {
        "id": "SYwSwosH7e3q",
        "outputId": "aef79742-4ee4-42a2-b112-bc2bf6981693",
        "colab": {
          "base_uri": "https://localhost:8080/",
          "height": 55
        }
      },
      "execution_count": 39,
      "outputs": [
        {
          "output_type": "display_data",
          "data": {
            "text/html": [
              "<style>\n",
              ".list-inline {list-style: none; margin:0; padding: 0}\n",
              ".list-inline>li {display: inline-block}\n",
              ".list-inline>li:not(:last-child)::after {content: \"\\00b7\"; padding: 0 .5ex}\n",
              "</style>\n",
              "<ol class=list-inline><li>'Rodent'</li><li>'Rabbit'</li><li>'Bird'</li><li>'Reptile'</li></ol>\n"
            ],
            "text/markdown": "1. 'Rodent'\n2. 'Rabbit'\n3. 'Bird'\n4. 'Reptile'\n\n\n",
            "text/latex": "\\begin{enumerate*}\n\\item 'Rodent'\n\\item 'Rabbit'\n\\item 'Bird'\n\\item 'Reptile'\n\\end{enumerate*}\n",
            "text/plain": [
              "[1] \"Rodent\"  \"Rabbit\"  \"Bird\"    \"Reptile\""
            ]
          },
          "metadata": {}
        }
      ]
    },
    {
      "cell_type": "code",
      "execution_count": 40,
      "metadata": {
        "id": "KSvdV2bF2fiV",
        "outputId": "7ec614fd-85a3-4536-a0d3-76dc3a411c5c",
        "colab": {
          "base_uri": "https://localhost:8080/",
          "height": 216
        }
      },
      "outputs": [
        {
          "output_type": "stream",
          "name": "stderr",
          "text": [
            "\u001b[1m\u001b[22m`summarise()` has grouped output by 'rodent'. You can override using the\n",
            "`.groups` argument.\n"
          ]
        },
        {
          "output_type": "display_data",
          "data": {
            "text/html": [
              "<table class=\"dataframe\">\n",
              "<caption>A grouped_df: 2 × 4</caption>\n",
              "<thead>\n",
              "\t<tr><th scope=col>rodent</th><th scope=col>sex</th><th scope=col>cnt</th><th scope=col>avg_wt</th></tr>\n",
              "\t<tr><th scope=col>&lt;chr&gt;</th><th scope=col>&lt;chr&gt;</th><th scope=col>&lt;int&gt;</th><th scope=col>&lt;dbl&gt;</th></tr>\n",
              "</thead>\n",
              "<tbody>\n",
              "\t<tr><td>yes</td><td>F</td><td>15690</td><td>42.17055</td></tr>\n",
              "\t<tr><td>yes</td><td>M</td><td>17348</td><td>42.99538</td></tr>\n",
              "</tbody>\n",
              "</table>\n"
            ],
            "text/markdown": "\nA grouped_df: 2 × 4\n\n| rodent &lt;chr&gt; | sex &lt;chr&gt; | cnt &lt;int&gt; | avg_wt &lt;dbl&gt; |\n|---|---|---|---|\n| yes | F | 15690 | 42.17055 |\n| yes | M | 17348 | 42.99538 |\n\n",
            "text/latex": "A grouped\\_df: 2 × 4\n\\begin{tabular}{llll}\n rodent & sex & cnt & avg\\_wt\\\\\n <chr> & <chr> & <int> & <dbl>\\\\\n\\hline\n\t yes & F & 15690 & 42.17055\\\\\n\t yes & M & 17348 & 42.99538\\\\\n\\end{tabular}\n",
            "text/plain": [
              "  rodent sex cnt   avg_wt  \n",
              "1 yes    F   15690 42.17055\n",
              "2 yes    M   17348 42.99538"
            ]
          },
          "metadata": {}
        }
      ],
      "source": [
        "surveys %>%\n",
        "  mutate(rodent = ifelse(taxa=='Rodent','yes','no')) %>%\n",
        "  group_by(rodent, sex) %>%\n",
        "  summarize(cnt = n(), avg_wt = mean(weight,na.rm=TRUE)) %>%\n",
        "  filter(sex!=\"\")"
      ]
    },
    {
      "cell_type": "markdown",
      "metadata": {
        "id": "Le0oq0vw2fiV"
      },
      "source": [
        "# Translating JMP to `dplyr/tidyr`"
      ]
    },
    {
      "cell_type": "markdown",
      "metadata": {
        "id": "P8oz_a582fiV"
      },
      "source": [
        "### Simple Aggregations"
      ]
    },
    {
      "cell_type": "markdown",
      "metadata": {
        "id": "UTQyt41A2fiW"
      },
      "source": [
        "```{r}\n",
        "surveys %>%\n",
        "  summarize(\n",
        "    avg_wgt = mean(weight,\n",
        "                   na.rm = TRUE))\n",
        "```"
      ]
    },
    {
      "cell_type": "markdown",
      "metadata": {
        "id": "ZQWQiy4r2fiW"
      },
      "source": [
        "<img width=\"850\" src=\"https://raw.githubusercontent.com/WSU-DataScience/DSCI_210_R_notebooks/main/img/simple_aggregation_1.png\">"
      ]
    },
    {
      "cell_type": "markdown",
      "metadata": {
        "id": "oGIKNiqk2fiW"
      },
      "source": [
        "<img width=\"850\" src=\"https://raw.githubusercontent.com/WSU-DataScience/DSCI_210_R_notebooks/main/img/simple_aggregation_2.png\">"
      ]
    },
    {
      "cell_type": "markdown",
      "metadata": {
        "id": "Il017A0e2fiW"
      },
      "source": [
        "### Group and Aggregate"
      ]
    },
    {
      "cell_type": "markdown",
      "metadata": {
        "id": "yy_KTwzu2fiX"
      },
      "source": [
        "```{r}\n",
        "grp_agg <-\n",
        "  surveys %>%\n",
        "    group_by(taxa) %>%\n",
        "    summarize(avg = mean(weight, na.rm = TRUE))\n",
        "grp_agg\n",
        "```"
      ]
    },
    {
      "cell_type": "markdown",
      "metadata": {
        "id": "OiiEuhk32fiX"
      },
      "source": [
        "<img width=\"850\" src=\"https://raw.githubusercontent.com/WSU-DataScience/DSCI_210_R_notebooks/main/img/group_and_aggregate_0.png\">"
      ]
    },
    {
      "cell_type": "markdown",
      "metadata": {
        "id": "5aguw6ID2fiX"
      },
      "source": [
        "<img width=\"850\" src=\"https://raw.githubusercontent.com/WSU-DataScience/DSCI_210_R_notebooks/main/img/group_and_aggregate_1.png\">"
      ]
    },
    {
      "cell_type": "markdown",
      "metadata": {
        "id": "gQgT_cW12fiX"
      },
      "source": [
        "<img width=\"850\" src=\"https://raw.githubusercontent.com/WSU-DataScience/DSCI_210_R_notebooks/main/img/group_and_aggregate_2.png\">"
      ]
    },
    {
      "cell_type": "markdown",
      "metadata": {
        "id": "hDIbz-Jr2fiX"
      },
      "source": [
        "### Multiple Group Variables\n",
        "\n",
        "<img width=\"850\" src=\"https://raw.githubusercontent.com/WSU-DataScience/DSCI_210_R_notebooks/main/img/grp2_agg.PNG\">"
      ]
    }
  ],
  "metadata": {
    "kernelspec": {
      "display_name": "R",
      "language": "R",
      "name": "ir"
    },
    "language_info": {
      "codemirror_mode": "r",
      "file_extension": ".r",
      "mimetype": "text/x-r-source",
      "name": "R",
      "pygments_lexer": "r",
      "version": "3.5.1"
    },
    "colab": {
      "provenance": [],
      "include_colab_link": true
    }
  },
  "nbformat": 4,
  "nbformat_minor": 0
}