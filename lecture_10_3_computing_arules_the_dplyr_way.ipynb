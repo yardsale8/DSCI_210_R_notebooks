{
  "cells": [
    {
      "cell_type": "markdown",
      "metadata": {
        "id": "view-in-github",
        "colab_type": "text"
      },
      "source": [
        "<a href=\"https://colab.research.google.com/github/yardsale8/DSCI_210_R_notebooks/blob/main/lecture_10_3_computing_arules_the_dplyr_way.ipynb\" target=\"_parent\"><img src=\"https://colab.research.google.com/assets/colab-badge.svg\" alt=\"Open In Colab\"/></a>"
      ]
    },
    {
      "cell_type": "markdown",
      "metadata": {
        "id": "kZ0WKKMLBFWy"
      },
      "source": [
        "# Computing Association Rules with `dplyr`"
      ]
    },
    {
      "cell_type": "markdown",
      "metadata": {
        "id": "Fx4yBRn4BFW2"
      },
      "source": [
        "### Review - Association Rules\n",
        "\n",
        "Consider the rule $\\{butter\\} \\rightarrow \\{whole.milk\\}$\n",
        "\n",
        "  * $Support(\\textrm{butter and milk}) = \\frac{\\textrm{# butter and milk transactions}}{\\textrm{# total transactions}}$\n",
        "  * $Support(\\textrm{butter}) = \\frac{\\textrm{# butter transactions}}{\\textrm{#\n",
        "  total transactions}}$\n",
        "  * $Confidence= \\frac{Support(\\textrm{butter and milk})}{Support(\\textrm{butter})}$\n",
        "  * $Lift= \\frac{Confidence}{Support(\\textrm{milk})}$\n",
        "  "
      ]
    },
    {
      "cell_type": "markdown",
      "metadata": {
        "id": "p8uGQHuhBFW2"
      },
      "source": [
        "### Small example:  Compute the confidence and lift of {bread} -> {milk}\n",
        "\n",
        "\n",
        "<img width=\"350\" src=\"https://github.com/yardsale8/DSCI_210_R_notebooks/blob/main/img/small_example.png?raw=1\">\n",
        "\n",
        "\n",
        "Use `dyplr` to:  \n",
        "\n",
        "  * mutate to compute joint transactions\n",
        "  * summarize to compute counts and percents\n",
        "  "
      ]
    },
    {
      "cell_type": "markdown",
      "metadata": {
        "id": "WinasRzNBFW3"
      },
      "source": [
        "### New example: investigate rule $\\{butter\\} \\longrightarrow \\{milk\\}$ with `dplyr`\n",
        "  "
      ]
    },
    {
      "cell_type": "code",
      "execution_count": 1,
      "metadata": {
        "colab": {
          "base_uri": "https://localhost:8080/",
          "height": 306
        },
        "id": "V7ieY1q6BFW3",
        "outputId": "b65704bb-c9e4-4663-ab70-8068426156b5"
      },
      "outputs": [
        {
          "output_type": "display_data",
          "data": {
            "text/html": [
              "<table class=\"dataframe\">\n",
              "<caption>A data.frame: 6 × 169</caption>\n",
              "<thead>\n",
              "\t<tr><th></th><th scope=col>frankfurter</th><th scope=col>sausage</th><th scope=col>liver.loaf</th><th scope=col>ham</th><th scope=col>meat</th><th scope=col>finished.products</th><th scope=col>organic.sausage</th><th scope=col>chicken</th><th scope=col>turkey</th><th scope=col>pork</th><th scope=col>⋯</th><th scope=col>candles</th><th scope=col>light.bulbs</th><th scope=col>sound.storage.medium</th><th scope=col>newspapers</th><th scope=col>photo.film</th><th scope=col>pot.plants</th><th scope=col>flower.soil.fertilizer</th><th scope=col>flower..seeds.</th><th scope=col>shopping.bags</th><th scope=col>bags</th></tr>\n",
              "\t<tr><th></th><th scope=col>&lt;int&gt;</th><th scope=col>&lt;int&gt;</th><th scope=col>&lt;int&gt;</th><th scope=col>&lt;int&gt;</th><th scope=col>&lt;int&gt;</th><th scope=col>&lt;int&gt;</th><th scope=col>&lt;int&gt;</th><th scope=col>&lt;int&gt;</th><th scope=col>&lt;int&gt;</th><th scope=col>&lt;int&gt;</th><th scope=col>⋯</th><th scope=col>&lt;int&gt;</th><th scope=col>&lt;int&gt;</th><th scope=col>&lt;int&gt;</th><th scope=col>&lt;int&gt;</th><th scope=col>&lt;int&gt;</th><th scope=col>&lt;int&gt;</th><th scope=col>&lt;int&gt;</th><th scope=col>&lt;int&gt;</th><th scope=col>&lt;int&gt;</th><th scope=col>&lt;int&gt;</th></tr>\n",
              "</thead>\n",
              "<tbody>\n",
              "\t<tr><th scope=row>1</th><td>0</td><td>0</td><td>0</td><td>0</td><td>0</td><td>0</td><td>0</td><td>0</td><td>0</td><td>0</td><td>⋯</td><td>0</td><td>0</td><td>0</td><td>0</td><td>0</td><td>0</td><td>0</td><td>0</td><td>0</td><td>0</td></tr>\n",
              "\t<tr><th scope=row>2</th><td>0</td><td>0</td><td>0</td><td>0</td><td>0</td><td>0</td><td>0</td><td>0</td><td>0</td><td>0</td><td>⋯</td><td>0</td><td>0</td><td>0</td><td>0</td><td>0</td><td>0</td><td>0</td><td>0</td><td>0</td><td>0</td></tr>\n",
              "\t<tr><th scope=row>3</th><td>0</td><td>0</td><td>0</td><td>0</td><td>0</td><td>0</td><td>0</td><td>0</td><td>0</td><td>0</td><td>⋯</td><td>0</td><td>0</td><td>0</td><td>0</td><td>0</td><td>0</td><td>0</td><td>0</td><td>0</td><td>0</td></tr>\n",
              "\t<tr><th scope=row>4</th><td>0</td><td>0</td><td>0</td><td>0</td><td>0</td><td>0</td><td>0</td><td>0</td><td>0</td><td>0</td><td>⋯</td><td>0</td><td>0</td><td>0</td><td>0</td><td>0</td><td>0</td><td>0</td><td>0</td><td>0</td><td>0</td></tr>\n",
              "\t<tr><th scope=row>5</th><td>0</td><td>0</td><td>0</td><td>0</td><td>0</td><td>0</td><td>0</td><td>0</td><td>0</td><td>0</td><td>⋯</td><td>0</td><td>0</td><td>0</td><td>0</td><td>0</td><td>0</td><td>0</td><td>0</td><td>0</td><td>0</td></tr>\n",
              "\t<tr><th scope=row>6</th><td>0</td><td>0</td><td>0</td><td>0</td><td>0</td><td>0</td><td>0</td><td>0</td><td>0</td><td>0</td><td>⋯</td><td>0</td><td>0</td><td>0</td><td>0</td><td>0</td><td>0</td><td>0</td><td>0</td><td>0</td><td>0</td></tr>\n",
              "</tbody>\n",
              "</table>\n"
            ],
            "text/markdown": "\nA data.frame: 6 × 169\n\n| <!--/--> | frankfurter &lt;int&gt; | sausage &lt;int&gt; | liver.loaf &lt;int&gt; | ham &lt;int&gt; | meat &lt;int&gt; | finished.products &lt;int&gt; | organic.sausage &lt;int&gt; | chicken &lt;int&gt; | turkey &lt;int&gt; | pork &lt;int&gt; | ⋯ ⋯ | candles &lt;int&gt; | light.bulbs &lt;int&gt; | sound.storage.medium &lt;int&gt; | newspapers &lt;int&gt; | photo.film &lt;int&gt; | pot.plants &lt;int&gt; | flower.soil.fertilizer &lt;int&gt; | flower..seeds. &lt;int&gt; | shopping.bags &lt;int&gt; | bags &lt;int&gt; |\n|---|---|---|---|---|---|---|---|---|---|---|---|---|---|---|---|---|---|---|---|---|---|\n| 1 | 0 | 0 | 0 | 0 | 0 | 0 | 0 | 0 | 0 | 0 | ⋯ | 0 | 0 | 0 | 0 | 0 | 0 | 0 | 0 | 0 | 0 |\n| 2 | 0 | 0 | 0 | 0 | 0 | 0 | 0 | 0 | 0 | 0 | ⋯ | 0 | 0 | 0 | 0 | 0 | 0 | 0 | 0 | 0 | 0 |\n| 3 | 0 | 0 | 0 | 0 | 0 | 0 | 0 | 0 | 0 | 0 | ⋯ | 0 | 0 | 0 | 0 | 0 | 0 | 0 | 0 | 0 | 0 |\n| 4 | 0 | 0 | 0 | 0 | 0 | 0 | 0 | 0 | 0 | 0 | ⋯ | 0 | 0 | 0 | 0 | 0 | 0 | 0 | 0 | 0 | 0 |\n| 5 | 0 | 0 | 0 | 0 | 0 | 0 | 0 | 0 | 0 | 0 | ⋯ | 0 | 0 | 0 | 0 | 0 | 0 | 0 | 0 | 0 | 0 |\n| 6 | 0 | 0 | 0 | 0 | 0 | 0 | 0 | 0 | 0 | 0 | ⋯ | 0 | 0 | 0 | 0 | 0 | 0 | 0 | 0 | 0 | 0 |\n\n",
            "text/latex": "A data.frame: 6 × 169\n\\begin{tabular}{r|lllllllllllllllllllll}\n  & frankfurter & sausage & liver.loaf & ham & meat & finished.products & organic.sausage & chicken & turkey & pork & ⋯ & candles & light.bulbs & sound.storage.medium & newspapers & photo.film & pot.plants & flower.soil.fertilizer & flower..seeds. & shopping.bags & bags\\\\\n  & <int> & <int> & <int> & <int> & <int> & <int> & <int> & <int> & <int> & <int> & ⋯ & <int> & <int> & <int> & <int> & <int> & <int> & <int> & <int> & <int> & <int>\\\\\n\\hline\n\t1 & 0 & 0 & 0 & 0 & 0 & 0 & 0 & 0 & 0 & 0 & ⋯ & 0 & 0 & 0 & 0 & 0 & 0 & 0 & 0 & 0 & 0\\\\\n\t2 & 0 & 0 & 0 & 0 & 0 & 0 & 0 & 0 & 0 & 0 & ⋯ & 0 & 0 & 0 & 0 & 0 & 0 & 0 & 0 & 0 & 0\\\\\n\t3 & 0 & 0 & 0 & 0 & 0 & 0 & 0 & 0 & 0 & 0 & ⋯ & 0 & 0 & 0 & 0 & 0 & 0 & 0 & 0 & 0 & 0\\\\\n\t4 & 0 & 0 & 0 & 0 & 0 & 0 & 0 & 0 & 0 & 0 & ⋯ & 0 & 0 & 0 & 0 & 0 & 0 & 0 & 0 & 0 & 0\\\\\n\t5 & 0 & 0 & 0 & 0 & 0 & 0 & 0 & 0 & 0 & 0 & ⋯ & 0 & 0 & 0 & 0 & 0 & 0 & 0 & 0 & 0 & 0\\\\\n\t6 & 0 & 0 & 0 & 0 & 0 & 0 & 0 & 0 & 0 & 0 & ⋯ & 0 & 0 & 0 & 0 & 0 & 0 & 0 & 0 & 0 & 0\\\\\n\\end{tabular}\n",
            "text/plain": [
              "  frankfurter sausage liver.loaf ham meat finished.products organic.sausage\n",
              "1 0           0       0          0   0    0                 0              \n",
              "2 0           0       0          0   0    0                 0              \n",
              "3 0           0       0          0   0    0                 0              \n",
              "4 0           0       0          0   0    0                 0              \n",
              "5 0           0       0          0   0    0                 0              \n",
              "6 0           0       0          0   0    0                 0              \n",
              "  chicken turkey pork ⋯ candles light.bulbs sound.storage.medium newspapers\n",
              "1 0       0      0    ⋯ 0       0           0                    0         \n",
              "2 0       0      0    ⋯ 0       0           0                    0         \n",
              "3 0       0      0    ⋯ 0       0           0                    0         \n",
              "4 0       0      0    ⋯ 0       0           0                    0         \n",
              "5 0       0      0    ⋯ 0       0           0                    0         \n",
              "6 0       0      0    ⋯ 0       0           0                    0         \n",
              "  photo.film pot.plants flower.soil.fertilizer flower..seeds. shopping.bags\n",
              "1 0          0          0                      0              0            \n",
              "2 0          0          0                      0              0            \n",
              "3 0          0          0                      0              0            \n",
              "4 0          0          0                      0              0            \n",
              "5 0          0          0                      0              0            \n",
              "6 0          0          0                      0              0            \n",
              "  bags\n",
              "1 0   \n",
              "2 0   \n",
              "3 0   \n",
              "4 0   \n",
              "5 0   \n",
              "6 0   "
            ]
          },
          "metadata": {}
        }
      ],
      "source": [
        "groceries <- read.csv('https://github.com/WSU-DataScience/DSCI_210_R_notebooks/raw/main/data/Groceries.csv')\n",
        "head(groceries)"
      ]
    },
    {
      "cell_type": "code",
      "source": [
        "library(tidyverse)"
      ],
      "metadata": {
        "id": "bD5XDSLRHW03",
        "outputId": "182f3f47-f963-4e12-ca5e-1afa805086e6",
        "colab": {
          "base_uri": "https://localhost:8080/"
        }
      },
      "execution_count": 2,
      "outputs": [
        {
          "output_type": "stream",
          "name": "stderr",
          "text": [
            "── \u001b[1mAttaching core tidyverse packages\u001b[22m ──────────────────────── tidyverse 2.0.0 ──\n",
            "\u001b[32m✔\u001b[39m \u001b[34mdplyr    \u001b[39m 1.1.4     \u001b[32m✔\u001b[39m \u001b[34mreadr    \u001b[39m 2.1.5\n",
            "\u001b[32m✔\u001b[39m \u001b[34mforcats  \u001b[39m 1.0.0     \u001b[32m✔\u001b[39m \u001b[34mstringr  \u001b[39m 1.5.1\n",
            "\u001b[32m✔\u001b[39m \u001b[34mggplot2  \u001b[39m 3.4.4     \u001b[32m✔\u001b[39m \u001b[34mtibble   \u001b[39m 3.2.1\n",
            "\u001b[32m✔\u001b[39m \u001b[34mlubridate\u001b[39m 1.9.3     \u001b[32m✔\u001b[39m \u001b[34mtidyr    \u001b[39m 1.3.1\n",
            "\u001b[32m✔\u001b[39m \u001b[34mpurrr    \u001b[39m 1.0.2     \n",
            "── \u001b[1mConflicts\u001b[22m ────────────────────────────────────────── tidyverse_conflicts() ──\n",
            "\u001b[31m✖\u001b[39m \u001b[34mdplyr\u001b[39m::\u001b[32mfilter()\u001b[39m masks \u001b[34mstats\u001b[39m::filter()\n",
            "\u001b[31m✖\u001b[39m \u001b[34mdplyr\u001b[39m::\u001b[32mlag()\u001b[39m    masks \u001b[34mstats\u001b[39m::lag()\n",
            "\u001b[36mℹ\u001b[39m Use the conflicted package (\u001b[3m\u001b[34m<http://conflicted.r-lib.org/>\u001b[39m\u001b[23m) to force all conflicts to become errors\n"
          ]
        }
      ]
    },
    {
      "cell_type": "code",
      "execution_count": 3,
      "metadata": {
        "colab": {
          "base_uri": "https://localhost:8080/",
          "height": 286
        },
        "id": "03S6hqHPBFW6",
        "outputId": "926da0db-5b17-4d56-9187-528b6d40fc61"
      },
      "outputs": [
        {
          "output_type": "display_data",
          "data": {
            "text/html": [
              "<table class=\"dataframe\">\n",
              "<caption>A data.frame: 6 × 2</caption>\n",
              "<thead>\n",
              "\t<tr><th></th><th scope=col>butter</th><th scope=col>whole.milk</th></tr>\n",
              "\t<tr><th></th><th scope=col>&lt;int&gt;</th><th scope=col>&lt;int&gt;</th></tr>\n",
              "</thead>\n",
              "<tbody>\n",
              "\t<tr><th scope=row>1</th><td>0</td><td>0</td></tr>\n",
              "\t<tr><th scope=row>2</th><td>0</td><td>0</td></tr>\n",
              "\t<tr><th scope=row>3</th><td>0</td><td>1</td></tr>\n",
              "\t<tr><th scope=row>4</th><td>0</td><td>0</td></tr>\n",
              "\t<tr><th scope=row>5</th><td>0</td><td>1</td></tr>\n",
              "\t<tr><th scope=row>6</th><td>1</td><td>1</td></tr>\n",
              "</tbody>\n",
              "</table>\n"
            ],
            "text/markdown": "\nA data.frame: 6 × 2\n\n| <!--/--> | butter &lt;int&gt; | whole.milk &lt;int&gt; |\n|---|---|---|\n| 1 | 0 | 0 |\n| 2 | 0 | 0 |\n| 3 | 0 | 1 |\n| 4 | 0 | 0 |\n| 5 | 0 | 1 |\n| 6 | 1 | 1 |\n\n",
            "text/latex": "A data.frame: 6 × 2\n\\begin{tabular}{r|ll}\n  & butter & whole.milk\\\\\n  & <int> & <int>\\\\\n\\hline\n\t1 & 0 & 0\\\\\n\t2 & 0 & 0\\\\\n\t3 & 0 & 1\\\\\n\t4 & 0 & 0\\\\\n\t5 & 0 & 1\\\\\n\t6 & 1 & 1\\\\\n\\end{tabular}\n",
            "text/plain": [
              "  butter whole.milk\n",
              "1 0      0         \n",
              "2 0      0         \n",
              "3 0      1         \n",
              "4 0      0         \n",
              "5 0      1         \n",
              "6 1      1         "
            ]
          },
          "metadata": {}
        }
      ],
      "source": [
        "(groceries\n",
        " %>% select(butter, whole.milk)\n",
        " ) -> butter_milk\n",
        "\n",
        "butter_milk %>% head"
      ]
    },
    {
      "cell_type": "markdown",
      "metadata": {
        "id": "DhPfDwN-BFW8"
      },
      "source": [
        "#### Support(Butter): 2 steps"
      ]
    },
    {
      "cell_type": "code",
      "execution_count": 4,
      "metadata": {
        "colab": {
          "base_uri": "https://localhost:8080/",
          "height": 129
        },
        "id": "BWEDqDqzBFW8",
        "outputId": "c7cfe7e6-da29-4d42-a98f-90c6e5c1d15e"
      },
      "outputs": [
        {
          "output_type": "display_data",
          "data": {
            "text/html": [
              "<table class=\"dataframe\">\n",
              "<caption>A data.frame: 1 × 3</caption>\n",
              "<thead>\n",
              "\t<tr><th scope=col>Nbutter</th><th scope=col>N</th><th scope=col>support_butter</th></tr>\n",
              "\t<tr><th scope=col>&lt;int&gt;</th><th scope=col>&lt;int&gt;</th><th scope=col>&lt;dbl&gt;</th></tr>\n",
              "</thead>\n",
              "<tbody>\n",
              "\t<tr><td>545</td><td>9835</td><td>0.05541434</td></tr>\n",
              "</tbody>\n",
              "</table>\n"
            ],
            "text/markdown": "\nA data.frame: 1 × 3\n\n| Nbutter &lt;int&gt; | N &lt;int&gt; | support_butter &lt;dbl&gt; |\n|---|---|---|\n| 545 | 9835 | 0.05541434 |\n\n",
            "text/latex": "A data.frame: 1 × 3\n\\begin{tabular}{lll}\n Nbutter & N & support\\_butter\\\\\n <int> & <int> & <dbl>\\\\\n\\hline\n\t 545 & 9835 & 0.05541434\\\\\n\\end{tabular}\n",
            "text/plain": [
              "  Nbutter N    support_butter\n",
              "1 545     9835 0.05541434    "
            ]
          },
          "metadata": {}
        }
      ],
      "source": [
        "(butter_milk\n",
        "%>% summarize(Nbutter = sum(butter),\n",
        "              N = n())\n",
        "%>% mutate(support_butter = Nbutter/N)\n",
        ")"
      ]
    },
    {
      "cell_type": "markdown",
      "metadata": {
        "id": "mY1w7zQIBFW8"
      },
      "source": [
        "#### Support(Butter): all at once"
      ]
    },
    {
      "cell_type": "code",
      "execution_count": 6,
      "metadata": {
        "colab": {
          "base_uri": "https://localhost:8080/",
          "height": 129
        },
        "id": "vmVoassZBFW9",
        "outputId": "2d33ecee-31a0-4609-cc6f-ebe4f03f2735"
      },
      "outputs": [
        {
          "output_type": "display_data",
          "data": {
            "text/html": [
              "<table class=\"dataframe\">\n",
              "<caption>A data.frame: 1 × 1</caption>\n",
              "<thead>\n",
              "\t<tr><th scope=col>support_butter</th></tr>\n",
              "\t<tr><th scope=col>&lt;dbl&gt;</th></tr>\n",
              "</thead>\n",
              "<tbody>\n",
              "\t<tr><td>0.05541434</td></tr>\n",
              "</tbody>\n",
              "</table>\n"
            ],
            "text/markdown": "\nA data.frame: 1 × 1\n\n| support_butter &lt;dbl&gt; |\n|---|\n| 0.05541434 |\n\n",
            "text/latex": "A data.frame: 1 × 1\n\\begin{tabular}{l}\n support\\_butter\\\\\n <dbl>\\\\\n\\hline\n\t 0.05541434\\\\\n\\end{tabular}\n",
            "text/plain": [
              "  support_butter\n",
              "1 0.05541434    "
            ]
          },
          "metadata": {}
        }
      ],
      "source": [
        "(butter_milk\n",
        " %>% summarize(support_butter = sum(butter)/n())\n",
        ")"
      ]
    },
    {
      "cell_type": "markdown",
      "metadata": {
        "id": "f0iVkK2nBFW9"
      },
      "source": [
        "#### Support of whole.milk"
      ]
    },
    {
      "cell_type": "code",
      "execution_count": 7,
      "metadata": {
        "colab": {
          "base_uri": "https://localhost:8080/",
          "height": 147
        },
        "id": "A2b9-xp7BFW9",
        "outputId": "fbafe6e7-e038-45c8-cc7a-a80423af88a9"
      },
      "outputs": [
        {
          "output_type": "display_data",
          "data": {
            "text/html": [
              "<table class=\"dataframe\">\n",
              "<caption>A data.frame: 1 × 1</caption>\n",
              "<thead>\n",
              "\t<tr><th scope=col>support_milk</th></tr>\n",
              "\t<tr><th scope=col>&lt;dbl&gt;</th></tr>\n",
              "</thead>\n",
              "<tbody>\n",
              "\t<tr><td>0.255516</td></tr>\n",
              "</tbody>\n",
              "</table>\n"
            ],
            "text/markdown": "\nA data.frame: 1 × 1\n\n| support_milk &lt;dbl&gt; |\n|---|\n| 0.255516 |\n\n",
            "text/latex": "A data.frame: 1 × 1\n\\begin{tabular}{l}\n support\\_milk\\\\\n <dbl>\\\\\n\\hline\n\t 0.255516\\\\\n\\end{tabular}\n",
            "text/plain": [
              "  support_milk\n",
              "1 0.255516    "
            ]
          },
          "metadata": {}
        }
      ],
      "source": [
        "(butter_milk\n",
        "%>% summarize(support_milk = sum(whole.milk)/n())\n",
        ")"
      ]
    },
    {
      "cell_type": "markdown",
      "metadata": {
        "id": "HskAILy1BFW9"
      },
      "source": [
        "#### Support of $\\{Butter\\;and\\;Milk\\}$\n",
        "\n",
        "Why `butter * whole.milk`?"
      ]
    },
    {
      "cell_type": "code",
      "source": [
        "(butter_milk\n",
        "%>% summarize(support_rule = sum(butter * whole.milk)/n())\n",
        ")"
      ],
      "metadata": {
        "colab": {
          "base_uri": "https://localhost:8080/",
          "height": 147
        },
        "id": "ksfCV0N7Btso",
        "outputId": "dbfd875b-5383-4a1d-93b1-450651938d25"
      },
      "execution_count": 8,
      "outputs": [
        {
          "output_type": "display_data",
          "data": {
            "text/html": [
              "<table class=\"dataframe\">\n",
              "<caption>A data.frame: 1 × 1</caption>\n",
              "<thead>\n",
              "\t<tr><th scope=col>support_rule</th></tr>\n",
              "\t<tr><th scope=col>&lt;dbl&gt;</th></tr>\n",
              "</thead>\n",
              "<tbody>\n",
              "\t<tr><td>0.02755465</td></tr>\n",
              "</tbody>\n",
              "</table>\n"
            ],
            "text/markdown": "\nA data.frame: 1 × 1\n\n| support_rule &lt;dbl&gt; |\n|---|\n| 0.02755465 |\n\n",
            "text/latex": "A data.frame: 1 × 1\n\\begin{tabular}{l}\n support\\_rule\\\\\n <dbl>\\\\\n\\hline\n\t 0.02755465\\\\\n\\end{tabular}\n",
            "text/plain": [
              "  support_rule\n",
              "1 0.02755465  "
            ]
          },
          "metadata": {}
        }
      ]
    },
    {
      "cell_type": "markdown",
      "source": [
        "#### Trying to combine the previous steps (won't work!)"
      ],
      "metadata": {
        "id": "7lKpOnt0mLFb"
      }
    },
    {
      "cell_type": "code",
      "source": [
        "(butter_milk\n",
        " %>% summarize(support_butter = sum(butter)/n())                # First summarize colapses the data to one row (simple aggregation)\n",
        " %>% summarize(support_milk = sum(whole.milk)/n())              # Can no longer aggregate the collapsed data\n",
        " %>% summarize(support_rule = sum(butter * whole.milk)/n())\n",
        ")"
      ],
      "metadata": {
        "id": "EW_APtUlmP4N",
        "outputId": "c33338f6-2dc3-448a-a084-6d00786f0240",
        "colab": {
          "base_uri": "https://localhost:8080/",
          "height": 1000
        }
      },
      "execution_count": 10,
      "outputs": [
        {
          "output_type": "error",
          "ename": "ERROR",
          "evalue": "\u001b[1m\u001b[33mError\u001b[39m in `summarize()`:\u001b[22m\n\u001b[1m\u001b[22m\u001b[36mℹ\u001b[39m In argument: `support_milk = sum(whole.milk)/n()`.\n\u001b[1mCaused by error:\u001b[22m\n\u001b[33m!\u001b[39m object 'whole.milk' not found\n",
          "traceback": [
            "\u001b[1m\u001b[33mError\u001b[39m in `summarize()`:\u001b[22m\n\u001b[1m\u001b[22m\u001b[36mℹ\u001b[39m In argument: `support_milk = sum(whole.milk)/n()`.\n\u001b[1mCaused by error:\u001b[22m\n\u001b[33m!\u001b[39m object 'whole.milk' not found\nTraceback:\n",
            "1. butter_milk %>% summarize(support_butter = sum(butter)/n()) %>% \n .     summarize(support_milk = sum(whole.milk)/n()) %>% summarize(support_rule = sum(butter * \n .     whole.milk)/n())",
            "2. summarize(., support_rule = sum(butter * whole.milk)/n())",
            "3. summarize(., support_milk = sum(whole.milk)/n())",
            "4. summarise.data.frame(., support_milk = sum(whole.milk)/n())",
            "5. summarise_cols(.data, dplyr_quosures(...), by, \"summarise\")",
            "6. withCallingHandlers({\n .     for (i in seq_along(dots)) {\n .         poke_error_context(dots, i, mask = mask)\n .         context_poke(\"column\", old_current_column)\n .         dot <- dots[[i]]\n .         dot <- expand_pick(dot, mask)\n .         quosures <- expand_across(dot)\n .         quosures_results <- map(quosures, summarise_eval_one, \n .             mask = mask)\n .         for (k in seq_along(quosures)) {\n .             quo <- quosures[[k]]\n .             quo_data <- attr(quo, \"dplyr:::data\")\n .             quo_result <- quosures_results[[k]]\n .             if (is.null(quo_result)) {\n .                 next\n .             }\n .             types_k <- quo_result$types\n .             chunks_k <- quo_result$chunks\n .             results_k <- quo_result$results\n .             if (!quo_data$is_named && is.data.frame(types_k)) {\n .                 chunks_extracted <- .Call(dplyr_extract_chunks, \n .                   chunks_k, types_k)\n .                 types_k_names <- names(types_k)\n .                 for (j in seq_along(chunks_extracted)) {\n .                   mask$add_one(name = types_k_names[j], chunks = chunks_extracted[[j]], \n .                     result = results_k[[j]])\n .                 }\n .                 chunks <- append(chunks, chunks_extracted)\n .                 types <- append(types, as.list(types_k))\n .                 results <- append(results, results_k)\n .                 out_names <- c(out_names, types_k_names)\n .             }\n .             else {\n .                 name <- dplyr_quosure_name(quo_data)\n .                 mask$add_one(name = name, chunks = chunks_k, \n .                   result = results_k)\n .                 chunks <- append(chunks, list(chunks_k))\n .                 types <- append(types, list(types_k))\n .                 results <- append(results, list(results_k))\n .                 out_names <- c(out_names, name)\n .             }\n .         }\n .     }\n .     sizes <- .Call(dplyr_summarise_recycle_chunks_in_place, chunks, \n .         results)\n .     for (i in seq_along(chunks)) {\n .         result <- results[[i]] %||% vec_c(!!!chunks[[i]], .ptype = types[[i]])\n .         cols[[out_names[i]]] <- result\n .     }\n . }, error = function(cnd) {\n .     if (inherits(cnd, \"dplyr:::summarise_incompatible_size\")) {\n .         action <- \"recycle\"\n .         i <- cnd$dplyr_error_data$index\n .     }\n .     else {\n .         action <- \"compute\"\n .         i <- i\n .     }\n .     handler <- dplyr_error_handler(dots = dots, mask = mask, \n .         bullets = summarise_bullets, error_call = error_call, \n .         action = action)\n .     handler(cnd)\n . }, warning = dplyr_warning_handler(state = warnings_state, mask = mask, \n .     error_call = error_call))",
            "7. map(quosures, summarise_eval_one, mask = mask)",
            "8. lapply(.x, .f, ...)",
            "9. FUN(X[[i]], ...)",
            "10. mask$eval_all_summarise(quo)",
            "11. eval()",
            "12. .handleSimpleError(function (cnd) \n  . {\n  .     if (inherits(cnd, \"dplyr:::summarise_incompatible_size\")) {\n  .         action <- \"recycle\"\n  .         i <- cnd$dplyr_error_data$index\n  .     }\n  .     else {\n  .         action <- \"compute\"\n  .         i <- i\n  .     }\n  .     handler <- dplyr_error_handler(dots = dots, mask = mask, \n  .         bullets = summarise_bullets, error_call = error_call, \n  .         action = action)\n  .     handler(cnd)\n  . }, \"object 'whole.milk' not found\", base::quote(NULL))",
            "13. h(simpleError(msg, call))",
            "14. handler(cnd)",
            "15. abort(message, class = error_class, parent = parent, call = error_call)",
            "16. signal_abort(cnd, .file)"
          ]
        }
      ]
    },
    {
      "cell_type": "markdown",
      "source": [
        "#### Solution - Combine summaries in one `summarise`"
      ],
      "metadata": {
        "id": "VDo2xi1-mjkM"
      }
    },
    {
      "cell_type": "code",
      "source": [
        "(groceries\n",
        "%>% summarize(support_milk = sum(whole.milk)/n(),\n",
        "              support_butter = sum(butter)/n(),\n",
        "              support_rule = sum(butter *  whole.milk)/n())\n",
        ")"
      ],
      "metadata": {
        "id": "g_6zcsMYmogU",
        "outputId": "c4159f64-1c9b-4a4d-a6ef-3d0828b89631",
        "colab": {
          "base_uri": "https://localhost:8080/",
          "height": 129
        }
      },
      "execution_count": 11,
      "outputs": [
        {
          "output_type": "display_data",
          "data": {
            "text/html": [
              "<table class=\"dataframe\">\n",
              "<caption>A data.frame: 1 × 3</caption>\n",
              "<thead>\n",
              "\t<tr><th scope=col>support_milk</th><th scope=col>support_butter</th><th scope=col>support_rule</th></tr>\n",
              "\t<tr><th scope=col>&lt;dbl&gt;</th><th scope=col>&lt;dbl&gt;</th><th scope=col>&lt;dbl&gt;</th></tr>\n",
              "</thead>\n",
              "<tbody>\n",
              "\t<tr><td>0.255516</td><td>0.05541434</td><td>0.02755465</td></tr>\n",
              "</tbody>\n",
              "</table>\n"
            ],
            "text/markdown": "\nA data.frame: 1 × 3\n\n| support_milk &lt;dbl&gt; | support_butter &lt;dbl&gt; | support_rule &lt;dbl&gt; |\n|---|---|---|\n| 0.255516 | 0.05541434 | 0.02755465 |\n\n",
            "text/latex": "A data.frame: 1 × 3\n\\begin{tabular}{lll}\n support\\_milk & support\\_butter & support\\_rule\\\\\n <dbl> & <dbl> & <dbl>\\\\\n\\hline\n\t 0.255516 & 0.05541434 & 0.02755465\\\\\n\\end{tabular}\n",
            "text/plain": [
              "  support_milk support_butter support_rule\n",
              "1 0.255516     0.05541434     0.02755465  "
            ]
          },
          "metadata": {}
        }
      ]
    },
    {
      "cell_type": "markdown",
      "metadata": {
        "id": "du3BEkTJBFW9"
      },
      "source": [
        "#### All together now (+ confidence and lift)"
      ]
    },
    {
      "cell_type": "code",
      "execution_count": 12,
      "metadata": {
        "colab": {
          "base_uri": "https://localhost:8080/",
          "height": 129
        },
        "id": "K-VLZZ4MBFW-",
        "outputId": "63e259ea-9dcc-44c3-eba2-ea9dfe4863bd"
      },
      "outputs": [
        {
          "output_type": "display_data",
          "data": {
            "text/html": [
              "<table class=\"dataframe\">\n",
              "<caption>A data.frame: 1 × 5</caption>\n",
              "<thead>\n",
              "\t<tr><th scope=col>support_milk</th><th scope=col>support_butter</th><th scope=col>support_rule</th><th scope=col>confidence</th><th scope=col>lift</th></tr>\n",
              "\t<tr><th scope=col>&lt;dbl&gt;</th><th scope=col>&lt;dbl&gt;</th><th scope=col>&lt;dbl&gt;</th><th scope=col>&lt;dbl&gt;</th><th scope=col>&lt;dbl&gt;</th></tr>\n",
              "</thead>\n",
              "<tbody>\n",
              "\t<tr><td>0.255516</td><td>0.05541434</td><td>0.02755465</td><td>0.4972477</td><td>1.946053</td></tr>\n",
              "</tbody>\n",
              "</table>\n"
            ],
            "text/markdown": "\nA data.frame: 1 × 5\n\n| support_milk &lt;dbl&gt; | support_butter &lt;dbl&gt; | support_rule &lt;dbl&gt; | confidence &lt;dbl&gt; | lift &lt;dbl&gt; |\n|---|---|---|---|---|\n| 0.255516 | 0.05541434 | 0.02755465 | 0.4972477 | 1.946053 |\n\n",
            "text/latex": "A data.frame: 1 × 5\n\\begin{tabular}{lllll}\n support\\_milk & support\\_butter & support\\_rule & confidence & lift\\\\\n <dbl> & <dbl> & <dbl> & <dbl> & <dbl>\\\\\n\\hline\n\t 0.255516 & 0.05541434 & 0.02755465 & 0.4972477 & 1.946053\\\\\n\\end{tabular}\n",
            "text/plain": [
              "  support_milk support_butter support_rule confidence lift    \n",
              "1 0.255516     0.05541434     0.02755465   0.4972477  1.946053"
            ]
          },
          "metadata": {}
        }
      ],
      "source": [
        "(groceries\n",
        "%>% summarize(support_milk = sum(whole.milk)/n(),\n",
        "              support_butter = sum(butter)/n(),\n",
        "              support_rule = sum(butter *  whole.milk)/n())\n",
        "%>% mutate(confidence = support_rule/support_butter)\n",
        "%>% mutate(lift = confidence/support_milk)\n",
        ")"
      ]
    },
    {
      "cell_type": "markdown",
      "metadata": {
        "id": "vl9GK2OPBFW-"
      },
      "source": [
        "#### Notes\n",
        "\n",
        "* Must compute values before you use them\n",
        "    * Supports before confidence\n",
        "    * Confidence before lift"
      ]
    },
    {
      "cell_type": "markdown",
      "source": [
        "## <font color=\"red\"> Exercise 9.3.1 </font>\n",
        "\n",
        "Use a similar approach to compute the above values for the rule $\\{\\text{domestic.eggs}\\}\\longrightarrow\\{\\text{ham}\\}$."
      ],
      "metadata": {
        "id": "ISnKkOm0CfnJ"
      }
    },
    {
      "cell_type": "code",
      "source": [
        "# Your code here"
      ],
      "metadata": {
        "id": "PtKzrnXuEmb0"
      },
      "execution_count": null,
      "outputs": []
    },
    {
      "cell_type": "markdown",
      "metadata": {
        "id": "7WoVPZgbBFW-"
      },
      "source": [
        "### Computing Many Rules At Once\n",
        "\n",
        "\n",
        "* Stack the LHS into one column\n",
        "* Group by LHS\n",
        "* Compute:\n",
        "    * Support\n",
        "    * Confidence\n",
        "    * Lift\n",
        "  "
      ]
    },
    {
      "cell_type": "code",
      "execution_count": 13,
      "metadata": {
        "id": "woeGbDBBBFW-"
      },
      "outputs": [],
      "source": [
        "groceries <- read.csv('https://github.com/WSU-DataScience/DSCI_210_R_notebooks/raw/main/data/Groceries.csv')\n",
        "N <- nrow(groceries)"
      ]
    },
    {
      "cell_type": "markdown",
      "metadata": {
        "id": "zkl4bkrdBFW-"
      },
      "source": [
        "#### Step 1 - Stack all of the other products"
      ]
    },
    {
      "cell_type": "code",
      "execution_count": 14,
      "metadata": {
        "colab": {
          "base_uri": "https://localhost:8080/",
          "height": 286
        },
        "id": "WNi9SHY1BFW-",
        "outputId": "bd988a88-c6b1-4e73-b5da-cf5484db30b6"
      },
      "outputs": [
        {
          "output_type": "display_data",
          "data": {
            "text/html": [
              "<table class=\"dataframe\">\n",
              "<caption>A data.frame: 6 × 3</caption>\n",
              "<thead>\n",
              "\t<tr><th></th><th scope=col>whole.milk</th><th scope=col>lhs</th><th scope=col>pur_lhs</th></tr>\n",
              "\t<tr><th></th><th scope=col>&lt;int&gt;</th><th scope=col>&lt;chr&gt;</th><th scope=col>&lt;int&gt;</th></tr>\n",
              "</thead>\n",
              "<tbody>\n",
              "\t<tr><th scope=row>1</th><td>0</td><td>frankfurter</td><td>0</td></tr>\n",
              "\t<tr><th scope=row>2</th><td>0</td><td>frankfurter</td><td>0</td></tr>\n",
              "\t<tr><th scope=row>3</th><td>1</td><td>frankfurter</td><td>0</td></tr>\n",
              "\t<tr><th scope=row>4</th><td>0</td><td>frankfurter</td><td>0</td></tr>\n",
              "\t<tr><th scope=row>5</th><td>1</td><td>frankfurter</td><td>0</td></tr>\n",
              "\t<tr><th scope=row>6</th><td>1</td><td>frankfurter</td><td>0</td></tr>\n",
              "</tbody>\n",
              "</table>\n"
            ],
            "text/markdown": "\nA data.frame: 6 × 3\n\n| <!--/--> | whole.milk &lt;int&gt; | lhs &lt;chr&gt; | pur_lhs &lt;int&gt; |\n|---|---|---|---|\n| 1 | 0 | frankfurter | 0 |\n| 2 | 0 | frankfurter | 0 |\n| 3 | 1 | frankfurter | 0 |\n| 4 | 0 | frankfurter | 0 |\n| 5 | 1 | frankfurter | 0 |\n| 6 | 1 | frankfurter | 0 |\n\n",
            "text/latex": "A data.frame: 6 × 3\n\\begin{tabular}{r|lll}\n  & whole.milk & lhs & pur\\_lhs\\\\\n  & <int> & <chr> & <int>\\\\\n\\hline\n\t1 & 0 & frankfurter & 0\\\\\n\t2 & 0 & frankfurter & 0\\\\\n\t3 & 1 & frankfurter & 0\\\\\n\t4 & 0 & frankfurter & 0\\\\\n\t5 & 1 & frankfurter & 0\\\\\n\t6 & 1 & frankfurter & 0\\\\\n\\end{tabular}\n",
            "text/plain": [
              "  whole.milk lhs         pur_lhs\n",
              "1 0          frankfurter 0      \n",
              "2 0          frankfurter 0      \n",
              "3 1          frankfurter 0      \n",
              "4 0          frankfurter 0      \n",
              "5 1          frankfurter 0      \n",
              "6 1          frankfurter 0      "
            ]
          },
          "metadata": {}
        }
      ],
      "source": [
        "(groceries\n",
        " %>% gather(key = \"lhs\",\n",
        "            value = \"pur_lhs\",\n",
        "            -whole.milk)\n",
        ") -> groceries_stacked\n",
        "\n",
        "groceries_stacked %>% head"
      ]
    },
    {
      "cell_type": "markdown",
      "metadata": {
        "id": "mAeSmZwSBFW_"
      },
      "source": [
        "#### Step 2 - Compute the support, confidence, and lift for each"
      ]
    },
    {
      "cell_type": "code",
      "execution_count": 15,
      "metadata": {
        "colab": {
          "base_uri": "https://localhost:8080/",
          "height": 286
        },
        "id": "0E44DO67BFW_",
        "outputId": "a8ddb43e-c43b-4006-d898-f944aa3846d6"
      },
      "outputs": [
        {
          "output_type": "display_data",
          "data": {
            "text/html": [
              "<table class=\"dataframe\">\n",
              "<caption>A tibble: 6 × 6</caption>\n",
              "<thead>\n",
              "\t<tr><th scope=col>lhs</th><th scope=col>sup_milk</th><th scope=col>sup_lhs</th><th scope=col>joint_support</th><th scope=col>conf</th><th scope=col>lift</th></tr>\n",
              "\t<tr><th scope=col>&lt;chr&gt;</th><th scope=col>&lt;dbl&gt;</th><th scope=col>&lt;dbl&gt;</th><th scope=col>&lt;dbl&gt;</th><th scope=col>&lt;dbl&gt;</th><th scope=col>&lt;dbl&gt;</th></tr>\n",
              "</thead>\n",
              "<tbody>\n",
              "\t<tr><td>Instant.food.products</td><td>0.255516</td><td>0.0080325369</td><td>0.003050330</td><td>0.3797468</td><td>1.486196</td></tr>\n",
              "\t<tr><td>UHT.milk             </td><td>0.255516</td><td>0.0334519573</td><td>0.003965430</td><td>0.1185410</td><td>0.463928</td></tr>\n",
              "\t<tr><td>abrasive.cleaner     </td><td>0.255516</td><td>0.0035587189</td><td>0.001626843</td><td>0.4571429</td><td>1.789097</td></tr>\n",
              "\t<tr><td>artif..sweetener     </td><td>0.255516</td><td>0.0032536858</td><td>0.001118454</td><td>0.3437500</td><td>1.345317</td></tr>\n",
              "\t<tr><td>baby.cosmetics       </td><td>0.255516</td><td>0.0006100661</td><td>0.000305033</td><td>0.5000000</td><td>1.956825</td></tr>\n",
              "\t<tr><td>baby.food            </td><td>0.255516</td><td>0.0001016777</td><td>0.000000000</td><td>0.0000000</td><td>0.000000</td></tr>\n",
              "</tbody>\n",
              "</table>\n"
            ],
            "text/markdown": "\nA tibble: 6 × 6\n\n| lhs &lt;chr&gt; | sup_milk &lt;dbl&gt; | sup_lhs &lt;dbl&gt; | joint_support &lt;dbl&gt; | conf &lt;dbl&gt; | lift &lt;dbl&gt; |\n|---|---|---|---|---|---|\n| Instant.food.products | 0.255516 | 0.0080325369 | 0.003050330 | 0.3797468 | 1.486196 |\n| UHT.milk              | 0.255516 | 0.0334519573 | 0.003965430 | 0.1185410 | 0.463928 |\n| abrasive.cleaner      | 0.255516 | 0.0035587189 | 0.001626843 | 0.4571429 | 1.789097 |\n| artif..sweetener      | 0.255516 | 0.0032536858 | 0.001118454 | 0.3437500 | 1.345317 |\n| baby.cosmetics        | 0.255516 | 0.0006100661 | 0.000305033 | 0.5000000 | 1.956825 |\n| baby.food             | 0.255516 | 0.0001016777 | 0.000000000 | 0.0000000 | 0.000000 |\n\n",
            "text/latex": "A tibble: 6 × 6\n\\begin{tabular}{llllll}\n lhs & sup\\_milk & sup\\_lhs & joint\\_support & conf & lift\\\\\n <chr> & <dbl> & <dbl> & <dbl> & <dbl> & <dbl>\\\\\n\\hline\n\t Instant.food.products & 0.255516 & 0.0080325369 & 0.003050330 & 0.3797468 & 1.486196\\\\\n\t UHT.milk              & 0.255516 & 0.0334519573 & 0.003965430 & 0.1185410 & 0.463928\\\\\n\t abrasive.cleaner      & 0.255516 & 0.0035587189 & 0.001626843 & 0.4571429 & 1.789097\\\\\n\t artif..sweetener      & 0.255516 & 0.0032536858 & 0.001118454 & 0.3437500 & 1.345317\\\\\n\t baby.cosmetics        & 0.255516 & 0.0006100661 & 0.000305033 & 0.5000000 & 1.956825\\\\\n\t baby.food             & 0.255516 & 0.0001016777 & 0.000000000 & 0.0000000 & 0.000000\\\\\n\\end{tabular}\n",
            "text/plain": [
              "  lhs                   sup_milk sup_lhs      joint_support conf      lift    \n",
              "1 Instant.food.products 0.255516 0.0080325369 0.003050330   0.3797468 1.486196\n",
              "2 UHT.milk              0.255516 0.0334519573 0.003965430   0.1185410 0.463928\n",
              "3 abrasive.cleaner      0.255516 0.0035587189 0.001626843   0.4571429 1.789097\n",
              "4 artif..sweetener      0.255516 0.0032536858 0.001118454   0.3437500 1.345317\n",
              "5 baby.cosmetics        0.255516 0.0006100661 0.000305033   0.5000000 1.956825\n",
              "6 baby.food             0.255516 0.0001016777 0.000000000   0.0000000 0.000000"
            ]
          },
          "metadata": {}
        }
      ],
      "source": [
        "# Note that we group_by the products to keep them separate.\n",
        "many_rules <-\n",
        "(groceries_stacked\n",
        " %>% group_by(lhs)\n",
        " %>% summarize(sup_milk = sum(whole.milk)/n(),\n",
        "               sup_lhs = sum(pur_lhs)/n(),\n",
        "               joint_support = sum(whole.milk*pur_lhs)/n())\n",
        " %>% mutate(conf = joint_support/sup_lhs)\n",
        " %>% mutate(lift = conf/sup_milk)\n",
        ") -> many_rules\n",
        "\n",
        "many_rules %>% head"
      ]
    },
    {
      "cell_type": "markdown",
      "source": [
        "Step 3 - Sort by lift\n",
        "\n",
        "We can use the `arrange` function with `desc` to sort by the lift from largest to smallest."
      ],
      "metadata": {
        "id": "jiapWI4Um4EY"
      }
    },
    {
      "cell_type": "code",
      "source": [
        "(many_rules\n",
        " %>% arrange(desc(lift))\n",
        " %>% head\n",
        " )"
      ],
      "metadata": {
        "id": "8MRvhlKvnCtz",
        "outputId": "70df3550-64f9-4ab6-a386-039374f4654f",
        "colab": {
          "base_uri": "https://localhost:8080/",
          "height": 286
        }
      },
      "execution_count": 19,
      "outputs": [
        {
          "output_type": "display_data",
          "data": {
            "text/html": [
              "<table class=\"dataframe\">\n",
              "<caption>A tibble: 6 × 6</caption>\n",
              "<thead>\n",
              "\t<tr><th scope=col>lhs</th><th scope=col>sup_milk</th><th scope=col>sup_lhs</th><th scope=col>joint_support</th><th scope=col>conf</th><th scope=col>lift</th></tr>\n",
              "\t<tr><th scope=col>&lt;chr&gt;</th><th scope=col>&lt;dbl&gt;</th><th scope=col>&lt;dbl&gt;</th><th scope=col>&lt;dbl&gt;</th><th scope=col>&lt;dbl&gt;</th><th scope=col>&lt;dbl&gt;</th></tr>\n",
              "</thead>\n",
              "<tbody>\n",
              "\t<tr><td>kitchen.utensil</td><td>0.255516</td><td>0.0004067107</td><td>0.0003050330</td><td>0.7500000</td><td>2.935237</td></tr>\n",
              "\t<tr><td>honey          </td><td>0.255516</td><td>0.0015251652</td><td>0.0011184545</td><td>0.7333333</td><td>2.870009</td></tr>\n",
              "\t<tr><td>cereals        </td><td>0.255516</td><td>0.0056939502</td><td>0.0036603965</td><td>0.6428571</td><td>2.515917</td></tr>\n",
              "\t<tr><td>rice           </td><td>0.255516</td><td>0.0076258261</td><td>0.0046771734</td><td>0.6133333</td><td>2.400371</td></tr>\n",
              "\t<tr><td>rubbing.alcohol</td><td>0.255516</td><td>0.0010167768</td><td>0.0006100661</td><td>0.6000000</td><td>2.348189</td></tr>\n",
              "\t<tr><td>cocoa.drinks   </td><td>0.255516</td><td>0.0022369090</td><td>0.0013218099</td><td>0.5909091</td><td>2.312611</td></tr>\n",
              "</tbody>\n",
              "</table>\n"
            ],
            "text/markdown": "\nA tibble: 6 × 6\n\n| lhs &lt;chr&gt; | sup_milk &lt;dbl&gt; | sup_lhs &lt;dbl&gt; | joint_support &lt;dbl&gt; | conf &lt;dbl&gt; | lift &lt;dbl&gt; |\n|---|---|---|---|---|---|\n| kitchen.utensil | 0.255516 | 0.0004067107 | 0.0003050330 | 0.7500000 | 2.935237 |\n| honey           | 0.255516 | 0.0015251652 | 0.0011184545 | 0.7333333 | 2.870009 |\n| cereals         | 0.255516 | 0.0056939502 | 0.0036603965 | 0.6428571 | 2.515917 |\n| rice            | 0.255516 | 0.0076258261 | 0.0046771734 | 0.6133333 | 2.400371 |\n| rubbing.alcohol | 0.255516 | 0.0010167768 | 0.0006100661 | 0.6000000 | 2.348189 |\n| cocoa.drinks    | 0.255516 | 0.0022369090 | 0.0013218099 | 0.5909091 | 2.312611 |\n\n",
            "text/latex": "A tibble: 6 × 6\n\\begin{tabular}{llllll}\n lhs & sup\\_milk & sup\\_lhs & joint\\_support & conf & lift\\\\\n <chr> & <dbl> & <dbl> & <dbl> & <dbl> & <dbl>\\\\\n\\hline\n\t kitchen.utensil & 0.255516 & 0.0004067107 & 0.0003050330 & 0.7500000 & 2.935237\\\\\n\t honey           & 0.255516 & 0.0015251652 & 0.0011184545 & 0.7333333 & 2.870009\\\\\n\t cereals         & 0.255516 & 0.0056939502 & 0.0036603965 & 0.6428571 & 2.515917\\\\\n\t rice            & 0.255516 & 0.0076258261 & 0.0046771734 & 0.6133333 & 2.400371\\\\\n\t rubbing.alcohol & 0.255516 & 0.0010167768 & 0.0006100661 & 0.6000000 & 2.348189\\\\\n\t cocoa.drinks    & 0.255516 & 0.0022369090 & 0.0013218099 & 0.5909091 & 2.312611\\\\\n\\end{tabular}\n",
            "text/plain": [
              "  lhs             sup_milk sup_lhs      joint_support conf      lift    \n",
              "1 kitchen.utensil 0.255516 0.0004067107 0.0003050330  0.7500000 2.935237\n",
              "2 honey           0.255516 0.0015251652 0.0011184545  0.7333333 2.870009\n",
              "3 cereals         0.255516 0.0056939502 0.0036603965  0.6428571 2.515917\n",
              "4 rice            0.255516 0.0076258261 0.0046771734  0.6133333 2.400371\n",
              "5 rubbing.alcohol 0.255516 0.0010167768 0.0006100661  0.6000000 2.348189\n",
              "6 cocoa.drinks    0.255516 0.0022369090 0.0013218099  0.5909091 2.312611"
            ]
          },
          "metadata": {}
        }
      ]
    },
    {
      "cell_type": "markdown",
      "metadata": {
        "id": "BBDSfBfABFW_"
      },
      "source": [
        "#### Step 4 - filter rules with high joint support; sort by lift"
      ]
    },
    {
      "cell_type": "code",
      "execution_count": 20,
      "metadata": {
        "colab": {
          "base_uri": "https://localhost:8080/",
          "height": 192
        },
        "id": "9EtExudVBFW_",
        "outputId": "91e464e6-22ca-4756-fe9e-d65d98d62b52"
      },
      "outputs": [
        {
          "output_type": "display_data",
          "data": {
            "text/html": [
              "<table class=\"dataframe\">\n",
              "<caption>A tibble: 3 × 6</caption>\n",
              "<thead>\n",
              "\t<tr><th scope=col>lhs</th><th scope=col>sup_milk</th><th scope=col>sup_lhs</th><th scope=col>joint_support</th><th scope=col>conf</th><th scope=col>lift</th></tr>\n",
              "\t<tr><th scope=col>&lt;chr&gt;</th><th scope=col>&lt;dbl&gt;</th><th scope=col>&lt;dbl&gt;</th><th scope=col>&lt;dbl&gt;</th><th scope=col>&lt;dbl&gt;</th><th scope=col>&lt;dbl&gt;</th></tr>\n",
              "</thead>\n",
              "<tbody>\n",
              "\t<tr><td>yogurt          </td><td>0.255516</td><td>0.1395018</td><td>0.05602440</td><td>0.4016035</td><td>1.571735</td></tr>\n",
              "\t<tr><td>other.vegetables</td><td>0.255516</td><td>0.1934926</td><td>0.07483477</td><td>0.3867578</td><td>1.513634</td></tr>\n",
              "\t<tr><td>rolls.buns      </td><td>0.255516</td><td>0.1839349</td><td>0.05663447</td><td>0.3079049</td><td>1.205032</td></tr>\n",
              "</tbody>\n",
              "</table>\n"
            ],
            "text/markdown": "\nA tibble: 3 × 6\n\n| lhs &lt;chr&gt; | sup_milk &lt;dbl&gt; | sup_lhs &lt;dbl&gt; | joint_support &lt;dbl&gt; | conf &lt;dbl&gt; | lift &lt;dbl&gt; |\n|---|---|---|---|---|---|\n| yogurt           | 0.255516 | 0.1395018 | 0.05602440 | 0.4016035 | 1.571735 |\n| other.vegetables | 0.255516 | 0.1934926 | 0.07483477 | 0.3867578 | 1.513634 |\n| rolls.buns       | 0.255516 | 0.1839349 | 0.05663447 | 0.3079049 | 1.205032 |\n\n",
            "text/latex": "A tibble: 3 × 6\n\\begin{tabular}{llllll}\n lhs & sup\\_milk & sup\\_lhs & joint\\_support & conf & lift\\\\\n <chr> & <dbl> & <dbl> & <dbl> & <dbl> & <dbl>\\\\\n\\hline\n\t yogurt           & 0.255516 & 0.1395018 & 0.05602440 & 0.4016035 & 1.571735\\\\\n\t other.vegetables & 0.255516 & 0.1934926 & 0.07483477 & 0.3867578 & 1.513634\\\\\n\t rolls.buns       & 0.255516 & 0.1839349 & 0.05663447 & 0.3079049 & 1.205032\\\\\n\\end{tabular}\n",
            "text/plain": [
              "  lhs              sup_milk sup_lhs   joint_support conf      lift    \n",
              "1 yogurt           0.255516 0.1395018 0.05602440    0.4016035 1.571735\n",
              "2 other.vegetables 0.255516 0.1934926 0.07483477    0.3867578 1.513634\n",
              "3 rolls.buns       0.255516 0.1839349 0.05663447    0.3079049 1.205032"
            ]
          },
          "metadata": {}
        }
      ],
      "source": [
        "(many_rules\n",
        " %>% filter(joint_support > .05)\n",
        " %>% arrange(desc(lift))\n",
        ")"
      ]
    },
    {
      "cell_type": "code",
      "source": [
        "(many_rules\n",
        " %>% filter(joint_support > .05)\n",
        " %>% arrange(lift)\n",
        ")"
      ],
      "metadata": {
        "id": "sVBkQUOEIyEr",
        "outputId": "adccdd19-044a-4e53-b3df-81f4cba999a4",
        "colab": {
          "base_uri": "https://localhost:8080/",
          "height": 192
        }
      },
      "execution_count": 21,
      "outputs": [
        {
          "output_type": "display_data",
          "data": {
            "text/html": [
              "<table class=\"dataframe\">\n",
              "<caption>A tibble: 3 × 6</caption>\n",
              "<thead>\n",
              "\t<tr><th scope=col>lhs</th><th scope=col>sup_milk</th><th scope=col>sup_lhs</th><th scope=col>joint_support</th><th scope=col>conf</th><th scope=col>lift</th></tr>\n",
              "\t<tr><th scope=col>&lt;chr&gt;</th><th scope=col>&lt;dbl&gt;</th><th scope=col>&lt;dbl&gt;</th><th scope=col>&lt;dbl&gt;</th><th scope=col>&lt;dbl&gt;</th><th scope=col>&lt;dbl&gt;</th></tr>\n",
              "</thead>\n",
              "<tbody>\n",
              "\t<tr><td>rolls.buns      </td><td>0.255516</td><td>0.1839349</td><td>0.05663447</td><td>0.3079049</td><td>1.205032</td></tr>\n",
              "\t<tr><td>other.vegetables</td><td>0.255516</td><td>0.1934926</td><td>0.07483477</td><td>0.3867578</td><td>1.513634</td></tr>\n",
              "\t<tr><td>yogurt          </td><td>0.255516</td><td>0.1395018</td><td>0.05602440</td><td>0.4016035</td><td>1.571735</td></tr>\n",
              "</tbody>\n",
              "</table>\n"
            ],
            "text/markdown": "\nA tibble: 3 × 6\n\n| lhs &lt;chr&gt; | sup_milk &lt;dbl&gt; | sup_lhs &lt;dbl&gt; | joint_support &lt;dbl&gt; | conf &lt;dbl&gt; | lift &lt;dbl&gt; |\n|---|---|---|---|---|---|\n| rolls.buns       | 0.255516 | 0.1839349 | 0.05663447 | 0.3079049 | 1.205032 |\n| other.vegetables | 0.255516 | 0.1934926 | 0.07483477 | 0.3867578 | 1.513634 |\n| yogurt           | 0.255516 | 0.1395018 | 0.05602440 | 0.4016035 | 1.571735 |\n\n",
            "text/latex": "A tibble: 3 × 6\n\\begin{tabular}{llllll}\n lhs & sup\\_milk & sup\\_lhs & joint\\_support & conf & lift\\\\\n <chr> & <dbl> & <dbl> & <dbl> & <dbl> & <dbl>\\\\\n\\hline\n\t rolls.buns       & 0.255516 & 0.1839349 & 0.05663447 & 0.3079049 & 1.205032\\\\\n\t other.vegetables & 0.255516 & 0.1934926 & 0.07483477 & 0.3867578 & 1.513634\\\\\n\t yogurt           & 0.255516 & 0.1395018 & 0.05602440 & 0.4016035 & 1.571735\\\\\n\\end{tabular}\n",
            "text/plain": [
              "  lhs              sup_milk sup_lhs   joint_support conf      lift    \n",
              "1 rolls.buns       0.255516 0.1839349 0.05663447    0.3079049 1.205032\n",
              "2 other.vegetables 0.255516 0.1934926 0.07483477    0.3867578 1.513634\n",
              "3 yogurt           0.255516 0.1395018 0.05602440    0.4016035 1.571735"
            ]
          },
          "metadata": {}
        }
      ]
    },
    {
      "cell_type": "markdown",
      "metadata": {
        "id": "pAi7jg2xBFXA"
      },
      "source": [
        "Interpretation of first rule:\n",
        "\n",
        "* Milk is purchased 25.6% of the time.  \n",
        "* Knowing yogurt was also purchased 'lifts' this rate of purchase by 57%.  \n",
        "* In other words, knowing yogurt was purchased increases the likelihood that milk was purchased by 57%, relative to the underlying rate at which milk was already being purchased."
      ]
    },
    {
      "cell_type": "markdown",
      "source": [
        "## <font color=\"red\"> Exercise 9.3.2 </font>\n",
        "\n",
        "Use a similar approach to all rules of the form $\\{\\text{<something>}\\}\\longrightarrow\\{\\text{ham}\\}$, then answer the following questions.\n",
        "\n",
        "1. Which of these rules is least useful in the prediction of `ham`?  Explain how you made this determination.\n",
        "2. Which items would you say are the most useful for predicting `ham`?  Explain.  \n"
      ],
      "metadata": {
        "id": "z3_BqloJF5_J"
      }
    },
    {
      "cell_type": "code",
      "source": [
        "# Your code here"
      ],
      "metadata": {
        "id": "0PONascWGWEn"
      },
      "execution_count": null,
      "outputs": []
    },
    {
      "cell_type": "markdown",
      "source": [
        "<font color=\"orange\">\n",
        "Your answers here\n",
        "</font>"
      ],
      "metadata": {
        "id": "TxeZLr2PGY61"
      }
    }
  ],
  "metadata": {
    "kernelspec": {
      "display_name": "R",
      "language": "R",
      "name": "ir"
    },
    "language_info": {
      "codemirror_mode": "r",
      "file_extension": ".r",
      "mimetype": "text/x-r-source",
      "name": "R",
      "pygments_lexer": "r",
      "version": "3.5.1"
    },
    "colab": {
      "provenance": [],
      "include_colab_link": true
    }
  },
  "nbformat": 4,
  "nbformat_minor": 0
}