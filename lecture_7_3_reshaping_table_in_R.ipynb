{
  "cells": [
    {
      "cell_type": "markdown",
      "metadata": {
        "id": "view-in-github",
        "colab_type": "text"
      },
      "source": [
        "<a href=\"https://colab.research.google.com/github/yardsale8/DSCI_210_R_notebooks/blob/main/lecture_7_3_reshaping_table_in_R.ipynb\" target=\"_parent\"><img src=\"https://colab.research.google.com/assets/colab-badge.svg\" alt=\"Open In Colab\"/></a>"
      ]
    },
    {
      "cell_type": "markdown",
      "metadata": {
        "id": "xmBBKRS0Y7zV"
      },
      "source": [
        "# Stacking and Unstacking in R"
      ]
    },
    {
      "cell_type": "markdown",
      "metadata": {
        "id": "K7Mxq-I4Y7za"
      },
      "source": [
        "# Stack and Unstack\n",
        "\n",
        "\n",
        "* `library(tidyr)`\n",
        "* Stack $\\rightarrow$ `gather`\n",
        "* Unstack $\\rightarrow$ `spread`"
      ]
    },
    {
      "cell_type": "code",
      "execution_count": null,
      "metadata": {
        "id": "uq5_P_W7Y7zb",
        "outputId": "a1d0e3fd-893f-42b0-d8a6-63786fb7b82b"
      },
      "outputs": [
        {
          "name": "stderr",
          "output_type": "stream",
          "text": [
            "\n",
            "Attaching package: ‘dplyr’\n",
            "\n",
            "The following objects are masked from ‘package:stats’:\n",
            "\n",
            "    filter, lag\n",
            "\n",
            "The following objects are masked from ‘package:base’:\n",
            "\n",
            "    intersect, setdiff, setequal, union\n",
            "\n"
          ]
        }
      ],
      "source": [
        "library(dplyr)\n",
        "library(tidyr)"
      ]
    },
    {
      "cell_type": "markdown",
      "metadata": {
        "id": "7PkIN9nkY7zd"
      },
      "source": [
        "## Stacking columns with `gather()`\n",
        "\n",
        "The function `gather` from the `tidyr` library is used to stack columns."
      ]
    },
    {
      "cell_type": "markdown",
      "metadata": {
        "id": "kDn7XVCVY7zd"
      },
      "source": [
        "Arguments are:\n",
        "\n",
        "1. label column name\n",
        "2. data column name\n",
        "3. then a list of columns to stack"
      ]
    },
    {
      "cell_type": "markdown",
      "metadata": {
        "id": "lWbYmE_hY7ze"
      },
      "source": [
        "##### Imperative syntax:\n",
        "```{R}\n",
        "new_df <- gather(old_df, key = \"lbl1\", value = \"lbl2\", col1, col2, col3, ...)\n",
        "```"
      ]
    },
    {
      "cell_type": "markdown",
      "metadata": {
        "id": "Vk2-1i6iY7ze"
      },
      "source": [
        "#### Piping syntax:\n",
        "```{R}\n",
        "data %>%\n",
        "  gather(key = \"lbl1\", value = \"lbl2\", col1, col2, col3, ...)\n",
        "```"
      ]
    },
    {
      "cell_type": "markdown",
      "metadata": {
        "id": "IfMZHGSRY7ze"
      },
      "source": [
        "### A familiar example"
      ]
    },
    {
      "cell_type": "code",
      "execution_count": null,
      "metadata": {
        "id": "7RzQYjInY7zf",
        "outputId": "8f77ca39-323d-496b-e99d-8a3e06a5d4ab"
      },
      "outputs": [
        {
          "data": {
            "text/html": [
              "<table>\n",
              "<thead><tr><th scope=col>Salesperson</th><th scope=col>Compact</th><th scope=col>Sedan</th><th scope=col>SUV</th><th scope=col>Truck</th></tr></thead>\n",
              "<tbody>\n",
              "\t<tr><td>Ann    </td><td>22     </td><td>18     </td><td>15     </td><td>12     </td></tr>\n",
              "\t<tr><td>Bob    </td><td>19     </td><td>12     </td><td>17     </td><td>20     </td></tr>\n",
              "\t<tr><td>Yolanda</td><td>19     </td><td> 8     </td><td>32     </td><td>15     </td></tr>\n",
              "\t<tr><td>Xerxes </td><td>12     </td><td>23     </td><td>18     </td><td> 9     </td></tr>\n",
              "</tbody>\n",
              "</table>\n"
            ],
            "text/latex": [
              "\\begin{tabular}{r|lllll}\n",
              " Salesperson & Compact & Sedan & SUV & Truck\\\\\n",
              "\\hline\n",
              "\t Ann     & 22      & 18      & 15      & 12     \\\\\n",
              "\t Bob     & 19      & 12      & 17      & 20     \\\\\n",
              "\t Yolanda & 19      &  8      & 32      & 15     \\\\\n",
              "\t Xerxes  & 12      & 23      & 18      &  9     \\\\\n",
              "\\end{tabular}\n"
            ],
            "text/markdown": [
              "\n",
              "Salesperson | Compact | Sedan | SUV | Truck | \n",
              "|---|---|---|---|\n",
              "| Ann     | 22      | 18      | 15      | 12      | \n",
              "| Bob     | 19      | 12      | 17      | 20      | \n",
              "| Yolanda | 19      |  8      | 32      | 15      | \n",
              "| Xerxes  | 12      | 23      | 18      |  9      | \n",
              "\n",
              "\n"
            ],
            "text/plain": [
              "  Salesperson Compact Sedan SUV Truck\n",
              "1 Ann         22      18    15  12   \n",
              "2 Bob         19      12    17  20   \n",
              "3 Yolanda     19       8    32  15   \n",
              "4 Xerxes      12      23    18   9   "
            ]
          },
          "metadata": {},
          "output_type": "display_data"
        }
      ],
      "source": [
        "sales <- read.csv(\"https://github.com/WSU-DataScience/DSCI_210_R_notebooks/raw/main/data/auto_sales.csv\")\n",
        "sales"
      ]
    },
    {
      "cell_type": "markdown",
      "metadata": {
        "id": "uVrDIk5qY7zf"
      },
      "source": [
        "#### Option 1: spell out all stacking columns"
      ]
    },
    {
      "cell_type": "code",
      "execution_count": null,
      "metadata": {
        "id": "aKdzRJfEY7zf",
        "outputId": "ed1a6319-7f31-4d54-e69a-5d12fc022209"
      },
      "outputs": [
        {
          "data": {
            "text/html": [
              "<table>\n",
              "<thead><tr><th scope=col>Salesperson</th><th scope=col>auto_type</th><th scope=col>num_sales</th></tr></thead>\n",
              "<tbody>\n",
              "\t<tr><td>Ann    </td><td>Compact</td><td>22     </td></tr>\n",
              "\t<tr><td>Bob    </td><td>Compact</td><td>19     </td></tr>\n",
              "\t<tr><td>Yolanda</td><td>Compact</td><td>19     </td></tr>\n",
              "\t<tr><td>Xerxes </td><td>Compact</td><td>12     </td></tr>\n",
              "\t<tr><td>Ann    </td><td>Sedan  </td><td>18     </td></tr>\n",
              "\t<tr><td>Bob    </td><td>Sedan  </td><td>12     </td></tr>\n",
              "</tbody>\n",
              "</table>\n"
            ],
            "text/latex": [
              "\\begin{tabular}{r|lll}\n",
              " Salesperson & auto\\_type & num\\_sales\\\\\n",
              "\\hline\n",
              "\t Ann     & Compact & 22     \\\\\n",
              "\t Bob     & Compact & 19     \\\\\n",
              "\t Yolanda & Compact & 19     \\\\\n",
              "\t Xerxes  & Compact & 12     \\\\\n",
              "\t Ann     & Sedan   & 18     \\\\\n",
              "\t Bob     & Sedan   & 12     \\\\\n",
              "\\end{tabular}\n"
            ],
            "text/markdown": [
              "\n",
              "Salesperson | auto_type | num_sales | \n",
              "|---|---|---|---|---|---|\n",
              "| Ann     | Compact | 22      | \n",
              "| Bob     | Compact | 19      | \n",
              "| Yolanda | Compact | 19      | \n",
              "| Xerxes  | Compact | 12      | \n",
              "| Ann     | Sedan   | 18      | \n",
              "| Bob     | Sedan   | 12      | \n",
              "\n",
              "\n"
            ],
            "text/plain": [
              "  Salesperson auto_type num_sales\n",
              "1 Ann         Compact   22       \n",
              "2 Bob         Compact   19       \n",
              "3 Yolanda     Compact   19       \n",
              "4 Xerxes      Compact   12       \n",
              "5 Ann         Sedan     18       \n",
              "6 Bob         Sedan     12       "
            ]
          },
          "metadata": {},
          "output_type": "display_data"
        }
      ],
      "source": [
        "stacked_sales <- (\n",
        "  sales\n",
        "    %>% gather(key = \"auto_type\",\n",
        "               value = \"num_sales\",\n",
        "               Compact, Sedan, SUV, Truck)\n",
        ")\n",
        "head(stacked_sales)"
      ]
    },
    {
      "cell_type": "markdown",
      "metadata": {
        "id": "bDPAVp9wY7zf"
      },
      "source": [
        "#### Option 2: refer to column range"
      ]
    },
    {
      "cell_type": "code",
      "execution_count": null,
      "metadata": {
        "id": "XgQlsCazY7zg",
        "outputId": "2de4b5d8-2392-47ea-db6b-9e54db986f1c"
      },
      "outputs": [
        {
          "data": {
            "text/html": [
              "<table>\n",
              "<thead><tr><th scope=col>Salesperson</th><th scope=col>auto_type</th><th scope=col>num_sales</th></tr></thead>\n",
              "<tbody>\n",
              "\t<tr><td>Ann    </td><td>Compact</td><td>22     </td></tr>\n",
              "\t<tr><td>Bob    </td><td>Compact</td><td>19     </td></tr>\n",
              "\t<tr><td>Yolanda</td><td>Compact</td><td>19     </td></tr>\n",
              "\t<tr><td>Xerxes </td><td>Compact</td><td>12     </td></tr>\n",
              "\t<tr><td>Ann    </td><td>Sedan  </td><td>18     </td></tr>\n",
              "\t<tr><td>Bob    </td><td>Sedan  </td><td>12     </td></tr>\n",
              "</tbody>\n",
              "</table>\n"
            ],
            "text/latex": [
              "\\begin{tabular}{r|lll}\n",
              " Salesperson & auto\\_type & num\\_sales\\\\\n",
              "\\hline\n",
              "\t Ann     & Compact & 22     \\\\\n",
              "\t Bob     & Compact & 19     \\\\\n",
              "\t Yolanda & Compact & 19     \\\\\n",
              "\t Xerxes  & Compact & 12     \\\\\n",
              "\t Ann     & Sedan   & 18     \\\\\n",
              "\t Bob     & Sedan   & 12     \\\\\n",
              "\\end{tabular}\n"
            ],
            "text/markdown": [
              "\n",
              "Salesperson | auto_type | num_sales | \n",
              "|---|---|---|---|---|---|\n",
              "| Ann     | Compact | 22      | \n",
              "| Bob     | Compact | 19      | \n",
              "| Yolanda | Compact | 19      | \n",
              "| Xerxes  | Compact | 12      | \n",
              "| Ann     | Sedan   | 18      | \n",
              "| Bob     | Sedan   | 12      | \n",
              "\n",
              "\n"
            ],
            "text/plain": [
              "  Salesperson auto_type num_sales\n",
              "1 Ann         Compact   22       \n",
              "2 Bob         Compact   19       \n",
              "3 Yolanda     Compact   19       \n",
              "4 Xerxes      Compact   12       \n",
              "5 Ann         Sedan     18       \n",
              "6 Bob         Sedan     12       "
            ]
          },
          "metadata": {},
          "output_type": "display_data"
        }
      ],
      "source": [
        "stacked_sales <- (\n",
        "  sales\n",
        "    %>% gather(key = \"auto_type\",\n",
        "               value = \"num_sales\",\n",
        "               Compact:Truck)\n",
        ")\n",
        "head(stacked_sales)"
      ]
    },
    {
      "cell_type": "markdown",
      "metadata": {
        "id": "0r7Ipv-jY7zg"
      },
      "source": [
        "#### Option 3: select by exclusion"
      ]
    },
    {
      "cell_type": "code",
      "execution_count": null,
      "metadata": {
        "id": "8GDmngIBY7zg",
        "outputId": "b5f3c2c7-51b9-4bd0-e8c7-5251569899ef"
      },
      "outputs": [
        {
          "data": {
            "text/html": [
              "<table>\n",
              "<thead><tr><th scope=col>Salesperson</th><th scope=col>auto_type</th><th scope=col>num_sales</th></tr></thead>\n",
              "<tbody>\n",
              "\t<tr><td>Ann    </td><td>Compact</td><td>22     </td></tr>\n",
              "\t<tr><td>Bob    </td><td>Compact</td><td>19     </td></tr>\n",
              "\t<tr><td>Yolanda</td><td>Compact</td><td>19     </td></tr>\n",
              "\t<tr><td>Xerxes </td><td>Compact</td><td>12     </td></tr>\n",
              "\t<tr><td>Ann    </td><td>Sedan  </td><td>18     </td></tr>\n",
              "\t<tr><td>Bob    </td><td>Sedan  </td><td>12     </td></tr>\n",
              "</tbody>\n",
              "</table>\n"
            ],
            "text/latex": [
              "\\begin{tabular}{r|lll}\n",
              " Salesperson & auto\\_type & num\\_sales\\\\\n",
              "\\hline\n",
              "\t Ann     & Compact & 22     \\\\\n",
              "\t Bob     & Compact & 19     \\\\\n",
              "\t Yolanda & Compact & 19     \\\\\n",
              "\t Xerxes  & Compact & 12     \\\\\n",
              "\t Ann     & Sedan   & 18     \\\\\n",
              "\t Bob     & Sedan   & 12     \\\\\n",
              "\\end{tabular}\n"
            ],
            "text/markdown": [
              "\n",
              "Salesperson | auto_type | num_sales | \n",
              "|---|---|---|---|---|---|\n",
              "| Ann     | Compact | 22      | \n",
              "| Bob     | Compact | 19      | \n",
              "| Yolanda | Compact | 19      | \n",
              "| Xerxes  | Compact | 12      | \n",
              "| Ann     | Sedan   | 18      | \n",
              "| Bob     | Sedan   | 12      | \n",
              "\n",
              "\n"
            ],
            "text/plain": [
              "  Salesperson auto_type num_sales\n",
              "1 Ann         Compact   22       \n",
              "2 Bob         Compact   19       \n",
              "3 Yolanda     Compact   19       \n",
              "4 Xerxes      Compact   12       \n",
              "5 Ann         Sedan     18       \n",
              "6 Bob         Sedan     12       "
            ]
          },
          "metadata": {},
          "output_type": "display_data"
        }
      ],
      "source": [
        "stacked_sales <- (\n",
        "  sales\n",
        "    %>% gather(key = \"auto_type\",\n",
        "               value = \"num_sales\",\n",
        "               -Salesperson)\n",
        ")\n",
        "head(stacked_sales)"
      ]
    },
    {
      "cell_type": "markdown",
      "metadata": {
        "id": "6QRQ5DcEY7zh"
      },
      "source": [
        "## <font color=\"red\"> Exercise 7.3.1 </font>\n",
        "\n",
        "Notice that the years are all in separate columns in the `world_bank_fresh_download.csv`.  "
      ]
    },
    {
      "cell_type": "code",
      "execution_count": null,
      "metadata": {
        "id": "x-fW5gNbY7zh",
        "outputId": "78004a94-341d-4ad4-cacf-71b98f7d22ad"
      },
      "outputs": [
        {
          "data": {
            "text/html": [
              "<table>\n",
              "<thead><tr><th scope=col>Country</th><th scope=col>Region</th><th scope=col>Indicator</th><th scope=col>X1960</th><th scope=col>X1961</th><th scope=col>X1962</th><th scope=col>X1963</th><th scope=col>X1964</th><th scope=col>X1965</th><th scope=col>X1966</th><th scope=col>⋯</th><th scope=col>X2006</th><th scope=col>X2007</th><th scope=col>X2008</th><th scope=col>X2009</th><th scope=col>X2010</th><th scope=col>X2011</th><th scope=col>X2012</th><th scope=col>X2013</th><th scope=col>X2014</th><th scope=col>X2015</th></tr></thead>\n",
              "<tbody>\n",
              "\t<tr><td>Algeria         </td><td>Africa          </td><td>Total_population</td><td>1.112489e+07    </td><td>1.140486e+07    </td><td>1.169015e+07    </td><td>1.198513e+07    </td><td>1.229597e+07    </td><td>1.262695e+07    </td><td>1.298027e+07    </td><td>⋯               </td><td>3.374933e+07    </td><td>3.426197e+07    </td><td>3.481106e+07    </td><td>3.540179e+07    </td><td>3.603616e+07    </td><td>3.671713e+07    </td><td>3.743943e+07    </td><td>3.818614e+07    </td><td>3.893433e+07    </td><td>39666519        </td></tr>\n",
              "\t<tr><td>Algeria         </td><td>Africa          </td><td>CO2_emissions   </td><td>5.537636e-01    </td><td>5.318100e-01    </td><td>4.849537e-01    </td><td>4.528245e-01    </td><td>4.595689e-01    </td><td>5.224485e-01    </td><td>6.494806e-01    </td><td>⋯               </td><td>2.990267e+00    </td><td>3.189978e+00    </td><td>3.205183e+00    </td><td>3.428472e+00    </td><td>3.309912e+00    </td><td>3.316038e+00    </td><td>          NA    </td><td>          NA    </td><td>          NA    </td><td>      NA        </td></tr>\n",
              "\t<tr><td>Algeria         </td><td>Africa          </td><td>Life_expectancy </td><td>4.613512e+01    </td><td>4.659032e+01    </td><td>4.704500e+01    </td><td>4.749620e+01    </td><td>4.794190e+01    </td><td>4.837610e+01    </td><td>4.879080e+01    </td><td>⋯               </td><td>7.255771e+01    </td><td>7.289837e+01    </td><td>7.321932e+01    </td><td>7.352102e+01    </td><td>7.380405e+01    </td><td>7.407000e+01    </td><td>7.432410e+01    </td><td>7.456895e+01    </td><td>7.480810e+01    </td><td>      NA        </td></tr>\n",
              "\t<tr><td>Algeria         </td><td>Africa          </td><td>Internet_usage  </td><td>          NA    </td><td>          NA    </td><td>          NA    </td><td>          NA    </td><td>          NA    </td><td>          NA    </td><td>          NA    </td><td>⋯               </td><td>7.375985e+00    </td><td>9.451191e+00    </td><td>1.018000e+01    </td><td>1.123000e+01    </td><td>1.250000e+01    </td><td>1.400000e+01    </td><td>1.522803e+01    </td><td>1.650000e+01    </td><td>1.809000e+01    </td><td>      NA        </td></tr>\n",
              "\t<tr><td>Angola          </td><td>Africa          </td><td>Total_population</td><td>5.270844e+06    </td><td>5.367287e+06    </td><td>5.465905e+06    </td><td>5.565808e+06    </td><td>5.665701e+06    </td><td>5.765025e+06    </td><td>5.863568e+06    </td><td>⋯               </td><td>1.854147e+07    </td><td>1.918391e+07    </td><td>1.984225e+07    </td><td>2.052010e+07    </td><td>2.121995e+07    </td><td>2.194230e+07    </td><td>2.268563e+07    </td><td>2.344820e+07    </td><td>2.422752e+07    </td><td>25021974        </td></tr>\n",
              "\t<tr><td>Angola          </td><td>Africa          </td><td>CO2_emissions   </td><td>1.043571e-01    </td><td>8.471841e-02    </td><td>2.160253e-01    </td><td>2.068771e-01    </td><td>2.161741e-01    </td><td>2.060890e-01    </td><td>2.651641e-01    </td><td>⋯               </td><td>1.200877e+00    </td><td>1.311096e+00    </td><td>1.369425e+00    </td><td>1.430873e+00    </td><td>1.401654e+00    </td><td>1.354008e+00    </td><td>          NA    </td><td>          NA    </td><td>          NA    </td><td>      NA        </td></tr>\n",
              "</tbody>\n",
              "</table>\n"
            ],
            "text/latex": [
              "\\begin{tabular}{r|lllllllllllllllllllllllllllllllllllllllllllllllllllllllllll}\n",
              " Country & Region & Indicator & X1960 & X1961 & X1962 & X1963 & X1964 & X1965 & X1966 & ⋯ & X2006 & X2007 & X2008 & X2009 & X2010 & X2011 & X2012 & X2013 & X2014 & X2015\\\\\n",
              "\\hline\n",
              "\t Algeria            & Africa             & Total\\_population & 1.112489e+07       & 1.140486e+07       & 1.169015e+07       & 1.198513e+07       & 1.229597e+07       & 1.262695e+07       & 1.298027e+07       & ⋯                  & 3.374933e+07       & 3.426197e+07       & 3.481106e+07       & 3.540179e+07       & 3.603616e+07       & 3.671713e+07       & 3.743943e+07       & 3.818614e+07       & 3.893433e+07       & 39666519          \\\\\n",
              "\t Algeria            & Africa             & CO2\\_emissions    & 5.537636e-01       & 5.318100e-01       & 4.849537e-01       & 4.528245e-01       & 4.595689e-01       & 5.224485e-01       & 6.494806e-01       & ⋯                  & 2.990267e+00       & 3.189978e+00       & 3.205183e+00       & 3.428472e+00       & 3.309912e+00       & 3.316038e+00       &           NA       &           NA       &           NA       &       NA          \\\\\n",
              "\t Algeria            & Africa             & Life\\_expectancy  & 4.613512e+01       & 4.659032e+01       & 4.704500e+01       & 4.749620e+01       & 4.794190e+01       & 4.837610e+01       & 4.879080e+01       & ⋯                  & 7.255771e+01       & 7.289837e+01       & 7.321932e+01       & 7.352102e+01       & 7.380405e+01       & 7.407000e+01       & 7.432410e+01       & 7.456895e+01       & 7.480810e+01       &       NA          \\\\\n",
              "\t Algeria            & Africa             & Internet\\_usage   &           NA       &           NA       &           NA       &           NA       &           NA       &           NA       &           NA       & ⋯                  & 7.375985e+00       & 9.451191e+00       & 1.018000e+01       & 1.123000e+01       & 1.250000e+01       & 1.400000e+01       & 1.522803e+01       & 1.650000e+01       & 1.809000e+01       &       NA          \\\\\n",
              "\t Angola             & Africa             & Total\\_population & 5.270844e+06       & 5.367287e+06       & 5.465905e+06       & 5.565808e+06       & 5.665701e+06       & 5.765025e+06       & 5.863568e+06       & ⋯                  & 1.854147e+07       & 1.918391e+07       & 1.984225e+07       & 2.052010e+07       & 2.121995e+07       & 2.194230e+07       & 2.268563e+07       & 2.344820e+07       & 2.422752e+07       & 25021974          \\\\\n",
              "\t Angola             & Africa             & CO2\\_emissions    & 1.043571e-01       & 8.471841e-02       & 2.160253e-01       & 2.068771e-01       & 2.161741e-01       & 2.060890e-01       & 2.651641e-01       & ⋯                  & 1.200877e+00       & 1.311096e+00       & 1.369425e+00       & 1.430873e+00       & 1.401654e+00       & 1.354008e+00       &           NA       &           NA       &           NA       &       NA          \\\\\n",
              "\\end{tabular}\n"
            ],
            "text/markdown": [
              "\n",
              "Country | Region | Indicator | X1960 | X1961 | X1962 | X1963 | X1964 | X1965 | X1966 | ⋯ | X2006 | X2007 | X2008 | X2009 | X2010 | X2011 | X2012 | X2013 | X2014 | X2015 | \n",
              "|---|---|---|---|---|---|\n",
              "| Algeria          | Africa           | Total_population | 1.112489e+07     | 1.140486e+07     | 1.169015e+07     | 1.198513e+07     | 1.229597e+07     | 1.262695e+07     | 1.298027e+07     | ⋯                | 3.374933e+07     | 3.426197e+07     | 3.481106e+07     | 3.540179e+07     | 3.603616e+07     | 3.671713e+07     | 3.743943e+07     | 3.818614e+07     | 3.893433e+07     | 39666519         | \n",
              "| Algeria          | Africa           | CO2_emissions    | 5.537636e-01     | 5.318100e-01     | 4.849537e-01     | 4.528245e-01     | 4.595689e-01     | 5.224485e-01     | 6.494806e-01     | ⋯                | 2.990267e+00     | 3.189978e+00     | 3.205183e+00     | 3.428472e+00     | 3.309912e+00     | 3.316038e+00     |           NA     |           NA     |           NA     |       NA         | \n",
              "| Algeria          | Africa           | Life_expectancy  | 4.613512e+01     | 4.659032e+01     | 4.704500e+01     | 4.749620e+01     | 4.794190e+01     | 4.837610e+01     | 4.879080e+01     | ⋯                | 7.255771e+01     | 7.289837e+01     | 7.321932e+01     | 7.352102e+01     | 7.380405e+01     | 7.407000e+01     | 7.432410e+01     | 7.456895e+01     | 7.480810e+01     |       NA         | \n",
              "| Algeria          | Africa           | Internet_usage   |           NA     |           NA     |           NA     |           NA     |           NA     |           NA     |           NA     | ⋯                | 7.375985e+00     | 9.451191e+00     | 1.018000e+01     | 1.123000e+01     | 1.250000e+01     | 1.400000e+01     | 1.522803e+01     | 1.650000e+01     | 1.809000e+01     |       NA         | \n",
              "| Angola           | Africa           | Total_population | 5.270844e+06     | 5.367287e+06     | 5.465905e+06     | 5.565808e+06     | 5.665701e+06     | 5.765025e+06     | 5.863568e+06     | ⋯                | 1.854147e+07     | 1.918391e+07     | 1.984225e+07     | 2.052010e+07     | 2.121995e+07     | 2.194230e+07     | 2.268563e+07     | 2.344820e+07     | 2.422752e+07     | 25021974         | \n",
              "| Angola           | Africa           | CO2_emissions    | 1.043571e-01     | 8.471841e-02     | 2.160253e-01     | 2.068771e-01     | 2.161741e-01     | 2.060890e-01     | 2.651641e-01     | ⋯                | 1.200877e+00     | 1.311096e+00     | 1.369425e+00     | 1.430873e+00     | 1.401654e+00     | 1.354008e+00     |           NA     |           NA     |           NA     |       NA         | \n",
              "\n",
              "\n"
            ],
            "text/plain": [
              "  Country Region Indicator        X1960        X1961        X1962       \n",
              "1 Algeria Africa Total_population 1.112489e+07 1.140486e+07 1.169015e+07\n",
              "2 Algeria Africa CO2_emissions    5.537636e-01 5.318100e-01 4.849537e-01\n",
              "3 Algeria Africa Life_expectancy  4.613512e+01 4.659032e+01 4.704500e+01\n",
              "4 Algeria Africa Internet_usage             NA           NA           NA\n",
              "5 Angola  Africa Total_population 5.270844e+06 5.367287e+06 5.465905e+06\n",
              "6 Angola  Africa CO2_emissions    1.043571e-01 8.471841e-02 2.160253e-01\n",
              "  X1963        X1964        X1965        X1966        ⋯ X2006       \n",
              "1 1.198513e+07 1.229597e+07 1.262695e+07 1.298027e+07 ⋯ 3.374933e+07\n",
              "2 4.528245e-01 4.595689e-01 5.224485e-01 6.494806e-01 ⋯ 2.990267e+00\n",
              "3 4.749620e+01 4.794190e+01 4.837610e+01 4.879080e+01 ⋯ 7.255771e+01\n",
              "4           NA           NA           NA           NA ⋯ 7.375985e+00\n",
              "5 5.565808e+06 5.665701e+06 5.765025e+06 5.863568e+06 ⋯ 1.854147e+07\n",
              "6 2.068771e-01 2.161741e-01 2.060890e-01 2.651641e-01 ⋯ 1.200877e+00\n",
              "  X2007        X2008        X2009        X2010        X2011        X2012       \n",
              "1 3.426197e+07 3.481106e+07 3.540179e+07 3.603616e+07 3.671713e+07 3.743943e+07\n",
              "2 3.189978e+00 3.205183e+00 3.428472e+00 3.309912e+00 3.316038e+00           NA\n",
              "3 7.289837e+01 7.321932e+01 7.352102e+01 7.380405e+01 7.407000e+01 7.432410e+01\n",
              "4 9.451191e+00 1.018000e+01 1.123000e+01 1.250000e+01 1.400000e+01 1.522803e+01\n",
              "5 1.918391e+07 1.984225e+07 2.052010e+07 2.121995e+07 2.194230e+07 2.268563e+07\n",
              "6 1.311096e+00 1.369425e+00 1.430873e+00 1.401654e+00 1.354008e+00           NA\n",
              "  X2013        X2014        X2015   \n",
              "1 3.818614e+07 3.893433e+07 39666519\n",
              "2           NA           NA       NA\n",
              "3 7.456895e+01 7.480810e+01       NA\n",
              "4 1.650000e+01 1.809000e+01       NA\n",
              "5 2.344820e+07 2.422752e+07 25021974\n",
              "6           NA           NA       NA"
            ]
          },
          "metadata": {},
          "output_type": "display_data"
        }
      ],
      "source": [
        "world_bank = read.csv(\"https://github.com/WSU-DataScience/DSCI_210_R_notebooks/raw/main/data/world_bank_fresh_download.csv\")\n",
        "head(world_bank)"
      ]
    },
    {
      "cell_type": "markdown",
      "metadata": {
        "id": "uh2S-N6XY7zh"
      },
      "source": [
        "**Question:** Why is this a violation of the Golden Rule?"
      ]
    },
    {
      "cell_type": "markdown",
      "metadata": {
        "id": "gUaPLeAkY7zh"
      },
      "source": [
        "> Your answer here"
      ]
    },
    {
      "cell_type": "markdown",
      "metadata": {
        "id": "WYpK-KppY7zh"
      },
      "source": [
        "**Task:** Fix this issue by\n",
        "\n",
        "1. Use `gather` in a pipe to stack all these columns.  Store the years in a column called `year` and the number in a column called `values`.\n",
        "2. Using `mutate`, `gsub`, and `as.numeric` to clean up the resulting `year` column and convert it to a numeric column.\n",
        "3. Save the resulting dataframe to a variable named `world_bank_stacked`"
      ]
    },
    {
      "cell_type": "code",
      "execution_count": null,
      "metadata": {
        "id": "hfeG_opyY7zi"
      },
      "outputs": [],
      "source": [
        "# Your code here"
      ]
    },
    {
      "cell_type": "markdown",
      "metadata": {
        "id": "M8sB-B4-Y7zi"
      },
      "source": [
        "## Unstacking columns with `spread()`\n",
        "\n",
        "The function `spread`, also from the `tidyr` library, is used to stack columns.\n",
        "\n",
        "Arguments:\n",
        "\n",
        "1. Column to split on\n",
        "2. Column to split"
      ]
    },
    {
      "cell_type": "markdown",
      "metadata": {
        "id": "vjNNrNk7Y7zi"
      },
      "source": [
        "#### Imperative syntac:\n",
        "\n",
        "```{r}\n",
        "new_df <- spread(old_df, key = col1, value = col2)\n",
        "```\n",
        "#### Piping:\n",
        "\n",
        "```{r}\n",
        "data %>%\n",
        "  spread(key = col1, value = col2)\n",
        "```"
      ]
    },
    {
      "cell_type": "markdown",
      "metadata": {
        "id": "FKHXy5PXY7zi"
      },
      "source": [
        "#### A simple unstack"
      ]
    },
    {
      "cell_type": "code",
      "execution_count": null,
      "metadata": {
        "scrolled": true,
        "id": "t6lajaR8Y7zi",
        "outputId": "5234b610-fe91-4a7e-e0be-74ec7722e03e"
      },
      "outputs": [
        {
          "data": {
            "text/html": [
              "<table>\n",
              "<thead><tr><th scope=col>Salesperson</th><th scope=col>auto_type</th><th scope=col>num_sales</th></tr></thead>\n",
              "<tbody>\n",
              "\t<tr><td>Ann    </td><td>Compact</td><td>22     </td></tr>\n",
              "\t<tr><td>Bob    </td><td>Compact</td><td>19     </td></tr>\n",
              "\t<tr><td>Yolanda</td><td>Compact</td><td>19     </td></tr>\n",
              "\t<tr><td>Xerxes </td><td>Compact</td><td>12     </td></tr>\n",
              "\t<tr><td>Ann    </td><td>Sedan  </td><td>18     </td></tr>\n",
              "\t<tr><td>Bob    </td><td>Sedan  </td><td>12     </td></tr>\n",
              "</tbody>\n",
              "</table>\n"
            ],
            "text/latex": [
              "\\begin{tabular}{r|lll}\n",
              " Salesperson & auto\\_type & num\\_sales\\\\\n",
              "\\hline\n",
              "\t Ann     & Compact & 22     \\\\\n",
              "\t Bob     & Compact & 19     \\\\\n",
              "\t Yolanda & Compact & 19     \\\\\n",
              "\t Xerxes  & Compact & 12     \\\\\n",
              "\t Ann     & Sedan   & 18     \\\\\n",
              "\t Bob     & Sedan   & 12     \\\\\n",
              "\\end{tabular}\n"
            ],
            "text/markdown": [
              "\n",
              "Salesperson | auto_type | num_sales | \n",
              "|---|---|---|---|---|---|\n",
              "| Ann     | Compact | 22      | \n",
              "| Bob     | Compact | 19      | \n",
              "| Yolanda | Compact | 19      | \n",
              "| Xerxes  | Compact | 12      | \n",
              "| Ann     | Sedan   | 18      | \n",
              "| Bob     | Sedan   | 12      | \n",
              "\n",
              "\n"
            ],
            "text/plain": [
              "  Salesperson auto_type num_sales\n",
              "1 Ann         Compact   22       \n",
              "2 Bob         Compact   19       \n",
              "3 Yolanda     Compact   19       \n",
              "4 Xerxes      Compact   12       \n",
              "5 Ann         Sedan     18       \n",
              "6 Bob         Sedan     12       "
            ]
          },
          "metadata": {},
          "output_type": "display_data"
        }
      ],
      "source": [
        "head(stacked_sales)"
      ]
    },
    {
      "cell_type": "code",
      "execution_count": null,
      "metadata": {
        "id": "wZoC4YTUY7zk",
        "outputId": "7735d93d-491e-4e65-a500-b37c4aee98f7"
      },
      "outputs": [
        {
          "data": {
            "text/html": [
              "<table>\n",
              "<thead><tr><th scope=col>Salesperson</th><th scope=col>Compact</th><th scope=col>Sedan</th><th scope=col>SUV</th><th scope=col>Truck</th></tr></thead>\n",
              "<tbody>\n",
              "\t<tr><td>Ann    </td><td>22     </td><td>18     </td><td>15     </td><td>12     </td></tr>\n",
              "\t<tr><td>Bob    </td><td>19     </td><td>12     </td><td>17     </td><td>20     </td></tr>\n",
              "\t<tr><td>Xerxes </td><td>12     </td><td>23     </td><td>18     </td><td> 9     </td></tr>\n",
              "\t<tr><td>Yolanda</td><td>19     </td><td> 8     </td><td>32     </td><td>15     </td></tr>\n",
              "</tbody>\n",
              "</table>\n"
            ],
            "text/latex": [
              "\\begin{tabular}{r|lllll}\n",
              " Salesperson & Compact & Sedan & SUV & Truck\\\\\n",
              "\\hline\n",
              "\t Ann     & 22      & 18      & 15      & 12     \\\\\n",
              "\t Bob     & 19      & 12      & 17      & 20     \\\\\n",
              "\t Xerxes  & 12      & 23      & 18      &  9     \\\\\n",
              "\t Yolanda & 19      &  8      & 32      & 15     \\\\\n",
              "\\end{tabular}\n"
            ],
            "text/markdown": [
              "\n",
              "Salesperson | Compact | Sedan | SUV | Truck | \n",
              "|---|---|---|---|\n",
              "| Ann     | 22      | 18      | 15      | 12      | \n",
              "| Bob     | 19      | 12      | 17      | 20      | \n",
              "| Xerxes  | 12      | 23      | 18      |  9      | \n",
              "| Yolanda | 19      |  8      | 32      | 15      | \n",
              "\n",
              "\n"
            ],
            "text/plain": [
              "  Salesperson Compact Sedan SUV Truck\n",
              "1 Ann         22      18    15  12   \n",
              "2 Bob         19      12    17  20   \n",
              "3 Xerxes      12      23    18   9   \n",
              "4 Yolanda     19       8    32  15   "
            ]
          },
          "metadata": {},
          "output_type": "display_data"
        }
      ],
      "source": [
        "(stacked_sales\n",
        " %>% spread(key = auto_type,\n",
        "            value = num_sales)\n",
        " )"
      ]
    },
    {
      "cell_type": "markdown",
      "metadata": {
        "id": "Dd9t2rPgY7zk"
      },
      "source": [
        "## <font color=\"red\"> Exercise 7.3.2 </font>\n",
        "\n",
        "Continuing the `world_bank_fresh_download.csv`, notice that the labels in the `Indicator` column are actually variables.\n",
        "\n"
      ]
    },
    {
      "cell_type": "code",
      "execution_count": null,
      "metadata": {
        "id": "IUYqzbbkY7zk",
        "outputId": "59e4a583-2cec-475a-df5a-91f6f84e8f73"
      },
      "outputs": [
        {
          "ename": "ERROR",
          "evalue": "Error in head(world_bank_stacked): object 'world_bank_stacked' not found\n",
          "output_type": "error",
          "traceback": [
            "Error in head(world_bank_stacked): object 'world_bank_stacked' not found\nTraceback:\n",
            "1. head(world_bank_stacked)"
          ]
        }
      ],
      "source": [
        "head(world_bank_stacked)"
      ]
    },
    {
      "cell_type": "markdown",
      "metadata": {
        "id": "PHXC3PF3Y7zl"
      },
      "source": [
        "**Question:** Why is this a violation of the Golden Rule?"
      ]
    },
    {
      "cell_type": "markdown",
      "metadata": {
        "id": "jDQ4P9ELY7zl"
      },
      "source": [
        "> Your answer here"
      ]
    },
    {
      "cell_type": "markdown",
      "metadata": {
        "id": "fRe5WhMfY7zl"
      },
      "source": [
        "**Task:** Fix this issue by\n",
        "\n",
        "1. Use `spread` in a pipe to unstack all these labels into their own columns.\n",
        "2. Save the resulting dataframe to a variable named `world_bank_clean`"
      ]
    },
    {
      "cell_type": "code",
      "execution_count": null,
      "metadata": {
        "id": "yfEcEXRQY7zm"
      },
      "outputs": [],
      "source": [
        "# Your code here"
      ]
    }
  ],
  "metadata": {
    "kernelspec": {
      "display_name": "R",
      "language": "R",
      "name": "ir"
    },
    "language_info": {
      "codemirror_mode": "r",
      "file_extension": ".r",
      "mimetype": "text/x-r-source",
      "name": "R",
      "pygments_lexer": "r",
      "version": "3.5.1"
    },
    "colab": {
      "provenance": [],
      "include_colab_link": true
    }
  },
  "nbformat": 4,
  "nbformat_minor": 0
}