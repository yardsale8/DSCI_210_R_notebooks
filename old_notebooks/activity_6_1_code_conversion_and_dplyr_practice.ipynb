{
 "cells": [
  {
   "cell_type": "markdown",
   "metadata": {},
   "source": [
    "# Activity 9.1 - Code conversion and `dplyr` practice"
   ]
  },
  {
   "cell_type": "code",
   "execution_count": 2,
   "metadata": {},
   "outputs": [
    {
     "name": "stderr",
     "output_type": "stream",
     "text": [
      "\n",
      "Attaching package: ‘dplyr’\n",
      "\n",
      "The following objects are masked from ‘package:stats’:\n",
      "\n",
      "    filter, lag\n",
      "\n",
      "The following objects are masked from ‘package:base’:\n",
      "\n",
      "    intersect, setdiff, setequal, union\n",
      "\n"
     ]
    }
   ],
   "source": [
    "library('dplyr')"
   ]
  },
  {
   "cell_type": "code",
   "execution_count": 3,
   "metadata": {},
   "outputs": [
    {
     "data": {
      "text/html": [
       "<table>\n",
       "<thead><tr><th scope=col>record_id</th><th scope=col>month</th><th scope=col>day</th><th scope=col>year</th><th scope=col>plot_id</th><th scope=col>species_id</th><th scope=col>sex</th><th scope=col>hindfoot_length</th><th scope=col>weight</th><th scope=col>genus</th><th scope=col>species</th><th scope=col>taxa</th><th scope=col>plot_type</th></tr></thead>\n",
       "<tbody>\n",
       "\t<tr><td>  1     </td><td> 7      </td><td>16      </td><td>1977    </td><td>2       </td><td>NL      </td><td>M       </td><td>32      </td><td>NA      </td><td>Neotoma </td><td>albigula</td><td>Rodent  </td><td>Control </td></tr>\n",
       "\t<tr><td> 72     </td><td> 8      </td><td>19      </td><td>1977    </td><td>2       </td><td>NL      </td><td>M       </td><td>31      </td><td>NA      </td><td>Neotoma </td><td>albigula</td><td>Rodent  </td><td>Control </td></tr>\n",
       "\t<tr><td>224     </td><td> 9      </td><td>13      </td><td>1977    </td><td>2       </td><td>NL      </td><td>        </td><td>NA      </td><td>NA      </td><td>Neotoma </td><td>albigula</td><td>Rodent  </td><td>Control </td></tr>\n",
       "\t<tr><td>266     </td><td>10      </td><td>16      </td><td>1977    </td><td>2       </td><td>NL      </td><td>        </td><td>NA      </td><td>NA      </td><td>Neotoma </td><td>albigula</td><td>Rodent  </td><td>Control </td></tr>\n",
       "\t<tr><td>349     </td><td>11      </td><td>12      </td><td>1977    </td><td>2       </td><td>NL      </td><td>        </td><td>NA      </td><td>NA      </td><td>Neotoma </td><td>albigula</td><td>Rodent  </td><td>Control </td></tr>\n",
       "\t<tr><td>363     </td><td>11      </td><td>12      </td><td>1977    </td><td>2       </td><td>NL      </td><td>        </td><td>NA      </td><td>NA      </td><td>Neotoma </td><td>albigula</td><td>Rodent  </td><td>Control </td></tr>\n",
       "</tbody>\n",
       "</table>\n"
      ],
      "text/latex": [
       "\\begin{tabular}{r|lllllllllllll}\n",
       " record\\_id & month & day & year & plot\\_id & species\\_id & sex & hindfoot\\_length & weight & genus & species & taxa & plot\\_type\\\\\n",
       "\\hline\n",
       "\t   1      &  7       & 16       & 1977     & 2        & NL       & M        & 32       & NA       & Neotoma  & albigula & Rodent   & Control \\\\\n",
       "\t  72      &  8       & 19       & 1977     & 2        & NL       & M        & 31       & NA       & Neotoma  & albigula & Rodent   & Control \\\\\n",
       "\t 224      &  9       & 13       & 1977     & 2        & NL       &          & NA       & NA       & Neotoma  & albigula & Rodent   & Control \\\\\n",
       "\t 266      & 10       & 16       & 1977     & 2        & NL       &          & NA       & NA       & Neotoma  & albigula & Rodent   & Control \\\\\n",
       "\t 349      & 11       & 12       & 1977     & 2        & NL       &          & NA       & NA       & Neotoma  & albigula & Rodent   & Control \\\\\n",
       "\t 363      & 11       & 12       & 1977     & 2        & NL       &          & NA       & NA       & Neotoma  & albigula & Rodent   & Control \\\\\n",
       "\\end{tabular}\n"
      ],
      "text/markdown": [
       "\n",
       "record_id | month | day | year | plot_id | species_id | sex | hindfoot_length | weight | genus | species | taxa | plot_type | \n",
       "|---|---|---|---|---|---|\n",
       "|   1      |  7       | 16       | 1977     | 2        | NL       | M        | 32       | NA       | Neotoma  | albigula | Rodent   | Control  | \n",
       "|  72      |  8       | 19       | 1977     | 2        | NL       | M        | 31       | NA       | Neotoma  | albigula | Rodent   | Control  | \n",
       "| 224      |  9       | 13       | 1977     | 2        | NL       |          | NA       | NA       | Neotoma  | albigula | Rodent   | Control  | \n",
       "| 266      | 10       | 16       | 1977     | 2        | NL       |          | NA       | NA       | Neotoma  | albigula | Rodent   | Control  | \n",
       "| 349      | 11       | 12       | 1977     | 2        | NL       |          | NA       | NA       | Neotoma  | albigula | Rodent   | Control  | \n",
       "| 363      | 11       | 12       | 1977     | 2        | NL       |          | NA       | NA       | Neotoma  | albigula | Rodent   | Control  | \n",
       "\n",
       "\n"
      ],
      "text/plain": [
       "  record_id month day year plot_id species_id sex hindfoot_length weight\n",
       "1   1        7    16  1977 2       NL         M   32              NA    \n",
       "2  72        8    19  1977 2       NL         M   31              NA    \n",
       "3 224        9    13  1977 2       NL             NA              NA    \n",
       "4 266       10    16  1977 2       NL             NA              NA    \n",
       "5 349       11    12  1977 2       NL             NA              NA    \n",
       "6 363       11    12  1977 2       NL             NA              NA    \n",
       "  genus   species  taxa   plot_type\n",
       "1 Neotoma albigula Rodent Control  \n",
       "2 Neotoma albigula Rodent Control  \n",
       "3 Neotoma albigula Rodent Control  \n",
       "4 Neotoma albigula Rodent Control  \n",
       "5 Neotoma albigula Rodent Control  \n",
       "6 Neotoma albigula Rodent Control  "
      ]
     },
     "metadata": {},
     "output_type": "display_data"
    }
   ],
   "source": [
    "surveys <- read.csv('https://github.com/WSU-DataScience/DSCI_210_R_notebooks/raw/main/data/portal_data_joined.csv')\n",
    "head(surveys)"
   ]
  },
  {
   "cell_type": "markdown",
   "metadata": {},
   "source": [
    "## Problem 1\n",
    "\n",
    "\n",
    "Consider the following code that uses piping:\n",
    "  "
   ]
  },
  {
   "cell_type": "code",
   "execution_count": 4,
   "metadata": {
    "scrolled": true
   },
   "outputs": [
    {
     "data": {
      "text/html": [
       "<table>\n",
       "<thead><tr><th scope=col>species_id</th><th scope=col>sex</th><th scope=col>weight</th></tr></thead>\n",
       "<tbody>\n",
       "\t<tr><td>PF</td><td>F </td><td>4 </td></tr>\n",
       "\t<tr><td>PF</td><td>F </td><td>4 </td></tr>\n",
       "\t<tr><td>PF</td><td>M </td><td>4 </td></tr>\n",
       "\t<tr><td>RM</td><td>F </td><td>4 </td></tr>\n",
       "\t<tr><td>RM</td><td>M </td><td>4 </td></tr>\n",
       "\t<tr><td>PF</td><td>  </td><td>4 </td></tr>\n",
       "\t<tr><td>PP</td><td>M </td><td>4 </td></tr>\n",
       "\t<tr><td>RM</td><td>M </td><td>4 </td></tr>\n",
       "\t<tr><td>RM</td><td>M </td><td>4 </td></tr>\n",
       "\t<tr><td>RM</td><td>M </td><td>4 </td></tr>\n",
       "\t<tr><td>PF</td><td>M </td><td>4 </td></tr>\n",
       "\t<tr><td>PF</td><td>F </td><td>4 </td></tr>\n",
       "\t<tr><td>RM</td><td>M </td><td>4 </td></tr>\n",
       "\t<tr><td>RM</td><td>M </td><td>4 </td></tr>\n",
       "\t<tr><td>RM</td><td>F </td><td>4 </td></tr>\n",
       "\t<tr><td>RM</td><td>M </td><td>4 </td></tr>\n",
       "\t<tr><td>RM</td><td>M </td><td>4 </td></tr>\n",
       "</tbody>\n",
       "</table>\n"
      ],
      "text/latex": [
       "\\begin{tabular}{r|lll}\n",
       " species\\_id & sex & weight\\\\\n",
       "\\hline\n",
       "\t PF & F  & 4 \\\\\n",
       "\t PF & F  & 4 \\\\\n",
       "\t PF & M  & 4 \\\\\n",
       "\t RM & F  & 4 \\\\\n",
       "\t RM & M  & 4 \\\\\n",
       "\t PF &    & 4 \\\\\n",
       "\t PP & M  & 4 \\\\\n",
       "\t RM & M  & 4 \\\\\n",
       "\t RM & M  & 4 \\\\\n",
       "\t RM & M  & 4 \\\\\n",
       "\t PF & M  & 4 \\\\\n",
       "\t PF & F  & 4 \\\\\n",
       "\t RM & M  & 4 \\\\\n",
       "\t RM & M  & 4 \\\\\n",
       "\t RM & F  & 4 \\\\\n",
       "\t RM & M  & 4 \\\\\n",
       "\t RM & M  & 4 \\\\\n",
       "\\end{tabular}\n"
      ],
      "text/markdown": [
       "\n",
       "species_id | sex | weight | \n",
       "|---|---|---|---|---|---|---|---|---|---|---|---|---|---|---|---|---|\n",
       "| PF | F  | 4  | \n",
       "| PF | F  | 4  | \n",
       "| PF | M  | 4  | \n",
       "| RM | F  | 4  | \n",
       "| RM | M  | 4  | \n",
       "| PF |    | 4  | \n",
       "| PP | M  | 4  | \n",
       "| RM | M  | 4  | \n",
       "| RM | M  | 4  | \n",
       "| RM | M  | 4  | \n",
       "| PF | M  | 4  | \n",
       "| PF | F  | 4  | \n",
       "| RM | M  | 4  | \n",
       "| RM | M  | 4  | \n",
       "| RM | F  | 4  | \n",
       "| RM | M  | 4  | \n",
       "| RM | M  | 4  | \n",
       "\n",
       "\n"
      ],
      "text/plain": [
       "   species_id sex weight\n",
       "1  PF         F   4     \n",
       "2  PF         F   4     \n",
       "3  PF         M   4     \n",
       "4  RM         F   4     \n",
       "5  RM         M   4     \n",
       "6  PF             4     \n",
       "7  PP         M   4     \n",
       "8  RM         M   4     \n",
       "9  RM         M   4     \n",
       "10 RM         M   4     \n",
       "11 PF         M   4     \n",
       "12 PF         F   4     \n",
       "13 RM         M   4     \n",
       "14 RM         M   4     \n",
       "15 RM         F   4     \n",
       "16 RM         M   4     \n",
       "17 RM         M   4     "
      ]
     },
     "metadata": {},
     "output_type": "display_data"
    }
   ],
   "source": [
    "surveys %>%\n",
    "  filter(weight < 5) %>%\n",
    "  select(species_id, sex, weight)"
   ]
  },
  {
   "cell_type": "markdown",
   "metadata": {},
   "source": [
    "#### A. Write an imperative version of this code.  "
   ]
  },
  {
   "cell_type": "code",
   "execution_count": 5,
   "metadata": {},
   "outputs": [],
   "source": [
    "# Your code here"
   ]
  },
  {
   "cell_type": "markdown",
   "metadata": {},
   "source": [
    "#### B. Write a functional version of this code.  "
   ]
  },
  {
   "cell_type": "code",
   "execution_count": 6,
   "metadata": {},
   "outputs": [],
   "source": [
    "# Your code here"
   ]
  },
  {
   "cell_type": "markdown",
   "metadata": {},
   "source": [
    "Now consider the following imperative code:"
   ]
  },
  {
   "cell_type": "code",
   "execution_count": 7,
   "metadata": {},
   "outputs": [],
   "source": [
    "x <- rnorm(100)\n",
    "x_rounded <- round(x, 1)\n",
    "x_rounded_sorted <- sort(x_rounded)\n",
    "x_rounded_sorted_smallest10 <- head(x_rounded_sorted, 10)\n",
    "sum_x_rounded_sorted_smallest10 <- sum(x_rounded_sorted_smallest10)"
   ]
  },
  {
   "cell_type": "markdown",
   "metadata": {},
   "source": [
    "#### C. Write a functional version of this code.  "
   ]
  },
  {
   "cell_type": "code",
   "execution_count": 8,
   "metadata": {},
   "outputs": [],
   "source": [
    "# Your code here"
   ]
  },
  {
   "cell_type": "markdown",
   "metadata": {},
   "source": [
    "#### D. Write a version of this code that uses piping. "
   ]
  },
  {
   "cell_type": "code",
   "execution_count": 9,
   "metadata": {},
   "outputs": [],
   "source": [
    "# Your code here"
   ]
  },
  {
   "cell_type": "markdown",
   "metadata": {},
   "source": [
    "## Problem 2\n",
    "  Create a new data frame from the surveys data that meets the following criteria: \n",
    "  \n",
    "- contains only the **`species_id`** column and \n",
    "- a new column called  **`hindfoot_half`**, with:\n",
    "    - values that are half the **`hindfoot_length`** values;\n",
    "    - no `NA`s;\n",
    "    - all values are less than 30.\n",
    "\n",
    "Hint: think about how the commands should be ordered to produce this data frame!\n",
    "  \n",
    "  "
   ]
  },
  {
   "cell_type": "code",
   "execution_count": 10,
   "metadata": {},
   "outputs": [],
   "source": [
    "# Your code here"
   ]
  }
 ],
 "metadata": {
  "kernelspec": {
   "display_name": "R",
   "language": "R",
   "name": "ir"
  },
  "language_info": {
   "codemirror_mode": "r",
   "file_extension": ".r",
   "mimetype": "text/x-r-source",
   "name": "R",
   "pygments_lexer": "r",
   "version": "3.5.1"
  }
 },
 "nbformat": 4,
 "nbformat_minor": 2
}
