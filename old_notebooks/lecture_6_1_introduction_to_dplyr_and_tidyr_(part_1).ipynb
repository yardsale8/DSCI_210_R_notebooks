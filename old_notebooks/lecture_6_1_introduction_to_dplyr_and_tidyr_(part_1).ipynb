{
 "cells": [
  {
   "cell_type": "markdown",
   "metadata": {},
   "source": [
    "# Introduction to dplyr and tidyr (part 1)"
   ]
  },
  {
   "cell_type": "markdown",
   "metadata": {},
   "source": [
    "### Why use R?\n",
    "\n",
    "\n",
    "- Save and rerun code\n",
    "- Lots of stats/data science packages\n",
    "- Great graphics\n",
    "- Built for data\n",
    "- free, open source, cross-platform\n",
    "- Large community"
   ]
  },
  {
   "cell_type": "markdown",
   "metadata": {},
   "source": [
    "### Market-share\n",
    "\n",
    "![](img/Fig-1a-IndeedJobs-2017.png)"
   ]
  },
  {
   "cell_type": "markdown",
   "metadata": {},
   "source": [
    "What is the `tidyverse`?\n",
    "========================================================\n",
    "\n",
    "- Multiple packages for managing and manipulating data, using data verb syntax\n",
    "    - `dplyr`\n",
    "        - filter\n",
    "        - mutate\n",
    "        - aggregate\n",
    "    - `tidyr`\n",
    "        - stack and unstack (`gather()` and `spread()`)\n",
    "    - `ggplot`\n",
    "        - Nice graphics\n",
    "    \n",
    "    "
   ]
  },
  {
   "cell_type": "markdown",
   "metadata": {},
   "source": [
    "### Loading a Library"
   ]
  },
  {
   "cell_type": "code",
   "execution_count": 1,
   "metadata": {},
   "outputs": [
    {
     "name": "stderr",
     "output_type": "stream",
     "text": [
      "\n",
      "Attaching package: ‘dplyr’\n",
      "\n",
      "The following objects are masked from ‘package:stats’:\n",
      "\n",
      "    filter, lag\n",
      "\n",
      "The following objects are masked from ‘package:base’:\n",
      "\n",
      "    intersect, setdiff, setequal, union\n",
      "\n"
     ]
    }
   ],
   "source": [
    "# This loads all of the dplyr functions\n",
    "#must do everytime you start new R session\n",
    "library(\"dplyr\")"
   ]
  },
  {
   "cell_type": "markdown",
   "metadata": {},
   "source": [
    "#### Reading in data"
   ]
  },
  {
   "cell_type": "code",
   "execution_count": 2,
   "metadata": {},
   "outputs": [
    {
     "data": {
      "text/html": [
       "<table>\n",
       "<thead><tr><th scope=col>record_id</th><th scope=col>month</th><th scope=col>day</th><th scope=col>year</th><th scope=col>plot_id</th><th scope=col>species_id</th><th scope=col>sex</th><th scope=col>hindfoot_length</th><th scope=col>weight</th><th scope=col>genus</th><th scope=col>species</th><th scope=col>taxa</th><th scope=col>plot_type</th></tr></thead>\n",
       "<tbody>\n",
       "\t<tr><td>  1     </td><td> 7      </td><td>16      </td><td>1977    </td><td>2       </td><td>NL      </td><td>M       </td><td>32      </td><td>NA      </td><td>Neotoma </td><td>albigula</td><td>Rodent  </td><td>Control </td></tr>\n",
       "\t<tr><td> 72     </td><td> 8      </td><td>19      </td><td>1977    </td><td>2       </td><td>NL      </td><td>M       </td><td>31      </td><td>NA      </td><td>Neotoma </td><td>albigula</td><td>Rodent  </td><td>Control </td></tr>\n",
       "\t<tr><td>224     </td><td> 9      </td><td>13      </td><td>1977    </td><td>2       </td><td>NL      </td><td>        </td><td>NA      </td><td>NA      </td><td>Neotoma </td><td>albigula</td><td>Rodent  </td><td>Control </td></tr>\n",
       "\t<tr><td>266     </td><td>10      </td><td>16      </td><td>1977    </td><td>2       </td><td>NL      </td><td>        </td><td>NA      </td><td>NA      </td><td>Neotoma </td><td>albigula</td><td>Rodent  </td><td>Control </td></tr>\n",
       "\t<tr><td>349     </td><td>11      </td><td>12      </td><td>1977    </td><td>2       </td><td>NL      </td><td>        </td><td>NA      </td><td>NA      </td><td>Neotoma </td><td>albigula</td><td>Rodent  </td><td>Control </td></tr>\n",
       "\t<tr><td>363     </td><td>11      </td><td>12      </td><td>1977    </td><td>2       </td><td>NL      </td><td>        </td><td>NA      </td><td>NA      </td><td>Neotoma </td><td>albigula</td><td>Rodent  </td><td>Control </td></tr>\n",
       "</tbody>\n",
       "</table>\n"
      ],
      "text/latex": [
       "\\begin{tabular}{r|lllllllllllll}\n",
       " record\\_id & month & day & year & plot\\_id & species\\_id & sex & hindfoot\\_length & weight & genus & species & taxa & plot\\_type\\\\\n",
       "\\hline\n",
       "\t   1      &  7       & 16       & 1977     & 2        & NL       & M        & 32       & NA       & Neotoma  & albigula & Rodent   & Control \\\\\n",
       "\t  72      &  8       & 19       & 1977     & 2        & NL       & M        & 31       & NA       & Neotoma  & albigula & Rodent   & Control \\\\\n",
       "\t 224      &  9       & 13       & 1977     & 2        & NL       &          & NA       & NA       & Neotoma  & albigula & Rodent   & Control \\\\\n",
       "\t 266      & 10       & 16       & 1977     & 2        & NL       &          & NA       & NA       & Neotoma  & albigula & Rodent   & Control \\\\\n",
       "\t 349      & 11       & 12       & 1977     & 2        & NL       &          & NA       & NA       & Neotoma  & albigula & Rodent   & Control \\\\\n",
       "\t 363      & 11       & 12       & 1977     & 2        & NL       &          & NA       & NA       & Neotoma  & albigula & Rodent   & Control \\\\\n",
       "\\end{tabular}\n"
      ],
      "text/markdown": [
       "\n",
       "record_id | month | day | year | plot_id | species_id | sex | hindfoot_length | weight | genus | species | taxa | plot_type | \n",
       "|---|---|---|---|---|---|\n",
       "|   1      |  7       | 16       | 1977     | 2        | NL       | M        | 32       | NA       | Neotoma  | albigula | Rodent   | Control  | \n",
       "|  72      |  8       | 19       | 1977     | 2        | NL       | M        | 31       | NA       | Neotoma  | albigula | Rodent   | Control  | \n",
       "| 224      |  9       | 13       | 1977     | 2        | NL       |          | NA       | NA       | Neotoma  | albigula | Rodent   | Control  | \n",
       "| 266      | 10       | 16       | 1977     | 2        | NL       |          | NA       | NA       | Neotoma  | albigula | Rodent   | Control  | \n",
       "| 349      | 11       | 12       | 1977     | 2        | NL       |          | NA       | NA       | Neotoma  | albigula | Rodent   | Control  | \n",
       "| 363      | 11       | 12       | 1977     | 2        | NL       |          | NA       | NA       | Neotoma  | albigula | Rodent   | Control  | \n",
       "\n",
       "\n"
      ],
      "text/plain": [
       "  record_id month day year plot_id species_id sex hindfoot_length weight\n",
       "1   1        7    16  1977 2       NL         M   32              NA    \n",
       "2  72        8    19  1977 2       NL         M   31              NA    \n",
       "3 224        9    13  1977 2       NL             NA              NA    \n",
       "4 266       10    16  1977 2       NL             NA              NA    \n",
       "5 349       11    12  1977 2       NL             NA              NA    \n",
       "6 363       11    12  1977 2       NL             NA              NA    \n",
       "  genus   species  taxa   plot_type\n",
       "1 Neotoma albigula Rodent Control  \n",
       "2 Neotoma albigula Rodent Control  \n",
       "3 Neotoma albigula Rodent Control  \n",
       "4 Neotoma albigula Rodent Control  \n",
       "5 Neotoma albigula Rodent Control  \n",
       "6 Neotoma albigula Rodent Control  "
      ]
     },
     "metadata": {},
     "output_type": "display_data"
    }
   ],
   "source": [
    "surveys <- read.csv('https://github.com/WSU-DataScience/DSCI_210_R_notebooks/raw/main/data/portal_data_joined.csv')\n",
    "head(surveys)"
   ]
  },
  {
   "cell_type": "markdown",
   "metadata": {},
   "source": [
    "Selecting columns with `select`\n",
    "========================================================"
   ]
  },
  {
   "cell_type": "code",
   "execution_count": 3,
   "metadata": {},
   "outputs": [],
   "source": [
    "# Syntax: select(df, col1, col2, ...)\n",
    "new_df <- select(surveys, plot_id, species_id, weight)"
   ]
  },
  {
   "cell_type": "code",
   "execution_count": 4,
   "metadata": {},
   "outputs": [
    {
     "data": {
      "text/html": [
       "<table>\n",
       "<thead><tr><th scope=col>plot_id</th><th scope=col>species_id</th><th scope=col>weight</th></tr></thead>\n",
       "<tbody>\n",
       "\t<tr><td>2 </td><td>NL</td><td>NA</td></tr>\n",
       "\t<tr><td>2 </td><td>NL</td><td>NA</td></tr>\n",
       "\t<tr><td>2 </td><td>NL</td><td>NA</td></tr>\n",
       "\t<tr><td>2 </td><td>NL</td><td>NA</td></tr>\n",
       "\t<tr><td>2 </td><td>NL</td><td>NA</td></tr>\n",
       "\t<tr><td>2 </td><td>NL</td><td>NA</td></tr>\n",
       "</tbody>\n",
       "</table>\n"
      ],
      "text/latex": [
       "\\begin{tabular}{r|lll}\n",
       " plot\\_id & species\\_id & weight\\\\\n",
       "\\hline\n",
       "\t 2  & NL & NA\\\\\n",
       "\t 2  & NL & NA\\\\\n",
       "\t 2  & NL & NA\\\\\n",
       "\t 2  & NL & NA\\\\\n",
       "\t 2  & NL & NA\\\\\n",
       "\t 2  & NL & NA\\\\\n",
       "\\end{tabular}\n"
      ],
      "text/markdown": [
       "\n",
       "plot_id | species_id | weight | \n",
       "|---|---|---|---|---|---|\n",
       "| 2  | NL | NA | \n",
       "| 2  | NL | NA | \n",
       "| 2  | NL | NA | \n",
       "| 2  | NL | NA | \n",
       "| 2  | NL | NA | \n",
       "| 2  | NL | NA | \n",
       "\n",
       "\n"
      ],
      "text/plain": [
       "  plot_id species_id weight\n",
       "1 2       NL         NA    \n",
       "2 2       NL         NA    \n",
       "3 2       NL         NA    \n",
       "4 2       NL         NA    \n",
       "5 2       NL         NA    \n",
       "6 2       NL         NA    "
      ]
     },
     "metadata": {},
     "output_type": "display_data"
    }
   ],
   "source": [
    "# Good habit: Always inspect the result with head\n",
    "head(new_df)"
   ]
  },
  {
   "cell_type": "markdown",
   "metadata": {},
   "source": [
    "Filtering rows with `filter`\n",
    "========================================================\n",
    "\n",
    "Why are there columns not selected (last slide) still here?"
   ]
  },
  {
   "cell_type": "code",
   "execution_count": 5,
   "metadata": {},
   "outputs": [
    {
     "data": {
      "text/html": [
       "<table>\n",
       "<thead><tr><th scope=col>record_id</th><th scope=col>month</th><th scope=col>day</th><th scope=col>year</th><th scope=col>plot_id</th><th scope=col>species_id</th><th scope=col>sex</th><th scope=col>hindfoot_length</th><th scope=col>weight</th><th scope=col>genus</th><th scope=col>species</th><th scope=col>taxa</th><th scope=col>plot_type</th></tr></thead>\n",
       "<tbody>\n",
       "\t<tr><td>22314    </td><td> 6       </td><td> 7       </td><td>1995     </td><td>2        </td><td>NL       </td><td>M        </td><td>34       </td><td> NA      </td><td>Neotoma  </td><td>albigula </td><td>Rodent   </td><td>Control  </td></tr>\n",
       "\t<tr><td>22728    </td><td> 9       </td><td>23       </td><td>1995     </td><td>2        </td><td>NL       </td><td>F        </td><td>32       </td><td>165      </td><td>Neotoma  </td><td>albigula </td><td>Rodent   </td><td>Control  </td></tr>\n",
       "\t<tr><td>22899    </td><td>10       </td><td>28       </td><td>1995     </td><td>2        </td><td>NL       </td><td>F        </td><td>32       </td><td>171      </td><td>Neotoma  </td><td>albigula </td><td>Rodent   </td><td>Control  </td></tr>\n",
       "\t<tr><td>23032    </td><td>12       </td><td> 2       </td><td>1995     </td><td>2        </td><td>NL       </td><td>F        </td><td>33       </td><td> NA      </td><td>Neotoma  </td><td>albigula </td><td>Rodent   </td><td>Control  </td></tr>\n",
       "\t<tr><td>22003    </td><td> 1       </td><td>11       </td><td>1995     </td><td>2        </td><td>DM       </td><td>M        </td><td>37       </td><td> 41      </td><td>Dipodomys</td><td>merriami </td><td>Rodent   </td><td>Control  </td></tr>\n",
       "\t<tr><td>22042    </td><td> 2       </td><td> 4       </td><td>1995     </td><td>2        </td><td>DM       </td><td>F        </td><td>36       </td><td> 45      </td><td>Dipodomys</td><td>merriami </td><td>Rodent   </td><td>Control  </td></tr>\n",
       "</tbody>\n",
       "</table>\n"
      ],
      "text/latex": [
       "\\begin{tabular}{r|lllllllllllll}\n",
       " record\\_id & month & day & year & plot\\_id & species\\_id & sex & hindfoot\\_length & weight & genus & species & taxa & plot\\_type\\\\\n",
       "\\hline\n",
       "\t 22314     &  6        &  7        & 1995      & 2         & NL        & M         & 34        &  NA       & Neotoma   & albigula  & Rodent    & Control  \\\\\n",
       "\t 22728     &  9        & 23        & 1995      & 2         & NL        & F         & 32        & 165       & Neotoma   & albigula  & Rodent    & Control  \\\\\n",
       "\t 22899     & 10        & 28        & 1995      & 2         & NL        & F         & 32        & 171       & Neotoma   & albigula  & Rodent    & Control  \\\\\n",
       "\t 23032     & 12        &  2        & 1995      & 2         & NL        & F         & 33        &  NA       & Neotoma   & albigula  & Rodent    & Control  \\\\\n",
       "\t 22003     &  1        & 11        & 1995      & 2         & DM        & M         & 37        &  41       & Dipodomys & merriami  & Rodent    & Control  \\\\\n",
       "\t 22042     &  2        &  4        & 1995      & 2         & DM        & F         & 36        &  45       & Dipodomys & merriami  & Rodent    & Control  \\\\\n",
       "\\end{tabular}\n"
      ],
      "text/markdown": [
       "\n",
       "record_id | month | day | year | plot_id | species_id | sex | hindfoot_length | weight | genus | species | taxa | plot_type | \n",
       "|---|---|---|---|---|---|\n",
       "| 22314     |  6        |  7        | 1995      | 2         | NL        | M         | 34        |  NA       | Neotoma   | albigula  | Rodent    | Control   | \n",
       "| 22728     |  9        | 23        | 1995      | 2         | NL        | F         | 32        | 165       | Neotoma   | albigula  | Rodent    | Control   | \n",
       "| 22899     | 10        | 28        | 1995      | 2         | NL        | F         | 32        | 171       | Neotoma   | albigula  | Rodent    | Control   | \n",
       "| 23032     | 12        |  2        | 1995      | 2         | NL        | F         | 33        |  NA       | Neotoma   | albigula  | Rodent    | Control   | \n",
       "| 22003     |  1        | 11        | 1995      | 2         | DM        | M         | 37        |  41       | Dipodomys | merriami  | Rodent    | Control   | \n",
       "| 22042     |  2        |  4        | 1995      | 2         | DM        | F         | 36        |  45       | Dipodomys | merriami  | Rodent    | Control   | \n",
       "\n",
       "\n"
      ],
      "text/plain": [
       "  record_id month day year plot_id species_id sex hindfoot_length weight\n",
       "1 22314      6     7  1995 2       NL         M   34               NA   \n",
       "2 22728      9    23  1995 2       NL         F   32              165   \n",
       "3 22899     10    28  1995 2       NL         F   32              171   \n",
       "4 23032     12     2  1995 2       NL         F   33               NA   \n",
       "5 22003      1    11  1995 2       DM         M   37               41   \n",
       "6 22042      2     4  1995 2       DM         F   36               45   \n",
       "  genus     species  taxa   plot_type\n",
       "1 Neotoma   albigula Rodent Control  \n",
       "2 Neotoma   albigula Rodent Control  \n",
       "3 Neotoma   albigula Rodent Control  \n",
       "4 Neotoma   albigula Rodent Control  \n",
       "5 Dipodomys merriami Rodent Control  \n",
       "6 Dipodomys merriami Rodent Control  "
      ]
     },
     "metadata": {},
     "output_type": "display_data"
    }
   ],
   "source": [
    "new_df2 <- filter(surveys, year == 1995)\n",
    "head(new_df2)"
   ]
  },
  {
   "cell_type": "markdown",
   "metadata": {},
   "source": [
    "Making a new column with `mutate`\n",
    "========================================================"
   ]
  },
  {
   "cell_type": "code",
   "execution_count": 6,
   "metadata": {},
   "outputs": [
    {
     "data": {
      "text/html": [
       "<table>\n",
       "<thead><tr><th scope=col>plot_id</th><th scope=col>species_id</th><th scope=col>weight</th><th scope=col>year</th><th scope=col>weight_kg</th></tr></thead>\n",
       "<tbody>\n",
       "\t<tr><td>2    </td><td>NL   </td><td> NA  </td><td>1995 </td><td>   NA</td></tr>\n",
       "\t<tr><td>2    </td><td>NL   </td><td>165  </td><td>1995 </td><td>0.165</td></tr>\n",
       "\t<tr><td>2    </td><td>NL   </td><td>171  </td><td>1995 </td><td>0.171</td></tr>\n",
       "\t<tr><td>2    </td><td>NL   </td><td> NA  </td><td>1995 </td><td>   NA</td></tr>\n",
       "\t<tr><td>2    </td><td>DM   </td><td> 41  </td><td>1995 </td><td>0.041</td></tr>\n",
       "\t<tr><td>2    </td><td>DM   </td><td> 45  </td><td>1995 </td><td>0.045</td></tr>\n",
       "</tbody>\n",
       "</table>\n"
      ],
      "text/latex": [
       "\\begin{tabular}{r|lllll}\n",
       " plot\\_id & species\\_id & weight & year & weight\\_kg\\\\\n",
       "\\hline\n",
       "\t 2     & NL    &  NA   & 1995  &    NA\\\\\n",
       "\t 2     & NL    & 165   & 1995  & 0.165\\\\\n",
       "\t 2     & NL    & 171   & 1995  & 0.171\\\\\n",
       "\t 2     & NL    &  NA   & 1995  &    NA\\\\\n",
       "\t 2     & DM    &  41   & 1995  & 0.041\\\\\n",
       "\t 2     & DM    &  45   & 1995  & 0.045\\\\\n",
       "\\end{tabular}\n"
      ],
      "text/markdown": [
       "\n",
       "plot_id | species_id | weight | year | weight_kg | \n",
       "|---|---|---|---|---|---|\n",
       "| 2     | NL    |  NA   | 1995  |    NA | \n",
       "| 2     | NL    | 165   | 1995  | 0.165 | \n",
       "| 2     | NL    | 171   | 1995  | 0.171 | \n",
       "| 2     | NL    |  NA   | 1995  |    NA | \n",
       "| 2     | DM    |  41   | 1995  | 0.041 | \n",
       "| 2     | DM    |  45   | 1995  | 0.045 | \n",
       "\n",
       "\n"
      ],
      "text/plain": [
       "  plot_id species_id weight year weight_kg\n",
       "1 2       NL          NA    1995    NA    \n",
       "2 2       NL         165    1995 0.165    \n",
       "3 2       NL         171    1995 0.171    \n",
       "4 2       NL          NA    1995    NA    \n",
       "5 2       DM          41    1995 0.041    \n",
       "6 2       DM          45    1995 0.045    "
      ]
     },
     "metadata": {},
     "output_type": "display_data"
    }
   ],
   "source": [
    "new_df <- select(surveys, plot_id, species_id, weight, year)\n",
    "new_df2 <- filter(new_df, year == 1995)\n",
    "new_df3 <- mutate(new_df2, weight_kg = weight / 1000)\n",
    "head(new_df3)"
   ]
  },
  {
   "cell_type": "code",
   "execution_count": 7,
   "metadata": {},
   "outputs": [
    {
     "data": {
      "text/html": [
       "<table>\n",
       "<thead><tr><th scope=col>plot_id</th><th scope=col>species_id</th><th scope=col>year</th><th scope=col>weight_kg</th></tr></thead>\n",
       "<tbody>\n",
       "\t<tr><td>2    </td><td>NL   </td><td>1995 </td><td>   NA</td></tr>\n",
       "\t<tr><td>2    </td><td>NL   </td><td>1995 </td><td>0.165</td></tr>\n",
       "\t<tr><td>2    </td><td>NL   </td><td>1995 </td><td>0.171</td></tr>\n",
       "\t<tr><td>2    </td><td>NL   </td><td>1995 </td><td>   NA</td></tr>\n",
       "\t<tr><td>2    </td><td>DM   </td><td>1995 </td><td>0.041</td></tr>\n",
       "\t<tr><td>2    </td><td>DM   </td><td>1995 </td><td>0.045</td></tr>\n",
       "</tbody>\n",
       "</table>\n"
      ],
      "text/latex": [
       "\\begin{tabular}{r|llll}\n",
       " plot\\_id & species\\_id & year & weight\\_kg\\\\\n",
       "\\hline\n",
       "\t 2     & NL    & 1995  &    NA\\\\\n",
       "\t 2     & NL    & 1995  & 0.165\\\\\n",
       "\t 2     & NL    & 1995  & 0.171\\\\\n",
       "\t 2     & NL    & 1995  &    NA\\\\\n",
       "\t 2     & DM    & 1995  & 0.041\\\\\n",
       "\t 2     & DM    & 1995  & 0.045\\\\\n",
       "\\end{tabular}\n"
      ],
      "text/markdown": [
       "\n",
       "plot_id | species_id | year | weight_kg | \n",
       "|---|---|---|---|---|---|\n",
       "| 2     | NL    | 1995  |    NA | \n",
       "| 2     | NL    | 1995  | 0.165 | \n",
       "| 2     | NL    | 1995  | 0.171 | \n",
       "| 2     | NL    | 1995  |    NA | \n",
       "| 2     | DM    | 1995  | 0.041 | \n",
       "| 2     | DM    | 1995  | 0.045 | \n",
       "\n",
       "\n"
      ],
      "text/plain": [
       "  plot_id species_id year weight_kg\n",
       "1 2       NL         1995    NA    \n",
       "2 2       NL         1995 0.165    \n",
       "3 2       NL         1995 0.171    \n",
       "4 2       NL         1995    NA    \n",
       "5 2       DM         1995 0.041    \n",
       "6 2       DM         1995 0.045    "
      ]
     },
     "metadata": {},
     "output_type": "display_data"
    }
   ],
   "source": [
    "#Drop old weight column:\n",
    "new_df4 <- select(new_df3, -weight)\n",
    "head(new_df4)"
   ]
  },
  {
   "cell_type": "markdown",
   "metadata": {},
   "source": [
    "Motivating pipes\n",
    "========================================================\n",
    "\n",
    "### Imperative pattern - Save, save, save\n",
    "\n",
    "\n",
    "<img width=\"450\" src=\"img/imperative_pattern.png\">\n",
    "\n",
    "- **Problem 1:** Lots of temporary variables \n",
    "- **Problem 2:** Messy and lots of *overhead* \n",
    "    - All the extra *stuff* clouds the meaning/intent of the code "
   ]
  },
  {
   "cell_type": "markdown",
   "metadata": {},
   "source": [
    "### Poor solution - Rewrite to the same data frame"
   ]
  },
  {
   "cell_type": "markdown",
   "metadata": {},
   "source": [
    "```{R}\n",
    "surveys <- select(surveys, plot_id, species_id, weight, year)\n",
    "surveys <- filter(surveys, year == 1995)\n",
    "surveys <- mutate(surveys, weight_kg = weight / 1000)\n",
    "```"
   ]
  },
  {
   "cell_type": "markdown",
   "metadata": {},
   "source": [
    "**Question:** What's the problems with this approach?"
   ]
  },
  {
   "cell_type": "markdown",
   "metadata": {},
   "source": [
    "### Use a pipe for cleaner code\n",
    "\n",
    "Pipe pushes the data frame through the first position:\n",
    "\n",
    "<img width=\"350\" src=\"img/pipe1.png\">"
   ]
  },
  {
   "cell_type": "markdown",
   "metadata": {},
   "source": [
    "### Imagine an invisible data frame in the first spot...\n",
    "\n",
    "Important Point - Each data frame is NEW\n",
    "\n",
    "<img width=\"350\" src=\"img/pipe2.png\">"
   ]
  },
  {
   "cell_type": "markdown",
   "metadata": {},
   "source": [
    "### ... but don't write it!"
   ]
  },
  {
   "cell_type": "code",
   "execution_count": 8,
   "metadata": {},
   "outputs": [
    {
     "data": {
      "text/html": [
       "<table>\n",
       "<thead><tr><th scope=col>plot_id</th><th scope=col>species_id</th><th scope=col>weight</th><th scope=col>year</th><th scope=col>weight_kg</th></tr></thead>\n",
       "<tbody>\n",
       "\t<tr><td>2    </td><td>NL   </td><td> NA  </td><td>1995 </td><td>   NA</td></tr>\n",
       "\t<tr><td>2    </td><td>NL   </td><td>165  </td><td>1995 </td><td>0.165</td></tr>\n",
       "\t<tr><td>2    </td><td>NL   </td><td>171  </td><td>1995 </td><td>0.171</td></tr>\n",
       "\t<tr><td>2    </td><td>NL   </td><td> NA  </td><td>1995 </td><td>   NA</td></tr>\n",
       "\t<tr><td>2    </td><td>DM   </td><td> 41  </td><td>1995 </td><td>0.041</td></tr>\n",
       "\t<tr><td>2    </td><td>DM   </td><td> 45  </td><td>1995 </td><td>0.045</td></tr>\n",
       "</tbody>\n",
       "</table>\n"
      ],
      "text/latex": [
       "\\begin{tabular}{r|lllll}\n",
       " plot\\_id & species\\_id & weight & year & weight\\_kg\\\\\n",
       "\\hline\n",
       "\t 2     & NL    &  NA   & 1995  &    NA\\\\\n",
       "\t 2     & NL    & 165   & 1995  & 0.165\\\\\n",
       "\t 2     & NL    & 171   & 1995  & 0.171\\\\\n",
       "\t 2     & NL    &  NA   & 1995  &    NA\\\\\n",
       "\t 2     & DM    &  41   & 1995  & 0.041\\\\\n",
       "\t 2     & DM    &  45   & 1995  & 0.045\\\\\n",
       "\\end{tabular}\n"
      ],
      "text/markdown": [
       "\n",
       "plot_id | species_id | weight | year | weight_kg | \n",
       "|---|---|---|---|---|---|\n",
       "| 2     | NL    |  NA   | 1995  |    NA | \n",
       "| 2     | NL    | 165   | 1995  | 0.165 | \n",
       "| 2     | NL    | 171   | 1995  | 0.171 | \n",
       "| 2     | NL    |  NA   | 1995  |    NA | \n",
       "| 2     | DM    |  41   | 1995  | 0.041 | \n",
       "| 2     | DM    |  45   | 1995  | 0.045 | \n",
       "\n",
       "\n"
      ],
      "text/plain": [
       "  plot_id species_id weight year weight_kg\n",
       "1 2       NL          NA    1995    NA    \n",
       "2 2       NL         165    1995 0.165    \n",
       "3 2       NL         171    1995 0.171    \n",
       "4 2       NL          NA    1995    NA    \n",
       "5 2       DM          41    1995 0.041    \n",
       "6 2       DM          45    1995 0.045    "
      ]
     },
     "metadata": {},
     "output_type": "display_data"
    }
   ],
   "source": [
    "surveys  %>% \n",
    "  select(plot_id, species_id, weight, year) %>%\n",
    "  filter(year == 1995) %>%\n",
    "  mutate(weight_kg = weight / 1000) %>%\n",
    "  head()"
   ]
  },
  {
   "cell_type": "markdown",
   "metadata": {},
   "source": [
    "### My preferred code format"
   ]
  },
  {
   "cell_type": "code",
   "execution_count": 9,
   "metadata": {},
   "outputs": [
    {
     "data": {
      "text/html": [
       "<table>\n",
       "<thead><tr><th scope=col>plot_id</th><th scope=col>species_id</th><th scope=col>weight</th><th scope=col>year</th><th scope=col>weight_kg</th></tr></thead>\n",
       "<tbody>\n",
       "\t<tr><td>2    </td><td>NL   </td><td> NA  </td><td>1995 </td><td>   NA</td></tr>\n",
       "\t<tr><td>2    </td><td>NL   </td><td>165  </td><td>1995 </td><td>0.165</td></tr>\n",
       "\t<tr><td>2    </td><td>NL   </td><td>171  </td><td>1995 </td><td>0.171</td></tr>\n",
       "\t<tr><td>2    </td><td>NL   </td><td> NA  </td><td>1995 </td><td>   NA</td></tr>\n",
       "\t<tr><td>2    </td><td>DM   </td><td> 41  </td><td>1995 </td><td>0.041</td></tr>\n",
       "\t<tr><td>2    </td><td>DM   </td><td> 45  </td><td>1995 </td><td>0.045</td></tr>\n",
       "</tbody>\n",
       "</table>\n"
      ],
      "text/latex": [
       "\\begin{tabular}{r|lllll}\n",
       " plot\\_id & species\\_id & weight & year & weight\\_kg\\\\\n",
       "\\hline\n",
       "\t 2     & NL    &  NA   & 1995  &    NA\\\\\n",
       "\t 2     & NL    & 165   & 1995  & 0.165\\\\\n",
       "\t 2     & NL    & 171   & 1995  & 0.171\\\\\n",
       "\t 2     & NL    &  NA   & 1995  &    NA\\\\\n",
       "\t 2     & DM    &  41   & 1995  & 0.041\\\\\n",
       "\t 2     & DM    &  45   & 1995  & 0.045\\\\\n",
       "\\end{tabular}\n"
      ],
      "text/markdown": [
       "\n",
       "plot_id | species_id | weight | year | weight_kg | \n",
       "|---|---|---|---|---|---|\n",
       "| 2     | NL    |  NA   | 1995  |    NA | \n",
       "| 2     | NL    | 165   | 1995  | 0.165 | \n",
       "| 2     | NL    | 171   | 1995  | 0.171 | \n",
       "| 2     | NL    |  NA   | 1995  |    NA | \n",
       "| 2     | DM    |  41   | 1995  | 0.041 | \n",
       "| 2     | DM    |  45   | 1995  | 0.045 | \n",
       "\n",
       "\n"
      ],
      "text/plain": [
       "  plot_id species_id weight year weight_kg\n",
       "1 2       NL          NA    1995    NA    \n",
       "2 2       NL         165    1995 0.165    \n",
       "3 2       NL         171    1995 0.171    \n",
       "4 2       NL          NA    1995    NA    \n",
       "5 2       DM          41    1995 0.041    \n",
       "6 2       DM          45    1995 0.045    "
      ]
     },
     "metadata": {},
     "output_type": "display_data"
    }
   ],
   "source": [
    "(surveys  \n",
    " %>% select(plot_id, species_id, weight, year) \n",
    " %>% filter(year == 1995) \n",
    " %>% mutate(weight_kg = weight / 1000) \n",
    " %>% head()\n",
    " )"
   ]
  },
  {
   "cell_type": "markdown",
   "metadata": {},
   "source": [
    "## <font color=\"red\"> Exercise 2 </font>\n",
    "\n",
    "Write a pipe to perform the following tasks.\n",
    "\n",
    "1. Compute the a weight of all species in lbs.\n",
    "2. Compute the a weight of all species in lbs for each `genus`"
   ]
  },
  {
   "cell_type": "code",
   "execution_count": 10,
   "metadata": {},
   "outputs": [],
   "source": [
    "# Your code for task 1 here"
   ]
  },
  {
   "cell_type": "code",
   "execution_count": 11,
   "metadata": {},
   "outputs": [],
   "source": [
    "# Your code for task 2 here"
   ]
  },
  {
   "cell_type": "markdown",
   "metadata": {},
   "source": [
    "# Part 2 - Converting code and types of errors."
   ]
  },
  {
   "cell_type": "markdown",
   "metadata": {},
   "source": [
    "### You've seen piping before...\n",
    " \n",
    "<img width=\"850\" src=\"https://github.com/WSU-DataScience/DSCI_210_R_notebooks/raw/main/img/openrefine_piping.PNG\">"
   ]
  },
  {
   "cell_type": "markdown",
   "metadata": {},
   "source": [
    "### Saving the result of a piped operation"
   ]
  },
  {
   "cell_type": "code",
   "execution_count": 12,
   "metadata": {},
   "outputs": [
    {
     "data": {
      "text/html": [
       "<table>\n",
       "<thead><tr><th scope=col>species_id</th><th scope=col>sex</th><th scope=col>weight</th></tr></thead>\n",
       "<tbody>\n",
       "\t<tr><td>PF</td><td>F </td><td>4 </td></tr>\n",
       "\t<tr><td>PF</td><td>F </td><td>4 </td></tr>\n",
       "\t<tr><td>PF</td><td>M </td><td>4 </td></tr>\n",
       "\t<tr><td>RM</td><td>F </td><td>4 </td></tr>\n",
       "\t<tr><td>RM</td><td>M </td><td>4 </td></tr>\n",
       "\t<tr><td>PF</td><td>  </td><td>4 </td></tr>\n",
       "</tbody>\n",
       "</table>\n"
      ],
      "text/latex": [
       "\\begin{tabular}{r|lll}\n",
       " species\\_id & sex & weight\\\\\n",
       "\\hline\n",
       "\t PF & F  & 4 \\\\\n",
       "\t PF & F  & 4 \\\\\n",
       "\t PF & M  & 4 \\\\\n",
       "\t RM & F  & 4 \\\\\n",
       "\t RM & M  & 4 \\\\\n",
       "\t PF &    & 4 \\\\\n",
       "\\end{tabular}\n"
      ],
      "text/markdown": [
       "\n",
       "species_id | sex | weight | \n",
       "|---|---|---|---|---|---|\n",
       "| PF | F  | 4  | \n",
       "| PF | F  | 4  | \n",
       "| PF | M  | 4  | \n",
       "| RM | F  | 4  | \n",
       "| RM | M  | 4  | \n",
       "| PF |    | 4  | \n",
       "\n",
       "\n"
      ],
      "text/plain": [
       "  species_id sex weight\n",
       "1 PF         F   4     \n",
       "2 PF         F   4     \n",
       "3 PF         M   4     \n",
       "4 RM         F   4     \n",
       "5 RM         M   4     \n",
       "6 PF             4     "
      ]
     },
     "metadata": {},
     "output_type": "display_data"
    }
   ],
   "source": [
    "surveys_small <- surveys %>%\n",
    "  filter(weight < 5) %>%\n",
    "  select(species_id, sex, weight)\n",
    "\n",
    "head(surveys_small)"
   ]
  },
  {
   "cell_type": "markdown",
   "metadata": {},
   "source": [
    "### The advantages of piping\n",
    "\n",
    "* reads left-to-right\n",
    "* reads top-to-bottom\n",
    "* Focuses on verbs\n",
    "* Removes pointless nouns"
   ]
  },
  {
   "cell_type": "markdown",
   "metadata": {},
   "source": [
    "### Compare\n",
    "\n",
    "* Imperative\n",
    "* Functional\n",
    "* Piping"
   ]
  },
  {
   "cell_type": "markdown",
   "metadata": {},
   "source": [
    "### Imperative:"
   ]
  },
  {
   "cell_type": "code",
   "execution_count": 13,
   "metadata": {},
   "outputs": [
    {
     "data": {
      "text/html": [
       "'3.14'"
      ],
      "text/latex": [
       "'3.14'"
      ],
      "text/markdown": [
       "'3.14'"
      ],
      "text/plain": [
       "[1] \"3.14\""
      ]
     },
     "metadata": {},
     "output_type": "display_data"
    }
   ],
   "source": [
    "x <- pi\n",
    "r_x <- round(x, 2)\n",
    "c_x <- as.character(r_x)\n",
    "c_x"
   ]
  },
  {
   "cell_type": "markdown",
   "metadata": {},
   "source": [
    "### Functional:"
   ]
  },
  {
   "cell_type": "code",
   "execution_count": 14,
   "metadata": {},
   "outputs": [
    {
     "data": {
      "text/html": [
       "'3.14'"
      ],
      "text/latex": [
       "'3.14'"
      ],
      "text/markdown": [
       "'3.14'"
      ],
      "text/plain": [
       "[1] \"3.14\""
      ]
     },
     "metadata": {},
     "output_type": "display_data"
    }
   ],
   "source": [
    "as.character(round(pi, 2))"
   ]
  },
  {
   "cell_type": "markdown",
   "metadata": {},
   "source": [
    "### Piping:"
   ]
  },
  {
   "cell_type": "code",
   "execution_count": 15,
   "metadata": {},
   "outputs": [
    {
     "data": {
      "text/html": [
       "'3.14'"
      ],
      "text/latex": [
       "'3.14'"
      ],
      "text/markdown": [
       "'3.14'"
      ],
      "text/plain": [
       "[1] \"3.14\""
      ]
     },
     "metadata": {},
     "output_type": "display_data"
    }
   ],
   "source": [
    "pi %>%\n",
    "  round(2) %>%\n",
    "  as.character"
   ]
  },
  {
   "cell_type": "markdown",
   "metadata": {},
   "source": [
    "## Example 1 - Converting to pipes"
   ]
  },
  {
   "cell_type": "code",
   "execution_count": 16,
   "metadata": {},
   "outputs": [
    {
     "data": {
      "text/html": [
       "<table>\n",
       "<thead><tr><th scope=col>species_id</th><th scope=col>sex</th><th scope=col>weight</th></tr></thead>\n",
       "<tbody>\n",
       "\t<tr><td>PF</td><td>F </td><td>4 </td></tr>\n",
       "\t<tr><td>PF</td><td>F </td><td>4 </td></tr>\n",
       "\t<tr><td>PF</td><td>M </td><td>4 </td></tr>\n",
       "\t<tr><td>RM</td><td>F </td><td>4 </td></tr>\n",
       "\t<tr><td>RM</td><td>M </td><td>4 </td></tr>\n",
       "\t<tr><td>PF</td><td>  </td><td>4 </td></tr>\n",
       "</tbody>\n",
       "</table>\n"
      ],
      "text/latex": [
       "\\begin{tabular}{r|lll}\n",
       " species\\_id & sex & weight\\\\\n",
       "\\hline\n",
       "\t PF & F  & 4 \\\\\n",
       "\t PF & F  & 4 \\\\\n",
       "\t PF & M  & 4 \\\\\n",
       "\t RM & F  & 4 \\\\\n",
       "\t RM & M  & 4 \\\\\n",
       "\t PF &    & 4 \\\\\n",
       "\\end{tabular}\n"
      ],
      "text/markdown": [
       "\n",
       "species_id | sex | weight | \n",
       "|---|---|---|---|---|---|\n",
       "| PF | F  | 4  | \n",
       "| PF | F  | 4  | \n",
       "| PF | M  | 4  | \n",
       "| RM | F  | 4  | \n",
       "| RM | M  | 4  | \n",
       "| PF |    | 4  | \n",
       "\n",
       "\n"
      ],
      "text/plain": [
       "  species_id sex weight\n",
       "1 PF         F   4     \n",
       "2 PF         F   4     \n",
       "3 PF         M   4     \n",
       "4 RM         F   4     \n",
       "5 RM         M   4     \n",
       "6 PF             4     "
      ]
     },
     "metadata": {},
     "output_type": "display_data"
    }
   ],
   "source": [
    "surveys_small <- filter(surveys, weight < 5) \n",
    "survey_small_id_sex_wgt <- select(surveys_small, species_id, sex, weight)\n",
    "head(survey_small_id_sex_wgt)"
   ]
  },
  {
   "cell_type": "code",
   "execution_count": 17,
   "metadata": {},
   "outputs": [],
   "source": [
    "# Convert to piped code"
   ]
  },
  {
   "cell_type": "markdown",
   "metadata": {},
   "source": [
    "## Example 2 - Converting to imperative"
   ]
  },
  {
   "cell_type": "code",
   "execution_count": 18,
   "metadata": {},
   "outputs": [
    {
     "data": {
      "text/html": [
       "<table>\n",
       "<thead><tr><th scope=col>species_id</th><th scope=col>sex</th><th scope=col>weight</th></tr></thead>\n",
       "<tbody>\n",
       "\t<tr><td>NL</td><td>M </td><td>NA</td></tr>\n",
       "\t<tr><td>NL</td><td>M </td><td>NA</td></tr>\n",
       "\t<tr><td>NL</td><td>  </td><td>NA</td></tr>\n",
       "\t<tr><td>NL</td><td>  </td><td>NA</td></tr>\n",
       "\t<tr><td>NL</td><td>  </td><td>NA</td></tr>\n",
       "\t<tr><td>NL</td><td>  </td><td>NA</td></tr>\n",
       "</tbody>\n",
       "</table>\n"
      ],
      "text/latex": [
       "\\begin{tabular}{r|lll}\n",
       " species\\_id & sex & weight\\\\\n",
       "\\hline\n",
       "\t NL & M  & NA\\\\\n",
       "\t NL & M  & NA\\\\\n",
       "\t NL &    & NA\\\\\n",
       "\t NL &    & NA\\\\\n",
       "\t NL &    & NA\\\\\n",
       "\t NL &    & NA\\\\\n",
       "\\end{tabular}\n"
      ],
      "text/markdown": [
       "\n",
       "species_id | sex | weight | \n",
       "|---|---|---|---|---|---|\n",
       "| NL | M  | NA | \n",
       "| NL | M  | NA | \n",
       "| NL |    | NA | \n",
       "| NL |    | NA | \n",
       "| NL |    | NA | \n",
       "| NL |    | NA | \n",
       "\n",
       "\n"
      ],
      "text/plain": [
       "  species_id sex weight\n",
       "1 NL         M   NA    \n",
       "2 NL         M   NA    \n",
       "3 NL             NA    \n",
       "4 NL             NA    \n",
       "5 NL             NA    \n",
       "6 NL             NA    "
      ]
     },
     "metadata": {},
     "output_type": "display_data"
    }
   ],
   "source": [
    "surveys_small <- surveys %>%\n",
    "  filter(species_id == 'NL') %>%\n",
    "  select(species_id, sex, weight)\n",
    "\n",
    "head(surveys_small)"
   ]
  },
  {
   "cell_type": "code",
   "execution_count": 19,
   "metadata": {},
   "outputs": [],
   "source": [
    "# Convert to imperative"
   ]
  },
  {
   "cell_type": "markdown",
   "metadata": {},
   "source": [
    "## Example 3 - Converting to functional"
   ]
  },
  {
   "cell_type": "code",
   "execution_count": 20,
   "metadata": {},
   "outputs": [
    {
     "data": {
      "text/html": [
       "<table>\n",
       "<thead><tr><th scope=col>species_id</th><th scope=col>sex</th><th scope=col>weight</th></tr></thead>\n",
       "<tbody>\n",
       "\t<tr><td>PF</td><td>F </td><td>4 </td></tr>\n",
       "\t<tr><td>PF</td><td>F </td><td>4 </td></tr>\n",
       "\t<tr><td>PF</td><td>M </td><td>4 </td></tr>\n",
       "\t<tr><td>RM</td><td>F </td><td>4 </td></tr>\n",
       "\t<tr><td>RM</td><td>M </td><td>4 </td></tr>\n",
       "\t<tr><td>PF</td><td>  </td><td>4 </td></tr>\n",
       "</tbody>\n",
       "</table>\n"
      ],
      "text/latex": [
       "\\begin{tabular}{r|lll}\n",
       " species\\_id & sex & weight\\\\\n",
       "\\hline\n",
       "\t PF & F  & 4 \\\\\n",
       "\t PF & F  & 4 \\\\\n",
       "\t PF & M  & 4 \\\\\n",
       "\t RM & F  & 4 \\\\\n",
       "\t RM & M  & 4 \\\\\n",
       "\t PF &    & 4 \\\\\n",
       "\\end{tabular}\n"
      ],
      "text/markdown": [
       "\n",
       "species_id | sex | weight | \n",
       "|---|---|---|---|---|---|\n",
       "| PF | F  | 4  | \n",
       "| PF | F  | 4  | \n",
       "| PF | M  | 4  | \n",
       "| RM | F  | 4  | \n",
       "| RM | M  | 4  | \n",
       "| PF |    | 4  | \n",
       "\n",
       "\n"
      ],
      "text/plain": [
       "  species_id sex weight\n",
       "1 PF         F   4     \n",
       "2 PF         F   4     \n",
       "3 PF         M   4     \n",
       "4 RM         F   4     \n",
       "5 RM         M   4     \n",
       "6 PF             4     "
      ]
     },
     "metadata": {},
     "output_type": "display_data"
    }
   ],
   "source": [
    "surveys_small <- surveys %>%\n",
    "  filter(weight < 5) %>%\n",
    "  select(species_id, sex, weight)\n",
    "\n",
    "head(surveys_small)"
   ]
  },
  {
   "cell_type": "code",
   "execution_count": 21,
   "metadata": {},
   "outputs": [],
   "source": [
    "# Convert to imperative"
   ]
  },
  {
   "cell_type": "markdown",
   "metadata": {},
   "source": [
    "## <font color=\"red\"> Exercise 2 </font>\n",
    "\n",
    "Perform each of the following code conversions."
   ]
  },
  {
   "cell_type": "code",
   "execution_count": 22,
   "metadata": {},
   "outputs": [
    {
     "data": {
      "text/html": [
       "<table>\n",
       "<thead><tr><th scope=col>Salesperson</th><th scope=col>Compact</th><th scope=col>Sedan</th><th scope=col>SUV</th><th scope=col>Truck</th></tr></thead>\n",
       "<tbody>\n",
       "\t<tr><td>Ann    </td><td>22     </td><td>18     </td><td>15     </td><td>12     </td></tr>\n",
       "\t<tr><td>Bob    </td><td>19     </td><td>12     </td><td>17     </td><td>20     </td></tr>\n",
       "\t<tr><td>Yolanda</td><td>19     </td><td> 8     </td><td>32     </td><td>15     </td></tr>\n",
       "\t<tr><td>Xerxes </td><td>12     </td><td>23     </td><td>18     </td><td> 9     </td></tr>\n",
       "</tbody>\n",
       "</table>\n"
      ],
      "text/latex": [
       "\\begin{tabular}{r|lllll}\n",
       " Salesperson & Compact & Sedan & SUV & Truck\\\\\n",
       "\\hline\n",
       "\t Ann     & 22      & 18      & 15      & 12     \\\\\n",
       "\t Bob     & 19      & 12      & 17      & 20     \\\\\n",
       "\t Yolanda & 19      &  8      & 32      & 15     \\\\\n",
       "\t Xerxes  & 12      & 23      & 18      &  9     \\\\\n",
       "\\end{tabular}\n"
      ],
      "text/markdown": [
       "\n",
       "Salesperson | Compact | Sedan | SUV | Truck | \n",
       "|---|---|---|---|\n",
       "| Ann     | 22      | 18      | 15      | 12      | \n",
       "| Bob     | 19      | 12      | 17      | 20      | \n",
       "| Yolanda | 19      |  8      | 32      | 15      | \n",
       "| Xerxes  | 12      | 23      | 18      |  9      | \n",
       "\n",
       "\n"
      ],
      "text/plain": [
       "  Salesperson Compact Sedan SUV Truck\n",
       "1 Ann         22      18    15  12   \n",
       "2 Bob         19      12    17  20   \n",
       "3 Yolanda     19       8    32  15   \n",
       "4 Xerxes      12      23    18   9   "
      ]
     },
     "metadata": {},
     "output_type": "display_data"
    }
   ],
   "source": [
    "sales <- read.csv('https://github.com/WSU-DataScience/DSCI_210_R_notebooks/raw/main/data/auto_sales.csv')\n",
    "head(sales)"
   ]
  },
  {
   "cell_type": "markdown",
   "metadata": {},
   "source": [
    "#### <font color=\"red\">TASK 1</font>. Convert the following *piped code* to the *imperative style*"
   ]
  },
  {
   "cell_type": "code",
   "execution_count": 23,
   "metadata": {},
   "outputs": [
    {
     "data": {
      "text/html": [
       "<table>\n",
       "<thead><tr><th scope=col>Salesperson</th><th scope=col>Compact</th><th scope=col>Sedan</th><th scope=col>Car</th></tr></thead>\n",
       "<tbody>\n",
       "\t<tr><td>Ann    </td><td>22     </td><td>18     </td><td>40     </td></tr>\n",
       "\t<tr><td>Bob    </td><td>19     </td><td>12     </td><td>31     </td></tr>\n",
       "\t<tr><td>Yolanda</td><td>19     </td><td> 8     </td><td>27     </td></tr>\n",
       "\t<tr><td>Xerxes </td><td>12     </td><td>23     </td><td>35     </td></tr>\n",
       "</tbody>\n",
       "</table>\n"
      ],
      "text/latex": [
       "\\begin{tabular}{r|llll}\n",
       " Salesperson & Compact & Sedan & Car\\\\\n",
       "\\hline\n",
       "\t Ann     & 22      & 18      & 40     \\\\\n",
       "\t Bob     & 19      & 12      & 31     \\\\\n",
       "\t Yolanda & 19      &  8      & 27     \\\\\n",
       "\t Xerxes  & 12      & 23      & 35     \\\\\n",
       "\\end{tabular}\n"
      ],
      "text/markdown": [
       "\n",
       "Salesperson | Compact | Sedan | Car | \n",
       "|---|---|---|---|\n",
       "| Ann     | 22      | 18      | 40      | \n",
       "| Bob     | 19      | 12      | 31      | \n",
       "| Yolanda | 19      |  8      | 27      | \n",
       "| Xerxes  | 12      | 23      | 35      | \n",
       "\n",
       "\n"
      ],
      "text/plain": [
       "  Salesperson Compact Sedan Car\n",
       "1 Ann         22      18    40 \n",
       "2 Bob         19      12    31 \n",
       "3 Yolanda     19       8    27 \n",
       "4 Xerxes      12      23    35 "
      ]
     },
     "metadata": {},
     "output_type": "display_data"
    }
   ],
   "source": [
    "sales %>%\n",
    "    select(Salesperson, Compact, Sedan) %>%\n",
    "    mutate(Car = Compact + Sedan) "
   ]
  },
  {
   "cell_type": "code",
   "execution_count": 24,
   "metadata": {},
   "outputs": [],
   "source": [
    "# Your code here"
   ]
  },
  {
   "cell_type": "markdown",
   "metadata": {},
   "source": [
    "#### <font color=\"red\">TASK 2</font>. Convert the following *imperative code* to the *piped style*"
   ]
  },
  {
   "cell_type": "code",
   "execution_count": 25,
   "metadata": {},
   "outputs": [
    {
     "data": {
      "text/html": [
       "<table>\n",
       "<thead><tr><th scope=col>Salesperson</th><th scope=col>Car</th><th scope=col>Utility</th></tr></thead>\n",
       "<tbody>\n",
       "\t<tr><td>Ann    </td><td>40     </td><td>27     </td></tr>\n",
       "\t<tr><td>Bob    </td><td>31     </td><td>37     </td></tr>\n",
       "\t<tr><td>Yolanda</td><td>27     </td><td>47     </td></tr>\n",
       "\t<tr><td>Xerxes </td><td>35     </td><td>27     </td></tr>\n",
       "</tbody>\n",
       "</table>\n"
      ],
      "text/latex": [
       "\\begin{tabular}{r|lll}\n",
       " Salesperson & Car & Utility\\\\\n",
       "\\hline\n",
       "\t Ann     & 40      & 27     \\\\\n",
       "\t Bob     & 31      & 37     \\\\\n",
       "\t Yolanda & 27      & 47     \\\\\n",
       "\t Xerxes  & 35      & 27     \\\\\n",
       "\\end{tabular}\n"
      ],
      "text/markdown": [
       "\n",
       "Salesperson | Car | Utility | \n",
       "|---|---|---|---|\n",
       "| Ann     | 40      | 27      | \n",
       "| Bob     | 31      | 37      | \n",
       "| Yolanda | 27      | 47      | \n",
       "| Xerxes  | 35      | 27      | \n",
       "\n",
       "\n"
      ],
      "text/plain": [
       "  Salesperson Car Utility\n",
       "1 Ann         40  27     \n",
       "2 Bob         31  37     \n",
       "3 Yolanda     27  47     \n",
       "4 Xerxes      35  27     "
      ]
     },
     "metadata": {},
     "output_type": "display_data"
    }
   ],
   "source": [
    "df2 <- mutate(sales, Car = Compact + Sedan)\n",
    "df3 <- mutate(df2, Utility = SUV + Truck)\n",
    "df4 <- select(df3, Salesperson, Car, Utility)\n",
    "head(df4)"
   ]
  },
  {
   "cell_type": "code",
   "execution_count": 26,
   "metadata": {},
   "outputs": [],
   "source": [
    "# Your code here"
   ]
  },
  {
   "cell_type": "markdown",
   "metadata": {},
   "source": [
    "Types of programming errors\n",
    "========================================================\n",
    "\n",
    "* Name errors\n",
    "* Syntax errors\n",
    "* Semantic errors (hardest/worst)"
   ]
  },
  {
   "cell_type": "markdown",
   "metadata": {},
   "source": [
    "### Name Errors - Using the wrong name"
   ]
  },
  {
   "cell_type": "code",
   "execution_count": 27,
   "metadata": {},
   "outputs": [
    {
     "data": {
      "text/html": [
       "<table>\n",
       "<thead><tr><th scope=col>Salesperson</th><th scope=col>Compact</th><th scope=col>Sedan</th><th scope=col>SUV</th><th scope=col>Truck</th></tr></thead>\n",
       "<tbody>\n",
       "\t<tr><td>Ann    </td><td>22     </td><td>18     </td><td>15     </td><td>12     </td></tr>\n",
       "\t<tr><td>Bob    </td><td>19     </td><td>12     </td><td>17     </td><td>20     </td></tr>\n",
       "\t<tr><td>Yolanda</td><td>19     </td><td> 8     </td><td>32     </td><td>15     </td></tr>\n",
       "\t<tr><td>Xerxes </td><td>12     </td><td>23     </td><td>18     </td><td> 9     </td></tr>\n",
       "</tbody>\n",
       "</table>\n"
      ],
      "text/latex": [
       "\\begin{tabular}{r|lllll}\n",
       " Salesperson & Compact & Sedan & SUV & Truck\\\\\n",
       "\\hline\n",
       "\t Ann     & 22      & 18      & 15      & 12     \\\\\n",
       "\t Bob     & 19      & 12      & 17      & 20     \\\\\n",
       "\t Yolanda & 19      &  8      & 32      & 15     \\\\\n",
       "\t Xerxes  & 12      & 23      & 18      &  9     \\\\\n",
       "\\end{tabular}\n"
      ],
      "text/markdown": [
       "\n",
       "Salesperson | Compact | Sedan | SUV | Truck | \n",
       "|---|---|---|---|\n",
       "| Ann     | 22      | 18      | 15      | 12      | \n",
       "| Bob     | 19      | 12      | 17      | 20      | \n",
       "| Yolanda | 19      |  8      | 32      | 15      | \n",
       "| Xerxes  | 12      | 23      | 18      |  9      | \n",
       "\n",
       "\n"
      ],
      "text/plain": [
       "  Salesperson Compact Sedan SUV Truck\n",
       "1 Ann         22      18    15  12   \n",
       "2 Bob         19      12    17  20   \n",
       "3 Yolanda     19       8    32  15   \n",
       "4 Xerxes      12      23    18   9   "
      ]
     },
     "metadata": {},
     "output_type": "display_data"
    }
   ],
   "source": [
    "sales <- read.csv('https://github.com/WSU-DataScience/DSCI_210_R_notebooks/raw/main/data/auto_sales.csv')\n",
    "head(sales)"
   ]
  },
  {
   "cell_type": "markdown",
   "metadata": {},
   "source": [
    "##  Find the name errors"
   ]
  },
  {
   "cell_type": "code",
   "execution_count": 28,
   "metadata": {
    "scrolled": true
   },
   "outputs": [
    {
     "ename": "ERROR",
     "evalue": "Error: Can't subset columns that don't exist.\n✖ Column `salesperson` doesn't exist.\n",
     "output_type": "error",
     "traceback": [
      "Error: Can't subset columns that don't exist.\n✖ Column `salesperson` doesn't exist.\nTraceback:\n",
      "1. sales %>% select(salesperson, sedan)",
      "2. withVisible(eval(quote(`_fseq`(`_lhs`)), env, env))",
      "3. eval(quote(`_fseq`(`_lhs`)), env, env)",
      "4. eval(quote(`_fseq`(`_lhs`)), env, env)",
      "5. `_fseq`(`_lhs`)",
      "6. freduce(value, `_function_list`)",
      "7. withVisible(function_list[[k]](value))",
      "8. function_list[[k]](value)",
      "9. select(., salesperson, sedan)",
      "10. select.data.frame(., salesperson, sedan)",
      "11. tidyselect::eval_select(expr(c(...)), .data)",
      "12. eval_select_impl(data, names(data), as_quosure(expr, env), include = include, \n  .     exclude = exclude, strict = strict, name_spec = name_spec, \n  .     allow_rename = allow_rename)",
      "13. with_subscript_errors(vars_select_eval(vars, expr, strict, data = x, \n  .     name_spec = name_spec, uniquely_named = uniquely_named, allow_rename = allow_rename, \n  .     type = type), type = type)",
      "14. tryCatch(instrument_base_errors(expr), vctrs_error_subscript = function(cnd) {\n  .     cnd$subscript_action <- subscript_action(type)\n  .     cnd$subscript_elt <- \"column\"\n  .     cnd_signal(cnd)\n  . })",
      "15. tryCatchList(expr, classes, parentenv, handlers)",
      "16. tryCatchOne(expr, names, parentenv, handlers[[1L]])",
      "17. value[[3L]](cond)",
      "18. cnd_signal(cnd)",
      "19. rlang:::signal_abort(x)"
     ]
    }
   ],
   "source": [
    "sales %>%\n",
    "  select(salesperson, sedan)"
   ]
  },
  {
   "cell_type": "markdown",
   "metadata": {},
   "source": [
    "### Syntax errors - Incorrect syntax"
   ]
  },
  {
   "cell_type": "code",
   "execution_count": 29,
   "metadata": {},
   "outputs": [
    {
     "ename": "ERROR",
     "evalue": "Error in parse(text = x, srcfile = src): <text>:2:0: unexpected end of input\n1: head(sales\n   ^\n",
     "output_type": "error",
     "traceback": [
      "Error in parse(text = x, srcfile = src): <text>:2:0: unexpected end of input\n1: head(sales\n   ^\nTraceback:\n"
     ]
    }
   ],
   "source": [
    "head(sales"
   ]
  },
  {
   "cell_type": "markdown",
   "metadata": {},
   "source": [
    "##  Find the syntax errors "
   ]
  },
  {
   "cell_type": "code",
   "execution_count": 30,
   "metadata": {},
   "outputs": [
    {
     "ename": "ERROR",
     "evalue": "Error in parse(text = x, srcfile = src): <text>:5:10: unexpected symbol\n4:          monthly_suv = SUV/3\n5:          monthly_truck\n            ^\n",
     "output_type": "error",
     "traceback": [
      "Error in parse(text = x, srcfile = src): <text>:5:10: unexpected symbol\n4:          monthly_suv = SUV/3\n5:          monthly_truck\n            ^\nTraceback:\n"
     ]
    }
   ],
   "source": [
    "# Find the syntax error\n",
    "sales %>%\n",
    "  mutate(monthly_sedan = Sedan/3,\n",
    "         monthly_suv = SUV/3\n",
    "         monthly_truck = Truck/3"
   ]
  },
  {
   "cell_type": "markdown",
   "metadata": {},
   "source": [
    "### Semantic Errors - Correct code, wrong meaning"
   ]
  },
  {
   "cell_type": "code",
   "execution_count": 31,
   "metadata": {},
   "outputs": [
    {
     "data": {
      "text/html": [
       "<table>\n",
       "<thead><tr><th scope=col>Salesperson</th><th scope=col>Compact</th><th scope=col>Sedan</th><th scope=col>SUV</th><th scope=col>Truck</th><th scope=col>avg_sedan</th></tr></thead>\n",
       "<tbody>\n",
       "\t<tr><td>Ann    </td><td>22     </td><td>18     </td><td>15     </td><td>12     </td><td>12     </td></tr>\n",
       "\t<tr><td>Bob    </td><td>19     </td><td>12     </td><td>17     </td><td>20     </td><td>20     </td></tr>\n",
       "\t<tr><td>Yolanda</td><td>19     </td><td> 8     </td><td>32     </td><td>15     </td><td>15     </td></tr>\n",
       "\t<tr><td>Xerxes </td><td>12     </td><td>23     </td><td>18     </td><td> 9     </td><td> 9     </td></tr>\n",
       "</tbody>\n",
       "</table>\n"
      ],
      "text/latex": [
       "\\begin{tabular}{r|llllll}\n",
       " Salesperson & Compact & Sedan & SUV & Truck & avg\\_sedan\\\\\n",
       "\\hline\n",
       "\t Ann     & 22      & 18      & 15      & 12      & 12     \\\\\n",
       "\t Bob     & 19      & 12      & 17      & 20      & 20     \\\\\n",
       "\t Yolanda & 19      &  8      & 32      & 15      & 15     \\\\\n",
       "\t Xerxes  & 12      & 23      & 18      &  9      &  9     \\\\\n",
       "\\end{tabular}\n"
      ],
      "text/markdown": [
       "\n",
       "Salesperson | Compact | Sedan | SUV | Truck | avg_sedan | \n",
       "|---|---|---|---|\n",
       "| Ann     | 22      | 18      | 15      | 12      | 12      | \n",
       "| Bob     | 19      | 12      | 17      | 20      | 20      | \n",
       "| Yolanda | 19      |  8      | 32      | 15      | 15      | \n",
       "| Xerxes  | 12      | 23      | 18      |  9      |  9      | \n",
       "\n",
       "\n"
      ],
      "text/plain": [
       "  Salesperson Compact Sedan SUV Truck avg_sedan\n",
       "1 Ann         22      18    15  12    12       \n",
       "2 Bob         19      12    17  20    20       \n",
       "3 Yolanda     19       8    32  15    15       \n",
       "4 Xerxes      12      23    18   9     9       "
      ]
     },
     "metadata": {},
     "output_type": "display_data"
    }
   ],
   "source": [
    "# Find the semantic errors\n",
    "sales %>%\n",
    "  group_by(Salesperson) %>%\n",
    "  mutate(avg_sedan = median(Truck))"
   ]
  },
  {
   "cell_type": "markdown",
   "metadata": {},
   "source": [
    "## <font color=\"red\"> Exercise 3 </font>\n",
    "\n",
    "Identify all of the errors and classify each as either a name, syntax, or semantic error."
   ]
  },
  {
   "cell_type": "code",
   "execution_count": 32,
   "metadata": {},
   "outputs": [
    {
     "ename": "ERROR",
     "evalue": "Error in parse(text = x, srcfile = src): <text>:4:0: unexpected end of input\n2:     mutate(Car = compact + sedan) %>%\n3:     mutate(Utility = SUV * Truck %>%\n  ^\n",
     "output_type": "error",
     "traceback": [
      "Error in parse(text = x, srcfile = src): <text>:4:0: unexpected end of input\n2:     mutate(Car = compact + sedan) %>%\n3:     mutate(Utility = SUV * Truck %>%\n  ^\nTraceback:\n"
     ]
    }
   ],
   "source": [
    "sales %>%\n",
    "    mutate(Car = compact + sedan) %>%\n",
    "    mutate(Utility = SUV * Truck %>%"
   ]
  },
  {
   "cell_type": "markdown",
   "metadata": {},
   "source": [
    "> Your answer here"
   ]
  }
 ],
 "metadata": {
  "kernelspec": {
   "display_name": "R",
   "language": "R",
   "name": "ir"
  },
  "language_info": {
   "codemirror_mode": "r",
   "file_extension": ".r",
   "mimetype": "text/x-r-source",
   "name": "R",
   "pygments_lexer": "r",
   "version": "3.5.1"
  }
 },
 "nbformat": 4,
 "nbformat_minor": 2
}
