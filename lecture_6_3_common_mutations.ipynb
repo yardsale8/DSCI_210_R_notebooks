{
 "cells": [
  {
   "cell_type": "markdown",
   "metadata": {},
   "source": [
    "# Common mutations"
   ]
  },
  {
   "cell_type": "code",
   "execution_count": 1,
   "metadata": {},
   "outputs": [
    {
     "name": "stderr",
     "output_type": "stream",
     "text": [
      "\n",
      "Attaching package: ‘dplyr’\n",
      "\n",
      "The following objects are masked from ‘package:stats’:\n",
      "\n",
      "    filter, lag\n",
      "\n",
      "The following objects are masked from ‘package:base’:\n",
      "\n",
      "    intersect, setdiff, setequal, union\n",
      "\n"
     ]
    }
   ],
   "source": [
    "library(dplyr)"
   ]
  },
  {
   "cell_type": "code",
   "execution_count": 2,
   "metadata": {},
   "outputs": [
    {
     "data": {
      "text/html": [
       "<table>\n",
       "<thead><tr><th scope=col>record_id</th><th scope=col>month</th><th scope=col>day</th><th scope=col>year</th><th scope=col>plot_id</th><th scope=col>species_id</th><th scope=col>sex</th><th scope=col>hindfoot_length</th><th scope=col>weight</th><th scope=col>genus</th><th scope=col>species</th><th scope=col>taxa</th><th scope=col>plot_type</th></tr></thead>\n",
       "<tbody>\n",
       "\t<tr><td>  1     </td><td> 7      </td><td>16      </td><td>1977    </td><td>2       </td><td>NL      </td><td>M       </td><td>32      </td><td>NA      </td><td>Neotoma </td><td>albigula</td><td>Rodent  </td><td>Control </td></tr>\n",
       "\t<tr><td> 72     </td><td> 8      </td><td>19      </td><td>1977    </td><td>2       </td><td>NL      </td><td>M       </td><td>31      </td><td>NA      </td><td>Neotoma </td><td>albigula</td><td>Rodent  </td><td>Control </td></tr>\n",
       "\t<tr><td>224     </td><td> 9      </td><td>13      </td><td>1977    </td><td>2       </td><td>NL      </td><td>        </td><td>NA      </td><td>NA      </td><td>Neotoma </td><td>albigula</td><td>Rodent  </td><td>Control </td></tr>\n",
       "\t<tr><td>266     </td><td>10      </td><td>16      </td><td>1977    </td><td>2       </td><td>NL      </td><td>        </td><td>NA      </td><td>NA      </td><td>Neotoma </td><td>albigula</td><td>Rodent  </td><td>Control </td></tr>\n",
       "\t<tr><td>349     </td><td>11      </td><td>12      </td><td>1977    </td><td>2       </td><td>NL      </td><td>        </td><td>NA      </td><td>NA      </td><td>Neotoma </td><td>albigula</td><td>Rodent  </td><td>Control </td></tr>\n",
       "\t<tr><td>363     </td><td>11      </td><td>12      </td><td>1977    </td><td>2       </td><td>NL      </td><td>        </td><td>NA      </td><td>NA      </td><td>Neotoma </td><td>albigula</td><td>Rodent  </td><td>Control </td></tr>\n",
       "</tbody>\n",
       "</table>\n"
      ],
      "text/latex": [
       "\\begin{tabular}{r|lllllllllllll}\n",
       " record\\_id & month & day & year & plot\\_id & species\\_id & sex & hindfoot\\_length & weight & genus & species & taxa & plot\\_type\\\\\n",
       "\\hline\n",
       "\t   1      &  7       & 16       & 1977     & 2        & NL       & M        & 32       & NA       & Neotoma  & albigula & Rodent   & Control \\\\\n",
       "\t  72      &  8       & 19       & 1977     & 2        & NL       & M        & 31       & NA       & Neotoma  & albigula & Rodent   & Control \\\\\n",
       "\t 224      &  9       & 13       & 1977     & 2        & NL       &          & NA       & NA       & Neotoma  & albigula & Rodent   & Control \\\\\n",
       "\t 266      & 10       & 16       & 1977     & 2        & NL       &          & NA       & NA       & Neotoma  & albigula & Rodent   & Control \\\\\n",
       "\t 349      & 11       & 12       & 1977     & 2        & NL       &          & NA       & NA       & Neotoma  & albigula & Rodent   & Control \\\\\n",
       "\t 363      & 11       & 12       & 1977     & 2        & NL       &          & NA       & NA       & Neotoma  & albigula & Rodent   & Control \\\\\n",
       "\\end{tabular}\n"
      ],
      "text/markdown": [
       "\n",
       "record_id | month | day | year | plot_id | species_id | sex | hindfoot_length | weight | genus | species | taxa | plot_type | \n",
       "|---|---|---|---|---|---|\n",
       "|   1      |  7       | 16       | 1977     | 2        | NL       | M        | 32       | NA       | Neotoma  | albigula | Rodent   | Control  | \n",
       "|  72      |  8       | 19       | 1977     | 2        | NL       | M        | 31       | NA       | Neotoma  | albigula | Rodent   | Control  | \n",
       "| 224      |  9       | 13       | 1977     | 2        | NL       |          | NA       | NA       | Neotoma  | albigula | Rodent   | Control  | \n",
       "| 266      | 10       | 16       | 1977     | 2        | NL       |          | NA       | NA       | Neotoma  | albigula | Rodent   | Control  | \n",
       "| 349      | 11       | 12       | 1977     | 2        | NL       |          | NA       | NA       | Neotoma  | albigula | Rodent   | Control  | \n",
       "| 363      | 11       | 12       | 1977     | 2        | NL       |          | NA       | NA       | Neotoma  | albigula | Rodent   | Control  | \n",
       "\n",
       "\n"
      ],
      "text/plain": [
       "  record_id month day year plot_id species_id sex hindfoot_length weight\n",
       "1   1        7    16  1977 2       NL         M   32              NA    \n",
       "2  72        8    19  1977 2       NL         M   31              NA    \n",
       "3 224        9    13  1977 2       NL             NA              NA    \n",
       "4 266       10    16  1977 2       NL             NA              NA    \n",
       "5 349       11    12  1977 2       NL             NA              NA    \n",
       "6 363       11    12  1977 2       NL             NA              NA    \n",
       "  genus   species  taxa   plot_type\n",
       "1 Neotoma albigula Rodent Control  \n",
       "2 Neotoma albigula Rodent Control  \n",
       "3 Neotoma albigula Rodent Control  \n",
       "4 Neotoma albigula Rodent Control  \n",
       "5 Neotoma albigula Rodent Control  \n",
       "6 Neotoma albigula Rodent Control  "
      ]
     },
     "metadata": {},
     "output_type": "display_data"
    }
   ],
   "source": [
    "surveys <- read.csv('https://github.com/WSU-DataScience/DSCI_210_R_notebooks/raw/main/data/portal_data_joined.csv')\n",
    "head(surveys)"
   ]
  },
  {
   "cell_type": "markdown",
   "metadata": {},
   "source": [
    "# Outline\n",
    "\n",
    "* Numeric transformations\n",
    "* String transformations"
   ]
  },
  {
   "cell_type": "markdown",
   "metadata": {},
   "source": [
    "# Common mutations"
   ]
  },
  {
   "cell_type": "markdown",
   "metadata": {},
   "source": [
    "### Example - Creating a decade column"
   ]
  },
  {
   "cell_type": "code",
   "execution_count": 3,
   "metadata": {},
   "outputs": [
    {
     "data": {
      "text/html": [
       "<ol class=list-inline>\n",
       "\t<li>1977</li>\n",
       "\t<li>1977</li>\n",
       "\t<li>1977</li>\n",
       "\t<li>1977</li>\n",
       "\t<li>1977</li>\n",
       "\t<li>1977</li>\n",
       "</ol>\n"
      ],
      "text/latex": [
       "\\begin{enumerate*}\n",
       "\\item 1977\n",
       "\\item 1977\n",
       "\\item 1977\n",
       "\\item 1977\n",
       "\\item 1977\n",
       "\\item 1977\n",
       "\\end{enumerate*}\n"
      ],
      "text/markdown": [
       "1. 1977\n",
       "2. 1977\n",
       "3. 1977\n",
       "4. 1977\n",
       "5. 1977\n",
       "6. 1977\n",
       "\n",
       "\n"
      ],
      "text/plain": [
       "[1] 1977 1977 1977 1977 1977 1977"
      ]
     },
     "metadata": {},
     "output_type": "display_data"
    }
   ],
   "source": [
    "# Playing around\n",
    "# Step 1 - Save the column\n",
    "year <- surveys$year \n",
    "year %>% head"
   ]
  },
  {
   "cell_type": "code",
   "execution_count": 4,
   "metadata": {},
   "outputs": [
    {
     "data": {
      "text/html": [
       "<ol class=list-inline>\n",
       "\t<li>1970</li>\n",
       "\t<li>1970</li>\n",
       "\t<li>1970</li>\n",
       "\t<li>1970</li>\n",
       "\t<li>1970</li>\n",
       "\t<li>1970</li>\n",
       "</ol>\n"
      ],
      "text/latex": [
       "\\begin{enumerate*}\n",
       "\\item 1970\n",
       "\\item 1970\n",
       "\\item 1970\n",
       "\\item 1970\n",
       "\\item 1970\n",
       "\\item 1970\n",
       "\\end{enumerate*}\n"
      ],
      "text/markdown": [
       "1. 1970\n",
       "2. 1970\n",
       "3. 1970\n",
       "4. 1970\n",
       "5. 1970\n",
       "6. 1970\n",
       "\n",
       "\n"
      ],
      "text/plain": [
       "[1] 1970 1970 1970 1970 1970 1970"
      ]
     },
     "metadata": {},
     "output_type": "display_data"
    }
   ],
   "source": [
    "# Playing around\n",
    "# Step 2 - Try it out\n",
    "new <- floor(year/10)*10\n",
    "head(new)"
   ]
  },
  {
   "cell_type": "code",
   "execution_count": 5,
   "metadata": {},
   "outputs": [
    {
     "data": {
      "text/html": [
       "<table>\n",
       "<thead><tr><th scope=col>record_id</th><th scope=col>month</th><th scope=col>day</th><th scope=col>year</th><th scope=col>plot_id</th><th scope=col>species_id</th><th scope=col>sex</th><th scope=col>hindfoot_length</th><th scope=col>weight</th><th scope=col>genus</th><th scope=col>species</th><th scope=col>taxa</th><th scope=col>plot_type</th><th scope=col>decade</th></tr></thead>\n",
       "<tbody>\n",
       "\t<tr><td>  1     </td><td> 7      </td><td>16      </td><td>1977    </td><td>2       </td><td>NL      </td><td>M       </td><td>32      </td><td>NA      </td><td>Neotoma </td><td>albigula</td><td>Rodent  </td><td>Control </td><td>1970    </td></tr>\n",
       "\t<tr><td> 72     </td><td> 8      </td><td>19      </td><td>1977    </td><td>2       </td><td>NL      </td><td>M       </td><td>31      </td><td>NA      </td><td>Neotoma </td><td>albigula</td><td>Rodent  </td><td>Control </td><td>1970    </td></tr>\n",
       "\t<tr><td>224     </td><td> 9      </td><td>13      </td><td>1977    </td><td>2       </td><td>NL      </td><td>        </td><td>NA      </td><td>NA      </td><td>Neotoma </td><td>albigula</td><td>Rodent  </td><td>Control </td><td>1970    </td></tr>\n",
       "\t<tr><td>266     </td><td>10      </td><td>16      </td><td>1977    </td><td>2       </td><td>NL      </td><td>        </td><td>NA      </td><td>NA      </td><td>Neotoma </td><td>albigula</td><td>Rodent  </td><td>Control </td><td>1970    </td></tr>\n",
       "\t<tr><td>349     </td><td>11      </td><td>12      </td><td>1977    </td><td>2       </td><td>NL      </td><td>        </td><td>NA      </td><td>NA      </td><td>Neotoma </td><td>albigula</td><td>Rodent  </td><td>Control </td><td>1970    </td></tr>\n",
       "\t<tr><td>363     </td><td>11      </td><td>12      </td><td>1977    </td><td>2       </td><td>NL      </td><td>        </td><td>NA      </td><td>NA      </td><td>Neotoma </td><td>albigula</td><td>Rodent  </td><td>Control </td><td>1970    </td></tr>\n",
       "</tbody>\n",
       "</table>\n"
      ],
      "text/latex": [
       "\\begin{tabular}{r|llllllllllllll}\n",
       " record\\_id & month & day & year & plot\\_id & species\\_id & sex & hindfoot\\_length & weight & genus & species & taxa & plot\\_type & decade\\\\\n",
       "\\hline\n",
       "\t   1      &  7       & 16       & 1977     & 2        & NL       & M        & 32       & NA       & Neotoma  & albigula & Rodent   & Control  & 1970    \\\\\n",
       "\t  72      &  8       & 19       & 1977     & 2        & NL       & M        & 31       & NA       & Neotoma  & albigula & Rodent   & Control  & 1970    \\\\\n",
       "\t 224      &  9       & 13       & 1977     & 2        & NL       &          & NA       & NA       & Neotoma  & albigula & Rodent   & Control  & 1970    \\\\\n",
       "\t 266      & 10       & 16       & 1977     & 2        & NL       &          & NA       & NA       & Neotoma  & albigula & Rodent   & Control  & 1970    \\\\\n",
       "\t 349      & 11       & 12       & 1977     & 2        & NL       &          & NA       & NA       & Neotoma  & albigula & Rodent   & Control  & 1970    \\\\\n",
       "\t 363      & 11       & 12       & 1977     & 2        & NL       &          & NA       & NA       & Neotoma  & albigula & Rodent   & Control  & 1970    \\\\\n",
       "\\end{tabular}\n"
      ],
      "text/markdown": [
       "\n",
       "record_id | month | day | year | plot_id | species_id | sex | hindfoot_length | weight | genus | species | taxa | plot_type | decade | \n",
       "|---|---|---|---|---|---|\n",
       "|   1      |  7       | 16       | 1977     | 2        | NL       | M        | 32       | NA       | Neotoma  | albigula | Rodent   | Control  | 1970     | \n",
       "|  72      |  8       | 19       | 1977     | 2        | NL       | M        | 31       | NA       | Neotoma  | albigula | Rodent   | Control  | 1970     | \n",
       "| 224      |  9       | 13       | 1977     | 2        | NL       |          | NA       | NA       | Neotoma  | albigula | Rodent   | Control  | 1970     | \n",
       "| 266      | 10       | 16       | 1977     | 2        | NL       |          | NA       | NA       | Neotoma  | albigula | Rodent   | Control  | 1970     | \n",
       "| 349      | 11       | 12       | 1977     | 2        | NL       |          | NA       | NA       | Neotoma  | albigula | Rodent   | Control  | 1970     | \n",
       "| 363      | 11       | 12       | 1977     | 2        | NL       |          | NA       | NA       | Neotoma  | albigula | Rodent   | Control  | 1970     | \n",
       "\n",
       "\n"
      ],
      "text/plain": [
       "  record_id month day year plot_id species_id sex hindfoot_length weight\n",
       "1   1        7    16  1977 2       NL         M   32              NA    \n",
       "2  72        8    19  1977 2       NL         M   31              NA    \n",
       "3 224        9    13  1977 2       NL             NA              NA    \n",
       "4 266       10    16  1977 2       NL             NA              NA    \n",
       "5 349       11    12  1977 2       NL             NA              NA    \n",
       "6 363       11    12  1977 2       NL             NA              NA    \n",
       "  genus   species  taxa   plot_type decade\n",
       "1 Neotoma albigula Rodent Control   1970  \n",
       "2 Neotoma albigula Rodent Control   1970  \n",
       "3 Neotoma albigula Rodent Control   1970  \n",
       "4 Neotoma albigula Rodent Control   1970  \n",
       "5 Neotoma albigula Rodent Control   1970  \n",
       "6 Neotoma albigula Rodent Control   1970  "
      ]
     },
     "metadata": {},
     "output_type": "display_data"
    }
   ],
   "source": [
    "# Step 3 - Embed in a mutate\n",
    "(surveys\n",
    " %>% mutate(decade = floor(year/10)*10)\n",
    " %>% head\n",
    " )"
   ]
  },
  {
   "cell_type": "markdown",
   "metadata": {},
   "source": [
    "### Making a indicator column with `ifelse`"
   ]
  },
  {
   "cell_type": "code",
   "execution_count": 6,
   "metadata": {},
   "outputs": [
    {
     "data": {
      "text/html": [
       "<ol class=list-inline>\n",
       "\t<li>1</li>\n",
       "\t<li>1</li>\n",
       "\t<li>0</li>\n",
       "\t<li>0</li>\n",
       "\t<li>0</li>\n",
       "\t<li>0</li>\n",
       "</ol>\n"
      ],
      "text/latex": [
       "\\begin{enumerate*}\n",
       "\\item 1\n",
       "\\item 1\n",
       "\\item 0\n",
       "\\item 0\n",
       "\\item 0\n",
       "\\item 0\n",
       "\\end{enumerate*}\n"
      ],
      "text/markdown": [
       "1. 1\n",
       "2. 1\n",
       "3. 0\n",
       "4. 0\n",
       "5. 0\n",
       "6. 0\n",
       "\n",
       "\n"
      ],
      "text/plain": [
       "[1] 1 1 0 0 0 0"
      ]
     },
     "metadata": {},
     "output_type": "display_data"
    }
   ],
   "source": [
    "# Playing around\n",
    "sex <- surveys$sex\n",
    "new <- ifelse(sex == 'M', 1, 0)\n",
    "head(new)"
   ]
  },
  {
   "cell_type": "code",
   "execution_count": 7,
   "metadata": {
    "scrolled": true
   },
   "outputs": [
    {
     "data": {
      "text/html": [
       "<table>\n",
       "<thead><tr><th scope=col>record_id</th><th scope=col>month</th><th scope=col>day</th><th scope=col>year</th><th scope=col>plot_id</th><th scope=col>species_id</th><th scope=col>sex</th><th scope=col>hindfoot_length</th><th scope=col>weight</th><th scope=col>genus</th><th scope=col>species</th><th scope=col>taxa</th><th scope=col>plot_type</th><th scope=col>is_male</th></tr></thead>\n",
       "<tbody>\n",
       "\t<tr><td>  1     </td><td> 7      </td><td>16      </td><td>1977    </td><td>2       </td><td>NL      </td><td>M       </td><td>32      </td><td>NA      </td><td>Neotoma </td><td>albigula</td><td>Rodent  </td><td>Control </td><td>1       </td></tr>\n",
       "\t<tr><td> 72     </td><td> 8      </td><td>19      </td><td>1977    </td><td>2       </td><td>NL      </td><td>M       </td><td>31      </td><td>NA      </td><td>Neotoma </td><td>albigula</td><td>Rodent  </td><td>Control </td><td>1       </td></tr>\n",
       "\t<tr><td>224     </td><td> 9      </td><td>13      </td><td>1977    </td><td>2       </td><td>NL      </td><td>        </td><td>NA      </td><td>NA      </td><td>Neotoma </td><td>albigula</td><td>Rodent  </td><td>Control </td><td>0       </td></tr>\n",
       "\t<tr><td>266     </td><td>10      </td><td>16      </td><td>1977    </td><td>2       </td><td>NL      </td><td>        </td><td>NA      </td><td>NA      </td><td>Neotoma </td><td>albigula</td><td>Rodent  </td><td>Control </td><td>0       </td></tr>\n",
       "\t<tr><td>349     </td><td>11      </td><td>12      </td><td>1977    </td><td>2       </td><td>NL      </td><td>        </td><td>NA      </td><td>NA      </td><td>Neotoma </td><td>albigula</td><td>Rodent  </td><td>Control </td><td>0       </td></tr>\n",
       "\t<tr><td>363     </td><td>11      </td><td>12      </td><td>1977    </td><td>2       </td><td>NL      </td><td>        </td><td>NA      </td><td>NA      </td><td>Neotoma </td><td>albigula</td><td>Rodent  </td><td>Control </td><td>0       </td></tr>\n",
       "</tbody>\n",
       "</table>\n"
      ],
      "text/latex": [
       "\\begin{tabular}{r|llllllllllllll}\n",
       " record\\_id & month & day & year & plot\\_id & species\\_id & sex & hindfoot\\_length & weight & genus & species & taxa & plot\\_type & is\\_male\\\\\n",
       "\\hline\n",
       "\t   1      &  7       & 16       & 1977     & 2        & NL       & M        & 32       & NA       & Neotoma  & albigula & Rodent   & Control  & 1       \\\\\n",
       "\t  72      &  8       & 19       & 1977     & 2        & NL       & M        & 31       & NA       & Neotoma  & albigula & Rodent   & Control  & 1       \\\\\n",
       "\t 224      &  9       & 13       & 1977     & 2        & NL       &          & NA       & NA       & Neotoma  & albigula & Rodent   & Control  & 0       \\\\\n",
       "\t 266      & 10       & 16       & 1977     & 2        & NL       &          & NA       & NA       & Neotoma  & albigula & Rodent   & Control  & 0       \\\\\n",
       "\t 349      & 11       & 12       & 1977     & 2        & NL       &          & NA       & NA       & Neotoma  & albigula & Rodent   & Control  & 0       \\\\\n",
       "\t 363      & 11       & 12       & 1977     & 2        & NL       &          & NA       & NA       & Neotoma  & albigula & Rodent   & Control  & 0       \\\\\n",
       "\\end{tabular}\n"
      ],
      "text/markdown": [
       "\n",
       "record_id | month | day | year | plot_id | species_id | sex | hindfoot_length | weight | genus | species | taxa | plot_type | is_male | \n",
       "|---|---|---|---|---|---|\n",
       "|   1      |  7       | 16       | 1977     | 2        | NL       | M        | 32       | NA       | Neotoma  | albigula | Rodent   | Control  | 1        | \n",
       "|  72      |  8       | 19       | 1977     | 2        | NL       | M        | 31       | NA       | Neotoma  | albigula | Rodent   | Control  | 1        | \n",
       "| 224      |  9       | 13       | 1977     | 2        | NL       |          | NA       | NA       | Neotoma  | albigula | Rodent   | Control  | 0        | \n",
       "| 266      | 10       | 16       | 1977     | 2        | NL       |          | NA       | NA       | Neotoma  | albigula | Rodent   | Control  | 0        | \n",
       "| 349      | 11       | 12       | 1977     | 2        | NL       |          | NA       | NA       | Neotoma  | albigula | Rodent   | Control  | 0        | \n",
       "| 363      | 11       | 12       | 1977     | 2        | NL       |          | NA       | NA       | Neotoma  | albigula | Rodent   | Control  | 0        | \n",
       "\n",
       "\n"
      ],
      "text/plain": [
       "  record_id month day year plot_id species_id sex hindfoot_length weight\n",
       "1   1        7    16  1977 2       NL         M   32              NA    \n",
       "2  72        8    19  1977 2       NL         M   31              NA    \n",
       "3 224        9    13  1977 2       NL             NA              NA    \n",
       "4 266       10    16  1977 2       NL             NA              NA    \n",
       "5 349       11    12  1977 2       NL             NA              NA    \n",
       "6 363       11    12  1977 2       NL             NA              NA    \n",
       "  genus   species  taxa   plot_type is_male\n",
       "1 Neotoma albigula Rodent Control   1      \n",
       "2 Neotoma albigula Rodent Control   1      \n",
       "3 Neotoma albigula Rodent Control   0      \n",
       "4 Neotoma albigula Rodent Control   0      \n",
       "5 Neotoma albigula Rodent Control   0      \n",
       "6 Neotoma albigula Rodent Control   0      "
      ]
     },
     "metadata": {},
     "output_type": "display_data"
    }
   ],
   "source": [
    "(surveys\n",
    "%>% mutate(is_male = ifelse(sex == 'M', 1, 0))\n",
    "%>% head\n",
    ")"
   ]
  },
  {
   "cell_type": "markdown",
   "metadata": {},
   "source": [
    "## <font color=\"red\"> Exercise 6.2.1 - Convert to kg. </font>\n",
    "\n",
    "The variables `Bench.pre` and `Bench.post` represent the pre- and post-measurement for maximum bench press in lbs.\n",
    "\n",
    "* **Task 1:** Create two new columns that contain the bench press weights (pre- and post-) converted to kilograms.\n",
    "* **Task 2:** Create an indicator column called `is_class_1` that is `1` for all rows with `Class == 1` and `0` otherwise."
   ]
  },
  {
   "cell_type": "code",
   "execution_count": 8,
   "metadata": {},
   "outputs": [
    {
     "data": {
      "text/html": [
       "<table>\n",
       "<thead><tr><th scope=col>student</th><th scope=col>Class</th><th scope=col>Pct7</th><th scope=col>Avg.sleep.per.night</th><th scope=col>GPA.pre</th><th scope=col>GPA.post</th><th scope=col>Clean.pre</th><th scope=col>Clean.post</th><th scope=col>Back.pre</th><th scope=col>Back.post</th><th scope=col>Bench.pre</th><th scope=col>Bench.post</th></tr></thead>\n",
       "<tbody>\n",
       "\t<tr><td>1   </td><td>NA  </td><td>    </td><td> NA </td><td>3.21</td><td>3.60</td><td>270 </td><td> NA </td><td>425 </td><td> NA </td><td>315 </td><td> NA </td></tr>\n",
       "\t<tr><td>2   </td><td> 1  </td><td>95% </td><td>7.6 </td><td>3.10</td><td>3.30</td><td>265 </td><td>290 </td><td>385 </td><td>430 </td><td>255 </td><td>275 </td></tr>\n",
       "\t<tr><td>3   </td><td> 2  </td><td>90% </td><td>7.5 </td><td>2.94</td><td>3.46</td><td>264 </td><td>264 </td><td>290 </td><td>425 </td><td>290 </td><td>290 </td></tr>\n",
       "\t<tr><td>4   </td><td> 2  </td><td>25% </td><td>6.0 </td><td>2.57</td><td>2.20</td><td>290 </td><td> NA </td><td>450 </td><td> NA </td><td>275 </td><td> NA </td></tr>\n",
       "\t<tr><td>5   </td><td> 1  </td><td>44% </td><td>6.0 </td><td>3.50</td><td>3.50</td><td>280 </td><td>265 </td><td>415 </td><td>390 </td><td>270 </td><td>235 </td></tr>\n",
       "\t<tr><td>6   </td><td> 2  </td><td>88% </td><td>7.0 </td><td>2.64</td><td>1.53</td><td>253 </td><td>253 </td><td>405 </td><td>415 </td><td>305 </td><td>325 </td></tr>\n",
       "</tbody>\n",
       "</table>\n"
      ],
      "text/latex": [
       "\\begin{tabular}{r|llllllllllll}\n",
       " student & Class & Pct7 & Avg.sleep.per.night & GPA.pre & GPA.post & Clean.pre & Clean.post & Back.pre & Back.post & Bench.pre & Bench.post\\\\\n",
       "\\hline\n",
       "\t 1    & NA   &      &  NA  & 3.21 & 3.60 & 270  &  NA  & 425  &  NA  & 315  &  NA \\\\\n",
       "\t 2     &  1    & 95\\% & 7.6   & 3.10  & 3.30  & 265   & 290   & 385   & 430   & 255   & 275  \\\\\n",
       "\t 3     &  2    & 90\\% & 7.5   & 2.94  & 3.46  & 264   & 264   & 290   & 425   & 290   & 290  \\\\\n",
       "\t 4     &  2    & 25\\% & 6.0   & 2.57  & 2.20  & 290   &  NA   & 450   &  NA   & 275   &  NA  \\\\\n",
       "\t 5     &  1    & 44\\% & 6.0   & 3.50  & 3.50  & 280   & 265   & 415   & 390   & 270   & 235  \\\\\n",
       "\t 6     &  2    & 88\\% & 7.0   & 2.64  & 1.53  & 253   & 253   & 405   & 415   & 305   & 325  \\\\\n",
       "\\end{tabular}\n"
      ],
      "text/markdown": [
       "\n",
       "student | Class | Pct7 | Avg.sleep.per.night | GPA.pre | GPA.post | Clean.pre | Clean.post | Back.pre | Back.post | Bench.pre | Bench.post | \n",
       "|---|---|---|---|---|---|\n",
       "| 1    | NA   |      |  NA  | 3.21 | 3.60 | 270  |  NA  | 425  |  NA  | 315  |  NA  | \n",
       "| 2    |  1   | 95%  | 7.6  | 3.10 | 3.30 | 265  | 290  | 385  | 430  | 255  | 275  | \n",
       "| 3    |  2   | 90%  | 7.5  | 2.94 | 3.46 | 264  | 264  | 290  | 425  | 290  | 290  | \n",
       "| 4    |  2   | 25%  | 6.0  | 2.57 | 2.20 | 290  |  NA  | 450  |  NA  | 275  |  NA  | \n",
       "| 5    |  1   | 44%  | 6.0  | 3.50 | 3.50 | 280  | 265  | 415  | 390  | 270  | 235  | \n",
       "| 6    |  2   | 88%  | 7.0  | 2.64 | 1.53 | 253  | 253  | 405  | 415  | 305  | 325  | \n",
       "\n",
       "\n"
      ],
      "text/plain": [
       "  student Class Pct7 Avg.sleep.per.night GPA.pre GPA.post Clean.pre Clean.post\n",
       "1 1       NA          NA                 3.21    3.60     270        NA       \n",
       "2 2        1    95%  7.6                 3.10    3.30     265       290       \n",
       "3 3        2    90%  7.5                 2.94    3.46     264       264       \n",
       "4 4        2    25%  6.0                 2.57    2.20     290        NA       \n",
       "5 5        1    44%  6.0                 3.50    3.50     280       265       \n",
       "6 6        2    88%  7.0                 2.64    1.53     253       253       \n",
       "  Back.pre Back.post Bench.pre Bench.post\n",
       "1 425       NA       315        NA       \n",
       "2 385      430       255       275       \n",
       "3 290      425       290       290       \n",
       "4 450       NA       275        NA       \n",
       "5 415      390       270       235       \n",
       "6 405      415       305       325       "
      ]
     },
     "metadata": {},
     "output_type": "display_data"
    }
   ],
   "source": [
    "football_sleep <- read.csv('https://github.com/WSU-DataScience/DSCI_210_R_notebooks/raw/main/data/Football_Sleep_data.csv')\n",
    "head(football_sleep)"
   ]
  },
  {
   "cell_type": "code",
   "execution_count": 9,
   "metadata": {},
   "outputs": [],
   "source": [
    "# Your code here"
   ]
  },
  {
   "cell_type": "markdown",
   "metadata": {},
   "source": [
    "# String Transformations\n",
    "\n",
    "1. Substring extraction\n",
    "2. Replace\n",
    "3. Recode"
   ]
  },
  {
   "cell_type": "markdown",
   "metadata": {},
   "source": [
    "## Pattern 1 - Substring extraction with `substr`\n",
    "\n",
    "**Syntax:** `substr(col, start, stop)`"
   ]
  },
  {
   "cell_type": "code",
   "execution_count": 10,
   "metadata": {},
   "outputs": [
    {
     "data": {
      "text/html": [
       "<ol class=list-inline>\n",
       "\t<li>Control</li>\n",
       "\t<li>Long-term Krat Exclosure</li>\n",
       "\t<li>Short-term Krat Exclosure</li>\n",
       "\t<li>Rodent Exclosure</li>\n",
       "\t<li>Spectab exclosure</li>\n",
       "</ol>\n",
       "\n",
       "<details>\n",
       "\t<summary style=display:list-item;cursor:pointer>\n",
       "\t\t<strong>Levels</strong>:\n",
       "\t</summary>\n",
       "\t<ol class=list-inline>\n",
       "\t\t<li>'Control'</li>\n",
       "\t\t<li>'Long-term Krat Exclosure'</li>\n",
       "\t\t<li>'Rodent Exclosure'</li>\n",
       "\t\t<li>'Short-term Krat Exclosure'</li>\n",
       "\t\t<li>'Spectab exclosure'</li>\n",
       "\t</ol>\n",
       "</details>"
      ],
      "text/latex": [
       "\\begin{enumerate*}\n",
       "\\item Control\n",
       "\\item Long-term Krat Exclosure\n",
       "\\item Short-term Krat Exclosure\n",
       "\\item Rodent Exclosure\n",
       "\\item Spectab exclosure\n",
       "\\end{enumerate*}\n",
       "\n",
       "\\emph{Levels}: \\begin{enumerate*}\n",
       "\\item 'Control'\n",
       "\\item 'Long-term Krat Exclosure'\n",
       "\\item 'Rodent Exclosure'\n",
       "\\item 'Short-term Krat Exclosure'\n",
       "\\item 'Spectab exclosure'\n",
       "\\end{enumerate*}\n"
      ],
      "text/markdown": [
       "1. Control\n",
       "2. Long-term Krat Exclosure\n",
       "3. Short-term Krat Exclosure\n",
       "4. Rodent Exclosure\n",
       "5. Spectab exclosure\n",
       "\n",
       "\n",
       "\n",
       "**Levels**: 1. 'Control'\n",
       "2. 'Long-term Krat Exclosure'\n",
       "3. 'Rodent Exclosure'\n",
       "4. 'Short-term Krat Exclosure'\n",
       "5. 'Spectab exclosure'\n",
       "\n",
       "\n"
      ],
      "text/plain": [
       "[1] Control                   Long-term Krat Exclosure \n",
       "[3] Short-term Krat Exclosure Rodent Exclosure         \n",
       "[5] Spectab exclosure        \n",
       "5 Levels: Control Long-term Krat Exclosure ... Spectab exclosure"
      ]
     },
     "metadata": {},
     "output_type": "display_data"
    }
   ],
   "source": [
    "# Play around\n",
    "plot_type <- surveys$plot_type\n",
    "unique(plot_type)"
   ]
  },
  {
   "cell_type": "markdown",
   "metadata": {},
   "source": [
    "**Note:** R indexing starts at 1 not 0"
   ]
  },
  {
   "cell_type": "code",
   "execution_count": 11,
   "metadata": {},
   "outputs": [
    {
     "data": {
      "text/html": [
       "<ol class=list-inline>\n",
       "\t<li>'Contr'</li>\n",
       "\t<li>'Contr'</li>\n",
       "\t<li>'Contr'</li>\n",
       "\t<li>'Contr'</li>\n",
       "\t<li>'Contr'</li>\n",
       "\t<li>'Contr'</li>\n",
       "</ol>\n"
      ],
      "text/latex": [
       "\\begin{enumerate*}\n",
       "\\item 'Contr'\n",
       "\\item 'Contr'\n",
       "\\item 'Contr'\n",
       "\\item 'Contr'\n",
       "\\item 'Contr'\n",
       "\\item 'Contr'\n",
       "\\end{enumerate*}\n"
      ],
      "text/markdown": [
       "1. 'Contr'\n",
       "2. 'Contr'\n",
       "3. 'Contr'\n",
       "4. 'Contr'\n",
       "5. 'Contr'\n",
       "6. 'Contr'\n",
       "\n",
       "\n"
      ],
      "text/plain": [
       "[1] \"Contr\" \"Contr\" \"Contr\" \"Contr\" \"Contr\" \"Contr\""
      ]
     },
     "metadata": {},
     "output_type": "display_data"
    }
   ],
   "source": [
    "new <- substr(plot_type, 1, 5)\n",
    "head(new)"
   ]
  },
  {
   "cell_type": "code",
   "execution_count": 12,
   "metadata": {
    "scrolled": true
   },
   "outputs": [
    {
     "data": {
      "text/html": [
       "<table>\n",
       "<thead><tr><th scope=col>record_id</th><th scope=col>month</th><th scope=col>day</th><th scope=col>year</th><th scope=col>plot_id</th><th scope=col>species_id</th><th scope=col>sex</th><th scope=col>hindfoot_length</th><th scope=col>weight</th><th scope=col>genus</th><th scope=col>species</th><th scope=col>taxa</th><th scope=col>plot_type</th></tr></thead>\n",
       "<tbody>\n",
       "\t<tr><td>  1     </td><td> 7      </td><td>16      </td><td>1977    </td><td>2       </td><td>NL      </td><td>M       </td><td>32      </td><td>NA      </td><td>Neotoma </td><td>albigula</td><td>Rodent  </td><td>Contr   </td></tr>\n",
       "\t<tr><td> 72     </td><td> 8      </td><td>19      </td><td>1977    </td><td>2       </td><td>NL      </td><td>M       </td><td>31      </td><td>NA      </td><td>Neotoma </td><td>albigula</td><td>Rodent  </td><td>Contr   </td></tr>\n",
       "\t<tr><td>224     </td><td> 9      </td><td>13      </td><td>1977    </td><td>2       </td><td>NL      </td><td>        </td><td>NA      </td><td>NA      </td><td>Neotoma </td><td>albigula</td><td>Rodent  </td><td>Contr   </td></tr>\n",
       "\t<tr><td>266     </td><td>10      </td><td>16      </td><td>1977    </td><td>2       </td><td>NL      </td><td>        </td><td>NA      </td><td>NA      </td><td>Neotoma </td><td>albigula</td><td>Rodent  </td><td>Contr   </td></tr>\n",
       "\t<tr><td>349     </td><td>11      </td><td>12      </td><td>1977    </td><td>2       </td><td>NL      </td><td>        </td><td>NA      </td><td>NA      </td><td>Neotoma </td><td>albigula</td><td>Rodent  </td><td>Contr   </td></tr>\n",
       "\t<tr><td>363     </td><td>11      </td><td>12      </td><td>1977    </td><td>2       </td><td>NL      </td><td>        </td><td>NA      </td><td>NA      </td><td>Neotoma </td><td>albigula</td><td>Rodent  </td><td>Contr   </td></tr>\n",
       "</tbody>\n",
       "</table>\n"
      ],
      "text/latex": [
       "\\begin{tabular}{r|lllllllllllll}\n",
       " record\\_id & month & day & year & plot\\_id & species\\_id & sex & hindfoot\\_length & weight & genus & species & taxa & plot\\_type\\\\\n",
       "\\hline\n",
       "\t   1      &  7       & 16       & 1977     & 2        & NL       & M        & 32       & NA       & Neotoma  & albigula & Rodent   & Contr   \\\\\n",
       "\t  72      &  8       & 19       & 1977     & 2        & NL       & M        & 31       & NA       & Neotoma  & albigula & Rodent   & Contr   \\\\\n",
       "\t 224      &  9       & 13       & 1977     & 2        & NL       &          & NA       & NA       & Neotoma  & albigula & Rodent   & Contr   \\\\\n",
       "\t 266      & 10       & 16       & 1977     & 2        & NL       &          & NA       & NA       & Neotoma  & albigula & Rodent   & Contr   \\\\\n",
       "\t 349      & 11       & 12       & 1977     & 2        & NL       &          & NA       & NA       & Neotoma  & albigula & Rodent   & Contr   \\\\\n",
       "\t 363      & 11       & 12       & 1977     & 2        & NL       &          & NA       & NA       & Neotoma  & albigula & Rodent   & Contr   \\\\\n",
       "\\end{tabular}\n"
      ],
      "text/markdown": [
       "\n",
       "record_id | month | day | year | plot_id | species_id | sex | hindfoot_length | weight | genus | species | taxa | plot_type | \n",
       "|---|---|---|---|---|---|\n",
       "|   1      |  7       | 16       | 1977     | 2        | NL       | M        | 32       | NA       | Neotoma  | albigula | Rodent   | Contr    | \n",
       "|  72      |  8       | 19       | 1977     | 2        | NL       | M        | 31       | NA       | Neotoma  | albigula | Rodent   | Contr    | \n",
       "| 224      |  9       | 13       | 1977     | 2        | NL       |          | NA       | NA       | Neotoma  | albigula | Rodent   | Contr    | \n",
       "| 266      | 10       | 16       | 1977     | 2        | NL       |          | NA       | NA       | Neotoma  | albigula | Rodent   | Contr    | \n",
       "| 349      | 11       | 12       | 1977     | 2        | NL       |          | NA       | NA       | Neotoma  | albigula | Rodent   | Contr    | \n",
       "| 363      | 11       | 12       | 1977     | 2        | NL       |          | NA       | NA       | Neotoma  | albigula | Rodent   | Contr    | \n",
       "\n",
       "\n"
      ],
      "text/plain": [
       "  record_id month day year plot_id species_id sex hindfoot_length weight\n",
       "1   1        7    16  1977 2       NL         M   32              NA    \n",
       "2  72        8    19  1977 2       NL         M   31              NA    \n",
       "3 224        9    13  1977 2       NL             NA              NA    \n",
       "4 266       10    16  1977 2       NL             NA              NA    \n",
       "5 349       11    12  1977 2       NL             NA              NA    \n",
       "6 363       11    12  1977 2       NL             NA              NA    \n",
       "  genus   species  taxa   plot_type\n",
       "1 Neotoma albigula Rodent Contr    \n",
       "2 Neotoma albigula Rodent Contr    \n",
       "3 Neotoma albigula Rodent Contr    \n",
       "4 Neotoma albigula Rodent Contr    \n",
       "5 Neotoma albigula Rodent Contr    \n",
       "6 Neotoma albigula Rodent Contr    "
      ]
     },
     "metadata": {},
     "output_type": "display_data"
    }
   ],
   "source": [
    "(surveys\n",
    " %>% mutate(plot_type = substr(plot_type, 1, 5))\n",
    " %>% head\n",
    " )"
   ]
  },
  {
   "cell_type": "markdown",
   "metadata": {},
   "source": [
    "## <font color=\"red\"> Exercise 6.2.2 - Creating a decade column using string functions.</font>\n",
    "\n",
    "In a previous example, we used division and `floor` to create a `decade` column.  Another approach to this problem is to convert the years to strings and use `substr` to extract the decade.\n",
    "\n",
    "**Tasks:** The basic process for converting to decade is\n",
    "\n",
    "1. Use `as.charactar` to convert `year` to a string.\n",
    "2. Use `substr` to extract the first three digits.\n",
    "3. Use `paste(column, '0', sep = '')` to add on a zero.\n",
    "4. Use `as.numeric` to convert back to a numeric column\n",
    "\n",
    "Be sure to *play around* with the columns first, THEN mutate."
   ]
  },
  {
   "cell_type": "code",
   "execution_count": 13,
   "metadata": {},
   "outputs": [
    {
     "data": {
      "text/html": [
       "<table>\n",
       "<thead><tr><th scope=col>record_id</th><th scope=col>month</th><th scope=col>day</th><th scope=col>year</th><th scope=col>plot_id</th><th scope=col>species_id</th><th scope=col>sex</th><th scope=col>hindfoot_length</th><th scope=col>weight</th><th scope=col>genus</th><th scope=col>species</th><th scope=col>taxa</th><th scope=col>plot_type</th></tr></thead>\n",
       "<tbody>\n",
       "\t<tr><td>  1     </td><td> 7      </td><td>16      </td><td>1977    </td><td>2       </td><td>NL      </td><td>M       </td><td>32      </td><td>NA      </td><td>Neotoma </td><td>albigula</td><td>Rodent  </td><td>Control </td></tr>\n",
       "\t<tr><td> 72     </td><td> 8      </td><td>19      </td><td>1977    </td><td>2       </td><td>NL      </td><td>M       </td><td>31      </td><td>NA      </td><td>Neotoma </td><td>albigula</td><td>Rodent  </td><td>Control </td></tr>\n",
       "\t<tr><td>224     </td><td> 9      </td><td>13      </td><td>1977    </td><td>2       </td><td>NL      </td><td>        </td><td>NA      </td><td>NA      </td><td>Neotoma </td><td>albigula</td><td>Rodent  </td><td>Control </td></tr>\n",
       "\t<tr><td>266     </td><td>10      </td><td>16      </td><td>1977    </td><td>2       </td><td>NL      </td><td>        </td><td>NA      </td><td>NA      </td><td>Neotoma </td><td>albigula</td><td>Rodent  </td><td>Control </td></tr>\n",
       "\t<tr><td>349     </td><td>11      </td><td>12      </td><td>1977    </td><td>2       </td><td>NL      </td><td>        </td><td>NA      </td><td>NA      </td><td>Neotoma </td><td>albigula</td><td>Rodent  </td><td>Control </td></tr>\n",
       "\t<tr><td>363     </td><td>11      </td><td>12      </td><td>1977    </td><td>2       </td><td>NL      </td><td>        </td><td>NA      </td><td>NA      </td><td>Neotoma </td><td>albigula</td><td>Rodent  </td><td>Control </td></tr>\n",
       "</tbody>\n",
       "</table>\n"
      ],
      "text/latex": [
       "\\begin{tabular}{r|lllllllllllll}\n",
       " record\\_id & month & day & year & plot\\_id & species\\_id & sex & hindfoot\\_length & weight & genus & species & taxa & plot\\_type\\\\\n",
       "\\hline\n",
       "\t   1      &  7       & 16       & 1977     & 2        & NL       & M        & 32       & NA       & Neotoma  & albigula & Rodent   & Control \\\\\n",
       "\t  72      &  8       & 19       & 1977     & 2        & NL       & M        & 31       & NA       & Neotoma  & albigula & Rodent   & Control \\\\\n",
       "\t 224      &  9       & 13       & 1977     & 2        & NL       &          & NA       & NA       & Neotoma  & albigula & Rodent   & Control \\\\\n",
       "\t 266      & 10       & 16       & 1977     & 2        & NL       &          & NA       & NA       & Neotoma  & albigula & Rodent   & Control \\\\\n",
       "\t 349      & 11       & 12       & 1977     & 2        & NL       &          & NA       & NA       & Neotoma  & albigula & Rodent   & Control \\\\\n",
       "\t 363      & 11       & 12       & 1977     & 2        & NL       &          & NA       & NA       & Neotoma  & albigula & Rodent   & Control \\\\\n",
       "\\end{tabular}\n"
      ],
      "text/markdown": [
       "\n",
       "record_id | month | day | year | plot_id | species_id | sex | hindfoot_length | weight | genus | species | taxa | plot_type | \n",
       "|---|---|---|---|---|---|\n",
       "|   1      |  7       | 16       | 1977     | 2        | NL       | M        | 32       | NA       | Neotoma  | albigula | Rodent   | Control  | \n",
       "|  72      |  8       | 19       | 1977     | 2        | NL       | M        | 31       | NA       | Neotoma  | albigula | Rodent   | Control  | \n",
       "| 224      |  9       | 13       | 1977     | 2        | NL       |          | NA       | NA       | Neotoma  | albigula | Rodent   | Control  | \n",
       "| 266      | 10       | 16       | 1977     | 2        | NL       |          | NA       | NA       | Neotoma  | albigula | Rodent   | Control  | \n",
       "| 349      | 11       | 12       | 1977     | 2        | NL       |          | NA       | NA       | Neotoma  | albigula | Rodent   | Control  | \n",
       "| 363      | 11       | 12       | 1977     | 2        | NL       |          | NA       | NA       | Neotoma  | albigula | Rodent   | Control  | \n",
       "\n",
       "\n"
      ],
      "text/plain": [
       "  record_id month day year plot_id species_id sex hindfoot_length weight\n",
       "1   1        7    16  1977 2       NL         M   32              NA    \n",
       "2  72        8    19  1977 2       NL         M   31              NA    \n",
       "3 224        9    13  1977 2       NL             NA              NA    \n",
       "4 266       10    16  1977 2       NL             NA              NA    \n",
       "5 349       11    12  1977 2       NL             NA              NA    \n",
       "6 363       11    12  1977 2       NL             NA              NA    \n",
       "  genus   species  taxa   plot_type\n",
       "1 Neotoma albigula Rodent Control  \n",
       "2 Neotoma albigula Rodent Control  \n",
       "3 Neotoma albigula Rodent Control  \n",
       "4 Neotoma albigula Rodent Control  \n",
       "5 Neotoma albigula Rodent Control  \n",
       "6 Neotoma albigula Rodent Control  "
      ]
     },
     "metadata": {},
     "output_type": "display_data"
    }
   ],
   "source": [
    "head(surveys)"
   ]
  },
  {
   "cell_type": "code",
   "execution_count": 15,
   "metadata": {},
   "outputs": [
    {
     "data": {
      "text/html": [
       "<ol class=list-inline>\n",
       "\t<li>'NLa'</li>\n",
       "\t<li>'DMa'</li>\n",
       "\t<li>'PFa'</li>\n",
       "\t<li>'PEa'</li>\n",
       "\t<li>'DSa'</li>\n",
       "\t<li>'PPa'</li>\n",
       "\t<li>'SHa'</li>\n",
       "\t<li>'OTa'</li>\n",
       "\t<li>'DOa'</li>\n",
       "\t<li>'OXa'</li>\n",
       "\t<li>'SSa'</li>\n",
       "\t<li>'OLa'</li>\n",
       "\t<li>'RMa'</li>\n",
       "\t<li>'SAa'</li>\n",
       "\t<li>'PMa'</li>\n",
       "\t<li>'AHa'</li>\n",
       "\t<li>'DXa'</li>\n",
       "\t<li>'ABa'</li>\n",
       "\t<li>'CMa'</li>\n",
       "\t<li>'CQa'</li>\n",
       "\t<li>'RFa'</li>\n",
       "\t<li>'URa'</li>\n",
       "\t<li>'UPa'</li>\n",
       "\t<li>'ULa'</li>\n",
       "\t<li>'BAa'</li>\n",
       "\t<li>'ROa'</li>\n",
       "\t<li>'SOa'</li>\n",
       "\t<li>'PBa'</li>\n",
       "\t<li>'CBa'</li>\n",
       "\t<li>'PCa'</li>\n",
       "\t<li>'PHa'</li>\n",
       "\t<li>'SFa'</li>\n",
       "\t<li>'PIa'</li>\n",
       "\t<li>'PLa'</li>\n",
       "\t<li>'PXa'</li>\n",
       "\t<li>'CVa'</li>\n",
       "\t<li>'USa'</li>\n",
       "\t<li>'PGa'</li>\n",
       "\t<li>'ASa'</li>\n",
       "\t<li>'ZLa'</li>\n",
       "\t<li>'CSa'</li>\n",
       "\t<li>'SUa'</li>\n",
       "\t<li>'PUa'</li>\n",
       "\t<li>'STa'</li>\n",
       "\t<li>'RXa'</li>\n",
       "\t<li>'CTa'</li>\n",
       "\t<li>'SCa'</li>\n",
       "\t<li>'CUa'</li>\n",
       "</ol>\n"
      ],
      "text/latex": [
       "\\begin{enumerate*}\n",
       "\\item 'NLa'\n",
       "\\item 'DMa'\n",
       "\\item 'PFa'\n",
       "\\item 'PEa'\n",
       "\\item 'DSa'\n",
       "\\item 'PPa'\n",
       "\\item 'SHa'\n",
       "\\item 'OTa'\n",
       "\\item 'DOa'\n",
       "\\item 'OXa'\n",
       "\\item 'SSa'\n",
       "\\item 'OLa'\n",
       "\\item 'RMa'\n",
       "\\item 'SAa'\n",
       "\\item 'PMa'\n",
       "\\item 'AHa'\n",
       "\\item 'DXa'\n",
       "\\item 'ABa'\n",
       "\\item 'CMa'\n",
       "\\item 'CQa'\n",
       "\\item 'RFa'\n",
       "\\item 'URa'\n",
       "\\item 'UPa'\n",
       "\\item 'ULa'\n",
       "\\item 'BAa'\n",
       "\\item 'ROa'\n",
       "\\item 'SOa'\n",
       "\\item 'PBa'\n",
       "\\item 'CBa'\n",
       "\\item 'PCa'\n",
       "\\item 'PHa'\n",
       "\\item 'SFa'\n",
       "\\item 'PIa'\n",
       "\\item 'PLa'\n",
       "\\item 'PXa'\n",
       "\\item 'CVa'\n",
       "\\item 'USa'\n",
       "\\item 'PGa'\n",
       "\\item 'ASa'\n",
       "\\item 'ZLa'\n",
       "\\item 'CSa'\n",
       "\\item 'SUa'\n",
       "\\item 'PUa'\n",
       "\\item 'STa'\n",
       "\\item 'RXa'\n",
       "\\item 'CTa'\n",
       "\\item 'SCa'\n",
       "\\item 'CUa'\n",
       "\\end{enumerate*}\n"
      ],
      "text/markdown": [
       "1. 'NLa'\n",
       "2. 'DMa'\n",
       "3. 'PFa'\n",
       "4. 'PEa'\n",
       "5. 'DSa'\n",
       "6. 'PPa'\n",
       "7. 'SHa'\n",
       "8. 'OTa'\n",
       "9. 'DOa'\n",
       "10. 'OXa'\n",
       "11. 'SSa'\n",
       "12. 'OLa'\n",
       "13. 'RMa'\n",
       "14. 'SAa'\n",
       "15. 'PMa'\n",
       "16. 'AHa'\n",
       "17. 'DXa'\n",
       "18. 'ABa'\n",
       "19. 'CMa'\n",
       "20. 'CQa'\n",
       "21. 'RFa'\n",
       "22. 'URa'\n",
       "23. 'UPa'\n",
       "24. 'ULa'\n",
       "25. 'BAa'\n",
       "26. 'ROa'\n",
       "27. 'SOa'\n",
       "28. 'PBa'\n",
       "29. 'CBa'\n",
       "30. 'PCa'\n",
       "31. 'PHa'\n",
       "32. 'SFa'\n",
       "33. 'PIa'\n",
       "34. 'PLa'\n",
       "35. 'PXa'\n",
       "36. 'CVa'\n",
       "37. 'USa'\n",
       "38. 'PGa'\n",
       "39. 'ASa'\n",
       "40. 'ZLa'\n",
       "41. 'CSa'\n",
       "42. 'SUa'\n",
       "43. 'PUa'\n",
       "44. 'STa'\n",
       "45. 'RXa'\n",
       "46. 'CTa'\n",
       "47. 'SCa'\n",
       "48. 'CUa'\n",
       "\n",
       "\n"
      ],
      "text/plain": [
       " [1] \"NLa\" \"DMa\" \"PFa\" \"PEa\" \"DSa\" \"PPa\" \"SHa\" \"OTa\" \"DOa\" \"OXa\" \"SSa\" \"OLa\"\n",
       "[13] \"RMa\" \"SAa\" \"PMa\" \"AHa\" \"DXa\" \"ABa\" \"CMa\" \"CQa\" \"RFa\" \"URa\" \"UPa\" \"ULa\"\n",
       "[25] \"BAa\" \"ROa\" \"SOa\" \"PBa\" \"CBa\" \"PCa\" \"PHa\" \"SFa\" \"PIa\" \"PLa\" \"PXa\" \"CVa\"\n",
       "[37] \"USa\" \"PGa\" \"ASa\" \"ZLa\" \"CSa\" \"SUa\" \"PUa\" \"STa\" \"RXa\" \"CTa\" \"SCa\" \"CUa\""
      ]
     },
     "metadata": {},
     "output_type": "display_data"
    }
   ],
   "source": [
    "example_paste <- paste(surveys$species_id, \"a\", sep = '')\n",
    "unique(example_paste)"
   ]
  },
  {
   "cell_type": "code",
   "execution_count": 16,
   "metadata": {},
   "outputs": [],
   "source": [
    "# Your play-around code here"
   ]
  },
  {
   "cell_type": "code",
   "execution_count": 17,
   "metadata": {},
   "outputs": [],
   "source": [
    "# Your mutate pipe here"
   ]
  },
  {
   "cell_type": "markdown",
   "metadata": {},
   "source": [
    "## Pattern 2 - `str_replace` from the `stringr` library\n",
    "\n",
    "**Syntax:** `str_replace(column, pattern, replace)`"
   ]
  },
  {
   "cell_type": "code",
   "execution_count": 18,
   "metadata": {},
   "outputs": [],
   "source": [
    "library(stringr)"
   ]
  },
  {
   "cell_type": "markdown",
   "metadata": {},
   "source": [
    "### Example - Cleaning up the percents"
   ]
  },
  {
   "cell_type": "code",
   "execution_count": 19,
   "metadata": {},
   "outputs": [
    {
     "data": {
      "text/html": [
       "<ol class=list-inline>\n",
       "\t<li></li>\n",
       "\t<li>95%</li>\n",
       "\t<li>90%</li>\n",
       "\t<li>25%</li>\n",
       "\t<li>44%</li>\n",
       "\t<li>88%</li>\n",
       "</ol>\n",
       "\n",
       "<details>\n",
       "\t<summary style=display:list-item;cursor:pointer>\n",
       "\t\t<strong>Levels</strong>:\n",
       "\t</summary>\n",
       "\t<ol class=list-inline>\n",
       "\t\t<li>''</li>\n",
       "\t\t<li>'0%'</li>\n",
       "\t\t<li>'10%'</li>\n",
       "\t\t<li>'100%'</li>\n",
       "\t\t<li>'15%'</li>\n",
       "\t\t<li>'18%'</li>\n",
       "\t\t<li>'20%'</li>\n",
       "\t\t<li>'25%'</li>\n",
       "\t\t<li>'36%'</li>\n",
       "\t\t<li>'37%'</li>\n",
       "\t\t<li>'44%'</li>\n",
       "\t\t<li>'45%'</li>\n",
       "\t\t<li>'50%'</li>\n",
       "\t\t<li>'55%'</li>\n",
       "\t\t<li>'58%'</li>\n",
       "\t\t<li>'60%'</li>\n",
       "\t\t<li>'64%'</li>\n",
       "\t\t<li>'65%'</li>\n",
       "\t\t<li>'68%'</li>\n",
       "\t\t<li>'70%'</li>\n",
       "\t\t<li>'75%'</li>\n",
       "\t\t<li>'77%'</li>\n",
       "\t\t<li>'78%'</li>\n",
       "\t\t<li>'79%'</li>\n",
       "\t\t<li>'80%'</li>\n",
       "\t\t<li>'82%'</li>\n",
       "\t\t<li>'85%'</li>\n",
       "\t\t<li>'86%'</li>\n",
       "\t\t<li>'88%'</li>\n",
       "\t\t<li>'90%'</li>\n",
       "\t\t<li>'92%'</li>\n",
       "\t\t<li>'93%'</li>\n",
       "\t\t<li>'95%'</li>\n",
       "\t\t<li>'96%'</li>\n",
       "\t\t<li>'98%'</li>\n",
       "\t</ol>\n",
       "</details>"
      ],
      "text/latex": [
       "\\begin{enumerate*}\n",
       "\\item \n",
       "\\item 95\\%\n",
       "\\item 90\\%\n",
       "\\item 25\\%\n",
       "\\item 44\\%\n",
       "\\item 88\\%\n",
       "\\end{enumerate*}\n",
       "\n",
       "\\emph{Levels}: \\begin{enumerate*}\n",
       "\\item ''\n",
       "\\item '0\\%'\n",
       "\\item '10\\%'\n",
       "\\item '100\\%'\n",
       "\\item '15\\%'\n",
       "\\item '18\\%'\n",
       "\\item '20\\%'\n",
       "\\item '25\\%'\n",
       "\\item '36\\%'\n",
       "\\item '37\\%'\n",
       "\\item '44\\%'\n",
       "\\item '45\\%'\n",
       "\\item '50\\%'\n",
       "\\item '55\\%'\n",
       "\\item '58\\%'\n",
       "\\item '60\\%'\n",
       "\\item '64\\%'\n",
       "\\item '65\\%'\n",
       "\\item '68\\%'\n",
       "\\item '70\\%'\n",
       "\\item '75\\%'\n",
       "\\item '77\\%'\n",
       "\\item '78\\%'\n",
       "\\item '79\\%'\n",
       "\\item '80\\%'\n",
       "\\item '82\\%'\n",
       "\\item '85\\%'\n",
       "\\item '86\\%'\n",
       "\\item '88\\%'\n",
       "\\item '90\\%'\n",
       "\\item '92\\%'\n",
       "\\item '93\\%'\n",
       "\\item '95\\%'\n",
       "\\item '96\\%'\n",
       "\\item '98\\%'\n",
       "\\end{enumerate*}\n"
      ],
      "text/markdown": [
       "1. \n",
       "2. 95%\n",
       "3. 90%\n",
       "4. 25%\n",
       "5. 44%\n",
       "6. 88%\n",
       "\n",
       "\n",
       "\n",
       "**Levels**: 1. ''\n",
       "2. '0%'\n",
       "3. '10%'\n",
       "4. '100%'\n",
       "5. '15%'\n",
       "6. '18%'\n",
       "7. '20%'\n",
       "8. '25%'\n",
       "9. '36%'\n",
       "10. '37%'\n",
       "11. '44%'\n",
       "12. '45%'\n",
       "13. '50%'\n",
       "14. '55%'\n",
       "15. '58%'\n",
       "16. '60%'\n",
       "17. '64%'\n",
       "18. '65%'\n",
       "19. '68%'\n",
       "20. '70%'\n",
       "21. '75%'\n",
       "22. '77%'\n",
       "23. '78%'\n",
       "24. '79%'\n",
       "25. '80%'\n",
       "26. '82%'\n",
       "27. '85%'\n",
       "28. '86%'\n",
       "29. '88%'\n",
       "30. '90%'\n",
       "31. '92%'\n",
       "32. '93%'\n",
       "33. '95%'\n",
       "34. '96%'\n",
       "35. '98%'\n",
       "\n",
       "\n"
      ],
      "text/plain": [
       "[1]     95% 90% 25% 44% 88%\n",
       "35 Levels:  0% 10% 100% 15% 18% 20% 25% 36% 37% 44% 45% 50% 55% 58% 60% ... 98%"
      ]
     },
     "metadata": {},
     "output_type": "display_data"
    }
   ],
   "source": [
    "pct7 <- football_sleep$Pct7\n",
    "head(pct7)"
   ]
  },
  {
   "cell_type": "markdown",
   "metadata": {},
   "source": [
    "#### (A) Try out `str_replace`"
   ]
  },
  {
   "cell_type": "code",
   "execution_count": 20,
   "metadata": {},
   "outputs": [
    {
     "data": {
      "text/html": [
       "<ol class=list-inline>\n",
       "\t<li>''</li>\n",
       "\t<li>'95'</li>\n",
       "\t<li>'90'</li>\n",
       "\t<li>'25'</li>\n",
       "\t<li>'44'</li>\n",
       "\t<li>'88'</li>\n",
       "</ol>\n"
      ],
      "text/latex": [
       "\\begin{enumerate*}\n",
       "\\item ''\n",
       "\\item '95'\n",
       "\\item '90'\n",
       "\\item '25'\n",
       "\\item '44'\n",
       "\\item '88'\n",
       "\\end{enumerate*}\n"
      ],
      "text/markdown": [
       "1. ''\n",
       "2. '95'\n",
       "3. '90'\n",
       "4. '25'\n",
       "5. '44'\n",
       "6. '88'\n",
       "\n",
       "\n"
      ],
      "text/plain": [
       "[1] \"\"   \"95\" \"90\" \"25\" \"44\" \"88\""
      ]
     },
     "metadata": {},
     "output_type": "display_data"
    }
   ],
   "source": [
    "new <- str_replace(pct7, '%', '')\n",
    "head(new)"
   ]
  },
  {
   "cell_type": "markdown",
   "metadata": {},
   "source": [
    "#### (B) Switch to numeric with `as.numeric`"
   ]
  },
  {
   "cell_type": "code",
   "execution_count": 21,
   "metadata": {},
   "outputs": [
    {
     "data": {
      "text/html": [
       "<ol class=list-inline>\n",
       "\t<li>&lt;NA&gt;</li>\n",
       "\t<li>95</li>\n",
       "\t<li>90</li>\n",
       "\t<li>25</li>\n",
       "\t<li>44</li>\n",
       "\t<li>88</li>\n",
       "</ol>\n"
      ],
      "text/latex": [
       "\\begin{enumerate*}\n",
       "\\item <NA>\n",
       "\\item 95\n",
       "\\item 90\n",
       "\\item 25\n",
       "\\item 44\n",
       "\\item 88\n",
       "\\end{enumerate*}\n"
      ],
      "text/markdown": [
       "1. &lt;NA&gt;\n",
       "2. 95\n",
       "3. 90\n",
       "4. 25\n",
       "5. 44\n",
       "6. 88\n",
       "\n",
       "\n"
      ],
      "text/plain": [
       "[1] NA 95 90 25 44 88"
      ]
     },
     "metadata": {},
     "output_type": "display_data"
    }
   ],
   "source": [
    "new <- str_replace(pct7, '%', '') %>% as.numeric\n",
    "head(new)"
   ]
  },
  {
   "cell_type": "markdown",
   "metadata": {},
   "source": [
    "#### (C) Embed in a `mutate`"
   ]
  },
  {
   "cell_type": "code",
   "execution_count": 22,
   "metadata": {},
   "outputs": [
    {
     "data": {
      "text/html": [
       "<table>\n",
       "<thead><tr><th scope=col>student</th><th scope=col>Class</th><th scope=col>Pct7</th><th scope=col>Avg.sleep.per.night</th><th scope=col>GPA.pre</th><th scope=col>GPA.post</th><th scope=col>Clean.pre</th><th scope=col>Clean.post</th><th scope=col>Back.pre</th><th scope=col>Back.post</th><th scope=col>Bench.pre</th><th scope=col>Bench.post</th><th scope=col>percent</th></tr></thead>\n",
       "<tbody>\n",
       "\t<tr><td>1   </td><td>NA  </td><td>    </td><td> NA </td><td>3.21</td><td>3.60</td><td>270 </td><td> NA </td><td>425 </td><td> NA </td><td>315 </td><td> NA </td><td>NA  </td></tr>\n",
       "\t<tr><td>2   </td><td> 1  </td><td>95% </td><td>7.6 </td><td>3.10</td><td>3.30</td><td>265 </td><td>290 </td><td>385 </td><td>430 </td><td>255 </td><td>275 </td><td>95  </td></tr>\n",
       "\t<tr><td>3   </td><td> 2  </td><td>90% </td><td>7.5 </td><td>2.94</td><td>3.46</td><td>264 </td><td>264 </td><td>290 </td><td>425 </td><td>290 </td><td>290 </td><td>90  </td></tr>\n",
       "\t<tr><td>4   </td><td> 2  </td><td>25% </td><td>6.0 </td><td>2.57</td><td>2.20</td><td>290 </td><td> NA </td><td>450 </td><td> NA </td><td>275 </td><td> NA </td><td>25  </td></tr>\n",
       "\t<tr><td>5   </td><td> 1  </td><td>44% </td><td>6.0 </td><td>3.50</td><td>3.50</td><td>280 </td><td>265 </td><td>415 </td><td>390 </td><td>270 </td><td>235 </td><td>44  </td></tr>\n",
       "\t<tr><td>6   </td><td> 2  </td><td>88% </td><td>7.0 </td><td>2.64</td><td>1.53</td><td>253 </td><td>253 </td><td>405 </td><td>415 </td><td>305 </td><td>325 </td><td>88  </td></tr>\n",
       "</tbody>\n",
       "</table>\n"
      ],
      "text/latex": [
       "\\begin{tabular}{r|lllllllllllll}\n",
       " student & Class & Pct7 & Avg.sleep.per.night & GPA.pre & GPA.post & Clean.pre & Clean.post & Back.pre & Back.post & Bench.pre & Bench.post & percent\\\\\n",
       "\\hline\n",
       "\t 1    & NA   &      &  NA  & 3.21 & 3.60 & 270  &  NA  & 425  &  NA  & 315  &  NA  & NA  \\\\\n",
       "\t 2     &  1    & 95\\% & 7.6   & 3.10  & 3.30  & 265   & 290   & 385   & 430   & 255   & 275   & 95   \\\\\n",
       "\t 3     &  2    & 90\\% & 7.5   & 2.94  & 3.46  & 264   & 264   & 290   & 425   & 290   & 290   & 90   \\\\\n",
       "\t 4     &  2    & 25\\% & 6.0   & 2.57  & 2.20  & 290   &  NA   & 450   &  NA   & 275   &  NA   & 25   \\\\\n",
       "\t 5     &  1    & 44\\% & 6.0   & 3.50  & 3.50  & 280   & 265   & 415   & 390   & 270   & 235   & 44   \\\\\n",
       "\t 6     &  2    & 88\\% & 7.0   & 2.64  & 1.53  & 253   & 253   & 405   & 415   & 305   & 325   & 88   \\\\\n",
       "\\end{tabular}\n"
      ],
      "text/markdown": [
       "\n",
       "student | Class | Pct7 | Avg.sleep.per.night | GPA.pre | GPA.post | Clean.pre | Clean.post | Back.pre | Back.post | Bench.pre | Bench.post | percent | \n",
       "|---|---|---|---|---|---|\n",
       "| 1    | NA   |      |  NA  | 3.21 | 3.60 | 270  |  NA  | 425  |  NA  | 315  |  NA  | NA   | \n",
       "| 2    |  1   | 95%  | 7.6  | 3.10 | 3.30 | 265  | 290  | 385  | 430  | 255  | 275  | 95   | \n",
       "| 3    |  2   | 90%  | 7.5  | 2.94 | 3.46 | 264  | 264  | 290  | 425  | 290  | 290  | 90   | \n",
       "| 4    |  2   | 25%  | 6.0  | 2.57 | 2.20 | 290  |  NA  | 450  |  NA  | 275  |  NA  | 25   | \n",
       "| 5    |  1   | 44%  | 6.0  | 3.50 | 3.50 | 280  | 265  | 415  | 390  | 270  | 235  | 44   | \n",
       "| 6    |  2   | 88%  | 7.0  | 2.64 | 1.53 | 253  | 253  | 405  | 415  | 305  | 325  | 88   | \n",
       "\n",
       "\n"
      ],
      "text/plain": [
       "  student Class Pct7 Avg.sleep.per.night GPA.pre GPA.post Clean.pre Clean.post\n",
       "1 1       NA          NA                 3.21    3.60     270        NA       \n",
       "2 2        1    95%  7.6                 3.10    3.30     265       290       \n",
       "3 3        2    90%  7.5                 2.94    3.46     264       264       \n",
       "4 4        2    25%  6.0                 2.57    2.20     290        NA       \n",
       "5 5        1    44%  6.0                 3.50    3.50     280       265       \n",
       "6 6        2    88%  7.0                 2.64    1.53     253       253       \n",
       "  Back.pre Back.post Bench.pre Bench.post percent\n",
       "1 425       NA       315        NA        NA     \n",
       "2 385      430       255       275        95     \n",
       "3 290      425       290       290        90     \n",
       "4 450       NA       275        NA        25     \n",
       "5 415      390       270       235        44     \n",
       "6 405      415       305       325        88     "
      ]
     },
     "metadata": {},
     "output_type": "display_data"
    }
   ],
   "source": [
    "(football_sleep\n",
    " %>% mutate(percent = str_replace(pct7, '%', '') \n",
    "                     %>% as.numeric)\n",
    " %>% head\n",
    ")"
   ]
  },
  {
   "cell_type": "markdown",
   "metadata": {},
   "source": [
    "#### (D) Also compute the fraction"
   ]
  },
  {
   "cell_type": "code",
   "execution_count": 23,
   "metadata": {},
   "outputs": [
    {
     "data": {
      "text/html": [
       "<table>\n",
       "<thead><tr><th scope=col>student</th><th scope=col>Class</th><th scope=col>Pct7</th><th scope=col>Avg.sleep.per.night</th><th scope=col>GPA.pre</th><th scope=col>GPA.post</th><th scope=col>Clean.pre</th><th scope=col>Clean.post</th><th scope=col>Back.pre</th><th scope=col>Back.post</th><th scope=col>Bench.pre</th><th scope=col>Bench.post</th><th scope=col>percent</th><th scope=col>fraction</th></tr></thead>\n",
       "<tbody>\n",
       "\t<tr><td>1   </td><td>NA  </td><td>    </td><td> NA </td><td>3.21</td><td>3.60</td><td>270 </td><td> NA </td><td>425 </td><td> NA </td><td>315 </td><td> NA </td><td>NA  </td><td>  NA</td></tr>\n",
       "\t<tr><td>2   </td><td> 1  </td><td>95% </td><td>7.6 </td><td>3.10</td><td>3.30</td><td>265 </td><td>290 </td><td>385 </td><td>430 </td><td>255 </td><td>275 </td><td>95  </td><td>0.95</td></tr>\n",
       "\t<tr><td>3   </td><td> 2  </td><td>90% </td><td>7.5 </td><td>2.94</td><td>3.46</td><td>264 </td><td>264 </td><td>290 </td><td>425 </td><td>290 </td><td>290 </td><td>90  </td><td>0.90</td></tr>\n",
       "\t<tr><td>4   </td><td> 2  </td><td>25% </td><td>6.0 </td><td>2.57</td><td>2.20</td><td>290 </td><td> NA </td><td>450 </td><td> NA </td><td>275 </td><td> NA </td><td>25  </td><td>0.25</td></tr>\n",
       "\t<tr><td>5   </td><td> 1  </td><td>44% </td><td>6.0 </td><td>3.50</td><td>3.50</td><td>280 </td><td>265 </td><td>415 </td><td>390 </td><td>270 </td><td>235 </td><td>44  </td><td>0.44</td></tr>\n",
       "\t<tr><td>6   </td><td> 2  </td><td>88% </td><td>7.0 </td><td>2.64</td><td>1.53</td><td>253 </td><td>253 </td><td>405 </td><td>415 </td><td>305 </td><td>325 </td><td>88  </td><td>0.88</td></tr>\n",
       "</tbody>\n",
       "</table>\n"
      ],
      "text/latex": [
       "\\begin{tabular}{r|llllllllllllll}\n",
       " student & Class & Pct7 & Avg.sleep.per.night & GPA.pre & GPA.post & Clean.pre & Clean.post & Back.pre & Back.post & Bench.pre & Bench.post & percent & fraction\\\\\n",
       "\\hline\n",
       "\t 1    & NA   &      &  NA  & 3.21 & 3.60 & 270  &  NA  & 425  &  NA  & 315  &  NA  & NA   &   NA\\\\\n",
       "\t 2     &  1    & 95\\% & 7.6   & 3.10  & 3.30  & 265   & 290   & 385   & 430   & 255   & 275   & 95    & 0.95 \\\\\n",
       "\t 3     &  2    & 90\\% & 7.5   & 2.94  & 3.46  & 264   & 264   & 290   & 425   & 290   & 290   & 90    & 0.90 \\\\\n",
       "\t 4     &  2    & 25\\% & 6.0   & 2.57  & 2.20  & 290   &  NA   & 450   &  NA   & 275   &  NA   & 25    & 0.25 \\\\\n",
       "\t 5     &  1    & 44\\% & 6.0   & 3.50  & 3.50  & 280   & 265   & 415   & 390   & 270   & 235   & 44    & 0.44 \\\\\n",
       "\t 6     &  2    & 88\\% & 7.0   & 2.64  & 1.53  & 253   & 253   & 405   & 415   & 305   & 325   & 88    & 0.88 \\\\\n",
       "\\end{tabular}\n"
      ],
      "text/markdown": [
       "\n",
       "student | Class | Pct7 | Avg.sleep.per.night | GPA.pre | GPA.post | Clean.pre | Clean.post | Back.pre | Back.post | Bench.pre | Bench.post | percent | fraction | \n",
       "|---|---|---|---|---|---|\n",
       "| 1    | NA   |      |  NA  | 3.21 | 3.60 | 270  |  NA  | 425  |  NA  | 315  |  NA  | NA   |   NA | \n",
       "| 2    |  1   | 95%  | 7.6  | 3.10 | 3.30 | 265  | 290  | 385  | 430  | 255  | 275  | 95   | 0.95 | \n",
       "| 3    |  2   | 90%  | 7.5  | 2.94 | 3.46 | 264  | 264  | 290  | 425  | 290  | 290  | 90   | 0.90 | \n",
       "| 4    |  2   | 25%  | 6.0  | 2.57 | 2.20 | 290  |  NA  | 450  |  NA  | 275  |  NA  | 25   | 0.25 | \n",
       "| 5    |  1   | 44%  | 6.0  | 3.50 | 3.50 | 280  | 265  | 415  | 390  | 270  | 235  | 44   | 0.44 | \n",
       "| 6    |  2   | 88%  | 7.0  | 2.64 | 1.53 | 253  | 253  | 405  | 415  | 305  | 325  | 88   | 0.88 | \n",
       "\n",
       "\n"
      ],
      "text/plain": [
       "  student Class Pct7 Avg.sleep.per.night GPA.pre GPA.post Clean.pre Clean.post\n",
       "1 1       NA          NA                 3.21    3.60     270        NA       \n",
       "2 2        1    95%  7.6                 3.10    3.30     265       290       \n",
       "3 3        2    90%  7.5                 2.94    3.46     264       264       \n",
       "4 4        2    25%  6.0                 2.57    2.20     290        NA       \n",
       "5 5        1    44%  6.0                 3.50    3.50     280       265       \n",
       "6 6        2    88%  7.0                 2.64    1.53     253       253       \n",
       "  Back.pre Back.post Bench.pre Bench.post percent fraction\n",
       "1 425       NA       315        NA        NA        NA    \n",
       "2 385      430       255       275        95      0.95    \n",
       "3 290      425       290       290        90      0.90    \n",
       "4 450       NA       275        NA        25      0.25    \n",
       "5 415      390       270       235        44      0.44    \n",
       "6 405      415       305       325        88      0.88    "
      ]
     },
     "metadata": {},
     "output_type": "display_data"
    }
   ],
   "source": [
    "(football_sleep\n",
    " %>% mutate(percent = str_replace(pct7, '%', '') \n",
    "                     %>% as.numeric,\n",
    "           fraction = percent/100)\n",
    " %>% head\n",
    ")"
   ]
  },
  {
   "cell_type": "markdown",
   "metadata": {},
   "source": [
    "## <font color=\"red\"> Exercise 6.2.3 - Replacing `-` with `_`</font>\n",
    "\n",
    "Use `str_replace` to replace all hyphens in the `plot_type` column with underscores."
   ]
  },
  {
   "cell_type": "code",
   "execution_count": 24,
   "metadata": {},
   "outputs": [
    {
     "data": {
      "text/html": [
       "<ol class=list-inline>\n",
       "\t<li>Control</li>\n",
       "\t<li>Long-term Krat Exclosure</li>\n",
       "\t<li>Short-term Krat Exclosure</li>\n",
       "\t<li>Rodent Exclosure</li>\n",
       "\t<li>Spectab exclosure</li>\n",
       "</ol>\n",
       "\n",
       "<details>\n",
       "\t<summary style=display:list-item;cursor:pointer>\n",
       "\t\t<strong>Levels</strong>:\n",
       "\t</summary>\n",
       "\t<ol class=list-inline>\n",
       "\t\t<li>'Control'</li>\n",
       "\t\t<li>'Long-term Krat Exclosure'</li>\n",
       "\t\t<li>'Rodent Exclosure'</li>\n",
       "\t\t<li>'Short-term Krat Exclosure'</li>\n",
       "\t\t<li>'Spectab exclosure'</li>\n",
       "\t</ol>\n",
       "</details>"
      ],
      "text/latex": [
       "\\begin{enumerate*}\n",
       "\\item Control\n",
       "\\item Long-term Krat Exclosure\n",
       "\\item Short-term Krat Exclosure\n",
       "\\item Rodent Exclosure\n",
       "\\item Spectab exclosure\n",
       "\\end{enumerate*}\n",
       "\n",
       "\\emph{Levels}: \\begin{enumerate*}\n",
       "\\item 'Control'\n",
       "\\item 'Long-term Krat Exclosure'\n",
       "\\item 'Rodent Exclosure'\n",
       "\\item 'Short-term Krat Exclosure'\n",
       "\\item 'Spectab exclosure'\n",
       "\\end{enumerate*}\n"
      ],
      "text/markdown": [
       "1. Control\n",
       "2. Long-term Krat Exclosure\n",
       "3. Short-term Krat Exclosure\n",
       "4. Rodent Exclosure\n",
       "5. Spectab exclosure\n",
       "\n",
       "\n",
       "\n",
       "**Levels**: 1. 'Control'\n",
       "2. 'Long-term Krat Exclosure'\n",
       "3. 'Rodent Exclosure'\n",
       "4. 'Short-term Krat Exclosure'\n",
       "5. 'Spectab exclosure'\n",
       "\n",
       "\n"
      ],
      "text/plain": [
       "[1] Control                   Long-term Krat Exclosure \n",
       "[3] Short-term Krat Exclosure Rodent Exclosure         \n",
       "[5] Spectab exclosure        \n",
       "5 Levels: Control Long-term Krat Exclosure ... Spectab exclosure"
      ]
     },
     "metadata": {},
     "output_type": "display_data"
    }
   ],
   "source": [
    "unique(surveys$plot_type)"
   ]
  },
  {
   "cell_type": "code",
   "execution_count": 25,
   "metadata": {},
   "outputs": [],
   "source": [
    "# Your code here"
   ]
  },
  {
   "cell_type": "markdown",
   "metadata": {},
   "source": [
    "### Pattern 3 - Recoding a character column\n",
    "\n",
    "\n",
    "**Syntax**\n",
    "\n",
    "```{r}\n",
    "recode(column, \n",
    "      `old value 1` = \"new string 1\",\n",
    "      `old value 2` = \"new string 2\",\n",
    "      ...)\n",
    "```"
   ]
  },
  {
   "cell_type": "code",
   "execution_count": 26,
   "metadata": {},
   "outputs": [
    {
     "name": "stderr",
     "output_type": "stream",
     "text": [
      "Warning message:\n",
      "“Problem with `mutate()` input `month_name`.\n",
      "ℹ Unreplaced values treated as NA as .x is not compatible. Please specify replacements exhaustively or supply .default\n",
      "ℹ Input `month_name` is `recode(month, `1` = \"Jan\", `2` = \"Feb\", `3` = \"Mar\")`.”Warning message:\n",
      "“Unreplaced values treated as NA as .x is not compatible. Please specify replacements exhaustively or supply .default”"
     ]
    },
    {
     "data": {
      "text/html": [
       "<table>\n",
       "<thead><tr><th scope=col>record_id</th><th scope=col>month</th><th scope=col>day</th><th scope=col>year</th><th scope=col>plot_id</th><th scope=col>species_id</th><th scope=col>sex</th><th scope=col>hindfoot_length</th><th scope=col>weight</th><th scope=col>genus</th><th scope=col>species</th><th scope=col>taxa</th><th scope=col>plot_type</th><th scope=col>month_name</th></tr></thead>\n",
       "<tbody>\n",
       "\t<tr><td>  1     </td><td> 7      </td><td>16      </td><td>1977    </td><td>2       </td><td>NL      </td><td>M       </td><td>32      </td><td> NA     </td><td>Neotoma </td><td>albigula</td><td>Rodent  </td><td>Control </td><td>NA      </td></tr>\n",
       "\t<tr><td> 72     </td><td> 8      </td><td>19      </td><td>1977    </td><td>2       </td><td>NL      </td><td>M       </td><td>31      </td><td> NA     </td><td>Neotoma </td><td>albigula</td><td>Rodent  </td><td>Control </td><td>NA      </td></tr>\n",
       "\t<tr><td>224     </td><td> 9      </td><td>13      </td><td>1977    </td><td>2       </td><td>NL      </td><td>        </td><td>NA      </td><td> NA     </td><td>Neotoma </td><td>albigula</td><td>Rodent  </td><td>Control </td><td>NA      </td></tr>\n",
       "\t<tr><td>266     </td><td>10      </td><td>16      </td><td>1977    </td><td>2       </td><td>NL      </td><td>        </td><td>NA      </td><td> NA     </td><td>Neotoma </td><td>albigula</td><td>Rodent  </td><td>Control </td><td>NA      </td></tr>\n",
       "\t<tr><td>349     </td><td>11      </td><td>12      </td><td>1977    </td><td>2       </td><td>NL      </td><td>        </td><td>NA      </td><td> NA     </td><td>Neotoma </td><td>albigula</td><td>Rodent  </td><td>Control </td><td>NA      </td></tr>\n",
       "\t<tr><td>363     </td><td>11      </td><td>12      </td><td>1977    </td><td>2       </td><td>NL      </td><td>        </td><td>NA      </td><td> NA     </td><td>Neotoma </td><td>albigula</td><td>Rodent  </td><td>Control </td><td>NA      </td></tr>\n",
       "\t<tr><td>435     </td><td>12      </td><td>10      </td><td>1977    </td><td>2       </td><td>NL      </td><td>        </td><td>NA      </td><td> NA     </td><td>Neotoma </td><td>albigula</td><td>Rodent  </td><td>Control </td><td>NA      </td></tr>\n",
       "\t<tr><td>506     </td><td> 1      </td><td> 8      </td><td>1978    </td><td>2       </td><td>NL      </td><td>        </td><td>NA      </td><td> NA     </td><td>Neotoma </td><td>albigula</td><td>Rodent  </td><td>Control </td><td>Jan     </td></tr>\n",
       "\t<tr><td>588     </td><td> 2      </td><td>18      </td><td>1978    </td><td>2       </td><td>NL      </td><td>M       </td><td>NA      </td><td>218     </td><td>Neotoma </td><td>albigula</td><td>Rodent  </td><td>Control </td><td>Feb     </td></tr>\n",
       "\t<tr><td>661     </td><td> 3      </td><td>11      </td><td>1978    </td><td>2       </td><td>NL      </td><td>        </td><td>NA      </td><td> NA     </td><td>Neotoma </td><td>albigula</td><td>Rodent  </td><td>Control </td><td>Mar     </td></tr>\n",
       "</tbody>\n",
       "</table>\n"
      ],
      "text/latex": [
       "\\begin{tabular}{r|llllllllllllll}\n",
       " record\\_id & month & day & year & plot\\_id & species\\_id & sex & hindfoot\\_length & weight & genus & species & taxa & plot\\_type & month\\_name\\\\\n",
       "\\hline\n",
       "\t   1      &  7       & 16       & 1977     & 2        & NL       & M        & 32       &  NA      & Neotoma  & albigula & Rodent   & Control  & NA      \\\\\n",
       "\t  72      &  8       & 19       & 1977     & 2        & NL       & M        & 31       &  NA      & Neotoma  & albigula & Rodent   & Control  & NA      \\\\\n",
       "\t 224      &  9       & 13       & 1977     & 2        & NL       &          & NA       &  NA      & Neotoma  & albigula & Rodent   & Control  & NA      \\\\\n",
       "\t 266      & 10       & 16       & 1977     & 2        & NL       &          & NA       &  NA      & Neotoma  & albigula & Rodent   & Control  & NA      \\\\\n",
       "\t 349      & 11       & 12       & 1977     & 2        & NL       &          & NA       &  NA      & Neotoma  & albigula & Rodent   & Control  & NA      \\\\\n",
       "\t 363      & 11       & 12       & 1977     & 2        & NL       &          & NA       &  NA      & Neotoma  & albigula & Rodent   & Control  & NA      \\\\\n",
       "\t 435      & 12       & 10       & 1977     & 2        & NL       &          & NA       &  NA      & Neotoma  & albigula & Rodent   & Control  & NA      \\\\\n",
       "\t 506      &  1       &  8       & 1978     & 2        & NL       &          & NA       &  NA      & Neotoma  & albigula & Rodent   & Control  & Jan     \\\\\n",
       "\t 588      &  2       & 18       & 1978     & 2        & NL       & M        & NA       & 218      & Neotoma  & albigula & Rodent   & Control  & Feb     \\\\\n",
       "\t 661      &  3       & 11       & 1978     & 2        & NL       &          & NA       &  NA      & Neotoma  & albigula & Rodent   & Control  & Mar     \\\\\n",
       "\\end{tabular}\n"
      ],
      "text/markdown": [
       "\n",
       "record_id | month | day | year | plot_id | species_id | sex | hindfoot_length | weight | genus | species | taxa | plot_type | month_name | \n",
       "|---|---|---|---|---|---|---|---|---|---|\n",
       "|   1      |  7       | 16       | 1977     | 2        | NL       | M        | 32       |  NA      | Neotoma  | albigula | Rodent   | Control  | NA       | \n",
       "|  72      |  8       | 19       | 1977     | 2        | NL       | M        | 31       |  NA      | Neotoma  | albigula | Rodent   | Control  | NA       | \n",
       "| 224      |  9       | 13       | 1977     | 2        | NL       |          | NA       |  NA      | Neotoma  | albigula | Rodent   | Control  | NA       | \n",
       "| 266      | 10       | 16       | 1977     | 2        | NL       |          | NA       |  NA      | Neotoma  | albigula | Rodent   | Control  | NA       | \n",
       "| 349      | 11       | 12       | 1977     | 2        | NL       |          | NA       |  NA      | Neotoma  | albigula | Rodent   | Control  | NA       | \n",
       "| 363      | 11       | 12       | 1977     | 2        | NL       |          | NA       |  NA      | Neotoma  | albigula | Rodent   | Control  | NA       | \n",
       "| 435      | 12       | 10       | 1977     | 2        | NL       |          | NA       |  NA      | Neotoma  | albigula | Rodent   | Control  | NA       | \n",
       "| 506      |  1       |  8       | 1978     | 2        | NL       |          | NA       |  NA      | Neotoma  | albigula | Rodent   | Control  | Jan      | \n",
       "| 588      |  2       | 18       | 1978     | 2        | NL       | M        | NA       | 218      | Neotoma  | albigula | Rodent   | Control  | Feb      | \n",
       "| 661      |  3       | 11       | 1978     | 2        | NL       |          | NA       |  NA      | Neotoma  | albigula | Rodent   | Control  | Mar      | \n",
       "\n",
       "\n"
      ],
      "text/plain": [
       "   record_id month day year plot_id species_id sex hindfoot_length weight\n",
       "1    1        7    16  1977 2       NL         M   32               NA   \n",
       "2   72        8    19  1977 2       NL         M   31               NA   \n",
       "3  224        9    13  1977 2       NL             NA               NA   \n",
       "4  266       10    16  1977 2       NL             NA               NA   \n",
       "5  349       11    12  1977 2       NL             NA               NA   \n",
       "6  363       11    12  1977 2       NL             NA               NA   \n",
       "7  435       12    10  1977 2       NL             NA               NA   \n",
       "8  506        1     8  1978 2       NL             NA               NA   \n",
       "9  588        2    18  1978 2       NL         M   NA              218   \n",
       "10 661        3    11  1978 2       NL             NA               NA   \n",
       "   genus   species  taxa   plot_type month_name\n",
       "1  Neotoma albigula Rodent Control   NA        \n",
       "2  Neotoma albigula Rodent Control   NA        \n",
       "3  Neotoma albigula Rodent Control   NA        \n",
       "4  Neotoma albigula Rodent Control   NA        \n",
       "5  Neotoma albigula Rodent Control   NA        \n",
       "6  Neotoma albigula Rodent Control   NA        \n",
       "7  Neotoma albigula Rodent Control   NA        \n",
       "8  Neotoma albigula Rodent Control   Jan       \n",
       "9  Neotoma albigula Rodent Control   Feb       \n",
       "10 Neotoma albigula Rodent Control   Mar       "
      ]
     },
     "metadata": {},
     "output_type": "display_data"
    }
   ],
   "source": [
    "(surveys\n",
    "%>% mutate(month_name = recode(month,\n",
    "                               `1` = \"Jan\",\n",
    "                               `2` = \"Feb\",\n",
    "                               `3` = \"Mar\"))\n",
    " %>% head(10)\n",
    ")"
   ]
  },
  {
   "cell_type": "markdown",
   "metadata": {},
   "source": [
    "## <font color=\"red\"> Exercise 6.2.4 - Cleaning up comics </font>\n",
    "\n",
    "**Tasks:** \n",
    "\n",
    "1. Use `unique` to explore the `comic` column and identify problems.\n",
    "2. Use `recode` to clean up the `comic` column"
   ]
  },
  {
   "cell_type": "code",
   "execution_count": 27,
   "metadata": {},
   "outputs": [
    {
     "data": {
      "text/html": [
       "<table>\n",
       "<thead><tr><th scope=col>page_id</th><th scope=col>urlslug</th><th scope=col>ID</th><th scope=col>ALIGN</th><th scope=col>SEX</th><th scope=col>ALIVE</th><th scope=col>APPEARANCES</th><th scope=col>FIRST.APPEARANCE</th><th scope=col>comic</th><th scope=col>PHYSICAL</th></tr></thead>\n",
       "<tbody>\n",
       "\t<tr><td>666101                                </td><td>\\/Jonathan_Dillon_(Earth-616)        </td><td>Public Identity                       </td><td>                                      </td><td>Male Characters                       </td><td>Living Characters                     </td><td> 4                                    </td><td>Apr-97                                </td><td>marvel                                </td><td>Blue Eyes , Brown Hair                </td></tr>\n",
       "\t<tr><td>280850                                </td><td>\\/John_(Mutant)_(Earth-616)          </td><td>Public Identity                       </td><td>                                      </td><td>Male Characters                       </td><td>Deceased Characters                   </td><td>NA                                    </td><td>Oct-01                                </td><td>marvl                                 </td><td>Blue Eyes , Blond Hair                </td></tr>\n",
       "\t<tr><td>129267                                </td><td>\\/wiki\\/Gene_LaBostrie_(New_Earth)  </td><td>Public Identity                       </td><td>Good Characters                       </td><td>Male Characters                       </td><td>Living Characters                     </td><td>15                                    </td><td>1987, September                       </td><td>DC comics                             </td><td> , Black Hair                         </td></tr>\n",
       "\t<tr><td>157368                                </td><td>\\/wiki\\/Reemuz_(New_Earth)          </td><td>Public Identity                       </td><td>Good Characters                       </td><td>Male Characters                       </td><td>Deceased Characters                   </td><td>15                                    </td><td>1992, September                       </td><td>DC                                    </td><td>Black Eyes ,                          </td></tr>\n",
       "\t<tr><td> 16171                                </td><td>\\/Aquon_(Earth-616)                  </td><td>Secret Identity                       </td><td>Bad Characters                        </td><td>Male Characters                       </td><td>Living Characters                     </td><td> 1                                    </td><td>Jul-73                                </td><td>marvl                                 </td><td> ,                                    </td></tr>\n",
       "\t<tr><td>240298                                </td><td>\\/wiki\\/Rachel_Berkowitz_(New_Earth)</td><td>Secret Identity                       </td><td>Bad Characters                        </td><td>Female Characters                     </td><td>Living Characters                     </td><td> 4                                    </td><td>2002, April                           </td><td>DC                                    </td><td> , Black Hair                         </td></tr>\n",
       "</tbody>\n",
       "</table>\n"
      ],
      "text/latex": [
       "\\begin{tabular}{r|llllllllll}\n",
       " page\\_id & urlslug & ID & ALIGN & SEX & ALIVE & APPEARANCES & FIRST.APPEARANCE & comic & PHYSICAL\\\\\n",
       "\\hline\n",
       "\t 666101                                                    & \\textbackslash{}/Jonathan\\_Dillon\\_(Earth-616)         & Public Identity                                           &                                                           & Male Characters                                           & Living Characters                                         &  4                                                        & Apr-97                                                    & marvel                                                    & Blue Eyes , Brown Hair                                   \\\\\n",
       "\t 280850                                                    & \\textbackslash{}/John\\_(Mutant)\\_(Earth-616)           & Public Identity                                           &                                                           & Male Characters                                           & Deceased Characters                                       & NA                                                        & Oct-01                                                    & marvl                                                     & Blue Eyes , Blond Hair                                   \\\\\n",
       "\t 129267                                                                     & \\textbackslash{}/wiki\\textbackslash{}/Gene\\_LaBostrie\\_(New\\_Earth)   & Public Identity                                                            & Good Characters                                                            & Male Characters                                                            & Living Characters                                                          & 15                                                                         & 1987, September                                                            & DC comics                                                                  &  , Black Hair                                                             \\\\\n",
       "\t 157368                                                                   & \\textbackslash{}/wiki\\textbackslash{}/Reemuz\\_(New\\_Earth)           & Public Identity                                                          & Good Characters                                                          & Male Characters                                                          & Deceased Characters                                                      & 15                                                                       & 1992, September                                                          & DC                                                                       & Black Eyes ,                                                            \\\\\n",
       "\t  16171                                                  & \\textbackslash{}/Aquon\\_(Earth-616)                   & Secret Identity                                         & Bad Characters                                          & Male Characters                                         & Living Characters                                       &  1                                                      & Jul-73                                                  & marvl                                                   &  ,                                                     \\\\\n",
       "\t 240298                                                                     & \\textbackslash{}/wiki\\textbackslash{}/Rachel\\_Berkowitz\\_(New\\_Earth) & Secret Identity                                                            & Bad Characters                                                             & Female Characters                                                          & Living Characters                                                          &  4                                                                         & 2002, April                                                                & DC                                                                         &  , Black Hair                                                             \\\\\n",
       "\\end{tabular}\n"
      ],
      "text/markdown": [
       "\n",
       "page_id | urlslug | ID | ALIGN | SEX | ALIVE | APPEARANCES | FIRST.APPEARANCE | comic | PHYSICAL | \n",
       "|---|---|---|---|---|---|\n",
       "| 666101                                 | \\/Jonathan_Dillon_(Earth-616)         | Public Identity                        |                                        | Male Characters                        | Living Characters                      |  4                                     | Apr-97                                 | marvel                                 | Blue Eyes , Brown Hair                 | \n",
       "| 280850                                 | \\/John_(Mutant)_(Earth-616)           | Public Identity                        |                                        | Male Characters                        | Deceased Characters                    | NA                                     | Oct-01                                 | marvl                                  | Blue Eyes , Blond Hair                 | \n",
       "| 129267                                 | \\/wiki\\/Gene_LaBostrie_(New_Earth)   | Public Identity                        | Good Characters                        | Male Characters                        | Living Characters                      | 15                                     | 1987, September                        | DC comics                              |  , Black Hair                          | \n",
       "| 157368                                 | \\/wiki\\/Reemuz_(New_Earth)           | Public Identity                        | Good Characters                        | Male Characters                        | Deceased Characters                    | 15                                     | 1992, September                        | DC                                     | Black Eyes ,                           | \n",
       "|  16171                                 | \\/Aquon_(Earth-616)                   | Secret Identity                        | Bad Characters                         | Male Characters                        | Living Characters                      |  1                                     | Jul-73                                 | marvl                                  |  ,                                     | \n",
       "| 240298                                 | \\/wiki\\/Rachel_Berkowitz_(New_Earth) | Secret Identity                        | Bad Characters                         | Female Characters                      | Living Characters                      |  4                                     | 2002, April                            | DC                                     |  , Black Hair                          | \n",
       "\n",
       "\n"
      ],
      "text/plain": [
       "  page_id urlslug                                ID             \n",
       "1 666101  \\\\/Jonathan_Dillon_(Earth-616)         Public Identity\n",
       "2 280850  \\\\/John_(Mutant)_(Earth-616)           Public Identity\n",
       "3 129267  \\\\/wiki\\\\/Gene_LaBostrie_(New_Earth)   Public Identity\n",
       "4 157368  \\\\/wiki\\\\/Reemuz_(New_Earth)           Public Identity\n",
       "5  16171  \\\\/Aquon_(Earth-616)                   Secret Identity\n",
       "6 240298  \\\\/wiki\\\\/Rachel_Berkowitz_(New_Earth) Secret Identity\n",
       "  ALIGN           SEX               ALIVE               APPEARANCES\n",
       "1                 Male Characters   Living Characters    4         \n",
       "2                 Male Characters   Deceased Characters NA         \n",
       "3 Good Characters Male Characters   Living Characters   15         \n",
       "4 Good Characters Male Characters   Deceased Characters 15         \n",
       "5 Bad Characters  Male Characters   Living Characters    1         \n",
       "6 Bad Characters  Female Characters Living Characters    4         \n",
       "  FIRST.APPEARANCE comic     PHYSICAL              \n",
       "1 Apr-97           marvel    Blue Eyes , Brown Hair\n",
       "2 Oct-01           marvl     Blue Eyes , Blond Hair\n",
       "3 1987, September  DC comics  , Black Hair         \n",
       "4 1992, September  DC        Black Eyes ,          \n",
       "5 Jul-73           marvl      ,                    \n",
       "6 2002, April      DC         , Black Hair         "
      ]
     },
     "metadata": {},
     "output_type": "display_data"
    }
   ],
   "source": [
    "comics <- read.csv('https://github.com/WSU-DataScience/DSCI_210_R_notebooks/raw/main/data/Comic_Data_Messy.csv')\n",
    "comics %>% head"
   ]
  },
  {
   "cell_type": "code",
   "execution_count": 130,
   "metadata": {},
   "outputs": [],
   "source": [
    "# Your code here"
   ]
  }
 ],
 "metadata": {
  "kernelspec": {
   "display_name": "R",
   "language": "R",
   "name": "ir"
  },
  "language_info": {
   "codemirror_mode": "r",
   "file_extension": ".r",
   "mimetype": "text/x-r-source",
   "name": "R",
   "pygments_lexer": "r",
   "version": "3.5.1"
  }
 },
 "nbformat": 4,
 "nbformat_minor": 2
}
