{
 "cells": [
  {
   "cell_type": "markdown",
   "metadata": {},
   "source": [
    "For this activity, we will consider the BobRoss dataset.  Bob Ross was a painter than was often on public television.   The purpose of this analysis will be to determine which features were commonly used in conjunction with each other.\n",
    "\n",
    "\n",
    "![](https://github.com/WSU-DataScience/DSCI_210_R_notebooks/raw/main/img/Bob.png)\n",
    "\n",
    "**Deliverable**: upload all screen shots of all code as well as a link to your notebook (save with Google Drive or GitHub)."
   ]
  },
  {
   "cell_type": "code",
   "execution_count": null,
   "metadata": {},
   "outputs": [],
   "source": [
    "install.packages(\"arules\") # Must run everytime in Colab"
   ]
  },
  {
   "cell_type": "code",
   "execution_count": null,
   "metadata": {},
   "outputs": [],
   "source": [
    "library(arules)"
   ]
  },
  {
   "cell_type": "code",
   "execution_count": 10,
   "metadata": {},
   "outputs": [],
   "source": [
    "library(tidyr)\n",
    "library(dplyr)"
   ]
  },
  {
   "cell_type": "code",
   "execution_count": 11,
   "metadata": {},
   "outputs": [
    {
     "data": {
      "text/html": [
       "<table>\n",
       "<thead><tr><th scope=col>TID</th><th scope=col>EPISODE</th><th scope=col>TITLE</th><th scope=col>BARN</th><th scope=col>BEACH</th><th scope=col>BOAT</th><th scope=col>BRIDGE</th><th scope=col>BUILDING</th><th scope=col>BUSHES</th><th scope=col>CABIN</th><th scope=col>⋯</th><th scope=col>RIVER</th><th scope=col>ROCKS</th><th scope=col>SNOW</th><th scope=col>SNOWY_MOUNTAIN</th><th scope=col>SUN</th><th scope=col>TREES</th><th scope=col>WATERFALL</th><th scope=col>WAVES</th><th scope=col>WINDMILL</th><th scope=col>WINTER</th></tr></thead>\n",
       "<tbody>\n",
       "\t<tr><td>1                  </td><td>S01E01             </td><td>A WALK IN THE WOODS</td><td>0                  </td><td>0                  </td><td>0                  </td><td>0                  </td><td>0                  </td><td>1                  </td><td>0                  </td><td>⋯                  </td><td>1                  </td><td>0                  </td><td>0                  </td><td>0                  </td><td>0                  </td><td>1                  </td><td>0                  </td><td>0                  </td><td>0                  </td><td>0                  </td></tr>\n",
       "\t<tr><td>2                  </td><td>S01E02             </td><td>MT. MCKINLEY       </td><td>0                  </td><td>0                  </td><td>0                  </td><td>0                  </td><td>0                  </td><td>0                  </td><td>1                  </td><td>⋯                  </td><td>0                  </td><td>0                  </td><td>1                  </td><td>1                  </td><td>0                  </td><td>1                  </td><td>0                  </td><td>0                  </td><td>0                  </td><td>1                  </td></tr>\n",
       "\t<tr><td>3                  </td><td>S01E03             </td><td>EBONY SUNSET       </td><td>0                  </td><td>0                  </td><td>0                  </td><td>0                  </td><td>0                  </td><td>0                  </td><td>1                  </td><td>⋯                  </td><td>0                  </td><td>0                  </td><td>0                  </td><td>0                  </td><td>1                  </td><td>1                  </td><td>0                  </td><td>0                  </td><td>0                  </td><td>1                  </td></tr>\n",
       "\t<tr><td>4                  </td><td>S01E04             </td><td>WINTER MIST        </td><td>0                  </td><td>0                  </td><td>0                  </td><td>0                  </td><td>0                  </td><td>1                  </td><td>0                  </td><td>⋯                  </td><td>0                  </td><td>0                  </td><td>0                  </td><td>1                  </td><td>0                  </td><td>1                  </td><td>0                  </td><td>0                  </td><td>0                  </td><td>0                  </td></tr>\n",
       "\t<tr><td>5                  </td><td>S01E05             </td><td>QUIET STREAM       </td><td>0                  </td><td>0                  </td><td>0                  </td><td>0                  </td><td>0                  </td><td>0                  </td><td>0                  </td><td>⋯                  </td><td>1                  </td><td>1                  </td><td>0                  </td><td>0                  </td><td>0                  </td><td>1                  </td><td>0                  </td><td>0                  </td><td>0                  </td><td>0                  </td></tr>\n",
       "\t<tr><td>6                  </td><td>S01E06             </td><td>WINTER MOON        </td><td>0                  </td><td>0                  </td><td>0                  </td><td>0                  </td><td>0                  </td><td>0                  </td><td>1                  </td><td>⋯                  </td><td>0                  </td><td>0                  </td><td>1                  </td><td>1                  </td><td>0                  </td><td>1                  </td><td>0                  </td><td>0                  </td><td>0                  </td><td>1                  </td></tr>\n",
       "</tbody>\n",
       "</table>\n"
      ],
      "text/latex": [
       "\\begin{tabular}{r|llllllllllllllllllllllllllllllllllllllll}\n",
       " TID & EPISODE & TITLE & BARN & BEACH & BOAT & BRIDGE & BUILDING & BUSHES & CABIN & ⋯ & RIVER & ROCKS & SNOW & SNOWY\\_MOUNTAIN & SUN & TREES & WATERFALL & WAVES & WINDMILL & WINTER\\\\\n",
       "\\hline\n",
       "\t 1                   & S01E01              & A WALK IN THE WOODS & 0                   & 0                   & 0                   & 0                   & 0                   & 1                   & 0                   & ⋯                   & 1                   & 0                   & 0                   & 0                   & 0                   & 1                   & 0                   & 0                   & 0                   & 0                  \\\\\n",
       "\t 2                   & S01E02              & MT. MCKINLEY        & 0                   & 0                   & 0                   & 0                   & 0                   & 0                   & 1                   & ⋯                   & 0                   & 0                   & 1                   & 1                   & 0                   & 1                   & 0                   & 0                   & 0                   & 1                  \\\\\n",
       "\t 3                   & S01E03              & EBONY SUNSET        & 0                   & 0                   & 0                   & 0                   & 0                   & 0                   & 1                   & ⋯                   & 0                   & 0                   & 0                   & 0                   & 1                   & 1                   & 0                   & 0                   & 0                   & 1                  \\\\\n",
       "\t 4                   & S01E04              & WINTER MIST         & 0                   & 0                   & 0                   & 0                   & 0                   & 1                   & 0                   & ⋯                   & 0                   & 0                   & 0                   & 1                   & 0                   & 1                   & 0                   & 0                   & 0                   & 0                  \\\\\n",
       "\t 5                   & S01E05              & QUIET STREAM        & 0                   & 0                   & 0                   & 0                   & 0                   & 0                   & 0                   & ⋯                   & 1                   & 1                   & 0                   & 0                   & 0                   & 1                   & 0                   & 0                   & 0                   & 0                  \\\\\n",
       "\t 6                   & S01E06              & WINTER MOON         & 0                   & 0                   & 0                   & 0                   & 0                   & 0                   & 1                   & ⋯                   & 0                   & 0                   & 1                   & 1                   & 0                   & 1                   & 0                   & 0                   & 0                   & 1                  \\\\\n",
       "\\end{tabular}\n"
      ],
      "text/markdown": [
       "\n",
       "TID | EPISODE | TITLE | BARN | BEACH | BOAT | BRIDGE | BUILDING | BUSHES | CABIN | ⋯ | RIVER | ROCKS | SNOW | SNOWY_MOUNTAIN | SUN | TREES | WATERFALL | WAVES | WINDMILL | WINTER | \n",
       "|---|---|---|---|---|---|\n",
       "| 1                   | S01E01              | A WALK IN THE WOODS | 0                   | 0                   | 0                   | 0                   | 0                   | 1                   | 0                   | ⋯                   | 1                   | 0                   | 0                   | 0                   | 0                   | 1                   | 0                   | 0                   | 0                   | 0                   | \n",
       "| 2                   | S01E02              | MT. MCKINLEY        | 0                   | 0                   | 0                   | 0                   | 0                   | 0                   | 1                   | ⋯                   | 0                   | 0                   | 1                   | 1                   | 0                   | 1                   | 0                   | 0                   | 0                   | 1                   | \n",
       "| 3                   | S01E03              | EBONY SUNSET        | 0                   | 0                   | 0                   | 0                   | 0                   | 0                   | 1                   | ⋯                   | 0                   | 0                   | 0                   | 0                   | 1                   | 1                   | 0                   | 0                   | 0                   | 1                   | \n",
       "| 4                   | S01E04              | WINTER MIST         | 0                   | 0                   | 0                   | 0                   | 0                   | 1                   | 0                   | ⋯                   | 0                   | 0                   | 0                   | 1                   | 0                   | 1                   | 0                   | 0                   | 0                   | 0                   | \n",
       "| 5                   | S01E05              | QUIET STREAM        | 0                   | 0                   | 0                   | 0                   | 0                   | 0                   | 0                   | ⋯                   | 1                   | 1                   | 0                   | 0                   | 0                   | 1                   | 0                   | 0                   | 0                   | 0                   | \n",
       "| 6                   | S01E06              | WINTER MOON         | 0                   | 0                   | 0                   | 0                   | 0                   | 0                   | 1                   | ⋯                   | 0                   | 0                   | 1                   | 1                   | 0                   | 1                   | 0                   | 0                   | 0                   | 1                   | \n",
       "\n",
       "\n"
      ],
      "text/plain": [
       "  TID EPISODE TITLE               BARN BEACH BOAT BRIDGE BUILDING BUSHES CABIN\n",
       "1 1   S01E01  A WALK IN THE WOODS 0    0     0    0      0        1      0    \n",
       "2 2   S01E02  MT. MCKINLEY        0    0     0    0      0        0      1    \n",
       "3 3   S01E03  EBONY SUNSET        0    0     0    0      0        0      1    \n",
       "4 4   S01E04  WINTER MIST         0    0     0    0      0        1      0    \n",
       "5 5   S01E05  QUIET STREAM        0    0     0    0      0        0      0    \n",
       "6 6   S01E06  WINTER MOON         0    0     0    0      0        0      1    \n",
       "  ⋯ RIVER ROCKS SNOW SNOWY_MOUNTAIN SUN TREES WATERFALL WAVES WINDMILL WINTER\n",
       "1 ⋯ 1     0     0    0              0   1     0         0     0        0     \n",
       "2 ⋯ 0     0     1    1              0   1     0         0     0        1     \n",
       "3 ⋯ 0     0     0    0              1   1     0         0     0        1     \n",
       "4 ⋯ 0     0     0    1              0   1     0         0     0        0     \n",
       "5 ⋯ 1     1     0    0              0   1     0         0     0        0     \n",
       "6 ⋯ 0     0     1    1              0   1     0         0     0        1     "
      ]
     },
     "metadata": {},
     "output_type": "display_data"
    }
   ],
   "source": [
    "bobross <- read.csv(\"https://github.com/WSU-DataScience/DSCI_210_R_notebooks/raw/main/data/BobRossPaintings.csv\")\n",
    "head(bobross)"
   ]
  },
  {
   "cell_type": "code",
   "execution_count": null,
   "metadata": {},
   "outputs": [],
   "source": [
    "# Preprocess the dataframe\n",
    "bobrossDB <- (bobross\n",
    "              %>% TODO # Drop the first three columns\n",
    "              %>% TODO # Switch all remaining columns to type = factor\n",
    "              )\n",
    "bobrossDB %>% head"
   ]
  },
  {
   "cell_type": "code",
   "execution_count": null,
   "metadata": {},
   "outputs": [],
   "source": [
    "# Now switch all the columns to factors."
   ]
  },
  {
   "cell_type": "markdown",
   "metadata": {},
   "source": [
    "***Task 0***\n",
    "\n",
    "There are three columns that are very similar: `SNOWY_MOUNTAIN`, `MOUNTAIN`, and `MOUNTAINS`.  Make a new column called `ANY_MOUNTAIN` that equals 1 if any of the three appear in a painting, and 0 if none of the three appear.  Also ensure that `ANY_MOUNTAIN` is an integer.  Then remove `SNOWY_MOUNTAIN`, `MOUNTAIN`, and `MOUNTAINS` from the data set."
   ]
  },
  {
   "cell_type": "code",
   "execution_count": null,
   "metadata": {},
   "outputs": [],
   "source": [
    "# Your code here"
   ]
  },
  {
   "cell_type": "markdown",
   "metadata": {},
   "source": [
    "***Task 1*** \n",
    "\n",
    "Use `dplyr`/`tidyr` computations alone to compute the support of LHS, confidence and lift for all rules of the form `{LHS} => {ANY_MOUNTAIN}` (considering only one item on the LHS).  Filter to include only rules with at least 10% joint support (hint: there are six of them), and print the joint support, confidence, and lift of these rules *sorted by lift from largest to smallest.* "
   ]
  },
  {
   "cell_type": "code",
   "execution_count": null,
   "metadata": {},
   "outputs": [],
   "source": [
    "# Your code here"
   ]
  },
  {
   "cell_type": "markdown",
   "metadata": {},
   "source": [
    "***Task 2*** \n",
    "\n",
    "We now want to consider *all* length-two rules (one LHS item, one RHS item) in the following, for which you may use the `arules` package.\n",
    "\n",
    "a. Print the top-10 *best overall rules of length 2*, restricted to rules with at least 1% support and confidence. \n",
    "\n",
    "b. Note that there are two \"best\" rules with the same lift of 11.85294, but with very different confidences.  Interpret these two confidences; does it make sense that they are so different??\n",
    "\n",
    "c. Both of the \"top two\" rules have very small joint supports. What is the best rule among those with at least 20% joint support?  **Interpret the lift of this rule.**"
   ]
  },
  {
   "cell_type": "code",
   "execution_count": null,
   "metadata": {},
   "outputs": [],
   "source": [
    "# Your code here"
   ]
  },
  {
   "cell_type": "markdown",
   "metadata": {},
   "source": [
    "***Task 3***  \n",
    "\n",
    "Now consider all length-3 rules.  What is the best rule with a support of at least 20%?  Interpret the lift of this rule.  "
   ]
  },
  {
   "cell_type": "code",
   "execution_count": null,
   "metadata": {},
   "outputs": [],
   "source": [
    "# Your code here"
   ]
  },
  {
   "cell_type": "markdown",
   "metadata": {},
   "source": [
    "***Task 4*** \n",
    "\n",
    "Verify the support, confidence, and lift from the Task 3 best rule using `dplyr` computations alone.  "
   ]
  },
  {
   "cell_type": "code",
   "execution_count": null,
   "metadata": {},
   "outputs": [],
   "source": [
    "# Your code here"
   ]
  },
  {
   "cell_type": "markdown",
   "metadata": {},
   "source": [
    "***Task 5*** \n",
    "\n",
    "Construct some visualization of the top 10 rules from Task 3."
   ]
  },
  {
   "cell_type": "code",
   "execution_count": null,
   "metadata": {},
   "outputs": [],
   "source": [
    "install.packages('arulesViz') # Must run everytime in Colab"
   ]
  },
  {
   "cell_type": "code",
   "execution_count": null,
   "metadata": {},
   "outputs": [],
   "source": [
    "library(arulesViz)"
   ]
  },
  {
   "cell_type": "code",
   "execution_count": null,
   "metadata": {},
   "outputs": [],
   "source": [
    "# Your code here"
   ]
  }
 ],
 "metadata": {
  "kernelspec": {
   "display_name": "R",
   "language": "R",
   "name": "ir"
  },
  "language_info": {
   "codemirror_mode": "r",
   "file_extension": ".r",
   "mimetype": "text/x-r-source",
   "name": "R",
   "pygments_lexer": "r",
   "version": "3.5.1"
  }
 },
 "nbformat": 4,
 "nbformat_minor": 4
}
