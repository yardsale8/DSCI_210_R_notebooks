{
  "cells": [
    {
      "cell_type": "markdown",
      "metadata": {
        "id": "view-in-github",
        "colab_type": "text"
      },
      "source": [
        "<a href=\"https://colab.research.google.com/github/yardsale8/DSCI_210_R_notebooks/blob/main/lecture_7_2_1_basics_of_select_filter_mutate_and_pipes.ipynb\" target=\"_parent\"><img src=\"https://colab.research.google.com/assets/colab-badge.svg\" alt=\"Open In Colab\"/></a>"
      ]
    },
    {
      "cell_type": "code",
      "execution_count": 3,
      "metadata": {
        "id": "DIapfQ-XFUCy",
        "outputId": "125800cc-ec1b-4002-ccf4-df68a9c5c6d5",
        "colab": {
          "base_uri": "https://localhost:8080/"
        }
      },
      "outputs": [
        {
          "output_type": "stream",
          "name": "stderr",
          "text": [
            "── \u001b[1mAttaching core tidyverse packages\u001b[22m ──────────────────────── tidyverse 2.0.0 ──\n",
            "\u001b[32m✔\u001b[39m \u001b[34mdplyr    \u001b[39m 1.1.4     \u001b[32m✔\u001b[39m \u001b[34mreadr    \u001b[39m 2.1.5\n",
            "\u001b[32m✔\u001b[39m \u001b[34mforcats  \u001b[39m 1.0.0     \u001b[32m✔\u001b[39m \u001b[34mstringr  \u001b[39m 1.5.1\n",
            "\u001b[32m✔\u001b[39m \u001b[34mggplot2  \u001b[39m 3.4.4     \u001b[32m✔\u001b[39m \u001b[34mtibble   \u001b[39m 3.2.1\n",
            "\u001b[32m✔\u001b[39m \u001b[34mlubridate\u001b[39m 1.9.3     \u001b[32m✔\u001b[39m \u001b[34mtidyr    \u001b[39m 1.3.1\n",
            "\u001b[32m✔\u001b[39m \u001b[34mpurrr    \u001b[39m 1.0.2     \n",
            "── \u001b[1mConflicts\u001b[22m ────────────────────────────────────────── tidyverse_conflicts() ──\n",
            "\u001b[31m✖\u001b[39m \u001b[34mdplyr\u001b[39m::\u001b[32mfilter()\u001b[39m masks \u001b[34mstats\u001b[39m::filter()\n",
            "\u001b[31m✖\u001b[39m \u001b[34mdplyr\u001b[39m::\u001b[32mlag()\u001b[39m    masks \u001b[34mstats\u001b[39m::lag()\n",
            "\u001b[36mℹ\u001b[39m Use the conflicted package (\u001b[3m\u001b[34m<http://conflicted.r-lib.org/>\u001b[39m\u001b[23m) to force all conflicts to become errors\n"
          ]
        }
      ],
      "source": [
        "# This loads all of the dplyr functions\n",
        "#must do everytime you start new R session\n",
        "library(\"tidyverse\")"
      ]
    },
    {
      "cell_type": "markdown",
      "metadata": {
        "id": "mEi2tchpFUCw"
      },
      "source": [
        "# The basics of `select`, `filter`, `mutate`, and `pipes`.\n",
        "\n",
        "In this notebook, we will look at the basics of data management in R, including\n",
        "\n",
        "1. Applying `select`, `filter`, and `mutate`, and\n",
        "2. Performing a data management process using a pipe."
      ]
    },
    {
      "cell_type": "markdown",
      "metadata": {
        "id": "oI2o9_LyFUCz"
      },
      "source": [
        "## Example - Loading some survey data."
      ]
    },
    {
      "cell_type": "code",
      "execution_count": 4,
      "metadata": {
        "id": "lvKsJgr8FUCz",
        "outputId": "36cf0c2c-9b1c-476e-9f76-2fbf0ed35e70",
        "colab": {
          "base_uri": "https://localhost:8080/",
          "height": 254
        }
      },
      "outputs": [
        {
          "output_type": "display_data",
          "data": {
            "text/html": [
              "<table class=\"dataframe\">\n",
              "<caption>A data.frame: 6 × 13</caption>\n",
              "<thead>\n",
              "\t<tr><th></th><th scope=col>record_id</th><th scope=col>month</th><th scope=col>day</th><th scope=col>year</th><th scope=col>plot_id</th><th scope=col>species_id</th><th scope=col>sex</th><th scope=col>hindfoot_length</th><th scope=col>weight</th><th scope=col>genus</th><th scope=col>species</th><th scope=col>taxa</th><th scope=col>plot_type</th></tr>\n",
              "\t<tr><th></th><th scope=col>&lt;int&gt;</th><th scope=col>&lt;int&gt;</th><th scope=col>&lt;int&gt;</th><th scope=col>&lt;int&gt;</th><th scope=col>&lt;int&gt;</th><th scope=col>&lt;chr&gt;</th><th scope=col>&lt;chr&gt;</th><th scope=col>&lt;int&gt;</th><th scope=col>&lt;int&gt;</th><th scope=col>&lt;chr&gt;</th><th scope=col>&lt;chr&gt;</th><th scope=col>&lt;chr&gt;</th><th scope=col>&lt;chr&gt;</th></tr>\n",
              "</thead>\n",
              "<tbody>\n",
              "\t<tr><th scope=row>1</th><td>  1</td><td> 7</td><td>16</td><td>1977</td><td>2</td><td>NL</td><td>M</td><td>32</td><td>NA</td><td>Neotoma</td><td>albigula</td><td>Rodent</td><td>Control</td></tr>\n",
              "\t<tr><th scope=row>2</th><td> 72</td><td> 8</td><td>19</td><td>1977</td><td>2</td><td>NL</td><td>M</td><td>31</td><td>NA</td><td>Neotoma</td><td>albigula</td><td>Rodent</td><td>Control</td></tr>\n",
              "\t<tr><th scope=row>3</th><td>224</td><td> 9</td><td>13</td><td>1977</td><td>2</td><td>NL</td><td> </td><td>NA</td><td>NA</td><td>Neotoma</td><td>albigula</td><td>Rodent</td><td>Control</td></tr>\n",
              "\t<tr><th scope=row>4</th><td>266</td><td>10</td><td>16</td><td>1977</td><td>2</td><td>NL</td><td> </td><td>NA</td><td>NA</td><td>Neotoma</td><td>albigula</td><td>Rodent</td><td>Control</td></tr>\n",
              "\t<tr><th scope=row>5</th><td>349</td><td>11</td><td>12</td><td>1977</td><td>2</td><td>NL</td><td> </td><td>NA</td><td>NA</td><td>Neotoma</td><td>albigula</td><td>Rodent</td><td>Control</td></tr>\n",
              "\t<tr><th scope=row>6</th><td>363</td><td>11</td><td>12</td><td>1977</td><td>2</td><td>NL</td><td> </td><td>NA</td><td>NA</td><td>Neotoma</td><td>albigula</td><td>Rodent</td><td>Control</td></tr>\n",
              "</tbody>\n",
              "</table>\n"
            ],
            "text/markdown": "\nA data.frame: 6 × 13\n\n| <!--/--> | record_id &lt;int&gt; | month &lt;int&gt; | day &lt;int&gt; | year &lt;int&gt; | plot_id &lt;int&gt; | species_id &lt;chr&gt; | sex &lt;chr&gt; | hindfoot_length &lt;int&gt; | weight &lt;int&gt; | genus &lt;chr&gt; | species &lt;chr&gt; | taxa &lt;chr&gt; | plot_type &lt;chr&gt; |\n|---|---|---|---|---|---|---|---|---|---|---|---|---|---|\n| 1 |   1 |  7 | 16 | 1977 | 2 | NL | M | 32 | NA | Neotoma | albigula | Rodent | Control |\n| 2 |  72 |  8 | 19 | 1977 | 2 | NL | M | 31 | NA | Neotoma | albigula | Rodent | Control |\n| 3 | 224 |  9 | 13 | 1977 | 2 | NL | <!----> | NA | NA | Neotoma | albigula | Rodent | Control |\n| 4 | 266 | 10 | 16 | 1977 | 2 | NL | <!----> | NA | NA | Neotoma | albigula | Rodent | Control |\n| 5 | 349 | 11 | 12 | 1977 | 2 | NL | <!----> | NA | NA | Neotoma | albigula | Rodent | Control |\n| 6 | 363 | 11 | 12 | 1977 | 2 | NL | <!----> | NA | NA | Neotoma | albigula | Rodent | Control |\n\n",
            "text/latex": "A data.frame: 6 × 13\n\\begin{tabular}{r|lllllllllllll}\n  & record\\_id & month & day & year & plot\\_id & species\\_id & sex & hindfoot\\_length & weight & genus & species & taxa & plot\\_type\\\\\n  & <int> & <int> & <int> & <int> & <int> & <chr> & <chr> & <int> & <int> & <chr> & <chr> & <chr> & <chr>\\\\\n\\hline\n\t1 &   1 &  7 & 16 & 1977 & 2 & NL & M & 32 & NA & Neotoma & albigula & Rodent & Control\\\\\n\t2 &  72 &  8 & 19 & 1977 & 2 & NL & M & 31 & NA & Neotoma & albigula & Rodent & Control\\\\\n\t3 & 224 &  9 & 13 & 1977 & 2 & NL &   & NA & NA & Neotoma & albigula & Rodent & Control\\\\\n\t4 & 266 & 10 & 16 & 1977 & 2 & NL &   & NA & NA & Neotoma & albigula & Rodent & Control\\\\\n\t5 & 349 & 11 & 12 & 1977 & 2 & NL &   & NA & NA & Neotoma & albigula & Rodent & Control\\\\\n\t6 & 363 & 11 & 12 & 1977 & 2 & NL &   & NA & NA & Neotoma & albigula & Rodent & Control\\\\\n\\end{tabular}\n",
            "text/plain": [
              "  record_id month day year plot_id species_id sex hindfoot_length weight\n",
              "1   1        7    16  1977 2       NL         M   32              NA    \n",
              "2  72        8    19  1977 2       NL         M   31              NA    \n",
              "3 224        9    13  1977 2       NL             NA              NA    \n",
              "4 266       10    16  1977 2       NL             NA              NA    \n",
              "5 349       11    12  1977 2       NL             NA              NA    \n",
              "6 363       11    12  1977 2       NL             NA              NA    \n",
              "  genus   species  taxa   plot_type\n",
              "1 Neotoma albigula Rodent Control  \n",
              "2 Neotoma albigula Rodent Control  \n",
              "3 Neotoma albigula Rodent Control  \n",
              "4 Neotoma albigula Rodent Control  \n",
              "5 Neotoma albigula Rodent Control  \n",
              "6 Neotoma albigula Rodent Control  "
            ]
          },
          "metadata": {}
        }
      ],
      "source": [
        "surveys <- read.csv('https://github.com/WSU-DataScience/DSCI_210_R_notebooks/raw/main/data/portal_data_joined.csv')\n",
        "head(surveys)"
      ]
    },
    {
      "cell_type": "markdown",
      "metadata": {
        "id": "qYhiQh7GFUC0"
      },
      "source": [
        "## Topic 1 - `select`, `filter`, and `mutate`\n"
      ]
    },
    {
      "cell_type": "markdown",
      "source": [
        "### Selecting columns with `select`"
      ],
      "metadata": {
        "id": "v6OcoaQa27kE"
      }
    },
    {
      "cell_type": "code",
      "execution_count": 5,
      "metadata": {
        "id": "gB1HiEh2FUC0",
        "colab": {
          "base_uri": "https://localhost:8080/",
          "height": 1000
        },
        "outputId": "aeaf0c93-0cc7-4094-bcc7-11da29fe31e3"
      },
      "outputs": [
        {
          "output_type": "display_data",
          "data": {
            "text/html": [
              "<table class=\"dataframe\">\n",
              "<caption>A data.frame: 34786 × 4</caption>\n",
              "<thead>\n",
              "\t<tr><th scope=col>plot_id</th><th scope=col>species_id</th><th scope=col>weight</th><th scope=col>year</th></tr>\n",
              "\t<tr><th scope=col>&lt;int&gt;</th><th scope=col>&lt;chr&gt;</th><th scope=col>&lt;int&gt;</th><th scope=col>&lt;int&gt;</th></tr>\n",
              "</thead>\n",
              "<tbody>\n",
              "\t<tr><td>2</td><td>NL</td><td> NA</td><td>1977</td></tr>\n",
              "\t<tr><td>2</td><td>NL</td><td> NA</td><td>1977</td></tr>\n",
              "\t<tr><td>2</td><td>NL</td><td> NA</td><td>1977</td></tr>\n",
              "\t<tr><td>2</td><td>NL</td><td> NA</td><td>1977</td></tr>\n",
              "\t<tr><td>2</td><td>NL</td><td> NA</td><td>1977</td></tr>\n",
              "\t<tr><td>2</td><td>NL</td><td> NA</td><td>1977</td></tr>\n",
              "\t<tr><td>2</td><td>NL</td><td> NA</td><td>1977</td></tr>\n",
              "\t<tr><td>2</td><td>NL</td><td> NA</td><td>1978</td></tr>\n",
              "\t<tr><td>2</td><td>NL</td><td>218</td><td>1978</td></tr>\n",
              "\t<tr><td>2</td><td>NL</td><td> NA</td><td>1978</td></tr>\n",
              "\t<tr><td>2</td><td>NL</td><td> NA</td><td>1978</td></tr>\n",
              "\t<tr><td>2</td><td>NL</td><td>204</td><td>1978</td></tr>\n",
              "\t<tr><td>2</td><td>NL</td><td>200</td><td>1978</td></tr>\n",
              "\t<tr><td>2</td><td>NL</td><td>199</td><td>1978</td></tr>\n",
              "\t<tr><td>2</td><td>NL</td><td>197</td><td>1978</td></tr>\n",
              "\t<tr><td>2</td><td>NL</td><td> NA</td><td>1978</td></tr>\n",
              "\t<tr><td>2</td><td>NL</td><td>218</td><td>1978</td></tr>\n",
              "\t<tr><td>2</td><td>NL</td><td>166</td><td>1979</td></tr>\n",
              "\t<tr><td>2</td><td>NL</td><td>184</td><td>1979</td></tr>\n",
              "\t<tr><td>2</td><td>NL</td><td>206</td><td>1979</td></tr>\n",
              "\t<tr><td>2</td><td>NL</td><td>274</td><td>1979</td></tr>\n",
              "\t<tr><td>2</td><td>NL</td><td>186</td><td>1979</td></tr>\n",
              "\t<tr><td>2</td><td>NL</td><td>184</td><td>1980</td></tr>\n",
              "\t<tr><td>2</td><td>NL</td><td> NA</td><td>1980</td></tr>\n",
              "\t<tr><td>2</td><td>NL</td><td> 87</td><td>1980</td></tr>\n",
              "\t<tr><td>2</td><td>NL</td><td>174</td><td>1980</td></tr>\n",
              "\t<tr><td>2</td><td>NL</td><td>130</td><td>1981</td></tr>\n",
              "\t<tr><td>2</td><td>NL</td><td>208</td><td>1981</td></tr>\n",
              "\t<tr><td>2</td><td>NL</td><td>192</td><td>1981</td></tr>\n",
              "\t<tr><td>2</td><td>NL</td><td>206</td><td>1982</td></tr>\n",
              "\t<tr><td>⋮</td><td>⋮</td><td>⋮</td><td>⋮</td></tr>\n",
              "\t<tr><td>7</td><td>CU</td><td>NA</td><td>1993</td></tr>\n",
              "\t<tr><td>7</td><td>PB</td><td>31</td><td>1997</td></tr>\n",
              "\t<tr><td>7</td><td>PB</td><td>24</td><td>1997</td></tr>\n",
              "\t<tr><td>7</td><td>PB</td><td>30</td><td>1997</td></tr>\n",
              "\t<tr><td>7</td><td>PB</td><td>32</td><td>1997</td></tr>\n",
              "\t<tr><td>7</td><td>PB</td><td>36</td><td>1997</td></tr>\n",
              "\t<tr><td>7</td><td>PB</td><td>37</td><td>1997</td></tr>\n",
              "\t<tr><td>7</td><td>PB</td><td>37</td><td>1997</td></tr>\n",
              "\t<tr><td>7</td><td>PB</td><td>40</td><td>1997</td></tr>\n",
              "\t<tr><td>7</td><td>PB</td><td>27</td><td>1998</td></tr>\n",
              "\t<tr><td>7</td><td>PB</td><td>23</td><td>1998</td></tr>\n",
              "\t<tr><td>7</td><td>PB</td><td>30</td><td>1998</td></tr>\n",
              "\t<tr><td>7</td><td>PB</td><td>23</td><td>1998</td></tr>\n",
              "\t<tr><td>7</td><td>PB</td><td>25</td><td>1998</td></tr>\n",
              "\t<tr><td>7</td><td>PB</td><td>25</td><td>1998</td></tr>\n",
              "\t<tr><td>7</td><td>PB</td><td>28</td><td>1999</td></tr>\n",
              "\t<tr><td>7</td><td>PB</td><td>20</td><td>2000</td></tr>\n",
              "\t<tr><td>7</td><td>PB</td><td>37</td><td>2001</td></tr>\n",
              "\t<tr><td>7</td><td>PB</td><td>32</td><td>2001</td></tr>\n",
              "\t<tr><td>7</td><td>PB</td><td>41</td><td>2001</td></tr>\n",
              "\t<tr><td>7</td><td>PB</td><td>44</td><td>2001</td></tr>\n",
              "\t<tr><td>7</td><td>PB</td><td>16</td><td>2002</td></tr>\n",
              "\t<tr><td>7</td><td>PB</td><td>30</td><td>2002</td></tr>\n",
              "\t<tr><td>7</td><td>PL</td><td>22</td><td>1997</td></tr>\n",
              "\t<tr><td>7</td><td>PL</td><td>16</td><td>1997</td></tr>\n",
              "\t<tr><td>7</td><td>PL</td><td>16</td><td>1997</td></tr>\n",
              "\t<tr><td>7</td><td>PL</td><td>22</td><td>1997</td></tr>\n",
              "\t<tr><td>7</td><td>PL</td><td> 8</td><td>1998</td></tr>\n",
              "\t<tr><td>7</td><td>PX</td><td>NA</td><td>1998</td></tr>\n",
              "\t<tr><td>7</td><td>PX</td><td>NA</td><td>2000</td></tr>\n",
              "</tbody>\n",
              "</table>\n"
            ],
            "text/markdown": "\nA data.frame: 34786 × 4\n\n| plot_id &lt;int&gt; | species_id &lt;chr&gt; | weight &lt;int&gt; | year &lt;int&gt; |\n|---|---|---|---|\n| 2 | NL |  NA | 1977 |\n| 2 | NL |  NA | 1977 |\n| 2 | NL |  NA | 1977 |\n| 2 | NL |  NA | 1977 |\n| 2 | NL |  NA | 1977 |\n| 2 | NL |  NA | 1977 |\n| 2 | NL |  NA | 1977 |\n| 2 | NL |  NA | 1978 |\n| 2 | NL | 218 | 1978 |\n| 2 | NL |  NA | 1978 |\n| 2 | NL |  NA | 1978 |\n| 2 | NL | 204 | 1978 |\n| 2 | NL | 200 | 1978 |\n| 2 | NL | 199 | 1978 |\n| 2 | NL | 197 | 1978 |\n| 2 | NL |  NA | 1978 |\n| 2 | NL | 218 | 1978 |\n| 2 | NL | 166 | 1979 |\n| 2 | NL | 184 | 1979 |\n| 2 | NL | 206 | 1979 |\n| 2 | NL | 274 | 1979 |\n| 2 | NL | 186 | 1979 |\n| 2 | NL | 184 | 1980 |\n| 2 | NL |  NA | 1980 |\n| 2 | NL |  87 | 1980 |\n| 2 | NL | 174 | 1980 |\n| 2 | NL | 130 | 1981 |\n| 2 | NL | 208 | 1981 |\n| 2 | NL | 192 | 1981 |\n| 2 | NL | 206 | 1982 |\n| ⋮ | ⋮ | ⋮ | ⋮ |\n| 7 | CU | NA | 1993 |\n| 7 | PB | 31 | 1997 |\n| 7 | PB | 24 | 1997 |\n| 7 | PB | 30 | 1997 |\n| 7 | PB | 32 | 1997 |\n| 7 | PB | 36 | 1997 |\n| 7 | PB | 37 | 1997 |\n| 7 | PB | 37 | 1997 |\n| 7 | PB | 40 | 1997 |\n| 7 | PB | 27 | 1998 |\n| 7 | PB | 23 | 1998 |\n| 7 | PB | 30 | 1998 |\n| 7 | PB | 23 | 1998 |\n| 7 | PB | 25 | 1998 |\n| 7 | PB | 25 | 1998 |\n| 7 | PB | 28 | 1999 |\n| 7 | PB | 20 | 2000 |\n| 7 | PB | 37 | 2001 |\n| 7 | PB | 32 | 2001 |\n| 7 | PB | 41 | 2001 |\n| 7 | PB | 44 | 2001 |\n| 7 | PB | 16 | 2002 |\n| 7 | PB | 30 | 2002 |\n| 7 | PL | 22 | 1997 |\n| 7 | PL | 16 | 1997 |\n| 7 | PL | 16 | 1997 |\n| 7 | PL | 22 | 1997 |\n| 7 | PL |  8 | 1998 |\n| 7 | PX | NA | 1998 |\n| 7 | PX | NA | 2000 |\n\n",
            "text/latex": "A data.frame: 34786 × 4\n\\begin{tabular}{llll}\n plot\\_id & species\\_id & weight & year\\\\\n <int> & <chr> & <int> & <int>\\\\\n\\hline\n\t 2 & NL &  NA & 1977\\\\\n\t 2 & NL &  NA & 1977\\\\\n\t 2 & NL &  NA & 1977\\\\\n\t 2 & NL &  NA & 1977\\\\\n\t 2 & NL &  NA & 1977\\\\\n\t 2 & NL &  NA & 1977\\\\\n\t 2 & NL &  NA & 1977\\\\\n\t 2 & NL &  NA & 1978\\\\\n\t 2 & NL & 218 & 1978\\\\\n\t 2 & NL &  NA & 1978\\\\\n\t 2 & NL &  NA & 1978\\\\\n\t 2 & NL & 204 & 1978\\\\\n\t 2 & NL & 200 & 1978\\\\\n\t 2 & NL & 199 & 1978\\\\\n\t 2 & NL & 197 & 1978\\\\\n\t 2 & NL &  NA & 1978\\\\\n\t 2 & NL & 218 & 1978\\\\\n\t 2 & NL & 166 & 1979\\\\\n\t 2 & NL & 184 & 1979\\\\\n\t 2 & NL & 206 & 1979\\\\\n\t 2 & NL & 274 & 1979\\\\\n\t 2 & NL & 186 & 1979\\\\\n\t 2 & NL & 184 & 1980\\\\\n\t 2 & NL &  NA & 1980\\\\\n\t 2 & NL &  87 & 1980\\\\\n\t 2 & NL & 174 & 1980\\\\\n\t 2 & NL & 130 & 1981\\\\\n\t 2 & NL & 208 & 1981\\\\\n\t 2 & NL & 192 & 1981\\\\\n\t 2 & NL & 206 & 1982\\\\\n\t ⋮ & ⋮ & ⋮ & ⋮\\\\\n\t 7 & CU & NA & 1993\\\\\n\t 7 & PB & 31 & 1997\\\\\n\t 7 & PB & 24 & 1997\\\\\n\t 7 & PB & 30 & 1997\\\\\n\t 7 & PB & 32 & 1997\\\\\n\t 7 & PB & 36 & 1997\\\\\n\t 7 & PB & 37 & 1997\\\\\n\t 7 & PB & 37 & 1997\\\\\n\t 7 & PB & 40 & 1997\\\\\n\t 7 & PB & 27 & 1998\\\\\n\t 7 & PB & 23 & 1998\\\\\n\t 7 & PB & 30 & 1998\\\\\n\t 7 & PB & 23 & 1998\\\\\n\t 7 & PB & 25 & 1998\\\\\n\t 7 & PB & 25 & 1998\\\\\n\t 7 & PB & 28 & 1999\\\\\n\t 7 & PB & 20 & 2000\\\\\n\t 7 & PB & 37 & 2001\\\\\n\t 7 & PB & 32 & 2001\\\\\n\t 7 & PB & 41 & 2001\\\\\n\t 7 & PB & 44 & 2001\\\\\n\t 7 & PB & 16 & 2002\\\\\n\t 7 & PB & 30 & 2002\\\\\n\t 7 & PL & 22 & 1997\\\\\n\t 7 & PL & 16 & 1997\\\\\n\t 7 & PL & 16 & 1997\\\\\n\t 7 & PL & 22 & 1997\\\\\n\t 7 & PL &  8 & 1998\\\\\n\t 7 & PX & NA & 1998\\\\\n\t 7 & PX & NA & 2000\\\\\n\\end{tabular}\n",
            "text/plain": [
              "      plot_id species_id weight year\n",
              "1     2       NL          NA    1977\n",
              "2     2       NL          NA    1977\n",
              "3     2       NL          NA    1977\n",
              "4     2       NL          NA    1977\n",
              "5     2       NL          NA    1977\n",
              "6     2       NL          NA    1977\n",
              "7     2       NL          NA    1977\n",
              "8     2       NL          NA    1978\n",
              "9     2       NL         218    1978\n",
              "10    2       NL          NA    1978\n",
              "11    2       NL          NA    1978\n",
              "12    2       NL         204    1978\n",
              "13    2       NL         200    1978\n",
              "14    2       NL         199    1978\n",
              "15    2       NL         197    1978\n",
              "16    2       NL          NA    1978\n",
              "17    2       NL         218    1978\n",
              "18    2       NL         166    1979\n",
              "19    2       NL         184    1979\n",
              "20    2       NL         206    1979\n",
              "21    2       NL         274    1979\n",
              "22    2       NL         186    1979\n",
              "23    2       NL         184    1980\n",
              "24    2       NL          NA    1980\n",
              "25    2       NL          87    1980\n",
              "26    2       NL         174    1980\n",
              "27    2       NL         130    1981\n",
              "28    2       NL         208    1981\n",
              "29    2       NL         192    1981\n",
              "30    2       NL         206    1982\n",
              "⋮     ⋮       ⋮          ⋮      ⋮   \n",
              "34757 7       CU         NA     1993\n",
              "34758 7       PB         31     1997\n",
              "34759 7       PB         24     1997\n",
              "34760 7       PB         30     1997\n",
              "34761 7       PB         32     1997\n",
              "34762 7       PB         36     1997\n",
              "34763 7       PB         37     1997\n",
              "34764 7       PB         37     1997\n",
              "34765 7       PB         40     1997\n",
              "34766 7       PB         27     1998\n",
              "34767 7       PB         23     1998\n",
              "34768 7       PB         30     1998\n",
              "34769 7       PB         23     1998\n",
              "34770 7       PB         25     1998\n",
              "34771 7       PB         25     1998\n",
              "34772 7       PB         28     1999\n",
              "34773 7       PB         20     2000\n",
              "34774 7       PB         37     2001\n",
              "34775 7       PB         32     2001\n",
              "34776 7       PB         41     2001\n",
              "34777 7       PB         44     2001\n",
              "34778 7       PB         16     2002\n",
              "34779 7       PB         30     2002\n",
              "34780 7       PL         22     1997\n",
              "34781 7       PL         16     1997\n",
              "34782 7       PL         16     1997\n",
              "34783 7       PL         22     1997\n",
              "34784 7       PL          8     1998\n",
              "34785 7       PX         NA     1998\n",
              "34786 7       PX         NA     2000"
            ]
          },
          "metadata": {}
        }
      ],
      "source": [
        "# Syntax: df %>% select(col1, col2, ...)\n",
        "(surveys\n",
        " %>% select(plot_id, species_id, weight, year)\n",
        ")"
      ]
    },
    {
      "cell_type": "markdown",
      "source": [
        "**Note.** Looking at all that data is annoying $\\rightarrow$ add a temporary `head` at the end of the pipe."
      ],
      "metadata": {
        "id": "qTRTa_4sPR41"
      }
    },
    {
      "cell_type": "code",
      "source": [
        "(surveys\n",
        " %>% select(plot_id, species_id, weight, year)\n",
        " %>% head. # Temp.  Remember to delete before saving\n",
        ")"
      ],
      "metadata": {
        "colab": {
          "base_uri": "https://localhost:8080/",
          "height": 254
        },
        "id": "8RPKU4rDPdIw",
        "outputId": "4cbf5359-235e-4c63-e11d-d11c9dc2a442"
      },
      "execution_count": 10,
      "outputs": [
        {
          "output_type": "display_data",
          "data": {
            "text/html": [
              "<table class=\"dataframe\">\n",
              "<caption>A data.frame: 6 × 4</caption>\n",
              "<thead>\n",
              "\t<tr><th></th><th scope=col>plot_id</th><th scope=col>species_id</th><th scope=col>weight</th><th scope=col>year</th></tr>\n",
              "\t<tr><th></th><th scope=col>&lt;int&gt;</th><th scope=col>&lt;chr&gt;</th><th scope=col>&lt;int&gt;</th><th scope=col>&lt;int&gt;</th></tr>\n",
              "</thead>\n",
              "<tbody>\n",
              "\t<tr><th scope=row>1</th><td>2</td><td>NL</td><td>NA</td><td>1977</td></tr>\n",
              "\t<tr><th scope=row>2</th><td>2</td><td>NL</td><td>NA</td><td>1977</td></tr>\n",
              "\t<tr><th scope=row>3</th><td>2</td><td>NL</td><td>NA</td><td>1977</td></tr>\n",
              "\t<tr><th scope=row>4</th><td>2</td><td>NL</td><td>NA</td><td>1977</td></tr>\n",
              "\t<tr><th scope=row>5</th><td>2</td><td>NL</td><td>NA</td><td>1977</td></tr>\n",
              "\t<tr><th scope=row>6</th><td>2</td><td>NL</td><td>NA</td><td>1977</td></tr>\n",
              "</tbody>\n",
              "</table>\n"
            ],
            "text/markdown": "\nA data.frame: 6 × 4\n\n| <!--/--> | plot_id &lt;int&gt; | species_id &lt;chr&gt; | weight &lt;int&gt; | year &lt;int&gt; |\n|---|---|---|---|---|\n| 1 | 2 | NL | NA | 1977 |\n| 2 | 2 | NL | NA | 1977 |\n| 3 | 2 | NL | NA | 1977 |\n| 4 | 2 | NL | NA | 1977 |\n| 5 | 2 | NL | NA | 1977 |\n| 6 | 2 | NL | NA | 1977 |\n\n",
            "text/latex": "A data.frame: 6 × 4\n\\begin{tabular}{r|llll}\n  & plot\\_id & species\\_id & weight & year\\\\\n  & <int> & <chr> & <int> & <int>\\\\\n\\hline\n\t1 & 2 & NL & NA & 1977\\\\\n\t2 & 2 & NL & NA & 1977\\\\\n\t3 & 2 & NL & NA & 1977\\\\\n\t4 & 2 & NL & NA & 1977\\\\\n\t5 & 2 & NL & NA & 1977\\\\\n\t6 & 2 & NL & NA & 1977\\\\\n\\end{tabular}\n",
            "text/plain": [
              "  plot_id species_id weight year\n",
              "1 2       NL         NA     1977\n",
              "2 2       NL         NA     1977\n",
              "3 2       NL         NA     1977\n",
              "4 2       NL         NA     1977\n",
              "5 2       NL         NA     1977\n",
              "6 2       NL         NA     1977"
            ]
          },
          "metadata": {}
        }
      ]
    },
    {
      "cell_type": "markdown",
      "source": [
        "**Dropping columns with `-`**"
      ],
      "metadata": {
        "id": "rtWtBjJNONEk"
      }
    },
    {
      "cell_type": "code",
      "source": [
        "# Syntax: df %>% select(-col1, -col2, ...)\n",
        "(surveys\n",
        " %>% select(-record_id, -plot_type)\n",
        " %>% head # Temp.  Remember to delete before saving\n",
        ")\n"
      ],
      "metadata": {
        "colab": {
          "base_uri": "https://localhost:8080/",
          "height": 254
        },
        "id": "pKBe52c1OMiC",
        "outputId": "7ef08c1b-1562-4f6d-cd23-893d587ce5a3"
      },
      "execution_count": 12,
      "outputs": [
        {
          "output_type": "display_data",
          "data": {
            "text/html": [
              "<table class=\"dataframe\">\n",
              "<caption>A data.frame: 6 × 11</caption>\n",
              "<thead>\n",
              "\t<tr><th></th><th scope=col>month</th><th scope=col>day</th><th scope=col>year</th><th scope=col>plot_id</th><th scope=col>species_id</th><th scope=col>sex</th><th scope=col>hindfoot_length</th><th scope=col>weight</th><th scope=col>genus</th><th scope=col>species</th><th scope=col>taxa</th></tr>\n",
              "\t<tr><th></th><th scope=col>&lt;int&gt;</th><th scope=col>&lt;int&gt;</th><th scope=col>&lt;int&gt;</th><th scope=col>&lt;int&gt;</th><th scope=col>&lt;chr&gt;</th><th scope=col>&lt;chr&gt;</th><th scope=col>&lt;int&gt;</th><th scope=col>&lt;int&gt;</th><th scope=col>&lt;chr&gt;</th><th scope=col>&lt;chr&gt;</th><th scope=col>&lt;chr&gt;</th></tr>\n",
              "</thead>\n",
              "<tbody>\n",
              "\t<tr><th scope=row>1</th><td> 7</td><td>16</td><td>1977</td><td>2</td><td>NL</td><td>M</td><td>32</td><td>NA</td><td>Neotoma</td><td>albigula</td><td>Rodent</td></tr>\n",
              "\t<tr><th scope=row>2</th><td> 8</td><td>19</td><td>1977</td><td>2</td><td>NL</td><td>M</td><td>31</td><td>NA</td><td>Neotoma</td><td>albigula</td><td>Rodent</td></tr>\n",
              "\t<tr><th scope=row>3</th><td> 9</td><td>13</td><td>1977</td><td>2</td><td>NL</td><td> </td><td>NA</td><td>NA</td><td>Neotoma</td><td>albigula</td><td>Rodent</td></tr>\n",
              "\t<tr><th scope=row>4</th><td>10</td><td>16</td><td>1977</td><td>2</td><td>NL</td><td> </td><td>NA</td><td>NA</td><td>Neotoma</td><td>albigula</td><td>Rodent</td></tr>\n",
              "\t<tr><th scope=row>5</th><td>11</td><td>12</td><td>1977</td><td>2</td><td>NL</td><td> </td><td>NA</td><td>NA</td><td>Neotoma</td><td>albigula</td><td>Rodent</td></tr>\n",
              "\t<tr><th scope=row>6</th><td>11</td><td>12</td><td>1977</td><td>2</td><td>NL</td><td> </td><td>NA</td><td>NA</td><td>Neotoma</td><td>albigula</td><td>Rodent</td></tr>\n",
              "</tbody>\n",
              "</table>\n"
            ],
            "text/markdown": "\nA data.frame: 6 × 11\n\n| <!--/--> | month &lt;int&gt; | day &lt;int&gt; | year &lt;int&gt; | plot_id &lt;int&gt; | species_id &lt;chr&gt; | sex &lt;chr&gt; | hindfoot_length &lt;int&gt; | weight &lt;int&gt; | genus &lt;chr&gt; | species &lt;chr&gt; | taxa &lt;chr&gt; |\n|---|---|---|---|---|---|---|---|---|---|---|---|\n| 1 |  7 | 16 | 1977 | 2 | NL | M | 32 | NA | Neotoma | albigula | Rodent |\n| 2 |  8 | 19 | 1977 | 2 | NL | M | 31 | NA | Neotoma | albigula | Rodent |\n| 3 |  9 | 13 | 1977 | 2 | NL | <!----> | NA | NA | Neotoma | albigula | Rodent |\n| 4 | 10 | 16 | 1977 | 2 | NL | <!----> | NA | NA | Neotoma | albigula | Rodent |\n| 5 | 11 | 12 | 1977 | 2 | NL | <!----> | NA | NA | Neotoma | albigula | Rodent |\n| 6 | 11 | 12 | 1977 | 2 | NL | <!----> | NA | NA | Neotoma | albigula | Rodent |\n\n",
            "text/latex": "A data.frame: 6 × 11\n\\begin{tabular}{r|lllllllllll}\n  & month & day & year & plot\\_id & species\\_id & sex & hindfoot\\_length & weight & genus & species & taxa\\\\\n  & <int> & <int> & <int> & <int> & <chr> & <chr> & <int> & <int> & <chr> & <chr> & <chr>\\\\\n\\hline\n\t1 &  7 & 16 & 1977 & 2 & NL & M & 32 & NA & Neotoma & albigula & Rodent\\\\\n\t2 &  8 & 19 & 1977 & 2 & NL & M & 31 & NA & Neotoma & albigula & Rodent\\\\\n\t3 &  9 & 13 & 1977 & 2 & NL &   & NA & NA & Neotoma & albigula & Rodent\\\\\n\t4 & 10 & 16 & 1977 & 2 & NL &   & NA & NA & Neotoma & albigula & Rodent\\\\\n\t5 & 11 & 12 & 1977 & 2 & NL &   & NA & NA & Neotoma & albigula & Rodent\\\\\n\t6 & 11 & 12 & 1977 & 2 & NL &   & NA & NA & Neotoma & albigula & Rodent\\\\\n\\end{tabular}\n",
            "text/plain": [
              "  month day year plot_id species_id sex hindfoot_length weight genus   species \n",
              "1  7    16  1977 2       NL         M   32              NA     Neotoma albigula\n",
              "2  8    19  1977 2       NL         M   31              NA     Neotoma albigula\n",
              "3  9    13  1977 2       NL             NA              NA     Neotoma albigula\n",
              "4 10    16  1977 2       NL             NA              NA     Neotoma albigula\n",
              "5 11    12  1977 2       NL             NA              NA     Neotoma albigula\n",
              "6 11    12  1977 2       NL             NA              NA     Neotoma albigula\n",
              "  taxa  \n",
              "1 Rodent\n",
              "2 Rodent\n",
              "3 Rodent\n",
              "4 Rodent\n",
              "5 Rodent\n",
              "6 Rodent"
            ]
          },
          "metadata": {}
        }
      ]
    },
    {
      "cell_type": "markdown",
      "metadata": {
        "id": "Ov6TxYnhFUC0"
      },
      "source": [
        "### Filtering rows with `filter`\n"
      ]
    },
    {
      "cell_type": "code",
      "execution_count": 14,
      "metadata": {
        "id": "ljPRBTM7FUC0",
        "outputId": "76e09e0a-5a74-4c5a-e255-26d358321a3b",
        "colab": {
          "base_uri": "https://localhost:8080/",
          "height": 254
        }
      },
      "outputs": [
        {
          "output_type": "display_data",
          "data": {
            "text/html": [
              "<table class=\"dataframe\">\n",
              "<caption>A data.frame: 6 × 13</caption>\n",
              "<thead>\n",
              "\t<tr><th></th><th scope=col>record_id</th><th scope=col>month</th><th scope=col>day</th><th scope=col>year</th><th scope=col>plot_id</th><th scope=col>species_id</th><th scope=col>sex</th><th scope=col>hindfoot_length</th><th scope=col>weight</th><th scope=col>genus</th><th scope=col>species</th><th scope=col>taxa</th><th scope=col>plot_type</th></tr>\n",
              "\t<tr><th></th><th scope=col>&lt;int&gt;</th><th scope=col>&lt;int&gt;</th><th scope=col>&lt;int&gt;</th><th scope=col>&lt;int&gt;</th><th scope=col>&lt;int&gt;</th><th scope=col>&lt;chr&gt;</th><th scope=col>&lt;chr&gt;</th><th scope=col>&lt;int&gt;</th><th scope=col>&lt;int&gt;</th><th scope=col>&lt;chr&gt;</th><th scope=col>&lt;chr&gt;</th><th scope=col>&lt;chr&gt;</th><th scope=col>&lt;chr&gt;</th></tr>\n",
              "</thead>\n",
              "<tbody>\n",
              "\t<tr><th scope=row>1</th><td>22314</td><td> 6</td><td> 7</td><td>1995</td><td>2</td><td>NL</td><td>M</td><td>34</td><td> NA</td><td>Neotoma  </td><td>albigula</td><td>Rodent</td><td>Control</td></tr>\n",
              "\t<tr><th scope=row>2</th><td>22728</td><td> 9</td><td>23</td><td>1995</td><td>2</td><td>NL</td><td>F</td><td>32</td><td>165</td><td>Neotoma  </td><td>albigula</td><td>Rodent</td><td>Control</td></tr>\n",
              "\t<tr><th scope=row>3</th><td>22899</td><td>10</td><td>28</td><td>1995</td><td>2</td><td>NL</td><td>F</td><td>32</td><td>171</td><td>Neotoma  </td><td>albigula</td><td>Rodent</td><td>Control</td></tr>\n",
              "\t<tr><th scope=row>4</th><td>23032</td><td>12</td><td> 2</td><td>1995</td><td>2</td><td>NL</td><td>F</td><td>33</td><td> NA</td><td>Neotoma  </td><td>albigula</td><td>Rodent</td><td>Control</td></tr>\n",
              "\t<tr><th scope=row>5</th><td>22003</td><td> 1</td><td>11</td><td>1995</td><td>2</td><td>DM</td><td>M</td><td>37</td><td> 41</td><td>Dipodomys</td><td>merriami</td><td>Rodent</td><td>Control</td></tr>\n",
              "\t<tr><th scope=row>6</th><td>22042</td><td> 2</td><td> 4</td><td>1995</td><td>2</td><td>DM</td><td>F</td><td>36</td><td> 45</td><td>Dipodomys</td><td>merriami</td><td>Rodent</td><td>Control</td></tr>\n",
              "</tbody>\n",
              "</table>\n"
            ],
            "text/markdown": "\nA data.frame: 6 × 13\n\n| <!--/--> | record_id &lt;int&gt; | month &lt;int&gt; | day &lt;int&gt; | year &lt;int&gt; | plot_id &lt;int&gt; | species_id &lt;chr&gt; | sex &lt;chr&gt; | hindfoot_length &lt;int&gt; | weight &lt;int&gt; | genus &lt;chr&gt; | species &lt;chr&gt; | taxa &lt;chr&gt; | plot_type &lt;chr&gt; |\n|---|---|---|---|---|---|---|---|---|---|---|---|---|---|\n| 1 | 22314 |  6 |  7 | 1995 | 2 | NL | M | 34 |  NA | Neotoma   | albigula | Rodent | Control |\n| 2 | 22728 |  9 | 23 | 1995 | 2 | NL | F | 32 | 165 | Neotoma   | albigula | Rodent | Control |\n| 3 | 22899 | 10 | 28 | 1995 | 2 | NL | F | 32 | 171 | Neotoma   | albigula | Rodent | Control |\n| 4 | 23032 | 12 |  2 | 1995 | 2 | NL | F | 33 |  NA | Neotoma   | albigula | Rodent | Control |\n| 5 | 22003 |  1 | 11 | 1995 | 2 | DM | M | 37 |  41 | Dipodomys | merriami | Rodent | Control |\n| 6 | 22042 |  2 |  4 | 1995 | 2 | DM | F | 36 |  45 | Dipodomys | merriami | Rodent | Control |\n\n",
            "text/latex": "A data.frame: 6 × 13\n\\begin{tabular}{r|lllllllllllll}\n  & record\\_id & month & day & year & plot\\_id & species\\_id & sex & hindfoot\\_length & weight & genus & species & taxa & plot\\_type\\\\\n  & <int> & <int> & <int> & <int> & <int> & <chr> & <chr> & <int> & <int> & <chr> & <chr> & <chr> & <chr>\\\\\n\\hline\n\t1 & 22314 &  6 &  7 & 1995 & 2 & NL & M & 34 &  NA & Neotoma   & albigula & Rodent & Control\\\\\n\t2 & 22728 &  9 & 23 & 1995 & 2 & NL & F & 32 & 165 & Neotoma   & albigula & Rodent & Control\\\\\n\t3 & 22899 & 10 & 28 & 1995 & 2 & NL & F & 32 & 171 & Neotoma   & albigula & Rodent & Control\\\\\n\t4 & 23032 & 12 &  2 & 1995 & 2 & NL & F & 33 &  NA & Neotoma   & albigula & Rodent & Control\\\\\n\t5 & 22003 &  1 & 11 & 1995 & 2 & DM & M & 37 &  41 & Dipodomys & merriami & Rodent & Control\\\\\n\t6 & 22042 &  2 &  4 & 1995 & 2 & DM & F & 36 &  45 & Dipodomys & merriami & Rodent & Control\\\\\n\\end{tabular}\n",
            "text/plain": [
              "  record_id month day year plot_id species_id sex hindfoot_length weight\n",
              "1 22314      6     7  1995 2       NL         M   34               NA   \n",
              "2 22728      9    23  1995 2       NL         F   32              165   \n",
              "3 22899     10    28  1995 2       NL         F   32              171   \n",
              "4 23032     12     2  1995 2       NL         F   33               NA   \n",
              "5 22003      1    11  1995 2       DM         M   37               41   \n",
              "6 22042      2     4  1995 2       DM         F   36               45   \n",
              "  genus     species  taxa   plot_type\n",
              "1 Neotoma   albigula Rodent Control  \n",
              "2 Neotoma   albigula Rodent Control  \n",
              "3 Neotoma   albigula Rodent Control  \n",
              "4 Neotoma   albigula Rodent Control  \n",
              "5 Dipodomys merriami Rodent Control  \n",
              "6 Dipodomys merriami Rodent Control  "
            ]
          },
          "metadata": {}
        }
      ],
      "source": [
        "(surveys\n",
        " %>% filter(year == 1995)\n",
        " %>% head # Temp.  Remember to delete before saving\n",
        ")"
      ]
    },
    {
      "cell_type": "markdown",
      "source": [
        "**Combining with `&`   [AND]**"
      ],
      "metadata": {
        "id": "FWB4A_GvOrvW"
      }
    },
    {
      "cell_type": "code",
      "source": [
        "(surveys\n",
        " %>% filter(year == 1995 & sex == 'M')\n",
        " %>% head # Temp.  Remember to delete before saving\n",
        ")"
      ],
      "metadata": {
        "colab": {
          "base_uri": "https://localhost:8080/",
          "height": 254
        },
        "id": "euKNqwyXOw3L",
        "outputId": "92f90c54-69a6-4b29-d650-a076ae1e7ecb"
      },
      "execution_count": 15,
      "outputs": [
        {
          "output_type": "display_data",
          "data": {
            "text/html": [
              "<table class=\"dataframe\">\n",
              "<caption>A data.frame: 6 × 13</caption>\n",
              "<thead>\n",
              "\t<tr><th></th><th scope=col>record_id</th><th scope=col>month</th><th scope=col>day</th><th scope=col>year</th><th scope=col>plot_id</th><th scope=col>species_id</th><th scope=col>sex</th><th scope=col>hindfoot_length</th><th scope=col>weight</th><th scope=col>genus</th><th scope=col>species</th><th scope=col>taxa</th><th scope=col>plot_type</th></tr>\n",
              "\t<tr><th></th><th scope=col>&lt;int&gt;</th><th scope=col>&lt;int&gt;</th><th scope=col>&lt;int&gt;</th><th scope=col>&lt;int&gt;</th><th scope=col>&lt;int&gt;</th><th scope=col>&lt;chr&gt;</th><th scope=col>&lt;chr&gt;</th><th scope=col>&lt;int&gt;</th><th scope=col>&lt;int&gt;</th><th scope=col>&lt;chr&gt;</th><th scope=col>&lt;chr&gt;</th><th scope=col>&lt;chr&gt;</th><th scope=col>&lt;chr&gt;</th></tr>\n",
              "</thead>\n",
              "<tbody>\n",
              "\t<tr><th scope=row>1</th><td>22314</td><td>6</td><td> 7</td><td>1995</td><td>2</td><td>NL</td><td>M</td><td>34</td><td>NA</td><td>Neotoma  </td><td>albigula</td><td>Rodent</td><td>Control</td></tr>\n",
              "\t<tr><th scope=row>2</th><td>22003</td><td>1</td><td>11</td><td>1995</td><td>2</td><td>DM</td><td>M</td><td>37</td><td>41</td><td>Dipodomys</td><td>merriami</td><td>Rodent</td><td>Control</td></tr>\n",
              "\t<tr><th scope=row>3</th><td>22044</td><td>2</td><td> 4</td><td>1995</td><td>2</td><td>DM</td><td>M</td><td>37</td><td>46</td><td>Dipodomys</td><td>merriami</td><td>Rodent</td><td>Control</td></tr>\n",
              "\t<tr><th scope=row>4</th><td>22109</td><td>3</td><td> 4</td><td>1995</td><td>2</td><td>DM</td><td>M</td><td>37</td><td>46</td><td>Dipodomys</td><td>merriami</td><td>Rodent</td><td>Control</td></tr>\n",
              "\t<tr><th scope=row>5</th><td>22168</td><td>4</td><td> 1</td><td>1995</td><td>2</td><td>DM</td><td>M</td><td>36</td><td>48</td><td>Dipodomys</td><td>merriami</td><td>Rodent</td><td>Control</td></tr>\n",
              "\t<tr><th scope=row>6</th><td>22368</td><td>6</td><td>27</td><td>1995</td><td>2</td><td>DM</td><td>M</td><td>37</td><td>44</td><td>Dipodomys</td><td>merriami</td><td>Rodent</td><td>Control</td></tr>\n",
              "</tbody>\n",
              "</table>\n"
            ],
            "text/markdown": "\nA data.frame: 6 × 13\n\n| <!--/--> | record_id &lt;int&gt; | month &lt;int&gt; | day &lt;int&gt; | year &lt;int&gt; | plot_id &lt;int&gt; | species_id &lt;chr&gt; | sex &lt;chr&gt; | hindfoot_length &lt;int&gt; | weight &lt;int&gt; | genus &lt;chr&gt; | species &lt;chr&gt; | taxa &lt;chr&gt; | plot_type &lt;chr&gt; |\n|---|---|---|---|---|---|---|---|---|---|---|---|---|---|\n| 1 | 22314 | 6 |  7 | 1995 | 2 | NL | M | 34 | NA | Neotoma   | albigula | Rodent | Control |\n| 2 | 22003 | 1 | 11 | 1995 | 2 | DM | M | 37 | 41 | Dipodomys | merriami | Rodent | Control |\n| 3 | 22044 | 2 |  4 | 1995 | 2 | DM | M | 37 | 46 | Dipodomys | merriami | Rodent | Control |\n| 4 | 22109 | 3 |  4 | 1995 | 2 | DM | M | 37 | 46 | Dipodomys | merriami | Rodent | Control |\n| 5 | 22168 | 4 |  1 | 1995 | 2 | DM | M | 36 | 48 | Dipodomys | merriami | Rodent | Control |\n| 6 | 22368 | 6 | 27 | 1995 | 2 | DM | M | 37 | 44 | Dipodomys | merriami | Rodent | Control |\n\n",
            "text/latex": "A data.frame: 6 × 13\n\\begin{tabular}{r|lllllllllllll}\n  & record\\_id & month & day & year & plot\\_id & species\\_id & sex & hindfoot\\_length & weight & genus & species & taxa & plot\\_type\\\\\n  & <int> & <int> & <int> & <int> & <int> & <chr> & <chr> & <int> & <int> & <chr> & <chr> & <chr> & <chr>\\\\\n\\hline\n\t1 & 22314 & 6 &  7 & 1995 & 2 & NL & M & 34 & NA & Neotoma   & albigula & Rodent & Control\\\\\n\t2 & 22003 & 1 & 11 & 1995 & 2 & DM & M & 37 & 41 & Dipodomys & merriami & Rodent & Control\\\\\n\t3 & 22044 & 2 &  4 & 1995 & 2 & DM & M & 37 & 46 & Dipodomys & merriami & Rodent & Control\\\\\n\t4 & 22109 & 3 &  4 & 1995 & 2 & DM & M & 37 & 46 & Dipodomys & merriami & Rodent & Control\\\\\n\t5 & 22168 & 4 &  1 & 1995 & 2 & DM & M & 36 & 48 & Dipodomys & merriami & Rodent & Control\\\\\n\t6 & 22368 & 6 & 27 & 1995 & 2 & DM & M & 37 & 44 & Dipodomys & merriami & Rodent & Control\\\\\n\\end{tabular}\n",
            "text/plain": [
              "  record_id month day year plot_id species_id sex hindfoot_length weight\n",
              "1 22314     6      7  1995 2       NL         M   34              NA    \n",
              "2 22003     1     11  1995 2       DM         M   37              41    \n",
              "3 22044     2      4  1995 2       DM         M   37              46    \n",
              "4 22109     3      4  1995 2       DM         M   37              46    \n",
              "5 22168     4      1  1995 2       DM         M   36              48    \n",
              "6 22368     6     27  1995 2       DM         M   37              44    \n",
              "  genus     species  taxa   plot_type\n",
              "1 Neotoma   albigula Rodent Control  \n",
              "2 Dipodomys merriami Rodent Control  \n",
              "3 Dipodomys merriami Rodent Control  \n",
              "4 Dipodomys merriami Rodent Control  \n",
              "5 Dipodomys merriami Rodent Control  \n",
              "6 Dipodomys merriami Rodent Control  "
            ]
          },
          "metadata": {}
        }
      ]
    },
    {
      "cell_type": "markdown",
      "source": [
        "**Combining with `|`  [OR]**"
      ],
      "metadata": {
        "id": "37_Id6aEO756"
      }
    },
    {
      "cell_type": "code",
      "source": [
        "(surveys\n",
        " %>% filter(sex == 'M' | sex == 'F')\n",
        " %>% head # Temp.  Remember to delete before saving\n",
        ")\n"
      ],
      "metadata": {
        "colab": {
          "base_uri": "https://localhost:8080/",
          "height": 254
        },
        "id": "l7Aa-DwrPAA_",
        "outputId": "d80fc5a3-03b7-479c-8c78-deb28a5c8733"
      },
      "execution_count": 16,
      "outputs": [
        {
          "output_type": "display_data",
          "data": {
            "text/html": [
              "<table class=\"dataframe\">\n",
              "<caption>A data.frame: 6 × 13</caption>\n",
              "<thead>\n",
              "\t<tr><th></th><th scope=col>record_id</th><th scope=col>month</th><th scope=col>day</th><th scope=col>year</th><th scope=col>plot_id</th><th scope=col>species_id</th><th scope=col>sex</th><th scope=col>hindfoot_length</th><th scope=col>weight</th><th scope=col>genus</th><th scope=col>species</th><th scope=col>taxa</th><th scope=col>plot_type</th></tr>\n",
              "\t<tr><th></th><th scope=col>&lt;int&gt;</th><th scope=col>&lt;int&gt;</th><th scope=col>&lt;int&gt;</th><th scope=col>&lt;int&gt;</th><th scope=col>&lt;int&gt;</th><th scope=col>&lt;chr&gt;</th><th scope=col>&lt;chr&gt;</th><th scope=col>&lt;int&gt;</th><th scope=col>&lt;int&gt;</th><th scope=col>&lt;chr&gt;</th><th scope=col>&lt;chr&gt;</th><th scope=col>&lt;chr&gt;</th><th scope=col>&lt;chr&gt;</th></tr>\n",
              "</thead>\n",
              "<tbody>\n",
              "\t<tr><th scope=row>1</th><td>   1</td><td>7</td><td>16</td><td>1977</td><td>2</td><td>NL</td><td>M</td><td>32</td><td> NA</td><td>Neotoma</td><td>albigula</td><td>Rodent</td><td>Control</td></tr>\n",
              "\t<tr><th scope=row>2</th><td>  72</td><td>8</td><td>19</td><td>1977</td><td>2</td><td>NL</td><td>M</td><td>31</td><td> NA</td><td>Neotoma</td><td>albigula</td><td>Rodent</td><td>Control</td></tr>\n",
              "\t<tr><th scope=row>3</th><td> 588</td><td>2</td><td>18</td><td>1978</td><td>2</td><td>NL</td><td>M</td><td>NA</td><td>218</td><td>Neotoma</td><td>albigula</td><td>Rodent</td><td>Control</td></tr>\n",
              "\t<tr><th scope=row>4</th><td> 845</td><td>5</td><td> 6</td><td>1978</td><td>2</td><td>NL</td><td>M</td><td>32</td><td>204</td><td>Neotoma</td><td>albigula</td><td>Rodent</td><td>Control</td></tr>\n",
              "\t<tr><th scope=row>5</th><td> 990</td><td>6</td><td> 9</td><td>1978</td><td>2</td><td>NL</td><td>M</td><td>NA</td><td>200</td><td>Neotoma</td><td>albigula</td><td>Rodent</td><td>Control</td></tr>\n",
              "\t<tr><th scope=row>6</th><td>1164</td><td>8</td><td> 5</td><td>1978</td><td>2</td><td>NL</td><td>M</td><td>34</td><td>199</td><td>Neotoma</td><td>albigula</td><td>Rodent</td><td>Control</td></tr>\n",
              "</tbody>\n",
              "</table>\n"
            ],
            "text/markdown": "\nA data.frame: 6 × 13\n\n| <!--/--> | record_id &lt;int&gt; | month &lt;int&gt; | day &lt;int&gt; | year &lt;int&gt; | plot_id &lt;int&gt; | species_id &lt;chr&gt; | sex &lt;chr&gt; | hindfoot_length &lt;int&gt; | weight &lt;int&gt; | genus &lt;chr&gt; | species &lt;chr&gt; | taxa &lt;chr&gt; | plot_type &lt;chr&gt; |\n|---|---|---|---|---|---|---|---|---|---|---|---|---|---|\n| 1 |    1 | 7 | 16 | 1977 | 2 | NL | M | 32 |  NA | Neotoma | albigula | Rodent | Control |\n| 2 |   72 | 8 | 19 | 1977 | 2 | NL | M | 31 |  NA | Neotoma | albigula | Rodent | Control |\n| 3 |  588 | 2 | 18 | 1978 | 2 | NL | M | NA | 218 | Neotoma | albigula | Rodent | Control |\n| 4 |  845 | 5 |  6 | 1978 | 2 | NL | M | 32 | 204 | Neotoma | albigula | Rodent | Control |\n| 5 |  990 | 6 |  9 | 1978 | 2 | NL | M | NA | 200 | Neotoma | albigula | Rodent | Control |\n| 6 | 1164 | 8 |  5 | 1978 | 2 | NL | M | 34 | 199 | Neotoma | albigula | Rodent | Control |\n\n",
            "text/latex": "A data.frame: 6 × 13\n\\begin{tabular}{r|lllllllllllll}\n  & record\\_id & month & day & year & plot\\_id & species\\_id & sex & hindfoot\\_length & weight & genus & species & taxa & plot\\_type\\\\\n  & <int> & <int> & <int> & <int> & <int> & <chr> & <chr> & <int> & <int> & <chr> & <chr> & <chr> & <chr>\\\\\n\\hline\n\t1 &    1 & 7 & 16 & 1977 & 2 & NL & M & 32 &  NA & Neotoma & albigula & Rodent & Control\\\\\n\t2 &   72 & 8 & 19 & 1977 & 2 & NL & M & 31 &  NA & Neotoma & albigula & Rodent & Control\\\\\n\t3 &  588 & 2 & 18 & 1978 & 2 & NL & M & NA & 218 & Neotoma & albigula & Rodent & Control\\\\\n\t4 &  845 & 5 &  6 & 1978 & 2 & NL & M & 32 & 204 & Neotoma & albigula & Rodent & Control\\\\\n\t5 &  990 & 6 &  9 & 1978 & 2 & NL & M & NA & 200 & Neotoma & albigula & Rodent & Control\\\\\n\t6 & 1164 & 8 &  5 & 1978 & 2 & NL & M & 34 & 199 & Neotoma & albigula & Rodent & Control\\\\\n\\end{tabular}\n",
            "text/plain": [
              "  record_id month day year plot_id species_id sex hindfoot_length weight\n",
              "1    1      7     16  1977 2       NL         M   32               NA   \n",
              "2   72      8     19  1977 2       NL         M   31               NA   \n",
              "3  588      2     18  1978 2       NL         M   NA              218   \n",
              "4  845      5      6  1978 2       NL         M   32              204   \n",
              "5  990      6      9  1978 2       NL         M   NA              200   \n",
              "6 1164      8      5  1978 2       NL         M   34              199   \n",
              "  genus   species  taxa   plot_type\n",
              "1 Neotoma albigula Rodent Control  \n",
              "2 Neotoma albigula Rodent Control  \n",
              "3 Neotoma albigula Rodent Control  \n",
              "4 Neotoma albigula Rodent Control  \n",
              "5 Neotoma albigula Rodent Control  \n",
              "6 Neotoma albigula Rodent Control  "
            ]
          },
          "metadata": {}
        }
      ]
    },
    {
      "cell_type": "markdown",
      "source": [
        "## <font color=\"red\"> <b> Exercise 7.2.1 </b></font>\n",
        "\n",
        "**Questions.**\n",
        "1. Why are there columns not selected (last slide) still here?\n",
        "2. How would we perform both the `select` and `filter` together?\n"
      ],
      "metadata": {
        "id": "DdjomtLfsUjr"
      }
    },
    {
      "cell_type": "markdown",
      "source": [
        "<font color=\"orange\">\n",
        "Your answers here\n",
        "</font>"
      ],
      "metadata": {
        "id": "NyT-6oY2sdDa"
      }
    },
    {
      "cell_type": "markdown",
      "source": [
        "## Topic 2 - Some good habits.\n",
        "\n",
        "1. Perform all steps in one pipe,\n",
        "2. Add a temporary `head` to the end of the pipe for cleaner output, and\n",
        "3. Save and inspect the results of tables required for later tasks."
      ],
      "metadata": {
        "id": "cFDNhy_J3xPO"
      }
    },
    {
      "cell_type": "markdown",
      "source": [
        "#### Perform all steps in one pipe."
      ],
      "metadata": {
        "id": "MASmbsSY5Cw4"
      }
    },
    {
      "cell_type": "code",
      "source": [
        "(surveys\n",
        " %>% select(plot_id, species_id, weight, year)\n",
        " %>% filter(year == 1995)\n",
        ")\n"
      ],
      "metadata": {
        "colab": {
          "base_uri": "https://localhost:8080/",
          "height": 1000
        },
        "id": "cLpNW_Gp5FVb",
        "outputId": "a76f448e-6802-4bff-c4bf-2757e1f257aa"
      },
      "execution_count": null,
      "outputs": [
        {
          "output_type": "display_data",
          "data": {
            "text/html": [
              "<table class=\"dataframe\">\n",
              "<caption>A data.frame: 1180 × 4</caption>\n",
              "<thead>\n",
              "\t<tr><th scope=col>plot_id</th><th scope=col>species_id</th><th scope=col>weight</th><th scope=col>year</th></tr>\n",
              "\t<tr><th scope=col>&lt;int&gt;</th><th scope=col>&lt;chr&gt;</th><th scope=col>&lt;int&gt;</th><th scope=col>&lt;int&gt;</th></tr>\n",
              "</thead>\n",
              "<tbody>\n",
              "\t<tr><td>2</td><td>NL</td><td> NA</td><td>1995</td></tr>\n",
              "\t<tr><td>2</td><td>NL</td><td>165</td><td>1995</td></tr>\n",
              "\t<tr><td>2</td><td>NL</td><td>171</td><td>1995</td></tr>\n",
              "\t<tr><td>2</td><td>NL</td><td> NA</td><td>1995</td></tr>\n",
              "\t<tr><td>2</td><td>DM</td><td> 41</td><td>1995</td></tr>\n",
              "\t<tr><td>2</td><td>DM</td><td> 45</td><td>1995</td></tr>\n",
              "\t<tr><td>2</td><td>DM</td><td> 46</td><td>1995</td></tr>\n",
              "\t<tr><td>2</td><td>DM</td><td> 49</td><td>1995</td></tr>\n",
              "\t<tr><td>2</td><td>DM</td><td> 46</td><td>1995</td></tr>\n",
              "\t<tr><td>2</td><td>DM</td><td> 48</td><td>1995</td></tr>\n",
              "\t<tr><td>2</td><td>DM</td><td> 48</td><td>1995</td></tr>\n",
              "\t<tr><td>2</td><td>DM</td><td> 44</td><td>1995</td></tr>\n",
              "\t<tr><td>2</td><td>DM</td><td> 27</td><td>1995</td></tr>\n",
              "\t<tr><td>2</td><td>DM</td><td> 37</td><td>1995</td></tr>\n",
              "\t<tr><td>2</td><td>DM</td><td> 26</td><td>1995</td></tr>\n",
              "\t<tr><td>2</td><td>DM</td><td> 41</td><td>1995</td></tr>\n",
              "\t<tr><td>2</td><td>DM</td><td> 43</td><td>1995</td></tr>\n",
              "\t<tr><td>2</td><td>DM</td><td> 50</td><td>1995</td></tr>\n",
              "\t<tr><td>2</td><td>DM</td><td> 44</td><td>1995</td></tr>\n",
              "\t<tr><td>2</td><td>DM</td><td> 31</td><td>1995</td></tr>\n",
              "\t<tr><td>2</td><td>DM</td><td> 44</td><td>1995</td></tr>\n",
              "\t<tr><td>2</td><td>DM</td><td> 31</td><td>1995</td></tr>\n",
              "\t<tr><td>2</td><td>DM</td><td> 50</td><td>1995</td></tr>\n",
              "\t<tr><td>2</td><td>DM</td><td> 40</td><td>1995</td></tr>\n",
              "\t<tr><td>2</td><td>DM</td><td> 43</td><td>1995</td></tr>\n",
              "\t<tr><td>2</td><td>DM</td><td> 47</td><td>1995</td></tr>\n",
              "\t<tr><td>2</td><td>DM</td><td> 43</td><td>1995</td></tr>\n",
              "\t<tr><td>2</td><td>DM</td><td> 51</td><td>1995</td></tr>\n",
              "\t<tr><td>2</td><td>DM</td><td> 23</td><td>1995</td></tr>\n",
              "\t<tr><td>2</td><td>DM</td><td> 42</td><td>1995</td></tr>\n",
              "\t<tr><td>⋮</td><td>⋮</td><td>⋮</td><td>⋮</td></tr>\n",
              "\t<tr><td>16</td><td>RM</td><td>14</td><td>1995</td></tr>\n",
              "\t<tr><td>16</td><td>RM</td><td>12</td><td>1995</td></tr>\n",
              "\t<tr><td>16</td><td>AH</td><td>NA</td><td>1995</td></tr>\n",
              "\t<tr><td>16</td><td>AH</td><td>NA</td><td>1995</td></tr>\n",
              "\t<tr><td>16</td><td>DX</td><td>NA</td><td>1995</td></tr>\n",
              "\t<tr><td>23</td><td>RM</td><td>21</td><td>1995</td></tr>\n",
              "\t<tr><td>23</td><td>RM</td><td>17</td><td>1995</td></tr>\n",
              "\t<tr><td>23</td><td>PM</td><td>21</td><td>1995</td></tr>\n",
              "\t<tr><td>23</td><td>AH</td><td>NA</td><td>1995</td></tr>\n",
              "\t<tr><td>23</td><td>AB</td><td>NA</td><td>1995</td></tr>\n",
              "\t<tr><td>23</td><td>PU</td><td>NA</td><td>1995</td></tr>\n",
              "\t<tr><td> 7</td><td>PE</td><td>20</td><td>1995</td></tr>\n",
              "\t<tr><td> 7</td><td>PE</td><td>NA</td><td>1995</td></tr>\n",
              "\t<tr><td> 7</td><td>PP</td><td>17</td><td>1995</td></tr>\n",
              "\t<tr><td> 7</td><td>PP</td><td>18</td><td>1995</td></tr>\n",
              "\t<tr><td> 7</td><td>PP</td><td>19</td><td>1995</td></tr>\n",
              "\t<tr><td> 7</td><td>OT</td><td>23</td><td>1995</td></tr>\n",
              "\t<tr><td> 7</td><td>RM</td><td> 8</td><td>1995</td></tr>\n",
              "\t<tr><td> 7</td><td>RM</td><td>10</td><td>1995</td></tr>\n",
              "\t<tr><td> 7</td><td>RM</td><td>21</td><td>1995</td></tr>\n",
              "\t<tr><td> 7</td><td>RM</td><td>20</td><td>1995</td></tr>\n",
              "\t<tr><td> 7</td><td>RM</td><td>11</td><td>1995</td></tr>\n",
              "\t<tr><td> 7</td><td>RM</td><td>10</td><td>1995</td></tr>\n",
              "\t<tr><td> 7</td><td>RM</td><td>13</td><td>1995</td></tr>\n",
              "\t<tr><td> 7</td><td>RM</td><td>12</td><td>1995</td></tr>\n",
              "\t<tr><td> 7</td><td>RM</td><td> 9</td><td>1995</td></tr>\n",
              "\t<tr><td> 7</td><td>RM</td><td>11</td><td>1995</td></tr>\n",
              "\t<tr><td> 7</td><td>RM</td><td>13</td><td>1995</td></tr>\n",
              "\t<tr><td> 7</td><td>RM</td><td>12</td><td>1995</td></tr>\n",
              "\t<tr><td> 7</td><td>AB</td><td>NA</td><td>1995</td></tr>\n",
              "</tbody>\n",
              "</table>\n"
            ],
            "text/markdown": "\nA data.frame: 1180 × 4\n\n| plot_id &lt;int&gt; | species_id &lt;chr&gt; | weight &lt;int&gt; | year &lt;int&gt; |\n|---|---|---|---|\n| 2 | NL |  NA | 1995 |\n| 2 | NL | 165 | 1995 |\n| 2 | NL | 171 | 1995 |\n| 2 | NL |  NA | 1995 |\n| 2 | DM |  41 | 1995 |\n| 2 | DM |  45 | 1995 |\n| 2 | DM |  46 | 1995 |\n| 2 | DM |  49 | 1995 |\n| 2 | DM |  46 | 1995 |\n| 2 | DM |  48 | 1995 |\n| 2 | DM |  48 | 1995 |\n| 2 | DM |  44 | 1995 |\n| 2 | DM |  27 | 1995 |\n| 2 | DM |  37 | 1995 |\n| 2 | DM |  26 | 1995 |\n| 2 | DM |  41 | 1995 |\n| 2 | DM |  43 | 1995 |\n| 2 | DM |  50 | 1995 |\n| 2 | DM |  44 | 1995 |\n| 2 | DM |  31 | 1995 |\n| 2 | DM |  44 | 1995 |\n| 2 | DM |  31 | 1995 |\n| 2 | DM |  50 | 1995 |\n| 2 | DM |  40 | 1995 |\n| 2 | DM |  43 | 1995 |\n| 2 | DM |  47 | 1995 |\n| 2 | DM |  43 | 1995 |\n| 2 | DM |  51 | 1995 |\n| 2 | DM |  23 | 1995 |\n| 2 | DM |  42 | 1995 |\n| ⋮ | ⋮ | ⋮ | ⋮ |\n| 16 | RM | 14 | 1995 |\n| 16 | RM | 12 | 1995 |\n| 16 | AH | NA | 1995 |\n| 16 | AH | NA | 1995 |\n| 16 | DX | NA | 1995 |\n| 23 | RM | 21 | 1995 |\n| 23 | RM | 17 | 1995 |\n| 23 | PM | 21 | 1995 |\n| 23 | AH | NA | 1995 |\n| 23 | AB | NA | 1995 |\n| 23 | PU | NA | 1995 |\n|  7 | PE | 20 | 1995 |\n|  7 | PE | NA | 1995 |\n|  7 | PP | 17 | 1995 |\n|  7 | PP | 18 | 1995 |\n|  7 | PP | 19 | 1995 |\n|  7 | OT | 23 | 1995 |\n|  7 | RM |  8 | 1995 |\n|  7 | RM | 10 | 1995 |\n|  7 | RM | 21 | 1995 |\n|  7 | RM | 20 | 1995 |\n|  7 | RM | 11 | 1995 |\n|  7 | RM | 10 | 1995 |\n|  7 | RM | 13 | 1995 |\n|  7 | RM | 12 | 1995 |\n|  7 | RM |  9 | 1995 |\n|  7 | RM | 11 | 1995 |\n|  7 | RM | 13 | 1995 |\n|  7 | RM | 12 | 1995 |\n|  7 | AB | NA | 1995 |\n\n",
            "text/latex": "A data.frame: 1180 × 4\n\\begin{tabular}{llll}\n plot\\_id & species\\_id & weight & year\\\\\n <int> & <chr> & <int> & <int>\\\\\n\\hline\n\t 2 & NL &  NA & 1995\\\\\n\t 2 & NL & 165 & 1995\\\\\n\t 2 & NL & 171 & 1995\\\\\n\t 2 & NL &  NA & 1995\\\\\n\t 2 & DM &  41 & 1995\\\\\n\t 2 & DM &  45 & 1995\\\\\n\t 2 & DM &  46 & 1995\\\\\n\t 2 & DM &  49 & 1995\\\\\n\t 2 & DM &  46 & 1995\\\\\n\t 2 & DM &  48 & 1995\\\\\n\t 2 & DM &  48 & 1995\\\\\n\t 2 & DM &  44 & 1995\\\\\n\t 2 & DM &  27 & 1995\\\\\n\t 2 & DM &  37 & 1995\\\\\n\t 2 & DM &  26 & 1995\\\\\n\t 2 & DM &  41 & 1995\\\\\n\t 2 & DM &  43 & 1995\\\\\n\t 2 & DM &  50 & 1995\\\\\n\t 2 & DM &  44 & 1995\\\\\n\t 2 & DM &  31 & 1995\\\\\n\t 2 & DM &  44 & 1995\\\\\n\t 2 & DM &  31 & 1995\\\\\n\t 2 & DM &  50 & 1995\\\\\n\t 2 & DM &  40 & 1995\\\\\n\t 2 & DM &  43 & 1995\\\\\n\t 2 & DM &  47 & 1995\\\\\n\t 2 & DM &  43 & 1995\\\\\n\t 2 & DM &  51 & 1995\\\\\n\t 2 & DM &  23 & 1995\\\\\n\t 2 & DM &  42 & 1995\\\\\n\t ⋮ & ⋮ & ⋮ & ⋮\\\\\n\t 16 & RM & 14 & 1995\\\\\n\t 16 & RM & 12 & 1995\\\\\n\t 16 & AH & NA & 1995\\\\\n\t 16 & AH & NA & 1995\\\\\n\t 16 & DX & NA & 1995\\\\\n\t 23 & RM & 21 & 1995\\\\\n\t 23 & RM & 17 & 1995\\\\\n\t 23 & PM & 21 & 1995\\\\\n\t 23 & AH & NA & 1995\\\\\n\t 23 & AB & NA & 1995\\\\\n\t 23 & PU & NA & 1995\\\\\n\t  7 & PE & 20 & 1995\\\\\n\t  7 & PE & NA & 1995\\\\\n\t  7 & PP & 17 & 1995\\\\\n\t  7 & PP & 18 & 1995\\\\\n\t  7 & PP & 19 & 1995\\\\\n\t  7 & OT & 23 & 1995\\\\\n\t  7 & RM &  8 & 1995\\\\\n\t  7 & RM & 10 & 1995\\\\\n\t  7 & RM & 21 & 1995\\\\\n\t  7 & RM & 20 & 1995\\\\\n\t  7 & RM & 11 & 1995\\\\\n\t  7 & RM & 10 & 1995\\\\\n\t  7 & RM & 13 & 1995\\\\\n\t  7 & RM & 12 & 1995\\\\\n\t  7 & RM &  9 & 1995\\\\\n\t  7 & RM & 11 & 1995\\\\\n\t  7 & RM & 13 & 1995\\\\\n\t  7 & RM & 12 & 1995\\\\\n\t  7 & AB & NA & 1995\\\\\n\\end{tabular}\n",
            "text/plain": [
              "     plot_id species_id weight year\n",
              "1    2       NL          NA    1995\n",
              "2    2       NL         165    1995\n",
              "3    2       NL         171    1995\n",
              "4    2       NL          NA    1995\n",
              "5    2       DM          41    1995\n",
              "6    2       DM          45    1995\n",
              "7    2       DM          46    1995\n",
              "8    2       DM          49    1995\n",
              "9    2       DM          46    1995\n",
              "10   2       DM          48    1995\n",
              "11   2       DM          48    1995\n",
              "12   2       DM          44    1995\n",
              "13   2       DM          27    1995\n",
              "14   2       DM          37    1995\n",
              "15   2       DM          26    1995\n",
              "16   2       DM          41    1995\n",
              "17   2       DM          43    1995\n",
              "18   2       DM          50    1995\n",
              "19   2       DM          44    1995\n",
              "20   2       DM          31    1995\n",
              "21   2       DM          44    1995\n",
              "22   2       DM          31    1995\n",
              "23   2       DM          50    1995\n",
              "24   2       DM          40    1995\n",
              "25   2       DM          43    1995\n",
              "26   2       DM          47    1995\n",
              "27   2       DM          43    1995\n",
              "28   2       DM          51    1995\n",
              "29   2       DM          23    1995\n",
              "30   2       DM          42    1995\n",
              "⋮    ⋮       ⋮          ⋮      ⋮   \n",
              "1151 16      RM         14     1995\n",
              "1152 16      RM         12     1995\n",
              "1153 16      AH         NA     1995\n",
              "1154 16      AH         NA     1995\n",
              "1155 16      DX         NA     1995\n",
              "1156 23      RM         21     1995\n",
              "1157 23      RM         17     1995\n",
              "1158 23      PM         21     1995\n",
              "1159 23      AH         NA     1995\n",
              "1160 23      AB         NA     1995\n",
              "1161 23      PU         NA     1995\n",
              "1162  7      PE         20     1995\n",
              "1163  7      PE         NA     1995\n",
              "1164  7      PP         17     1995\n",
              "1165  7      PP         18     1995\n",
              "1166  7      PP         19     1995\n",
              "1167  7      OT         23     1995\n",
              "1168  7      RM          8     1995\n",
              "1169  7      RM         10     1995\n",
              "1170  7      RM         21     1995\n",
              "1171  7      RM         20     1995\n",
              "1172  7      RM         11     1995\n",
              "1173  7      RM         10     1995\n",
              "1174  7      RM         13     1995\n",
              "1175  7      RM         12     1995\n",
              "1176  7      RM          9     1995\n",
              "1177  7      RM         11     1995\n",
              "1178  7      RM         13     1995\n",
              "1179  7      RM         12     1995\n",
              "1180  7      AB         NA     1995"
            ]
          },
          "metadata": {}
        }
      ]
    },
    {
      "cell_type": "markdown",
      "source": [
        "#### Output too long? $\\rightarrow$ Temporarily shorten with `head`\n",
        "\n",
        "Use `head` to inspect."
      ],
      "metadata": {
        "id": "hzQpEoYMrxUz"
      }
    },
    {
      "cell_type": "code",
      "execution_count": 17,
      "metadata": {
        "id": "JxDE60hZFUC0",
        "outputId": "5d9b8d96-d5ed-4494-d9c2-9e788e3ffb90",
        "colab": {
          "base_uri": "https://localhost:8080/",
          "height": 254
        }
      },
      "outputs": [
        {
          "output_type": "display_data",
          "data": {
            "text/html": [
              "<table class=\"dataframe\">\n",
              "<caption>A data.frame: 6 × 4</caption>\n",
              "<thead>\n",
              "\t<tr><th></th><th scope=col>plot_id</th><th scope=col>species_id</th><th scope=col>weight</th><th scope=col>year</th></tr>\n",
              "\t<tr><th></th><th scope=col>&lt;int&gt;</th><th scope=col>&lt;chr&gt;</th><th scope=col>&lt;int&gt;</th><th scope=col>&lt;int&gt;</th></tr>\n",
              "</thead>\n",
              "<tbody>\n",
              "\t<tr><th scope=row>1</th><td>2</td><td>NL</td><td> NA</td><td>1995</td></tr>\n",
              "\t<tr><th scope=row>2</th><td>2</td><td>NL</td><td>165</td><td>1995</td></tr>\n",
              "\t<tr><th scope=row>3</th><td>2</td><td>NL</td><td>171</td><td>1995</td></tr>\n",
              "\t<tr><th scope=row>4</th><td>2</td><td>NL</td><td> NA</td><td>1995</td></tr>\n",
              "\t<tr><th scope=row>5</th><td>2</td><td>DM</td><td> 41</td><td>1995</td></tr>\n",
              "\t<tr><th scope=row>6</th><td>2</td><td>DM</td><td> 45</td><td>1995</td></tr>\n",
              "</tbody>\n",
              "</table>\n"
            ],
            "text/markdown": "\nA data.frame: 6 × 4\n\n| <!--/--> | plot_id &lt;int&gt; | species_id &lt;chr&gt; | weight &lt;int&gt; | year &lt;int&gt; |\n|---|---|---|---|---|\n| 1 | 2 | NL |  NA | 1995 |\n| 2 | 2 | NL | 165 | 1995 |\n| 3 | 2 | NL | 171 | 1995 |\n| 4 | 2 | NL |  NA | 1995 |\n| 5 | 2 | DM |  41 | 1995 |\n| 6 | 2 | DM |  45 | 1995 |\n\n",
            "text/latex": "A data.frame: 6 × 4\n\\begin{tabular}{r|llll}\n  & plot\\_id & species\\_id & weight & year\\\\\n  & <int> & <chr> & <int> & <int>\\\\\n\\hline\n\t1 & 2 & NL &  NA & 1995\\\\\n\t2 & 2 & NL & 165 & 1995\\\\\n\t3 & 2 & NL & 171 & 1995\\\\\n\t4 & 2 & NL &  NA & 1995\\\\\n\t5 & 2 & DM &  41 & 1995\\\\\n\t6 & 2 & DM &  45 & 1995\\\\\n\\end{tabular}\n",
            "text/plain": [
              "  plot_id species_id weight year\n",
              "1 2       NL          NA    1995\n",
              "2 2       NL         165    1995\n",
              "3 2       NL         171    1995\n",
              "4 2       NL          NA    1995\n",
              "5 2       DM          41    1995\n",
              "6 2       DM          45    1995"
            ]
          },
          "metadata": {}
        }
      ],
      "source": [
        "(surveys\n",
        " %>% select(plot_id, species_id, weight, year)\n",
        " %>% filter(year == 1995)\n",
        " %>% head  # Temporary - comment/remove before saving\n",
        ")"
      ]
    },
    {
      "cell_type": "markdown",
      "source": [
        "#### Saving and inspecting the results of a computation"
      ],
      "metadata": {
        "id": "Sr_--i0c4HKm"
      }
    },
    {
      "cell_type": "code",
      "source": [
        "(surveys\n",
        " %>% select(plot_id, species_id, weight, year)\n",
        " %>% filter(year == 1995)\n",
        "#  %>% head  # Comment and move to last line\n",
        ") -> survey_narrow\n",
        "\n",
        "survey_narrow %>% head"
      ],
      "metadata": {
        "colab": {
          "base_uri": "https://localhost:8080/",
          "height": 286
        },
        "id": "2x1q4V7W4L7-",
        "outputId": "dbf48471-0365-475c-96ab-de2e780658ed"
      },
      "execution_count": null,
      "outputs": [
        {
          "output_type": "display_data",
          "data": {
            "text/html": [
              "<table class=\"dataframe\">\n",
              "<caption>A data.frame: 6 × 4</caption>\n",
              "<thead>\n",
              "\t<tr><th></th><th scope=col>plot_id</th><th scope=col>species_id</th><th scope=col>weight</th><th scope=col>year</th></tr>\n",
              "\t<tr><th></th><th scope=col>&lt;int&gt;</th><th scope=col>&lt;chr&gt;</th><th scope=col>&lt;int&gt;</th><th scope=col>&lt;int&gt;</th></tr>\n",
              "</thead>\n",
              "<tbody>\n",
              "\t<tr><th scope=row>1</th><td>2</td><td>NL</td><td> NA</td><td>1995</td></tr>\n",
              "\t<tr><th scope=row>2</th><td>2</td><td>NL</td><td>165</td><td>1995</td></tr>\n",
              "\t<tr><th scope=row>3</th><td>2</td><td>NL</td><td>171</td><td>1995</td></tr>\n",
              "\t<tr><th scope=row>4</th><td>2</td><td>NL</td><td> NA</td><td>1995</td></tr>\n",
              "\t<tr><th scope=row>5</th><td>2</td><td>DM</td><td> 41</td><td>1995</td></tr>\n",
              "\t<tr><th scope=row>6</th><td>2</td><td>DM</td><td> 45</td><td>1995</td></tr>\n",
              "</tbody>\n",
              "</table>\n"
            ],
            "text/markdown": "\nA data.frame: 6 × 4\n\n| <!--/--> | plot_id &lt;int&gt; | species_id &lt;chr&gt; | weight &lt;int&gt; | year &lt;int&gt; |\n|---|---|---|---|---|\n| 1 | 2 | NL |  NA | 1995 |\n| 2 | 2 | NL | 165 | 1995 |\n| 3 | 2 | NL | 171 | 1995 |\n| 4 | 2 | NL |  NA | 1995 |\n| 5 | 2 | DM |  41 | 1995 |\n| 6 | 2 | DM |  45 | 1995 |\n\n",
            "text/latex": "A data.frame: 6 × 4\n\\begin{tabular}{r|llll}\n  & plot\\_id & species\\_id & weight & year\\\\\n  & <int> & <chr> & <int> & <int>\\\\\n\\hline\n\t1 & 2 & NL &  NA & 1995\\\\\n\t2 & 2 & NL & 165 & 1995\\\\\n\t3 & 2 & NL & 171 & 1995\\\\\n\t4 & 2 & NL &  NA & 1995\\\\\n\t5 & 2 & DM &  41 & 1995\\\\\n\t6 & 2 & DM &  45 & 1995\\\\\n\\end{tabular}\n",
            "text/plain": [
              "  plot_id species_id weight year\n",
              "1 2       NL          NA    1995\n",
              "2 2       NL         165    1995\n",
              "3 2       NL         171    1995\n",
              "4 2       NL          NA    1995\n",
              "5 2       DM          41    1995\n",
              "6 2       DM          45    1995"
            ]
          },
          "metadata": {}
        }
      ]
    },
    {
      "cell_type": "markdown",
      "source": [
        "## <font color=\"red\"> Exercise 7.2.2 </font>\n",
        "\n",
        "Write a single pipe to perform the following tasks.\n",
        "\n",
        "1. Select the `weight`, `sex` and `gender` columns,\n",
        "2. Filter out the rows that are `NA` (see [answer 1](https://stackoverflow.com/questions/28857653/removing-na-observations-with-dplyrfilter)), and\n",
        "3. Save the resulting table to an appropriately named variable.\n",
        "4. Write the table to a CSV and download the resulting file."
      ],
      "metadata": {
        "id": "Zp_JjSxd9mV0"
      }
    },
    {
      "cell_type": "code",
      "source": [
        "# Your code here"
      ],
      "metadata": {
        "id": "pO1SvTJa9uOX"
      },
      "execution_count": null,
      "outputs": []
    },
    {
      "cell_type": "markdown",
      "metadata": {
        "id": "U6BGHLL4FUC1"
      },
      "source": [
        "## Topic 3 - Making a new column with `mutate`\n",
        "\n",
        "**Syntax.**\n",
        "\n",
        "```{R}\n",
        "...\n",
        "%>% mutate(new_col_name = _some_arithmetic_expression)\n",
        "...\n",
        "```\n",
        "\n",
        "For example, suppose we want to convert the weight to kg."
      ]
    },
    {
      "cell_type": "code",
      "source": [
        "(surveys\n",
        " %>% select(plot_id, species_id, weight, year)\n",
        " %>% filter(year == 1995)\n",
        " %>% mutate(weight_kg = weight / 1000)        # Convert to kg.\n",
        " %>% select(-weight)                          # Drop the old weight column\n",
        ") -> survey_narrow\n",
        "\n",
        "survey_narrow %>% head\n"
      ],
      "metadata": {
        "colab": {
          "base_uri": "https://localhost:8080/",
          "height": 286
        },
        "id": "Eez93pWw5ebd",
        "outputId": "e7cf6db8-cc19-4d79-9350-ce5bf3c9644f"
      },
      "execution_count": null,
      "outputs": [
        {
          "output_type": "display_data",
          "data": {
            "text/html": [
              "<table class=\"dataframe\">\n",
              "<caption>A data.frame: 6 × 4</caption>\n",
              "<thead>\n",
              "\t<tr><th></th><th scope=col>plot_id</th><th scope=col>species_id</th><th scope=col>year</th><th scope=col>weight_kg</th></tr>\n",
              "\t<tr><th></th><th scope=col>&lt;int&gt;</th><th scope=col>&lt;chr&gt;</th><th scope=col>&lt;int&gt;</th><th scope=col>&lt;dbl&gt;</th></tr>\n",
              "</thead>\n",
              "<tbody>\n",
              "\t<tr><th scope=row>1</th><td>2</td><td>NL</td><td>1995</td><td>   NA</td></tr>\n",
              "\t<tr><th scope=row>2</th><td>2</td><td>NL</td><td>1995</td><td>0.165</td></tr>\n",
              "\t<tr><th scope=row>3</th><td>2</td><td>NL</td><td>1995</td><td>0.171</td></tr>\n",
              "\t<tr><th scope=row>4</th><td>2</td><td>NL</td><td>1995</td><td>   NA</td></tr>\n",
              "\t<tr><th scope=row>5</th><td>2</td><td>DM</td><td>1995</td><td>0.041</td></tr>\n",
              "\t<tr><th scope=row>6</th><td>2</td><td>DM</td><td>1995</td><td>0.045</td></tr>\n",
              "</tbody>\n",
              "</table>\n"
            ],
            "text/markdown": "\nA data.frame: 6 × 4\n\n| <!--/--> | plot_id &lt;int&gt; | species_id &lt;chr&gt; | year &lt;int&gt; | weight_kg &lt;dbl&gt; |\n|---|---|---|---|---|\n| 1 | 2 | NL | 1995 |    NA |\n| 2 | 2 | NL | 1995 | 0.165 |\n| 3 | 2 | NL | 1995 | 0.171 |\n| 4 | 2 | NL | 1995 |    NA |\n| 5 | 2 | DM | 1995 | 0.041 |\n| 6 | 2 | DM | 1995 | 0.045 |\n\n",
            "text/latex": "A data.frame: 6 × 4\n\\begin{tabular}{r|llll}\n  & plot\\_id & species\\_id & year & weight\\_kg\\\\\n  & <int> & <chr> & <int> & <dbl>\\\\\n\\hline\n\t1 & 2 & NL & 1995 &    NA\\\\\n\t2 & 2 & NL & 1995 & 0.165\\\\\n\t3 & 2 & NL & 1995 & 0.171\\\\\n\t4 & 2 & NL & 1995 &    NA\\\\\n\t5 & 2 & DM & 1995 & 0.041\\\\\n\t6 & 2 & DM & 1995 & 0.045\\\\\n\\end{tabular}\n",
            "text/plain": [
              "  plot_id species_id year weight_kg\n",
              "1 2       NL         1995    NA    \n",
              "2 2       NL         1995 0.165    \n",
              "3 2       NL         1995 0.171    \n",
              "4 2       NL         1995    NA    \n",
              "5 2       DM         1995 0.041    \n",
              "6 2       DM         1995 0.045    "
            ]
          },
          "metadata": {}
        }
      ]
    },
    {
      "cell_type": "markdown",
      "metadata": {
        "id": "4LrwXqsoFUC3"
      },
      "source": [
        "## <font color=\"red\"> Exercise 7.2.3 </font>\n",
        "\n",
        "Write a single pipe to perform the following tasks.\n",
        "\n",
        "1. Select the `weight`, `sex` and `gender` columns,\n",
        "2. Filter out the rows that are `NA` (see [answer 1](https://stackoverflow.com/questions/28857653/removing-na-observations-with-dplyrfilter)), and\n",
        "3. Compute the a weight of all species in lbs.\n",
        "4. Save the resulting table to an appropriately named variable.\n",
        "5. Write the table to a CSV and download the resulting file."
      ]
    },
    {
      "cell_type": "code",
      "execution_count": null,
      "metadata": {
        "id": "E5B7iZqxFUC3"
      },
      "outputs": [],
      "source": [
        "# Your piped process here"
      ]
    },
    {
      "cell_type": "markdown",
      "metadata": {
        "id": "SeN6o66KFUC1"
      },
      "source": [
        "## Motivating pipes\n",
        "\n",
        "We prefer to use `%>%` to organize our data management steps in a pipe.  In this section, we will provide arguments why this is the preferred style."
      ]
    },
    {
      "cell_type": "markdown",
      "source": [
        "### Imperative programming style"
      ],
      "metadata": {
        "id": "YM-Jstmi7nr1"
      }
    },
    {
      "cell_type": "code",
      "execution_count": null,
      "metadata": {
        "id": "ue-XsUNOFUC1",
        "outputId": "f43466f5-9e37-4b64-9fba-22031f093eff",
        "colab": {
          "base_uri": "https://localhost:8080/",
          "height": 286
        }
      },
      "outputs": [
        {
          "output_type": "display_data",
          "data": {
            "text/html": [
              "<table class=\"dataframe\">\n",
              "<caption>A data.frame: 6 × 5</caption>\n",
              "<thead>\n",
              "\t<tr><th></th><th scope=col>plot_id</th><th scope=col>species_id</th><th scope=col>weight</th><th scope=col>year</th><th scope=col>weight_kg</th></tr>\n",
              "\t<tr><th></th><th scope=col>&lt;int&gt;</th><th scope=col>&lt;chr&gt;</th><th scope=col>&lt;int&gt;</th><th scope=col>&lt;int&gt;</th><th scope=col>&lt;dbl&gt;</th></tr>\n",
              "</thead>\n",
              "<tbody>\n",
              "\t<tr><th scope=row>1</th><td>2</td><td>NL</td><td> NA</td><td>1995</td><td>   NA</td></tr>\n",
              "\t<tr><th scope=row>2</th><td>2</td><td>NL</td><td>165</td><td>1995</td><td>0.165</td></tr>\n",
              "\t<tr><th scope=row>3</th><td>2</td><td>NL</td><td>171</td><td>1995</td><td>0.171</td></tr>\n",
              "\t<tr><th scope=row>4</th><td>2</td><td>NL</td><td> NA</td><td>1995</td><td>   NA</td></tr>\n",
              "\t<tr><th scope=row>5</th><td>2</td><td>DM</td><td> 41</td><td>1995</td><td>0.041</td></tr>\n",
              "\t<tr><th scope=row>6</th><td>2</td><td>DM</td><td> 45</td><td>1995</td><td>0.045</td></tr>\n",
              "</tbody>\n",
              "</table>\n"
            ],
            "text/markdown": "\nA data.frame: 6 × 5\n\n| <!--/--> | plot_id &lt;int&gt; | species_id &lt;chr&gt; | weight &lt;int&gt; | year &lt;int&gt; | weight_kg &lt;dbl&gt; |\n|---|---|---|---|---|---|\n| 1 | 2 | NL |  NA | 1995 |    NA |\n| 2 | 2 | NL | 165 | 1995 | 0.165 |\n| 3 | 2 | NL | 171 | 1995 | 0.171 |\n| 4 | 2 | NL |  NA | 1995 |    NA |\n| 5 | 2 | DM |  41 | 1995 | 0.041 |\n| 6 | 2 | DM |  45 | 1995 | 0.045 |\n\n",
            "text/latex": "A data.frame: 6 × 5\n\\begin{tabular}{r|lllll}\n  & plot\\_id & species\\_id & weight & year & weight\\_kg\\\\\n  & <int> & <chr> & <int> & <int> & <dbl>\\\\\n\\hline\n\t1 & 2 & NL &  NA & 1995 &    NA\\\\\n\t2 & 2 & NL & 165 & 1995 & 0.165\\\\\n\t3 & 2 & NL & 171 & 1995 & 0.171\\\\\n\t4 & 2 & NL &  NA & 1995 &    NA\\\\\n\t5 & 2 & DM &  41 & 1995 & 0.041\\\\\n\t6 & 2 & DM &  45 & 1995 & 0.045\\\\\n\\end{tabular}\n",
            "text/plain": [
              "  plot_id species_id weight year weight_kg\n",
              "1 2       NL          NA    1995    NA    \n",
              "2 2       NL         165    1995 0.165    \n",
              "3 2       NL         171    1995 0.171    \n",
              "4 2       NL          NA    1995    NA    \n",
              "5 2       DM          41    1995 0.041    \n",
              "6 2       DM          45    1995 0.045    "
            ]
          },
          "metadata": {}
        }
      ],
      "source": [
        "new_df <- select(surveys, plot_id, species_id, weight, year)\n",
        "new_df2 <- filter(new_df, year == 1995)\n",
        "new_df3 <- mutate(new_df2, weight_kg = weight / 1000)\n",
        "head(new_df3)"
      ]
    },
    {
      "cell_type": "markdown",
      "source": [
        "### Imperative pattern - Save, save, save\n",
        "\n",
        "\n",
        "<img width=\"450\" src=\"https://github.com/WSU-DataScience/DSCI_210_R_notebooks/blob/main/img/imperative_pattern.png?raw=1\">\n",
        "\n",
        "- **Problem 1:** Lots of temporary variables\n",
        "- **Problem 2:** Messy and lots of *overhead*\n",
        "    - All the extra *stuff* clouds the meaning/intent of the code"
      ],
      "metadata": {
        "id": "G0sm1HdI7_UB"
      }
    },
    {
      "cell_type": "markdown",
      "metadata": {
        "id": "KT5EvU-QFUC2"
      },
      "source": [
        "### Poor solution - Rewrite to the same data frame"
      ]
    },
    {
      "cell_type": "markdown",
      "metadata": {
        "id": "71CibccjFUC2"
      },
      "source": [
        "```{R}\n",
        "surveys <- select(surveys, plot_id, species_id, weight, year)\n",
        "surveys <- filter(surveys, year == 1995)\n",
        "surveys <- mutate(surveys, weight_kg = weight / 1000)\n",
        "```"
      ]
    },
    {
      "cell_type": "markdown",
      "metadata": {
        "id": "ihz9IiZLFUC2"
      },
      "source": [
        "<font color=\"red\"> <b> Question.</b></font> What's the problems with this approach?<font size = 1>Answer below.</font>\n"
      ]
    },
    {
      "cell_type": "markdown",
      "source": [
        "<font color=\"orange\" size=3>\n",
        "You answer here\n",
        "</font>"
      ],
      "metadata": {
        "id": "zF824e5VtnMY"
      }
    },
    {
      "cell_type": "markdown",
      "metadata": {
        "id": "7xUfVDydFUC2"
      },
      "source": [
        "### Use a pipe for cleaner code\n",
        "\n",
        "Pipe pushes the data frame through the first position:\n",
        "\n",
        "<img width=\"350\" src=\"https://github.com/WSU-DataScience/DSCI_210_R_notebooks/blob/main/img/pipe1.png?raw=1\">"
      ]
    },
    {
      "cell_type": "markdown",
      "metadata": {
        "id": "EX3zSOXVFUC2"
      },
      "source": [
        "### Imagine an invisible data frame in the first spot...\n",
        "\n",
        "Important Point - Each data frame is NEW\n",
        "\n",
        "<img width=\"350\" src=\"https://github.com/WSU-DataScience/DSCI_210_R_notebooks/blob/main/img/pipe2.png?raw=1\">"
      ]
    },
    {
      "cell_type": "markdown",
      "metadata": {
        "id": "KMOhX3RGFUC2"
      },
      "source": [
        "### ... but don't write it!"
      ]
    },
    {
      "cell_type": "code",
      "execution_count": null,
      "metadata": {
        "id": "LYc1pHiiFUC3",
        "outputId": "363d65c9-5174-4620-eca9-7fcc7b441000",
        "colab": {
          "base_uri": "https://localhost:8080/",
          "height": 277
        }
      },
      "outputs": [
        {
          "output_type": "display_data",
          "data": {
            "text/html": [
              "<table class=\"dataframe\">\n",
              "<caption>A data.frame: 6 × 5</caption>\n",
              "<thead>\n",
              "\t<tr><th></th><th scope=col>plot_id</th><th scope=col>species_id</th><th scope=col>weight</th><th scope=col>year</th><th scope=col>weight_kg</th></tr>\n",
              "\t<tr><th></th><th scope=col>&lt;int&gt;</th><th scope=col>&lt;chr&gt;</th><th scope=col>&lt;int&gt;</th><th scope=col>&lt;int&gt;</th><th scope=col>&lt;dbl&gt;</th></tr>\n",
              "</thead>\n",
              "<tbody>\n",
              "\t<tr><th scope=row>1</th><td>2</td><td>NL</td><td> NA</td><td>1995</td><td>   NA</td></tr>\n",
              "\t<tr><th scope=row>2</th><td>2</td><td>NL</td><td>165</td><td>1995</td><td>0.165</td></tr>\n",
              "\t<tr><th scope=row>3</th><td>2</td><td>NL</td><td>171</td><td>1995</td><td>0.171</td></tr>\n",
              "\t<tr><th scope=row>4</th><td>2</td><td>NL</td><td> NA</td><td>1995</td><td>   NA</td></tr>\n",
              "\t<tr><th scope=row>5</th><td>2</td><td>DM</td><td> 41</td><td>1995</td><td>0.041</td></tr>\n",
              "\t<tr><th scope=row>6</th><td>2</td><td>DM</td><td> 45</td><td>1995</td><td>0.045</td></tr>\n",
              "</tbody>\n",
              "</table>\n"
            ],
            "text/markdown": "\nA data.frame: 6 × 5\n\n| <!--/--> | plot_id &lt;int&gt; | species_id &lt;chr&gt; | weight &lt;int&gt; | year &lt;int&gt; | weight_kg &lt;dbl&gt; |\n|---|---|---|---|---|---|\n| 1 | 2 | NL |  NA | 1995 |    NA |\n| 2 | 2 | NL | 165 | 1995 | 0.165 |\n| 3 | 2 | NL | 171 | 1995 | 0.171 |\n| 4 | 2 | NL |  NA | 1995 |    NA |\n| 5 | 2 | DM |  41 | 1995 | 0.041 |\n| 6 | 2 | DM |  45 | 1995 | 0.045 |\n\n",
            "text/latex": "A data.frame: 6 × 5\n\\begin{tabular}{r|lllll}\n  & plot\\_id & species\\_id & weight & year & weight\\_kg\\\\\n  & <int> & <chr> & <int> & <int> & <dbl>\\\\\n\\hline\n\t1 & 2 & NL &  NA & 1995 &    NA\\\\\n\t2 & 2 & NL & 165 & 1995 & 0.165\\\\\n\t3 & 2 & NL & 171 & 1995 & 0.171\\\\\n\t4 & 2 & NL &  NA & 1995 &    NA\\\\\n\t5 & 2 & DM &  41 & 1995 & 0.041\\\\\n\t6 & 2 & DM &  45 & 1995 & 0.045\\\\\n\\end{tabular}\n",
            "text/plain": [
              "  plot_id species_id weight year weight_kg\n",
              "1 2       NL          NA    1995    NA    \n",
              "2 2       NL         165    1995 0.165    \n",
              "3 2       NL         171    1995 0.171    \n",
              "4 2       NL          NA    1995    NA    \n",
              "5 2       DM          41    1995 0.041    \n",
              "6 2       DM          45    1995 0.045    "
            ]
          },
          "metadata": {}
        }
      ],
      "source": [
        "surveys  %>%\n",
        "  select(plot_id, species_id, weight, year) %>%\n",
        "  filter(year == 1995) %>%\n",
        "  mutate(weight_kg = weight / 1000) %>%\n",
        "  head()"
      ]
    },
    {
      "cell_type": "markdown",
      "metadata": {
        "id": "jxw7TlmbFUC3"
      },
      "source": [
        "### My preferred code format"
      ]
    },
    {
      "cell_type": "code",
      "execution_count": null,
      "metadata": {
        "id": "E5QdmjG5FUC3",
        "outputId": "7d9be6ce-bb3f-423c-cff5-11fa2dad3f25",
        "colab": {
          "base_uri": "https://localhost:8080/",
          "height": 277
        }
      },
      "outputs": [
        {
          "output_type": "display_data",
          "data": {
            "text/html": [
              "<table class=\"dataframe\">\n",
              "<caption>A data.frame: 6 × 5</caption>\n",
              "<thead>\n",
              "\t<tr><th></th><th scope=col>plot_id</th><th scope=col>species_id</th><th scope=col>weight</th><th scope=col>year</th><th scope=col>weight_kg</th></tr>\n",
              "\t<tr><th></th><th scope=col>&lt;int&gt;</th><th scope=col>&lt;chr&gt;</th><th scope=col>&lt;int&gt;</th><th scope=col>&lt;int&gt;</th><th scope=col>&lt;dbl&gt;</th></tr>\n",
              "</thead>\n",
              "<tbody>\n",
              "\t<tr><th scope=row>1</th><td>2</td><td>NL</td><td> NA</td><td>1995</td><td>   NA</td></tr>\n",
              "\t<tr><th scope=row>2</th><td>2</td><td>NL</td><td>165</td><td>1995</td><td>0.165</td></tr>\n",
              "\t<tr><th scope=row>3</th><td>2</td><td>NL</td><td>171</td><td>1995</td><td>0.171</td></tr>\n",
              "\t<tr><th scope=row>4</th><td>2</td><td>NL</td><td> NA</td><td>1995</td><td>   NA</td></tr>\n",
              "\t<tr><th scope=row>5</th><td>2</td><td>DM</td><td> 41</td><td>1995</td><td>0.041</td></tr>\n",
              "\t<tr><th scope=row>6</th><td>2</td><td>DM</td><td> 45</td><td>1995</td><td>0.045</td></tr>\n",
              "</tbody>\n",
              "</table>\n"
            ],
            "text/markdown": "\nA data.frame: 6 × 5\n\n| <!--/--> | plot_id &lt;int&gt; | species_id &lt;chr&gt; | weight &lt;int&gt; | year &lt;int&gt; | weight_kg &lt;dbl&gt; |\n|---|---|---|---|---|---|\n| 1 | 2 | NL |  NA | 1995 |    NA |\n| 2 | 2 | NL | 165 | 1995 | 0.165 |\n| 3 | 2 | NL | 171 | 1995 | 0.171 |\n| 4 | 2 | NL |  NA | 1995 |    NA |\n| 5 | 2 | DM |  41 | 1995 | 0.041 |\n| 6 | 2 | DM |  45 | 1995 | 0.045 |\n\n",
            "text/latex": "A data.frame: 6 × 5\n\\begin{tabular}{r|lllll}\n  & plot\\_id & species\\_id & weight & year & weight\\_kg\\\\\n  & <int> & <chr> & <int> & <int> & <dbl>\\\\\n\\hline\n\t1 & 2 & NL &  NA & 1995 &    NA\\\\\n\t2 & 2 & NL & 165 & 1995 & 0.165\\\\\n\t3 & 2 & NL & 171 & 1995 & 0.171\\\\\n\t4 & 2 & NL &  NA & 1995 &    NA\\\\\n\t5 & 2 & DM &  41 & 1995 & 0.041\\\\\n\t6 & 2 & DM &  45 & 1995 & 0.045\\\\\n\\end{tabular}\n",
            "text/plain": [
              "  plot_id species_id weight year weight_kg\n",
              "1 2       NL          NA    1995    NA    \n",
              "2 2       NL         165    1995 0.165    \n",
              "3 2       NL         171    1995 0.171    \n",
              "4 2       NL          NA    1995    NA    \n",
              "5 2       DM          41    1995 0.041    \n",
              "6 2       DM          45    1995 0.045    "
            ]
          },
          "metadata": {}
        }
      ],
      "source": [
        "(surveys\n",
        " %>% select(plot_id, species_id, weight, year)\n",
        " %>% filter(year == 1995)\n",
        " %>% mutate(weight_kg = weight / 1000)\n",
        " %>% head()\n",
        " ) -> survey_clean\n",
        "\n",
        " survey_clean"
      ]
    },
    {
      "cell_type": "markdown",
      "source": [
        "## Deliverables\n",
        "\n",
        "Please submit the following on D2L.\n",
        "\n",
        "1. A WORD document containing screenshots of your solutions (code + output), and\n",
        "2. A share link to your notebook.  You will need to save a copy of your notebook and change the share permissions to allow anyone with the link access."
      ],
      "metadata": {
        "id": "YcnK4AkWvyFr"
      }
    }
  ],
  "metadata": {
    "kernelspec": {
      "display_name": "R",
      "language": "R",
      "name": "ir"
    },
    "language_info": {
      "codemirror_mode": "r",
      "file_extension": ".r",
      "mimetype": "text/x-r-source",
      "name": "R",
      "pygments_lexer": "r",
      "version": "3.5.1"
    },
    "colab": {
      "provenance": [],
      "include_colab_link": true
    }
  },
  "nbformat": 4,
  "nbformat_minor": 0
}