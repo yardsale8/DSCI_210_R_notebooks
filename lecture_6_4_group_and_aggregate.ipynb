{
  "cells": [
    {
      "cell_type": "markdown",
      "metadata": {
        "id": "view-in-github",
        "colab_type": "text"
      },
      "source": [
        "<a href=\"https://colab.research.google.com/github/yardsale8/DSCI_210_R_notebooks/blob/main/lecture_6_4_group_and_aggregate.ipynb\" target=\"_parent\"><img src=\"https://colab.research.google.com/assets/colab-badge.svg\" alt=\"Open In Colab\"/></a>"
      ]
    },
    {
      "cell_type": "markdown",
      "metadata": {
        "id": "O2G3oJSe2fiG"
      },
      "source": [
        "# Grouping and Aggregating in R"
      ]
    },
    {
      "cell_type": "code",
      "execution_count": 1,
      "metadata": {
        "colab": {
          "base_uri": "https://localhost:8080/"
        },
        "id": "YbKvn1th2fiH",
        "outputId": "03833c78-ee97-4eaf-cd0a-11cb26ff9abd"
      },
      "outputs": [
        {
          "output_type": "stream",
          "name": "stderr",
          "text": [
            "── \u001b[1mAttaching core tidyverse packages\u001b[22m ──────────────────────── tidyverse 2.0.0 ──\n",
            "\u001b[32m✔\u001b[39m \u001b[34mdplyr    \u001b[39m 1.1.3     \u001b[32m✔\u001b[39m \u001b[34mreadr    \u001b[39m 2.1.4\n",
            "\u001b[32m✔\u001b[39m \u001b[34mforcats  \u001b[39m 1.0.0     \u001b[32m✔\u001b[39m \u001b[34mstringr  \u001b[39m 1.5.0\n",
            "\u001b[32m✔\u001b[39m \u001b[34mggplot2  \u001b[39m 3.4.4     \u001b[32m✔\u001b[39m \u001b[34mtibble   \u001b[39m 3.2.1\n",
            "\u001b[32m✔\u001b[39m \u001b[34mlubridate\u001b[39m 1.9.3     \u001b[32m✔\u001b[39m \u001b[34mtidyr    \u001b[39m 1.3.0\n",
            "\u001b[32m✔\u001b[39m \u001b[34mpurrr    \u001b[39m 1.0.2     \n",
            "── \u001b[1mConflicts\u001b[22m ────────────────────────────────────────── tidyverse_conflicts() ──\n",
            "\u001b[31m✖\u001b[39m \u001b[34mdplyr\u001b[39m::\u001b[32mfilter()\u001b[39m masks \u001b[34mstats\u001b[39m::filter()\n",
            "\u001b[31m✖\u001b[39m \u001b[34mdplyr\u001b[39m::\u001b[32mlag()\u001b[39m    masks \u001b[34mstats\u001b[39m::lag()\n",
            "\u001b[36mℹ\u001b[39m Use the conflicted package (\u001b[3m\u001b[34m<http://conflicted.r-lib.org/>\u001b[39m\u001b[23m) to force all conflicts to become errors\n"
          ]
        }
      ],
      "source": [
        "library(tidyverse)"
      ]
    },
    {
      "cell_type": "code",
      "execution_count": 2,
      "metadata": {
        "colab": {
          "base_uri": "https://localhost:8080/",
          "height": 306
        },
        "id": "JWInYpnJ2fiK",
        "outputId": "82ff620f-c15b-47d6-bcd5-5d69762352b5"
      },
      "outputs": [
        {
          "output_type": "display_data",
          "data": {
            "text/html": [
              "<table class=\"dataframe\">\n",
              "<caption>A data.frame: 6 × 23</caption>\n",
              "<thead>\n",
              "\t<tr><th></th><th scope=col>Father.Minority</th><th scope=col>Father.Age</th><th scope=col>Father.Years.of.Education</th><th scope=col>Mother.Minority</th><th scope=col>Mother.Age</th><th scope=col>Mother.Years.of.Education</th><th scope=col>Marital.Status</th><th scope=col>Mother.Smoker</th><th scope=col>Mother.Avg.Cigs</th><th scope=col>Mother.Weight.Gain</th><th scope=col>⋯</th><th scope=col>Month.of.Birth</th><th scope=col>Day.of.Birth</th><th scope=col>Gender</th><th scope=col>Number.of.Prenatal.Visits</th><th scope=col>Kotelchuck.Index</th><th scope=col>Gestational.Age</th><th scope=col>Birth.Weight.Grams</th><th scope=col>Low.Birth</th><th scope=col>Apgar.Score.One.Minute</th><th scope=col>Apgar.Score.Five.Minutes</th></tr>\n",
              "\t<tr><th></th><th scope=col>&lt;chr&gt;</th><th scope=col>&lt;int&gt;</th><th scope=col>&lt;int&gt;</th><th scope=col>&lt;chr&gt;</th><th scope=col>&lt;int&gt;</th><th scope=col>&lt;int&gt;</th><th scope=col>&lt;chr&gt;</th><th scope=col>&lt;chr&gt;</th><th scope=col>&lt;int&gt;</th><th scope=col>&lt;int&gt;</th><th scope=col>⋯</th><th scope=col>&lt;int&gt;</th><th scope=col>&lt;int&gt;</th><th scope=col>&lt;chr&gt;</th><th scope=col>&lt;chr&gt;</th><th scope=col>&lt;chr&gt;</th><th scope=col>&lt;int&gt;</th><th scope=col>&lt;int&gt;</th><th scope=col>&lt;chr&gt;</th><th scope=col>&lt;int&gt;</th><th scope=col>&lt;int&gt;</th></tr>\n",
              "</thead>\n",
              "<tbody>\n",
              "\t<tr><th scope=row>1</th><td>Nonwhite</td><td>50</td><td>12</td><td>White   </td><td>24</td><td>15</td><td>Unmarried</td><td>N</td><td> 0</td><td>50</td><td>⋯</td><td> 2</td><td>23</td><td>Female</td><td>10</td><td>3_Adequate    </td><td>38</td><td>2866</td><td>N</td><td>9</td><td>9</td></tr>\n",
              "\t<tr><th scope=row>2</th><td>White   </td><td>19</td><td> 9</td><td>White   </td><td>18</td><td> 9</td><td>Unmarried</td><td>Y</td><td>23</td><td>35</td><td>⋯</td><td> 1</td><td>25</td><td>Female</td><td>9 </td><td>3_Adequate    </td><td>35</td><td>3121</td><td>N</td><td>8</td><td>9</td></tr>\n",
              "\t<tr><th scope=row>3</th><td>White   </td><td>37</td><td>17</td><td>White   </td><td>35</td><td>17</td><td>Married  </td><td>N</td><td> 0</td><td>24</td><td>⋯</td><td> 1</td><td>25</td><td>Female</td><td>20</td><td>4_AdequatePlus</td><td>38</td><td>2667</td><td>N</td><td>8</td><td>9</td></tr>\n",
              "\t<tr><th scope=row>4</th><td>        </td><td>NA</td><td>NA</td><td>Nonwhite</td><td>22</td><td>14</td><td>Unmarried</td><td>N</td><td> 0</td><td>33</td><td>⋯</td><td>11</td><td>10</td><td>Male  </td><td>15</td><td>4_AdequatePlus</td><td>38</td><td>2696</td><td>N</td><td>8</td><td>9</td></tr>\n",
              "\t<tr><th scope=row>5</th><td>Nonwhite</td><td>39</td><td>11</td><td>Nonwhite</td><td>31</td><td>16</td><td>Unmarried</td><td>N</td><td> 0</td><td>30</td><td>⋯</td><td> 5</td><td>18</td><td>Female</td><td>12</td><td>1_Inadequate  </td><td>38</td><td>2979</td><td>N</td><td>4</td><td>9</td></tr>\n",
              "\t<tr><th scope=row>6</th><td>White   </td><td>20</td><td>11</td><td>Nonwhite</td><td>19</td><td>12</td><td>Unmarried</td><td>N</td><td> 0</td><td>10</td><td>⋯</td><td>11</td><td> 6</td><td>Male  </td><td>10</td><td>4_AdequatePlus</td><td>36</td><td>3036</td><td>N</td><td>9</td><td>9</td></tr>\n",
              "</tbody>\n",
              "</table>\n"
            ],
            "text/markdown": "\nA data.frame: 6 × 23\n\n| <!--/--> | Father.Minority &lt;chr&gt; | Father.Age &lt;int&gt; | Father.Years.of.Education &lt;int&gt; | Mother.Minority &lt;chr&gt; | Mother.Age &lt;int&gt; | Mother.Years.of.Education &lt;int&gt; | Marital.Status &lt;chr&gt; | Mother.Smoker &lt;chr&gt; | Mother.Avg.Cigs &lt;int&gt; | Mother.Weight.Gain &lt;int&gt; | ⋯ ⋯ | Month.of.Birth &lt;int&gt; | Day.of.Birth &lt;int&gt; | Gender &lt;chr&gt; | Number.of.Prenatal.Visits &lt;chr&gt; | Kotelchuck.Index &lt;chr&gt; | Gestational.Age &lt;int&gt; | Birth.Weight.Grams &lt;int&gt; | Low.Birth &lt;chr&gt; | Apgar.Score.One.Minute &lt;int&gt; | Apgar.Score.Five.Minutes &lt;int&gt; |\n|---|---|---|---|---|---|---|---|---|---|---|---|---|---|---|---|---|---|---|---|---|---|\n| 1 | Nonwhite | 50 | 12 | White    | 24 | 15 | Unmarried | N |  0 | 50 | ⋯ |  2 | 23 | Female | 10 | 3_Adequate     | 38 | 2866 | N | 9 | 9 |\n| 2 | White    | 19 |  9 | White    | 18 |  9 | Unmarried | Y | 23 | 35 | ⋯ |  1 | 25 | Female | 9  | 3_Adequate     | 35 | 3121 | N | 8 | 9 |\n| 3 | White    | 37 | 17 | White    | 35 | 17 | Married   | N |  0 | 24 | ⋯ |  1 | 25 | Female | 20 | 4_AdequatePlus | 38 | 2667 | N | 8 | 9 |\n| 4 | <!----> | NA | NA | Nonwhite | 22 | 14 | Unmarried | N |  0 | 33 | ⋯ | 11 | 10 | Male   | 15 | 4_AdequatePlus | 38 | 2696 | N | 8 | 9 |\n| 5 | Nonwhite | 39 | 11 | Nonwhite | 31 | 16 | Unmarried | N |  0 | 30 | ⋯ |  5 | 18 | Female | 12 | 1_Inadequate   | 38 | 2979 | N | 4 | 9 |\n| 6 | White    | 20 | 11 | Nonwhite | 19 | 12 | Unmarried | N |  0 | 10 | ⋯ | 11 |  6 | Male   | 10 | 4_AdequatePlus | 36 | 3036 | N | 9 | 9 |\n\n",
            "text/latex": "A data.frame: 6 × 23\n\\begin{tabular}{r|lllllllllllllllllllll}\n  & Father.Minority & Father.Age & Father.Years.of.Education & Mother.Minority & Mother.Age & Mother.Years.of.Education & Marital.Status & Mother.Smoker & Mother.Avg.Cigs & Mother.Weight.Gain & ⋯ & Month.of.Birth & Day.of.Birth & Gender & Number.of.Prenatal.Visits & Kotelchuck.Index & Gestational.Age & Birth.Weight.Grams & Low.Birth & Apgar.Score.One.Minute & Apgar.Score.Five.Minutes\\\\\n  & <chr> & <int> & <int> & <chr> & <int> & <int> & <chr> & <chr> & <int> & <int> & ⋯ & <int> & <int> & <chr> & <chr> & <chr> & <int> & <int> & <chr> & <int> & <int>\\\\\n\\hline\n\t1 & Nonwhite & 50 & 12 & White    & 24 & 15 & Unmarried & N &  0 & 50 & ⋯ &  2 & 23 & Female & 10 & 3\\_Adequate     & 38 & 2866 & N & 9 & 9\\\\\n\t2 & White    & 19 &  9 & White    & 18 &  9 & Unmarried & Y & 23 & 35 & ⋯ &  1 & 25 & Female & 9  & 3\\_Adequate     & 35 & 3121 & N & 8 & 9\\\\\n\t3 & White    & 37 & 17 & White    & 35 & 17 & Married   & N &  0 & 24 & ⋯ &  1 & 25 & Female & 20 & 4\\_AdequatePlus & 38 & 2667 & N & 8 & 9\\\\\n\t4 &          & NA & NA & Nonwhite & 22 & 14 & Unmarried & N &  0 & 33 & ⋯ & 11 & 10 & Male   & 15 & 4\\_AdequatePlus & 38 & 2696 & N & 8 & 9\\\\\n\t5 & Nonwhite & 39 & 11 & Nonwhite & 31 & 16 & Unmarried & N &  0 & 30 & ⋯ &  5 & 18 & Female & 12 & 1\\_Inadequate   & 38 & 2979 & N & 4 & 9\\\\\n\t6 & White    & 20 & 11 & Nonwhite & 19 & 12 & Unmarried & N &  0 & 10 & ⋯ & 11 &  6 & Male   & 10 & 4\\_AdequatePlus & 36 & 3036 & N & 9 & 9\\\\\n\\end{tabular}\n",
            "text/plain": [
              "  Father.Minority Father.Age Father.Years.of.Education Mother.Minority\n",
              "1 Nonwhite        50         12                        White          \n",
              "2 White           19          9                        White          \n",
              "3 White           37         17                        White          \n",
              "4                 NA         NA                        Nonwhite       \n",
              "5 Nonwhite        39         11                        Nonwhite       \n",
              "6 White           20         11                        Nonwhite       \n",
              "  Mother.Age Mother.Years.of.Education Marital.Status Mother.Smoker\n",
              "1 24         15                        Unmarried      N            \n",
              "2 18          9                        Unmarried      Y            \n",
              "3 35         17                        Married        N            \n",
              "4 22         14                        Unmarried      N            \n",
              "5 31         16                        Unmarried      N            \n",
              "6 19         12                        Unmarried      N            \n",
              "  Mother.Avg.Cigs Mother.Weight.Gain ⋯ Month.of.Birth Day.of.Birth Gender\n",
              "1  0              50                 ⋯  2             23           Female\n",
              "2 23              35                 ⋯  1             25           Female\n",
              "3  0              24                 ⋯  1             25           Female\n",
              "4  0              33                 ⋯ 11             10           Male  \n",
              "5  0              30                 ⋯  5             18           Female\n",
              "6  0              10                 ⋯ 11              6           Male  \n",
              "  Number.of.Prenatal.Visits Kotelchuck.Index Gestational.Age Birth.Weight.Grams\n",
              "1 10                        3_Adequate       38              2866              \n",
              "2 9                         3_Adequate       35              3121              \n",
              "3 20                        4_AdequatePlus   38              2667              \n",
              "4 15                        4_AdequatePlus   38              2696              \n",
              "5 12                        1_Inadequate     38              2979              \n",
              "6 10                        4_AdequatePlus   36              3036              \n",
              "  Low.Birth Apgar.Score.One.Minute Apgar.Score.Five.Minutes\n",
              "1 N         9                      9                       \n",
              "2 N         8                      9                       \n",
              "3 N         8                      9                       \n",
              "4 N         8                      9                       \n",
              "5 N         4                      9                       \n",
              "6 N         9                      9                       "
            ]
          },
          "metadata": {}
        }
      ],
      "source": [
        "births <- read.csv('https://github.com/WSU-DataScience/DSCI_210_R_notebooks/raw/main/data/NC_Birth.csv')\n",
        "head(births)"
      ]
    },
    {
      "cell_type": "markdown",
      "metadata": {
        "id": "OIsVnPD62fiK"
      },
      "source": [
        "# Outline\n",
        "\n",
        "* Simple Aggregation\n",
        "* Grouped Aggregation"
      ]
    },
    {
      "cell_type": "markdown",
      "metadata": {
        "id": "Uc3ZACIP2fiL"
      },
      "source": [
        "# Aggregation"
      ]
    },
    {
      "cell_type": "markdown",
      "metadata": {
        "id": "uQfM3KOr2fiM"
      },
      "source": [
        "### Simple aggregation\n",
        "\n",
        "<img src=\"https://github.com/yardsale8/DSCI_210_R_notebooks/blob/main/img/simple_aggregation.png?raw=1\" width=600>"
      ]
    },
    {
      "cell_type": "markdown",
      "metadata": {
        "id": "5uTNwy762fiM"
      },
      "source": [
        "#### Beware of `NA`!\n",
        "\n",
        "`NA + 1 == NA` in R"
      ]
    },
    {
      "cell_type": "code",
      "execution_count": 3,
      "metadata": {
        "colab": {
          "base_uri": "https://localhost:8080/",
          "height": 150
        },
        "id": "AY79_LxR2fiM",
        "outputId": "3477e7e7-8432-4f65-d351-5c1d4603a8ba"
      },
      "outputs": [
        {
          "output_type": "display_data",
          "data": {
            "text/html": [
              "<table class=\"dataframe\">\n",
              "<caption>A data.frame: 1 × 1</caption>\n",
              "<thead>\n",
              "\t<tr><th scope=col>avg_father_educ</th></tr>\n",
              "\t<tr><th scope=col>&lt;dbl&gt;</th></tr>\n",
              "</thead>\n",
              "<tbody>\n",
              "\t<tr><td>NA</td></tr>\n",
              "</tbody>\n",
              "</table>\n"
            ],
            "text/markdown": "\nA data.frame: 1 × 1\n\n| avg_father_educ &lt;dbl&gt; |\n|---|\n| NA |\n\n",
            "text/latex": "A data.frame: 1 × 1\n\\begin{tabular}{l}\n avg\\_father\\_educ\\\\\n <dbl>\\\\\n\\hline\n\t NA\\\\\n\\end{tabular}\n",
            "text/plain": [
              "  avg_father_educ\n",
              "1 NA             "
            ]
          },
          "metadata": {}
        }
      ],
      "source": [
        "(births\n",
        " %>% summarize(avg_father_educ = mean(Father.Years.of.Education))\n",
        " )"
      ]
    },
    {
      "cell_type": "markdown",
      "metadata": {
        "id": "MqzGh5iX2fiO"
      },
      "source": [
        "#### Option 1 -- Filter out incomplete rows"
      ]
    },
    {
      "cell_type": "code",
      "execution_count": 4,
      "metadata": {
        "colab": {
          "base_uri": "https://localhost:8080/",
          "height": 150
        },
        "id": "L70m_kc42fiO",
        "outputId": "bfb51914-baaf-479e-b691-d2883165f360"
      },
      "outputs": [
        {
          "output_type": "display_data",
          "data": {
            "text/html": [
              "<table class=\"dataframe\">\n",
              "<caption>A data.frame: 1 × 1</caption>\n",
              "<thead>\n",
              "\t<tr><th scope=col>avg_father_educ</th></tr>\n",
              "\t<tr><th scope=col>&lt;dbl&gt;</th></tr>\n",
              "</thead>\n",
              "<tbody>\n",
              "\t<tr><td>12.79394</td></tr>\n",
              "</tbody>\n",
              "</table>\n"
            ],
            "text/markdown": "\nA data.frame: 1 × 1\n\n| avg_father_educ &lt;dbl&gt; |\n|---|\n| 12.79394 |\n\n",
            "text/latex": "A data.frame: 1 × 1\n\\begin{tabular}{l}\n avg\\_father\\_educ\\\\\n <dbl>\\\\\n\\hline\n\t 12.79394\\\\\n\\end{tabular}\n",
            "text/plain": [
              "  avg_father_educ\n",
              "1 12.79394       "
            ]
          },
          "metadata": {}
        }
      ],
      "source": [
        "(births\n",
        " %>% filter(complete.cases(Father.Years.of.Education))\n",
        " %>% summarize(avg_father_educ = mean(Father.Years.of.Education))\n",
        " )"
      ]
    },
    {
      "cell_type": "markdown",
      "metadata": {
        "id": "1rKiiMyD2fiO"
      },
      "source": [
        "#### Option 2 -- set `na.rm=TRUE`"
      ]
    },
    {
      "cell_type": "code",
      "execution_count": 5,
      "metadata": {
        "colab": {
          "base_uri": "https://localhost:8080/",
          "height": 150
        },
        "id": "olfIpeS42fiO",
        "outputId": "ef0c721e-18c7-46f7-e866-9cd069e57c5f"
      },
      "outputs": [
        {
          "output_type": "display_data",
          "data": {
            "text/html": [
              "<table class=\"dataframe\">\n",
              "<caption>A data.frame: 1 × 1</caption>\n",
              "<thead>\n",
              "\t<tr><th scope=col>avg_father_educ</th></tr>\n",
              "\t<tr><th scope=col>&lt;dbl&gt;</th></tr>\n",
              "</thead>\n",
              "<tbody>\n",
              "\t<tr><td>12.79394</td></tr>\n",
              "</tbody>\n",
              "</table>\n"
            ],
            "text/markdown": "\nA data.frame: 1 × 1\n\n| avg_father_educ &lt;dbl&gt; |\n|---|\n| 12.79394 |\n\n",
            "text/latex": "A data.frame: 1 × 1\n\\begin{tabular}{l}\n avg\\_father\\_educ\\\\\n <dbl>\\\\\n\\hline\n\t 12.79394\\\\\n\\end{tabular}\n",
            "text/plain": [
              "  avg_father_educ\n",
              "1 12.79394       "
            ]
          },
          "metadata": {}
        }
      ],
      "source": [
        "(births\n",
        " %>% summarize(avg_father_educ = mean(Father.Years.of.Education, na.rm = TRUE))\n",
        " )"
      ]
    },
    {
      "cell_type": "markdown",
      "metadata": {
        "id": "M9mkbvFU2fiP"
      },
      "source": [
        "### Grouped aggregation\n",
        "\n",
        "<img src=\"https://github.com/yardsale8/DSCI_210_R_notebooks/blob/main/img/group_and_aggregate.png?raw=1\" width=600>\n",
        "\n",
        "#### One grouping variable\n",
        "\n",
        "Using `group_by`"
      ]
    },
    {
      "cell_type": "code",
      "execution_count": 10,
      "metadata": {
        "colab": {
          "base_uri": "https://localhost:8080/",
          "height": 181
        },
        "id": "P_pg_xzT2fiP",
        "outputId": "03b73540-0172-4fbf-d220-17f371366acf"
      },
      "outputs": [
        {
          "output_type": "display_data",
          "data": {
            "text/html": [
              "<table class=\"dataframe\">\n",
              "<caption>A tibble: 2 × 2</caption>\n",
              "<thead>\n",
              "\t<tr><th scope=col>Gender</th><th scope=col>avg_wt</th></tr>\n",
              "\t<tr><th scope=col>&lt;chr&gt;</th><th scope=col>&lt;dbl&gt;</th></tr>\n",
              "</thead>\n",
              "<tbody>\n",
              "\t<tr><td>Female</td><td>3203.117</td></tr>\n",
              "\t<tr><td>Male  </td><td>3279.816</td></tr>\n",
              "</tbody>\n",
              "</table>\n"
            ],
            "text/markdown": "\nA tibble: 2 × 2\n\n| Gender &lt;chr&gt; | avg_wt &lt;dbl&gt; |\n|---|---|\n| Female | 3203.117 |\n| Male   | 3279.816 |\n\n",
            "text/latex": "A tibble: 2 × 2\n\\begin{tabular}{ll}\n Gender & avg\\_wt\\\\\n <chr> & <dbl>\\\\\n\\hline\n\t Female & 3203.117\\\\\n\t Male   & 3279.816\\\\\n\\end{tabular}\n",
            "text/plain": [
              "  Gender avg_wt  \n",
              "1 Female 3203.117\n",
              "2 Male   3279.816"
            ]
          },
          "metadata": {}
        }
      ],
      "source": [
        "(births\n",
        " %>% group_by(Gender)\n",
        " %>% summarize(avg_wt = mean(Birth.Weight.Grams,\n",
        "                             na.rm = TRUE)\n",
        "              )\n",
        " )"
      ]
    },
    {
      "cell_type": "markdown",
      "source": [
        "Using `.by` argument in `summarise`"
      ],
      "metadata": {
        "id": "kQWdplSj3-jd"
      }
    },
    {
      "cell_type": "code",
      "source": [
        "(births\n",
        " %>% summarize(avg_wt = mean(Birth.Weight.Grams,\n",
        "                             na.rm = TRUE),\n",
        "              .by = Gender)\n",
        "\n",
        "\n",
        " )"
      ],
      "metadata": {
        "colab": {
          "base_uri": "https://localhost:8080/",
          "height": 181
        },
        "id": "0LqfZ1og3ig7",
        "outputId": "535ed8bd-23bd-45c7-957a-80b935be05ff"
      },
      "execution_count": 11,
      "outputs": [
        {
          "output_type": "display_data",
          "data": {
            "text/html": [
              "<table class=\"dataframe\">\n",
              "<caption>A data.frame: 2 × 2</caption>\n",
              "<thead>\n",
              "\t<tr><th scope=col>Gender</th><th scope=col>avg_wt</th></tr>\n",
              "\t<tr><th scope=col>&lt;chr&gt;</th><th scope=col>&lt;dbl&gt;</th></tr>\n",
              "</thead>\n",
              "<tbody>\n",
              "\t<tr><td>Female</td><td>3203.117</td></tr>\n",
              "\t<tr><td>Male  </td><td>3279.816</td></tr>\n",
              "</tbody>\n",
              "</table>\n"
            ],
            "text/markdown": "\nA data.frame: 2 × 2\n\n| Gender &lt;chr&gt; | avg_wt &lt;dbl&gt; |\n|---|---|\n| Female | 3203.117 |\n| Male   | 3279.816 |\n\n",
            "text/latex": "A data.frame: 2 × 2\n\\begin{tabular}{ll}\n Gender & avg\\_wt\\\\\n <chr> & <dbl>\\\\\n\\hline\n\t Female & 3203.117\\\\\n\t Male   & 3279.816\\\\\n\\end{tabular}\n",
            "text/plain": [
              "  Gender avg_wt  \n",
              "1 Female 3203.117\n",
              "2 Male   3279.816"
            ]
          },
          "metadata": {}
        }
      ]
    },
    {
      "cell_type": "markdown",
      "metadata": {
        "id": "GxDJPSls2fiP"
      },
      "source": [
        "#### Two grouping variables\n",
        "\n",
        "Using `group_by` in the pipe"
      ]
    },
    {
      "cell_type": "code",
      "execution_count": 12,
      "metadata": {
        "colab": {
          "base_uri": "https://localhost:8080/",
          "height": 278
        },
        "id": "tIJRobqG2fiQ",
        "outputId": "afe9eed7-cefb-4ae8-ff63-f1d565ad4efe"
      },
      "outputs": [
        {
          "output_type": "stream",
          "name": "stderr",
          "text": [
            "\u001b[1m\u001b[22m`summarise()` has grouped output by 'Gender'. You can override using the\n",
            "`.groups` argument.\n"
          ]
        },
        {
          "output_type": "display_data",
          "data": {
            "text/html": [
              "<table class=\"dataframe\">\n",
              "<caption>A grouped_df: 4 × 3</caption>\n",
              "<thead>\n",
              "\t<tr><th scope=col>Gender</th><th scope=col>Marital.Status</th><th scope=col>avg_wt</th></tr>\n",
              "\t<tr><th scope=col>&lt;chr&gt;</th><th scope=col>&lt;chr&gt;</th><th scope=col>&lt;dbl&gt;</th></tr>\n",
              "</thead>\n",
              "<tbody>\n",
              "\t<tr><td>Female</td><td>Married  </td><td>3249.788</td></tr>\n",
              "\t<tr><td>Female</td><td>Unmarried</td><td>3137.405</td></tr>\n",
              "\t<tr><td>Male  </td><td>Married  </td><td>3321.245</td></tr>\n",
              "\t<tr><td>Male  </td><td>Unmarried</td><td>3219.448</td></tr>\n",
              "</tbody>\n",
              "</table>\n"
            ],
            "text/markdown": "\nA grouped_df: 4 × 3\n\n| Gender &lt;chr&gt; | Marital.Status &lt;chr&gt; | avg_wt &lt;dbl&gt; |\n|---|---|---|\n| Female | Married   | 3249.788 |\n| Female | Unmarried | 3137.405 |\n| Male   | Married   | 3321.245 |\n| Male   | Unmarried | 3219.448 |\n\n",
            "text/latex": "A grouped\\_df: 4 × 3\n\\begin{tabular}{lll}\n Gender & Marital.Status & avg\\_wt\\\\\n <chr> & <chr> & <dbl>\\\\\n\\hline\n\t Female & Married   & 3249.788\\\\\n\t Female & Unmarried & 3137.405\\\\\n\t Male   & Married   & 3321.245\\\\\n\t Male   & Unmarried & 3219.448\\\\\n\\end{tabular}\n",
            "text/plain": [
              "  Gender Marital.Status avg_wt  \n",
              "1 Female Married        3249.788\n",
              "2 Female Unmarried      3137.405\n",
              "3 Male   Married        3321.245\n",
              "4 Male   Unmarried      3219.448"
            ]
          },
          "metadata": {}
        }
      ],
      "source": [
        "(births\n",
        " %>% group_by(Gender, Marital.Status)\n",
        " %>% summarize(avg_wt = mean(Birth.Weight.Grams,\n",
        "                             na.rm = TRUE)\n",
        "              )\n",
        " )"
      ]
    },
    {
      "cell_type": "markdown",
      "source": [
        "Using `.by` argument in `summarise`"
      ],
      "metadata": {
        "id": "nOFEv3lg4Npk"
      }
    },
    {
      "cell_type": "code",
      "source": [
        "(births\n",
        " %>% summarize(avg_wt = mean(Birth.Weight.Grams,\n",
        "                             na.rm = TRUE),\n",
        "               .by = c(Gender, Marital.Status)\n",
        "              )\n",
        " )"
      ],
      "metadata": {
        "colab": {
          "base_uri": "https://localhost:8080/",
          "height": 244
        },
        "id": "w5nkSnEx4W4-",
        "outputId": "378012b6-10a1-4f0a-ec3a-89312bb35045"
      },
      "execution_count": 13,
      "outputs": [
        {
          "output_type": "display_data",
          "data": {
            "text/html": [
              "<table class=\"dataframe\">\n",
              "<caption>A data.frame: 4 × 3</caption>\n",
              "<thead>\n",
              "\t<tr><th scope=col>Gender</th><th scope=col>Marital.Status</th><th scope=col>avg_wt</th></tr>\n",
              "\t<tr><th scope=col>&lt;chr&gt;</th><th scope=col>&lt;chr&gt;</th><th scope=col>&lt;dbl&gt;</th></tr>\n",
              "</thead>\n",
              "<tbody>\n",
              "\t<tr><td>Female</td><td>Unmarried</td><td>3137.405</td></tr>\n",
              "\t<tr><td>Female</td><td>Married  </td><td>3249.788</td></tr>\n",
              "\t<tr><td>Male  </td><td>Unmarried</td><td>3219.448</td></tr>\n",
              "\t<tr><td>Male  </td><td>Married  </td><td>3321.245</td></tr>\n",
              "</tbody>\n",
              "</table>\n"
            ],
            "text/markdown": "\nA data.frame: 4 × 3\n\n| Gender &lt;chr&gt; | Marital.Status &lt;chr&gt; | avg_wt &lt;dbl&gt; |\n|---|---|---|\n| Female | Unmarried | 3137.405 |\n| Female | Married   | 3249.788 |\n| Male   | Unmarried | 3219.448 |\n| Male   | Married   | 3321.245 |\n\n",
            "text/latex": "A data.frame: 4 × 3\n\\begin{tabular}{lll}\n Gender & Marital.Status & avg\\_wt\\\\\n <chr> & <chr> & <dbl>\\\\\n\\hline\n\t Female & Unmarried & 3137.405\\\\\n\t Female & Married   & 3249.788\\\\\n\t Male   & Unmarried & 3219.448\\\\\n\t Male   & Married   & 3321.245\\\\\n\\end{tabular}\n",
            "text/plain": [
              "  Gender Marital.Status avg_wt  \n",
              "1 Female Unmarried      3137.405\n",
              "2 Female Married        3249.788\n",
              "3 Male   Unmarried      3219.448\n",
              "4 Male   Married        3321.245"
            ]
          },
          "metadata": {}
        }
      ]
    },
    {
      "cell_type": "markdown",
      "metadata": {
        "id": "hI5CBifG2fiR"
      },
      "source": [
        "## <font color=\"red\"> Exercise 6.3.1 </font>\n",
        "\n",
        "Use `group_by` and/or `summarise` to perform each of the following tasks.\n",
        "\n",
        "**Tasks:**\n",
        "\n",
        "1. Compute the overall average (`mean`) and standard deviation(`sd`) of the birth weights (`Birth.Weight.Grams`)\n",
        "1. Compute the overall average (`mean`) and standard deviation(`sd`) of the birth weights (`Birth.Weight.Grams`) for each category of mother's smoking status (`Mother.Smoker`)"
      ]
    },
    {
      "cell_type": "code",
      "execution_count": null,
      "metadata": {
        "id": "RoLUtprT2fiR"
      },
      "outputs": [],
      "source": [
        "# Your code here"
      ]
    },
    {
      "cell_type": "markdown",
      "metadata": {
        "id": "zb6wzG422fiR"
      },
      "source": [
        "## Working with a Categorical Response\n",
        "\n",
        "Similar to the deficiencies we pointed out with JMP's **Table > Summary**,\n",
        "`dplyr` makes us work when creating two way summary tables for two categorical variables."
      ]
    },
    {
      "cell_type": "markdown",
      "metadata": {
        "id": "le_9K7cF2fiS"
      },
      "source": [
        "### Getting category counts\n",
        "\n",
        "It is relatively easy to get counts for a single or combination of categorical variables using the `count` function in the pipe. Note that this function performs a grouped aggregation."
      ]
    },
    {
      "cell_type": "code",
      "source": [
        "(births\n",
        " %>% count(Low.Birth, Mother.Smoker)\n",
        " )"
      ],
      "metadata": {
        "colab": {
          "base_uri": "https://localhost:8080/"
        },
        "id": "XKBSvSEA4qv0",
        "outputId": "c871d120-7cd1-4964-aaa5-9e32d3bf182d"
      },
      "execution_count": 16,
      "outputs": [
        {
          "output_type": "display_data",
          "data": {
            "text/html": [
              "<table class=\"dataframe\">\n",
              "<caption>A data.frame: 6 × 3</caption>\n",
              "<thead>\n",
              "\t<tr><th scope=col>Low.Birth</th><th scope=col>Mother.Smoker</th><th scope=col>n</th></tr>\n",
              "\t<tr><th scope=col>&lt;chr&gt;</th><th scope=col>&lt;chr&gt;</th><th scope=col>&lt;int&gt;</th></tr>\n",
              "</thead>\n",
              "<tbody>\n",
              "\t<tr><td>N</td><td> </td><td>   7</td></tr>\n",
              "\t<tr><td>N</td><td>N</td><td>1615</td></tr>\n",
              "\t<tr><td>N</td><td>Y</td><td> 203</td></tr>\n",
              "\t<tr><td>Y</td><td> </td><td>   1</td></tr>\n",
              "\t<tr><td>Y</td><td>N</td><td> 146</td></tr>\n",
              "\t<tr><td>Y</td><td>Y</td><td>  28</td></tr>\n",
              "</tbody>\n",
              "</table>\n"
            ],
            "text/markdown": "\nA data.frame: 6 × 3\n\n| Low.Birth &lt;chr&gt; | Mother.Smoker &lt;chr&gt; | n &lt;int&gt; |\n|---|---|---|\n| N | <!----> |    7 |\n| N | N | 1615 |\n| N | Y |  203 |\n| Y | <!----> |    1 |\n| Y | N |  146 |\n| Y | Y |   28 |\n\n",
            "text/latex": "A data.frame: 6 × 3\n\\begin{tabular}{lll}\n Low.Birth & Mother.Smoker & n\\\\\n <chr> & <chr> & <int>\\\\\n\\hline\n\t N &   &    7\\\\\n\t N & N & 1615\\\\\n\t N & Y &  203\\\\\n\t Y &   &    1\\\\\n\t Y & N &  146\\\\\n\t Y & Y &   28\\\\\n\\end{tabular}\n",
            "text/plain": [
              "  Low.Birth Mother.Smoker n   \n",
              "1 N                          7\n",
              "2 N         N             1615\n",
              "3 N         Y              203\n",
              "4 Y                          1\n",
              "5 Y         N              146\n",
              "6 Y         Y               28"
            ]
          },
          "metadata": {}
        }
      ]
    },
    {
      "cell_type": "markdown",
      "source": [
        "Alternatively, you can use `group_by` and `summarise` along with the `n` summary function, but this is approach results in needlessly complicated code."
      ],
      "metadata": {
        "id": "YDhn5HQ85FlT"
      }
    },
    {
      "cell_type": "code",
      "source": [
        "(births\n",
        " %>% group_by(Low.Birth, Mother.Smoker)\n",
        " %>% summarize(cnt = n())\n",
        " )"
      ],
      "metadata": {
        "colab": {
          "base_uri": "https://localhost:8080/",
          "height": 341
        },
        "id": "iDHsMVQk5B2P",
        "outputId": "9f394ec7-c6cd-4f97-f64d-72577664c28b"
      },
      "execution_count": 17,
      "outputs": [
        {
          "output_type": "stream",
          "name": "stderr",
          "text": [
            "\u001b[1m\u001b[22m`summarise()` has grouped output by 'Low.Birth'. You can override using the\n",
            "`.groups` argument.\n"
          ]
        },
        {
          "output_type": "display_data",
          "data": {
            "text/html": [
              "<table class=\"dataframe\">\n",
              "<caption>A grouped_df: 6 × 3</caption>\n",
              "<thead>\n",
              "\t<tr><th scope=col>Low.Birth</th><th scope=col>Mother.Smoker</th><th scope=col>cnt</th></tr>\n",
              "\t<tr><th scope=col>&lt;chr&gt;</th><th scope=col>&lt;chr&gt;</th><th scope=col>&lt;int&gt;</th></tr>\n",
              "</thead>\n",
              "<tbody>\n",
              "\t<tr><td>N</td><td> </td><td>   7</td></tr>\n",
              "\t<tr><td>N</td><td>N</td><td>1615</td></tr>\n",
              "\t<tr><td>N</td><td>Y</td><td> 203</td></tr>\n",
              "\t<tr><td>Y</td><td> </td><td>   1</td></tr>\n",
              "\t<tr><td>Y</td><td>N</td><td> 146</td></tr>\n",
              "\t<tr><td>Y</td><td>Y</td><td>  28</td></tr>\n",
              "</tbody>\n",
              "</table>\n"
            ],
            "text/markdown": "\nA grouped_df: 6 × 3\n\n| Low.Birth &lt;chr&gt; | Mother.Smoker &lt;chr&gt; | cnt &lt;int&gt; |\n|---|---|---|\n| N | <!----> |    7 |\n| N | N | 1615 |\n| N | Y |  203 |\n| Y | <!----> |    1 |\n| Y | N |  146 |\n| Y | Y |   28 |\n\n",
            "text/latex": "A grouped\\_df: 6 × 3\n\\begin{tabular}{lll}\n Low.Birth & Mother.Smoker & cnt\\\\\n <chr> & <chr> & <int>\\\\\n\\hline\n\t N &   &    7\\\\\n\t N & N & 1615\\\\\n\t N & Y &  203\\\\\n\t Y &   &    1\\\\\n\t Y & N &  146\\\\\n\t Y & Y &   28\\\\\n\\end{tabular}\n",
            "text/plain": [
              "  Low.Birth Mother.Smoker cnt \n",
              "1 N                          7\n",
              "2 N         N             1615\n",
              "3 N         Y              203\n",
              "4 Y                          1\n",
              "5 Y         N              146\n",
              "6 Y         Y               28"
            ]
          },
          "metadata": {}
        }
      ]
    },
    {
      "cell_type": "markdown",
      "source": [
        "### Creating \"Row percents\" in R\n",
        "\n",
        "Suppose we want the percent of low birth *within* for each smoking status.  We can do this by using `mutate` with the `.by` argument to compute sums within each group."
      ],
      "metadata": {
        "id": "g6HvTOvY8Je9"
      }
    },
    {
      "cell_type": "code",
      "source": [
        "(births\n",
        " %>% count(Mother.Smoker, Low.Birth)\n",
        " %>% mutate(cnt_within_smoker = sum(n),\n",
        "            .by = Mother.Smoker)\n",
        " %>% mutate(percent_within_smoker = n/cnt_within_smoker*100)\n",
        " )"
      ],
      "metadata": {
        "id": "qIOsCK5H8iGr",
        "outputId": "89a9114f-7a09-4edc-c19d-79cfc68c1c8d",
        "colab": {
          "base_uri": "https://localhost:8080/"
        }
      },
      "execution_count": 49,
      "outputs": [
        {
          "output_type": "display_data",
          "data": {
            "text/html": [
              "<table class=\"dataframe\">\n",
              "<caption>A data.frame: 6 × 5</caption>\n",
              "<thead>\n",
              "\t<tr><th scope=col>Mother.Smoker</th><th scope=col>Low.Birth</th><th scope=col>n</th><th scope=col>cnt_within_smoker</th><th scope=col>percent_within_smoker</th></tr>\n",
              "\t<tr><th scope=col>&lt;chr&gt;</th><th scope=col>&lt;chr&gt;</th><th scope=col>&lt;int&gt;</th><th scope=col>&lt;int&gt;</th><th scope=col>&lt;dbl&gt;</th></tr>\n",
              "</thead>\n",
              "<tbody>\n",
              "\t<tr><td> </td><td>N</td><td>   7</td><td>   8</td><td>87.500000</td></tr>\n",
              "\t<tr><td> </td><td>Y</td><td>   1</td><td>   8</td><td>12.500000</td></tr>\n",
              "\t<tr><td>N</td><td>N</td><td>1615</td><td>1761</td><td>91.709256</td></tr>\n",
              "\t<tr><td>N</td><td>Y</td><td> 146</td><td>1761</td><td> 8.290744</td></tr>\n",
              "\t<tr><td>Y</td><td>N</td><td> 203</td><td> 231</td><td>87.878788</td></tr>\n",
              "\t<tr><td>Y</td><td>Y</td><td>  28</td><td> 231</td><td>12.121212</td></tr>\n",
              "</tbody>\n",
              "</table>\n"
            ],
            "text/markdown": "\nA data.frame: 6 × 5\n\n| Mother.Smoker &lt;chr&gt; | Low.Birth &lt;chr&gt; | n &lt;int&gt; | cnt_within_smoker &lt;int&gt; | percent_within_smoker &lt;dbl&gt; |\n|---|---|---|---|---|\n| <!----> | N |    7 |    8 | 87.500000 |\n| <!----> | Y |    1 |    8 | 12.500000 |\n| N | N | 1615 | 1761 | 91.709256 |\n| N | Y |  146 | 1761 |  8.290744 |\n| Y | N |  203 |  231 | 87.878788 |\n| Y | Y |   28 |  231 | 12.121212 |\n\n",
            "text/latex": "A data.frame: 6 × 5\n\\begin{tabular}{lllll}\n Mother.Smoker & Low.Birth & n & cnt\\_within\\_smoker & percent\\_within\\_smoker\\\\\n <chr> & <chr> & <int> & <int> & <dbl>\\\\\n\\hline\n\t   & N &    7 &    8 & 87.500000\\\\\n\t   & Y &    1 &    8 & 12.500000\\\\\n\t N & N & 1615 & 1761 & 91.709256\\\\\n\t N & Y &  146 & 1761 &  8.290744\\\\\n\t Y & N &  203 &  231 & 87.878788\\\\\n\t Y & Y &   28 &  231 & 12.121212\\\\\n\\end{tabular}\n",
            "text/plain": [
              "  Mother.Smoker Low.Birth n    cnt_within_smoker percent_within_smoker\n",
              "1               N            7    8              87.500000            \n",
              "2               Y            1    8              12.500000            \n",
              "3 N             N         1615 1761              91.709256            \n",
              "4 N             Y          146 1761               8.290744            \n",
              "5 Y             N          203  231              87.878788            \n",
              "6 Y             Y           28  231              12.121212            "
            ]
          },
          "metadata": {}
        }
      ]
    },
    {
      "cell_type": "markdown",
      "metadata": {
        "id": "qWTn11zr2fiU"
      },
      "source": [
        "## <font color=\"red\"> Exercise 6.3.2 </font>\n",
        "\n",
        "Use `count` and `mutate` with `.by` to perform each of the following tasks.\n",
        "\n",
        "**Tasks:**\n",
        "\n",
        "1. Use `count` to compute the counts for each combination of [Kotelchuck index](https://www-doh.state.nj.us/doh-shad/query/Kotelchuck.html)(`Kotelchuck.Index`) and low birth weight (`Low.Birth`).\n",
        "2. Compute the counts and row percents when the explanatory variable is the Kotelchuck index (`Kotelchuck.Index`) and the response variable is whether or not there was a low birth weight (`Low.Birth`).  <font size=1>In other words, we want to compute the counts and percents <i>within<i> the Kotelcheck index</font>"
      ]
    },
    {
      "cell_type": "code",
      "execution_count": null,
      "metadata": {
        "id": "jzLbQJ462fiU"
      },
      "outputs": [],
      "source": [
        "# Your code here"
      ]
    },
    {
      "cell_type": "markdown",
      "metadata": {
        "id": "Le0oq0vw2fiV"
      },
      "source": [
        "# Translating JMP to `dplyr/tidyr`"
      ]
    },
    {
      "cell_type": "markdown",
      "metadata": {
        "id": "P8oz_a582fiV"
      },
      "source": [
        "### Simple Aggregations"
      ]
    },
    {
      "cell_type": "markdown",
      "metadata": {
        "id": "UTQyt41A2fiW"
      },
      "source": [
        "```{r}\n",
        "surveys %>%\n",
        "  summarize(\n",
        "    avg_wgt = mean(weight,\n",
        "                   na.rm = TRUE))\n",
        "```"
      ]
    },
    {
      "cell_type": "markdown",
      "metadata": {
        "id": "ZQWQiy4r2fiW"
      },
      "source": [
        "<img width=\"850\" src=\"https://raw.githubusercontent.com/WSU-DataScience/DSCI_210_R_notebooks/main/img/simple_aggregation_1.png\">"
      ]
    },
    {
      "cell_type": "markdown",
      "metadata": {
        "id": "oGIKNiqk2fiW"
      },
      "source": [
        "<img width=\"850\" src=\"https://raw.githubusercontent.com/WSU-DataScience/DSCI_210_R_notebooks/main/img/simple_aggregation_2.png\">"
      ]
    },
    {
      "cell_type": "markdown",
      "metadata": {
        "id": "Il017A0e2fiW"
      },
      "source": [
        "### Group and Aggregate"
      ]
    },
    {
      "cell_type": "markdown",
      "metadata": {
        "id": "yy_KTwzu2fiX"
      },
      "source": [
        "```{r}\n",
        "grp_agg <-\n",
        "  surveys %>%\n",
        "    group_by(taxa) %>%\n",
        "    summarize(avg = mean(weight, na.rm = TRUE))\n",
        "grp_agg\n",
        "```"
      ]
    },
    {
      "cell_type": "markdown",
      "metadata": {
        "id": "OiiEuhk32fiX"
      },
      "source": [
        "<img width=\"850\" src=\"https://raw.githubusercontent.com/WSU-DataScience/DSCI_210_R_notebooks/main/img/group_and_aggregate_0.png\">"
      ]
    },
    {
      "cell_type": "markdown",
      "metadata": {
        "id": "5aguw6ID2fiX"
      },
      "source": [
        "<img width=\"850\" src=\"https://raw.githubusercontent.com/WSU-DataScience/DSCI_210_R_notebooks/main/img/group_and_aggregate_1.png\">"
      ]
    },
    {
      "cell_type": "markdown",
      "metadata": {
        "id": "gQgT_cW12fiX"
      },
      "source": [
        "<img width=\"850\" src=\"https://raw.githubusercontent.com/WSU-DataScience/DSCI_210_R_notebooks/main/img/group_and_aggregate_2.png\">"
      ]
    },
    {
      "cell_type": "markdown",
      "metadata": {
        "id": "hDIbz-Jr2fiX"
      },
      "source": [
        "### Multiple Group Variables\n",
        "\n",
        "<img width=\"850\" src=\"https://raw.githubusercontent.com/WSU-DataScience/DSCI_210_R_notebooks/main/img/grp2_agg.PNG\">"
      ]
    }
  ],
  "metadata": {
    "kernelspec": {
      "display_name": "R",
      "language": "R",
      "name": "ir"
    },
    "language_info": {
      "codemirror_mode": "r",
      "file_extension": ".r",
      "mimetype": "text/x-r-source",
      "name": "R",
      "pygments_lexer": "r",
      "version": "3.5.1"
    },
    "colab": {
      "provenance": [],
      "include_colab_link": true
    }
  },
  "nbformat": 4,
  "nbformat_minor": 0
}