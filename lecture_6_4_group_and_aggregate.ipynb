{
 "cells": [
  {
   "cell_type": "markdown",
   "metadata": {},
   "source": [
    "# Grouping and Aggregating in R"
   ]
  },
  {
   "cell_type": "code",
   "execution_count": 1,
   "metadata": {},
   "outputs": [
    {
     "name": "stderr",
     "output_type": "stream",
     "text": [
      "\n",
      "Attaching package: ‘dplyr’\n",
      "\n",
      "The following objects are masked from ‘package:stats’:\n",
      "\n",
      "    filter, lag\n",
      "\n",
      "The following objects are masked from ‘package:base’:\n",
      "\n",
      "    intersect, setdiff, setequal, union\n",
      "\n"
     ]
    }
   ],
   "source": [
    "library(dplyr)"
   ]
  },
  {
   "cell_type": "code",
   "execution_count": 2,
   "metadata": {},
   "outputs": [
    {
     "data": {
      "text/html": [
       "<table>\n",
       "<thead><tr><th scope=col>Father.Minority</th><th scope=col>Father.Age</th><th scope=col>Father.Years.of.Education</th><th scope=col>Mother.Minority</th><th scope=col>Mother.Age</th><th scope=col>Mother.Years.of.Education</th><th scope=col>Marital.Status</th><th scope=col>Mother.Smoker</th><th scope=col>Mother.Avg.Cigs</th><th scope=col>Mother.Weight.Gain</th><th scope=col>⋯</th><th scope=col>Month.of.Birth</th><th scope=col>Day.of.Birth</th><th scope=col>Gender</th><th scope=col>Number.of.Prenatal.Visits</th><th scope=col>Kotelchuck.Index</th><th scope=col>Gestational.Age</th><th scope=col>Birth.Weight.Grams</th><th scope=col>Low.Birth</th><th scope=col>Apgar.Score.One.Minute</th><th scope=col>Apgar.Score.Five.Minutes</th></tr></thead>\n",
       "<tbody>\n",
       "\t<tr><td>Nonwhite      </td><td>50            </td><td>12            </td><td>White         </td><td>24            </td><td>15            </td><td>Unmarried     </td><td>N             </td><td> 0            </td><td>50            </td><td>⋯             </td><td> 2            </td><td>23            </td><td>Female        </td><td>10            </td><td>3_Adequate    </td><td>38            </td><td>2866          </td><td>N             </td><td>9             </td><td>9             </td></tr>\n",
       "\t<tr><td>White         </td><td>19            </td><td> 9            </td><td>White         </td><td>18            </td><td> 9            </td><td>Unmarried     </td><td>Y             </td><td>23            </td><td>35            </td><td>⋯             </td><td> 1            </td><td>25            </td><td>Female        </td><td>9             </td><td>3_Adequate    </td><td>35            </td><td>3121          </td><td>N             </td><td>8             </td><td>9             </td></tr>\n",
       "\t<tr><td>White         </td><td>37            </td><td>17            </td><td>White         </td><td>35            </td><td>17            </td><td>Married       </td><td>N             </td><td> 0            </td><td>24            </td><td>⋯             </td><td> 1            </td><td>25            </td><td>Female        </td><td>20            </td><td>4_AdequatePlus</td><td>38            </td><td>2667          </td><td>N             </td><td>8             </td><td>9             </td></tr>\n",
       "\t<tr><td>              </td><td>NA            </td><td>NA            </td><td>Nonwhite      </td><td>22            </td><td>14            </td><td>Unmarried     </td><td>N             </td><td> 0            </td><td>33            </td><td>⋯             </td><td>11            </td><td>10            </td><td>Male          </td><td>15            </td><td>4_AdequatePlus</td><td>38            </td><td>2696          </td><td>N             </td><td>8             </td><td>9             </td></tr>\n",
       "\t<tr><td>Nonwhite      </td><td>39            </td><td>11            </td><td>Nonwhite      </td><td>31            </td><td>16            </td><td>Unmarried     </td><td>N             </td><td> 0            </td><td>30            </td><td>⋯             </td><td> 5            </td><td>18            </td><td>Female        </td><td>12            </td><td>1_Inadequate  </td><td>38            </td><td>2979          </td><td>N             </td><td>4             </td><td>9             </td></tr>\n",
       "\t<tr><td>White         </td><td>20            </td><td>11            </td><td>Nonwhite      </td><td>19            </td><td>12            </td><td>Unmarried     </td><td>N             </td><td> 0            </td><td>10            </td><td>⋯             </td><td>11            </td><td> 6            </td><td>Male          </td><td>10            </td><td>4_AdequatePlus</td><td>36            </td><td>3036          </td><td>N             </td><td>9             </td><td>9             </td></tr>\n",
       "</tbody>\n",
       "</table>\n"
      ],
      "text/latex": [
       "\\begin{tabular}{r|lllllllllllllllllllllll}\n",
       " Father.Minority & Father.Age & Father.Years.of.Education & Mother.Minority & Mother.Age & Mother.Years.of.Education & Marital.Status & Mother.Smoker & Mother.Avg.Cigs & Mother.Weight.Gain & ⋯ & Month.of.Birth & Day.of.Birth & Gender & Number.of.Prenatal.Visits & Kotelchuck.Index & Gestational.Age & Birth.Weight.Grams & Low.Birth & Apgar.Score.One.Minute & Apgar.Score.Five.Minutes\\\\\n",
       "\\hline\n",
       "\t Nonwhite         & 50               & 12               & White            & 24               & 15               & Unmarried        & N                &  0               & 50               & ⋯                &  2               & 23               & Female           & 10               & 3\\_Adequate     & 38               & 2866             & N                & 9                & 9               \\\\\n",
       "\t White            & 19               &  9               & White            & 18               &  9               & Unmarried        & Y                & 23               & 35               & ⋯                &  1               & 25               & Female           & 9                & 3\\_Adequate     & 35               & 3121             & N                & 8                & 9               \\\\\n",
       "\t White            & 37               & 17               & White            & 35               & 17               & Married          & N                &  0               & 24               & ⋯                &  1               & 25               & Female           & 20               & 4\\_AdequatePlus & 38               & 2667             & N                & 8                & 9               \\\\\n",
       "\t                  & NA               & NA               & Nonwhite         & 22               & 14               & Unmarried        & N                &  0               & 33               & ⋯                & 11               & 10               & Male             & 15               & 4\\_AdequatePlus & 38               & 2696             & N                & 8                & 9               \\\\\n",
       "\t Nonwhite         & 39               & 11               & Nonwhite         & 31               & 16               & Unmarried        & N                &  0               & 30               & ⋯                &  5               & 18               & Female           & 12               & 1\\_Inadequate   & 38               & 2979             & N                & 4                & 9               \\\\\n",
       "\t White            & 20               & 11               & Nonwhite         & 19               & 12               & Unmarried        & N                &  0               & 10               & ⋯                & 11               &  6               & Male             & 10               & 4\\_AdequatePlus & 36               & 3036             & N                & 9                & 9               \\\\\n",
       "\\end{tabular}\n"
      ],
      "text/markdown": [
       "\n",
       "Father.Minority | Father.Age | Father.Years.of.Education | Mother.Minority | Mother.Age | Mother.Years.of.Education | Marital.Status | Mother.Smoker | Mother.Avg.Cigs | Mother.Weight.Gain | ⋯ | Month.of.Birth | Day.of.Birth | Gender | Number.of.Prenatal.Visits | Kotelchuck.Index | Gestational.Age | Birth.Weight.Grams | Low.Birth | Apgar.Score.One.Minute | Apgar.Score.Five.Minutes | \n",
       "|---|---|---|---|---|---|\n",
       "| Nonwhite       | 50             | 12             | White          | 24             | 15             | Unmarried      | N              |  0             | 50             | ⋯              |  2             | 23             | Female         | 10             | 3_Adequate     | 38             | 2866           | N              | 9              | 9              | \n",
       "| White          | 19             |  9             | White          | 18             |  9             | Unmarried      | Y              | 23             | 35             | ⋯              |  1             | 25             | Female         | 9              | 3_Adequate     | 35             | 3121           | N              | 8              | 9              | \n",
       "| White          | 37             | 17             | White          | 35             | 17             | Married        | N              |  0             | 24             | ⋯              |  1             | 25             | Female         | 20             | 4_AdequatePlus | 38             | 2667           | N              | 8              | 9              | \n",
       "|                | NA             | NA             | Nonwhite       | 22             | 14             | Unmarried      | N              |  0             | 33             | ⋯              | 11             | 10             | Male           | 15             | 4_AdequatePlus | 38             | 2696           | N              | 8              | 9              | \n",
       "| Nonwhite       | 39             | 11             | Nonwhite       | 31             | 16             | Unmarried      | N              |  0             | 30             | ⋯              |  5             | 18             | Female         | 12             | 1_Inadequate   | 38             | 2979           | N              | 4              | 9              | \n",
       "| White          | 20             | 11             | Nonwhite       | 19             | 12             | Unmarried      | N              |  0             | 10             | ⋯              | 11             |  6             | Male           | 10             | 4_AdequatePlus | 36             | 3036           | N              | 9              | 9              | \n",
       "\n",
       "\n"
      ],
      "text/plain": [
       "  Father.Minority Father.Age Father.Years.of.Education Mother.Minority\n",
       "1 Nonwhite        50         12                        White          \n",
       "2 White           19          9                        White          \n",
       "3 White           37         17                        White          \n",
       "4                 NA         NA                        Nonwhite       \n",
       "5 Nonwhite        39         11                        Nonwhite       \n",
       "6 White           20         11                        Nonwhite       \n",
       "  Mother.Age Mother.Years.of.Education Marital.Status Mother.Smoker\n",
       "1 24         15                        Unmarried      N            \n",
       "2 18          9                        Unmarried      Y            \n",
       "3 35         17                        Married        N            \n",
       "4 22         14                        Unmarried      N            \n",
       "5 31         16                        Unmarried      N            \n",
       "6 19         12                        Unmarried      N            \n",
       "  Mother.Avg.Cigs Mother.Weight.Gain ⋯ Month.of.Birth Day.of.Birth Gender\n",
       "1  0              50                 ⋯  2             23           Female\n",
       "2 23              35                 ⋯  1             25           Female\n",
       "3  0              24                 ⋯  1             25           Female\n",
       "4  0              33                 ⋯ 11             10           Male  \n",
       "5  0              30                 ⋯  5             18           Female\n",
       "6  0              10                 ⋯ 11              6           Male  \n",
       "  Number.of.Prenatal.Visits Kotelchuck.Index Gestational.Age Birth.Weight.Grams\n",
       "1 10                        3_Adequate       38              2866              \n",
       "2 9                         3_Adequate       35              3121              \n",
       "3 20                        4_AdequatePlus   38              2667              \n",
       "4 15                        4_AdequatePlus   38              2696              \n",
       "5 12                        1_Inadequate     38              2979              \n",
       "6 10                        4_AdequatePlus   36              3036              \n",
       "  Low.Birth Apgar.Score.One.Minute Apgar.Score.Five.Minutes\n",
       "1 N         9                      9                       \n",
       "2 N         8                      9                       \n",
       "3 N         8                      9                       \n",
       "4 N         8                      9                       \n",
       "5 N         4                      9                       \n",
       "6 N         9                      9                       "
      ]
     },
     "metadata": {},
     "output_type": "display_data"
    }
   ],
   "source": [
    "births <- read.csv('https://github.com/WSU-DataScience/DSCI_210_R_notebooks/raw/main/data/NC_Birth.csv')\n",
    "head(births)"
   ]
  },
  {
   "cell_type": "markdown",
   "metadata": {},
   "source": [
    "# Outline\n",
    "\n",
    "* Numeric transformations\n",
    "* String transformations"
   ]
  },
  {
   "cell_type": "markdown",
   "metadata": {},
   "source": [
    "# Aggregation"
   ]
  },
  {
   "cell_type": "markdown",
   "metadata": {},
   "source": [
    "### Simple aggregation "
   ]
  },
  {
   "cell_type": "markdown",
   "metadata": {},
   "source": [
    "#### `NA + 1 == NA` in R"
   ]
  },
  {
   "cell_type": "code",
   "execution_count": 3,
   "metadata": {},
   "outputs": [
    {
     "data": {
      "text/html": [
       "<table>\n",
       "<thead><tr><th scope=col>avg_father_educ</th></tr></thead>\n",
       "<tbody>\n",
       "\t<tr><td>NA</td></tr>\n",
       "</tbody>\n",
       "</table>\n"
      ],
      "text/latex": [
       "\\begin{tabular}{r|l}\n",
       " avg\\_father\\_educ\\\\\n",
       "\\hline\n",
       "\t NA\\\\\n",
       "\\end{tabular}\n"
      ],
      "text/markdown": [
       "\n",
       "avg_father_educ | \n",
       "|---|\n",
       "| NA | \n",
       "\n",
       "\n"
      ],
      "text/plain": [
       "  avg_father_educ\n",
       "1 NA             "
      ]
     },
     "metadata": {},
     "output_type": "display_data"
    }
   ],
   "source": [
    "(births \n",
    " %>% summarize(avg_father_educ = mean(Father.Years.of.Education))\n",
    " )"
   ]
  },
  {
   "cell_type": "markdown",
   "metadata": {},
   "source": [
    "#### Option 1 -- Filter out incomplete rows"
   ]
  },
  {
   "cell_type": "code",
   "execution_count": 4,
   "metadata": {},
   "outputs": [
    {
     "data": {
      "text/html": [
       "<table>\n",
       "<thead><tr><th scope=col>avg_father_educ</th></tr></thead>\n",
       "<tbody>\n",
       "\t<tr><td>12.79394</td></tr>\n",
       "</tbody>\n",
       "</table>\n"
      ],
      "text/latex": [
       "\\begin{tabular}{r|l}\n",
       " avg\\_father\\_educ\\\\\n",
       "\\hline\n",
       "\t 12.79394\\\\\n",
       "\\end{tabular}\n"
      ],
      "text/markdown": [
       "\n",
       "avg_father_educ | \n",
       "|---|\n",
       "| 12.79394 | \n",
       "\n",
       "\n"
      ],
      "text/plain": [
       "  avg_father_educ\n",
       "1 12.79394       "
      ]
     },
     "metadata": {},
     "output_type": "display_data"
    }
   ],
   "source": [
    "(births \n",
    " %>% filter(complete.cases(Father.Years.of.Education)) \n",
    " %>% summarize(avg_father_educ = mean(Father.Years.of.Education))\n",
    " )"
   ]
  },
  {
   "cell_type": "markdown",
   "metadata": {},
   "source": [
    "#### Option 2 -- set `na.rm=TRUE`"
   ]
  },
  {
   "cell_type": "code",
   "execution_count": 5,
   "metadata": {},
   "outputs": [
    {
     "data": {
      "text/html": [
       "<table>\n",
       "<thead><tr><th scope=col>avg_father_educ</th></tr></thead>\n",
       "<tbody>\n",
       "\t<tr><td>12.79394</td></tr>\n",
       "</tbody>\n",
       "</table>\n"
      ],
      "text/latex": [
       "\\begin{tabular}{r|l}\n",
       " avg\\_father\\_educ\\\\\n",
       "\\hline\n",
       "\t 12.79394\\\\\n",
       "\\end{tabular}\n"
      ],
      "text/markdown": [
       "\n",
       "avg_father_educ | \n",
       "|---|\n",
       "| 12.79394 | \n",
       "\n",
       "\n"
      ],
      "text/plain": [
       "  avg_father_educ\n",
       "1 12.79394       "
      ]
     },
     "metadata": {},
     "output_type": "display_data"
    }
   ],
   "source": [
    "(births \n",
    " %>% summarize(avg_father_educ = mean(Father.Years.of.Education, na.rm = TRUE))\n",
    " )"
   ]
  },
  {
   "cell_type": "markdown",
   "metadata": {},
   "source": [
    "### Grouped aggregation\n",
    "\n",
    "***One grouping variable:***"
   ]
  },
  {
   "cell_type": "code",
   "execution_count": 6,
   "metadata": {},
   "outputs": [
    {
     "name": "stderr",
     "output_type": "stream",
     "text": [
      "`summarise()` ungrouping output (override with `.groups` argument)\n"
     ]
    },
    {
     "data": {
      "text/html": [
       "<table>\n",
       "<thead><tr><th scope=col>Gender</th><th scope=col>avg_wt</th></tr></thead>\n",
       "<tbody>\n",
       "\t<tr><td>Female  </td><td>3203.117</td></tr>\n",
       "\t<tr><td>Male    </td><td>3279.816</td></tr>\n",
       "</tbody>\n",
       "</table>\n"
      ],
      "text/latex": [
       "\\begin{tabular}{r|ll}\n",
       " Gender & avg\\_wt\\\\\n",
       "\\hline\n",
       "\t Female   & 3203.117\\\\\n",
       "\t Male     & 3279.816\\\\\n",
       "\\end{tabular}\n"
      ],
      "text/markdown": [
       "\n",
       "Gender | avg_wt | \n",
       "|---|---|\n",
       "| Female   | 3203.117 | \n",
       "| Male     | 3279.816 | \n",
       "\n",
       "\n"
      ],
      "text/plain": [
       "  Gender avg_wt  \n",
       "1 Female 3203.117\n",
       "2 Male   3279.816"
      ]
     },
     "metadata": {},
     "output_type": "display_data"
    }
   ],
   "source": [
    "(births \n",
    " %>% group_by(Gender) \n",
    " %>% summarize(avg_wt = mean(Birth.Weight.Grams, na.rm = TRUE))\n",
    " )"
   ]
  },
  {
   "cell_type": "markdown",
   "metadata": {},
   "source": [
    "***Two grouping variables:***"
   ]
  },
  {
   "cell_type": "code",
   "execution_count": 7,
   "metadata": {},
   "outputs": [
    {
     "name": "stderr",
     "output_type": "stream",
     "text": [
      "`summarise()` regrouping output by 'Gender' (override with `.groups` argument)\n"
     ]
    },
    {
     "data": {
      "text/html": [
       "<table>\n",
       "<thead><tr><th scope=col>Gender</th><th scope=col>Marital.Status</th><th scope=col>avg_wt</th></tr></thead>\n",
       "<tbody>\n",
       "\t<tr><td>Female   </td><td>Married  </td><td>3249.788 </td></tr>\n",
       "\t<tr><td>Female   </td><td>Unmarried</td><td>3137.405 </td></tr>\n",
       "\t<tr><td>Male     </td><td>Married  </td><td>3321.245 </td></tr>\n",
       "\t<tr><td>Male     </td><td>Unmarried</td><td>3219.448 </td></tr>\n",
       "</tbody>\n",
       "</table>\n"
      ],
      "text/latex": [
       "\\begin{tabular}{r|lll}\n",
       " Gender & Marital.Status & avg\\_wt\\\\\n",
       "\\hline\n",
       "\t Female    & Married   & 3249.788 \\\\\n",
       "\t Female    & Unmarried & 3137.405 \\\\\n",
       "\t Male      & Married   & 3321.245 \\\\\n",
       "\t Male      & Unmarried & 3219.448 \\\\\n",
       "\\end{tabular}\n"
      ],
      "text/markdown": [
       "\n",
       "Gender | Marital.Status | avg_wt | \n",
       "|---|---|---|---|\n",
       "| Female    | Married   | 3249.788  | \n",
       "| Female    | Unmarried | 3137.405  | \n",
       "| Male      | Married   | 3321.245  | \n",
       "| Male      | Unmarried | 3219.448  | \n",
       "\n",
       "\n"
      ],
      "text/plain": [
       "  Gender Marital.Status avg_wt  \n",
       "1 Female Married        3249.788\n",
       "2 Female Unmarried      3137.405\n",
       "3 Male   Married        3321.245\n",
       "4 Male   Unmarried      3219.448"
      ]
     },
     "metadata": {},
     "output_type": "display_data"
    }
   ],
   "source": [
    "(births \n",
    " %>% group_by(Gender, Marital.Status) \n",
    " %>% summarize(avg_wt = mean(Birth.Weight.Grams, na.rm = TRUE))\n",
    " )"
   ]
  },
  {
   "cell_type": "markdown",
   "metadata": {},
   "source": [
    "## <font color=\"red\"> Exercise 6.3.1 </font>\n",
    "\n",
    "Use `group_by` and/or `summarise` to perform each of the following tasks.\n",
    "\n",
    "**Tasks:**\n",
    "\n",
    "1. Compute the overall average (`mean`) and standard deviation(`sd`) of the birth weights (`Birth.Weight.Grams`)\n",
    "1. Compute the overall average (`mean`) and standard deviation(`sd`) of the birth weights (`Birth.Weight.Grams`) for each category of mother's smoking status (`Mother.Smoker`)"
   ]
  },
  {
   "cell_type": "code",
   "execution_count": 8,
   "metadata": {},
   "outputs": [],
   "source": [
    "# Your code here"
   ]
  },
  {
   "cell_type": "markdown",
   "metadata": {},
   "source": [
    "## Working with a Categorical Response\n",
    "\n",
    "Similar to the deficiencies we pointed out with JMP's **Table > Summary**, \n",
    "`dplyr` makes us work when creating two way summary tables for two categorical variables."
   ]
  },
  {
   "cell_type": "markdown",
   "metadata": {},
   "source": [
    "### Getting category counts\n",
    "\n",
    "It is relatively easy to get counts for a single or combination of categorical variables using the `n` summary function."
   ]
  },
  {
   "cell_type": "code",
   "execution_count": 9,
   "metadata": {},
   "outputs": [
    {
     "name": "stderr",
     "output_type": "stream",
     "text": [
      "`summarise()` regrouping output by 'Low.Birth' (override with `.groups` argument)\n"
     ]
    },
    {
     "data": {
      "text/html": [
       "<table>\n",
       "<thead><tr><th scope=col>Low.Birth</th><th scope=col>Mother.Smoker</th><th scope=col>cnt</th></tr></thead>\n",
       "<tbody>\n",
       "\t<tr><td>N   </td><td>    </td><td>   7</td></tr>\n",
       "\t<tr><td>N   </td><td>N   </td><td>1615</td></tr>\n",
       "\t<tr><td>N   </td><td>Y   </td><td> 203</td></tr>\n",
       "\t<tr><td>Y   </td><td>    </td><td>   1</td></tr>\n",
       "\t<tr><td>Y   </td><td>N   </td><td> 146</td></tr>\n",
       "\t<tr><td>Y   </td><td>Y   </td><td>  28</td></tr>\n",
       "</tbody>\n",
       "</table>\n"
      ],
      "text/latex": [
       "\\begin{tabular}{r|lll}\n",
       " Low.Birth & Mother.Smoker & cnt\\\\\n",
       "\\hline\n",
       "\t N    &      &    7\\\\\n",
       "\t N    & N    & 1615\\\\\n",
       "\t N    & Y    &  203\\\\\n",
       "\t Y    &      &    1\\\\\n",
       "\t Y    & N    &  146\\\\\n",
       "\t Y    & Y    &   28\\\\\n",
       "\\end{tabular}\n"
      ],
      "text/markdown": [
       "\n",
       "Low.Birth | Mother.Smoker | cnt | \n",
       "|---|---|---|---|---|---|\n",
       "| N    |      |    7 | \n",
       "| N    | N    | 1615 | \n",
       "| N    | Y    |  203 | \n",
       "| Y    |      |    1 | \n",
       "| Y    | N    |  146 | \n",
       "| Y    | Y    |   28 | \n",
       "\n",
       "\n"
      ],
      "text/plain": [
       "  Low.Birth Mother.Smoker cnt \n",
       "1 N                          7\n",
       "2 N         N             1615\n",
       "3 N         Y              203\n",
       "4 Y                          1\n",
       "5 Y         N              146\n",
       "6 Y         Y               28"
      ]
     },
     "metadata": {},
     "output_type": "display_data"
    }
   ],
   "source": [
    "(births \n",
    " %>% group_by(Low.Birth, Mother.Smoker) \n",
    " %>% summarize(cnt = n())\n",
    " )"
   ]
  },
  {
   "cell_type": "markdown",
   "metadata": {},
   "source": [
    "### Creating a two-way table with counts and row percents\n",
    "\n",
    "Suppose that we want to summarize the relationship between an explanatory variable (Mother Smoker) and a response variable (Low Birth) in the usual way (explanatory variable in rows, summaries for the response variables in columns.  We can accomplish this by performing the following steps.\n",
    "\n",
    "1. Determine all unique categories\n",
    "2. Make indicator columns for each response category\n",
    "3. Group by the explanatory variable and aggregate the response to get the counts by summing\n",
    "4. Compute the row percents using the resulting counts"
   ]
  },
  {
   "cell_type": "markdown",
   "metadata": {},
   "source": [
    "#### Step 1A - Determine the categories of the variables "
   ]
  },
  {
   "cell_type": "code",
   "execution_count": 10,
   "metadata": {},
   "outputs": [
    {
     "name": "stderr",
     "output_type": "stream",
     "text": [
      "`summarise()` regrouping output by 'Low.Birth' (override with `.groups` argument)\n"
     ]
    },
    {
     "data": {
      "text/html": [
       "<table>\n",
       "<thead><tr><th scope=col>Low.Birth</th><th scope=col>Mother.Smoker</th><th scope=col>cnt</th></tr></thead>\n",
       "<tbody>\n",
       "\t<tr><td>N   </td><td>    </td><td>   7</td></tr>\n",
       "\t<tr><td>N   </td><td>N   </td><td>1615</td></tr>\n",
       "\t<tr><td>N   </td><td>Y   </td><td> 203</td></tr>\n",
       "\t<tr><td>Y   </td><td>    </td><td>   1</td></tr>\n",
       "\t<tr><td>Y   </td><td>N   </td><td> 146</td></tr>\n",
       "\t<tr><td>Y   </td><td>Y   </td><td>  28</td></tr>\n",
       "</tbody>\n",
       "</table>\n"
      ],
      "text/latex": [
       "\\begin{tabular}{r|lll}\n",
       " Low.Birth & Mother.Smoker & cnt\\\\\n",
       "\\hline\n",
       "\t N    &      &    7\\\\\n",
       "\t N    & N    & 1615\\\\\n",
       "\t N    & Y    &  203\\\\\n",
       "\t Y    &      &    1\\\\\n",
       "\t Y    & N    &  146\\\\\n",
       "\t Y    & Y    &   28\\\\\n",
       "\\end{tabular}\n"
      ],
      "text/markdown": [
       "\n",
       "Low.Birth | Mother.Smoker | cnt | \n",
       "|---|---|---|---|---|---|\n",
       "| N    |      |    7 | \n",
       "| N    | N    | 1615 | \n",
       "| N    | Y    |  203 | \n",
       "| Y    |      |    1 | \n",
       "| Y    | N    |  146 | \n",
       "| Y    | Y    |   28 | \n",
       "\n",
       "\n"
      ],
      "text/plain": [
       "  Low.Birth Mother.Smoker cnt \n",
       "1 N                          7\n",
       "2 N         N             1615\n",
       "3 N         Y              203\n",
       "4 Y                          1\n",
       "5 Y         N              146\n",
       "6 Y         Y               28"
      ]
     },
     "metadata": {},
     "output_type": "display_data"
    }
   ],
   "source": [
    "(births \n",
    " %>% group_by(Low.Birth, Mother.Smoker) \n",
    " %>% summarize(cnt = n())\n",
    " )"
   ]
  },
  {
   "cell_type": "markdown",
   "metadata": {},
   "source": [
    "#### Step 2A - Create indicator columns for each category of the response variable."
   ]
  },
  {
   "cell_type": "code",
   "execution_count": 11,
   "metadata": {},
   "outputs": [
    {
     "data": {
      "text/html": [
       "<table>\n",
       "<thead><tr><th scope=col>Mother.Smoker</th><th scope=col>Low.Birth</th><th scope=col>low_birth</th><th scope=col>not_low_birth</th></tr></thead>\n",
       "<tbody>\n",
       "\t<tr><td>N</td><td>N</td><td>0</td><td>1</td></tr>\n",
       "\t<tr><td>Y</td><td>N</td><td>0</td><td>1</td></tr>\n",
       "\t<tr><td>N</td><td>N</td><td>0</td><td>1</td></tr>\n",
       "\t<tr><td>N</td><td>N</td><td>0</td><td>1</td></tr>\n",
       "\t<tr><td>N</td><td>N</td><td>0</td><td>1</td></tr>\n",
       "\t<tr><td>N</td><td>N</td><td>0</td><td>1</td></tr>\n",
       "</tbody>\n",
       "</table>\n"
      ],
      "text/latex": [
       "\\begin{tabular}{r|llll}\n",
       " Mother.Smoker & Low.Birth & low\\_birth & not\\_low\\_birth\\\\\n",
       "\\hline\n",
       "\t N & N & 0 & 1\\\\\n",
       "\t Y & N & 0 & 1\\\\\n",
       "\t N & N & 0 & 1\\\\\n",
       "\t N & N & 0 & 1\\\\\n",
       "\t N & N & 0 & 1\\\\\n",
       "\t N & N & 0 & 1\\\\\n",
       "\\end{tabular}\n"
      ],
      "text/markdown": [
       "\n",
       "Mother.Smoker | Low.Birth | low_birth | not_low_birth | \n",
       "|---|---|---|---|---|---|\n",
       "| N | N | 0 | 1 | \n",
       "| Y | N | 0 | 1 | \n",
       "| N | N | 0 | 1 | \n",
       "| N | N | 0 | 1 | \n",
       "| N | N | 0 | 1 | \n",
       "| N | N | 0 | 1 | \n",
       "\n",
       "\n"
      ],
      "text/plain": [
       "  Mother.Smoker Low.Birth low_birth not_low_birth\n",
       "1 N             N         0         1            \n",
       "2 Y             N         0         1            \n",
       "3 N             N         0         1            \n",
       "4 N             N         0         1            \n",
       "5 N             N         0         1            \n",
       "6 N             N         0         1            "
      ]
     },
     "metadata": {},
     "output_type": "display_data"
    }
   ],
   "source": [
    "(births \n",
    " %>% select(Mother.Smoker, Low.Birth) # Temp. for convenient\n",
    " %>% mutate(low_birth = ifelse(Low.Birth=='Y',1,0),\n",
    "            not_low_birth = ifelse(Low.Birth=='N',1,0)) \n",
    " %>% head # Temp. for convenient\n",
    ")"
   ]
  },
  {
   "cell_type": "markdown",
   "metadata": {},
   "source": [
    "#### Step 3 - Compute the `sum` of each indicator"
   ]
  },
  {
   "cell_type": "code",
   "execution_count": 12,
   "metadata": {},
   "outputs": [
    {
     "name": "stderr",
     "output_type": "stream",
     "text": [
      "`summarise()` ungrouping output (override with `.groups` argument)\n"
     ]
    },
    {
     "data": {
      "text/html": [
       "<table>\n",
       "<thead><tr><th scope=col>Mother.Smoker</th><th scope=col>total_low_birth</th><th scope=col>total_not_low_birth</th></tr></thead>\n",
       "<tbody>\n",
       "\t<tr><td>    </td><td>  1 </td><td>   7</td></tr>\n",
       "\t<tr><td>N   </td><td>146 </td><td>1615</td></tr>\n",
       "\t<tr><td>Y   </td><td> 28 </td><td> 203</td></tr>\n",
       "</tbody>\n",
       "</table>\n"
      ],
      "text/latex": [
       "\\begin{tabular}{r|lll}\n",
       " Mother.Smoker & total\\_low\\_birth & total\\_not\\_low\\_birth\\\\\n",
       "\\hline\n",
       "\t      &   1  &    7\\\\\n",
       "\t N    & 146  & 1615\\\\\n",
       "\t Y    &  28  &  203\\\\\n",
       "\\end{tabular}\n"
      ],
      "text/markdown": [
       "\n",
       "Mother.Smoker | total_low_birth | total_not_low_birth | \n",
       "|---|---|---|\n",
       "|      |   1  |    7 | \n",
       "| N    | 146  | 1615 | \n",
       "| Y    |  28  |  203 | \n",
       "\n",
       "\n"
      ],
      "text/plain": [
       "  Mother.Smoker total_low_birth total_not_low_birth\n",
       "1                 1                7               \n",
       "2 N             146             1615               \n",
       "3 Y              28              203               "
      ]
     },
     "metadata": {},
     "output_type": "display_data"
    }
   ],
   "source": [
    "(births \n",
    " %>% mutate(low_birth = ifelse(Low.Birth=='Y',1,0),\n",
    "            not_low_birth = ifelse(Low.Birth=='N',1,0))\n",
    " %>% group_by(Mother.Smoker)\n",
    " %>% summarise(total_low_birth = sum(low_birth),\n",
    "               total_not_low_birth = sum(not_low_birth))\n",
    ")"
   ]
  },
  {
   "cell_type": "markdown",
   "metadata": {},
   "source": [
    "#### Step 4 - Compute the row percents"
   ]
  },
  {
   "cell_type": "code",
   "execution_count": 13,
   "metadata": {},
   "outputs": [
    {
     "name": "stderr",
     "output_type": "stream",
     "text": [
      "`summarise()` ungrouping output (override with `.groups` argument)\n"
     ]
    },
    {
     "data": {
      "text/html": [
       "<table>\n",
       "<thead><tr><th scope=col>Mother.Smoker</th><th scope=col>total_low_birth</th><th scope=col>total_not_low_birth</th><th scope=col>percent_low_birth</th><th scope=col>percent_not_low_birth</th></tr></thead>\n",
       "<tbody>\n",
       "\t<tr><td>    </td><td>  1 </td><td>   7</td><td>12.5</td><td>87.5</td></tr>\n",
       "\t<tr><td>N   </td><td>146 </td><td>1615</td><td> 8.3</td><td>91.7</td></tr>\n",
       "\t<tr><td>Y   </td><td> 28 </td><td> 203</td><td>12.1</td><td>87.9</td></tr>\n",
       "</tbody>\n",
       "</table>\n"
      ],
      "text/latex": [
       "\\begin{tabular}{r|lllll}\n",
       " Mother.Smoker & total\\_low\\_birth & total\\_not\\_low\\_birth & percent\\_low\\_birth & percent\\_not\\_low\\_birth\\\\\n",
       "\\hline\n",
       "\t      &   1  &    7 & 12.5 & 87.5\\\\\n",
       "\t N    & 146  & 1615 &  8.3 & 91.7\\\\\n",
       "\t Y    &  28  &  203 & 12.1 & 87.9\\\\\n",
       "\\end{tabular}\n"
      ],
      "text/markdown": [
       "\n",
       "Mother.Smoker | total_low_birth | total_not_low_birth | percent_low_birth | percent_not_low_birth | \n",
       "|---|---|---|\n",
       "|      |   1  |    7 | 12.5 | 87.5 | \n",
       "| N    | 146  | 1615 |  8.3 | 91.7 | \n",
       "| Y    |  28  |  203 | 12.1 | 87.9 | \n",
       "\n",
       "\n"
      ],
      "text/plain": [
       "  Mother.Smoker total_low_birth total_not_low_birth percent_low_birth\n",
       "1                 1                7                12.5             \n",
       "2 N             146             1615                 8.3             \n",
       "3 Y              28              203                12.1             \n",
       "  percent_not_low_birth\n",
       "1 87.5                 \n",
       "2 91.7                 \n",
       "3 87.9                 "
      ]
     },
     "metadata": {},
     "output_type": "display_data"
    }
   ],
   "source": [
    "(births \n",
    " %>% mutate(low_birth = ifelse(Low.Birth=='Y',1,0),\n",
    "            not_low_birth = ifelse(Low.Birth=='N',1,0))\n",
    " %>% group_by(Mother.Smoker)\n",
    " %>% summarise(total_low_birth = sum(low_birth),\n",
    "               total_not_low_birth = sum(not_low_birth))\n",
    " %>% mutate(percent_low_birth = round(total_low_birth/(total_low_birth + total_not_low_birth)*100, 1),\n",
    "            percent_not_low_birth = round(total_not_low_birth/(total_low_birth + total_not_low_birth)*100, 1))\n",
    ")"
   ]
  },
  {
   "cell_type": "markdown",
   "metadata": {},
   "source": [
    "#### [Optional] Step 5 - Make `NA` more readable"
   ]
  },
  {
   "cell_type": "code",
   "execution_count": 14,
   "metadata": {},
   "outputs": [
    {
     "name": "stderr",
     "output_type": "stream",
     "text": [
      "`summarise()` ungrouping output (override with `.groups` argument)\n"
     ]
    },
    {
     "data": {
      "text/html": [
       "<table>\n",
       "<thead><tr><th scope=col>Mother.Smoker</th><th scope=col>total_low_birth</th><th scope=col>total_not_low_birth</th><th scope=col>percent_low_birth</th><th scope=col>percent_not_low_birth</th></tr></thead>\n",
       "<tbody>\n",
       "\t<tr><td>Unknown</td><td>  1    </td><td>   7   </td><td>12.5   </td><td>87.5   </td></tr>\n",
       "\t<tr><td>N      </td><td>146    </td><td>1615   </td><td> 8.3   </td><td>91.7   </td></tr>\n",
       "\t<tr><td>Y      </td><td> 28    </td><td> 203   </td><td>12.1   </td><td>87.9   </td></tr>\n",
       "</tbody>\n",
       "</table>\n"
      ],
      "text/latex": [
       "\\begin{tabular}{r|lllll}\n",
       " Mother.Smoker & total\\_low\\_birth & total\\_not\\_low\\_birth & percent\\_low\\_birth & percent\\_not\\_low\\_birth\\\\\n",
       "\\hline\n",
       "\t Unknown &   1     &    7    & 12.5    & 87.5   \\\\\n",
       "\t N       & 146     & 1615    &  8.3    & 91.7   \\\\\n",
       "\t Y       &  28     &  203    & 12.1    & 87.9   \\\\\n",
       "\\end{tabular}\n"
      ],
      "text/markdown": [
       "\n",
       "Mother.Smoker | total_low_birth | total_not_low_birth | percent_low_birth | percent_not_low_birth | \n",
       "|---|---|---|\n",
       "| Unknown |   1     |    7    | 12.5    | 87.5    | \n",
       "| N       | 146     | 1615    |  8.3    | 91.7    | \n",
       "| Y       |  28     |  203    | 12.1    | 87.9    | \n",
       "\n",
       "\n"
      ],
      "text/plain": [
       "  Mother.Smoker total_low_birth total_not_low_birth percent_low_birth\n",
       "1 Unknown         1                7                12.5             \n",
       "2 N             146             1615                 8.3             \n",
       "3 Y              28              203                12.1             \n",
       "  percent_not_low_birth\n",
       "1 87.5                 \n",
       "2 91.7                 \n",
       "3 87.9                 "
      ]
     },
     "metadata": {},
     "output_type": "display_data"
    }
   ],
   "source": [
    "(births \n",
    " %>% mutate(low_birth = ifelse(Low.Birth=='Y',1,0),\n",
    "            not_low_birth = ifelse(Low.Birth=='N',1,0))\n",
    " %>% group_by(Mother.Smoker)\n",
    " %>% summarise(total_low_birth = sum(low_birth),\n",
    "               total_not_low_birth = sum(not_low_birth))\n",
    " %>% mutate(percent_low_birth = round(total_low_birth/(total_low_birth + total_not_low_birth)*100, 1),\n",
    "            percent_not_low_birth = round(total_not_low_birth/(total_low_birth + total_not_low_birth)*100, 1),\n",
    "            Mother.Smoker = recode(Mother.Smoker,\n",
    "                                   `Y` = 'Y',\n",
    "                                   `N` = 'N',\n",
    "                                   .default = \"Unknown\"))\n",
    ")"
   ]
  },
  {
   "cell_type": "markdown",
   "metadata": {},
   "source": [
    "## <font color=\"red\"> Exercise 6.3.2 </font>\n",
    "\n",
    "Use `group_by` and/or `summarise` to perform each of the following tasks.\n",
    "\n",
    "**Tasks:**\n",
    "\n",
    "1. Compute the counts (`n()`) for each category of the [Kotelchuck index](https://www-doh.state.nj.us/doh-shad/query/Kotelchuck.html) (`Kotelchuck.Index`)\n",
    "2. Compute the counts and row percents when the explanatory variable is the Kotelchuck index (`Kotelchuck.Index`) and the response variable is whether or not there was a low birth weight (`Low.Birth`)"
   ]
  },
  {
   "cell_type": "code",
   "execution_count": 15,
   "metadata": {},
   "outputs": [],
   "source": [
    "# Your code here"
   ]
  },
  {
   "cell_type": "markdown",
   "metadata": {},
   "source": [
    "***A mutate-group-aggregate-filter (note \"\" != NA):***"
   ]
  },
  {
   "cell_type": "code",
   "execution_count": 17,
   "metadata": {},
   "outputs": [
    {
     "data": {
      "text/html": [
       "<table>\n",
       "<thead><tr><th scope=col>record_id</th><th scope=col>month</th><th scope=col>day</th><th scope=col>year</th><th scope=col>plot_id</th><th scope=col>species_id</th><th scope=col>sex</th><th scope=col>hindfoot_length</th><th scope=col>weight</th><th scope=col>genus</th><th scope=col>species</th><th scope=col>taxa</th><th scope=col>plot_type</th></tr></thead>\n",
       "<tbody>\n",
       "\t<tr><td>  1     </td><td> 7      </td><td>16      </td><td>1977    </td><td>2       </td><td>NL      </td><td>M       </td><td>32      </td><td>NA      </td><td>Neotoma </td><td>albigula</td><td>Rodent  </td><td>Control </td></tr>\n",
       "\t<tr><td> 72     </td><td> 8      </td><td>19      </td><td>1977    </td><td>2       </td><td>NL      </td><td>M       </td><td>31      </td><td>NA      </td><td>Neotoma </td><td>albigula</td><td>Rodent  </td><td>Control </td></tr>\n",
       "\t<tr><td>224     </td><td> 9      </td><td>13      </td><td>1977    </td><td>2       </td><td>NL      </td><td>        </td><td>NA      </td><td>NA      </td><td>Neotoma </td><td>albigula</td><td>Rodent  </td><td>Control </td></tr>\n",
       "\t<tr><td>266     </td><td>10      </td><td>16      </td><td>1977    </td><td>2       </td><td>NL      </td><td>        </td><td>NA      </td><td>NA      </td><td>Neotoma </td><td>albigula</td><td>Rodent  </td><td>Control </td></tr>\n",
       "\t<tr><td>349     </td><td>11      </td><td>12      </td><td>1977    </td><td>2       </td><td>NL      </td><td>        </td><td>NA      </td><td>NA      </td><td>Neotoma </td><td>albigula</td><td>Rodent  </td><td>Control </td></tr>\n",
       "\t<tr><td>363     </td><td>11      </td><td>12      </td><td>1977    </td><td>2       </td><td>NL      </td><td>        </td><td>NA      </td><td>NA      </td><td>Neotoma </td><td>albigula</td><td>Rodent  </td><td>Control </td></tr>\n",
       "</tbody>\n",
       "</table>\n"
      ],
      "text/latex": [
       "\\begin{tabular}{r|lllllllllllll}\n",
       " record\\_id & month & day & year & plot\\_id & species\\_id & sex & hindfoot\\_length & weight & genus & species & taxa & plot\\_type\\\\\n",
       "\\hline\n",
       "\t   1      &  7       & 16       & 1977     & 2        & NL       & M        & 32       & NA       & Neotoma  & albigula & Rodent   & Control \\\\\n",
       "\t  72      &  8       & 19       & 1977     & 2        & NL       & M        & 31       & NA       & Neotoma  & albigula & Rodent   & Control \\\\\n",
       "\t 224      &  9       & 13       & 1977     & 2        & NL       &          & NA       & NA       & Neotoma  & albigula & Rodent   & Control \\\\\n",
       "\t 266      & 10       & 16       & 1977     & 2        & NL       &          & NA       & NA       & Neotoma  & albigula & Rodent   & Control \\\\\n",
       "\t 349      & 11       & 12       & 1977     & 2        & NL       &          & NA       & NA       & Neotoma  & albigula & Rodent   & Control \\\\\n",
       "\t 363      & 11       & 12       & 1977     & 2        & NL       &          & NA       & NA       & Neotoma  & albigula & Rodent   & Control \\\\\n",
       "\\end{tabular}\n"
      ],
      "text/markdown": [
       "\n",
       "record_id | month | day | year | plot_id | species_id | sex | hindfoot_length | weight | genus | species | taxa | plot_type | \n",
       "|---|---|---|---|---|---|\n",
       "|   1      |  7       | 16       | 1977     | 2        | NL       | M        | 32       | NA       | Neotoma  | albigula | Rodent   | Control  | \n",
       "|  72      |  8       | 19       | 1977     | 2        | NL       | M        | 31       | NA       | Neotoma  | albigula | Rodent   | Control  | \n",
       "| 224      |  9       | 13       | 1977     | 2        | NL       |          | NA       | NA       | Neotoma  | albigula | Rodent   | Control  | \n",
       "| 266      | 10       | 16       | 1977     | 2        | NL       |          | NA       | NA       | Neotoma  | albigula | Rodent   | Control  | \n",
       "| 349      | 11       | 12       | 1977     | 2        | NL       |          | NA       | NA       | Neotoma  | albigula | Rodent   | Control  | \n",
       "| 363      | 11       | 12       | 1977     | 2        | NL       |          | NA       | NA       | Neotoma  | albigula | Rodent   | Control  | \n",
       "\n",
       "\n"
      ],
      "text/plain": [
       "  record_id month day year plot_id species_id sex hindfoot_length weight\n",
       "1   1        7    16  1977 2       NL         M   32              NA    \n",
       "2  72        8    19  1977 2       NL         M   31              NA    \n",
       "3 224        9    13  1977 2       NL             NA              NA    \n",
       "4 266       10    16  1977 2       NL             NA              NA    \n",
       "5 349       11    12  1977 2       NL             NA              NA    \n",
       "6 363       11    12  1977 2       NL             NA              NA    \n",
       "  genus   species  taxa   plot_type\n",
       "1 Neotoma albigula Rodent Control  \n",
       "2 Neotoma albigula Rodent Control  \n",
       "3 Neotoma albigula Rodent Control  \n",
       "4 Neotoma albigula Rodent Control  \n",
       "5 Neotoma albigula Rodent Control  \n",
       "6 Neotoma albigula Rodent Control  "
      ]
     },
     "metadata": {},
     "output_type": "display_data"
    }
   ],
   "source": [
    "surveys <- read.csv('https://github.com/WSU-DataScience/DSCI_210_R_notebooks/raw/main/data/portal_data_joined.csv')\n",
    "head(surveys)"
   ]
  },
  {
   "cell_type": "code",
   "execution_count": 18,
   "metadata": {},
   "outputs": [
    {
     "name": "stderr",
     "output_type": "stream",
     "text": [
      "`summarise()` regrouping output by 'rodent' (override with `.groups` argument)\n"
     ]
    },
    {
     "data": {
      "text/html": [
       "<table>\n",
       "<thead><tr><th scope=col>rodent</th><th scope=col>sex</th><th scope=col>cnt</th><th scope=col>avg_wt</th></tr></thead>\n",
       "<tbody>\n",
       "\t<tr><td>yes     </td><td>F       </td><td>15690   </td><td>42.17055</td></tr>\n",
       "\t<tr><td>yes     </td><td>M       </td><td>17348   </td><td>42.99538</td></tr>\n",
       "</tbody>\n",
       "</table>\n"
      ],
      "text/latex": [
       "\\begin{tabular}{r|llll}\n",
       " rodent & sex & cnt & avg\\_wt\\\\\n",
       "\\hline\n",
       "\t yes      & F        & 15690    & 42.17055\\\\\n",
       "\t yes      & M        & 17348    & 42.99538\\\\\n",
       "\\end{tabular}\n"
      ],
      "text/markdown": [
       "\n",
       "rodent | sex | cnt | avg_wt | \n",
       "|---|---|\n",
       "| yes      | F        | 15690    | 42.17055 | \n",
       "| yes      | M        | 17348    | 42.99538 | \n",
       "\n",
       "\n"
      ],
      "text/plain": [
       "  rodent sex cnt   avg_wt  \n",
       "1 yes    F   15690 42.17055\n",
       "2 yes    M   17348 42.99538"
      ]
     },
     "metadata": {},
     "output_type": "display_data"
    }
   ],
   "source": [
    "surveys %>%\n",
    "  mutate(rodent = ifelse(taxa=='Rodent','yes','no')) %>% \n",
    "  group_by(rodent, sex) %>%\n",
    "  summarize(cnt = n(), avg_wt = mean(weight,na.rm=TRUE)) %>%\n",
    "  filter(sex!=\"\")"
   ]
  },
  {
   "cell_type": "markdown",
   "metadata": {},
   "source": [
    "# Translating JMP to `dplyr/tidyr`"
   ]
  },
  {
   "cell_type": "markdown",
   "metadata": {},
   "source": [
    "### Simple Aggregations"
   ]
  },
  {
   "cell_type": "markdown",
   "metadata": {},
   "source": [
    "```{r}\n",
    "surveys %>%\n",
    "  summarize(\n",
    "    avg_wgt = mean(weight, \n",
    "                   na.rm = TRUE))\n",
    "```"
   ]
  },
  {
   "cell_type": "markdown",
   "metadata": {},
   "source": [
    "<img width=\"850\" src=\"https://raw.githubusercontent.com/WSU-DataScience/DSCI_210_R_notebooks/main/img/simple_aggregation_1.png\">"
   ]
  },
  {
   "cell_type": "markdown",
   "metadata": {},
   "source": [
    "<img width=\"850\" src=\"https://raw.githubusercontent.com/WSU-DataScience/DSCI_210_R_notebooks/main/img/simple_aggregation_2.png\">"
   ]
  },
  {
   "cell_type": "markdown",
   "metadata": {},
   "source": [
    "### Group and Aggregate"
   ]
  },
  {
   "cell_type": "markdown",
   "metadata": {},
   "source": [
    "```{r}\n",
    "grp_agg <- \n",
    "  surveys %>%\n",
    "    group_by(taxa) %>%\n",
    "    summarize(avg = mean(weight, na.rm = TRUE))\n",
    "grp_agg\n",
    "```"
   ]
  },
  {
   "cell_type": "markdown",
   "metadata": {},
   "source": [
    "<img width=\"850\" src=\"https://raw.githubusercontent.com/WSU-DataScience/DSCI_210_R_notebooks/main/img/group_and_aggregate_0.png\">"
   ]
  },
  {
   "cell_type": "markdown",
   "metadata": {},
   "source": [
    "<img width=\"850\" src=\"https://raw.githubusercontent.com/WSU-DataScience/DSCI_210_R_notebooks/main/img/group_and_aggregate_1.png\">"
   ]
  },
  {
   "cell_type": "markdown",
   "metadata": {},
   "source": [
    "<img width=\"850\" src=\"https://raw.githubusercontent.com/WSU-DataScience/DSCI_210_R_notebooks/main/img/group_and_aggregate_2.png\">"
   ]
  },
  {
   "cell_type": "markdown",
   "metadata": {},
   "source": [
    "### Multiple Group Variables\n",
    "\n",
    "<img width=\"850\" src=\"https://raw.githubusercontent.com/WSU-DataScience/DSCI_210_R_notebooks/main/img/grp2_agg.PNG\">"
   ]
  }
 ],
 "metadata": {
  "kernelspec": {
   "display_name": "R",
   "language": "R",
   "name": "ir"
  },
  "language_info": {
   "codemirror_mode": "r",
   "file_extension": ".r",
   "mimetype": "text/x-r-source",
   "name": "R",
   "pygments_lexer": "r",
   "version": "3.5.1"
  }
 },
 "nbformat": 4,
 "nbformat_minor": 2
}
