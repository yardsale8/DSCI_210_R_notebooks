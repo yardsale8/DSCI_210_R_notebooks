{
  "cells": [
    {
      "cell_type": "markdown",
      "metadata": {
        "id": "view-in-github",
        "colab_type": "text"
      },
      "source": [
        "<a href=\"https://colab.research.google.com/github/yardsale8/DSCI_210_R_notebooks/blob/main/lecture_8_4_string_verbs_in_R.ipynb\" target=\"_parent\"><img src=\"https://colab.research.google.com/assets/colab-badge.svg\" alt=\"Open In Colab\"/></a>"
      ]
    },
    {
      "cell_type": "code",
      "execution_count": 1,
      "metadata": {
        "id": "qotOrKe94hHA",
        "outputId": "5cbb49ab-43c7-4bbb-9b60-e16a6e6c7bdb",
        "colab": {
          "base_uri": "https://localhost:8080/"
        }
      },
      "outputs": [
        {
          "output_type": "stream",
          "name": "stderr",
          "text": [
            "── \u001b[1mAttaching core tidyverse packages\u001b[22m ──────────────────────── tidyverse 2.0.0 ──\n",
            "\u001b[32m✔\u001b[39m \u001b[34mdplyr    \u001b[39m 1.1.4     \u001b[32m✔\u001b[39m \u001b[34mreadr    \u001b[39m 2.1.5\n",
            "\u001b[32m✔\u001b[39m \u001b[34mforcats  \u001b[39m 1.0.0     \u001b[32m✔\u001b[39m \u001b[34mstringr  \u001b[39m 1.5.1\n",
            "\u001b[32m✔\u001b[39m \u001b[34mggplot2  \u001b[39m 3.4.4     \u001b[32m✔\u001b[39m \u001b[34mtibble   \u001b[39m 3.2.1\n",
            "\u001b[32m✔\u001b[39m \u001b[34mlubridate\u001b[39m 1.9.3     \u001b[32m✔\u001b[39m \u001b[34mtidyr    \u001b[39m 1.3.1\n",
            "\u001b[32m✔\u001b[39m \u001b[34mpurrr    \u001b[39m 1.0.2     \n",
            "── \u001b[1mConflicts\u001b[22m ────────────────────────────────────────── tidyverse_conflicts() ──\n",
            "\u001b[31m✖\u001b[39m \u001b[34mdplyr\u001b[39m::\u001b[32mfilter()\u001b[39m masks \u001b[34mstats\u001b[39m::filter()\n",
            "\u001b[31m✖\u001b[39m \u001b[34mdplyr\u001b[39m::\u001b[32mlag()\u001b[39m    masks \u001b[34mstats\u001b[39m::lag()\n",
            "\u001b[36mℹ\u001b[39m Use the conflicted package (\u001b[3m\u001b[34m<http://conflicted.r-lib.org/>\u001b[39m\u001b[23m) to force all conflicts to become errors\n"
          ]
        }
      ],
      "source": [
        "library(tidyverse)"
      ]
    },
    {
      "cell_type": "markdown",
      "metadata": {
        "id": "Ug_xRSUK4hG-"
      },
      "source": [
        "# String Verbs in `R`"
      ]
    },
    {
      "cell_type": "code",
      "execution_count": 2,
      "metadata": {
        "id": "i9SB-U0v4hHB",
        "outputId": "d712f66b-0f53-41e6-c7e9-0a28ada5370b",
        "colab": {
          "base_uri": "https://localhost:8080/",
          "height": 255
        }
      },
      "outputs": [
        {
          "output_type": "display_data",
          "data": {
            "text/html": [
              "<table class=\"dataframe\">\n",
              "<caption>A data.frame: 6 × 13</caption>\n",
              "<thead>\n",
              "\t<tr><th></th><th scope=col>record_id</th><th scope=col>month</th><th scope=col>day</th><th scope=col>year</th><th scope=col>plot_id</th><th scope=col>species_id</th><th scope=col>sex</th><th scope=col>hindfoot_length</th><th scope=col>weight</th><th scope=col>genus</th><th scope=col>species</th><th scope=col>taxa</th><th scope=col>plot_type</th></tr>\n",
              "\t<tr><th></th><th scope=col>&lt;int&gt;</th><th scope=col>&lt;int&gt;</th><th scope=col>&lt;int&gt;</th><th scope=col>&lt;int&gt;</th><th scope=col>&lt;int&gt;</th><th scope=col>&lt;chr&gt;</th><th scope=col>&lt;chr&gt;</th><th scope=col>&lt;int&gt;</th><th scope=col>&lt;int&gt;</th><th scope=col>&lt;chr&gt;</th><th scope=col>&lt;chr&gt;</th><th scope=col>&lt;chr&gt;</th><th scope=col>&lt;chr&gt;</th></tr>\n",
              "</thead>\n",
              "<tbody>\n",
              "\t<tr><th scope=row>1</th><td>  1</td><td> 7</td><td>16</td><td>1977</td><td>2</td><td>NL</td><td>M</td><td>32</td><td>NA</td><td>Neotoma</td><td>albigula</td><td>Rodent</td><td>Control</td></tr>\n",
              "\t<tr><th scope=row>2</th><td> 72</td><td> 8</td><td>19</td><td>1977</td><td>2</td><td>NL</td><td>M</td><td>31</td><td>NA</td><td>Neotoma</td><td>albigula</td><td>Rodent</td><td>Control</td></tr>\n",
              "\t<tr><th scope=row>3</th><td>224</td><td> 9</td><td>13</td><td>1977</td><td>2</td><td>NL</td><td> </td><td>NA</td><td>NA</td><td>Neotoma</td><td>albigula</td><td>Rodent</td><td>Control</td></tr>\n",
              "\t<tr><th scope=row>4</th><td>266</td><td>10</td><td>16</td><td>1977</td><td>2</td><td>NL</td><td> </td><td>NA</td><td>NA</td><td>Neotoma</td><td>albigula</td><td>Rodent</td><td>Control</td></tr>\n",
              "\t<tr><th scope=row>5</th><td>349</td><td>11</td><td>12</td><td>1977</td><td>2</td><td>NL</td><td> </td><td>NA</td><td>NA</td><td>Neotoma</td><td>albigula</td><td>Rodent</td><td>Control</td></tr>\n",
              "\t<tr><th scope=row>6</th><td>363</td><td>11</td><td>12</td><td>1977</td><td>2</td><td>NL</td><td> </td><td>NA</td><td>NA</td><td>Neotoma</td><td>albigula</td><td>Rodent</td><td>Control</td></tr>\n",
              "</tbody>\n",
              "</table>\n"
            ],
            "text/markdown": "\nA data.frame: 6 × 13\n\n| <!--/--> | record_id &lt;int&gt; | month &lt;int&gt; | day &lt;int&gt; | year &lt;int&gt; | plot_id &lt;int&gt; | species_id &lt;chr&gt; | sex &lt;chr&gt; | hindfoot_length &lt;int&gt; | weight &lt;int&gt; | genus &lt;chr&gt; | species &lt;chr&gt; | taxa &lt;chr&gt; | plot_type &lt;chr&gt; |\n|---|---|---|---|---|---|---|---|---|---|---|---|---|---|\n| 1 |   1 |  7 | 16 | 1977 | 2 | NL | M | 32 | NA | Neotoma | albigula | Rodent | Control |\n| 2 |  72 |  8 | 19 | 1977 | 2 | NL | M | 31 | NA | Neotoma | albigula | Rodent | Control |\n| 3 | 224 |  9 | 13 | 1977 | 2 | NL | <!----> | NA | NA | Neotoma | albigula | Rodent | Control |\n| 4 | 266 | 10 | 16 | 1977 | 2 | NL | <!----> | NA | NA | Neotoma | albigula | Rodent | Control |\n| 5 | 349 | 11 | 12 | 1977 | 2 | NL | <!----> | NA | NA | Neotoma | albigula | Rodent | Control |\n| 6 | 363 | 11 | 12 | 1977 | 2 | NL | <!----> | NA | NA | Neotoma | albigula | Rodent | Control |\n\n",
            "text/latex": "A data.frame: 6 × 13\n\\begin{tabular}{r|lllllllllllll}\n  & record\\_id & month & day & year & plot\\_id & species\\_id & sex & hindfoot\\_length & weight & genus & species & taxa & plot\\_type\\\\\n  & <int> & <int> & <int> & <int> & <int> & <chr> & <chr> & <int> & <int> & <chr> & <chr> & <chr> & <chr>\\\\\n\\hline\n\t1 &   1 &  7 & 16 & 1977 & 2 & NL & M & 32 & NA & Neotoma & albigula & Rodent & Control\\\\\n\t2 &  72 &  8 & 19 & 1977 & 2 & NL & M & 31 & NA & Neotoma & albigula & Rodent & Control\\\\\n\t3 & 224 &  9 & 13 & 1977 & 2 & NL &   & NA & NA & Neotoma & albigula & Rodent & Control\\\\\n\t4 & 266 & 10 & 16 & 1977 & 2 & NL &   & NA & NA & Neotoma & albigula & Rodent & Control\\\\\n\t5 & 349 & 11 & 12 & 1977 & 2 & NL &   & NA & NA & Neotoma & albigula & Rodent & Control\\\\\n\t6 & 363 & 11 & 12 & 1977 & 2 & NL &   & NA & NA & Neotoma & albigula & Rodent & Control\\\\\n\\end{tabular}\n",
            "text/plain": [
              "  record_id month day year plot_id species_id sex hindfoot_length weight\n",
              "1   1        7    16  1977 2       NL         M   32              NA    \n",
              "2  72        8    19  1977 2       NL         M   31              NA    \n",
              "3 224        9    13  1977 2       NL             NA              NA    \n",
              "4 266       10    16  1977 2       NL             NA              NA    \n",
              "5 349       11    12  1977 2       NL             NA              NA    \n",
              "6 363       11    12  1977 2       NL             NA              NA    \n",
              "  genus   species  taxa   plot_type\n",
              "1 Neotoma albigula Rodent Control  \n",
              "2 Neotoma albigula Rodent Control  \n",
              "3 Neotoma albigula Rodent Control  \n",
              "4 Neotoma albigula Rodent Control  \n",
              "5 Neotoma albigula Rodent Control  \n",
              "6 Neotoma albigula Rodent Control  "
            ]
          },
          "metadata": {}
        }
      ],
      "source": [
        "surveys <- read.csv('https://github.com/WSU-DataScience/DSCI_210_R_notebooks/raw/main/data/portal_data_joined.csv')\n",
        "head(surveys)"
      ]
    },
    {
      "cell_type": "markdown",
      "metadata": {
        "id": "qkCTVcuK4hHE"
      },
      "source": [
        "## String Transformations\n",
        "\n",
        "1. **Substring extraction.** Extracting a fixed length substing,\n",
        "2. **Replace.** Replace a substring with another, and\n",
        "3. **Recode.** Translate each string to another."
      ]
    },
    {
      "cell_type": "markdown",
      "metadata": {
        "id": "dNrUnNpg4hHE"
      },
      "source": [
        "### Pattern 1 - Substring extraction with `substr`\n",
        "\n",
        "**Syntax:**\n",
        "```{R}\n",
        "...\n",
        "%>% mutate(new_col = substr(old_col, start, stop))\n",
        "...\n",
        "```"
      ]
    },
    {
      "cell_type": "code",
      "execution_count": 5,
      "metadata": {
        "scrolled": true,
        "id": "y7wuTdZf4hHF",
        "outputId": "f428e837-c442-41a0-b816-a4fbbaf8b066",
        "colab": {
          "base_uri": "https://localhost:8080/",
          "height": 235
        }
      },
      "outputs": [
        {
          "output_type": "display_data",
          "data": {
            "text/html": [
              "<table class=\"dataframe\">\n",
              "<caption>A data.frame: 6 × 2</caption>\n",
              "<thead>\n",
              "\t<tr><th></th><th scope=col>plot_type</th><th scope=col>plot_type_short</th></tr>\n",
              "\t<tr><th></th><th scope=col>&lt;chr&gt;</th><th scope=col>&lt;chr&gt;</th></tr>\n",
              "</thead>\n",
              "<tbody>\n",
              "\t<tr><th scope=row>1</th><td>Control</td><td>Contr</td></tr>\n",
              "\t<tr><th scope=row>2</th><td>Control</td><td>Contr</td></tr>\n",
              "\t<tr><th scope=row>3</th><td>Control</td><td>Contr</td></tr>\n",
              "\t<tr><th scope=row>4</th><td>Control</td><td>Contr</td></tr>\n",
              "\t<tr><th scope=row>5</th><td>Control</td><td>Contr</td></tr>\n",
              "\t<tr><th scope=row>6</th><td>Control</td><td>Contr</td></tr>\n",
              "</tbody>\n",
              "</table>\n"
            ],
            "text/markdown": "\nA data.frame: 6 × 2\n\n| <!--/--> | plot_type &lt;chr&gt; | plot_type_short &lt;chr&gt; |\n|---|---|---|\n| 1 | Control | Contr |\n| 2 | Control | Contr |\n| 3 | Control | Contr |\n| 4 | Control | Contr |\n| 5 | Control | Contr |\n| 6 | Control | Contr |\n\n",
            "text/latex": "A data.frame: 6 × 2\n\\begin{tabular}{r|ll}\n  & plot\\_type & plot\\_type\\_short\\\\\n  & <chr> & <chr>\\\\\n\\hline\n\t1 & Control & Contr\\\\\n\t2 & Control & Contr\\\\\n\t3 & Control & Contr\\\\\n\t4 & Control & Contr\\\\\n\t5 & Control & Contr\\\\\n\t6 & Control & Contr\\\\\n\\end{tabular}\n",
            "text/plain": [
              "  plot_type plot_type_short\n",
              "1 Control   Contr          \n",
              "2 Control   Contr          \n",
              "3 Control   Contr          \n",
              "4 Control   Contr          \n",
              "5 Control   Contr          \n",
              "6 Control   Contr          "
            ]
          },
          "metadata": {}
        }
      ],
      "source": [
        "(surveys\n",
        " %>% select(plot_type) # Temp\n",
        " %>% mutate(plot_type_short = substr(plot_type, 1, 5))\n",
        " %>% head # Temp\n",
        " )"
      ]
    },
    {
      "cell_type": "markdown",
      "metadata": {
        "id": "YrJLvskA4hHF"
      },
      "source": [
        "## <font color=\"red\"> Exercise 8.4.1 - Creating a decade column using string functions.</font>\n",
        "\n",
        "In a previous example, we used division and `floor` to create a `decade` column.  Another approach to this problem is to convert the years to strings and use `substr` to extract the decade.\n",
        "\n",
        "**Tasks:** The basic process for converting to decade is\n",
        "\n",
        "1. Use `as.charactar` to convert `year` to a string. [Inside `mutate`]\n",
        "2. Use `substr` to extract the first three digits into a column names `first_three`. [Inside `mutate`]\n",
        "3. Use `glue(\"{first_three}0\")` to add on a zero. [Inside `mutate`]\n",
        "4. Use `as.numeric` to convert back to a numeric column. [Inside `mutate`]\n",
        "\n",
        "Be sure to *play around* with the columns first, THEN mutate."
      ]
    },
    {
      "cell_type": "code",
      "source": [
        "library(glue)"
      ],
      "metadata": {
        "id": "7RUw8KMYjj6o"
      },
      "execution_count": 6,
      "outputs": []
    },
    {
      "cell_type": "code",
      "execution_count": null,
      "metadata": {
        "id": "NhAXhovO4hHF"
      },
      "outputs": [],
      "source": [
        "# Your mutate pipe here"
      ]
    },
    {
      "cell_type": "markdown",
      "metadata": {
        "id": "GkMjpr5q4hHF"
      },
      "source": [
        "## Pattern 2 - `str_replace` from the `stringr` library\n",
        "\n",
        "**Syntax:**\n",
        "```{R}\n",
        "...\n",
        "%>% mutate(new_col = str_replace(old_col, pattern, replace)\n",
        "...\n",
        "```"
      ]
    },
    {
      "cell_type": "markdown",
      "source": [
        "#### Use `str_replace` to replace the first instance."
      ],
      "metadata": {
        "id": "H3_PWHYl9ry8"
      }
    },
    {
      "cell_type": "code",
      "source": [
        "# Get help on str_replace\n",
        "?str_replace"
      ],
      "metadata": {
        "id": "4KsV_Qj09PeM"
      },
      "execution_count": null,
      "outputs": []
    },
    {
      "cell_type": "code",
      "source": [
        "# Functional code\n",
        "str_replace(\"a-b-c\", '-', '/')"
      ],
      "metadata": {
        "id": "BCK_lFRw9Uyl",
        "outputId": "28af8cf7-22da-4e92-e44b-08df6c7d8c7a",
        "colab": {
          "base_uri": "https://localhost:8080/",
          "height": 31
        }
      },
      "execution_count": 7,
      "outputs": [
        {
          "output_type": "display_data",
          "data": {
            "text/html": [
              "'a/b-c'"
            ],
            "text/markdown": "'a/b-c'",
            "text/latex": "'a/b-c'",
            "text/plain": [
              "[1] \"a/b-c\""
            ]
          },
          "metadata": {}
        }
      ]
    },
    {
      "cell_type": "markdown",
      "source": [
        "#### Use `str_replace_all` to replace all instances."
      ],
      "metadata": {
        "id": "-l7KN8bS97Y4"
      }
    },
    {
      "cell_type": "code",
      "source": [
        "# functional code\n",
        "str_replace_all(\"a-b-c\", '-', '/')"
      ],
      "metadata": {
        "id": "FQvNIkzU9o6F",
        "outputId": "b26d316a-d4ca-4890-8191-593bcee362c5",
        "colab": {
          "base_uri": "https://localhost:8080/",
          "height": 31
        }
      },
      "execution_count": 8,
      "outputs": [
        {
          "output_type": "display_data",
          "data": {
            "text/html": [
              "'a/b/c'"
            ],
            "text/markdown": "'a/b/c'",
            "text/latex": "'a/b/c'",
            "text/plain": [
              "[1] \"a/b/c\""
            ]
          },
          "metadata": {}
        }
      ]
    },
    {
      "cell_type": "markdown",
      "metadata": {
        "id": "SYuqCUJy4hHG"
      },
      "source": [
        "### Example - Cleaning up the percents"
      ]
    },
    {
      "cell_type": "code",
      "source": [
        "football_sleep <- read.csv(\"https://github.com/yardsale8/DSCI_210_R_notebooks/raw/main/data/Football_Sleep_data.csv\")\n",
        "\n",
        "football_sleep %>% head"
      ],
      "metadata": {
        "colab": {
          "base_uri": "https://localhost:8080/",
          "height": 255
        },
        "id": "nhaPActHkS2D",
        "outputId": "612f3b76-0ada-4b24-ad8b-8a371b193f7c"
      },
      "execution_count": 10,
      "outputs": [
        {
          "output_type": "display_data",
          "data": {
            "text/html": [
              "<table class=\"dataframe\">\n",
              "<caption>A data.frame: 6 × 12</caption>\n",
              "<thead>\n",
              "\t<tr><th></th><th scope=col>student</th><th scope=col>Class</th><th scope=col>Pct7</th><th scope=col>Avg.sleep.per.night</th><th scope=col>GPA.pre</th><th scope=col>GPA.post</th><th scope=col>Clean.pre</th><th scope=col>Clean.post</th><th scope=col>Back.pre</th><th scope=col>Back.post</th><th scope=col>Bench.pre</th><th scope=col>Bench.post</th></tr>\n",
              "\t<tr><th></th><th scope=col>&lt;int&gt;</th><th scope=col>&lt;int&gt;</th><th scope=col>&lt;chr&gt;</th><th scope=col>&lt;dbl&gt;</th><th scope=col>&lt;dbl&gt;</th><th scope=col>&lt;dbl&gt;</th><th scope=col>&lt;int&gt;</th><th scope=col>&lt;int&gt;</th><th scope=col>&lt;int&gt;</th><th scope=col>&lt;int&gt;</th><th scope=col>&lt;int&gt;</th><th scope=col>&lt;int&gt;</th></tr>\n",
              "</thead>\n",
              "<tbody>\n",
              "\t<tr><th scope=row>1</th><td>1</td><td>NA</td><td>   </td><td> NA</td><td>3.21</td><td>3.60</td><td>270</td><td> NA</td><td>425</td><td> NA</td><td>315</td><td> NA</td></tr>\n",
              "\t<tr><th scope=row>2</th><td>2</td><td> 1</td><td>95%</td><td>7.6</td><td>3.10</td><td>3.30</td><td>265</td><td>290</td><td>385</td><td>430</td><td>255</td><td>275</td></tr>\n",
              "\t<tr><th scope=row>3</th><td>3</td><td> 2</td><td>90%</td><td>7.5</td><td>2.94</td><td>3.46</td><td>264</td><td>264</td><td>290</td><td>425</td><td>290</td><td>290</td></tr>\n",
              "\t<tr><th scope=row>4</th><td>4</td><td> 2</td><td>25%</td><td>6.0</td><td>2.57</td><td>2.20</td><td>290</td><td> NA</td><td>450</td><td> NA</td><td>275</td><td> NA</td></tr>\n",
              "\t<tr><th scope=row>5</th><td>5</td><td> 1</td><td>44%</td><td>6.0</td><td>3.50</td><td>3.50</td><td>280</td><td>265</td><td>415</td><td>390</td><td>270</td><td>235</td></tr>\n",
              "\t<tr><th scope=row>6</th><td>6</td><td> 2</td><td>88%</td><td>7.0</td><td>2.64</td><td>1.53</td><td>253</td><td>253</td><td>405</td><td>415</td><td>305</td><td>325</td></tr>\n",
              "</tbody>\n",
              "</table>\n"
            ],
            "text/markdown": "\nA data.frame: 6 × 12\n\n| <!--/--> | student &lt;int&gt; | Class &lt;int&gt; | Pct7 &lt;chr&gt; | Avg.sleep.per.night &lt;dbl&gt; | GPA.pre &lt;dbl&gt; | GPA.post &lt;dbl&gt; | Clean.pre &lt;int&gt; | Clean.post &lt;int&gt; | Back.pre &lt;int&gt; | Back.post &lt;int&gt; | Bench.pre &lt;int&gt; | Bench.post &lt;int&gt; |\n|---|---|---|---|---|---|---|---|---|---|---|---|---|\n| 1 | 1 | NA | <!----> |  NA | 3.21 | 3.60 | 270 |  NA | 425 |  NA | 315 |  NA |\n| 2 | 2 |  1 | 95% | 7.6 | 3.10 | 3.30 | 265 | 290 | 385 | 430 | 255 | 275 |\n| 3 | 3 |  2 | 90% | 7.5 | 2.94 | 3.46 | 264 | 264 | 290 | 425 | 290 | 290 |\n| 4 | 4 |  2 | 25% | 6.0 | 2.57 | 2.20 | 290 |  NA | 450 |  NA | 275 |  NA |\n| 5 | 5 |  1 | 44% | 6.0 | 3.50 | 3.50 | 280 | 265 | 415 | 390 | 270 | 235 |\n| 6 | 6 |  2 | 88% | 7.0 | 2.64 | 1.53 | 253 | 253 | 405 | 415 | 305 | 325 |\n\n",
            "text/latex": "A data.frame: 6 × 12\n\\begin{tabular}{r|llllllllllll}\n  & student & Class & Pct7 & Avg.sleep.per.night & GPA.pre & GPA.post & Clean.pre & Clean.post & Back.pre & Back.post & Bench.pre & Bench.post\\\\\n  & <int> & <int> & <chr> & <dbl> & <dbl> & <dbl> & <int> & <int> & <int> & <int> & <int> & <int>\\\\\n\\hline\n\t1 & 1 & NA &     &  NA & 3.21 & 3.60 & 270 &  NA & 425 &  NA & 315 &  NA\\\\\n\t2 & 2 &  1 & 95\\% & 7.6 & 3.10 & 3.30 & 265 & 290 & 385 & 430 & 255 & 275\\\\\n\t3 & 3 &  2 & 90\\% & 7.5 & 2.94 & 3.46 & 264 & 264 & 290 & 425 & 290 & 290\\\\\n\t4 & 4 &  2 & 25\\% & 6.0 & 2.57 & 2.20 & 290 &  NA & 450 &  NA & 275 &  NA\\\\\n\t5 & 5 &  1 & 44\\% & 6.0 & 3.50 & 3.50 & 280 & 265 & 415 & 390 & 270 & 235\\\\\n\t6 & 6 &  2 & 88\\% & 7.0 & 2.64 & 1.53 & 253 & 253 & 405 & 415 & 305 & 325\\\\\n\\end{tabular}\n",
            "text/plain": [
              "  student Class Pct7 Avg.sleep.per.night GPA.pre GPA.post Clean.pre Clean.post\n",
              "1 1       NA          NA                 3.21    3.60     270        NA       \n",
              "2 2        1    95%  7.6                 3.10    3.30     265       290       \n",
              "3 3        2    90%  7.5                 2.94    3.46     264       264       \n",
              "4 4        2    25%  6.0                 2.57    2.20     290        NA       \n",
              "5 5        1    44%  6.0                 3.50    3.50     280       265       \n",
              "6 6        2    88%  7.0                 2.64    1.53     253       253       \n",
              "  Back.pre Back.post Bench.pre Bench.post\n",
              "1 425       NA       315        NA       \n",
              "2 385      430       255       275       \n",
              "3 290      425       290       290       \n",
              "4 450       NA       275        NA       \n",
              "5 415      390       270       235       \n",
              "6 405      415       305       325       "
            ]
          },
          "metadata": {}
        }
      ]
    },
    {
      "cell_type": "code",
      "execution_count": 11,
      "metadata": {
        "id": "_Cj9iMMg4hHG",
        "outputId": "21a42ec1-49ae-4575-edf9-b6d580510efc",
        "colab": {
          "base_uri": "https://localhost:8080/",
          "height": 31
        }
      },
      "outputs": [
        {
          "output_type": "display_data",
          "data": {
            "text/html": [
              "<style>\n",
              ".list-inline {list-style: none; margin:0; padding: 0}\n",
              ".list-inline>li {display: inline-block}\n",
              ".list-inline>li:not(:last-child)::after {content: \"\\00b7\"; padding: 0 .5ex}\n",
              "</style>\n",
              "<ol class=list-inline><li>''</li><li>'95%'</li><li>'90%'</li><li>'25%'</li><li>'44%'</li><li>'88%'</li></ol>\n"
            ],
            "text/markdown": "1. ''\n2. '95%'\n3. '90%'\n4. '25%'\n5. '44%'\n6. '88%'\n\n\n",
            "text/latex": "\\begin{enumerate*}\n\\item ''\n\\item '95\\%'\n\\item '90\\%'\n\\item '25\\%'\n\\item '44\\%'\n\\item '88\\%'\n\\end{enumerate*}\n",
            "text/plain": [
              "[1] \"\"    \"95%\" \"90%\" \"25%\" \"44%\" \"88%\""
            ]
          },
          "metadata": {}
        }
      ],
      "source": [
        "pct7 <- football_sleep$Pct7\n",
        "head(pct7)"
      ]
    },
    {
      "cell_type": "markdown",
      "metadata": {
        "id": "XSGNi_wd4hHG"
      },
      "source": [
        "#### (A) Try out `str_replace`"
      ]
    },
    {
      "cell_type": "code",
      "execution_count": 12,
      "metadata": {
        "id": "5AacvabV4hHG",
        "outputId": "b9252375-4127-4886-b01f-d79d79f7a7b4",
        "colab": {
          "base_uri": "https://localhost:8080/",
          "height": 31
        }
      },
      "outputs": [
        {
          "output_type": "display_data",
          "data": {
            "text/html": [
              "<style>\n",
              ".list-inline {list-style: none; margin:0; padding: 0}\n",
              ".list-inline>li {display: inline-block}\n",
              ".list-inline>li:not(:last-child)::after {content: \"\\00b7\"; padding: 0 .5ex}\n",
              "</style>\n",
              "<ol class=list-inline><li>''</li><li>'95'</li><li>'90'</li><li>'25'</li><li>'44'</li><li>'88'</li></ol>\n"
            ],
            "text/markdown": "1. ''\n2. '95'\n3. '90'\n4. '25'\n5. '44'\n6. '88'\n\n\n",
            "text/latex": "\\begin{enumerate*}\n\\item ''\n\\item '95'\n\\item '90'\n\\item '25'\n\\item '44'\n\\item '88'\n\\end{enumerate*}\n",
            "text/plain": [
              "[1] \"\"   \"95\" \"90\" \"25\" \"44\" \"88\""
            ]
          },
          "metadata": {}
        }
      ],
      "source": [
        "new <- pct7 %>% str_replace('%', '')\n",
        "head(new)"
      ]
    },
    {
      "cell_type": "markdown",
      "metadata": {
        "id": "y8RUrrOa4hHG"
      },
      "source": [
        "#### (B) Switch to numeric with `as.numeric`"
      ]
    },
    {
      "cell_type": "code",
      "execution_count": 13,
      "metadata": {
        "id": "nxleLNh04hHH",
        "outputId": "b2959aa9-9722-4e0f-e1aa-8dc15e9a199a",
        "colab": {
          "base_uri": "https://localhost:8080/",
          "height": 31
        }
      },
      "outputs": [
        {
          "output_type": "display_data",
          "data": {
            "text/html": [
              "<style>\n",
              ".list-inline {list-style: none; margin:0; padding: 0}\n",
              ".list-inline>li {display: inline-block}\n",
              ".list-inline>li:not(:last-child)::after {content: \"\\00b7\"; padding: 0 .5ex}\n",
              "</style>\n",
              "<ol class=list-inline><li>&lt;NA&gt;</li><li>95</li><li>90</li><li>25</li><li>44</li><li>88</li></ol>\n"
            ],
            "text/markdown": "1. &lt;NA&gt;\n2. 95\n3. 90\n4. 25\n5. 44\n6. 88\n\n\n",
            "text/latex": "\\begin{enumerate*}\n\\item <NA>\n\\item 95\n\\item 90\n\\item 25\n\\item 44\n\\item 88\n\\end{enumerate*}\n",
            "text/plain": [
              "[1] NA 95 90 25 44 88"
            ]
          },
          "metadata": {}
        }
      ],
      "source": [
        "new <- pct7 %>% str_replace('%', '') %>% as.numeric\n",
        "head(new)"
      ]
    },
    {
      "cell_type": "markdown",
      "metadata": {
        "id": "G7L58-Jv4hHH"
      },
      "source": [
        "#### (C) Embed in a `mutate`"
      ]
    },
    {
      "cell_type": "code",
      "execution_count": 14,
      "metadata": {
        "id": "De5EDWEi4hHI",
        "outputId": "c828c38b-0318-47d5-94e0-e55a96490446",
        "colab": {
          "base_uri": "https://localhost:8080/",
          "height": 255
        }
      },
      "outputs": [
        {
          "output_type": "display_data",
          "data": {
            "text/html": [
              "<table class=\"dataframe\">\n",
              "<caption>A data.frame: 6 × 13</caption>\n",
              "<thead>\n",
              "\t<tr><th></th><th scope=col>student</th><th scope=col>Class</th><th scope=col>Pct7</th><th scope=col>Avg.sleep.per.night</th><th scope=col>GPA.pre</th><th scope=col>GPA.post</th><th scope=col>Clean.pre</th><th scope=col>Clean.post</th><th scope=col>Back.pre</th><th scope=col>Back.post</th><th scope=col>Bench.pre</th><th scope=col>Bench.post</th><th scope=col>percent</th></tr>\n",
              "\t<tr><th></th><th scope=col>&lt;int&gt;</th><th scope=col>&lt;int&gt;</th><th scope=col>&lt;chr&gt;</th><th scope=col>&lt;dbl&gt;</th><th scope=col>&lt;dbl&gt;</th><th scope=col>&lt;dbl&gt;</th><th scope=col>&lt;int&gt;</th><th scope=col>&lt;int&gt;</th><th scope=col>&lt;int&gt;</th><th scope=col>&lt;int&gt;</th><th scope=col>&lt;int&gt;</th><th scope=col>&lt;int&gt;</th><th scope=col>&lt;dbl&gt;</th></tr>\n",
              "</thead>\n",
              "<tbody>\n",
              "\t<tr><th scope=row>1</th><td>1</td><td>NA</td><td>   </td><td> NA</td><td>3.21</td><td>3.60</td><td>270</td><td> NA</td><td>425</td><td> NA</td><td>315</td><td> NA</td><td>NA</td></tr>\n",
              "\t<tr><th scope=row>2</th><td>2</td><td> 1</td><td>95%</td><td>7.6</td><td>3.10</td><td>3.30</td><td>265</td><td>290</td><td>385</td><td>430</td><td>255</td><td>275</td><td>95</td></tr>\n",
              "\t<tr><th scope=row>3</th><td>3</td><td> 2</td><td>90%</td><td>7.5</td><td>2.94</td><td>3.46</td><td>264</td><td>264</td><td>290</td><td>425</td><td>290</td><td>290</td><td>90</td></tr>\n",
              "\t<tr><th scope=row>4</th><td>4</td><td> 2</td><td>25%</td><td>6.0</td><td>2.57</td><td>2.20</td><td>290</td><td> NA</td><td>450</td><td> NA</td><td>275</td><td> NA</td><td>25</td></tr>\n",
              "\t<tr><th scope=row>5</th><td>5</td><td> 1</td><td>44%</td><td>6.0</td><td>3.50</td><td>3.50</td><td>280</td><td>265</td><td>415</td><td>390</td><td>270</td><td>235</td><td>44</td></tr>\n",
              "\t<tr><th scope=row>6</th><td>6</td><td> 2</td><td>88%</td><td>7.0</td><td>2.64</td><td>1.53</td><td>253</td><td>253</td><td>405</td><td>415</td><td>305</td><td>325</td><td>88</td></tr>\n",
              "</tbody>\n",
              "</table>\n"
            ],
            "text/markdown": "\nA data.frame: 6 × 13\n\n| <!--/--> | student &lt;int&gt; | Class &lt;int&gt; | Pct7 &lt;chr&gt; | Avg.sleep.per.night &lt;dbl&gt; | GPA.pre &lt;dbl&gt; | GPA.post &lt;dbl&gt; | Clean.pre &lt;int&gt; | Clean.post &lt;int&gt; | Back.pre &lt;int&gt; | Back.post &lt;int&gt; | Bench.pre &lt;int&gt; | Bench.post &lt;int&gt; | percent &lt;dbl&gt; |\n|---|---|---|---|---|---|---|---|---|---|---|---|---|---|\n| 1 | 1 | NA | <!----> |  NA | 3.21 | 3.60 | 270 |  NA | 425 |  NA | 315 |  NA | NA |\n| 2 | 2 |  1 | 95% | 7.6 | 3.10 | 3.30 | 265 | 290 | 385 | 430 | 255 | 275 | 95 |\n| 3 | 3 |  2 | 90% | 7.5 | 2.94 | 3.46 | 264 | 264 | 290 | 425 | 290 | 290 | 90 |\n| 4 | 4 |  2 | 25% | 6.0 | 2.57 | 2.20 | 290 |  NA | 450 |  NA | 275 |  NA | 25 |\n| 5 | 5 |  1 | 44% | 6.0 | 3.50 | 3.50 | 280 | 265 | 415 | 390 | 270 | 235 | 44 |\n| 6 | 6 |  2 | 88% | 7.0 | 2.64 | 1.53 | 253 | 253 | 405 | 415 | 305 | 325 | 88 |\n\n",
            "text/latex": "A data.frame: 6 × 13\n\\begin{tabular}{r|lllllllllllll}\n  & student & Class & Pct7 & Avg.sleep.per.night & GPA.pre & GPA.post & Clean.pre & Clean.post & Back.pre & Back.post & Bench.pre & Bench.post & percent\\\\\n  & <int> & <int> & <chr> & <dbl> & <dbl> & <dbl> & <int> & <int> & <int> & <int> & <int> & <int> & <dbl>\\\\\n\\hline\n\t1 & 1 & NA &     &  NA & 3.21 & 3.60 & 270 &  NA & 425 &  NA & 315 &  NA & NA\\\\\n\t2 & 2 &  1 & 95\\% & 7.6 & 3.10 & 3.30 & 265 & 290 & 385 & 430 & 255 & 275 & 95\\\\\n\t3 & 3 &  2 & 90\\% & 7.5 & 2.94 & 3.46 & 264 & 264 & 290 & 425 & 290 & 290 & 90\\\\\n\t4 & 4 &  2 & 25\\% & 6.0 & 2.57 & 2.20 & 290 &  NA & 450 &  NA & 275 &  NA & 25\\\\\n\t5 & 5 &  1 & 44\\% & 6.0 & 3.50 & 3.50 & 280 & 265 & 415 & 390 & 270 & 235 & 44\\\\\n\t6 & 6 &  2 & 88\\% & 7.0 & 2.64 & 1.53 & 253 & 253 & 405 & 415 & 305 & 325 & 88\\\\\n\\end{tabular}\n",
            "text/plain": [
              "  student Class Pct7 Avg.sleep.per.night GPA.pre GPA.post Clean.pre Clean.post\n",
              "1 1       NA          NA                 3.21    3.60     270        NA       \n",
              "2 2        1    95%  7.6                 3.10    3.30     265       290       \n",
              "3 3        2    90%  7.5                 2.94    3.46     264       264       \n",
              "4 4        2    25%  6.0                 2.57    2.20     290        NA       \n",
              "5 5        1    44%  6.0                 3.50    3.50     280       265       \n",
              "6 6        2    88%  7.0                 2.64    1.53     253       253       \n",
              "  Back.pre Back.post Bench.pre Bench.post percent\n",
              "1 425       NA       315        NA        NA     \n",
              "2 385      430       255       275        95     \n",
              "3 290      425       290       290        90     \n",
              "4 450       NA       275        NA        25     \n",
              "5 415      390       270       235        44     \n",
              "6 405      415       305       325        88     "
            ]
          },
          "metadata": {}
        }
      ],
      "source": [
        "(football_sleep\n",
        " %>% mutate(percent = pct7 %>% str_replace('%', '')  %>% as.numeric)\n",
        " %>% head\n",
        ")"
      ]
    },
    {
      "cell_type": "markdown",
      "source": [
        "(D) Make the code easier to read."
      ],
      "metadata": {
        "id": "sTY62XUy-iLa"
      }
    },
    {
      "cell_type": "code",
      "source": [
        "(football_sleep\n",
        " %>% mutate(percent = pct7\n",
        "                      %>% str_replace('%', '')\n",
        "                      %>% as.numeric,\n",
        "           )\n",
        " %>% head\n",
        ")"
      ],
      "metadata": {
        "id": "Rpq7vDYY-ee_",
        "outputId": "5f6fd255-b923-4875-949a-f120dfad9a58",
        "colab": {
          "base_uri": "https://localhost:8080/",
          "height": 255
        }
      },
      "execution_count": 15,
      "outputs": [
        {
          "output_type": "display_data",
          "data": {
            "text/html": [
              "<table class=\"dataframe\">\n",
              "<caption>A data.frame: 6 × 13</caption>\n",
              "<thead>\n",
              "\t<tr><th></th><th scope=col>student</th><th scope=col>Class</th><th scope=col>Pct7</th><th scope=col>Avg.sleep.per.night</th><th scope=col>GPA.pre</th><th scope=col>GPA.post</th><th scope=col>Clean.pre</th><th scope=col>Clean.post</th><th scope=col>Back.pre</th><th scope=col>Back.post</th><th scope=col>Bench.pre</th><th scope=col>Bench.post</th><th scope=col>percent</th></tr>\n",
              "\t<tr><th></th><th scope=col>&lt;int&gt;</th><th scope=col>&lt;int&gt;</th><th scope=col>&lt;chr&gt;</th><th scope=col>&lt;dbl&gt;</th><th scope=col>&lt;dbl&gt;</th><th scope=col>&lt;dbl&gt;</th><th scope=col>&lt;int&gt;</th><th scope=col>&lt;int&gt;</th><th scope=col>&lt;int&gt;</th><th scope=col>&lt;int&gt;</th><th scope=col>&lt;int&gt;</th><th scope=col>&lt;int&gt;</th><th scope=col>&lt;dbl&gt;</th></tr>\n",
              "</thead>\n",
              "<tbody>\n",
              "\t<tr><th scope=row>1</th><td>1</td><td>NA</td><td>   </td><td> NA</td><td>3.21</td><td>3.60</td><td>270</td><td> NA</td><td>425</td><td> NA</td><td>315</td><td> NA</td><td>NA</td></tr>\n",
              "\t<tr><th scope=row>2</th><td>2</td><td> 1</td><td>95%</td><td>7.6</td><td>3.10</td><td>3.30</td><td>265</td><td>290</td><td>385</td><td>430</td><td>255</td><td>275</td><td>95</td></tr>\n",
              "\t<tr><th scope=row>3</th><td>3</td><td> 2</td><td>90%</td><td>7.5</td><td>2.94</td><td>3.46</td><td>264</td><td>264</td><td>290</td><td>425</td><td>290</td><td>290</td><td>90</td></tr>\n",
              "\t<tr><th scope=row>4</th><td>4</td><td> 2</td><td>25%</td><td>6.0</td><td>2.57</td><td>2.20</td><td>290</td><td> NA</td><td>450</td><td> NA</td><td>275</td><td> NA</td><td>25</td></tr>\n",
              "\t<tr><th scope=row>5</th><td>5</td><td> 1</td><td>44%</td><td>6.0</td><td>3.50</td><td>3.50</td><td>280</td><td>265</td><td>415</td><td>390</td><td>270</td><td>235</td><td>44</td></tr>\n",
              "\t<tr><th scope=row>6</th><td>6</td><td> 2</td><td>88%</td><td>7.0</td><td>2.64</td><td>1.53</td><td>253</td><td>253</td><td>405</td><td>415</td><td>305</td><td>325</td><td>88</td></tr>\n",
              "</tbody>\n",
              "</table>\n"
            ],
            "text/markdown": "\nA data.frame: 6 × 13\n\n| <!--/--> | student &lt;int&gt; | Class &lt;int&gt; | Pct7 &lt;chr&gt; | Avg.sleep.per.night &lt;dbl&gt; | GPA.pre &lt;dbl&gt; | GPA.post &lt;dbl&gt; | Clean.pre &lt;int&gt; | Clean.post &lt;int&gt; | Back.pre &lt;int&gt; | Back.post &lt;int&gt; | Bench.pre &lt;int&gt; | Bench.post &lt;int&gt; | percent &lt;dbl&gt; |\n|---|---|---|---|---|---|---|---|---|---|---|---|---|---|\n| 1 | 1 | NA | <!----> |  NA | 3.21 | 3.60 | 270 |  NA | 425 |  NA | 315 |  NA | NA |\n| 2 | 2 |  1 | 95% | 7.6 | 3.10 | 3.30 | 265 | 290 | 385 | 430 | 255 | 275 | 95 |\n| 3 | 3 |  2 | 90% | 7.5 | 2.94 | 3.46 | 264 | 264 | 290 | 425 | 290 | 290 | 90 |\n| 4 | 4 |  2 | 25% | 6.0 | 2.57 | 2.20 | 290 |  NA | 450 |  NA | 275 |  NA | 25 |\n| 5 | 5 |  1 | 44% | 6.0 | 3.50 | 3.50 | 280 | 265 | 415 | 390 | 270 | 235 | 44 |\n| 6 | 6 |  2 | 88% | 7.0 | 2.64 | 1.53 | 253 | 253 | 405 | 415 | 305 | 325 | 88 |\n\n",
            "text/latex": "A data.frame: 6 × 13\n\\begin{tabular}{r|lllllllllllll}\n  & student & Class & Pct7 & Avg.sleep.per.night & GPA.pre & GPA.post & Clean.pre & Clean.post & Back.pre & Back.post & Bench.pre & Bench.post & percent\\\\\n  & <int> & <int> & <chr> & <dbl> & <dbl> & <dbl> & <int> & <int> & <int> & <int> & <int> & <int> & <dbl>\\\\\n\\hline\n\t1 & 1 & NA &     &  NA & 3.21 & 3.60 & 270 &  NA & 425 &  NA & 315 &  NA & NA\\\\\n\t2 & 2 &  1 & 95\\% & 7.6 & 3.10 & 3.30 & 265 & 290 & 385 & 430 & 255 & 275 & 95\\\\\n\t3 & 3 &  2 & 90\\% & 7.5 & 2.94 & 3.46 & 264 & 264 & 290 & 425 & 290 & 290 & 90\\\\\n\t4 & 4 &  2 & 25\\% & 6.0 & 2.57 & 2.20 & 290 &  NA & 450 &  NA & 275 &  NA & 25\\\\\n\t5 & 5 &  1 & 44\\% & 6.0 & 3.50 & 3.50 & 280 & 265 & 415 & 390 & 270 & 235 & 44\\\\\n\t6 & 6 &  2 & 88\\% & 7.0 & 2.64 & 1.53 & 253 & 253 & 405 & 415 & 305 & 325 & 88\\\\\n\\end{tabular}\n",
            "text/plain": [
              "  student Class Pct7 Avg.sleep.per.night GPA.pre GPA.post Clean.pre Clean.post\n",
              "1 1       NA          NA                 3.21    3.60     270        NA       \n",
              "2 2        1    95%  7.6                 3.10    3.30     265       290       \n",
              "3 3        2    90%  7.5                 2.94    3.46     264       264       \n",
              "4 4        2    25%  6.0                 2.57    2.20     290        NA       \n",
              "5 5        1    44%  6.0                 3.50    3.50     280       265       \n",
              "6 6        2    88%  7.0                 2.64    1.53     253       253       \n",
              "  Back.pre Back.post Bench.pre Bench.post percent\n",
              "1 425       NA       315        NA        NA     \n",
              "2 385      430       255       275        95     \n",
              "3 290      425       290       290        90     \n",
              "4 450       NA       275        NA        25     \n",
              "5 415      390       270       235        44     \n",
              "6 405      415       305       325        88     "
            ]
          },
          "metadata": {}
        }
      ]
    },
    {
      "cell_type": "markdown",
      "metadata": {
        "id": "ygzkDw_B4hHI"
      },
      "source": [
        "#### (D) Also compute the fraction"
      ]
    },
    {
      "cell_type": "code",
      "execution_count": 16,
      "metadata": {
        "id": "6BQpr6Ej4hHI",
        "outputId": "e3e823ce-161b-4fa5-d863-2cc049f84c87",
        "colab": {
          "base_uri": "https://localhost:8080/",
          "height": 255
        }
      },
      "outputs": [
        {
          "output_type": "display_data",
          "data": {
            "text/html": [
              "<table class=\"dataframe\">\n",
              "<caption>A data.frame: 6 × 14</caption>\n",
              "<thead>\n",
              "\t<tr><th></th><th scope=col>student</th><th scope=col>Class</th><th scope=col>Pct7</th><th scope=col>Avg.sleep.per.night</th><th scope=col>GPA.pre</th><th scope=col>GPA.post</th><th scope=col>Clean.pre</th><th scope=col>Clean.post</th><th scope=col>Back.pre</th><th scope=col>Back.post</th><th scope=col>Bench.pre</th><th scope=col>Bench.post</th><th scope=col>percent</th><th scope=col>fraction</th></tr>\n",
              "\t<tr><th></th><th scope=col>&lt;int&gt;</th><th scope=col>&lt;int&gt;</th><th scope=col>&lt;chr&gt;</th><th scope=col>&lt;dbl&gt;</th><th scope=col>&lt;dbl&gt;</th><th scope=col>&lt;dbl&gt;</th><th scope=col>&lt;int&gt;</th><th scope=col>&lt;int&gt;</th><th scope=col>&lt;int&gt;</th><th scope=col>&lt;int&gt;</th><th scope=col>&lt;int&gt;</th><th scope=col>&lt;int&gt;</th><th scope=col>&lt;dbl&gt;</th><th scope=col>&lt;dbl&gt;</th></tr>\n",
              "</thead>\n",
              "<tbody>\n",
              "\t<tr><th scope=row>1</th><td>1</td><td>NA</td><td>   </td><td> NA</td><td>3.21</td><td>3.60</td><td>270</td><td> NA</td><td>425</td><td> NA</td><td>315</td><td> NA</td><td>NA</td><td>  NA</td></tr>\n",
              "\t<tr><th scope=row>2</th><td>2</td><td> 1</td><td>95%</td><td>7.6</td><td>3.10</td><td>3.30</td><td>265</td><td>290</td><td>385</td><td>430</td><td>255</td><td>275</td><td>95</td><td>0.95</td></tr>\n",
              "\t<tr><th scope=row>3</th><td>3</td><td> 2</td><td>90%</td><td>7.5</td><td>2.94</td><td>3.46</td><td>264</td><td>264</td><td>290</td><td>425</td><td>290</td><td>290</td><td>90</td><td>0.90</td></tr>\n",
              "\t<tr><th scope=row>4</th><td>4</td><td> 2</td><td>25%</td><td>6.0</td><td>2.57</td><td>2.20</td><td>290</td><td> NA</td><td>450</td><td> NA</td><td>275</td><td> NA</td><td>25</td><td>0.25</td></tr>\n",
              "\t<tr><th scope=row>5</th><td>5</td><td> 1</td><td>44%</td><td>6.0</td><td>3.50</td><td>3.50</td><td>280</td><td>265</td><td>415</td><td>390</td><td>270</td><td>235</td><td>44</td><td>0.44</td></tr>\n",
              "\t<tr><th scope=row>6</th><td>6</td><td> 2</td><td>88%</td><td>7.0</td><td>2.64</td><td>1.53</td><td>253</td><td>253</td><td>405</td><td>415</td><td>305</td><td>325</td><td>88</td><td>0.88</td></tr>\n",
              "</tbody>\n",
              "</table>\n"
            ],
            "text/markdown": "\nA data.frame: 6 × 14\n\n| <!--/--> | student &lt;int&gt; | Class &lt;int&gt; | Pct7 &lt;chr&gt; | Avg.sleep.per.night &lt;dbl&gt; | GPA.pre &lt;dbl&gt; | GPA.post &lt;dbl&gt; | Clean.pre &lt;int&gt; | Clean.post &lt;int&gt; | Back.pre &lt;int&gt; | Back.post &lt;int&gt; | Bench.pre &lt;int&gt; | Bench.post &lt;int&gt; | percent &lt;dbl&gt; | fraction &lt;dbl&gt; |\n|---|---|---|---|---|---|---|---|---|---|---|---|---|---|---|\n| 1 | 1 | NA | <!----> |  NA | 3.21 | 3.60 | 270 |  NA | 425 |  NA | 315 |  NA | NA |   NA |\n| 2 | 2 |  1 | 95% | 7.6 | 3.10 | 3.30 | 265 | 290 | 385 | 430 | 255 | 275 | 95 | 0.95 |\n| 3 | 3 |  2 | 90% | 7.5 | 2.94 | 3.46 | 264 | 264 | 290 | 425 | 290 | 290 | 90 | 0.90 |\n| 4 | 4 |  2 | 25% | 6.0 | 2.57 | 2.20 | 290 |  NA | 450 |  NA | 275 |  NA | 25 | 0.25 |\n| 5 | 5 |  1 | 44% | 6.0 | 3.50 | 3.50 | 280 | 265 | 415 | 390 | 270 | 235 | 44 | 0.44 |\n| 6 | 6 |  2 | 88% | 7.0 | 2.64 | 1.53 | 253 | 253 | 405 | 415 | 305 | 325 | 88 | 0.88 |\n\n",
            "text/latex": "A data.frame: 6 × 14\n\\begin{tabular}{r|llllllllllllll}\n  & student & Class & Pct7 & Avg.sleep.per.night & GPA.pre & GPA.post & Clean.pre & Clean.post & Back.pre & Back.post & Bench.pre & Bench.post & percent & fraction\\\\\n  & <int> & <int> & <chr> & <dbl> & <dbl> & <dbl> & <int> & <int> & <int> & <int> & <int> & <int> & <dbl> & <dbl>\\\\\n\\hline\n\t1 & 1 & NA &     &  NA & 3.21 & 3.60 & 270 &  NA & 425 &  NA & 315 &  NA & NA &   NA\\\\\n\t2 & 2 &  1 & 95\\% & 7.6 & 3.10 & 3.30 & 265 & 290 & 385 & 430 & 255 & 275 & 95 & 0.95\\\\\n\t3 & 3 &  2 & 90\\% & 7.5 & 2.94 & 3.46 & 264 & 264 & 290 & 425 & 290 & 290 & 90 & 0.90\\\\\n\t4 & 4 &  2 & 25\\% & 6.0 & 2.57 & 2.20 & 290 &  NA & 450 &  NA & 275 &  NA & 25 & 0.25\\\\\n\t5 & 5 &  1 & 44\\% & 6.0 & 3.50 & 3.50 & 280 & 265 & 415 & 390 & 270 & 235 & 44 & 0.44\\\\\n\t6 & 6 &  2 & 88\\% & 7.0 & 2.64 & 1.53 & 253 & 253 & 405 & 415 & 305 & 325 & 88 & 0.88\\\\\n\\end{tabular}\n",
            "text/plain": [
              "  student Class Pct7 Avg.sleep.per.night GPA.pre GPA.post Clean.pre Clean.post\n",
              "1 1       NA          NA                 3.21    3.60     270        NA       \n",
              "2 2        1    95%  7.6                 3.10    3.30     265       290       \n",
              "3 3        2    90%  7.5                 2.94    3.46     264       264       \n",
              "4 4        2    25%  6.0                 2.57    2.20     290        NA       \n",
              "5 5        1    44%  6.0                 3.50    3.50     280       265       \n",
              "6 6        2    88%  7.0                 2.64    1.53     253       253       \n",
              "  Back.pre Back.post Bench.pre Bench.post percent fraction\n",
              "1 425       NA       315        NA        NA        NA    \n",
              "2 385      430       255       275        95      0.95    \n",
              "3 290      425       290       290        90      0.90    \n",
              "4 450       NA       275        NA        25      0.25    \n",
              "5 415      390       270       235        44      0.44    \n",
              "6 405      415       305       325        88      0.88    "
            ]
          },
          "metadata": {}
        }
      ],
      "source": [
        "(football_sleep\n",
        " %>% mutate(percent = pct7\n",
        "                      %>% str_replace('%', '')\n",
        "                      %>% as.numeric,\n",
        "            fraction = percent/100,\n",
        "           )\n",
        " %>% head\n",
        ")"
      ]
    },
    {
      "cell_type": "markdown",
      "source": [
        "### Making piped code readable\n",
        "\n",
        "<img src=\"https://github.com/yardsale8/DSCI_210_R_notebooks/blob/99bd4f4d10de6abdee409a5ad62d83abf1cde832/img/more_readable_code%20copy.png?raw=true\" width=\"700\">"
      ],
      "metadata": {
        "id": "MeLw5FX7BKqv"
      }
    },
    {
      "cell_type": "markdown",
      "metadata": {
        "id": "RdDMdhxx4hHI"
      },
      "source": [
        "## <font color=\"red\"> Exercise 6.2.3 - Replacing `-` with `_`</font>\n",
        "\n",
        "Use `str_replace` to replace all hyphens in the `plot_type` column with underscores."
      ]
    },
    {
      "cell_type": "code",
      "execution_count": null,
      "metadata": {
        "id": "lsyRkVbP4hHJ",
        "outputId": "71dfcbd7-70c2-46fa-cbb8-fcb9bee32557",
        "colab": {
          "base_uri": "https://localhost:8080/",
          "height": 34
        }
      },
      "outputs": [
        {
          "output_type": "display_data",
          "data": {
            "text/html": [
              "<style>\n",
              ".list-inline {list-style: none; margin:0; padding: 0}\n",
              ".list-inline>li {display: inline-block}\n",
              ".list-inline>li:not(:last-child)::after {content: \"\\00b7\"; padding: 0 .5ex}\n",
              "</style>\n",
              "<ol class=list-inline><li>'Control'</li><li>'Long-term Krat Exclosure'</li><li>'Short-term Krat Exclosure'</li><li>'Rodent Exclosure'</li><li>'Spectab exclosure'</li></ol>\n"
            ],
            "text/markdown": "1. 'Control'\n2. 'Long-term Krat Exclosure'\n3. 'Short-term Krat Exclosure'\n4. 'Rodent Exclosure'\n5. 'Spectab exclosure'\n\n\n",
            "text/latex": "\\begin{enumerate*}\n\\item 'Control'\n\\item 'Long-term Krat Exclosure'\n\\item 'Short-term Krat Exclosure'\n\\item 'Rodent Exclosure'\n\\item 'Spectab exclosure'\n\\end{enumerate*}\n",
            "text/plain": [
              "[1] \"Control\"                   \"Long-term Krat Exclosure\" \n",
              "[3] \"Short-term Krat Exclosure\" \"Rodent Exclosure\"         \n",
              "[5] \"Spectab exclosure\"        "
            ]
          },
          "metadata": {}
        }
      ],
      "source": [
        "plot_type <- surveys$plot_type\n",
        "plot_type %>% unique"
      ]
    },
    {
      "cell_type": "code",
      "execution_count": null,
      "metadata": {
        "id": "_PiHS3i24hHJ"
      },
      "outputs": [],
      "source": [
        "# Your code here"
      ]
    },
    {
      "cell_type": "markdown",
      "metadata": {
        "id": "cQWVEcv74hHJ"
      },
      "source": [
        "### Pattern 3 - Recoding a character column\n",
        "\n",
        "\n",
        "**Syntax**\n",
        "\n",
        "```{r}\n",
        "recode(column,\n",
        "      `old value 1` = \"new string 1\",\n",
        "      `old value 2` = \"new string 2\",\n",
        "      ...)\n",
        "```"
      ]
    },
    {
      "cell_type": "code",
      "execution_count": 17,
      "metadata": {
        "id": "LsjhNBuo4hHJ",
        "outputId": "267fc21d-f32e-4e14-c4ca-c17593f35ec6",
        "colab": {
          "base_uri": "https://localhost:8080/",
          "height": 452
        }
      },
      "outputs": [
        {
          "output_type": "stream",
          "name": "stderr",
          "text": [
            "Warning message:\n",
            "“\u001b[1m\u001b[22mThere was 1 warning in `mutate()`.\n",
            "\u001b[1m\u001b[22m\u001b[36mℹ\u001b[39m In argument: `month_name = recode(month, `1` = \"Jan\", `2` = \"Feb\", `3` =\n",
            "  \"Mar\")`.\n",
            "Caused by warning:\n",
            "\u001b[1m\u001b[22m\u001b[33m!\u001b[39m Unreplaced values treated as NA as `.x` is not compatible.\n",
            "Please specify replacements exhaustively or supply `.default`.”\n"
          ]
        },
        {
          "output_type": "display_data",
          "data": {
            "text/html": [
              "<table class=\"dataframe\">\n",
              "<caption>A data.frame: 10 × 14</caption>\n",
              "<thead>\n",
              "\t<tr><th></th><th scope=col>record_id</th><th scope=col>month</th><th scope=col>day</th><th scope=col>year</th><th scope=col>plot_id</th><th scope=col>species_id</th><th scope=col>sex</th><th scope=col>hindfoot_length</th><th scope=col>weight</th><th scope=col>genus</th><th scope=col>species</th><th scope=col>taxa</th><th scope=col>plot_type</th><th scope=col>month_name</th></tr>\n",
              "\t<tr><th></th><th scope=col>&lt;int&gt;</th><th scope=col>&lt;int&gt;</th><th scope=col>&lt;int&gt;</th><th scope=col>&lt;int&gt;</th><th scope=col>&lt;int&gt;</th><th scope=col>&lt;chr&gt;</th><th scope=col>&lt;chr&gt;</th><th scope=col>&lt;int&gt;</th><th scope=col>&lt;int&gt;</th><th scope=col>&lt;chr&gt;</th><th scope=col>&lt;chr&gt;</th><th scope=col>&lt;chr&gt;</th><th scope=col>&lt;chr&gt;</th><th scope=col>&lt;chr&gt;</th></tr>\n",
              "</thead>\n",
              "<tbody>\n",
              "\t<tr><th scope=row>1</th><td>  1</td><td> 7</td><td>16</td><td>1977</td><td>2</td><td>NL</td><td>M</td><td>32</td><td> NA</td><td>Neotoma</td><td>albigula</td><td>Rodent</td><td>Control</td><td>NA </td></tr>\n",
              "\t<tr><th scope=row>2</th><td> 72</td><td> 8</td><td>19</td><td>1977</td><td>2</td><td>NL</td><td>M</td><td>31</td><td> NA</td><td>Neotoma</td><td>albigula</td><td>Rodent</td><td>Control</td><td>NA </td></tr>\n",
              "\t<tr><th scope=row>3</th><td>224</td><td> 9</td><td>13</td><td>1977</td><td>2</td><td>NL</td><td> </td><td>NA</td><td> NA</td><td>Neotoma</td><td>albigula</td><td>Rodent</td><td>Control</td><td>NA </td></tr>\n",
              "\t<tr><th scope=row>4</th><td>266</td><td>10</td><td>16</td><td>1977</td><td>2</td><td>NL</td><td> </td><td>NA</td><td> NA</td><td>Neotoma</td><td>albigula</td><td>Rodent</td><td>Control</td><td>NA </td></tr>\n",
              "\t<tr><th scope=row>5</th><td>349</td><td>11</td><td>12</td><td>1977</td><td>2</td><td>NL</td><td> </td><td>NA</td><td> NA</td><td>Neotoma</td><td>albigula</td><td>Rodent</td><td>Control</td><td>NA </td></tr>\n",
              "\t<tr><th scope=row>6</th><td>363</td><td>11</td><td>12</td><td>1977</td><td>2</td><td>NL</td><td> </td><td>NA</td><td> NA</td><td>Neotoma</td><td>albigula</td><td>Rodent</td><td>Control</td><td>NA </td></tr>\n",
              "\t<tr><th scope=row>7</th><td>435</td><td>12</td><td>10</td><td>1977</td><td>2</td><td>NL</td><td> </td><td>NA</td><td> NA</td><td>Neotoma</td><td>albigula</td><td>Rodent</td><td>Control</td><td>NA </td></tr>\n",
              "\t<tr><th scope=row>8</th><td>506</td><td> 1</td><td> 8</td><td>1978</td><td>2</td><td>NL</td><td> </td><td>NA</td><td> NA</td><td>Neotoma</td><td>albigula</td><td>Rodent</td><td>Control</td><td>Jan</td></tr>\n",
              "\t<tr><th scope=row>9</th><td>588</td><td> 2</td><td>18</td><td>1978</td><td>2</td><td>NL</td><td>M</td><td>NA</td><td>218</td><td>Neotoma</td><td>albigula</td><td>Rodent</td><td>Control</td><td>Feb</td></tr>\n",
              "\t<tr><th scope=row>10</th><td>661</td><td> 3</td><td>11</td><td>1978</td><td>2</td><td>NL</td><td> </td><td>NA</td><td> NA</td><td>Neotoma</td><td>albigula</td><td>Rodent</td><td>Control</td><td>Mar</td></tr>\n",
              "</tbody>\n",
              "</table>\n"
            ],
            "text/markdown": "\nA data.frame: 10 × 14\n\n| <!--/--> | record_id &lt;int&gt; | month &lt;int&gt; | day &lt;int&gt; | year &lt;int&gt; | plot_id &lt;int&gt; | species_id &lt;chr&gt; | sex &lt;chr&gt; | hindfoot_length &lt;int&gt; | weight &lt;int&gt; | genus &lt;chr&gt; | species &lt;chr&gt; | taxa &lt;chr&gt; | plot_type &lt;chr&gt; | month_name &lt;chr&gt; |\n|---|---|---|---|---|---|---|---|---|---|---|---|---|---|---|\n| 1 |   1 |  7 | 16 | 1977 | 2 | NL | M | 32 |  NA | Neotoma | albigula | Rodent | Control | NA  |\n| 2 |  72 |  8 | 19 | 1977 | 2 | NL | M | 31 |  NA | Neotoma | albigula | Rodent | Control | NA  |\n| 3 | 224 |  9 | 13 | 1977 | 2 | NL | <!----> | NA |  NA | Neotoma | albigula | Rodent | Control | NA  |\n| 4 | 266 | 10 | 16 | 1977 | 2 | NL | <!----> | NA |  NA | Neotoma | albigula | Rodent | Control | NA  |\n| 5 | 349 | 11 | 12 | 1977 | 2 | NL | <!----> | NA |  NA | Neotoma | albigula | Rodent | Control | NA  |\n| 6 | 363 | 11 | 12 | 1977 | 2 | NL | <!----> | NA |  NA | Neotoma | albigula | Rodent | Control | NA  |\n| 7 | 435 | 12 | 10 | 1977 | 2 | NL | <!----> | NA |  NA | Neotoma | albigula | Rodent | Control | NA  |\n| 8 | 506 |  1 |  8 | 1978 | 2 | NL | <!----> | NA |  NA | Neotoma | albigula | Rodent | Control | Jan |\n| 9 | 588 |  2 | 18 | 1978 | 2 | NL | M | NA | 218 | Neotoma | albigula | Rodent | Control | Feb |\n| 10 | 661 |  3 | 11 | 1978 | 2 | NL | <!----> | NA |  NA | Neotoma | albigula | Rodent | Control | Mar |\n\n",
            "text/latex": "A data.frame: 10 × 14\n\\begin{tabular}{r|llllllllllllll}\n  & record\\_id & month & day & year & plot\\_id & species\\_id & sex & hindfoot\\_length & weight & genus & species & taxa & plot\\_type & month\\_name\\\\\n  & <int> & <int> & <int> & <int> & <int> & <chr> & <chr> & <int> & <int> & <chr> & <chr> & <chr> & <chr> & <chr>\\\\\n\\hline\n\t1 &   1 &  7 & 16 & 1977 & 2 & NL & M & 32 &  NA & Neotoma & albigula & Rodent & Control & NA \\\\\n\t2 &  72 &  8 & 19 & 1977 & 2 & NL & M & 31 &  NA & Neotoma & albigula & Rodent & Control & NA \\\\\n\t3 & 224 &  9 & 13 & 1977 & 2 & NL &   & NA &  NA & Neotoma & albigula & Rodent & Control & NA \\\\\n\t4 & 266 & 10 & 16 & 1977 & 2 & NL &   & NA &  NA & Neotoma & albigula & Rodent & Control & NA \\\\\n\t5 & 349 & 11 & 12 & 1977 & 2 & NL &   & NA &  NA & Neotoma & albigula & Rodent & Control & NA \\\\\n\t6 & 363 & 11 & 12 & 1977 & 2 & NL &   & NA &  NA & Neotoma & albigula & Rodent & Control & NA \\\\\n\t7 & 435 & 12 & 10 & 1977 & 2 & NL &   & NA &  NA & Neotoma & albigula & Rodent & Control & NA \\\\\n\t8 & 506 &  1 &  8 & 1978 & 2 & NL &   & NA &  NA & Neotoma & albigula & Rodent & Control & Jan\\\\\n\t9 & 588 &  2 & 18 & 1978 & 2 & NL & M & NA & 218 & Neotoma & albigula & Rodent & Control & Feb\\\\\n\t10 & 661 &  3 & 11 & 1978 & 2 & NL &   & NA &  NA & Neotoma & albigula & Rodent & Control & Mar\\\\\n\\end{tabular}\n",
            "text/plain": [
              "   record_id month day year plot_id species_id sex hindfoot_length weight\n",
              "1    1        7    16  1977 2       NL         M   32               NA   \n",
              "2   72        8    19  1977 2       NL         M   31               NA   \n",
              "3  224        9    13  1977 2       NL             NA               NA   \n",
              "4  266       10    16  1977 2       NL             NA               NA   \n",
              "5  349       11    12  1977 2       NL             NA               NA   \n",
              "6  363       11    12  1977 2       NL             NA               NA   \n",
              "7  435       12    10  1977 2       NL             NA               NA   \n",
              "8  506        1     8  1978 2       NL             NA               NA   \n",
              "9  588        2    18  1978 2       NL         M   NA              218   \n",
              "10 661        3    11  1978 2       NL             NA               NA   \n",
              "   genus   species  taxa   plot_type month_name\n",
              "1  Neotoma albigula Rodent Control   NA        \n",
              "2  Neotoma albigula Rodent Control   NA        \n",
              "3  Neotoma albigula Rodent Control   NA        \n",
              "4  Neotoma albigula Rodent Control   NA        \n",
              "5  Neotoma albigula Rodent Control   NA        \n",
              "6  Neotoma albigula Rodent Control   NA        \n",
              "7  Neotoma albigula Rodent Control   NA        \n",
              "8  Neotoma albigula Rodent Control   Jan       \n",
              "9  Neotoma albigula Rodent Control   Feb       \n",
              "10 Neotoma albigula Rodent Control   Mar       "
            ]
          },
          "metadata": {}
        }
      ],
      "source": [
        "(surveys\n",
        "%>% mutate(month_name = recode(month,\n",
        "                               `1` = \"Jan\",\n",
        "                               `2` = \"Feb\",\n",
        "                               `3` = \"Mar\"),\n",
        "          )\n",
        " %>% head(10)\n",
        ")"
      ]
    },
    {
      "cell_type": "markdown",
      "source": [
        "#### Adding a `.default` option"
      ],
      "metadata": {
        "id": "iutbrIJ_CVtP"
      }
    },
    {
      "cell_type": "code",
      "source": [
        "(surveys\n",
        "%>% mutate(month_name = recode(month,\n",
        "                               `1` = \"Jan\",\n",
        "                               `2` = \"Feb\",\n",
        "                               `3` = \"Mar\",\n",
        "                               .default = \"Other\"),\n",
        "         )\n",
        " %>% head(10)\n",
        ")"
      ],
      "metadata": {
        "id": "nNJZYIDuCK1J",
        "outputId": "35d2241a-b4aa-447a-fbc7-79e9522cae63",
        "colab": {
          "base_uri": "https://localhost:8080/",
          "height": 356
        }
      },
      "execution_count": 18,
      "outputs": [
        {
          "output_type": "display_data",
          "data": {
            "text/html": [
              "<table class=\"dataframe\">\n",
              "<caption>A data.frame: 10 × 14</caption>\n",
              "<thead>\n",
              "\t<tr><th></th><th scope=col>record_id</th><th scope=col>month</th><th scope=col>day</th><th scope=col>year</th><th scope=col>plot_id</th><th scope=col>species_id</th><th scope=col>sex</th><th scope=col>hindfoot_length</th><th scope=col>weight</th><th scope=col>genus</th><th scope=col>species</th><th scope=col>taxa</th><th scope=col>plot_type</th><th scope=col>month_name</th></tr>\n",
              "\t<tr><th></th><th scope=col>&lt;int&gt;</th><th scope=col>&lt;int&gt;</th><th scope=col>&lt;int&gt;</th><th scope=col>&lt;int&gt;</th><th scope=col>&lt;int&gt;</th><th scope=col>&lt;chr&gt;</th><th scope=col>&lt;chr&gt;</th><th scope=col>&lt;int&gt;</th><th scope=col>&lt;int&gt;</th><th scope=col>&lt;chr&gt;</th><th scope=col>&lt;chr&gt;</th><th scope=col>&lt;chr&gt;</th><th scope=col>&lt;chr&gt;</th><th scope=col>&lt;chr&gt;</th></tr>\n",
              "</thead>\n",
              "<tbody>\n",
              "\t<tr><th scope=row>1</th><td>  1</td><td> 7</td><td>16</td><td>1977</td><td>2</td><td>NL</td><td>M</td><td>32</td><td> NA</td><td>Neotoma</td><td>albigula</td><td>Rodent</td><td>Control</td><td>Other</td></tr>\n",
              "\t<tr><th scope=row>2</th><td> 72</td><td> 8</td><td>19</td><td>1977</td><td>2</td><td>NL</td><td>M</td><td>31</td><td> NA</td><td>Neotoma</td><td>albigula</td><td>Rodent</td><td>Control</td><td>Other</td></tr>\n",
              "\t<tr><th scope=row>3</th><td>224</td><td> 9</td><td>13</td><td>1977</td><td>2</td><td>NL</td><td> </td><td>NA</td><td> NA</td><td>Neotoma</td><td>albigula</td><td>Rodent</td><td>Control</td><td>Other</td></tr>\n",
              "\t<tr><th scope=row>4</th><td>266</td><td>10</td><td>16</td><td>1977</td><td>2</td><td>NL</td><td> </td><td>NA</td><td> NA</td><td>Neotoma</td><td>albigula</td><td>Rodent</td><td>Control</td><td>Other</td></tr>\n",
              "\t<tr><th scope=row>5</th><td>349</td><td>11</td><td>12</td><td>1977</td><td>2</td><td>NL</td><td> </td><td>NA</td><td> NA</td><td>Neotoma</td><td>albigula</td><td>Rodent</td><td>Control</td><td>Other</td></tr>\n",
              "\t<tr><th scope=row>6</th><td>363</td><td>11</td><td>12</td><td>1977</td><td>2</td><td>NL</td><td> </td><td>NA</td><td> NA</td><td>Neotoma</td><td>albigula</td><td>Rodent</td><td>Control</td><td>Other</td></tr>\n",
              "\t<tr><th scope=row>7</th><td>435</td><td>12</td><td>10</td><td>1977</td><td>2</td><td>NL</td><td> </td><td>NA</td><td> NA</td><td>Neotoma</td><td>albigula</td><td>Rodent</td><td>Control</td><td>Other</td></tr>\n",
              "\t<tr><th scope=row>8</th><td>506</td><td> 1</td><td> 8</td><td>1978</td><td>2</td><td>NL</td><td> </td><td>NA</td><td> NA</td><td>Neotoma</td><td>albigula</td><td>Rodent</td><td>Control</td><td>Jan  </td></tr>\n",
              "\t<tr><th scope=row>9</th><td>588</td><td> 2</td><td>18</td><td>1978</td><td>2</td><td>NL</td><td>M</td><td>NA</td><td>218</td><td>Neotoma</td><td>albigula</td><td>Rodent</td><td>Control</td><td>Feb  </td></tr>\n",
              "\t<tr><th scope=row>10</th><td>661</td><td> 3</td><td>11</td><td>1978</td><td>2</td><td>NL</td><td> </td><td>NA</td><td> NA</td><td>Neotoma</td><td>albigula</td><td>Rodent</td><td>Control</td><td>Mar  </td></tr>\n",
              "</tbody>\n",
              "</table>\n"
            ],
            "text/markdown": "\nA data.frame: 10 × 14\n\n| <!--/--> | record_id &lt;int&gt; | month &lt;int&gt; | day &lt;int&gt; | year &lt;int&gt; | plot_id &lt;int&gt; | species_id &lt;chr&gt; | sex &lt;chr&gt; | hindfoot_length &lt;int&gt; | weight &lt;int&gt; | genus &lt;chr&gt; | species &lt;chr&gt; | taxa &lt;chr&gt; | plot_type &lt;chr&gt; | month_name &lt;chr&gt; |\n|---|---|---|---|---|---|---|---|---|---|---|---|---|---|---|\n| 1 |   1 |  7 | 16 | 1977 | 2 | NL | M | 32 |  NA | Neotoma | albigula | Rodent | Control | Other |\n| 2 |  72 |  8 | 19 | 1977 | 2 | NL | M | 31 |  NA | Neotoma | albigula | Rodent | Control | Other |\n| 3 | 224 |  9 | 13 | 1977 | 2 | NL | <!----> | NA |  NA | Neotoma | albigula | Rodent | Control | Other |\n| 4 | 266 | 10 | 16 | 1977 | 2 | NL | <!----> | NA |  NA | Neotoma | albigula | Rodent | Control | Other |\n| 5 | 349 | 11 | 12 | 1977 | 2 | NL | <!----> | NA |  NA | Neotoma | albigula | Rodent | Control | Other |\n| 6 | 363 | 11 | 12 | 1977 | 2 | NL | <!----> | NA |  NA | Neotoma | albigula | Rodent | Control | Other |\n| 7 | 435 | 12 | 10 | 1977 | 2 | NL | <!----> | NA |  NA | Neotoma | albigula | Rodent | Control | Other |\n| 8 | 506 |  1 |  8 | 1978 | 2 | NL | <!----> | NA |  NA | Neotoma | albigula | Rodent | Control | Jan   |\n| 9 | 588 |  2 | 18 | 1978 | 2 | NL | M | NA | 218 | Neotoma | albigula | Rodent | Control | Feb   |\n| 10 | 661 |  3 | 11 | 1978 | 2 | NL | <!----> | NA |  NA | Neotoma | albigula | Rodent | Control | Mar   |\n\n",
            "text/latex": "A data.frame: 10 × 14\n\\begin{tabular}{r|llllllllllllll}\n  & record\\_id & month & day & year & plot\\_id & species\\_id & sex & hindfoot\\_length & weight & genus & species & taxa & plot\\_type & month\\_name\\\\\n  & <int> & <int> & <int> & <int> & <int> & <chr> & <chr> & <int> & <int> & <chr> & <chr> & <chr> & <chr> & <chr>\\\\\n\\hline\n\t1 &   1 &  7 & 16 & 1977 & 2 & NL & M & 32 &  NA & Neotoma & albigula & Rodent & Control & Other\\\\\n\t2 &  72 &  8 & 19 & 1977 & 2 & NL & M & 31 &  NA & Neotoma & albigula & Rodent & Control & Other\\\\\n\t3 & 224 &  9 & 13 & 1977 & 2 & NL &   & NA &  NA & Neotoma & albigula & Rodent & Control & Other\\\\\n\t4 & 266 & 10 & 16 & 1977 & 2 & NL &   & NA &  NA & Neotoma & albigula & Rodent & Control & Other\\\\\n\t5 & 349 & 11 & 12 & 1977 & 2 & NL &   & NA &  NA & Neotoma & albigula & Rodent & Control & Other\\\\\n\t6 & 363 & 11 & 12 & 1977 & 2 & NL &   & NA &  NA & Neotoma & albigula & Rodent & Control & Other\\\\\n\t7 & 435 & 12 & 10 & 1977 & 2 & NL &   & NA &  NA & Neotoma & albigula & Rodent & Control & Other\\\\\n\t8 & 506 &  1 &  8 & 1978 & 2 & NL &   & NA &  NA & Neotoma & albigula & Rodent & Control & Jan  \\\\\n\t9 & 588 &  2 & 18 & 1978 & 2 & NL & M & NA & 218 & Neotoma & albigula & Rodent & Control & Feb  \\\\\n\t10 & 661 &  3 & 11 & 1978 & 2 & NL &   & NA &  NA & Neotoma & albigula & Rodent & Control & Mar  \\\\\n\\end{tabular}\n",
            "text/plain": [
              "   record_id month day year plot_id species_id sex hindfoot_length weight\n",
              "1    1        7    16  1977 2       NL         M   32               NA   \n",
              "2   72        8    19  1977 2       NL         M   31               NA   \n",
              "3  224        9    13  1977 2       NL             NA               NA   \n",
              "4  266       10    16  1977 2       NL             NA               NA   \n",
              "5  349       11    12  1977 2       NL             NA               NA   \n",
              "6  363       11    12  1977 2       NL             NA               NA   \n",
              "7  435       12    10  1977 2       NL             NA               NA   \n",
              "8  506        1     8  1978 2       NL             NA               NA   \n",
              "9  588        2    18  1978 2       NL         M   NA              218   \n",
              "10 661        3    11  1978 2       NL             NA               NA   \n",
              "   genus   species  taxa   plot_type month_name\n",
              "1  Neotoma albigula Rodent Control   Other     \n",
              "2  Neotoma albigula Rodent Control   Other     \n",
              "3  Neotoma albigula Rodent Control   Other     \n",
              "4  Neotoma albigula Rodent Control   Other     \n",
              "5  Neotoma albigula Rodent Control   Other     \n",
              "6  Neotoma albigula Rodent Control   Other     \n",
              "7  Neotoma albigula Rodent Control   Other     \n",
              "8  Neotoma albigula Rodent Control   Jan       \n",
              "9  Neotoma albigula Rodent Control   Feb       \n",
              "10 Neotoma albigula Rodent Control   Mar       "
            ]
          },
          "metadata": {}
        }
      ]
    },
    {
      "cell_type": "markdown",
      "source": [
        "## Pattern 3 - Using `str_detect` to determine if a string CONTAINS a value.\n",
        "\n",
        "To apply the string verb CONTAINS, we use the `str_detect` function from the `stringr` library (in `tidyverse`)."
      ],
      "metadata": {
        "id": "FN3B1w05Ieic"
      }
    },
    {
      "cell_type": "code",
      "source": [
        "sex <- surveys$sex\n",
        "sex %>% unique"
      ],
      "metadata": {
        "id": "1mDGkuVeI7W-",
        "outputId": "809fb356-3953-425c-8e86-76e6678b09c3",
        "colab": {
          "base_uri": "https://localhost:8080/",
          "height": 31
        }
      },
      "execution_count": 19,
      "outputs": [
        {
          "output_type": "display_data",
          "data": {
            "text/html": [
              "<style>\n",
              ".list-inline {list-style: none; margin:0; padding: 0}\n",
              ".list-inline>li {display: inline-block}\n",
              ".list-inline>li:not(:last-child)::after {content: \"\\00b7\"; padding: 0 .5ex}\n",
              "</style>\n",
              "<ol class=list-inline><li>'M'</li><li>''</li><li>'F'</li></ol>\n"
            ],
            "text/markdown": "1. 'M'\n2. ''\n3. 'F'\n\n\n",
            "text/latex": "\\begin{enumerate*}\n\\item 'M'\n\\item ''\n\\item 'F'\n\\end{enumerate*}\n",
            "text/plain": [
              "[1] \"M\" \"\"  \"F\""
            ]
          },
          "metadata": {}
        }
      ]
    },
    {
      "cell_type": "markdown",
      "source": [
        "### Use Case 1 - Using `str_detect` in a `filter`"
      ],
      "metadata": {
        "id": "OQ3gbxrHJOvE"
      }
    },
    {
      "cell_type": "code",
      "source": [
        "(surveys\n",
        " %>% filter(str_detect(sex, 'M'))\n",
        " %>% head\n",
        ")"
      ],
      "metadata": {
        "id": "nT0MNBE_JKAi",
        "outputId": "7a66fdf7-341b-4e43-f91d-86ecccab142e",
        "colab": {
          "base_uri": "https://localhost:8080/",
          "height": 255
        }
      },
      "execution_count": 20,
      "outputs": [
        {
          "output_type": "display_data",
          "data": {
            "text/html": [
              "<table class=\"dataframe\">\n",
              "<caption>A data.frame: 6 × 13</caption>\n",
              "<thead>\n",
              "\t<tr><th></th><th scope=col>record_id</th><th scope=col>month</th><th scope=col>day</th><th scope=col>year</th><th scope=col>plot_id</th><th scope=col>species_id</th><th scope=col>sex</th><th scope=col>hindfoot_length</th><th scope=col>weight</th><th scope=col>genus</th><th scope=col>species</th><th scope=col>taxa</th><th scope=col>plot_type</th></tr>\n",
              "\t<tr><th></th><th scope=col>&lt;int&gt;</th><th scope=col>&lt;int&gt;</th><th scope=col>&lt;int&gt;</th><th scope=col>&lt;int&gt;</th><th scope=col>&lt;int&gt;</th><th scope=col>&lt;chr&gt;</th><th scope=col>&lt;chr&gt;</th><th scope=col>&lt;int&gt;</th><th scope=col>&lt;int&gt;</th><th scope=col>&lt;chr&gt;</th><th scope=col>&lt;chr&gt;</th><th scope=col>&lt;chr&gt;</th><th scope=col>&lt;chr&gt;</th></tr>\n",
              "</thead>\n",
              "<tbody>\n",
              "\t<tr><th scope=row>1</th><td>   1</td><td>7</td><td>16</td><td>1977</td><td>2</td><td>NL</td><td>M</td><td>32</td><td> NA</td><td>Neotoma</td><td>albigula</td><td>Rodent</td><td>Control</td></tr>\n",
              "\t<tr><th scope=row>2</th><td>  72</td><td>8</td><td>19</td><td>1977</td><td>2</td><td>NL</td><td>M</td><td>31</td><td> NA</td><td>Neotoma</td><td>albigula</td><td>Rodent</td><td>Control</td></tr>\n",
              "\t<tr><th scope=row>3</th><td> 588</td><td>2</td><td>18</td><td>1978</td><td>2</td><td>NL</td><td>M</td><td>NA</td><td>218</td><td>Neotoma</td><td>albigula</td><td>Rodent</td><td>Control</td></tr>\n",
              "\t<tr><th scope=row>4</th><td> 845</td><td>5</td><td> 6</td><td>1978</td><td>2</td><td>NL</td><td>M</td><td>32</td><td>204</td><td>Neotoma</td><td>albigula</td><td>Rodent</td><td>Control</td></tr>\n",
              "\t<tr><th scope=row>5</th><td> 990</td><td>6</td><td> 9</td><td>1978</td><td>2</td><td>NL</td><td>M</td><td>NA</td><td>200</td><td>Neotoma</td><td>albigula</td><td>Rodent</td><td>Control</td></tr>\n",
              "\t<tr><th scope=row>6</th><td>1164</td><td>8</td><td> 5</td><td>1978</td><td>2</td><td>NL</td><td>M</td><td>34</td><td>199</td><td>Neotoma</td><td>albigula</td><td>Rodent</td><td>Control</td></tr>\n",
              "</tbody>\n",
              "</table>\n"
            ],
            "text/markdown": "\nA data.frame: 6 × 13\n\n| <!--/--> | record_id &lt;int&gt; | month &lt;int&gt; | day &lt;int&gt; | year &lt;int&gt; | plot_id &lt;int&gt; | species_id &lt;chr&gt; | sex &lt;chr&gt; | hindfoot_length &lt;int&gt; | weight &lt;int&gt; | genus &lt;chr&gt; | species &lt;chr&gt; | taxa &lt;chr&gt; | plot_type &lt;chr&gt; |\n|---|---|---|---|---|---|---|---|---|---|---|---|---|---|\n| 1 |    1 | 7 | 16 | 1977 | 2 | NL | M | 32 |  NA | Neotoma | albigula | Rodent | Control |\n| 2 |   72 | 8 | 19 | 1977 | 2 | NL | M | 31 |  NA | Neotoma | albigula | Rodent | Control |\n| 3 |  588 | 2 | 18 | 1978 | 2 | NL | M | NA | 218 | Neotoma | albigula | Rodent | Control |\n| 4 |  845 | 5 |  6 | 1978 | 2 | NL | M | 32 | 204 | Neotoma | albigula | Rodent | Control |\n| 5 |  990 | 6 |  9 | 1978 | 2 | NL | M | NA | 200 | Neotoma | albigula | Rodent | Control |\n| 6 | 1164 | 8 |  5 | 1978 | 2 | NL | M | 34 | 199 | Neotoma | albigula | Rodent | Control |\n\n",
            "text/latex": "A data.frame: 6 × 13\n\\begin{tabular}{r|lllllllllllll}\n  & record\\_id & month & day & year & plot\\_id & species\\_id & sex & hindfoot\\_length & weight & genus & species & taxa & plot\\_type\\\\\n  & <int> & <int> & <int> & <int> & <int> & <chr> & <chr> & <int> & <int> & <chr> & <chr> & <chr> & <chr>\\\\\n\\hline\n\t1 &    1 & 7 & 16 & 1977 & 2 & NL & M & 32 &  NA & Neotoma & albigula & Rodent & Control\\\\\n\t2 &   72 & 8 & 19 & 1977 & 2 & NL & M & 31 &  NA & Neotoma & albigula & Rodent & Control\\\\\n\t3 &  588 & 2 & 18 & 1978 & 2 & NL & M & NA & 218 & Neotoma & albigula & Rodent & Control\\\\\n\t4 &  845 & 5 &  6 & 1978 & 2 & NL & M & 32 & 204 & Neotoma & albigula & Rodent & Control\\\\\n\t5 &  990 & 6 &  9 & 1978 & 2 & NL & M & NA & 200 & Neotoma & albigula & Rodent & Control\\\\\n\t6 & 1164 & 8 &  5 & 1978 & 2 & NL & M & 34 & 199 & Neotoma & albigula & Rodent & Control\\\\\n\\end{tabular}\n",
            "text/plain": [
              "  record_id month day year plot_id species_id sex hindfoot_length weight\n",
              "1    1      7     16  1977 2       NL         M   32               NA   \n",
              "2   72      8     19  1977 2       NL         M   31               NA   \n",
              "3  588      2     18  1978 2       NL         M   NA              218   \n",
              "4  845      5      6  1978 2       NL         M   32              204   \n",
              "5  990      6      9  1978 2       NL         M   NA              200   \n",
              "6 1164      8      5  1978 2       NL         M   34              199   \n",
              "  genus   species  taxa   plot_type\n",
              "1 Neotoma albigula Rodent Control  \n",
              "2 Neotoma albigula Rodent Control  \n",
              "3 Neotoma albigula Rodent Control  \n",
              "4 Neotoma albigula Rodent Control  \n",
              "5 Neotoma albigula Rodent Control  \n",
              "6 Neotoma albigula Rodent Control  "
            ]
          },
          "metadata": {}
        }
      ]
    },
    {
      "cell_type": "markdown",
      "source": [
        "### Use Case 2 - Use with `ifelse` to create an indicator column"
      ],
      "metadata": {
        "id": "ARrU87YvJpzW"
      }
    },
    {
      "cell_type": "code",
      "source": [
        "(surveys\n",
        " %>% mutate(male = ifelse(str_detect(sex, 'M'), 1, 0))\n",
        " %>% head\n",
        ")"
      ],
      "metadata": {
        "id": "eFcAkAuoJwbW",
        "outputId": "b5eae949-298d-46a2-9788-9572b6e01b53",
        "colab": {
          "base_uri": "https://localhost:8080/",
          "height": 255
        }
      },
      "execution_count": 21,
      "outputs": [
        {
          "output_type": "display_data",
          "data": {
            "text/html": [
              "<table class=\"dataframe\">\n",
              "<caption>A data.frame: 6 × 14</caption>\n",
              "<thead>\n",
              "\t<tr><th></th><th scope=col>record_id</th><th scope=col>month</th><th scope=col>day</th><th scope=col>year</th><th scope=col>plot_id</th><th scope=col>species_id</th><th scope=col>sex</th><th scope=col>hindfoot_length</th><th scope=col>weight</th><th scope=col>genus</th><th scope=col>species</th><th scope=col>taxa</th><th scope=col>plot_type</th><th scope=col>male</th></tr>\n",
              "\t<tr><th></th><th scope=col>&lt;int&gt;</th><th scope=col>&lt;int&gt;</th><th scope=col>&lt;int&gt;</th><th scope=col>&lt;int&gt;</th><th scope=col>&lt;int&gt;</th><th scope=col>&lt;chr&gt;</th><th scope=col>&lt;chr&gt;</th><th scope=col>&lt;int&gt;</th><th scope=col>&lt;int&gt;</th><th scope=col>&lt;chr&gt;</th><th scope=col>&lt;chr&gt;</th><th scope=col>&lt;chr&gt;</th><th scope=col>&lt;chr&gt;</th><th scope=col>&lt;dbl&gt;</th></tr>\n",
              "</thead>\n",
              "<tbody>\n",
              "\t<tr><th scope=row>1</th><td>  1</td><td> 7</td><td>16</td><td>1977</td><td>2</td><td>NL</td><td>M</td><td>32</td><td>NA</td><td>Neotoma</td><td>albigula</td><td>Rodent</td><td>Control</td><td>1</td></tr>\n",
              "\t<tr><th scope=row>2</th><td> 72</td><td> 8</td><td>19</td><td>1977</td><td>2</td><td>NL</td><td>M</td><td>31</td><td>NA</td><td>Neotoma</td><td>albigula</td><td>Rodent</td><td>Control</td><td>1</td></tr>\n",
              "\t<tr><th scope=row>3</th><td>224</td><td> 9</td><td>13</td><td>1977</td><td>2</td><td>NL</td><td> </td><td>NA</td><td>NA</td><td>Neotoma</td><td>albigula</td><td>Rodent</td><td>Control</td><td>0</td></tr>\n",
              "\t<tr><th scope=row>4</th><td>266</td><td>10</td><td>16</td><td>1977</td><td>2</td><td>NL</td><td> </td><td>NA</td><td>NA</td><td>Neotoma</td><td>albigula</td><td>Rodent</td><td>Control</td><td>0</td></tr>\n",
              "\t<tr><th scope=row>5</th><td>349</td><td>11</td><td>12</td><td>1977</td><td>2</td><td>NL</td><td> </td><td>NA</td><td>NA</td><td>Neotoma</td><td>albigula</td><td>Rodent</td><td>Control</td><td>0</td></tr>\n",
              "\t<tr><th scope=row>6</th><td>363</td><td>11</td><td>12</td><td>1977</td><td>2</td><td>NL</td><td> </td><td>NA</td><td>NA</td><td>Neotoma</td><td>albigula</td><td>Rodent</td><td>Control</td><td>0</td></tr>\n",
              "</tbody>\n",
              "</table>\n"
            ],
            "text/markdown": "\nA data.frame: 6 × 14\n\n| <!--/--> | record_id &lt;int&gt; | month &lt;int&gt; | day &lt;int&gt; | year &lt;int&gt; | plot_id &lt;int&gt; | species_id &lt;chr&gt; | sex &lt;chr&gt; | hindfoot_length &lt;int&gt; | weight &lt;int&gt; | genus &lt;chr&gt; | species &lt;chr&gt; | taxa &lt;chr&gt; | plot_type &lt;chr&gt; | male &lt;dbl&gt; |\n|---|---|---|---|---|---|---|---|---|---|---|---|---|---|---|\n| 1 |   1 |  7 | 16 | 1977 | 2 | NL | M | 32 | NA | Neotoma | albigula | Rodent | Control | 1 |\n| 2 |  72 |  8 | 19 | 1977 | 2 | NL | M | 31 | NA | Neotoma | albigula | Rodent | Control | 1 |\n| 3 | 224 |  9 | 13 | 1977 | 2 | NL | <!----> | NA | NA | Neotoma | albigula | Rodent | Control | 0 |\n| 4 | 266 | 10 | 16 | 1977 | 2 | NL | <!----> | NA | NA | Neotoma | albigula | Rodent | Control | 0 |\n| 5 | 349 | 11 | 12 | 1977 | 2 | NL | <!----> | NA | NA | Neotoma | albigula | Rodent | Control | 0 |\n| 6 | 363 | 11 | 12 | 1977 | 2 | NL | <!----> | NA | NA | Neotoma | albigula | Rodent | Control | 0 |\n\n",
            "text/latex": "A data.frame: 6 × 14\n\\begin{tabular}{r|llllllllllllll}\n  & record\\_id & month & day & year & plot\\_id & species\\_id & sex & hindfoot\\_length & weight & genus & species & taxa & plot\\_type & male\\\\\n  & <int> & <int> & <int> & <int> & <int> & <chr> & <chr> & <int> & <int> & <chr> & <chr> & <chr> & <chr> & <dbl>\\\\\n\\hline\n\t1 &   1 &  7 & 16 & 1977 & 2 & NL & M & 32 & NA & Neotoma & albigula & Rodent & Control & 1\\\\\n\t2 &  72 &  8 & 19 & 1977 & 2 & NL & M & 31 & NA & Neotoma & albigula & Rodent & Control & 1\\\\\n\t3 & 224 &  9 & 13 & 1977 & 2 & NL &   & NA & NA & Neotoma & albigula & Rodent & Control & 0\\\\\n\t4 & 266 & 10 & 16 & 1977 & 2 & NL &   & NA & NA & Neotoma & albigula & Rodent & Control & 0\\\\\n\t5 & 349 & 11 & 12 & 1977 & 2 & NL &   & NA & NA & Neotoma & albigula & Rodent & Control & 0\\\\\n\t6 & 363 & 11 & 12 & 1977 & 2 & NL &   & NA & NA & Neotoma & albigula & Rodent & Control & 0\\\\\n\\end{tabular}\n",
            "text/plain": [
              "  record_id month day year plot_id species_id sex hindfoot_length weight\n",
              "1   1        7    16  1977 2       NL         M   32              NA    \n",
              "2  72        8    19  1977 2       NL         M   31              NA    \n",
              "3 224        9    13  1977 2       NL             NA              NA    \n",
              "4 266       10    16  1977 2       NL             NA              NA    \n",
              "5 349       11    12  1977 2       NL             NA              NA    \n",
              "6 363       11    12  1977 2       NL             NA              NA    \n",
              "  genus   species  taxa   plot_type male\n",
              "1 Neotoma albigula Rodent Control   1   \n",
              "2 Neotoma albigula Rodent Control   1   \n",
              "3 Neotoma albigula Rodent Control   0   \n",
              "4 Neotoma albigula Rodent Control   0   \n",
              "5 Neotoma albigula Rodent Control   0   \n",
              "6 Neotoma albigula Rodent Control   0   "
            ]
          },
          "metadata": {}
        }
      ]
    },
    {
      "cell_type": "markdown",
      "source": [
        "## Pattern 4 - Split & Get\n",
        "\n",
        "We can use the `str_split_i(string, pattern, i)` function to split `string` on `pattern`, then getting element `i`"
      ],
      "metadata": {
        "id": "6DP_1sMDEb-Z"
      }
    },
    {
      "cell_type": "code",
      "source": [
        "( surveys\n",
        " %>% select(genus)\n",
        " %>% filter(genus == 'Neotoma')\n",
        "  %>% mutate(part1 = str_split_i(genus, 't', 1),\n",
        "             part2 = str_split_i(genus, 't', 2),\n",
        "            )\n",
        "  %>% head\n",
        ")"
      ],
      "metadata": {
        "id": "LsTptW6bKzsw",
        "outputId": "617cfc6f-2765-4bb7-c227-c8578af6938b",
        "colab": {
          "base_uri": "https://localhost:8080/",
          "height": 235
        }
      },
      "execution_count": 22,
      "outputs": [
        {
          "output_type": "display_data",
          "data": {
            "text/html": [
              "<table class=\"dataframe\">\n",
              "<caption>A data.frame: 6 × 3</caption>\n",
              "<thead>\n",
              "\t<tr><th></th><th scope=col>genus</th><th scope=col>part1</th><th scope=col>part2</th></tr>\n",
              "\t<tr><th></th><th scope=col>&lt;chr&gt;</th><th scope=col>&lt;chr&gt;</th><th scope=col>&lt;chr&gt;</th></tr>\n",
              "</thead>\n",
              "<tbody>\n",
              "\t<tr><th scope=row>1</th><td>Neotoma</td><td>Neo</td><td>oma</td></tr>\n",
              "\t<tr><th scope=row>2</th><td>Neotoma</td><td>Neo</td><td>oma</td></tr>\n",
              "\t<tr><th scope=row>3</th><td>Neotoma</td><td>Neo</td><td>oma</td></tr>\n",
              "\t<tr><th scope=row>4</th><td>Neotoma</td><td>Neo</td><td>oma</td></tr>\n",
              "\t<tr><th scope=row>5</th><td>Neotoma</td><td>Neo</td><td>oma</td></tr>\n",
              "\t<tr><th scope=row>6</th><td>Neotoma</td><td>Neo</td><td>oma</td></tr>\n",
              "</tbody>\n",
              "</table>\n"
            ],
            "text/markdown": "\nA data.frame: 6 × 3\n\n| <!--/--> | genus &lt;chr&gt; | part1 &lt;chr&gt; | part2 &lt;chr&gt; |\n|---|---|---|---|\n| 1 | Neotoma | Neo | oma |\n| 2 | Neotoma | Neo | oma |\n| 3 | Neotoma | Neo | oma |\n| 4 | Neotoma | Neo | oma |\n| 5 | Neotoma | Neo | oma |\n| 6 | Neotoma | Neo | oma |\n\n",
            "text/latex": "A data.frame: 6 × 3\n\\begin{tabular}{r|lll}\n  & genus & part1 & part2\\\\\n  & <chr> & <chr> & <chr>\\\\\n\\hline\n\t1 & Neotoma & Neo & oma\\\\\n\t2 & Neotoma & Neo & oma\\\\\n\t3 & Neotoma & Neo & oma\\\\\n\t4 & Neotoma & Neo & oma\\\\\n\t5 & Neotoma & Neo & oma\\\\\n\t6 & Neotoma & Neo & oma\\\\\n\\end{tabular}\n",
            "text/plain": [
              "  genus   part1 part2\n",
              "1 Neotoma Neo   oma  \n",
              "2 Neotoma Neo   oma  \n",
              "3 Neotoma Neo   oma  \n",
              "4 Neotoma Neo   oma  \n",
              "5 Neotoma Neo   oma  \n",
              "6 Neotoma Neo   oma  "
            ]
          },
          "metadata": {}
        }
      ]
    },
    {
      "cell_type": "markdown",
      "source": [
        "# Activity 6.3 - Cleaning the comic data in `R`\n",
        "\n",
        "In today's activity, we will return to the comics data, this time cleaning it up in `R`"
      ],
      "metadata": {
        "id": "Na19uBN-SupD"
      }
    },
    {
      "cell_type": "markdown",
      "source": [
        "#### Problem 0 - Lead the `Comic_Data_Messy.csv` file, which is located in the `data` folder in D2L."
      ],
      "metadata": {
        "id": "I2IkKJINUsSN"
      }
    },
    {
      "cell_type": "code",
      "source": [
        "# Your code here"
      ],
      "metadata": {
        "id": "oyX2CAHKU2Lh"
      },
      "execution_count": null,
      "outputs": []
    },
    {
      "cell_type": "markdown",
      "metadata": {
        "id": "sYCMgyFe4hHK"
      },
      "source": [
        "#### Problem 1 - Clean up the `comic` column\n",
        "**Tasks:**\n",
        "\n",
        "1. Use `unique` to explore the `comic` column and identify problems.\n",
        "2. Use `recode` to clean up the `comic` column"
      ]
    },
    {
      "cell_type": "code",
      "execution_count": null,
      "metadata": {
        "id": "aKJcvH9Z4hHK"
      },
      "outputs": [],
      "source": [
        "# Your code here"
      ]
    },
    {
      "cell_type": "markdown",
      "source": [
        "### Problem 1 - Lead a fresh copy of the file."
      ],
      "metadata": {
        "id": "o9IgZzA4TBNF"
      }
    },
    {
      "cell_type": "code",
      "source": [
        "# Your code here."
      ],
      "metadata": {
        "id": "6DIvA_B4SnJY"
      },
      "execution_count": null,
      "outputs": []
    },
    {
      "cell_type": "markdown",
      "source": [
        "## Problem 2 - Extract the year\n",
        "\n",
        "**Task 1.** Use `ifelse`, `str_detect`, and `str_split_i` to extract the year from the `FIRST.APPEARANCE` column into a column called `year.raw` .  The basic pattern will have the basic form shown below.\n",
        "\n",
        "```\n",
        "mutate(year.raw = ifelse(CONTAINS a comma, SPLIT on comma and GET 1, SPLIT on hyphen and GET 2)\n",
        "```\n",
        "\n",
        "**Task 2.** Suppose that we want to keep the last two digits of the year column.  Perform a transformations using `ifelse` to extract these last two digits into a column called `year`.\n",
        "\n",
        "**Task 3.** Drop the `year.raw` column."
      ],
      "metadata": {
        "id": "h-BUqvYVKwLA"
      }
    },
    {
      "cell_type": "code",
      "source": [
        "# Your code here"
      ],
      "metadata": {
        "id": "FIM4sgFTM6Wp"
      },
      "execution_count": null,
      "outputs": []
    },
    {
      "cell_type": "markdown",
      "source": [
        "## Problem 3 - Extract and recode the month\n",
        "\n",
        "Next, we will extract the month of the `FIRST.APPEARANCE`.\n",
        "**Task 1.** Use a similar pattern as used in the last problem to extract the month.\n",
        "\n",
        "**Task 2.** Use recode the recode the months to the three digit abbreviation."
      ],
      "metadata": {
        "id": "nFBSVl-KTReg"
      }
    },
    {
      "cell_type": "code",
      "source": [
        "# Your code here"
      ],
      "metadata": {
        "id": "2K28jenwTq7W"
      },
      "execution_count": null,
      "outputs": []
    },
    {
      "cell_type": "markdown",
      "source": [
        "## Case Study - Cleaning and extracting the information from `urlslug`\n",
        "\n",
        "In a previous activity, I shared the code for cleaning up the `urlslug` column.  I will apply the extact same process, but this time using `R`."
      ],
      "metadata": {
        "id": "ibFtAZKhNBk5"
      }
    },
    {
      "cell_type": "code",
      "source": [
        "(comics\n",
        "#  %>% select(urlslug) # Temp select\n",
        " %>% mutate(has_group = ifelse(str_detect(urlslug, '\\\\)_\\\\('), 1, 0), # parentheses are special and need \\\\ in front\n",
        "            urlslug2 = urlslug\n",
        "                        %>% str_replace(\"\\\\\\\\/wiki\", '') # both \\ and / are also special and need to be escaped\n",
        "                        %>% str_replace(\"\\\\\\\\/\", \"\")\n",
        "                        %>% str_replace(\"\\\\)_\\\\(\", \"|\")\n",
        "                        %>% str_replace(\"_\\\\(\", \"|\")\n",
        "                        %>% str_replace('\\\\)', '')\n",
        "                        %>% str_replace('_', ' '),\n",
        "           name = str_split_i(urlslug2, '\\\\|', 1),\n",
        "           group_or_alias = ifelse(has_group, str_split_i(urlslug2, '\\\\|', 2), NA),\n",
        "           universe = str_split_i(urlslug2, '\\\\|', -1),\n",
        "           )\n",
        " %>% select(-urlslug, -urlslug2)\n",
        " %>% head(10)\n",
        ")"
      ],
      "metadata": {
        "id": "IwE5h5i_NSVh",
        "outputId": "ce65ed9c-31f4-41e4-97e8-9050f6784af5",
        "colab": {
          "base_uri": "https://localhost:8080/",
          "height": 407
        }
      },
      "execution_count": null,
      "outputs": [
        {
          "output_type": "display_data",
          "data": {
            "text/html": [
              "<table class=\"dataframe\">\n",
              "<caption>A data.frame: 10 × 13</caption>\n",
              "<thead>\n",
              "\t<tr><th></th><th scope=col>page_id</th><th scope=col>ID</th><th scope=col>ALIGN</th><th scope=col>SEX</th><th scope=col>ALIVE</th><th scope=col>APPEARANCES</th><th scope=col>FIRST.APPEARANCE</th><th scope=col>comic</th><th scope=col>PHYSICAL</th><th scope=col>has_group</th><th scope=col>name</th><th scope=col>group_or_alias</th><th scope=col>universe</th></tr>\n",
              "\t<tr><th></th><th scope=col>&lt;int&gt;</th><th scope=col>&lt;chr&gt;</th><th scope=col>&lt;chr&gt;</th><th scope=col>&lt;chr&gt;</th><th scope=col>&lt;chr&gt;</th><th scope=col>&lt;int&gt;</th><th scope=col>&lt;chr&gt;</th><th scope=col>&lt;chr&gt;</th><th scope=col>&lt;chr&gt;</th><th scope=col>&lt;dbl&gt;</th><th scope=col>&lt;chr&gt;</th><th scope=col>&lt;chr&gt;</th><th scope=col>&lt;chr&gt;</th></tr>\n",
              "</thead>\n",
              "<tbody>\n",
              "\t<tr><th scope=row>1</th><td>666101</td><td>Public Identity</td><td>                  </td><td>Male Characters  </td><td>Living Characters  </td><td> 4</td><td>Apr-97         </td><td>marvel       </td><td>Blue Eyes , Brown Hair</td><td>0</td><td>Jonathan Dillon </td><td>NA    </td><td>Earth-616</td></tr>\n",
              "\t<tr><th scope=row>2</th><td>280850</td><td>Public Identity</td><td>                  </td><td>Male Characters  </td><td>Deceased Characters</td><td>NA</td><td>Oct-01         </td><td>marvl        </td><td>Blue Eyes , Blond Hair</td><td>1</td><td>John            </td><td>Mutant</td><td>Earth-616</td></tr>\n",
              "\t<tr><th scope=row>3</th><td>129267</td><td>Public Identity</td><td>Good Characters   </td><td>Male Characters  </td><td>Living Characters  </td><td>15</td><td>1987, September</td><td>DC comics    </td><td> , Black Hair         </td><td>0</td><td>Gene LaBostrie  </td><td>NA    </td><td>New_Earth</td></tr>\n",
              "\t<tr><th scope=row>4</th><td>157368</td><td>Public Identity</td><td>Good Characters   </td><td>Male Characters  </td><td>Deceased Characters</td><td>15</td><td>1992, September</td><td>DC           </td><td>Black Eyes ,          </td><td>0</td><td>Reemuz          </td><td>NA    </td><td>New Earth</td></tr>\n",
              "\t<tr><th scope=row>5</th><td> 16171</td><td>Secret Identity</td><td>Bad Characters    </td><td>Male Characters  </td><td>Living Characters  </td><td> 1</td><td>Jul-73         </td><td>marvl        </td><td> ,                    </td><td>0</td><td>Aquon           </td><td>NA    </td><td>Earth-616</td></tr>\n",
              "\t<tr><th scope=row>6</th><td>240298</td><td>Secret Identity</td><td>Bad Characters    </td><td>Female Characters</td><td>Living Characters  </td><td> 4</td><td>2002, April    </td><td>DC           </td><td> , Black Hair         </td><td>0</td><td>Rachel Berkowitz</td><td>NA    </td><td>New_Earth</td></tr>\n",
              "\t<tr><th scope=row>7</th><td>186659</td><td>               </td><td>Bad Characters    </td><td>Male Characters  </td><td>Living Characters  </td><td>NA</td><td>1999, May      </td><td>DC           </td><td> ,                    </td><td>0</td><td>Golem II        </td><td>NA    </td><td>New_Earth</td></tr>\n",
              "\t<tr><th scope=row>8</th><td>288877</td><td>Public Identity</td><td>Bad Characters    </td><td>Male Characters  </td><td>Living Characters  </td><td> 1</td><td>Oct-86         </td><td>Marvel Comics</td><td> ,                    </td><td>0</td><td>Burka           </td><td>NA    </td><td>Earth-616</td></tr>\n",
              "\t<tr><th scope=row>9</th><td>402328</td><td>               </td><td>Bad Characters    </td><td>Male Characters  </td><td>Living Characters  </td><td>14</td><td>Jul-06         </td><td>marvelcomics </td><td>Blue Eyes , Blond Hair</td><td>0</td><td>Max Lohmer      </td><td>NA    </td><td>Earth-616</td></tr>\n",
              "\t<tr><th scope=row>10</th><td> 22342</td><td>Public Identity</td><td>Neutral Characters</td><td>Male Characters  </td><td>Deceased Characters</td><td> 7</td><td>Aug-89         </td><td>marvelcomics </td><td> , Grey Hair          </td><td>0</td><td>Paul Harker     </td><td>NA    </td><td>Earth-616</td></tr>\n",
              "</tbody>\n",
              "</table>\n"
            ],
            "text/markdown": "\nA data.frame: 10 × 13\n\n| <!--/--> | page_id &lt;int&gt; | ID &lt;chr&gt; | ALIGN &lt;chr&gt; | SEX &lt;chr&gt; | ALIVE &lt;chr&gt; | APPEARANCES &lt;int&gt; | FIRST.APPEARANCE &lt;chr&gt; | comic &lt;chr&gt; | PHYSICAL &lt;chr&gt; | has_group &lt;dbl&gt; | name &lt;chr&gt; | group_or_alias &lt;chr&gt; | universe &lt;chr&gt; |\n|---|---|---|---|---|---|---|---|---|---|---|---|---|---|\n| 1 | 666101 | Public Identity | <!----> | Male Characters   | Living Characters   |  4 | Apr-97          | marvel        | Blue Eyes , Brown Hair | 0 | Jonathan Dillon  | NA     | Earth-616 |\n| 2 | 280850 | Public Identity | <!----> | Male Characters   | Deceased Characters | NA | Oct-01          | marvl         | Blue Eyes , Blond Hair | 1 | John             | Mutant | Earth-616 |\n| 3 | 129267 | Public Identity | Good Characters    | Male Characters   | Living Characters   | 15 | 1987, September | DC comics     |  , Black Hair          | 0 | Gene LaBostrie   | NA     | New_Earth |\n| 4 | 157368 | Public Identity | Good Characters    | Male Characters   | Deceased Characters | 15 | 1992, September | DC            | Black Eyes ,           | 0 | Reemuz           | NA     | New Earth |\n| 5 |  16171 | Secret Identity | Bad Characters     | Male Characters   | Living Characters   |  1 | Jul-73          | marvl         |  ,                     | 0 | Aquon            | NA     | Earth-616 |\n| 6 | 240298 | Secret Identity | Bad Characters     | Female Characters | Living Characters   |  4 | 2002, April     | DC            |  , Black Hair          | 0 | Rachel Berkowitz | NA     | New_Earth |\n| 7 | 186659 | <!----> | Bad Characters     | Male Characters   | Living Characters   | NA | 1999, May       | DC            |  ,                     | 0 | Golem II         | NA     | New_Earth |\n| 8 | 288877 | Public Identity | Bad Characters     | Male Characters   | Living Characters   |  1 | Oct-86          | Marvel Comics |  ,                     | 0 | Burka            | NA     | Earth-616 |\n| 9 | 402328 | <!----> | Bad Characters     | Male Characters   | Living Characters   | 14 | Jul-06          | marvelcomics  | Blue Eyes , Blond Hair | 0 | Max Lohmer       | NA     | Earth-616 |\n| 10 |  22342 | Public Identity | Neutral Characters | Male Characters   | Deceased Characters |  7 | Aug-89          | marvelcomics  |  , Grey Hair           | 0 | Paul Harker      | NA     | Earth-616 |\n\n",
            "text/latex": "A data.frame: 10 × 13\n\\begin{tabular}{r|lllllllllllll}\n  & page\\_id & ID & ALIGN & SEX & ALIVE & APPEARANCES & FIRST.APPEARANCE & comic & PHYSICAL & has\\_group & name & group\\_or\\_alias & universe\\\\\n  & <int> & <chr> & <chr> & <chr> & <chr> & <int> & <chr> & <chr> & <chr> & <dbl> & <chr> & <chr> & <chr>\\\\\n\\hline\n\t1 & 666101 & Public Identity &                    & Male Characters   & Living Characters   &  4 & Apr-97          & marvel        & Blue Eyes , Brown Hair & 0 & Jonathan Dillon  & NA     & Earth-616\\\\\n\t2 & 280850 & Public Identity &                    & Male Characters   & Deceased Characters & NA & Oct-01          & marvl         & Blue Eyes , Blond Hair & 1 & John             & Mutant & Earth-616\\\\\n\t3 & 129267 & Public Identity & Good Characters    & Male Characters   & Living Characters   & 15 & 1987, September & DC comics     &  , Black Hair          & 0 & Gene LaBostrie   & NA     & New\\_Earth\\\\\n\t4 & 157368 & Public Identity & Good Characters    & Male Characters   & Deceased Characters & 15 & 1992, September & DC            & Black Eyes ,           & 0 & Reemuz           & NA     & New Earth\\\\\n\t5 &  16171 & Secret Identity & Bad Characters     & Male Characters   & Living Characters   &  1 & Jul-73          & marvl         &  ,                     & 0 & Aquon            & NA     & Earth-616\\\\\n\t6 & 240298 & Secret Identity & Bad Characters     & Female Characters & Living Characters   &  4 & 2002, April     & DC            &  , Black Hair          & 0 & Rachel Berkowitz & NA     & New\\_Earth\\\\\n\t7 & 186659 &                 & Bad Characters     & Male Characters   & Living Characters   & NA & 1999, May       & DC            &  ,                     & 0 & Golem II         & NA     & New\\_Earth\\\\\n\t8 & 288877 & Public Identity & Bad Characters     & Male Characters   & Living Characters   &  1 & Oct-86          & Marvel Comics &  ,                     & 0 & Burka            & NA     & Earth-616\\\\\n\t9 & 402328 &                 & Bad Characters     & Male Characters   & Living Characters   & 14 & Jul-06          & marvelcomics  & Blue Eyes , Blond Hair & 0 & Max Lohmer       & NA     & Earth-616\\\\\n\t10 &  22342 & Public Identity & Neutral Characters & Male Characters   & Deceased Characters &  7 & Aug-89          & marvelcomics  &  , Grey Hair           & 0 & Paul Harker      & NA     & Earth-616\\\\\n\\end{tabular}\n",
            "text/plain": [
              "   page_id ID              ALIGN              SEX              \n",
              "1  666101  Public Identity                    Male Characters  \n",
              "2  280850  Public Identity                    Male Characters  \n",
              "3  129267  Public Identity Good Characters    Male Characters  \n",
              "4  157368  Public Identity Good Characters    Male Characters  \n",
              "5   16171  Secret Identity Bad Characters     Male Characters  \n",
              "6  240298  Secret Identity Bad Characters     Female Characters\n",
              "7  186659                  Bad Characters     Male Characters  \n",
              "8  288877  Public Identity Bad Characters     Male Characters  \n",
              "9  402328                  Bad Characters     Male Characters  \n",
              "10  22342  Public Identity Neutral Characters Male Characters  \n",
              "   ALIVE               APPEARANCES FIRST.APPEARANCE comic        \n",
              "1  Living Characters    4          Apr-97           marvel       \n",
              "2  Deceased Characters NA          Oct-01           marvl        \n",
              "3  Living Characters   15          1987, September  DC comics    \n",
              "4  Deceased Characters 15          1992, September  DC           \n",
              "5  Living Characters    1          Jul-73           marvl        \n",
              "6  Living Characters    4          2002, April      DC           \n",
              "7  Living Characters   NA          1999, May        DC           \n",
              "8  Living Characters    1          Oct-86           Marvel Comics\n",
              "9  Living Characters   14          Jul-06           marvelcomics \n",
              "10 Deceased Characters  7          Aug-89           marvelcomics \n",
              "   PHYSICAL               has_group name             group_or_alias universe \n",
              "1  Blue Eyes , Brown Hair 0         Jonathan Dillon  NA             Earth-616\n",
              "2  Blue Eyes , Blond Hair 1         John             Mutant         Earth-616\n",
              "3   , Black Hair          0         Gene LaBostrie   NA             New_Earth\n",
              "4  Black Eyes ,           0         Reemuz           NA             New Earth\n",
              "5   ,                     0         Aquon            NA             Earth-616\n",
              "6   , Black Hair          0         Rachel Berkowitz NA             New_Earth\n",
              "7   ,                     0         Golem II         NA             New_Earth\n",
              "8   ,                     0         Burka            NA             Earth-616\n",
              "9  Blue Eyes , Blond Hair 0         Max Lohmer       NA             Earth-616\n",
              "10  , Grey Hair           0         Paul Harker      NA             Earth-616"
            ]
          },
          "metadata": {}
        }
      ]
    },
    {
      "cell_type": "markdown",
      "source": [
        "#### Problem 4 - Explore the case study code.\n",
        "\n",
        "**Questions.**\n",
        "\n",
        "1. What is the purpose of the first (now commented out) `select`?\n",
        "2. Use comments to step through the creation of the `urlslug2` column and explain the purpose of each step.\n",
        "3. Discuss how the 2-3 pieces of information were split into three columns."
      ],
      "metadata": {
        "id": "6HC25ax3Tv7L"
      }
    },
    {
      "cell_type": "markdown",
      "source": [
        "<font color=\"orange\">\n",
        "Your answers here\n",
        "</font>"
      ],
      "metadata": {
        "id": "095G-DB2UM9r"
      }
    }
  ],
  "metadata": {
    "kernelspec": {
      "display_name": "R",
      "language": "R",
      "name": "ir"
    },
    "language_info": {
      "codemirror_mode": "r",
      "file_extension": ".r",
      "mimetype": "text/x-r-source",
      "name": "R",
      "pygments_lexer": "r",
      "version": "3.5.1"
    },
    "colab": {
      "provenance": [],
      "include_colab_link": true
    }
  },
  "nbformat": 4,
  "nbformat_minor": 0
}