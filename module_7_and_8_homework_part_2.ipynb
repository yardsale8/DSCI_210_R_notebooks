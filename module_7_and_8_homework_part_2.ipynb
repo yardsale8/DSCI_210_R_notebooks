{
  "cells": [
    {
      "cell_type": "markdown",
      "metadata": {
        "id": "view-in-github",
        "colab_type": "text"
      },
      "source": [
        "<a href=\"https://colab.research.google.com/github/yardsale8/DSCI_210_R_notebooks/blob/main/module_7_and_8_homework_part_2.ipynb\" target=\"_parent\"><img src=\"https://colab.research.google.com/assets/colab-badge.svg\" alt=\"Open In Colab\"/></a>"
      ]
    },
    {
      "cell_type": "markdown",
      "source": [
        "# Module 7 & 8 Homework - Part 2"
      ],
      "metadata": {
        "id": "IDnZXv2RBiUz"
      }
    },
    {
      "cell_type": "code",
      "source": [
        "library(tidyverse)"
      ],
      "metadata": {
        "id": "bjjy_AseBnPL"
      },
      "execution_count": null,
      "outputs": []
    },
    {
      "cell_type": "markdown",
      "source": [
        "## Problem 1 - Football Sleep Data\n",
        "\n",
        "**Instructions:** Open this notebook in Colab and complete the following questions.  **You should probably save a copy to Google Drive, but you will need to log in to a Gmail account.**\n",
        "\n",
        "The  **Football_Sleep_Data.csv** file comes from a graduate student working on his master's degree in athletic training.  The students were all members of the university football team.  The data contain GPA and measures of athletic performance (how much students could lift in the clean, back squat, and bench press) at the beginning and again at the end of a semester.  Over the course of the semester, students were regularly asked via text message how much sleep they had received the previous night; their responses to this question were averaged.  At the end of the semester, the GPA and press measurements were taken again.   Of interest is analyzing how the weight lifted with clean press changed over time, and whether the change differed comparing students who averaged 7+ hours of sleep to those who averaged <7 hours of sleep.  The file looks like this:"
      ],
      "metadata": {
        "id": "rofAbSJZBOzY"
      }
    },
    {
      "cell_type": "code",
      "source": [
        "fb <- read.csv('https://github.com/WSU-DataScience/DSCI_210_R_notebooks/raw/main/data/Football_Sleep_data.csv')\n",
        "head(fb)"
      ],
      "metadata": {
        "id": "ubI0afLmBddm",
        "outputId": "638ee7a1-a15b-4685-a858-dde22ce20468",
        "colab": {
          "base_uri": "https://localhost:8080/",
          "height": 279
        }
      },
      "execution_count": null,
      "outputs": [
        {
          "output_type": "display_data",
          "data": {
            "text/html": [
              "<table class=\"dataframe\">\n",
              "<caption>A data.frame: 6 × 12</caption>\n",
              "<thead>\n",
              "\t<tr><th></th><th scope=col>student</th><th scope=col>Class</th><th scope=col>Pct7</th><th scope=col>Avg.sleep.per.night</th><th scope=col>GPA.pre</th><th scope=col>GPA.post</th><th scope=col>Clean.pre</th><th scope=col>Clean.post</th><th scope=col>Back.pre</th><th scope=col>Back.post</th><th scope=col>Bench.pre</th><th scope=col>Bench.post</th></tr>\n",
              "\t<tr><th></th><th scope=col>&lt;int&gt;</th><th scope=col>&lt;int&gt;</th><th scope=col>&lt;chr&gt;</th><th scope=col>&lt;dbl&gt;</th><th scope=col>&lt;dbl&gt;</th><th scope=col>&lt;dbl&gt;</th><th scope=col>&lt;int&gt;</th><th scope=col>&lt;int&gt;</th><th scope=col>&lt;int&gt;</th><th scope=col>&lt;int&gt;</th><th scope=col>&lt;int&gt;</th><th scope=col>&lt;int&gt;</th></tr>\n",
              "</thead>\n",
              "<tbody>\n",
              "\t<tr><th scope=row>1</th><td>1</td><td>NA</td><td>   </td><td> NA</td><td>3.21</td><td>3.60</td><td>270</td><td> NA</td><td>425</td><td> NA</td><td>315</td><td> NA</td></tr>\n",
              "\t<tr><th scope=row>2</th><td>2</td><td> 1</td><td>95%</td><td>7.6</td><td>3.10</td><td>3.30</td><td>265</td><td>290</td><td>385</td><td>430</td><td>255</td><td>275</td></tr>\n",
              "\t<tr><th scope=row>3</th><td>3</td><td> 2</td><td>90%</td><td>7.5</td><td>2.94</td><td>3.46</td><td>264</td><td>264</td><td>290</td><td>425</td><td>290</td><td>290</td></tr>\n",
              "\t<tr><th scope=row>4</th><td>4</td><td> 2</td><td>25%</td><td>6.0</td><td>2.57</td><td>2.20</td><td>290</td><td> NA</td><td>450</td><td> NA</td><td>275</td><td> NA</td></tr>\n",
              "\t<tr><th scope=row>5</th><td>5</td><td> 1</td><td>44%</td><td>6.0</td><td>3.50</td><td>3.50</td><td>280</td><td>265</td><td>415</td><td>390</td><td>270</td><td>235</td></tr>\n",
              "\t<tr><th scope=row>6</th><td>6</td><td> 2</td><td>88%</td><td>7.0</td><td>2.64</td><td>1.53</td><td>253</td><td>253</td><td>405</td><td>415</td><td>305</td><td>325</td></tr>\n",
              "</tbody>\n",
              "</table>\n"
            ],
            "text/markdown": "\nA data.frame: 6 × 12\n\n| <!--/--> | student &lt;int&gt; | Class &lt;int&gt; | Pct7 &lt;chr&gt; | Avg.sleep.per.night &lt;dbl&gt; | GPA.pre &lt;dbl&gt; | GPA.post &lt;dbl&gt; | Clean.pre &lt;int&gt; | Clean.post &lt;int&gt; | Back.pre &lt;int&gt; | Back.post &lt;int&gt; | Bench.pre &lt;int&gt; | Bench.post &lt;int&gt; |\n|---|---|---|---|---|---|---|---|---|---|---|---|---|\n| 1 | 1 | NA | <!----> |  NA | 3.21 | 3.60 | 270 |  NA | 425 |  NA | 315 |  NA |\n| 2 | 2 |  1 | 95% | 7.6 | 3.10 | 3.30 | 265 | 290 | 385 | 430 | 255 | 275 |\n| 3 | 3 |  2 | 90% | 7.5 | 2.94 | 3.46 | 264 | 264 | 290 | 425 | 290 | 290 |\n| 4 | 4 |  2 | 25% | 6.0 | 2.57 | 2.20 | 290 |  NA | 450 |  NA | 275 |  NA |\n| 5 | 5 |  1 | 44% | 6.0 | 3.50 | 3.50 | 280 | 265 | 415 | 390 | 270 | 235 |\n| 6 | 6 |  2 | 88% | 7.0 | 2.64 | 1.53 | 253 | 253 | 405 | 415 | 305 | 325 |\n\n",
            "text/latex": "A data.frame: 6 × 12\n\\begin{tabular}{r|llllllllllll}\n  & student & Class & Pct7 & Avg.sleep.per.night & GPA.pre & GPA.post & Clean.pre & Clean.post & Back.pre & Back.post & Bench.pre & Bench.post\\\\\n  & <int> & <int> & <chr> & <dbl> & <dbl> & <dbl> & <int> & <int> & <int> & <int> & <int> & <int>\\\\\n\\hline\n\t1 & 1 & NA &     &  NA & 3.21 & 3.60 & 270 &  NA & 425 &  NA & 315 &  NA\\\\\n\t2 & 2 &  1 & 95\\% & 7.6 & 3.10 & 3.30 & 265 & 290 & 385 & 430 & 255 & 275\\\\\n\t3 & 3 &  2 & 90\\% & 7.5 & 2.94 & 3.46 & 264 & 264 & 290 & 425 & 290 & 290\\\\\n\t4 & 4 &  2 & 25\\% & 6.0 & 2.57 & 2.20 & 290 &  NA & 450 &  NA & 275 &  NA\\\\\n\t5 & 5 &  1 & 44\\% & 6.0 & 3.50 & 3.50 & 280 & 265 & 415 & 390 & 270 & 235\\\\\n\t6 & 6 &  2 & 88\\% & 7.0 & 2.64 & 1.53 & 253 & 253 & 405 & 415 & 305 & 325\\\\\n\\end{tabular}\n",
            "text/plain": [
              "  student Class Pct7 Avg.sleep.per.night GPA.pre GPA.post Clean.pre Clean.post\n",
              "1 1       NA          NA                 3.21    3.60     270        NA       \n",
              "2 2        1    95%  7.6                 3.10    3.30     265       290       \n",
              "3 3        2    90%  7.5                 2.94    3.46     264       264       \n",
              "4 4        2    25%  6.0                 2.57    2.20     290        NA       \n",
              "5 5        1    44%  6.0                 3.50    3.50     280       265       \n",
              "6 6        2    88%  7.0                 2.64    1.53     253       253       \n",
              "  Back.pre Back.post Bench.pre Bench.post\n",
              "1 425       NA       315        NA       \n",
              "2 385      430       255       275       \n",
              "3 290      425       290       290       \n",
              "4 450       NA       275        NA       \n",
              "5 415      390       270       235       \n",
              "6 405      415       305       325       "
            ]
          },
          "metadata": {}
        }
      ]
    },
    {
      "cell_type": "markdown",
      "source": [
        "#### Tasks\n",
        "\n",
        "Complete the following with `dplyr`.\n",
        "\n",
        "Hint: the `ifelse()` function will be helpful below.\n",
        "\n",
        "1. Create variable `clean_diff` which takes `Clean.post-Clean.pre`.  \n",
        "2. Create variable `seven_plus` which equals \"yes\" if the student averaged 7 or more hours of sleep, and \"no\" if not.  \n",
        "3. Create variable `age` which equals \"young\" if `Class` = 1 or 2 and \"old\" if `Class` is 3 or more.  \n",
        "4.  Filter the data to include only students with nonmissing `clean_diff` and `seven_plus`.   \n",
        "5.  Find the number of students, and the average `clean_diff`, for each `seven_plus`/`age` combination.  \n",
        "6. Convert the averaged difference (which is in pounds) to kg.\n",
        "\n",
        "**Note.** Your solution should consist of one long pipe."
      ],
      "metadata": {
        "id": "IRoUQzkmBtKB"
      }
    },
    {
      "cell_type": "code",
      "source": [
        "# Your code here"
      ],
      "metadata": {
        "id": "XkEls4jVBgzT"
      },
      "execution_count": null,
      "outputs": []
    },
    {
      "cell_type": "markdown",
      "source": [
        "## Problem 2 - Stack-Transform-Unstack on `Artist` data\n",
        "\n",
        "Recall that the MoMA `Artist.csv` data had two columns (`BeginDate` and `EndDate`) that needed to be cleaned up by  replacing zeros with with a better representation of missing values, namely `NA` in R.\n",
        "\n",
        "Since we need to perform the same transformations on both columns, we can use the stack + transform + unstack trick to clean both columns at once."
      ],
      "metadata": {
        "id": "Itgx8aKG6VaD"
      }
    },
    {
      "cell_type": "code",
      "source": [
        "artist = read.csv(\"https://github.com/MuseumofModernArt/collection/raw/main/Artists.csv\")\n",
        "head(artist)"
      ],
      "metadata": {
        "colab": {
          "base_uri": "https://localhost:8080/",
          "height": 254
        },
        "id": "If9Lox8X6hQX",
        "outputId": "a38e976c-2c45-4301-a847-8492d8410fa4"
      },
      "execution_count": 2,
      "outputs": [
        {
          "output_type": "display_data",
          "data": {
            "text/html": [
              "<table class=\"dataframe\">\n",
              "<caption>A data.frame: 6 × 9</caption>\n",
              "<thead>\n",
              "\t<tr><th></th><th scope=col>ConstituentID</th><th scope=col>DisplayName</th><th scope=col>ArtistBio</th><th scope=col>Nationality</th><th scope=col>Gender</th><th scope=col>BeginDate</th><th scope=col>EndDate</th><th scope=col>Wiki.QID</th><th scope=col>ULAN</th></tr>\n",
              "\t<tr><th></th><th scope=col>&lt;int&gt;</th><th scope=col>&lt;chr&gt;</th><th scope=col>&lt;chr&gt;</th><th scope=col>&lt;chr&gt;</th><th scope=col>&lt;chr&gt;</th><th scope=col>&lt;int&gt;</th><th scope=col>&lt;int&gt;</th><th scope=col>&lt;chr&gt;</th><th scope=col>&lt;int&gt;</th></tr>\n",
              "</thead>\n",
              "<tbody>\n",
              "\t<tr><th scope=row>1</th><td>1</td><td>Robert Arneson </td><td>American, 1930–1992</td><td>American</td><td>male</td><td>1930</td><td>1992</td><td>        </td><td>       NA</td></tr>\n",
              "\t<tr><th scope=row>2</th><td>2</td><td>Doroteo Arnaiz </td><td>Spanish, born 1936 </td><td>Spanish </td><td>male</td><td>1936</td><td>   0</td><td>        </td><td>       NA</td></tr>\n",
              "\t<tr><th scope=row>3</th><td>3</td><td>Bill Arnold    </td><td>American, born 1941</td><td>American</td><td>male</td><td>1941</td><td>   0</td><td>        </td><td>       NA</td></tr>\n",
              "\t<tr><th scope=row>4</th><td>4</td><td>Charles Arnoldi</td><td>American, born 1946</td><td>American</td><td>male</td><td>1946</td><td>   0</td><td>Q1063584</td><td>500027998</td></tr>\n",
              "\t<tr><th scope=row>5</th><td>5</td><td>Per Arnoldi    </td><td>Danish, born 1941  </td><td>Danish  </td><td>male</td><td>1941</td><td>   0</td><td>        </td><td>       NA</td></tr>\n",
              "\t<tr><th scope=row>6</th><td>6</td><td>Danilo Aroldi  </td><td>Italian, born 1925 </td><td>Italian </td><td>male</td><td>1925</td><td>   0</td><td>        </td><td>       NA</td></tr>\n",
              "</tbody>\n",
              "</table>\n"
            ],
            "text/markdown": "\nA data.frame: 6 × 9\n\n| <!--/--> | ConstituentID &lt;int&gt; | DisplayName &lt;chr&gt; | ArtistBio &lt;chr&gt; | Nationality &lt;chr&gt; | Gender &lt;chr&gt; | BeginDate &lt;int&gt; | EndDate &lt;int&gt; | Wiki.QID &lt;chr&gt; | ULAN &lt;int&gt; |\n|---|---|---|---|---|---|---|---|---|---|\n| 1 | 1 | Robert Arneson  | American, 1930–1992 | American | male | 1930 | 1992 | <!----> |        NA |\n| 2 | 2 | Doroteo Arnaiz  | Spanish, born 1936  | Spanish  | male | 1936 |    0 | <!----> |        NA |\n| 3 | 3 | Bill Arnold     | American, born 1941 | American | male | 1941 |    0 | <!----> |        NA |\n| 4 | 4 | Charles Arnoldi | American, born 1946 | American | male | 1946 |    0 | Q1063584 | 500027998 |\n| 5 | 5 | Per Arnoldi     | Danish, born 1941   | Danish   | male | 1941 |    0 | <!----> |        NA |\n| 6 | 6 | Danilo Aroldi   | Italian, born 1925  | Italian  | male | 1925 |    0 | <!----> |        NA |\n\n",
            "text/latex": "A data.frame: 6 × 9\n\\begin{tabular}{r|lllllllll}\n  & ConstituentID & DisplayName & ArtistBio & Nationality & Gender & BeginDate & EndDate & Wiki.QID & ULAN\\\\\n  & <int> & <chr> & <chr> & <chr> & <chr> & <int> & <int> & <chr> & <int>\\\\\n\\hline\n\t1 & 1 & Robert Arneson  & American, 1930–1992 & American & male & 1930 & 1992 &          &        NA\\\\\n\t2 & 2 & Doroteo Arnaiz  & Spanish, born 1936  & Spanish  & male & 1936 &    0 &          &        NA\\\\\n\t3 & 3 & Bill Arnold     & American, born 1941 & American & male & 1941 &    0 &          &        NA\\\\\n\t4 & 4 & Charles Arnoldi & American, born 1946 & American & male & 1946 &    0 & Q1063584 & 500027998\\\\\n\t5 & 5 & Per Arnoldi     & Danish, born 1941   & Danish   & male & 1941 &    0 &          &        NA\\\\\n\t6 & 6 & Danilo Aroldi   & Italian, born 1925  & Italian  & male & 1925 &    0 &          &        NA\\\\\n\\end{tabular}\n",
            "text/plain": [
              "  ConstituentID DisplayName     ArtistBio           Nationality Gender\n",
              "1 1             Robert Arneson  American, 1930–1992 American    male  \n",
              "2 2             Doroteo Arnaiz  Spanish, born 1936  Spanish     male  \n",
              "3 3             Bill Arnold     American, born 1941 American    male  \n",
              "4 4             Charles Arnoldi American, born 1946 American    male  \n",
              "5 5             Per Arnoldi     Danish, born 1941   Danish      male  \n",
              "6 6             Danilo Aroldi   Italian, born 1925  Italian     male  \n",
              "  BeginDate EndDate Wiki.QID ULAN     \n",
              "1 1930      1992                    NA\n",
              "2 1936         0                    NA\n",
              "3 1941         0                    NA\n",
              "4 1946         0    Q1063584 500027998\n",
              "5 1941         0                    NA\n",
              "6 1925         0                    NA"
            ]
          },
          "metadata": {}
        }
      ]
    },
    {
      "cell_type": "markdown",
      "source": [
        "**Task:** Fix this issue by\n",
        "\n",
        "1. Use `gather` stack the two columns.\n",
        "2. Using `mutate` and `ifelse` to replace all zeros with `NA`.\n",
        "3. Use `spread` to unstack the two columns, this time giving them more meaningful names."
      ],
      "metadata": {
        "id": "cFFExGZg6yK9"
      }
    },
    {
      "cell_type": "code",
      "source": [
        "# Your code here"
      ],
      "metadata": {
        "id": "_kNPHf3H6x7q"
      },
      "execution_count": 3,
      "outputs": []
    },
    {
      "cell_type": "markdown",
      "source": [
        "## Problem 4 - Visualizing `min(ERA)` by year and league.\n",
        "\n",
        "In this assignment we will visualize the effect of the introduction of the  designated hitter, by comparing the best overall team-wide earned run average (ERA) for each league. In the process, you will see an important application of reshaping tables when creating visualizations.  \n",
        "\n",
        "Take a look at the `Teams.csv` file.  This file contains, for each season, team-by-team statistics.  We will focus on the ERA, which measures the average number of runs allowed by each team’s pitchers over a 9-inning game, with a smaller number indicating better pitching + defense.\n",
        "Your job is to recreate the following graph.  \n",
        "\n",
        "<img src=\"https://github.com/WSU-DataScience/DSCI_210_R_notebooks/raw/main/img/min_era.png\"/>"
      ],
      "metadata": {
        "id": "UtnEXRXq63pV"
      }
    },
    {
      "cell_type": "markdown",
      "source": [
        "**Tasks:**\n",
        "\n",
        "1. Filter the data to only the years after World War II (1946+).\n",
        "2. Group and aggregate the data to compute the minimum ERA for each league for each season.\n",
        "3. Split the min(ERA) by the leagues so that you have the two columns of min(ERA) values—one for each league—with one row per year.\n",
        "4. Compute AL – NL, storing the result in a new column.\n",
        "5. Stack the data for the AL, NL, and AL – NL, with the labels column called Type and the data column called min(ERA).\n",
        "6. Save the resulting data frame to a variable named `min_era_by_league`\n",
        "7. Use `ggplot` to recreate the plot.  Hints: <br>\n",
        "    a. Use `geom_line` to plot the three lines,<br>\n",
        "    b. Use `geom_hline` and `geom_vline` to add the reference lines, and <br>\n",
        "    c. `annotate` to add the annotation. <br>\n",
        "\n",
        "Capture the entire process--data management and plotting--in one pipe/+ chain."
      ],
      "metadata": {
        "id": "-hk4AL587JD5"
      }
    },
    {
      "cell_type": "code",
      "source": [
        "# Your code here"
      ],
      "metadata": {
        "id": "tX8ErmcJ6kSZ"
      },
      "execution_count": null,
      "outputs": []
    }
  ],
  "metadata": {
    "kernelspec": {
      "display_name": "R",
      "language": "R",
      "name": "ir"
    },
    "language_info": {
      "codemirror_mode": "r",
      "file_extension": ".r",
      "mimetype": "text/x-r-source",
      "name": "R",
      "pygments_lexer": "r",
      "version": "3.5.1"
    },
    "colab": {
      "provenance": [],
      "include_colab_link": true
    }
  },
  "nbformat": 4,
  "nbformat_minor": 0
}