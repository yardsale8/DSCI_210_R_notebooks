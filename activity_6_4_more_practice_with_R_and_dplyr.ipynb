{
 "cells": [
  {
   "cell_type": "markdown",
   "metadata": {},
   "source": [
    "# Activity 6.3 - More practice with `R` and `dplyr` \n",
    "\n",
    "**Instructions:** Open this notebook in Colab and complete the following questions.  **You should probably save a copy to Google Drive, but you will need to log in to a Gmail account.**\n",
    "\n",
    "The  **Football_Sleep_Data.csv** file comes from a graduate student working on his master's degree in athletic training.  The students were all members of the university football team.  The data contain GPA and measures of athletic performance (how much students could lift in the clean, back squat, and bench press) at the beginning and again at the end of a semester.  Over the course of the semester, students were regularly asked via text message how much sleep they had received the previous night; their responses to this question were averaged.  At the end of the semester, the GPA and press measurements were taken again.   Of interest is analyzing how the weight lifted with clean press changed over time, and whether the change differed comparing students who averaged 7+ hours of sleep to those who averaged <7 hours of sleep.  The file looks like this:"
   ]
  },
  {
   "cell_type": "code",
   "execution_count": 1,
   "metadata": {},
   "outputs": [
    {
     "data": {
      "text/html": [
       "<table>\n",
       "<thead><tr><th scope=col>student</th><th scope=col>Class</th><th scope=col>Pct7</th><th scope=col>Avg.sleep.per.night</th><th scope=col>GPA.pre</th><th scope=col>GPA.post</th><th scope=col>Clean.pre</th><th scope=col>Clean.post</th><th scope=col>Back.pre</th><th scope=col>Back.post</th><th scope=col>Bench.pre</th><th scope=col>Bench.post</th></tr></thead>\n",
       "<tbody>\n",
       "\t<tr><td>1   </td><td>NA  </td><td>    </td><td> NA </td><td>3.21</td><td>3.60</td><td>270 </td><td> NA </td><td>425 </td><td> NA </td><td>315 </td><td> NA </td></tr>\n",
       "\t<tr><td>2   </td><td> 1  </td><td>95% </td><td>7.6 </td><td>3.10</td><td>3.30</td><td>265 </td><td>290 </td><td>385 </td><td>430 </td><td>255 </td><td>275 </td></tr>\n",
       "\t<tr><td>3   </td><td> 2  </td><td>90% </td><td>7.5 </td><td>2.94</td><td>3.46</td><td>264 </td><td>264 </td><td>290 </td><td>425 </td><td>290 </td><td>290 </td></tr>\n",
       "\t<tr><td>4   </td><td> 2  </td><td>25% </td><td>6.0 </td><td>2.57</td><td>2.20</td><td>290 </td><td> NA </td><td>450 </td><td> NA </td><td>275 </td><td> NA </td></tr>\n",
       "\t<tr><td>5   </td><td> 1  </td><td>44% </td><td>6.0 </td><td>3.50</td><td>3.50</td><td>280 </td><td>265 </td><td>415 </td><td>390 </td><td>270 </td><td>235 </td></tr>\n",
       "\t<tr><td>6   </td><td> 2  </td><td>88% </td><td>7.0 </td><td>2.64</td><td>1.53</td><td>253 </td><td>253 </td><td>405 </td><td>415 </td><td>305 </td><td>325 </td></tr>\n",
       "</tbody>\n",
       "</table>\n"
      ],
      "text/latex": [
       "\\begin{tabular}{r|llllllllllll}\n",
       " student & Class & Pct7 & Avg.sleep.per.night & GPA.pre & GPA.post & Clean.pre & Clean.post & Back.pre & Back.post & Bench.pre & Bench.post\\\\\n",
       "\\hline\n",
       "\t 1    & NA   &      &  NA  & 3.21 & 3.60 & 270  &  NA  & 425  &  NA  & 315  &  NA \\\\\n",
       "\t 2     &  1    & 95\\% & 7.6   & 3.10  & 3.30  & 265   & 290   & 385   & 430   & 255   & 275  \\\\\n",
       "\t 3     &  2    & 90\\% & 7.5   & 2.94  & 3.46  & 264   & 264   & 290   & 425   & 290   & 290  \\\\\n",
       "\t 4     &  2    & 25\\% & 6.0   & 2.57  & 2.20  & 290   &  NA   & 450   &  NA   & 275   &  NA  \\\\\n",
       "\t 5     &  1    & 44\\% & 6.0   & 3.50  & 3.50  & 280   & 265   & 415   & 390   & 270   & 235  \\\\\n",
       "\t 6     &  2    & 88\\% & 7.0   & 2.64  & 1.53  & 253   & 253   & 405   & 415   & 305   & 325  \\\\\n",
       "\\end{tabular}\n"
      ],
      "text/markdown": [
       "\n",
       "student | Class | Pct7 | Avg.sleep.per.night | GPA.pre | GPA.post | Clean.pre | Clean.post | Back.pre | Back.post | Bench.pre | Bench.post | \n",
       "|---|---|---|---|---|---|\n",
       "| 1    | NA   |      |  NA  | 3.21 | 3.60 | 270  |  NA  | 425  |  NA  | 315  |  NA  | \n",
       "| 2    |  1   | 95%  | 7.6  | 3.10 | 3.30 | 265  | 290  | 385  | 430  | 255  | 275  | \n",
       "| 3    |  2   | 90%  | 7.5  | 2.94 | 3.46 | 264  | 264  | 290  | 425  | 290  | 290  | \n",
       "| 4    |  2   | 25%  | 6.0  | 2.57 | 2.20 | 290  |  NA  | 450  |  NA  | 275  |  NA  | \n",
       "| 5    |  1   | 44%  | 6.0  | 3.50 | 3.50 | 280  | 265  | 415  | 390  | 270  | 235  | \n",
       "| 6    |  2   | 88%  | 7.0  | 2.64 | 1.53 | 253  | 253  | 405  | 415  | 305  | 325  | \n",
       "\n",
       "\n"
      ],
      "text/plain": [
       "  student Class Pct7 Avg.sleep.per.night GPA.pre GPA.post Clean.pre Clean.post\n",
       "1 1       NA          NA                 3.21    3.60     270        NA       \n",
       "2 2        1    95%  7.6                 3.10    3.30     265       290       \n",
       "3 3        2    90%  7.5                 2.94    3.46     264       264       \n",
       "4 4        2    25%  6.0                 2.57    2.20     290        NA       \n",
       "5 5        1    44%  6.0                 3.50    3.50     280       265       \n",
       "6 6        2    88%  7.0                 2.64    1.53     253       253       \n",
       "  Back.pre Back.post Bench.pre Bench.post\n",
       "1 425       NA       315        NA       \n",
       "2 385      430       255       275       \n",
       "3 290      425       290       290       \n",
       "4 450       NA       275        NA       \n",
       "5 415      390       270       235       \n",
       "6 405      415       305       325       "
      ]
     },
     "metadata": {},
     "output_type": "display_data"
    }
   ],
   "source": [
    "fb <- read.csv('https://github.com/WSU-DataScience/DSCI_210_R_notebooks/raw/main/data/Football_Sleep_data.csv')\n",
    "head(fb)"
   ]
  },
  {
   "cell_type": "markdown",
   "metadata": {},
   "source": [
    "### Question 1 \n",
    "\n",
    "Complete the following with `dplyr`. Use imperative code for each step by naming the resulting data frame from each step `fb1`, `fb2`, etc.\n",
    "\n",
    "Hint: the `ifelse()` function will be helpful below.\n",
    "\n",
    "1. Create variable `clean_diff` which takes `Clean.post-Clean.pre`.  \n",
    "2. Create variable `seven_plus` which equals \"yes\" if the student averaged 7 or more hours of sleep, and \"no\" if not.  \n",
    "3. Create variable `age` which equals \"young\" if `Class` = 1 or 2 and \"old\" if `Class` is 3 or more.  \n",
    "4.  Filter the data to include only students with nonmissing `clean_diff` and `seven_plus`.   \n",
    "5.  Find the number of students, and the average `clean_diff`, for each `seven_plus`/`age` combination.  \n",
    "6. Convert the averaged difference (which is in pounds) to kg."
   ]
  },
  {
   "cell_type": "code",
   "execution_count": 2,
   "metadata": {},
   "outputs": [],
   "source": [
    "# Your code here (Make more code cells!)"
   ]
  },
  {
   "cell_type": "markdown",
   "metadata": {},
   "source": [
    "### Question 2  \n",
    "\n",
    "Repeat **Question 1**, but this time solve the problem using one long pipe."
   ]
  },
  {
   "cell_type": "code",
   "execution_count": 3,
   "metadata": {},
   "outputs": [],
   "source": [
    "# Your code here (Make more code cells!)"
   ]
  }
 ],
 "metadata": {
  "kernelspec": {
   "display_name": "R",
   "language": "R",
   "name": "ir"
  },
  "language_info": {
   "codemirror_mode": "r",
   "file_extension": ".r",
   "mimetype": "text/x-r-source",
   "name": "R",
   "pygments_lexer": "r",
   "version": "3.5.1"
  }
 },
 "nbformat": 4,
 "nbformat_minor": 4
}
