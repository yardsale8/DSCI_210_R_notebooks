{
  "cells": [
    {
      "cell_type": "markdown",
      "metadata": {
        "id": "view-in-github",
        "colab_type": "text"
      },
      "source": [
        "<a href=\"https://colab.research.google.com/github/yardsale8/DSCI_210_R_notebooks/blob/main/activity_6_4_more_practice_with_R_and_dplyr.ipynb\" target=\"_parent\"><img src=\"https://colab.research.google.com/assets/colab-badge.svg\" alt=\"Open In Colab\"/></a>"
      ]
    },
    {
      "cell_type": "markdown",
      "source": [
        "# Activity 6.4 - More Practice with `R` and `dplyr`"
      ],
      "metadata": {
        "id": "IDnZXv2RBiUz"
      }
    },
    {
      "cell_type": "code",
      "source": [
        "library(tidyverse)"
      ],
      "metadata": {
        "id": "bjjy_AseBnPL"
      },
      "execution_count": 2,
      "outputs": []
    },
    {
      "cell_type": "markdown",
      "source": [
        "## Problem 1 - Football Sleep Data\n",
        "\n",
        "**Instructions:** Open this notebook in Colab and complete the following questions.  **You should probably save a copy to Google Drive, but you will need to log in to a Gmail account.**\n",
        "\n",
        "The  **Football_Sleep_Data.csv** file comes from a graduate student working on his master's degree in athletic training.  The students were all members of the university football team.  The data contain GPA and measures of athletic performance (how much students could lift in the clean, back squat, and bench press) at the beginning and again at the end of a semester.  Over the course of the semester, students were regularly asked via text message how much sleep they had received the previous night; their responses to this question were averaged.  At the end of the semester, the GPA and press measurements were taken again.   Of interest is analyzing how the weight lifted with clean press changed over time, and whether the change differed comparing students who averaged 7+ hours of sleep to those who averaged <7 hours of sleep.  The file looks like this:"
      ],
      "metadata": {
        "id": "rofAbSJZBOzY"
      }
    },
    {
      "cell_type": "code",
      "source": [
        "fb <- read.csv('https://github.com/WSU-DataScience/DSCI_210_R_notebooks/raw/main/data/Football_Sleep_data.csv')\n",
        "head(fb)"
      ],
      "metadata": {
        "id": "ubI0afLmBddm",
        "outputId": "638ee7a1-a15b-4685-a858-dde22ce20468",
        "colab": {
          "base_uri": "https://localhost:8080/",
          "height": 279
        }
      },
      "execution_count": 3,
      "outputs": [
        {
          "output_type": "display_data",
          "data": {
            "text/html": [
              "<table class=\"dataframe\">\n",
              "<caption>A data.frame: 6 × 12</caption>\n",
              "<thead>\n",
              "\t<tr><th></th><th scope=col>student</th><th scope=col>Class</th><th scope=col>Pct7</th><th scope=col>Avg.sleep.per.night</th><th scope=col>GPA.pre</th><th scope=col>GPA.post</th><th scope=col>Clean.pre</th><th scope=col>Clean.post</th><th scope=col>Back.pre</th><th scope=col>Back.post</th><th scope=col>Bench.pre</th><th scope=col>Bench.post</th></tr>\n",
              "\t<tr><th></th><th scope=col>&lt;int&gt;</th><th scope=col>&lt;int&gt;</th><th scope=col>&lt;chr&gt;</th><th scope=col>&lt;dbl&gt;</th><th scope=col>&lt;dbl&gt;</th><th scope=col>&lt;dbl&gt;</th><th scope=col>&lt;int&gt;</th><th scope=col>&lt;int&gt;</th><th scope=col>&lt;int&gt;</th><th scope=col>&lt;int&gt;</th><th scope=col>&lt;int&gt;</th><th scope=col>&lt;int&gt;</th></tr>\n",
              "</thead>\n",
              "<tbody>\n",
              "\t<tr><th scope=row>1</th><td>1</td><td>NA</td><td>   </td><td> NA</td><td>3.21</td><td>3.60</td><td>270</td><td> NA</td><td>425</td><td> NA</td><td>315</td><td> NA</td></tr>\n",
              "\t<tr><th scope=row>2</th><td>2</td><td> 1</td><td>95%</td><td>7.6</td><td>3.10</td><td>3.30</td><td>265</td><td>290</td><td>385</td><td>430</td><td>255</td><td>275</td></tr>\n",
              "\t<tr><th scope=row>3</th><td>3</td><td> 2</td><td>90%</td><td>7.5</td><td>2.94</td><td>3.46</td><td>264</td><td>264</td><td>290</td><td>425</td><td>290</td><td>290</td></tr>\n",
              "\t<tr><th scope=row>4</th><td>4</td><td> 2</td><td>25%</td><td>6.0</td><td>2.57</td><td>2.20</td><td>290</td><td> NA</td><td>450</td><td> NA</td><td>275</td><td> NA</td></tr>\n",
              "\t<tr><th scope=row>5</th><td>5</td><td> 1</td><td>44%</td><td>6.0</td><td>3.50</td><td>3.50</td><td>280</td><td>265</td><td>415</td><td>390</td><td>270</td><td>235</td></tr>\n",
              "\t<tr><th scope=row>6</th><td>6</td><td> 2</td><td>88%</td><td>7.0</td><td>2.64</td><td>1.53</td><td>253</td><td>253</td><td>405</td><td>415</td><td>305</td><td>325</td></tr>\n",
              "</tbody>\n",
              "</table>\n"
            ],
            "text/markdown": "\nA data.frame: 6 × 12\n\n| <!--/--> | student &lt;int&gt; | Class &lt;int&gt; | Pct7 &lt;chr&gt; | Avg.sleep.per.night &lt;dbl&gt; | GPA.pre &lt;dbl&gt; | GPA.post &lt;dbl&gt; | Clean.pre &lt;int&gt; | Clean.post &lt;int&gt; | Back.pre &lt;int&gt; | Back.post &lt;int&gt; | Bench.pre &lt;int&gt; | Bench.post &lt;int&gt; |\n|---|---|---|---|---|---|---|---|---|---|---|---|---|\n| 1 | 1 | NA | <!----> |  NA | 3.21 | 3.60 | 270 |  NA | 425 |  NA | 315 |  NA |\n| 2 | 2 |  1 | 95% | 7.6 | 3.10 | 3.30 | 265 | 290 | 385 | 430 | 255 | 275 |\n| 3 | 3 |  2 | 90% | 7.5 | 2.94 | 3.46 | 264 | 264 | 290 | 425 | 290 | 290 |\n| 4 | 4 |  2 | 25% | 6.0 | 2.57 | 2.20 | 290 |  NA | 450 |  NA | 275 |  NA |\n| 5 | 5 |  1 | 44% | 6.0 | 3.50 | 3.50 | 280 | 265 | 415 | 390 | 270 | 235 |\n| 6 | 6 |  2 | 88% | 7.0 | 2.64 | 1.53 | 253 | 253 | 405 | 415 | 305 | 325 |\n\n",
            "text/latex": "A data.frame: 6 × 12\n\\begin{tabular}{r|llllllllllll}\n  & student & Class & Pct7 & Avg.sleep.per.night & GPA.pre & GPA.post & Clean.pre & Clean.post & Back.pre & Back.post & Bench.pre & Bench.post\\\\\n  & <int> & <int> & <chr> & <dbl> & <dbl> & <dbl> & <int> & <int> & <int> & <int> & <int> & <int>\\\\\n\\hline\n\t1 & 1 & NA &     &  NA & 3.21 & 3.60 & 270 &  NA & 425 &  NA & 315 &  NA\\\\\n\t2 & 2 &  1 & 95\\% & 7.6 & 3.10 & 3.30 & 265 & 290 & 385 & 430 & 255 & 275\\\\\n\t3 & 3 &  2 & 90\\% & 7.5 & 2.94 & 3.46 & 264 & 264 & 290 & 425 & 290 & 290\\\\\n\t4 & 4 &  2 & 25\\% & 6.0 & 2.57 & 2.20 & 290 &  NA & 450 &  NA & 275 &  NA\\\\\n\t5 & 5 &  1 & 44\\% & 6.0 & 3.50 & 3.50 & 280 & 265 & 415 & 390 & 270 & 235\\\\\n\t6 & 6 &  2 & 88\\% & 7.0 & 2.64 & 1.53 & 253 & 253 & 405 & 415 & 305 & 325\\\\\n\\end{tabular}\n",
            "text/plain": [
              "  student Class Pct7 Avg.sleep.per.night GPA.pre GPA.post Clean.pre Clean.post\n",
              "1 1       NA          NA                 3.21    3.60     270        NA       \n",
              "2 2        1    95%  7.6                 3.10    3.30     265       290       \n",
              "3 3        2    90%  7.5                 2.94    3.46     264       264       \n",
              "4 4        2    25%  6.0                 2.57    2.20     290        NA       \n",
              "5 5        1    44%  6.0                 3.50    3.50     280       265       \n",
              "6 6        2    88%  7.0                 2.64    1.53     253       253       \n",
              "  Back.pre Back.post Bench.pre Bench.post\n",
              "1 425       NA       315        NA       \n",
              "2 385      430       255       275       \n",
              "3 290      425       290       290       \n",
              "4 450       NA       275        NA       \n",
              "5 415      390       270       235       \n",
              "6 405      415       305       325       "
            ]
          },
          "metadata": {}
        }
      ]
    },
    {
      "cell_type": "markdown",
      "source": [
        "#### Tasks\n",
        "\n",
        "Complete the following with `dplyr`.\n",
        "\n",
        "Hint: the `ifelse()` function will be helpful below.\n",
        "\n",
        "1. Create variable `clean_diff` which takes `Clean.post-Clean.pre`.  \n",
        "2. Create variable `seven_plus` which equals \"yes\" if the student averaged 7 or more hours of sleep, and \"no\" if not.  \n",
        "3. Create variable `age` which equals \"young\" if `Class` = 1 or 2 and \"old\" if `Class` is 3 or more.  \n",
        "4.  Filter the data to include only students with nonmissing `clean_diff` and `seven_plus`.   \n",
        "5.  Find the number of students, and the average `clean_diff`, for each `seven_plus`/`age` combination.  \n",
        "6. Convert the averaged difference (which is in pounds) to kg.\n",
        "\n",
        "**Note.** Your solution should consist of one long pipe."
      ],
      "metadata": {
        "id": "IRoUQzkmBtKB"
      }
    },
    {
      "cell_type": "code",
      "source": [
        "# Your code here"
      ],
      "metadata": {
        "id": "XkEls4jVBgzT"
      },
      "execution_count": null,
      "outputs": []
    },
    {
      "cell_type": "markdown",
      "source": [
        "## Problem 2 - Cleaning the comic data in `R`\n",
        "\n",
        "In today's second activity, we will return to the comics data, this time cleaning it up in `R`"
      ],
      "metadata": {
        "id": "Na19uBN-SupD"
      }
    },
    {
      "cell_type": "markdown",
      "source": [
        "#### Task 0 - Lead the `Comic_Data_Messy.csv` file, which is located in the `data` folder in the GitHub repository."
      ],
      "metadata": {
        "id": "I2IkKJINUsSN"
      }
    },
    {
      "cell_type": "code",
      "source": [
        "# Your code here"
      ],
      "metadata": {
        "id": "oyX2CAHKU2Lh"
      },
      "execution_count": null,
      "outputs": []
    },
    {
      "cell_type": "markdown",
      "metadata": {
        "id": "sYCMgyFe4hHK"
      },
      "source": [
        "#### Task 1 - Clean up the `comic` column\n",
        "**Tasks:**\n",
        "\n",
        "1. Use `unique` to explore the `comic` column and identify problems.\n",
        "2. Use `recode` to clean up the `comic` column"
      ]
    },
    {
      "cell_type": "code",
      "execution_count": null,
      "metadata": {
        "id": "aKJcvH9Z4hHK"
      },
      "outputs": [],
      "source": [
        "# Your code here"
      ]
    },
    {
      "cell_type": "markdown",
      "source": [
        "#### Task 2 - Extract the year\n",
        "\n",
        "**Step 1.** Use `ifelse`, `str_detect`, and `str_split_i` to extract the year from the `FIRST.APPEARANCE` column into a column called `year.raw` .  The basic pattern will have the basic form shown below.\n",
        "\n",
        "```\n",
        "mutate(year.raw = ifelse(CONTAINS a comma, SPLIT on comma and GET 1, SPLIT on hyphen and GET 2)\n",
        "```\n",
        "\n",
        "**Step 2.** Suppose that we want to keep the last two digits of the year column.  Perform a transformations using `ifelse` to extract these last two digits into a column called `year`.\n",
        "\n",
        "**Step 3.** Drop the `year.raw` column."
      ],
      "metadata": {
        "id": "h-BUqvYVKwLA"
      }
    },
    {
      "cell_type": "code",
      "source": [
        "# Your code here"
      ],
      "metadata": {
        "id": "FIM4sgFTM6Wp"
      },
      "execution_count": null,
      "outputs": []
    },
    {
      "cell_type": "markdown",
      "source": [
        "#### Task 3 - Extract and recode the month\n",
        "\n",
        "Next, we will extract the month of the `FIRST.APPEARANCE`.\n",
        "**Task 1.** Use a similar pattern as used in the last problem to extract the month.\n",
        "\n",
        "**Task 2.** Use recode the recode the months to the three digit abbreviation."
      ],
      "metadata": {
        "id": "nFBSVl-KTReg"
      }
    },
    {
      "cell_type": "code",
      "source": [
        "# Your code here"
      ],
      "metadata": {
        "id": "2K28jenwTq7W"
      },
      "execution_count": null,
      "outputs": []
    },
    {
      "cell_type": "markdown",
      "source": [
        "#### Task 4 - Explore the case study code.\n",
        "\n",
        "I have provided the code for extracting information from the `urlslug` below.\n",
        "\n",
        "**Questions.**\n",
        "\n",
        "1. What is the purpose of the first (now commented out) `select`?\n",
        "2. Use comments to step through the creation of the `urlslug2` column and explain the purpose of each step.\n",
        "3. Discuss how the 2-3 pieces of information were split into three columns."
      ],
      "metadata": {
        "id": "6HC25ax3Tv7L"
      }
    },
    {
      "cell_type": "markdown",
      "source": [
        "<font color=\"orange\">\n",
        "Your answers here\n",
        "</font>"
      ],
      "metadata": {
        "id": "095G-DB2UM9r"
      }
    },
    {
      "cell_type": "markdown",
      "source": [
        "## Case Study - Cleaning and extracting the information from `urlslug`\n",
        "\n",
        "In a previous activity, I shared the code for cleaning up the `urlslug` column.  I will apply the extact same process, but this time using `R`."
      ],
      "metadata": {
        "id": "ibFtAZKhNBk5"
      }
    },
    {
      "cell_type": "code",
      "source": [
        "(comics\n",
        " %>% select(urlslug) # Temp select\n",
        " %>% mutate(has_group = ifelse(str_detect(urlslug, '\\\\)_\\\\('), 1, 0), # parentheses are special and need \\\\ in front\n",
        "            urlslug2 = urlslug\n",
        "                        %>% str_replace(\"\\\\\\\\/wiki\", '') # both \\ and / are also special and need to be escaped\n",
        "                        %>% str_replace(\"\\\\\\\\/\", \"\")\n",
        "                        %>% str_replace(\"\\\\)_\\\\(\", \"|\")\n",
        "                        %>% str_replace(\"_\\\\(\", \"|\")\n",
        "                        %>% str_replace('\\\\)', '')\n",
        "                        %>% str_replace('_', ' '),\n",
        "           name = str_split_i(urlslug2, '\\\\|', 1),\n",
        "           group_or_alias = ifelse(has_group, str_split_i(urlslug2, '\\\\|', 2), NA),\n",
        "           universe = str_split_i(urlslug2, '\\\\|', -1),\n",
        "           )\n",
        " %>% select(-urlslug, -urlslug2)\n",
        " %>% head(10) # Temp head\n",
        ")"
      ],
      "metadata": {
        "id": "IwE5h5i_NSVh",
        "outputId": "ce65ed9c-31f4-41e4-97e8-9050f6784af5",
        "colab": {
          "base_uri": "https://localhost:8080/",
          "height": 407
        }
      },
      "execution_count": null,
      "outputs": [
        {
          "output_type": "display_data",
          "data": {
            "text/html": [
              "<table class=\"dataframe\">\n",
              "<caption>A data.frame: 10 × 13</caption>\n",
              "<thead>\n",
              "\t<tr><th></th><th scope=col>page_id</th><th scope=col>ID</th><th scope=col>ALIGN</th><th scope=col>SEX</th><th scope=col>ALIVE</th><th scope=col>APPEARANCES</th><th scope=col>FIRST.APPEARANCE</th><th scope=col>comic</th><th scope=col>PHYSICAL</th><th scope=col>has_group</th><th scope=col>name</th><th scope=col>group_or_alias</th><th scope=col>universe</th></tr>\n",
              "\t<tr><th></th><th scope=col>&lt;int&gt;</th><th scope=col>&lt;chr&gt;</th><th scope=col>&lt;chr&gt;</th><th scope=col>&lt;chr&gt;</th><th scope=col>&lt;chr&gt;</th><th scope=col>&lt;int&gt;</th><th scope=col>&lt;chr&gt;</th><th scope=col>&lt;chr&gt;</th><th scope=col>&lt;chr&gt;</th><th scope=col>&lt;dbl&gt;</th><th scope=col>&lt;chr&gt;</th><th scope=col>&lt;chr&gt;</th><th scope=col>&lt;chr&gt;</th></tr>\n",
              "</thead>\n",
              "<tbody>\n",
              "\t<tr><th scope=row>1</th><td>666101</td><td>Public Identity</td><td>                  </td><td>Male Characters  </td><td>Living Characters  </td><td> 4</td><td>Apr-97         </td><td>marvel       </td><td>Blue Eyes , Brown Hair</td><td>0</td><td>Jonathan Dillon </td><td>NA    </td><td>Earth-616</td></tr>\n",
              "\t<tr><th scope=row>2</th><td>280850</td><td>Public Identity</td><td>                  </td><td>Male Characters  </td><td>Deceased Characters</td><td>NA</td><td>Oct-01         </td><td>marvl        </td><td>Blue Eyes , Blond Hair</td><td>1</td><td>John            </td><td>Mutant</td><td>Earth-616</td></tr>\n",
              "\t<tr><th scope=row>3</th><td>129267</td><td>Public Identity</td><td>Good Characters   </td><td>Male Characters  </td><td>Living Characters  </td><td>15</td><td>1987, September</td><td>DC comics    </td><td> , Black Hair         </td><td>0</td><td>Gene LaBostrie  </td><td>NA    </td><td>New_Earth</td></tr>\n",
              "\t<tr><th scope=row>4</th><td>157368</td><td>Public Identity</td><td>Good Characters   </td><td>Male Characters  </td><td>Deceased Characters</td><td>15</td><td>1992, September</td><td>DC           </td><td>Black Eyes ,          </td><td>0</td><td>Reemuz          </td><td>NA    </td><td>New Earth</td></tr>\n",
              "\t<tr><th scope=row>5</th><td> 16171</td><td>Secret Identity</td><td>Bad Characters    </td><td>Male Characters  </td><td>Living Characters  </td><td> 1</td><td>Jul-73         </td><td>marvl        </td><td> ,                    </td><td>0</td><td>Aquon           </td><td>NA    </td><td>Earth-616</td></tr>\n",
              "\t<tr><th scope=row>6</th><td>240298</td><td>Secret Identity</td><td>Bad Characters    </td><td>Female Characters</td><td>Living Characters  </td><td> 4</td><td>2002, April    </td><td>DC           </td><td> , Black Hair         </td><td>0</td><td>Rachel Berkowitz</td><td>NA    </td><td>New_Earth</td></tr>\n",
              "\t<tr><th scope=row>7</th><td>186659</td><td>               </td><td>Bad Characters    </td><td>Male Characters  </td><td>Living Characters  </td><td>NA</td><td>1999, May      </td><td>DC           </td><td> ,                    </td><td>0</td><td>Golem II        </td><td>NA    </td><td>New_Earth</td></tr>\n",
              "\t<tr><th scope=row>8</th><td>288877</td><td>Public Identity</td><td>Bad Characters    </td><td>Male Characters  </td><td>Living Characters  </td><td> 1</td><td>Oct-86         </td><td>Marvel Comics</td><td> ,                    </td><td>0</td><td>Burka           </td><td>NA    </td><td>Earth-616</td></tr>\n",
              "\t<tr><th scope=row>9</th><td>402328</td><td>               </td><td>Bad Characters    </td><td>Male Characters  </td><td>Living Characters  </td><td>14</td><td>Jul-06         </td><td>marvelcomics </td><td>Blue Eyes , Blond Hair</td><td>0</td><td>Max Lohmer      </td><td>NA    </td><td>Earth-616</td></tr>\n",
              "\t<tr><th scope=row>10</th><td> 22342</td><td>Public Identity</td><td>Neutral Characters</td><td>Male Characters  </td><td>Deceased Characters</td><td> 7</td><td>Aug-89         </td><td>marvelcomics </td><td> , Grey Hair          </td><td>0</td><td>Paul Harker     </td><td>NA    </td><td>Earth-616</td></tr>\n",
              "</tbody>\n",
              "</table>\n"
            ],
            "text/markdown": "\nA data.frame: 10 × 13\n\n| <!--/--> | page_id &lt;int&gt; | ID &lt;chr&gt; | ALIGN &lt;chr&gt; | SEX &lt;chr&gt; | ALIVE &lt;chr&gt; | APPEARANCES &lt;int&gt; | FIRST.APPEARANCE &lt;chr&gt; | comic &lt;chr&gt; | PHYSICAL &lt;chr&gt; | has_group &lt;dbl&gt; | name &lt;chr&gt; | group_or_alias &lt;chr&gt; | universe &lt;chr&gt; |\n|---|---|---|---|---|---|---|---|---|---|---|---|---|---|\n| 1 | 666101 | Public Identity | <!----> | Male Characters   | Living Characters   |  4 | Apr-97          | marvel        | Blue Eyes , Brown Hair | 0 | Jonathan Dillon  | NA     | Earth-616 |\n| 2 | 280850 | Public Identity | <!----> | Male Characters   | Deceased Characters | NA | Oct-01          | marvl         | Blue Eyes , Blond Hair | 1 | John             | Mutant | Earth-616 |\n| 3 | 129267 | Public Identity | Good Characters    | Male Characters   | Living Characters   | 15 | 1987, September | DC comics     |  , Black Hair          | 0 | Gene LaBostrie   | NA     | New_Earth |\n| 4 | 157368 | Public Identity | Good Characters    | Male Characters   | Deceased Characters | 15 | 1992, September | DC            | Black Eyes ,           | 0 | Reemuz           | NA     | New Earth |\n| 5 |  16171 | Secret Identity | Bad Characters     | Male Characters   | Living Characters   |  1 | Jul-73          | marvl         |  ,                     | 0 | Aquon            | NA     | Earth-616 |\n| 6 | 240298 | Secret Identity | Bad Characters     | Female Characters | Living Characters   |  4 | 2002, April     | DC            |  , Black Hair          | 0 | Rachel Berkowitz | NA     | New_Earth |\n| 7 | 186659 | <!----> | Bad Characters     | Male Characters   | Living Characters   | NA | 1999, May       | DC            |  ,                     | 0 | Golem II         | NA     | New_Earth |\n| 8 | 288877 | Public Identity | Bad Characters     | Male Characters   | Living Characters   |  1 | Oct-86          | Marvel Comics |  ,                     | 0 | Burka            | NA     | Earth-616 |\n| 9 | 402328 | <!----> | Bad Characters     | Male Characters   | Living Characters   | 14 | Jul-06          | marvelcomics  | Blue Eyes , Blond Hair | 0 | Max Lohmer       | NA     | Earth-616 |\n| 10 |  22342 | Public Identity | Neutral Characters | Male Characters   | Deceased Characters |  7 | Aug-89          | marvelcomics  |  , Grey Hair           | 0 | Paul Harker      | NA     | Earth-616 |\n\n",
            "text/latex": "A data.frame: 10 × 13\n\\begin{tabular}{r|lllllllllllll}\n  & page\\_id & ID & ALIGN & SEX & ALIVE & APPEARANCES & FIRST.APPEARANCE & comic & PHYSICAL & has\\_group & name & group\\_or\\_alias & universe\\\\\n  & <int> & <chr> & <chr> & <chr> & <chr> & <int> & <chr> & <chr> & <chr> & <dbl> & <chr> & <chr> & <chr>\\\\\n\\hline\n\t1 & 666101 & Public Identity &                    & Male Characters   & Living Characters   &  4 & Apr-97          & marvel        & Blue Eyes , Brown Hair & 0 & Jonathan Dillon  & NA     & Earth-616\\\\\n\t2 & 280850 & Public Identity &                    & Male Characters   & Deceased Characters & NA & Oct-01          & marvl         & Blue Eyes , Blond Hair & 1 & John             & Mutant & Earth-616\\\\\n\t3 & 129267 & Public Identity & Good Characters    & Male Characters   & Living Characters   & 15 & 1987, September & DC comics     &  , Black Hair          & 0 & Gene LaBostrie   & NA     & New\\_Earth\\\\\n\t4 & 157368 & Public Identity & Good Characters    & Male Characters   & Deceased Characters & 15 & 1992, September & DC            & Black Eyes ,           & 0 & Reemuz           & NA     & New Earth\\\\\n\t5 &  16171 & Secret Identity & Bad Characters     & Male Characters   & Living Characters   &  1 & Jul-73          & marvl         &  ,                     & 0 & Aquon            & NA     & Earth-616\\\\\n\t6 & 240298 & Secret Identity & Bad Characters     & Female Characters & Living Characters   &  4 & 2002, April     & DC            &  , Black Hair          & 0 & Rachel Berkowitz & NA     & New\\_Earth\\\\\n\t7 & 186659 &                 & Bad Characters     & Male Characters   & Living Characters   & NA & 1999, May       & DC            &  ,                     & 0 & Golem II         & NA     & New\\_Earth\\\\\n\t8 & 288877 & Public Identity & Bad Characters     & Male Characters   & Living Characters   &  1 & Oct-86          & Marvel Comics &  ,                     & 0 & Burka            & NA     & Earth-616\\\\\n\t9 & 402328 &                 & Bad Characters     & Male Characters   & Living Characters   & 14 & Jul-06          & marvelcomics  & Blue Eyes , Blond Hair & 0 & Max Lohmer       & NA     & Earth-616\\\\\n\t10 &  22342 & Public Identity & Neutral Characters & Male Characters   & Deceased Characters &  7 & Aug-89          & marvelcomics  &  , Grey Hair           & 0 & Paul Harker      & NA     & Earth-616\\\\\n\\end{tabular}\n",
            "text/plain": [
              "   page_id ID              ALIGN              SEX              \n",
              "1  666101  Public Identity                    Male Characters  \n",
              "2  280850  Public Identity                    Male Characters  \n",
              "3  129267  Public Identity Good Characters    Male Characters  \n",
              "4  157368  Public Identity Good Characters    Male Characters  \n",
              "5   16171  Secret Identity Bad Characters     Male Characters  \n",
              "6  240298  Secret Identity Bad Characters     Female Characters\n",
              "7  186659                  Bad Characters     Male Characters  \n",
              "8  288877  Public Identity Bad Characters     Male Characters  \n",
              "9  402328                  Bad Characters     Male Characters  \n",
              "10  22342  Public Identity Neutral Characters Male Characters  \n",
              "   ALIVE               APPEARANCES FIRST.APPEARANCE comic        \n",
              "1  Living Characters    4          Apr-97           marvel       \n",
              "2  Deceased Characters NA          Oct-01           marvl        \n",
              "3  Living Characters   15          1987, September  DC comics    \n",
              "4  Deceased Characters 15          1992, September  DC           \n",
              "5  Living Characters    1          Jul-73           marvl        \n",
              "6  Living Characters    4          2002, April      DC           \n",
              "7  Living Characters   NA          1999, May        DC           \n",
              "8  Living Characters    1          Oct-86           Marvel Comics\n",
              "9  Living Characters   14          Jul-06           marvelcomics \n",
              "10 Deceased Characters  7          Aug-89           marvelcomics \n",
              "   PHYSICAL               has_group name             group_or_alias universe \n",
              "1  Blue Eyes , Brown Hair 0         Jonathan Dillon  NA             Earth-616\n",
              "2  Blue Eyes , Blond Hair 1         John             Mutant         Earth-616\n",
              "3   , Black Hair          0         Gene LaBostrie   NA             New_Earth\n",
              "4  Black Eyes ,           0         Reemuz           NA             New Earth\n",
              "5   ,                     0         Aquon            NA             Earth-616\n",
              "6   , Black Hair          0         Rachel Berkowitz NA             New_Earth\n",
              "7   ,                     0         Golem II         NA             New_Earth\n",
              "8   ,                     0         Burka            NA             Earth-616\n",
              "9  Blue Eyes , Blond Hair 0         Max Lohmer       NA             Earth-616\n",
              "10  , Grey Hair           0         Paul Harker      NA             Earth-616"
            ]
          },
          "metadata": {}
        }
      ]
    }
  ],
  "metadata": {
    "kernelspec": {
      "display_name": "R",
      "language": "R",
      "name": "ir"
    },
    "language_info": {
      "codemirror_mode": "r",
      "file_extension": ".r",
      "mimetype": "text/x-r-source",
      "name": "R",
      "pygments_lexer": "r",
      "version": "3.5.1"
    },
    "colab": {
      "provenance": [],
      "include_colab_link": true
    }
  },
  "nbformat": 4,
  "nbformat_minor": 0
}