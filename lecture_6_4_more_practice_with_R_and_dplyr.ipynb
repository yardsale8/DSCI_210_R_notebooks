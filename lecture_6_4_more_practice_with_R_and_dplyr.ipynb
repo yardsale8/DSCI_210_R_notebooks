{
  "cells": [
    {
      "cell_type": "markdown",
      "metadata": {
        "id": "view-in-github",
        "colab_type": "text"
      },
      "source": [
        "<a href=\"https://colab.research.google.com/github/yardsale8/DSCI_210_R_notebooks/blob/main/lecture_6_4_more_practice_with_R_and_dplyr.ipynb\" target=\"_parent\"><img src=\"https://colab.research.google.com/assets/colab-badge.svg\" alt=\"Open In Colab\"/></a>"
      ]
    },
    {
      "cell_type": "markdown",
      "metadata": {
        "id": "Ug_xRSUK4hG-"
      },
      "source": [
        "# Common mutations"
      ]
    },
    {
      "cell_type": "code",
      "execution_count": null,
      "metadata": {
        "id": "qotOrKe94hHA",
        "outputId": "ec97a60f-0653-437b-99e2-7d2b46386f4f",
        "colab": {
          "base_uri": "https://localhost:8080/"
        }
      },
      "outputs": [
        {
          "output_type": "stream",
          "name": "stderr",
          "text": [
            "── \u001b[1mAttaching core tidyverse packages\u001b[22m ──────────────────────── tidyverse 2.0.0 ──\n",
            "\u001b[32m✔\u001b[39m \u001b[34mdplyr    \u001b[39m 1.1.3     \u001b[32m✔\u001b[39m \u001b[34mreadr    \u001b[39m 2.1.4\n",
            "\u001b[32m✔\u001b[39m \u001b[34mforcats  \u001b[39m 1.0.0     \u001b[32m✔\u001b[39m \u001b[34mstringr  \u001b[39m 1.5.0\n",
            "\u001b[32m✔\u001b[39m \u001b[34mggplot2  \u001b[39m 3.4.4     \u001b[32m✔\u001b[39m \u001b[34mtibble   \u001b[39m 3.2.1\n",
            "\u001b[32m✔\u001b[39m \u001b[34mlubridate\u001b[39m 1.9.3     \u001b[32m✔\u001b[39m \u001b[34mtidyr    \u001b[39m 1.3.0\n",
            "\u001b[32m✔\u001b[39m \u001b[34mpurrr    \u001b[39m 1.0.2     \n",
            "── \u001b[1mConflicts\u001b[22m ────────────────────────────────────────── tidyverse_conflicts() ──\n",
            "\u001b[31m✖\u001b[39m \u001b[34mdplyr\u001b[39m::\u001b[32mfilter()\u001b[39m masks \u001b[34mstats\u001b[39m::filter()\n",
            "\u001b[31m✖\u001b[39m \u001b[34mdplyr\u001b[39m::\u001b[32mlag()\u001b[39m    masks \u001b[34mstats\u001b[39m::lag()\n",
            "\u001b[36mℹ\u001b[39m Use the conflicted package (\u001b[3m\u001b[34m<http://conflicted.r-lib.org/>\u001b[39m\u001b[23m) to force all conflicts to become errors\n"
          ]
        }
      ],
      "source": [
        "library(tidyverse)"
      ]
    },
    {
      "cell_type": "code",
      "execution_count": null,
      "metadata": {
        "id": "i9SB-U0v4hHB",
        "outputId": "87e4014e-daa4-4141-b476-9b7960068933",
        "colab": {
          "base_uri": "https://localhost:8080/",
          "height": 283
        }
      },
      "outputs": [
        {
          "output_type": "display_data",
          "data": {
            "text/html": [
              "<table class=\"dataframe\">\n",
              "<caption>A data.frame: 6 × 13</caption>\n",
              "<thead>\n",
              "\t<tr><th></th><th scope=col>record_id</th><th scope=col>month</th><th scope=col>day</th><th scope=col>year</th><th scope=col>plot_id</th><th scope=col>species_id</th><th scope=col>sex</th><th scope=col>hindfoot_length</th><th scope=col>weight</th><th scope=col>genus</th><th scope=col>species</th><th scope=col>taxa</th><th scope=col>plot_type</th></tr>\n",
              "\t<tr><th></th><th scope=col>&lt;int&gt;</th><th scope=col>&lt;int&gt;</th><th scope=col>&lt;int&gt;</th><th scope=col>&lt;int&gt;</th><th scope=col>&lt;int&gt;</th><th scope=col>&lt;chr&gt;</th><th scope=col>&lt;chr&gt;</th><th scope=col>&lt;int&gt;</th><th scope=col>&lt;int&gt;</th><th scope=col>&lt;chr&gt;</th><th scope=col>&lt;chr&gt;</th><th scope=col>&lt;chr&gt;</th><th scope=col>&lt;chr&gt;</th></tr>\n",
              "</thead>\n",
              "<tbody>\n",
              "\t<tr><th scope=row>1</th><td>  1</td><td> 7</td><td>16</td><td>1977</td><td>2</td><td>NL</td><td>M</td><td>32</td><td>NA</td><td>Neotoma</td><td>albigula</td><td>Rodent</td><td>Control</td></tr>\n",
              "\t<tr><th scope=row>2</th><td> 72</td><td> 8</td><td>19</td><td>1977</td><td>2</td><td>NL</td><td>M</td><td>31</td><td>NA</td><td>Neotoma</td><td>albigula</td><td>Rodent</td><td>Control</td></tr>\n",
              "\t<tr><th scope=row>3</th><td>224</td><td> 9</td><td>13</td><td>1977</td><td>2</td><td>NL</td><td> </td><td>NA</td><td>NA</td><td>Neotoma</td><td>albigula</td><td>Rodent</td><td>Control</td></tr>\n",
              "\t<tr><th scope=row>4</th><td>266</td><td>10</td><td>16</td><td>1977</td><td>2</td><td>NL</td><td> </td><td>NA</td><td>NA</td><td>Neotoma</td><td>albigula</td><td>Rodent</td><td>Control</td></tr>\n",
              "\t<tr><th scope=row>5</th><td>349</td><td>11</td><td>12</td><td>1977</td><td>2</td><td>NL</td><td> </td><td>NA</td><td>NA</td><td>Neotoma</td><td>albigula</td><td>Rodent</td><td>Control</td></tr>\n",
              "\t<tr><th scope=row>6</th><td>363</td><td>11</td><td>12</td><td>1977</td><td>2</td><td>NL</td><td> </td><td>NA</td><td>NA</td><td>Neotoma</td><td>albigula</td><td>Rodent</td><td>Control</td></tr>\n",
              "</tbody>\n",
              "</table>\n"
            ],
            "text/markdown": "\nA data.frame: 6 × 13\n\n| <!--/--> | record_id &lt;int&gt; | month &lt;int&gt; | day &lt;int&gt; | year &lt;int&gt; | plot_id &lt;int&gt; | species_id &lt;chr&gt; | sex &lt;chr&gt; | hindfoot_length &lt;int&gt; | weight &lt;int&gt; | genus &lt;chr&gt; | species &lt;chr&gt; | taxa &lt;chr&gt; | plot_type &lt;chr&gt; |\n|---|---|---|---|---|---|---|---|---|---|---|---|---|---|\n| 1 |   1 |  7 | 16 | 1977 | 2 | NL | M | 32 | NA | Neotoma | albigula | Rodent | Control |\n| 2 |  72 |  8 | 19 | 1977 | 2 | NL | M | 31 | NA | Neotoma | albigula | Rodent | Control |\n| 3 | 224 |  9 | 13 | 1977 | 2 | NL | <!----> | NA | NA | Neotoma | albigula | Rodent | Control |\n| 4 | 266 | 10 | 16 | 1977 | 2 | NL | <!----> | NA | NA | Neotoma | albigula | Rodent | Control |\n| 5 | 349 | 11 | 12 | 1977 | 2 | NL | <!----> | NA | NA | Neotoma | albigula | Rodent | Control |\n| 6 | 363 | 11 | 12 | 1977 | 2 | NL | <!----> | NA | NA | Neotoma | albigula | Rodent | Control |\n\n",
            "text/latex": "A data.frame: 6 × 13\n\\begin{tabular}{r|lllllllllllll}\n  & record\\_id & month & day & year & plot\\_id & species\\_id & sex & hindfoot\\_length & weight & genus & species & taxa & plot\\_type\\\\\n  & <int> & <int> & <int> & <int> & <int> & <chr> & <chr> & <int> & <int> & <chr> & <chr> & <chr> & <chr>\\\\\n\\hline\n\t1 &   1 &  7 & 16 & 1977 & 2 & NL & M & 32 & NA & Neotoma & albigula & Rodent & Control\\\\\n\t2 &  72 &  8 & 19 & 1977 & 2 & NL & M & 31 & NA & Neotoma & albigula & Rodent & Control\\\\\n\t3 & 224 &  9 & 13 & 1977 & 2 & NL &   & NA & NA & Neotoma & albigula & Rodent & Control\\\\\n\t4 & 266 & 10 & 16 & 1977 & 2 & NL &   & NA & NA & Neotoma & albigula & Rodent & Control\\\\\n\t5 & 349 & 11 & 12 & 1977 & 2 & NL &   & NA & NA & Neotoma & albigula & Rodent & Control\\\\\n\t6 & 363 & 11 & 12 & 1977 & 2 & NL &   & NA & NA & Neotoma & albigula & Rodent & Control\\\\\n\\end{tabular}\n",
            "text/plain": [
              "  record_id month day year plot_id species_id sex hindfoot_length weight\n",
              "1   1        7    16  1977 2       NL         M   32              NA    \n",
              "2  72        8    19  1977 2       NL         M   31              NA    \n",
              "3 224        9    13  1977 2       NL             NA              NA    \n",
              "4 266       10    16  1977 2       NL             NA              NA    \n",
              "5 349       11    12  1977 2       NL             NA              NA    \n",
              "6 363       11    12  1977 2       NL             NA              NA    \n",
              "  genus   species  taxa   plot_type\n",
              "1 Neotoma albigula Rodent Control  \n",
              "2 Neotoma albigula Rodent Control  \n",
              "3 Neotoma albigula Rodent Control  \n",
              "4 Neotoma albigula Rodent Control  \n",
              "5 Neotoma albigula Rodent Control  \n",
              "6 Neotoma albigula Rodent Control  "
            ]
          },
          "metadata": {}
        }
      ],
      "source": [
        "surveys <- read.csv('https://github.com/WSU-DataScience/DSCI_210_R_notebooks/raw/main/data/portal_data_joined.csv')\n",
        "head(surveys)"
      ]
    },
    {
      "cell_type": "markdown",
      "metadata": {
        "id": "XiFB5r9Q4hHC"
      },
      "source": [
        "## Outline\n",
        "\n",
        "* Numeric transformations\n",
        "* String transformations"
      ]
    },
    {
      "cell_type": "markdown",
      "metadata": {
        "id": "XII17-4D4hHC"
      },
      "source": [
        "## Arithmetic Transformations on Numeric Columns"
      ]
    },
    {
      "cell_type": "markdown",
      "metadata": {
        "id": "4LHVKeHn4hHC"
      },
      "source": [
        "### Example - Creating a decade column"
      ]
    },
    {
      "cell_type": "code",
      "execution_count": null,
      "metadata": {
        "id": "DJjEKyhJ4hHC",
        "outputId": "aa5040e9-dc26-4d9b-f4b3-29295b3bc71d",
        "colab": {
          "base_uri": "https://localhost:8080/",
          "height": 34
        }
      },
      "outputs": [
        {
          "output_type": "display_data",
          "data": {
            "text/html": [
              "<style>\n",
              ".list-inline {list-style: none; margin:0; padding: 0}\n",
              ".list-inline>li {display: inline-block}\n",
              ".list-inline>li:not(:last-child)::after {content: \"\\00b7\"; padding: 0 .5ex}\n",
              "</style>\n",
              "<ol class=list-inline><li>1977</li><li>1977</li><li>1977</li><li>1977</li><li>1977</li><li>1977</li></ol>\n"
            ],
            "text/markdown": "1. 1977\n2. 1977\n3. 1977\n4. 1977\n5. 1977\n6. 1977\n\n\n",
            "text/latex": "\\begin{enumerate*}\n\\item 1977\n\\item 1977\n\\item 1977\n\\item 1977\n\\item 1977\n\\item 1977\n\\end{enumerate*}\n",
            "text/plain": [
              "[1] 1977 1977 1977 1977 1977 1977"
            ]
          },
          "metadata": {}
        }
      ],
      "source": [
        "# Playing around\n",
        "# Step 1 - Save the column\n",
        "year <- surveys$year\n",
        "year %>% head"
      ]
    },
    {
      "cell_type": "code",
      "execution_count": null,
      "metadata": {
        "id": "oXhQVGHd4hHD",
        "outputId": "3af41508-eb44-408d-812c-77f147cc4090",
        "colab": {
          "base_uri": "https://localhost:8080/",
          "height": 34
        }
      },
      "outputs": [
        {
          "output_type": "display_data",
          "data": {
            "text/html": [
              "<style>\n",
              ".list-inline {list-style: none; margin:0; padding: 0}\n",
              ".list-inline>li {display: inline-block}\n",
              ".list-inline>li:not(:last-child)::after {content: \"\\00b7\"; padding: 0 .5ex}\n",
              "</style>\n",
              "<ol class=list-inline><li>1970</li><li>1970</li><li>1970</li><li>1970</li><li>1970</li><li>1970</li></ol>\n"
            ],
            "text/markdown": "1. 1970\n2. 1970\n3. 1970\n4. 1970\n5. 1970\n6. 1970\n\n\n",
            "text/latex": "\\begin{enumerate*}\n\\item 1970\n\\item 1970\n\\item 1970\n\\item 1970\n\\item 1970\n\\item 1970\n\\end{enumerate*}\n",
            "text/plain": [
              "[1] 1970 1970 1970 1970 1970 1970"
            ]
          },
          "metadata": {}
        }
      ],
      "source": [
        "# Playing around\n",
        "# Step 2 - Try it out\n",
        "new <- floor(year/10)*10\n",
        "head(new)"
      ]
    },
    {
      "cell_type": "code",
      "execution_count": null,
      "metadata": {
        "id": "HQ_ChzNn4hHD",
        "outputId": "39a87eef-ee2a-40f3-9c99-4b6cde1bc5f0",
        "colab": {
          "base_uri": "https://localhost:8080/",
          "height": 283
        }
      },
      "outputs": [
        {
          "output_type": "display_data",
          "data": {
            "text/html": [
              "<table class=\"dataframe\">\n",
              "<caption>A data.frame: 6 × 14</caption>\n",
              "<thead>\n",
              "\t<tr><th></th><th scope=col>record_id</th><th scope=col>month</th><th scope=col>day</th><th scope=col>year</th><th scope=col>plot_id</th><th scope=col>species_id</th><th scope=col>sex</th><th scope=col>hindfoot_length</th><th scope=col>weight</th><th scope=col>genus</th><th scope=col>species</th><th scope=col>taxa</th><th scope=col>plot_type</th><th scope=col>decade</th></tr>\n",
              "\t<tr><th></th><th scope=col>&lt;int&gt;</th><th scope=col>&lt;int&gt;</th><th scope=col>&lt;int&gt;</th><th scope=col>&lt;int&gt;</th><th scope=col>&lt;int&gt;</th><th scope=col>&lt;chr&gt;</th><th scope=col>&lt;chr&gt;</th><th scope=col>&lt;int&gt;</th><th scope=col>&lt;int&gt;</th><th scope=col>&lt;chr&gt;</th><th scope=col>&lt;chr&gt;</th><th scope=col>&lt;chr&gt;</th><th scope=col>&lt;chr&gt;</th><th scope=col>&lt;dbl&gt;</th></tr>\n",
              "</thead>\n",
              "<tbody>\n",
              "\t<tr><th scope=row>1</th><td>  1</td><td> 7</td><td>16</td><td>1977</td><td>2</td><td>NL</td><td>M</td><td>32</td><td>NA</td><td>Neotoma</td><td>albigula</td><td>Rodent</td><td>Control</td><td>1970</td></tr>\n",
              "\t<tr><th scope=row>2</th><td> 72</td><td> 8</td><td>19</td><td>1977</td><td>2</td><td>NL</td><td>M</td><td>31</td><td>NA</td><td>Neotoma</td><td>albigula</td><td>Rodent</td><td>Control</td><td>1970</td></tr>\n",
              "\t<tr><th scope=row>3</th><td>224</td><td> 9</td><td>13</td><td>1977</td><td>2</td><td>NL</td><td> </td><td>NA</td><td>NA</td><td>Neotoma</td><td>albigula</td><td>Rodent</td><td>Control</td><td>1970</td></tr>\n",
              "\t<tr><th scope=row>4</th><td>266</td><td>10</td><td>16</td><td>1977</td><td>2</td><td>NL</td><td> </td><td>NA</td><td>NA</td><td>Neotoma</td><td>albigula</td><td>Rodent</td><td>Control</td><td>1970</td></tr>\n",
              "\t<tr><th scope=row>5</th><td>349</td><td>11</td><td>12</td><td>1977</td><td>2</td><td>NL</td><td> </td><td>NA</td><td>NA</td><td>Neotoma</td><td>albigula</td><td>Rodent</td><td>Control</td><td>1970</td></tr>\n",
              "\t<tr><th scope=row>6</th><td>363</td><td>11</td><td>12</td><td>1977</td><td>2</td><td>NL</td><td> </td><td>NA</td><td>NA</td><td>Neotoma</td><td>albigula</td><td>Rodent</td><td>Control</td><td>1970</td></tr>\n",
              "</tbody>\n",
              "</table>\n"
            ],
            "text/markdown": "\nA data.frame: 6 × 14\n\n| <!--/--> | record_id &lt;int&gt; | month &lt;int&gt; | day &lt;int&gt; | year &lt;int&gt; | plot_id &lt;int&gt; | species_id &lt;chr&gt; | sex &lt;chr&gt; | hindfoot_length &lt;int&gt; | weight &lt;int&gt; | genus &lt;chr&gt; | species &lt;chr&gt; | taxa &lt;chr&gt; | plot_type &lt;chr&gt; | decade &lt;dbl&gt; |\n|---|---|---|---|---|---|---|---|---|---|---|---|---|---|---|\n| 1 |   1 |  7 | 16 | 1977 | 2 | NL | M | 32 | NA | Neotoma | albigula | Rodent | Control | 1970 |\n| 2 |  72 |  8 | 19 | 1977 | 2 | NL | M | 31 | NA | Neotoma | albigula | Rodent | Control | 1970 |\n| 3 | 224 |  9 | 13 | 1977 | 2 | NL | <!----> | NA | NA | Neotoma | albigula | Rodent | Control | 1970 |\n| 4 | 266 | 10 | 16 | 1977 | 2 | NL | <!----> | NA | NA | Neotoma | albigula | Rodent | Control | 1970 |\n| 5 | 349 | 11 | 12 | 1977 | 2 | NL | <!----> | NA | NA | Neotoma | albigula | Rodent | Control | 1970 |\n| 6 | 363 | 11 | 12 | 1977 | 2 | NL | <!----> | NA | NA | Neotoma | albigula | Rodent | Control | 1970 |\n\n",
            "text/latex": "A data.frame: 6 × 14\n\\begin{tabular}{r|llllllllllllll}\n  & record\\_id & month & day & year & plot\\_id & species\\_id & sex & hindfoot\\_length & weight & genus & species & taxa & plot\\_type & decade\\\\\n  & <int> & <int> & <int> & <int> & <int> & <chr> & <chr> & <int> & <int> & <chr> & <chr> & <chr> & <chr> & <dbl>\\\\\n\\hline\n\t1 &   1 &  7 & 16 & 1977 & 2 & NL & M & 32 & NA & Neotoma & albigula & Rodent & Control & 1970\\\\\n\t2 &  72 &  8 & 19 & 1977 & 2 & NL & M & 31 & NA & Neotoma & albigula & Rodent & Control & 1970\\\\\n\t3 & 224 &  9 & 13 & 1977 & 2 & NL &   & NA & NA & Neotoma & albigula & Rodent & Control & 1970\\\\\n\t4 & 266 & 10 & 16 & 1977 & 2 & NL &   & NA & NA & Neotoma & albigula & Rodent & Control & 1970\\\\\n\t5 & 349 & 11 & 12 & 1977 & 2 & NL &   & NA & NA & Neotoma & albigula & Rodent & Control & 1970\\\\\n\t6 & 363 & 11 & 12 & 1977 & 2 & NL &   & NA & NA & Neotoma & albigula & Rodent & Control & 1970\\\\\n\\end{tabular}\n",
            "text/plain": [
              "  record_id month day year plot_id species_id sex hindfoot_length weight\n",
              "1   1        7    16  1977 2       NL         M   32              NA    \n",
              "2  72        8    19  1977 2       NL         M   31              NA    \n",
              "3 224        9    13  1977 2       NL             NA              NA    \n",
              "4 266       10    16  1977 2       NL             NA              NA    \n",
              "5 349       11    12  1977 2       NL             NA              NA    \n",
              "6 363       11    12  1977 2       NL             NA              NA    \n",
              "  genus   species  taxa   plot_type decade\n",
              "1 Neotoma albigula Rodent Control   1970  \n",
              "2 Neotoma albigula Rodent Control   1970  \n",
              "3 Neotoma albigula Rodent Control   1970  \n",
              "4 Neotoma albigula Rodent Control   1970  \n",
              "5 Neotoma albigula Rodent Control   1970  \n",
              "6 Neotoma albigula Rodent Control   1970  "
            ]
          },
          "metadata": {}
        }
      ],
      "source": [
        "# Step 3 - Embed in a mutate\n",
        "(surveys\n",
        " %>% mutate(decade = floor(year/10)*10)\n",
        " %>% head\n",
        " )"
      ]
    },
    {
      "cell_type": "markdown",
      "metadata": {
        "id": "bhtxYxcG4hHD"
      },
      "source": [
        "### Making a indicator column with `ifelse`"
      ]
    },
    {
      "cell_type": "code",
      "execution_count": null,
      "metadata": {
        "id": "cYgFTFuS4hHD",
        "outputId": "bf654bc9-e25c-457a-b53d-534ba789ee8a",
        "colab": {
          "base_uri": "https://localhost:8080/",
          "height": 34
        }
      },
      "outputs": [
        {
          "output_type": "display_data",
          "data": {
            "text/html": [
              "<style>\n",
              ".list-inline {list-style: none; margin:0; padding: 0}\n",
              ".list-inline>li {display: inline-block}\n",
              ".list-inline>li:not(:last-child)::after {content: \"\\00b7\"; padding: 0 .5ex}\n",
              "</style>\n",
              "<ol class=list-inline><li>1</li><li>1</li><li>0</li><li>0</li><li>0</li><li>0</li></ol>\n"
            ],
            "text/markdown": "1. 1\n2. 1\n3. 0\n4. 0\n5. 0\n6. 0\n\n\n",
            "text/latex": "\\begin{enumerate*}\n\\item 1\n\\item 1\n\\item 0\n\\item 0\n\\item 0\n\\item 0\n\\end{enumerate*}\n",
            "text/plain": [
              "[1] 1 1 0 0 0 0"
            ]
          },
          "metadata": {}
        }
      ],
      "source": [
        "# Playing around\n",
        "sex <- surveys$sex\n",
        "new <- ifelse(sex == 'M', 1, 0)\n",
        "head(new)"
      ]
    },
    {
      "cell_type": "code",
      "execution_count": null,
      "metadata": {
        "scrolled": true,
        "id": "cbNFqAGk4hHD",
        "outputId": "4f1e2af3-4a80-4274-8733-f1a0b48299dc",
        "colab": {
          "base_uri": "https://localhost:8080/",
          "height": 283
        }
      },
      "outputs": [
        {
          "output_type": "display_data",
          "data": {
            "text/html": [
              "<table class=\"dataframe\">\n",
              "<caption>A data.frame: 6 × 14</caption>\n",
              "<thead>\n",
              "\t<tr><th></th><th scope=col>record_id</th><th scope=col>month</th><th scope=col>day</th><th scope=col>year</th><th scope=col>plot_id</th><th scope=col>species_id</th><th scope=col>sex</th><th scope=col>hindfoot_length</th><th scope=col>weight</th><th scope=col>genus</th><th scope=col>species</th><th scope=col>taxa</th><th scope=col>plot_type</th><th scope=col>is_male</th></tr>\n",
              "\t<tr><th></th><th scope=col>&lt;int&gt;</th><th scope=col>&lt;int&gt;</th><th scope=col>&lt;int&gt;</th><th scope=col>&lt;int&gt;</th><th scope=col>&lt;int&gt;</th><th scope=col>&lt;chr&gt;</th><th scope=col>&lt;chr&gt;</th><th scope=col>&lt;int&gt;</th><th scope=col>&lt;int&gt;</th><th scope=col>&lt;chr&gt;</th><th scope=col>&lt;chr&gt;</th><th scope=col>&lt;chr&gt;</th><th scope=col>&lt;chr&gt;</th><th scope=col>&lt;dbl&gt;</th></tr>\n",
              "</thead>\n",
              "<tbody>\n",
              "\t<tr><th scope=row>1</th><td>  1</td><td> 7</td><td>16</td><td>1977</td><td>2</td><td>NL</td><td>M</td><td>32</td><td>NA</td><td>Neotoma</td><td>albigula</td><td>Rodent</td><td>Control</td><td>1</td></tr>\n",
              "\t<tr><th scope=row>2</th><td> 72</td><td> 8</td><td>19</td><td>1977</td><td>2</td><td>NL</td><td>M</td><td>31</td><td>NA</td><td>Neotoma</td><td>albigula</td><td>Rodent</td><td>Control</td><td>1</td></tr>\n",
              "\t<tr><th scope=row>3</th><td>224</td><td> 9</td><td>13</td><td>1977</td><td>2</td><td>NL</td><td> </td><td>NA</td><td>NA</td><td>Neotoma</td><td>albigula</td><td>Rodent</td><td>Control</td><td>0</td></tr>\n",
              "\t<tr><th scope=row>4</th><td>266</td><td>10</td><td>16</td><td>1977</td><td>2</td><td>NL</td><td> </td><td>NA</td><td>NA</td><td>Neotoma</td><td>albigula</td><td>Rodent</td><td>Control</td><td>0</td></tr>\n",
              "\t<tr><th scope=row>5</th><td>349</td><td>11</td><td>12</td><td>1977</td><td>2</td><td>NL</td><td> </td><td>NA</td><td>NA</td><td>Neotoma</td><td>albigula</td><td>Rodent</td><td>Control</td><td>0</td></tr>\n",
              "\t<tr><th scope=row>6</th><td>363</td><td>11</td><td>12</td><td>1977</td><td>2</td><td>NL</td><td> </td><td>NA</td><td>NA</td><td>Neotoma</td><td>albigula</td><td>Rodent</td><td>Control</td><td>0</td></tr>\n",
              "</tbody>\n",
              "</table>\n"
            ],
            "text/markdown": "\nA data.frame: 6 × 14\n\n| <!--/--> | record_id &lt;int&gt; | month &lt;int&gt; | day &lt;int&gt; | year &lt;int&gt; | plot_id &lt;int&gt; | species_id &lt;chr&gt; | sex &lt;chr&gt; | hindfoot_length &lt;int&gt; | weight &lt;int&gt; | genus &lt;chr&gt; | species &lt;chr&gt; | taxa &lt;chr&gt; | plot_type &lt;chr&gt; | is_male &lt;dbl&gt; |\n|---|---|---|---|---|---|---|---|---|---|---|---|---|---|---|\n| 1 |   1 |  7 | 16 | 1977 | 2 | NL | M | 32 | NA | Neotoma | albigula | Rodent | Control | 1 |\n| 2 |  72 |  8 | 19 | 1977 | 2 | NL | M | 31 | NA | Neotoma | albigula | Rodent | Control | 1 |\n| 3 | 224 |  9 | 13 | 1977 | 2 | NL | <!----> | NA | NA | Neotoma | albigula | Rodent | Control | 0 |\n| 4 | 266 | 10 | 16 | 1977 | 2 | NL | <!----> | NA | NA | Neotoma | albigula | Rodent | Control | 0 |\n| 5 | 349 | 11 | 12 | 1977 | 2 | NL | <!----> | NA | NA | Neotoma | albigula | Rodent | Control | 0 |\n| 6 | 363 | 11 | 12 | 1977 | 2 | NL | <!----> | NA | NA | Neotoma | albigula | Rodent | Control | 0 |\n\n",
            "text/latex": "A data.frame: 6 × 14\n\\begin{tabular}{r|llllllllllllll}\n  & record\\_id & month & day & year & plot\\_id & species\\_id & sex & hindfoot\\_length & weight & genus & species & taxa & plot\\_type & is\\_male\\\\\n  & <int> & <int> & <int> & <int> & <int> & <chr> & <chr> & <int> & <int> & <chr> & <chr> & <chr> & <chr> & <dbl>\\\\\n\\hline\n\t1 &   1 &  7 & 16 & 1977 & 2 & NL & M & 32 & NA & Neotoma & albigula & Rodent & Control & 1\\\\\n\t2 &  72 &  8 & 19 & 1977 & 2 & NL & M & 31 & NA & Neotoma & albigula & Rodent & Control & 1\\\\\n\t3 & 224 &  9 & 13 & 1977 & 2 & NL &   & NA & NA & Neotoma & albigula & Rodent & Control & 0\\\\\n\t4 & 266 & 10 & 16 & 1977 & 2 & NL &   & NA & NA & Neotoma & albigula & Rodent & Control & 0\\\\\n\t5 & 349 & 11 & 12 & 1977 & 2 & NL &   & NA & NA & Neotoma & albigula & Rodent & Control & 0\\\\\n\t6 & 363 & 11 & 12 & 1977 & 2 & NL &   & NA & NA & Neotoma & albigula & Rodent & Control & 0\\\\\n\\end{tabular}\n",
            "text/plain": [
              "  record_id month day year plot_id species_id sex hindfoot_length weight\n",
              "1   1        7    16  1977 2       NL         M   32              NA    \n",
              "2  72        8    19  1977 2       NL         M   31              NA    \n",
              "3 224        9    13  1977 2       NL             NA              NA    \n",
              "4 266       10    16  1977 2       NL             NA              NA    \n",
              "5 349       11    12  1977 2       NL             NA              NA    \n",
              "6 363       11    12  1977 2       NL             NA              NA    \n",
              "  genus   species  taxa   plot_type is_male\n",
              "1 Neotoma albigula Rodent Control   1      \n",
              "2 Neotoma albigula Rodent Control   1      \n",
              "3 Neotoma albigula Rodent Control   0      \n",
              "4 Neotoma albigula Rodent Control   0      \n",
              "5 Neotoma albigula Rodent Control   0      \n",
              "6 Neotoma albigula Rodent Control   0      "
            ]
          },
          "metadata": {}
        }
      ],
      "source": [
        "(surveys\n",
        "%>% mutate(is_male = ifelse(sex == 'M', 1, 0))\n",
        "%>% head\n",
        ")"
      ]
    },
    {
      "cell_type": "markdown",
      "metadata": {
        "id": "Thqk_O6O4hHE"
      },
      "source": [
        "## <font color=\"red\"> Exercise 6.2.1 - Convert to kg. </font>\n",
        "\n",
        "The variables `Bench.pre` and `Bench.post` represent the pre- and post-measurement for maximum bench press in lbs.\n",
        "\n",
        "* **Task 1:** Create two new columns that contain the bench press weights (pre- and post-) converted to kilograms.\n",
        "* **Task 2:** Create an indicator column called `is_class_1` that is `1` for all rows with `Class == 1` and `0` otherwise."
      ]
    },
    {
      "cell_type": "code",
      "execution_count": null,
      "metadata": {
        "id": "5DIRlC3G4hHE",
        "outputId": "4a42e3db-ca73-4ff5-907a-ccd439b18a75",
        "colab": {
          "base_uri": "https://localhost:8080/",
          "height": 283
        }
      },
      "outputs": [
        {
          "output_type": "display_data",
          "data": {
            "text/html": [
              "<table class=\"dataframe\">\n",
              "<caption>A data.frame: 6 × 12</caption>\n",
              "<thead>\n",
              "\t<tr><th></th><th scope=col>student</th><th scope=col>Class</th><th scope=col>Pct7</th><th scope=col>Avg.sleep.per.night</th><th scope=col>GPA.pre</th><th scope=col>GPA.post</th><th scope=col>Clean.pre</th><th scope=col>Clean.post</th><th scope=col>Back.pre</th><th scope=col>Back.post</th><th scope=col>Bench.pre</th><th scope=col>Bench.post</th></tr>\n",
              "\t<tr><th></th><th scope=col>&lt;int&gt;</th><th scope=col>&lt;int&gt;</th><th scope=col>&lt;chr&gt;</th><th scope=col>&lt;dbl&gt;</th><th scope=col>&lt;dbl&gt;</th><th scope=col>&lt;dbl&gt;</th><th scope=col>&lt;int&gt;</th><th scope=col>&lt;int&gt;</th><th scope=col>&lt;int&gt;</th><th scope=col>&lt;int&gt;</th><th scope=col>&lt;int&gt;</th><th scope=col>&lt;int&gt;</th></tr>\n",
              "</thead>\n",
              "<tbody>\n",
              "\t<tr><th scope=row>1</th><td>1</td><td>NA</td><td>   </td><td> NA</td><td>3.21</td><td>3.60</td><td>270</td><td> NA</td><td>425</td><td> NA</td><td>315</td><td> NA</td></tr>\n",
              "\t<tr><th scope=row>2</th><td>2</td><td> 1</td><td>95%</td><td>7.6</td><td>3.10</td><td>3.30</td><td>265</td><td>290</td><td>385</td><td>430</td><td>255</td><td>275</td></tr>\n",
              "\t<tr><th scope=row>3</th><td>3</td><td> 2</td><td>90%</td><td>7.5</td><td>2.94</td><td>3.46</td><td>264</td><td>264</td><td>290</td><td>425</td><td>290</td><td>290</td></tr>\n",
              "\t<tr><th scope=row>4</th><td>4</td><td> 2</td><td>25%</td><td>6.0</td><td>2.57</td><td>2.20</td><td>290</td><td> NA</td><td>450</td><td> NA</td><td>275</td><td> NA</td></tr>\n",
              "\t<tr><th scope=row>5</th><td>5</td><td> 1</td><td>44%</td><td>6.0</td><td>3.50</td><td>3.50</td><td>280</td><td>265</td><td>415</td><td>390</td><td>270</td><td>235</td></tr>\n",
              "\t<tr><th scope=row>6</th><td>6</td><td> 2</td><td>88%</td><td>7.0</td><td>2.64</td><td>1.53</td><td>253</td><td>253</td><td>405</td><td>415</td><td>305</td><td>325</td></tr>\n",
              "</tbody>\n",
              "</table>\n"
            ],
            "text/markdown": "\nA data.frame: 6 × 12\n\n| <!--/--> | student &lt;int&gt; | Class &lt;int&gt; | Pct7 &lt;chr&gt; | Avg.sleep.per.night &lt;dbl&gt; | GPA.pre &lt;dbl&gt; | GPA.post &lt;dbl&gt; | Clean.pre &lt;int&gt; | Clean.post &lt;int&gt; | Back.pre &lt;int&gt; | Back.post &lt;int&gt; | Bench.pre &lt;int&gt; | Bench.post &lt;int&gt; |\n|---|---|---|---|---|---|---|---|---|---|---|---|---|\n| 1 | 1 | NA | <!----> |  NA | 3.21 | 3.60 | 270 |  NA | 425 |  NA | 315 |  NA |\n| 2 | 2 |  1 | 95% | 7.6 | 3.10 | 3.30 | 265 | 290 | 385 | 430 | 255 | 275 |\n| 3 | 3 |  2 | 90% | 7.5 | 2.94 | 3.46 | 264 | 264 | 290 | 425 | 290 | 290 |\n| 4 | 4 |  2 | 25% | 6.0 | 2.57 | 2.20 | 290 |  NA | 450 |  NA | 275 |  NA |\n| 5 | 5 |  1 | 44% | 6.0 | 3.50 | 3.50 | 280 | 265 | 415 | 390 | 270 | 235 |\n| 6 | 6 |  2 | 88% | 7.0 | 2.64 | 1.53 | 253 | 253 | 405 | 415 | 305 | 325 |\n\n",
            "text/latex": "A data.frame: 6 × 12\n\\begin{tabular}{r|llllllllllll}\n  & student & Class & Pct7 & Avg.sleep.per.night & GPA.pre & GPA.post & Clean.pre & Clean.post & Back.pre & Back.post & Bench.pre & Bench.post\\\\\n  & <int> & <int> & <chr> & <dbl> & <dbl> & <dbl> & <int> & <int> & <int> & <int> & <int> & <int>\\\\\n\\hline\n\t1 & 1 & NA &     &  NA & 3.21 & 3.60 & 270 &  NA & 425 &  NA & 315 &  NA\\\\\n\t2 & 2 &  1 & 95\\% & 7.6 & 3.10 & 3.30 & 265 & 290 & 385 & 430 & 255 & 275\\\\\n\t3 & 3 &  2 & 90\\% & 7.5 & 2.94 & 3.46 & 264 & 264 & 290 & 425 & 290 & 290\\\\\n\t4 & 4 &  2 & 25\\% & 6.0 & 2.57 & 2.20 & 290 &  NA & 450 &  NA & 275 &  NA\\\\\n\t5 & 5 &  1 & 44\\% & 6.0 & 3.50 & 3.50 & 280 & 265 & 415 & 390 & 270 & 235\\\\\n\t6 & 6 &  2 & 88\\% & 7.0 & 2.64 & 1.53 & 253 & 253 & 405 & 415 & 305 & 325\\\\\n\\end{tabular}\n",
            "text/plain": [
              "  student Class Pct7 Avg.sleep.per.night GPA.pre GPA.post Clean.pre Clean.post\n",
              "1 1       NA          NA                 3.21    3.60     270        NA       \n",
              "2 2        1    95%  7.6                 3.10    3.30     265       290       \n",
              "3 3        2    90%  7.5                 2.94    3.46     264       264       \n",
              "4 4        2    25%  6.0                 2.57    2.20     290        NA       \n",
              "5 5        1    44%  6.0                 3.50    3.50     280       265       \n",
              "6 6        2    88%  7.0                 2.64    1.53     253       253       \n",
              "  Back.pre Back.post Bench.pre Bench.post\n",
              "1 425       NA       315        NA       \n",
              "2 385      430       255       275       \n",
              "3 290      425       290       290       \n",
              "4 450       NA       275        NA       \n",
              "5 415      390       270       235       \n",
              "6 405      415       305       325       "
            ]
          },
          "metadata": {}
        }
      ],
      "source": [
        "football_sleep <- read.csv('https://github.com/WSU-DataScience/DSCI_210_R_notebooks/raw/main/data/Football_Sleep_data.csv')\n",
        "head(football_sleep)"
      ]
    },
    {
      "cell_type": "code",
      "execution_count": null,
      "metadata": {
        "id": "raYXXGbO4hHE"
      },
      "outputs": [],
      "source": [
        "# Your code here"
      ]
    },
    {
      "cell_type": "markdown",
      "metadata": {
        "id": "qkCTVcuK4hHE"
      },
      "source": [
        "## String Transformations\n",
        "\n",
        "1. Substring extraction\n",
        "2. Replace\n",
        "3. Recode"
      ]
    },
    {
      "cell_type": "markdown",
      "metadata": {
        "id": "dNrUnNpg4hHE"
      },
      "source": [
        "### Pattern 1 - Substring extraction with `substr`\n",
        "\n",
        "**Syntax:** `substr(col, start, stop)`"
      ]
    },
    {
      "cell_type": "code",
      "execution_count": null,
      "metadata": {
        "id": "yVzFfFeF4hHE",
        "outputId": "771601eb-37f3-44af-f43f-ed27818aae0d",
        "colab": {
          "base_uri": "https://localhost:8080/",
          "height": 34
        }
      },
      "outputs": [
        {
          "output_type": "display_data",
          "data": {
            "text/html": [
              "<style>\n",
              ".list-inline {list-style: none; margin:0; padding: 0}\n",
              ".list-inline>li {display: inline-block}\n",
              ".list-inline>li:not(:last-child)::after {content: \"\\00b7\"; padding: 0 .5ex}\n",
              "</style>\n",
              "<ol class=list-inline><li>'Control'</li><li>'Long-term Krat Exclosure'</li><li>'Short-term Krat Exclosure'</li><li>'Rodent Exclosure'</li><li>'Spectab exclosure'</li></ol>\n"
            ],
            "text/markdown": "1. 'Control'\n2. 'Long-term Krat Exclosure'\n3. 'Short-term Krat Exclosure'\n4. 'Rodent Exclosure'\n5. 'Spectab exclosure'\n\n\n",
            "text/latex": "\\begin{enumerate*}\n\\item 'Control'\n\\item 'Long-term Krat Exclosure'\n\\item 'Short-term Krat Exclosure'\n\\item 'Rodent Exclosure'\n\\item 'Spectab exclosure'\n\\end{enumerate*}\n",
            "text/plain": [
              "[1] \"Control\"                   \"Long-term Krat Exclosure\" \n",
              "[3] \"Short-term Krat Exclosure\" \"Rodent Exclosure\"         \n",
              "[5] \"Spectab exclosure\"        "
            ]
          },
          "metadata": {}
        }
      ],
      "source": [
        "# Play around\n",
        "plot_type <- surveys$plot_type\n",
        "plot_type %>% unique"
      ]
    },
    {
      "cell_type": "markdown",
      "metadata": {
        "id": "b1CFrcUp4hHF"
      },
      "source": [
        "**Note:** R indexing starts at 1 not 0"
      ]
    },
    {
      "cell_type": "code",
      "execution_count": null,
      "metadata": {
        "id": "UrIBBF8f4hHF",
        "outputId": "3da54b19-022c-4d10-99fb-2d70063425d4",
        "colab": {
          "base_uri": "https://localhost:8080/",
          "height": 34
        }
      },
      "outputs": [
        {
          "output_type": "display_data",
          "data": {
            "text/html": [
              "<style>\n",
              ".list-inline {list-style: none; margin:0; padding: 0}\n",
              ".list-inline>li {display: inline-block}\n",
              ".list-inline>li:not(:last-child)::after {content: \"\\00b7\"; padding: 0 .5ex}\n",
              "</style>\n",
              "<ol class=list-inline><li>'Contr'</li><li>'Contr'</li><li>'Contr'</li><li>'Contr'</li><li>'Contr'</li><li>'Contr'</li></ol>\n"
            ],
            "text/markdown": "1. 'Contr'\n2. 'Contr'\n3. 'Contr'\n4. 'Contr'\n5. 'Contr'\n6. 'Contr'\n\n\n",
            "text/latex": "\\begin{enumerate*}\n\\item 'Contr'\n\\item 'Contr'\n\\item 'Contr'\n\\item 'Contr'\n\\item 'Contr'\n\\item 'Contr'\n\\end{enumerate*}\n",
            "text/plain": [
              "[1] \"Contr\" \"Contr\" \"Contr\" \"Contr\" \"Contr\" \"Contr\""
            ]
          },
          "metadata": {}
        }
      ],
      "source": [
        "# Functional code\n",
        "new <- substr(plot_type, 1, 5)\n",
        "new %>% head"
      ]
    },
    {
      "cell_type": "code",
      "source": [
        "# Piped code\n",
        "new <- plot_type %>% substr(1, 5)\n",
        "new %>% head"
      ],
      "metadata": {
        "id": "K4fPi6xNCtuf",
        "outputId": "a7dcfc32-d32c-4759-fe70-d301657e59c8",
        "colab": {
          "base_uri": "https://localhost:8080/",
          "height": 34
        }
      },
      "execution_count": null,
      "outputs": [
        {
          "output_type": "display_data",
          "data": {
            "text/html": [
              "<style>\n",
              ".list-inline {list-style: none; margin:0; padding: 0}\n",
              ".list-inline>li {display: inline-block}\n",
              ".list-inline>li:not(:last-child)::after {content: \"\\00b7\"; padding: 0 .5ex}\n",
              "</style>\n",
              "<ol class=list-inline><li>'Contr'</li><li>'Contr'</li><li>'Contr'</li><li>'Contr'</li><li>'Contr'</li><li>'Contr'</li></ol>\n"
            ],
            "text/markdown": "1. 'Contr'\n2. 'Contr'\n3. 'Contr'\n4. 'Contr'\n5. 'Contr'\n6. 'Contr'\n\n\n",
            "text/latex": "\\begin{enumerate*}\n\\item 'Contr'\n\\item 'Contr'\n\\item 'Contr'\n\\item 'Contr'\n\\item 'Contr'\n\\item 'Contr'\n\\end{enumerate*}\n",
            "text/plain": [
              "[1] \"Contr\" \"Contr\" \"Contr\" \"Contr\" \"Contr\" \"Contr\""
            ]
          },
          "metadata": {}
        }
      ]
    },
    {
      "cell_type": "code",
      "source": [
        "new %>% unique %>% head"
      ],
      "metadata": {
        "id": "iAOLjsiN8y2b",
        "outputId": "1c1ec33d-c661-4eb8-8b06-b5cd3e960e02",
        "colab": {
          "base_uri": "https://localhost:8080/",
          "height": 34
        }
      },
      "execution_count": null,
      "outputs": [
        {
          "output_type": "display_data",
          "data": {
            "text/html": [
              "<style>\n",
              ".list-inline {list-style: none; margin:0; padding: 0}\n",
              ".list-inline>li {display: inline-block}\n",
              ".list-inline>li:not(:last-child)::after {content: \"\\00b7\"; padding: 0 .5ex}\n",
              "</style>\n",
              "<ol class=list-inline><li>'Contr'</li><li>'Long-'</li><li>'Short'</li><li>'Roden'</li><li>'Spect'</li></ol>\n"
            ],
            "text/markdown": "1. 'Contr'\n2. 'Long-'\n3. 'Short'\n4. 'Roden'\n5. 'Spect'\n\n\n",
            "text/latex": "\\begin{enumerate*}\n\\item 'Contr'\n\\item 'Long-'\n\\item 'Short'\n\\item 'Roden'\n\\item 'Spect'\n\\end{enumerate*}\n",
            "text/plain": [
              "[1] \"Contr\" \"Long-\" \"Short\" \"Roden\" \"Spect\""
            ]
          },
          "metadata": {}
        }
      ]
    },
    {
      "cell_type": "code",
      "execution_count": null,
      "metadata": {
        "scrolled": true,
        "id": "y7wuTdZf4hHF",
        "outputId": "187439dd-9da0-4337-8d4e-22ba28770fea",
        "colab": {
          "base_uri": "https://localhost:8080/",
          "height": 283
        }
      },
      "outputs": [
        {
          "output_type": "display_data",
          "data": {
            "text/html": [
              "<table class=\"dataframe\">\n",
              "<caption>A data.frame: 6 × 13</caption>\n",
              "<thead>\n",
              "\t<tr><th></th><th scope=col>record_id</th><th scope=col>month</th><th scope=col>day</th><th scope=col>year</th><th scope=col>plot_id</th><th scope=col>species_id</th><th scope=col>sex</th><th scope=col>hindfoot_length</th><th scope=col>weight</th><th scope=col>genus</th><th scope=col>species</th><th scope=col>taxa</th><th scope=col>plot_type</th></tr>\n",
              "\t<tr><th></th><th scope=col>&lt;int&gt;</th><th scope=col>&lt;int&gt;</th><th scope=col>&lt;int&gt;</th><th scope=col>&lt;int&gt;</th><th scope=col>&lt;int&gt;</th><th scope=col>&lt;chr&gt;</th><th scope=col>&lt;chr&gt;</th><th scope=col>&lt;int&gt;</th><th scope=col>&lt;int&gt;</th><th scope=col>&lt;chr&gt;</th><th scope=col>&lt;chr&gt;</th><th scope=col>&lt;chr&gt;</th><th scope=col>&lt;chr&gt;</th></tr>\n",
              "</thead>\n",
              "<tbody>\n",
              "\t<tr><th scope=row>1</th><td>  1</td><td> 7</td><td>16</td><td>1977</td><td>2</td><td>NL</td><td>M</td><td>32</td><td>NA</td><td>Neotoma</td><td>albigula</td><td>Rodent</td><td>Contr</td></tr>\n",
              "\t<tr><th scope=row>2</th><td> 72</td><td> 8</td><td>19</td><td>1977</td><td>2</td><td>NL</td><td>M</td><td>31</td><td>NA</td><td>Neotoma</td><td>albigula</td><td>Rodent</td><td>Contr</td></tr>\n",
              "\t<tr><th scope=row>3</th><td>224</td><td> 9</td><td>13</td><td>1977</td><td>2</td><td>NL</td><td> </td><td>NA</td><td>NA</td><td>Neotoma</td><td>albigula</td><td>Rodent</td><td>Contr</td></tr>\n",
              "\t<tr><th scope=row>4</th><td>266</td><td>10</td><td>16</td><td>1977</td><td>2</td><td>NL</td><td> </td><td>NA</td><td>NA</td><td>Neotoma</td><td>albigula</td><td>Rodent</td><td>Contr</td></tr>\n",
              "\t<tr><th scope=row>5</th><td>349</td><td>11</td><td>12</td><td>1977</td><td>2</td><td>NL</td><td> </td><td>NA</td><td>NA</td><td>Neotoma</td><td>albigula</td><td>Rodent</td><td>Contr</td></tr>\n",
              "\t<tr><th scope=row>6</th><td>363</td><td>11</td><td>12</td><td>1977</td><td>2</td><td>NL</td><td> </td><td>NA</td><td>NA</td><td>Neotoma</td><td>albigula</td><td>Rodent</td><td>Contr</td></tr>\n",
              "</tbody>\n",
              "</table>\n"
            ],
            "text/markdown": "\nA data.frame: 6 × 13\n\n| <!--/--> | record_id &lt;int&gt; | month &lt;int&gt; | day &lt;int&gt; | year &lt;int&gt; | plot_id &lt;int&gt; | species_id &lt;chr&gt; | sex &lt;chr&gt; | hindfoot_length &lt;int&gt; | weight &lt;int&gt; | genus &lt;chr&gt; | species &lt;chr&gt; | taxa &lt;chr&gt; | plot_type &lt;chr&gt; |\n|---|---|---|---|---|---|---|---|---|---|---|---|---|---|\n| 1 |   1 |  7 | 16 | 1977 | 2 | NL | M | 32 | NA | Neotoma | albigula | Rodent | Contr |\n| 2 |  72 |  8 | 19 | 1977 | 2 | NL | M | 31 | NA | Neotoma | albigula | Rodent | Contr |\n| 3 | 224 |  9 | 13 | 1977 | 2 | NL | <!----> | NA | NA | Neotoma | albigula | Rodent | Contr |\n| 4 | 266 | 10 | 16 | 1977 | 2 | NL | <!----> | NA | NA | Neotoma | albigula | Rodent | Contr |\n| 5 | 349 | 11 | 12 | 1977 | 2 | NL | <!----> | NA | NA | Neotoma | albigula | Rodent | Contr |\n| 6 | 363 | 11 | 12 | 1977 | 2 | NL | <!----> | NA | NA | Neotoma | albigula | Rodent | Contr |\n\n",
            "text/latex": "A data.frame: 6 × 13\n\\begin{tabular}{r|lllllllllllll}\n  & record\\_id & month & day & year & plot\\_id & species\\_id & sex & hindfoot\\_length & weight & genus & species & taxa & plot\\_type\\\\\n  & <int> & <int> & <int> & <int> & <int> & <chr> & <chr> & <int> & <int> & <chr> & <chr> & <chr> & <chr>\\\\\n\\hline\n\t1 &   1 &  7 & 16 & 1977 & 2 & NL & M & 32 & NA & Neotoma & albigula & Rodent & Contr\\\\\n\t2 &  72 &  8 & 19 & 1977 & 2 & NL & M & 31 & NA & Neotoma & albigula & Rodent & Contr\\\\\n\t3 & 224 &  9 & 13 & 1977 & 2 & NL &   & NA & NA & Neotoma & albigula & Rodent & Contr\\\\\n\t4 & 266 & 10 & 16 & 1977 & 2 & NL &   & NA & NA & Neotoma & albigula & Rodent & Contr\\\\\n\t5 & 349 & 11 & 12 & 1977 & 2 & NL &   & NA & NA & Neotoma & albigula & Rodent & Contr\\\\\n\t6 & 363 & 11 & 12 & 1977 & 2 & NL &   & NA & NA & Neotoma & albigula & Rodent & Contr\\\\\n\\end{tabular}\n",
            "text/plain": [
              "  record_id month day year plot_id species_id sex hindfoot_length weight\n",
              "1   1        7    16  1977 2       NL         M   32              NA    \n",
              "2  72        8    19  1977 2       NL         M   31              NA    \n",
              "3 224        9    13  1977 2       NL             NA              NA    \n",
              "4 266       10    16  1977 2       NL             NA              NA    \n",
              "5 349       11    12  1977 2       NL             NA              NA    \n",
              "6 363       11    12  1977 2       NL             NA              NA    \n",
              "  genus   species  taxa   plot_type\n",
              "1 Neotoma albigula Rodent Contr    \n",
              "2 Neotoma albigula Rodent Contr    \n",
              "3 Neotoma albigula Rodent Contr    \n",
              "4 Neotoma albigula Rodent Contr    \n",
              "5 Neotoma albigula Rodent Contr    \n",
              "6 Neotoma albigula Rodent Contr    "
            ]
          },
          "metadata": {}
        }
      ],
      "source": [
        "(surveys\n",
        " %>% mutate(plot_type = substr(plot_type, 1, 5))\n",
        " %>% head\n",
        " )"
      ]
    },
    {
      "cell_type": "markdown",
      "metadata": {
        "id": "YrJLvskA4hHF"
      },
      "source": [
        "## <font color=\"red\"> Exercise 6.2.2 - Creating a decade column using string functions.</font>\n",
        "\n",
        "In a previous example, we used division and `floor` to create a `decade` column.  Another approach to this problem is to convert the years to strings and use `substr` to extract the decade.\n",
        "\n",
        "**Tasks:** The basic process for converting to decade is\n",
        "\n",
        "1. Use `as.charactar` to convert `year` to a string.\n",
        "2. Use `substr` to extract the first three digits.\n",
        "3. Use `paste(column, '0', sep = '')` to add on a zero.\n",
        "4. Use `as.numeric` to convert back to a numeric column\n",
        "\n",
        "Be sure to *play around* with the columns first, THEN mutate."
      ]
    },
    {
      "cell_type": "code",
      "execution_count": null,
      "metadata": {
        "id": "QtZGFcqC4hHF",
        "outputId": "3ccfbbc9-93aa-4c77-f07e-ff9d0195c83d",
        "colab": {
          "base_uri": "https://localhost:8080/",
          "height": 283
        }
      },
      "outputs": [
        {
          "output_type": "display_data",
          "data": {
            "text/html": [
              "<table class=\"dataframe\">\n",
              "<caption>A data.frame: 6 × 13</caption>\n",
              "<thead>\n",
              "\t<tr><th></th><th scope=col>record_id</th><th scope=col>month</th><th scope=col>day</th><th scope=col>year</th><th scope=col>plot_id</th><th scope=col>species_id</th><th scope=col>sex</th><th scope=col>hindfoot_length</th><th scope=col>weight</th><th scope=col>genus</th><th scope=col>species</th><th scope=col>taxa</th><th scope=col>plot_type</th></tr>\n",
              "\t<tr><th></th><th scope=col>&lt;int&gt;</th><th scope=col>&lt;int&gt;</th><th scope=col>&lt;int&gt;</th><th scope=col>&lt;int&gt;</th><th scope=col>&lt;int&gt;</th><th scope=col>&lt;chr&gt;</th><th scope=col>&lt;chr&gt;</th><th scope=col>&lt;int&gt;</th><th scope=col>&lt;int&gt;</th><th scope=col>&lt;chr&gt;</th><th scope=col>&lt;chr&gt;</th><th scope=col>&lt;chr&gt;</th><th scope=col>&lt;chr&gt;</th></tr>\n",
              "</thead>\n",
              "<tbody>\n",
              "\t<tr><th scope=row>1</th><td>  1</td><td> 7</td><td>16</td><td>1977</td><td>2</td><td>NL</td><td>M</td><td>32</td><td>NA</td><td>Neotoma</td><td>albigula</td><td>Rodent</td><td>Control</td></tr>\n",
              "\t<tr><th scope=row>2</th><td> 72</td><td> 8</td><td>19</td><td>1977</td><td>2</td><td>NL</td><td>M</td><td>31</td><td>NA</td><td>Neotoma</td><td>albigula</td><td>Rodent</td><td>Control</td></tr>\n",
              "\t<tr><th scope=row>3</th><td>224</td><td> 9</td><td>13</td><td>1977</td><td>2</td><td>NL</td><td> </td><td>NA</td><td>NA</td><td>Neotoma</td><td>albigula</td><td>Rodent</td><td>Control</td></tr>\n",
              "\t<tr><th scope=row>4</th><td>266</td><td>10</td><td>16</td><td>1977</td><td>2</td><td>NL</td><td> </td><td>NA</td><td>NA</td><td>Neotoma</td><td>albigula</td><td>Rodent</td><td>Control</td></tr>\n",
              "\t<tr><th scope=row>5</th><td>349</td><td>11</td><td>12</td><td>1977</td><td>2</td><td>NL</td><td> </td><td>NA</td><td>NA</td><td>Neotoma</td><td>albigula</td><td>Rodent</td><td>Control</td></tr>\n",
              "\t<tr><th scope=row>6</th><td>363</td><td>11</td><td>12</td><td>1977</td><td>2</td><td>NL</td><td> </td><td>NA</td><td>NA</td><td>Neotoma</td><td>albigula</td><td>Rodent</td><td>Control</td></tr>\n",
              "</tbody>\n",
              "</table>\n"
            ],
            "text/markdown": "\nA data.frame: 6 × 13\n\n| <!--/--> | record_id &lt;int&gt; | month &lt;int&gt; | day &lt;int&gt; | year &lt;int&gt; | plot_id &lt;int&gt; | species_id &lt;chr&gt; | sex &lt;chr&gt; | hindfoot_length &lt;int&gt; | weight &lt;int&gt; | genus &lt;chr&gt; | species &lt;chr&gt; | taxa &lt;chr&gt; | plot_type &lt;chr&gt; |\n|---|---|---|---|---|---|---|---|---|---|---|---|---|---|\n| 1 |   1 |  7 | 16 | 1977 | 2 | NL | M | 32 | NA | Neotoma | albigula | Rodent | Control |\n| 2 |  72 |  8 | 19 | 1977 | 2 | NL | M | 31 | NA | Neotoma | albigula | Rodent | Control |\n| 3 | 224 |  9 | 13 | 1977 | 2 | NL | <!----> | NA | NA | Neotoma | albigula | Rodent | Control |\n| 4 | 266 | 10 | 16 | 1977 | 2 | NL | <!----> | NA | NA | Neotoma | albigula | Rodent | Control |\n| 5 | 349 | 11 | 12 | 1977 | 2 | NL | <!----> | NA | NA | Neotoma | albigula | Rodent | Control |\n| 6 | 363 | 11 | 12 | 1977 | 2 | NL | <!----> | NA | NA | Neotoma | albigula | Rodent | Control |\n\n",
            "text/latex": "A data.frame: 6 × 13\n\\begin{tabular}{r|lllllllllllll}\n  & record\\_id & month & day & year & plot\\_id & species\\_id & sex & hindfoot\\_length & weight & genus & species & taxa & plot\\_type\\\\\n  & <int> & <int> & <int> & <int> & <int> & <chr> & <chr> & <int> & <int> & <chr> & <chr> & <chr> & <chr>\\\\\n\\hline\n\t1 &   1 &  7 & 16 & 1977 & 2 & NL & M & 32 & NA & Neotoma & albigula & Rodent & Control\\\\\n\t2 &  72 &  8 & 19 & 1977 & 2 & NL & M & 31 & NA & Neotoma & albigula & Rodent & Control\\\\\n\t3 & 224 &  9 & 13 & 1977 & 2 & NL &   & NA & NA & Neotoma & albigula & Rodent & Control\\\\\n\t4 & 266 & 10 & 16 & 1977 & 2 & NL &   & NA & NA & Neotoma & albigula & Rodent & Control\\\\\n\t5 & 349 & 11 & 12 & 1977 & 2 & NL &   & NA & NA & Neotoma & albigula & Rodent & Control\\\\\n\t6 & 363 & 11 & 12 & 1977 & 2 & NL &   & NA & NA & Neotoma & albigula & Rodent & Control\\\\\n\\end{tabular}\n",
            "text/plain": [
              "  record_id month day year plot_id species_id sex hindfoot_length weight\n",
              "1   1        7    16  1977 2       NL         M   32              NA    \n",
              "2  72        8    19  1977 2       NL         M   31              NA    \n",
              "3 224        9    13  1977 2       NL             NA              NA    \n",
              "4 266       10    16  1977 2       NL             NA              NA    \n",
              "5 349       11    12  1977 2       NL             NA              NA    \n",
              "6 363       11    12  1977 2       NL             NA              NA    \n",
              "  genus   species  taxa   plot_type\n",
              "1 Neotoma albigula Rodent Control  \n",
              "2 Neotoma albigula Rodent Control  \n",
              "3 Neotoma albigula Rodent Control  \n",
              "4 Neotoma albigula Rodent Control  \n",
              "5 Neotoma albigula Rodent Control  \n",
              "6 Neotoma albigula Rodent Control  "
            ]
          },
          "metadata": {}
        }
      ],
      "source": [
        "surveys %>% head"
      ]
    },
    {
      "cell_type": "markdown",
      "source": [
        "#### First, understand the `paste` string function"
      ],
      "metadata": {
        "id": "trxy3E8FDfAD"
      }
    },
    {
      "cell_type": "code",
      "execution_count": null,
      "metadata": {
        "id": "tnNSNZrp4hHF",
        "outputId": "6a9cbbec-8809-405d-a3aa-8835ff210003",
        "colab": {
          "base_uri": "https://localhost:8080/"
        }
      },
      "outputs": [
        {
          "output_type": "display_data",
          "data": {
            "text/html": [
              "<style>\n",
              ".list-inline {list-style: none; margin:0; padding: 0}\n",
              ".list-inline>li {display: inline-block}\n",
              ".list-inline>li:not(:last-child)::after {content: \"\\00b7\"; padding: 0 .5ex}\n",
              "</style>\n",
              "<ol class=list-inline><li>'NLa'</li><li>'DMa'</li><li>'PFa'</li><li>'PEa'</li><li>'DSa'</li><li>'PPa'</li><li>'SHa'</li><li>'OTa'</li><li>'DOa'</li><li>'OXa'</li><li>'SSa'</li><li>'OLa'</li><li>'RMa'</li><li>'SAa'</li><li>'PMa'</li><li>'AHa'</li><li>'DXa'</li><li>'ABa'</li><li>'CMa'</li><li>'CQa'</li><li>'RFa'</li><li>'URa'</li><li>'UPa'</li><li>'ULa'</li><li>'BAa'</li><li>'ROa'</li><li>'SOa'</li><li>'PBa'</li><li>'CBa'</li><li>'PCa'</li><li>'PHa'</li><li>'SFa'</li><li>'PIa'</li><li>'PLa'</li><li>'PXa'</li><li>'CVa'</li><li>'USa'</li><li>'PGa'</li><li>'ASa'</li><li>'ZLa'</li><li>'CSa'</li><li>'SUa'</li><li>'PUa'</li><li>'STa'</li><li>'RXa'</li><li>'CTa'</li><li>'SCa'</li><li>'CUa'</li></ol>\n"
            ],
            "text/markdown": "1. 'NLa'\n2. 'DMa'\n3. 'PFa'\n4. 'PEa'\n5. 'DSa'\n6. 'PPa'\n7. 'SHa'\n8. 'OTa'\n9. 'DOa'\n10. 'OXa'\n11. 'SSa'\n12. 'OLa'\n13. 'RMa'\n14. 'SAa'\n15. 'PMa'\n16. 'AHa'\n17. 'DXa'\n18. 'ABa'\n19. 'CMa'\n20. 'CQa'\n21. 'RFa'\n22. 'URa'\n23. 'UPa'\n24. 'ULa'\n25. 'BAa'\n26. 'ROa'\n27. 'SOa'\n28. 'PBa'\n29. 'CBa'\n30. 'PCa'\n31. 'PHa'\n32. 'SFa'\n33. 'PIa'\n34. 'PLa'\n35. 'PXa'\n36. 'CVa'\n37. 'USa'\n38. 'PGa'\n39. 'ASa'\n40. 'ZLa'\n41. 'CSa'\n42. 'SUa'\n43. 'PUa'\n44. 'STa'\n45. 'RXa'\n46. 'CTa'\n47. 'SCa'\n48. 'CUa'\n\n\n",
            "text/latex": "\\begin{enumerate*}\n\\item 'NLa'\n\\item 'DMa'\n\\item 'PFa'\n\\item 'PEa'\n\\item 'DSa'\n\\item 'PPa'\n\\item 'SHa'\n\\item 'OTa'\n\\item 'DOa'\n\\item 'OXa'\n\\item 'SSa'\n\\item 'OLa'\n\\item 'RMa'\n\\item 'SAa'\n\\item 'PMa'\n\\item 'AHa'\n\\item 'DXa'\n\\item 'ABa'\n\\item 'CMa'\n\\item 'CQa'\n\\item 'RFa'\n\\item 'URa'\n\\item 'UPa'\n\\item 'ULa'\n\\item 'BAa'\n\\item 'ROa'\n\\item 'SOa'\n\\item 'PBa'\n\\item 'CBa'\n\\item 'PCa'\n\\item 'PHa'\n\\item 'SFa'\n\\item 'PIa'\n\\item 'PLa'\n\\item 'PXa'\n\\item 'CVa'\n\\item 'USa'\n\\item 'PGa'\n\\item 'ASa'\n\\item 'ZLa'\n\\item 'CSa'\n\\item 'SUa'\n\\item 'PUa'\n\\item 'STa'\n\\item 'RXa'\n\\item 'CTa'\n\\item 'SCa'\n\\item 'CUa'\n\\end{enumerate*}\n",
            "text/plain": [
              " [1] \"NLa\" \"DMa\" \"PFa\" \"PEa\" \"DSa\" \"PPa\" \"SHa\" \"OTa\" \"DOa\" \"OXa\" \"SSa\" \"OLa\"\n",
              "[13] \"RMa\" \"SAa\" \"PMa\" \"AHa\" \"DXa\" \"ABa\" \"CMa\" \"CQa\" \"RFa\" \"URa\" \"UPa\" \"ULa\"\n",
              "[25] \"BAa\" \"ROa\" \"SOa\" \"PBa\" \"CBa\" \"PCa\" \"PHa\" \"SFa\" \"PIa\" \"PLa\" \"PXa\" \"CVa\"\n",
              "[37] \"USa\" \"PGa\" \"ASa\" \"ZLa\" \"CSa\" \"SUa\" \"PUa\" \"STa\" \"RXa\" \"CTa\" \"SCa\" \"CUa\""
            ]
          },
          "metadata": {}
        }
      ],
      "source": [
        "# functional code\n",
        "species_id <- surveys$species_id\n",
        "example_paste <- paste(species_id, \"a\", sep = '')\n",
        "example_paste %>% unique"
      ]
    },
    {
      "cell_type": "code",
      "source": [
        "# pipes code\n",
        "species_id <- surveys$species_id\n",
        "example_paste <- species_id %>% paste(\"a\", sep = '')\n",
        "example_paste %>% unique"
      ],
      "metadata": {
        "id": "86eLgiJ2DBjQ",
        "outputId": "c22bef3c-5a6f-421c-9887-567c9ba9ef46",
        "colab": {
          "base_uri": "https://localhost:8080/",
          "height": 51
        }
      },
      "execution_count": null,
      "outputs": [
        {
          "output_type": "display_data",
          "data": {
            "text/html": [
              "<style>\n",
              ".list-inline {list-style: none; margin:0; padding: 0}\n",
              ".list-inline>li {display: inline-block}\n",
              ".list-inline>li:not(:last-child)::after {content: \"\\00b7\"; padding: 0 .5ex}\n",
              "</style>\n",
              "<ol class=list-inline><li>'NLa'</li><li>'DMa'</li><li>'PFa'</li><li>'PEa'</li><li>'DSa'</li><li>'PPa'</li><li>'SHa'</li><li>'OTa'</li><li>'DOa'</li><li>'OXa'</li><li>'SSa'</li><li>'OLa'</li><li>'RMa'</li><li>'SAa'</li><li>'PMa'</li><li>'AHa'</li><li>'DXa'</li><li>'ABa'</li><li>'CMa'</li><li>'CQa'</li><li>'RFa'</li><li>'URa'</li><li>'UPa'</li><li>'ULa'</li><li>'BAa'</li><li>'ROa'</li><li>'SOa'</li><li>'PBa'</li><li>'CBa'</li><li>'PCa'</li><li>'PHa'</li><li>'SFa'</li><li>'PIa'</li><li>'PLa'</li><li>'PXa'</li><li>'CVa'</li><li>'USa'</li><li>'PGa'</li><li>'ASa'</li><li>'ZLa'</li><li>'CSa'</li><li>'SUa'</li><li>'PUa'</li><li>'STa'</li><li>'RXa'</li><li>'CTa'</li><li>'SCa'</li><li>'CUa'</li></ol>\n"
            ],
            "text/markdown": "1. 'NLa'\n2. 'DMa'\n3. 'PFa'\n4. 'PEa'\n5. 'DSa'\n6. 'PPa'\n7. 'SHa'\n8. 'OTa'\n9. 'DOa'\n10. 'OXa'\n11. 'SSa'\n12. 'OLa'\n13. 'RMa'\n14. 'SAa'\n15. 'PMa'\n16. 'AHa'\n17. 'DXa'\n18. 'ABa'\n19. 'CMa'\n20. 'CQa'\n21. 'RFa'\n22. 'URa'\n23. 'UPa'\n24. 'ULa'\n25. 'BAa'\n26. 'ROa'\n27. 'SOa'\n28. 'PBa'\n29. 'CBa'\n30. 'PCa'\n31. 'PHa'\n32. 'SFa'\n33. 'PIa'\n34. 'PLa'\n35. 'PXa'\n36. 'CVa'\n37. 'USa'\n38. 'PGa'\n39. 'ASa'\n40. 'ZLa'\n41. 'CSa'\n42. 'SUa'\n43. 'PUa'\n44. 'STa'\n45. 'RXa'\n46. 'CTa'\n47. 'SCa'\n48. 'CUa'\n\n\n",
            "text/latex": "\\begin{enumerate*}\n\\item 'NLa'\n\\item 'DMa'\n\\item 'PFa'\n\\item 'PEa'\n\\item 'DSa'\n\\item 'PPa'\n\\item 'SHa'\n\\item 'OTa'\n\\item 'DOa'\n\\item 'OXa'\n\\item 'SSa'\n\\item 'OLa'\n\\item 'RMa'\n\\item 'SAa'\n\\item 'PMa'\n\\item 'AHa'\n\\item 'DXa'\n\\item 'ABa'\n\\item 'CMa'\n\\item 'CQa'\n\\item 'RFa'\n\\item 'URa'\n\\item 'UPa'\n\\item 'ULa'\n\\item 'BAa'\n\\item 'ROa'\n\\item 'SOa'\n\\item 'PBa'\n\\item 'CBa'\n\\item 'PCa'\n\\item 'PHa'\n\\item 'SFa'\n\\item 'PIa'\n\\item 'PLa'\n\\item 'PXa'\n\\item 'CVa'\n\\item 'USa'\n\\item 'PGa'\n\\item 'ASa'\n\\item 'ZLa'\n\\item 'CSa'\n\\item 'SUa'\n\\item 'PUa'\n\\item 'STa'\n\\item 'RXa'\n\\item 'CTa'\n\\item 'SCa'\n\\item 'CUa'\n\\end{enumerate*}\n",
            "text/plain": [
              " [1] \"NLa\" \"DMa\" \"PFa\" \"PEa\" \"DSa\" \"PPa\" \"SHa\" \"OTa\" \"DOa\" \"OXa\" \"SSa\" \"OLa\"\n",
              "[13] \"RMa\" \"SAa\" \"PMa\" \"AHa\" \"DXa\" \"ABa\" \"CMa\" \"CQa\" \"RFa\" \"URa\" \"UPa\" \"ULa\"\n",
              "[25] \"BAa\" \"ROa\" \"SOa\" \"PBa\" \"CBa\" \"PCa\" \"PHa\" \"SFa\" \"PIa\" \"PLa\" \"PXa\" \"CVa\"\n",
              "[37] \"USa\" \"PGa\" \"ASa\" \"ZLa\" \"CSa\" \"SUa\" \"PUa\" \"STa\" \"RXa\" \"CTa\" \"SCa\" \"CUa\""
            ]
          },
          "metadata": {}
        }
      ]
    },
    {
      "cell_type": "markdown",
      "source": [
        "#### Now solve the actual problem using `substr` + `paste`"
      ],
      "metadata": {
        "id": "wXGW16Z9DZCU"
      }
    },
    {
      "cell_type": "code",
      "execution_count": null,
      "metadata": {
        "id": "QnBHJVk54hHF"
      },
      "outputs": [],
      "source": [
        "# Your play-around code here"
      ]
    },
    {
      "cell_type": "code",
      "execution_count": null,
      "metadata": {
        "id": "NhAXhovO4hHF"
      },
      "outputs": [],
      "source": [
        "# Your mutate pipe here"
      ]
    },
    {
      "cell_type": "markdown",
      "metadata": {
        "id": "GkMjpr5q4hHF"
      },
      "source": [
        "## Pattern 2 - `str_replace` from the `stringr` library\n",
        "\n",
        "**Syntax:** `str_replace(column, pattern, replace)`"
      ]
    },
    {
      "cell_type": "markdown",
      "source": [
        "#### Use `str_replace` to replace the first instance."
      ],
      "metadata": {
        "id": "H3_PWHYl9ry8"
      }
    },
    {
      "cell_type": "code",
      "source": [
        "# Get help on str_replace\n",
        "?str_replace"
      ],
      "metadata": {
        "id": "4KsV_Qj09PeM"
      },
      "execution_count": null,
      "outputs": []
    },
    {
      "cell_type": "code",
      "source": [
        "# Functional code\n",
        "str_replace(s, '-', '/')"
      ],
      "metadata": {
        "id": "BCK_lFRw9Uyl",
        "outputId": "9484704f-9097-4d1d-9617-dc46a47b76bc",
        "colab": {
          "base_uri": "https://localhost:8080/",
          "height": 34
        }
      },
      "execution_count": null,
      "outputs": [
        {
          "output_type": "display_data",
          "data": {
            "text/html": [
              "'a/b-c'"
            ],
            "text/markdown": "'a/b-c'",
            "text/latex": "'a/b-c'",
            "text/plain": [
              "[1] \"a/b-c\""
            ]
          },
          "metadata": {}
        }
      ]
    },
    {
      "cell_type": "code",
      "source": [
        "s <- \"a-b-c\"\n",
        "# Piped code\n",
        "s %>% str_replace('-', '/')\n"
      ],
      "metadata": {
        "id": "udjVoVLU9GRq",
        "outputId": "e2b2e8e4-ef58-46f0-a94b-3a4762b1e768",
        "colab": {
          "base_uri": "https://localhost:8080/",
          "height": 34
        }
      },
      "execution_count": null,
      "outputs": [
        {
          "output_type": "display_data",
          "data": {
            "text/html": [
              "'a/b-c'"
            ],
            "text/markdown": "'a/b-c'",
            "text/latex": "'a/b-c'",
            "text/plain": [
              "[1] \"a/b-c\""
            ]
          },
          "metadata": {}
        }
      ]
    },
    {
      "cell_type": "markdown",
      "source": [
        "#### Use `str_replace_all` to replace all instances."
      ],
      "metadata": {
        "id": "-l7KN8bS97Y4"
      }
    },
    {
      "cell_type": "code",
      "source": [
        "# functional code\n",
        "str_replace_all(s, '-', '/')"
      ],
      "metadata": {
        "id": "FQvNIkzU9o6F",
        "outputId": "5a253016-f54f-4843-ed30-139dc65bcd7c",
        "colab": {
          "base_uri": "https://localhost:8080/",
          "height": 34
        }
      },
      "execution_count": null,
      "outputs": [
        {
          "output_type": "display_data",
          "data": {
            "text/html": [
              "'a/b/c'"
            ],
            "text/markdown": "'a/b/c'",
            "text/latex": "'a/b/c'",
            "text/plain": [
              "[1] \"a/b/c\""
            ]
          },
          "metadata": {}
        }
      ]
    },
    {
      "cell_type": "code",
      "source": [
        "# piped code\n",
        "s %>% str_replace_all('-', '/')"
      ],
      "metadata": {
        "id": "ZNeXSkBQ9hAm",
        "outputId": "980c25c2-8e0a-4bc3-9f57-9d71c7344542",
        "colab": {
          "base_uri": "https://localhost:8080/",
          "height": 34
        }
      },
      "execution_count": null,
      "outputs": [
        {
          "output_type": "display_data",
          "data": {
            "text/html": [
              "'a/b/c'"
            ],
            "text/markdown": "'a/b/c'",
            "text/latex": "'a/b/c'",
            "text/plain": [
              "[1] \"a/b/c\""
            ]
          },
          "metadata": {}
        }
      ]
    },
    {
      "cell_type": "markdown",
      "metadata": {
        "id": "SYuqCUJy4hHG"
      },
      "source": [
        "### Example - Cleaning up the percents"
      ]
    },
    {
      "cell_type": "code",
      "execution_count": null,
      "metadata": {
        "id": "_Cj9iMMg4hHG",
        "outputId": "b4fd974b-0b41-4e16-d19c-b64ef61787cb",
        "colab": {
          "base_uri": "https://localhost:8080/",
          "height": 34
        }
      },
      "outputs": [
        {
          "output_type": "display_data",
          "data": {
            "text/html": [
              "<style>\n",
              ".list-inline {list-style: none; margin:0; padding: 0}\n",
              ".list-inline>li {display: inline-block}\n",
              ".list-inline>li:not(:last-child)::after {content: \"\\00b7\"; padding: 0 .5ex}\n",
              "</style>\n",
              "<ol class=list-inline><li>''</li><li>'95%'</li><li>'90%'</li><li>'25%'</li><li>'44%'</li><li>'88%'</li></ol>\n"
            ],
            "text/markdown": "1. ''\n2. '95%'\n3. '90%'\n4. '25%'\n5. '44%'\n6. '88%'\n\n\n",
            "text/latex": "\\begin{enumerate*}\n\\item ''\n\\item '95\\%'\n\\item '90\\%'\n\\item '25\\%'\n\\item '44\\%'\n\\item '88\\%'\n\\end{enumerate*}\n",
            "text/plain": [
              "[1] \"\"    \"95%\" \"90%\" \"25%\" \"44%\" \"88%\""
            ]
          },
          "metadata": {}
        }
      ],
      "source": [
        "pct7 <- football_sleep$Pct7\n",
        "head(pct7)"
      ]
    },
    {
      "cell_type": "markdown",
      "metadata": {
        "id": "XSGNi_wd4hHG"
      },
      "source": [
        "#### (A) Try out `str_replace`"
      ]
    },
    {
      "cell_type": "code",
      "execution_count": null,
      "metadata": {
        "id": "5AacvabV4hHG",
        "outputId": "a3cbddcb-7672-47a6-9aa2-b013022e9532",
        "colab": {
          "base_uri": "https://localhost:8080/",
          "height": 34
        }
      },
      "outputs": [
        {
          "output_type": "display_data",
          "data": {
            "text/html": [
              "<style>\n",
              ".list-inline {list-style: none; margin:0; padding: 0}\n",
              ".list-inline>li {display: inline-block}\n",
              ".list-inline>li:not(:last-child)::after {content: \"\\00b7\"; padding: 0 .5ex}\n",
              "</style>\n",
              "<ol class=list-inline><li>''</li><li>'95'</li><li>'90'</li><li>'25'</li><li>'44'</li><li>'88'</li></ol>\n"
            ],
            "text/markdown": "1. ''\n2. '95'\n3. '90'\n4. '25'\n5. '44'\n6. '88'\n\n\n",
            "text/latex": "\\begin{enumerate*}\n\\item ''\n\\item '95'\n\\item '90'\n\\item '25'\n\\item '44'\n\\item '88'\n\\end{enumerate*}\n",
            "text/plain": [
              "[1] \"\"   \"95\" \"90\" \"25\" \"44\" \"88\""
            ]
          },
          "metadata": {}
        }
      ],
      "source": [
        "new <- pct7 %>% str_replace('%', '')\n",
        "head(new)"
      ]
    },
    {
      "cell_type": "markdown",
      "metadata": {
        "id": "y8RUrrOa4hHG"
      },
      "source": [
        "#### (B) Switch to numeric with `as.numeric`"
      ]
    },
    {
      "cell_type": "code",
      "execution_count": null,
      "metadata": {
        "id": "nxleLNh04hHH",
        "outputId": "7633d34f-7a2d-44d4-cafe-eda2d4f953b4",
        "colab": {
          "base_uri": "https://localhost:8080/",
          "height": 34
        }
      },
      "outputs": [
        {
          "output_type": "display_data",
          "data": {
            "text/html": [
              "<style>\n",
              ".list-inline {list-style: none; margin:0; padding: 0}\n",
              ".list-inline>li {display: inline-block}\n",
              ".list-inline>li:not(:last-child)::after {content: \"\\00b7\"; padding: 0 .5ex}\n",
              "</style>\n",
              "<ol class=list-inline><li>&lt;NA&gt;</li><li>95</li><li>90</li><li>25</li><li>44</li><li>88</li></ol>\n"
            ],
            "text/markdown": "1. &lt;NA&gt;\n2. 95\n3. 90\n4. 25\n5. 44\n6. 88\n\n\n",
            "text/latex": "\\begin{enumerate*}\n\\item <NA>\n\\item 95\n\\item 90\n\\item 25\n\\item 44\n\\item 88\n\\end{enumerate*}\n",
            "text/plain": [
              "[1] NA 95 90 25 44 88"
            ]
          },
          "metadata": {}
        }
      ],
      "source": [
        "new <- pct7 %>% str_replace('%', '') %>% as.numeric\n",
        "head(new)"
      ]
    },
    {
      "cell_type": "markdown",
      "metadata": {
        "id": "G7L58-Jv4hHH"
      },
      "source": [
        "#### (C) Embed in a `mutate`"
      ]
    },
    {
      "cell_type": "code",
      "execution_count": null,
      "metadata": {
        "id": "De5EDWEi4hHI",
        "outputId": "ff6b26ac-e62e-4671-aea1-e12c81fe8c53",
        "colab": {
          "base_uri": "https://localhost:8080/",
          "height": 283
        }
      },
      "outputs": [
        {
          "output_type": "display_data",
          "data": {
            "text/html": [
              "<table class=\"dataframe\">\n",
              "<caption>A data.frame: 6 × 13</caption>\n",
              "<thead>\n",
              "\t<tr><th></th><th scope=col>student</th><th scope=col>Class</th><th scope=col>Pct7</th><th scope=col>Avg.sleep.per.night</th><th scope=col>GPA.pre</th><th scope=col>GPA.post</th><th scope=col>Clean.pre</th><th scope=col>Clean.post</th><th scope=col>Back.pre</th><th scope=col>Back.post</th><th scope=col>Bench.pre</th><th scope=col>Bench.post</th><th scope=col>percent</th></tr>\n",
              "\t<tr><th></th><th scope=col>&lt;int&gt;</th><th scope=col>&lt;int&gt;</th><th scope=col>&lt;chr&gt;</th><th scope=col>&lt;dbl&gt;</th><th scope=col>&lt;dbl&gt;</th><th scope=col>&lt;dbl&gt;</th><th scope=col>&lt;int&gt;</th><th scope=col>&lt;int&gt;</th><th scope=col>&lt;int&gt;</th><th scope=col>&lt;int&gt;</th><th scope=col>&lt;int&gt;</th><th scope=col>&lt;int&gt;</th><th scope=col>&lt;dbl&gt;</th></tr>\n",
              "</thead>\n",
              "<tbody>\n",
              "\t<tr><th scope=row>1</th><td>1</td><td>NA</td><td>   </td><td> NA</td><td>3.21</td><td>3.60</td><td>270</td><td> NA</td><td>425</td><td> NA</td><td>315</td><td> NA</td><td>NA</td></tr>\n",
              "\t<tr><th scope=row>2</th><td>2</td><td> 1</td><td>95%</td><td>7.6</td><td>3.10</td><td>3.30</td><td>265</td><td>290</td><td>385</td><td>430</td><td>255</td><td>275</td><td>95</td></tr>\n",
              "\t<tr><th scope=row>3</th><td>3</td><td> 2</td><td>90%</td><td>7.5</td><td>2.94</td><td>3.46</td><td>264</td><td>264</td><td>290</td><td>425</td><td>290</td><td>290</td><td>90</td></tr>\n",
              "\t<tr><th scope=row>4</th><td>4</td><td> 2</td><td>25%</td><td>6.0</td><td>2.57</td><td>2.20</td><td>290</td><td> NA</td><td>450</td><td> NA</td><td>275</td><td> NA</td><td>25</td></tr>\n",
              "\t<tr><th scope=row>5</th><td>5</td><td> 1</td><td>44%</td><td>6.0</td><td>3.50</td><td>3.50</td><td>280</td><td>265</td><td>415</td><td>390</td><td>270</td><td>235</td><td>44</td></tr>\n",
              "\t<tr><th scope=row>6</th><td>6</td><td> 2</td><td>88%</td><td>7.0</td><td>2.64</td><td>1.53</td><td>253</td><td>253</td><td>405</td><td>415</td><td>305</td><td>325</td><td>88</td></tr>\n",
              "</tbody>\n",
              "</table>\n"
            ],
            "text/markdown": "\nA data.frame: 6 × 13\n\n| <!--/--> | student &lt;int&gt; | Class &lt;int&gt; | Pct7 &lt;chr&gt; | Avg.sleep.per.night &lt;dbl&gt; | GPA.pre &lt;dbl&gt; | GPA.post &lt;dbl&gt; | Clean.pre &lt;int&gt; | Clean.post &lt;int&gt; | Back.pre &lt;int&gt; | Back.post &lt;int&gt; | Bench.pre &lt;int&gt; | Bench.post &lt;int&gt; | percent &lt;dbl&gt; |\n|---|---|---|---|---|---|---|---|---|---|---|---|---|---|\n| 1 | 1 | NA | <!----> |  NA | 3.21 | 3.60 | 270 |  NA | 425 |  NA | 315 |  NA | NA |\n| 2 | 2 |  1 | 95% | 7.6 | 3.10 | 3.30 | 265 | 290 | 385 | 430 | 255 | 275 | 95 |\n| 3 | 3 |  2 | 90% | 7.5 | 2.94 | 3.46 | 264 | 264 | 290 | 425 | 290 | 290 | 90 |\n| 4 | 4 |  2 | 25% | 6.0 | 2.57 | 2.20 | 290 |  NA | 450 |  NA | 275 |  NA | 25 |\n| 5 | 5 |  1 | 44% | 6.0 | 3.50 | 3.50 | 280 | 265 | 415 | 390 | 270 | 235 | 44 |\n| 6 | 6 |  2 | 88% | 7.0 | 2.64 | 1.53 | 253 | 253 | 405 | 415 | 305 | 325 | 88 |\n\n",
            "text/latex": "A data.frame: 6 × 13\n\\begin{tabular}{r|lllllllllllll}\n  & student & Class & Pct7 & Avg.sleep.per.night & GPA.pre & GPA.post & Clean.pre & Clean.post & Back.pre & Back.post & Bench.pre & Bench.post & percent\\\\\n  & <int> & <int> & <chr> & <dbl> & <dbl> & <dbl> & <int> & <int> & <int> & <int> & <int> & <int> & <dbl>\\\\\n\\hline\n\t1 & 1 & NA &     &  NA & 3.21 & 3.60 & 270 &  NA & 425 &  NA & 315 &  NA & NA\\\\\n\t2 & 2 &  1 & 95\\% & 7.6 & 3.10 & 3.30 & 265 & 290 & 385 & 430 & 255 & 275 & 95\\\\\n\t3 & 3 &  2 & 90\\% & 7.5 & 2.94 & 3.46 & 264 & 264 & 290 & 425 & 290 & 290 & 90\\\\\n\t4 & 4 &  2 & 25\\% & 6.0 & 2.57 & 2.20 & 290 &  NA & 450 &  NA & 275 &  NA & 25\\\\\n\t5 & 5 &  1 & 44\\% & 6.0 & 3.50 & 3.50 & 280 & 265 & 415 & 390 & 270 & 235 & 44\\\\\n\t6 & 6 &  2 & 88\\% & 7.0 & 2.64 & 1.53 & 253 & 253 & 405 & 415 & 305 & 325 & 88\\\\\n\\end{tabular}\n",
            "text/plain": [
              "  student Class Pct7 Avg.sleep.per.night GPA.pre GPA.post Clean.pre Clean.post\n",
              "1 1       NA          NA                 3.21    3.60     270        NA       \n",
              "2 2        1    95%  7.6                 3.10    3.30     265       290       \n",
              "3 3        2    90%  7.5                 2.94    3.46     264       264       \n",
              "4 4        2    25%  6.0                 2.57    2.20     290        NA       \n",
              "5 5        1    44%  6.0                 3.50    3.50     280       265       \n",
              "6 6        2    88%  7.0                 2.64    1.53     253       253       \n",
              "  Back.pre Back.post Bench.pre Bench.post percent\n",
              "1 425       NA       315        NA        NA     \n",
              "2 385      430       255       275        95     \n",
              "3 290      425       290       290        90     \n",
              "4 450       NA       275        NA        25     \n",
              "5 415      390       270       235        44     \n",
              "6 405      415       305       325        88     "
            ]
          },
          "metadata": {}
        }
      ],
      "source": [
        "(football_sleep\n",
        " %>% mutate(percent = pct7 %>% str_replace('%', '')  %>% as.numeric)\n",
        " %>% head\n",
        ")"
      ]
    },
    {
      "cell_type": "markdown",
      "source": [
        "(D) Make the code easier to read."
      ],
      "metadata": {
        "id": "sTY62XUy-iLa"
      }
    },
    {
      "cell_type": "code",
      "source": [
        "(football_sleep\n",
        " %>% mutate(percent = pct7\n",
        "                      %>% str_replace('%', '')\n",
        "                      %>% as.numeric,\n",
        "           )\n",
        " %>% head\n",
        ")"
      ],
      "metadata": {
        "id": "Rpq7vDYY-ee_",
        "outputId": "38fdba9b-2ae9-46b2-d237-63e3ad0d9ef9",
        "colab": {
          "base_uri": "https://localhost:8080/",
          "height": 283
        }
      },
      "execution_count": null,
      "outputs": [
        {
          "output_type": "display_data",
          "data": {
            "text/html": [
              "<table class=\"dataframe\">\n",
              "<caption>A data.frame: 6 × 13</caption>\n",
              "<thead>\n",
              "\t<tr><th></th><th scope=col>student</th><th scope=col>Class</th><th scope=col>Pct7</th><th scope=col>Avg.sleep.per.night</th><th scope=col>GPA.pre</th><th scope=col>GPA.post</th><th scope=col>Clean.pre</th><th scope=col>Clean.post</th><th scope=col>Back.pre</th><th scope=col>Back.post</th><th scope=col>Bench.pre</th><th scope=col>Bench.post</th><th scope=col>percent</th></tr>\n",
              "\t<tr><th></th><th scope=col>&lt;int&gt;</th><th scope=col>&lt;int&gt;</th><th scope=col>&lt;chr&gt;</th><th scope=col>&lt;dbl&gt;</th><th scope=col>&lt;dbl&gt;</th><th scope=col>&lt;dbl&gt;</th><th scope=col>&lt;int&gt;</th><th scope=col>&lt;int&gt;</th><th scope=col>&lt;int&gt;</th><th scope=col>&lt;int&gt;</th><th scope=col>&lt;int&gt;</th><th scope=col>&lt;int&gt;</th><th scope=col>&lt;dbl&gt;</th></tr>\n",
              "</thead>\n",
              "<tbody>\n",
              "\t<tr><th scope=row>1</th><td>1</td><td>NA</td><td>   </td><td> NA</td><td>3.21</td><td>3.60</td><td>270</td><td> NA</td><td>425</td><td> NA</td><td>315</td><td> NA</td><td>NA</td></tr>\n",
              "\t<tr><th scope=row>2</th><td>2</td><td> 1</td><td>95%</td><td>7.6</td><td>3.10</td><td>3.30</td><td>265</td><td>290</td><td>385</td><td>430</td><td>255</td><td>275</td><td>95</td></tr>\n",
              "\t<tr><th scope=row>3</th><td>3</td><td> 2</td><td>90%</td><td>7.5</td><td>2.94</td><td>3.46</td><td>264</td><td>264</td><td>290</td><td>425</td><td>290</td><td>290</td><td>90</td></tr>\n",
              "\t<tr><th scope=row>4</th><td>4</td><td> 2</td><td>25%</td><td>6.0</td><td>2.57</td><td>2.20</td><td>290</td><td> NA</td><td>450</td><td> NA</td><td>275</td><td> NA</td><td>25</td></tr>\n",
              "\t<tr><th scope=row>5</th><td>5</td><td> 1</td><td>44%</td><td>6.0</td><td>3.50</td><td>3.50</td><td>280</td><td>265</td><td>415</td><td>390</td><td>270</td><td>235</td><td>44</td></tr>\n",
              "\t<tr><th scope=row>6</th><td>6</td><td> 2</td><td>88%</td><td>7.0</td><td>2.64</td><td>1.53</td><td>253</td><td>253</td><td>405</td><td>415</td><td>305</td><td>325</td><td>88</td></tr>\n",
              "</tbody>\n",
              "</table>\n"
            ],
            "text/markdown": "\nA data.frame: 6 × 13\n\n| <!--/--> | student &lt;int&gt; | Class &lt;int&gt; | Pct7 &lt;chr&gt; | Avg.sleep.per.night &lt;dbl&gt; | GPA.pre &lt;dbl&gt; | GPA.post &lt;dbl&gt; | Clean.pre &lt;int&gt; | Clean.post &lt;int&gt; | Back.pre &lt;int&gt; | Back.post &lt;int&gt; | Bench.pre &lt;int&gt; | Bench.post &lt;int&gt; | percent &lt;dbl&gt; |\n|---|---|---|---|---|---|---|---|---|---|---|---|---|---|\n| 1 | 1 | NA | <!----> |  NA | 3.21 | 3.60 | 270 |  NA | 425 |  NA | 315 |  NA | NA |\n| 2 | 2 |  1 | 95% | 7.6 | 3.10 | 3.30 | 265 | 290 | 385 | 430 | 255 | 275 | 95 |\n| 3 | 3 |  2 | 90% | 7.5 | 2.94 | 3.46 | 264 | 264 | 290 | 425 | 290 | 290 | 90 |\n| 4 | 4 |  2 | 25% | 6.0 | 2.57 | 2.20 | 290 |  NA | 450 |  NA | 275 |  NA | 25 |\n| 5 | 5 |  1 | 44% | 6.0 | 3.50 | 3.50 | 280 | 265 | 415 | 390 | 270 | 235 | 44 |\n| 6 | 6 |  2 | 88% | 7.0 | 2.64 | 1.53 | 253 | 253 | 405 | 415 | 305 | 325 | 88 |\n\n",
            "text/latex": "A data.frame: 6 × 13\n\\begin{tabular}{r|lllllllllllll}\n  & student & Class & Pct7 & Avg.sleep.per.night & GPA.pre & GPA.post & Clean.pre & Clean.post & Back.pre & Back.post & Bench.pre & Bench.post & percent\\\\\n  & <int> & <int> & <chr> & <dbl> & <dbl> & <dbl> & <int> & <int> & <int> & <int> & <int> & <int> & <dbl>\\\\\n\\hline\n\t1 & 1 & NA &     &  NA & 3.21 & 3.60 & 270 &  NA & 425 &  NA & 315 &  NA & NA\\\\\n\t2 & 2 &  1 & 95\\% & 7.6 & 3.10 & 3.30 & 265 & 290 & 385 & 430 & 255 & 275 & 95\\\\\n\t3 & 3 &  2 & 90\\% & 7.5 & 2.94 & 3.46 & 264 & 264 & 290 & 425 & 290 & 290 & 90\\\\\n\t4 & 4 &  2 & 25\\% & 6.0 & 2.57 & 2.20 & 290 &  NA & 450 &  NA & 275 &  NA & 25\\\\\n\t5 & 5 &  1 & 44\\% & 6.0 & 3.50 & 3.50 & 280 & 265 & 415 & 390 & 270 & 235 & 44\\\\\n\t6 & 6 &  2 & 88\\% & 7.0 & 2.64 & 1.53 & 253 & 253 & 405 & 415 & 305 & 325 & 88\\\\\n\\end{tabular}\n",
            "text/plain": [
              "  student Class Pct7 Avg.sleep.per.night GPA.pre GPA.post Clean.pre Clean.post\n",
              "1 1       NA          NA                 3.21    3.60     270        NA       \n",
              "2 2        1    95%  7.6                 3.10    3.30     265       290       \n",
              "3 3        2    90%  7.5                 2.94    3.46     264       264       \n",
              "4 4        2    25%  6.0                 2.57    2.20     290        NA       \n",
              "5 5        1    44%  6.0                 3.50    3.50     280       265       \n",
              "6 6        2    88%  7.0                 2.64    1.53     253       253       \n",
              "  Back.pre Back.post Bench.pre Bench.post percent\n",
              "1 425       NA       315        NA        NA     \n",
              "2 385      430       255       275        95     \n",
              "3 290      425       290       290        90     \n",
              "4 450       NA       275        NA        25     \n",
              "5 415      390       270       235        44     \n",
              "6 405      415       305       325        88     "
            ]
          },
          "metadata": {}
        }
      ]
    },
    {
      "cell_type": "markdown",
      "metadata": {
        "id": "ygzkDw_B4hHI"
      },
      "source": [
        "#### (D) Also compute the fraction"
      ]
    },
    {
      "cell_type": "code",
      "execution_count": null,
      "metadata": {
        "id": "6BQpr6Ej4hHI",
        "outputId": "42783b63-3a4e-4dc1-868e-1acdb4ea9e6a",
        "colab": {
          "base_uri": "https://localhost:8080/",
          "height": 283
        }
      },
      "outputs": [
        {
          "output_type": "display_data",
          "data": {
            "text/html": [
              "<table class=\"dataframe\">\n",
              "<caption>A data.frame: 6 × 14</caption>\n",
              "<thead>\n",
              "\t<tr><th></th><th scope=col>student</th><th scope=col>Class</th><th scope=col>Pct7</th><th scope=col>Avg.sleep.per.night</th><th scope=col>GPA.pre</th><th scope=col>GPA.post</th><th scope=col>Clean.pre</th><th scope=col>Clean.post</th><th scope=col>Back.pre</th><th scope=col>Back.post</th><th scope=col>Bench.pre</th><th scope=col>Bench.post</th><th scope=col>percent</th><th scope=col>fraction</th></tr>\n",
              "\t<tr><th></th><th scope=col>&lt;int&gt;</th><th scope=col>&lt;int&gt;</th><th scope=col>&lt;chr&gt;</th><th scope=col>&lt;dbl&gt;</th><th scope=col>&lt;dbl&gt;</th><th scope=col>&lt;dbl&gt;</th><th scope=col>&lt;int&gt;</th><th scope=col>&lt;int&gt;</th><th scope=col>&lt;int&gt;</th><th scope=col>&lt;int&gt;</th><th scope=col>&lt;int&gt;</th><th scope=col>&lt;int&gt;</th><th scope=col>&lt;dbl&gt;</th><th scope=col>&lt;dbl&gt;</th></tr>\n",
              "</thead>\n",
              "<tbody>\n",
              "\t<tr><th scope=row>1</th><td>1</td><td>NA</td><td>   </td><td> NA</td><td>3.21</td><td>3.60</td><td>270</td><td> NA</td><td>425</td><td> NA</td><td>315</td><td> NA</td><td>NA</td><td>  NA</td></tr>\n",
              "\t<tr><th scope=row>2</th><td>2</td><td> 1</td><td>95%</td><td>7.6</td><td>3.10</td><td>3.30</td><td>265</td><td>290</td><td>385</td><td>430</td><td>255</td><td>275</td><td>95</td><td>0.95</td></tr>\n",
              "\t<tr><th scope=row>3</th><td>3</td><td> 2</td><td>90%</td><td>7.5</td><td>2.94</td><td>3.46</td><td>264</td><td>264</td><td>290</td><td>425</td><td>290</td><td>290</td><td>90</td><td>0.90</td></tr>\n",
              "\t<tr><th scope=row>4</th><td>4</td><td> 2</td><td>25%</td><td>6.0</td><td>2.57</td><td>2.20</td><td>290</td><td> NA</td><td>450</td><td> NA</td><td>275</td><td> NA</td><td>25</td><td>0.25</td></tr>\n",
              "\t<tr><th scope=row>5</th><td>5</td><td> 1</td><td>44%</td><td>6.0</td><td>3.50</td><td>3.50</td><td>280</td><td>265</td><td>415</td><td>390</td><td>270</td><td>235</td><td>44</td><td>0.44</td></tr>\n",
              "\t<tr><th scope=row>6</th><td>6</td><td> 2</td><td>88%</td><td>7.0</td><td>2.64</td><td>1.53</td><td>253</td><td>253</td><td>405</td><td>415</td><td>305</td><td>325</td><td>88</td><td>0.88</td></tr>\n",
              "</tbody>\n",
              "</table>\n"
            ],
            "text/markdown": "\nA data.frame: 6 × 14\n\n| <!--/--> | student &lt;int&gt; | Class &lt;int&gt; | Pct7 &lt;chr&gt; | Avg.sleep.per.night &lt;dbl&gt; | GPA.pre &lt;dbl&gt; | GPA.post &lt;dbl&gt; | Clean.pre &lt;int&gt; | Clean.post &lt;int&gt; | Back.pre &lt;int&gt; | Back.post &lt;int&gt; | Bench.pre &lt;int&gt; | Bench.post &lt;int&gt; | percent &lt;dbl&gt; | fraction &lt;dbl&gt; |\n|---|---|---|---|---|---|---|---|---|---|---|---|---|---|---|\n| 1 | 1 | NA | <!----> |  NA | 3.21 | 3.60 | 270 |  NA | 425 |  NA | 315 |  NA | NA |   NA |\n| 2 | 2 |  1 | 95% | 7.6 | 3.10 | 3.30 | 265 | 290 | 385 | 430 | 255 | 275 | 95 | 0.95 |\n| 3 | 3 |  2 | 90% | 7.5 | 2.94 | 3.46 | 264 | 264 | 290 | 425 | 290 | 290 | 90 | 0.90 |\n| 4 | 4 |  2 | 25% | 6.0 | 2.57 | 2.20 | 290 |  NA | 450 |  NA | 275 |  NA | 25 | 0.25 |\n| 5 | 5 |  1 | 44% | 6.0 | 3.50 | 3.50 | 280 | 265 | 415 | 390 | 270 | 235 | 44 | 0.44 |\n| 6 | 6 |  2 | 88% | 7.0 | 2.64 | 1.53 | 253 | 253 | 405 | 415 | 305 | 325 | 88 | 0.88 |\n\n",
            "text/latex": "A data.frame: 6 × 14\n\\begin{tabular}{r|llllllllllllll}\n  & student & Class & Pct7 & Avg.sleep.per.night & GPA.pre & GPA.post & Clean.pre & Clean.post & Back.pre & Back.post & Bench.pre & Bench.post & percent & fraction\\\\\n  & <int> & <int> & <chr> & <dbl> & <dbl> & <dbl> & <int> & <int> & <int> & <int> & <int> & <int> & <dbl> & <dbl>\\\\\n\\hline\n\t1 & 1 & NA &     &  NA & 3.21 & 3.60 & 270 &  NA & 425 &  NA & 315 &  NA & NA &   NA\\\\\n\t2 & 2 &  1 & 95\\% & 7.6 & 3.10 & 3.30 & 265 & 290 & 385 & 430 & 255 & 275 & 95 & 0.95\\\\\n\t3 & 3 &  2 & 90\\% & 7.5 & 2.94 & 3.46 & 264 & 264 & 290 & 425 & 290 & 290 & 90 & 0.90\\\\\n\t4 & 4 &  2 & 25\\% & 6.0 & 2.57 & 2.20 & 290 &  NA & 450 &  NA & 275 &  NA & 25 & 0.25\\\\\n\t5 & 5 &  1 & 44\\% & 6.0 & 3.50 & 3.50 & 280 & 265 & 415 & 390 & 270 & 235 & 44 & 0.44\\\\\n\t6 & 6 &  2 & 88\\% & 7.0 & 2.64 & 1.53 & 253 & 253 & 405 & 415 & 305 & 325 & 88 & 0.88\\\\\n\\end{tabular}\n",
            "text/plain": [
              "  student Class Pct7 Avg.sleep.per.night GPA.pre GPA.post Clean.pre Clean.post\n",
              "1 1       NA          NA                 3.21    3.60     270        NA       \n",
              "2 2        1    95%  7.6                 3.10    3.30     265       290       \n",
              "3 3        2    90%  7.5                 2.94    3.46     264       264       \n",
              "4 4        2    25%  6.0                 2.57    2.20     290        NA       \n",
              "5 5        1    44%  6.0                 3.50    3.50     280       265       \n",
              "6 6        2    88%  7.0                 2.64    1.53     253       253       \n",
              "  Back.pre Back.post Bench.pre Bench.post percent fraction\n",
              "1 425       NA       315        NA        NA        NA    \n",
              "2 385      430       255       275        95      0.95    \n",
              "3 290      425       290       290        90      0.90    \n",
              "4 450       NA       275        NA        25      0.25    \n",
              "5 415      390       270       235        44      0.44    \n",
              "6 405      415       305       325        88      0.88    "
            ]
          },
          "metadata": {}
        }
      ],
      "source": [
        "(football_sleep\n",
        " %>% mutate(percent = pct7\n",
        "                      %>% str_replace('%', '')\n",
        "                      %>% as.numeric,\n",
        "            fraction = percent/100,\n",
        "           )\n",
        " %>% head\n",
        ")"
      ]
    },
    {
      "cell_type": "markdown",
      "source": [
        "### Making piped code readable\n",
        "\n",
        "<img src=\"https://github.com/yardsale8/DSCI_210_R_notebooks/blob/99bd4f4d10de6abdee409a5ad62d83abf1cde832/img/more_readable_code%20copy.png?raw=true\" width=\"700\">"
      ],
      "metadata": {
        "id": "MeLw5FX7BKqv"
      }
    },
    {
      "cell_type": "markdown",
      "metadata": {
        "id": "RdDMdhxx4hHI"
      },
      "source": [
        "## <font color=\"red\"> Exercise 6.2.3 - Replacing `-` with `_`</font>\n",
        "\n",
        "Use `str_replace` to replace all hyphens in the `plot_type` column with underscores."
      ]
    },
    {
      "cell_type": "code",
      "execution_count": null,
      "metadata": {
        "id": "lsyRkVbP4hHJ",
        "outputId": "71dfcbd7-70c2-46fa-cbb8-fcb9bee32557",
        "colab": {
          "base_uri": "https://localhost:8080/",
          "height": 34
        }
      },
      "outputs": [
        {
          "output_type": "display_data",
          "data": {
            "text/html": [
              "<style>\n",
              ".list-inline {list-style: none; margin:0; padding: 0}\n",
              ".list-inline>li {display: inline-block}\n",
              ".list-inline>li:not(:last-child)::after {content: \"\\00b7\"; padding: 0 .5ex}\n",
              "</style>\n",
              "<ol class=list-inline><li>'Control'</li><li>'Long-term Krat Exclosure'</li><li>'Short-term Krat Exclosure'</li><li>'Rodent Exclosure'</li><li>'Spectab exclosure'</li></ol>\n"
            ],
            "text/markdown": "1. 'Control'\n2. 'Long-term Krat Exclosure'\n3. 'Short-term Krat Exclosure'\n4. 'Rodent Exclosure'\n5. 'Spectab exclosure'\n\n\n",
            "text/latex": "\\begin{enumerate*}\n\\item 'Control'\n\\item 'Long-term Krat Exclosure'\n\\item 'Short-term Krat Exclosure'\n\\item 'Rodent Exclosure'\n\\item 'Spectab exclosure'\n\\end{enumerate*}\n",
            "text/plain": [
              "[1] \"Control\"                   \"Long-term Krat Exclosure\" \n",
              "[3] \"Short-term Krat Exclosure\" \"Rodent Exclosure\"         \n",
              "[5] \"Spectab exclosure\"        "
            ]
          },
          "metadata": {}
        }
      ],
      "source": [
        "plot_type <- surveys$plot_type\n",
        "plot_type %>% unique"
      ]
    },
    {
      "cell_type": "code",
      "execution_count": null,
      "metadata": {
        "id": "_PiHS3i24hHJ"
      },
      "outputs": [],
      "source": [
        "# Your code here"
      ]
    },
    {
      "cell_type": "markdown",
      "metadata": {
        "id": "cQWVEcv74hHJ"
      },
      "source": [
        "### Pattern 3 - Recoding a character column\n",
        "\n",
        "\n",
        "**Syntax**\n",
        "\n",
        "```{r}\n",
        "recode(column,\n",
        "      `old value 1` = \"new string 1\",\n",
        "      `old value 2` = \"new string 2\",\n",
        "      ...)\n",
        "```"
      ]
    },
    {
      "cell_type": "code",
      "execution_count": null,
      "metadata": {
        "id": "LsjhNBuo4hHJ",
        "outputId": "aaaa5259-30e1-4eaa-e6b8-b7efd8071553",
        "colab": {
          "base_uri": "https://localhost:8080/",
          "height": 526
        }
      },
      "outputs": [
        {
          "output_type": "stream",
          "name": "stderr",
          "text": [
            "Warning message:\n",
            "“\u001b[1m\u001b[22mThere was 1 warning in `mutate()`.\n",
            "\u001b[1m\u001b[22m\u001b[36mℹ\u001b[39m In argument: `month_name = recode(month, `1` = \"Jan\", `2` = \"Feb\", `3` =\n",
            "  \"Mar\")`.\n",
            "Caused by warning:\n",
            "\u001b[1m\u001b[22m\u001b[33m!\u001b[39m Unreplaced values treated as NA as `.x` is not compatible.\n",
            "Please specify replacements exhaustively or supply `.default`.”\n"
          ]
        },
        {
          "output_type": "display_data",
          "data": {
            "text/html": [
              "<table class=\"dataframe\">\n",
              "<caption>A data.frame: 10 × 14</caption>\n",
              "<thead>\n",
              "\t<tr><th></th><th scope=col>record_id</th><th scope=col>month</th><th scope=col>day</th><th scope=col>year</th><th scope=col>plot_id</th><th scope=col>species_id</th><th scope=col>sex</th><th scope=col>hindfoot_length</th><th scope=col>weight</th><th scope=col>genus</th><th scope=col>species</th><th scope=col>taxa</th><th scope=col>plot_type</th><th scope=col>month_name</th></tr>\n",
              "\t<tr><th></th><th scope=col>&lt;int&gt;</th><th scope=col>&lt;int&gt;</th><th scope=col>&lt;int&gt;</th><th scope=col>&lt;int&gt;</th><th scope=col>&lt;int&gt;</th><th scope=col>&lt;chr&gt;</th><th scope=col>&lt;chr&gt;</th><th scope=col>&lt;int&gt;</th><th scope=col>&lt;int&gt;</th><th scope=col>&lt;chr&gt;</th><th scope=col>&lt;chr&gt;</th><th scope=col>&lt;chr&gt;</th><th scope=col>&lt;chr&gt;</th><th scope=col>&lt;chr&gt;</th></tr>\n",
              "</thead>\n",
              "<tbody>\n",
              "\t<tr><th scope=row>1</th><td>  1</td><td> 7</td><td>16</td><td>1977</td><td>2</td><td>NL</td><td>M</td><td>32</td><td> NA</td><td>Neotoma</td><td>albigula</td><td>Rodent</td><td>Control</td><td>NA </td></tr>\n",
              "\t<tr><th scope=row>2</th><td> 72</td><td> 8</td><td>19</td><td>1977</td><td>2</td><td>NL</td><td>M</td><td>31</td><td> NA</td><td>Neotoma</td><td>albigula</td><td>Rodent</td><td>Control</td><td>NA </td></tr>\n",
              "\t<tr><th scope=row>3</th><td>224</td><td> 9</td><td>13</td><td>1977</td><td>2</td><td>NL</td><td> </td><td>NA</td><td> NA</td><td>Neotoma</td><td>albigula</td><td>Rodent</td><td>Control</td><td>NA </td></tr>\n",
              "\t<tr><th scope=row>4</th><td>266</td><td>10</td><td>16</td><td>1977</td><td>2</td><td>NL</td><td> </td><td>NA</td><td> NA</td><td>Neotoma</td><td>albigula</td><td>Rodent</td><td>Control</td><td>NA </td></tr>\n",
              "\t<tr><th scope=row>5</th><td>349</td><td>11</td><td>12</td><td>1977</td><td>2</td><td>NL</td><td> </td><td>NA</td><td> NA</td><td>Neotoma</td><td>albigula</td><td>Rodent</td><td>Control</td><td>NA </td></tr>\n",
              "\t<tr><th scope=row>6</th><td>363</td><td>11</td><td>12</td><td>1977</td><td>2</td><td>NL</td><td> </td><td>NA</td><td> NA</td><td>Neotoma</td><td>albigula</td><td>Rodent</td><td>Control</td><td>NA </td></tr>\n",
              "\t<tr><th scope=row>7</th><td>435</td><td>12</td><td>10</td><td>1977</td><td>2</td><td>NL</td><td> </td><td>NA</td><td> NA</td><td>Neotoma</td><td>albigula</td><td>Rodent</td><td>Control</td><td>NA </td></tr>\n",
              "\t<tr><th scope=row>8</th><td>506</td><td> 1</td><td> 8</td><td>1978</td><td>2</td><td>NL</td><td> </td><td>NA</td><td> NA</td><td>Neotoma</td><td>albigula</td><td>Rodent</td><td>Control</td><td>Jan</td></tr>\n",
              "\t<tr><th scope=row>9</th><td>588</td><td> 2</td><td>18</td><td>1978</td><td>2</td><td>NL</td><td>M</td><td>NA</td><td>218</td><td>Neotoma</td><td>albigula</td><td>Rodent</td><td>Control</td><td>Feb</td></tr>\n",
              "\t<tr><th scope=row>10</th><td>661</td><td> 3</td><td>11</td><td>1978</td><td>2</td><td>NL</td><td> </td><td>NA</td><td> NA</td><td>Neotoma</td><td>albigula</td><td>Rodent</td><td>Control</td><td>Mar</td></tr>\n",
              "</tbody>\n",
              "</table>\n"
            ],
            "text/markdown": "\nA data.frame: 10 × 14\n\n| <!--/--> | record_id &lt;int&gt; | month &lt;int&gt; | day &lt;int&gt; | year &lt;int&gt; | plot_id &lt;int&gt; | species_id &lt;chr&gt; | sex &lt;chr&gt; | hindfoot_length &lt;int&gt; | weight &lt;int&gt; | genus &lt;chr&gt; | species &lt;chr&gt; | taxa &lt;chr&gt; | plot_type &lt;chr&gt; | month_name &lt;chr&gt; |\n|---|---|---|---|---|---|---|---|---|---|---|---|---|---|---|\n| 1 |   1 |  7 | 16 | 1977 | 2 | NL | M | 32 |  NA | Neotoma | albigula | Rodent | Control | NA  |\n| 2 |  72 |  8 | 19 | 1977 | 2 | NL | M | 31 |  NA | Neotoma | albigula | Rodent | Control | NA  |\n| 3 | 224 |  9 | 13 | 1977 | 2 | NL | <!----> | NA |  NA | Neotoma | albigula | Rodent | Control | NA  |\n| 4 | 266 | 10 | 16 | 1977 | 2 | NL | <!----> | NA |  NA | Neotoma | albigula | Rodent | Control | NA  |\n| 5 | 349 | 11 | 12 | 1977 | 2 | NL | <!----> | NA |  NA | Neotoma | albigula | Rodent | Control | NA  |\n| 6 | 363 | 11 | 12 | 1977 | 2 | NL | <!----> | NA |  NA | Neotoma | albigula | Rodent | Control | NA  |\n| 7 | 435 | 12 | 10 | 1977 | 2 | NL | <!----> | NA |  NA | Neotoma | albigula | Rodent | Control | NA  |\n| 8 | 506 |  1 |  8 | 1978 | 2 | NL | <!----> | NA |  NA | Neotoma | albigula | Rodent | Control | Jan |\n| 9 | 588 |  2 | 18 | 1978 | 2 | NL | M | NA | 218 | Neotoma | albigula | Rodent | Control | Feb |\n| 10 | 661 |  3 | 11 | 1978 | 2 | NL | <!----> | NA |  NA | Neotoma | albigula | Rodent | Control | Mar |\n\n",
            "text/latex": "A data.frame: 10 × 14\n\\begin{tabular}{r|llllllllllllll}\n  & record\\_id & month & day & year & plot\\_id & species\\_id & sex & hindfoot\\_length & weight & genus & species & taxa & plot\\_type & month\\_name\\\\\n  & <int> & <int> & <int> & <int> & <int> & <chr> & <chr> & <int> & <int> & <chr> & <chr> & <chr> & <chr> & <chr>\\\\\n\\hline\n\t1 &   1 &  7 & 16 & 1977 & 2 & NL & M & 32 &  NA & Neotoma & albigula & Rodent & Control & NA \\\\\n\t2 &  72 &  8 & 19 & 1977 & 2 & NL & M & 31 &  NA & Neotoma & albigula & Rodent & Control & NA \\\\\n\t3 & 224 &  9 & 13 & 1977 & 2 & NL &   & NA &  NA & Neotoma & albigula & Rodent & Control & NA \\\\\n\t4 & 266 & 10 & 16 & 1977 & 2 & NL &   & NA &  NA & Neotoma & albigula & Rodent & Control & NA \\\\\n\t5 & 349 & 11 & 12 & 1977 & 2 & NL &   & NA &  NA & Neotoma & albigula & Rodent & Control & NA \\\\\n\t6 & 363 & 11 & 12 & 1977 & 2 & NL &   & NA &  NA & Neotoma & albigula & Rodent & Control & NA \\\\\n\t7 & 435 & 12 & 10 & 1977 & 2 & NL &   & NA &  NA & Neotoma & albigula & Rodent & Control & NA \\\\\n\t8 & 506 &  1 &  8 & 1978 & 2 & NL &   & NA &  NA & Neotoma & albigula & Rodent & Control & Jan\\\\\n\t9 & 588 &  2 & 18 & 1978 & 2 & NL & M & NA & 218 & Neotoma & albigula & Rodent & Control & Feb\\\\\n\t10 & 661 &  3 & 11 & 1978 & 2 & NL &   & NA &  NA & Neotoma & albigula & Rodent & Control & Mar\\\\\n\\end{tabular}\n",
            "text/plain": [
              "   record_id month day year plot_id species_id sex hindfoot_length weight\n",
              "1    1        7    16  1977 2       NL         M   32               NA   \n",
              "2   72        8    19  1977 2       NL         M   31               NA   \n",
              "3  224        9    13  1977 2       NL             NA               NA   \n",
              "4  266       10    16  1977 2       NL             NA               NA   \n",
              "5  349       11    12  1977 2       NL             NA               NA   \n",
              "6  363       11    12  1977 2       NL             NA               NA   \n",
              "7  435       12    10  1977 2       NL             NA               NA   \n",
              "8  506        1     8  1978 2       NL             NA               NA   \n",
              "9  588        2    18  1978 2       NL         M   NA              218   \n",
              "10 661        3    11  1978 2       NL             NA               NA   \n",
              "   genus   species  taxa   plot_type month_name\n",
              "1  Neotoma albigula Rodent Control   NA        \n",
              "2  Neotoma albigula Rodent Control   NA        \n",
              "3  Neotoma albigula Rodent Control   NA        \n",
              "4  Neotoma albigula Rodent Control   NA        \n",
              "5  Neotoma albigula Rodent Control   NA        \n",
              "6  Neotoma albigula Rodent Control   NA        \n",
              "7  Neotoma albigula Rodent Control   NA        \n",
              "8  Neotoma albigula Rodent Control   Jan       \n",
              "9  Neotoma albigula Rodent Control   Feb       \n",
              "10 Neotoma albigula Rodent Control   Mar       "
            ]
          },
          "metadata": {}
        }
      ],
      "source": [
        "(surveys\n",
        "%>% mutate(month_name = recode(month,\n",
        "                               `1` = \"Jan\",\n",
        "                               `2` = \"Feb\",\n",
        "                               `3` = \"Mar\"),\n",
        "          )\n",
        " %>% head(10)\n",
        ")"
      ]
    },
    {
      "cell_type": "markdown",
      "source": [
        "#### Adding a `.default` option"
      ],
      "metadata": {
        "id": "iutbrIJ_CVtP"
      }
    },
    {
      "cell_type": "code",
      "source": [
        "(surveys\n",
        "%>% mutate(month_name = recode(month,\n",
        "                               `1` = \"Jan\",\n",
        "                               `2` = \"Feb\",\n",
        "                               `3` = \"Mar\",\n",
        "                               .default = \"Other\"),\n",
        "         )\n",
        " %>% head(10)\n",
        ")"
      ],
      "metadata": {
        "id": "nNJZYIDuCK1J",
        "outputId": "0f08d880-2572-4d69-b3fc-e0b7c5841d88",
        "colab": {
          "base_uri": "https://localhost:8080/",
          "height": 407
        }
      },
      "execution_count": null,
      "outputs": [
        {
          "output_type": "display_data",
          "data": {
            "text/html": [
              "<table class=\"dataframe\">\n",
              "<caption>A data.frame: 10 × 14</caption>\n",
              "<thead>\n",
              "\t<tr><th></th><th scope=col>record_id</th><th scope=col>month</th><th scope=col>day</th><th scope=col>year</th><th scope=col>plot_id</th><th scope=col>species_id</th><th scope=col>sex</th><th scope=col>hindfoot_length</th><th scope=col>weight</th><th scope=col>genus</th><th scope=col>species</th><th scope=col>taxa</th><th scope=col>plot_type</th><th scope=col>month_name</th></tr>\n",
              "\t<tr><th></th><th scope=col>&lt;int&gt;</th><th scope=col>&lt;int&gt;</th><th scope=col>&lt;int&gt;</th><th scope=col>&lt;int&gt;</th><th scope=col>&lt;int&gt;</th><th scope=col>&lt;chr&gt;</th><th scope=col>&lt;chr&gt;</th><th scope=col>&lt;int&gt;</th><th scope=col>&lt;int&gt;</th><th scope=col>&lt;chr&gt;</th><th scope=col>&lt;chr&gt;</th><th scope=col>&lt;chr&gt;</th><th scope=col>&lt;chr&gt;</th><th scope=col>&lt;chr&gt;</th></tr>\n",
              "</thead>\n",
              "<tbody>\n",
              "\t<tr><th scope=row>1</th><td>  1</td><td> 7</td><td>16</td><td>1977</td><td>2</td><td>NL</td><td>M</td><td>32</td><td> NA</td><td>Neotoma</td><td>albigula</td><td>Rodent</td><td>Control</td><td>Other</td></tr>\n",
              "\t<tr><th scope=row>2</th><td> 72</td><td> 8</td><td>19</td><td>1977</td><td>2</td><td>NL</td><td>M</td><td>31</td><td> NA</td><td>Neotoma</td><td>albigula</td><td>Rodent</td><td>Control</td><td>Other</td></tr>\n",
              "\t<tr><th scope=row>3</th><td>224</td><td> 9</td><td>13</td><td>1977</td><td>2</td><td>NL</td><td> </td><td>NA</td><td> NA</td><td>Neotoma</td><td>albigula</td><td>Rodent</td><td>Control</td><td>Other</td></tr>\n",
              "\t<tr><th scope=row>4</th><td>266</td><td>10</td><td>16</td><td>1977</td><td>2</td><td>NL</td><td> </td><td>NA</td><td> NA</td><td>Neotoma</td><td>albigula</td><td>Rodent</td><td>Control</td><td>Other</td></tr>\n",
              "\t<tr><th scope=row>5</th><td>349</td><td>11</td><td>12</td><td>1977</td><td>2</td><td>NL</td><td> </td><td>NA</td><td> NA</td><td>Neotoma</td><td>albigula</td><td>Rodent</td><td>Control</td><td>Other</td></tr>\n",
              "\t<tr><th scope=row>6</th><td>363</td><td>11</td><td>12</td><td>1977</td><td>2</td><td>NL</td><td> </td><td>NA</td><td> NA</td><td>Neotoma</td><td>albigula</td><td>Rodent</td><td>Control</td><td>Other</td></tr>\n",
              "\t<tr><th scope=row>7</th><td>435</td><td>12</td><td>10</td><td>1977</td><td>2</td><td>NL</td><td> </td><td>NA</td><td> NA</td><td>Neotoma</td><td>albigula</td><td>Rodent</td><td>Control</td><td>Other</td></tr>\n",
              "\t<tr><th scope=row>8</th><td>506</td><td> 1</td><td> 8</td><td>1978</td><td>2</td><td>NL</td><td> </td><td>NA</td><td> NA</td><td>Neotoma</td><td>albigula</td><td>Rodent</td><td>Control</td><td>Jan  </td></tr>\n",
              "\t<tr><th scope=row>9</th><td>588</td><td> 2</td><td>18</td><td>1978</td><td>2</td><td>NL</td><td>M</td><td>NA</td><td>218</td><td>Neotoma</td><td>albigula</td><td>Rodent</td><td>Control</td><td>Feb  </td></tr>\n",
              "\t<tr><th scope=row>10</th><td>661</td><td> 3</td><td>11</td><td>1978</td><td>2</td><td>NL</td><td> </td><td>NA</td><td> NA</td><td>Neotoma</td><td>albigula</td><td>Rodent</td><td>Control</td><td>Mar  </td></tr>\n",
              "</tbody>\n",
              "</table>\n"
            ],
            "text/markdown": "\nA data.frame: 10 × 14\n\n| <!--/--> | record_id &lt;int&gt; | month &lt;int&gt; | day &lt;int&gt; | year &lt;int&gt; | plot_id &lt;int&gt; | species_id &lt;chr&gt; | sex &lt;chr&gt; | hindfoot_length &lt;int&gt; | weight &lt;int&gt; | genus &lt;chr&gt; | species &lt;chr&gt; | taxa &lt;chr&gt; | plot_type &lt;chr&gt; | month_name &lt;chr&gt; |\n|---|---|---|---|---|---|---|---|---|---|---|---|---|---|---|\n| 1 |   1 |  7 | 16 | 1977 | 2 | NL | M | 32 |  NA | Neotoma | albigula | Rodent | Control | Other |\n| 2 |  72 |  8 | 19 | 1977 | 2 | NL | M | 31 |  NA | Neotoma | albigula | Rodent | Control | Other |\n| 3 | 224 |  9 | 13 | 1977 | 2 | NL | <!----> | NA |  NA | Neotoma | albigula | Rodent | Control | Other |\n| 4 | 266 | 10 | 16 | 1977 | 2 | NL | <!----> | NA |  NA | Neotoma | albigula | Rodent | Control | Other |\n| 5 | 349 | 11 | 12 | 1977 | 2 | NL | <!----> | NA |  NA | Neotoma | albigula | Rodent | Control | Other |\n| 6 | 363 | 11 | 12 | 1977 | 2 | NL | <!----> | NA |  NA | Neotoma | albigula | Rodent | Control | Other |\n| 7 | 435 | 12 | 10 | 1977 | 2 | NL | <!----> | NA |  NA | Neotoma | albigula | Rodent | Control | Other |\n| 8 | 506 |  1 |  8 | 1978 | 2 | NL | <!----> | NA |  NA | Neotoma | albigula | Rodent | Control | Jan   |\n| 9 | 588 |  2 | 18 | 1978 | 2 | NL | M | NA | 218 | Neotoma | albigula | Rodent | Control | Feb   |\n| 10 | 661 |  3 | 11 | 1978 | 2 | NL | <!----> | NA |  NA | Neotoma | albigula | Rodent | Control | Mar   |\n\n",
            "text/latex": "A data.frame: 10 × 14\n\\begin{tabular}{r|llllllllllllll}\n  & record\\_id & month & day & year & plot\\_id & species\\_id & sex & hindfoot\\_length & weight & genus & species & taxa & plot\\_type & month\\_name\\\\\n  & <int> & <int> & <int> & <int> & <int> & <chr> & <chr> & <int> & <int> & <chr> & <chr> & <chr> & <chr> & <chr>\\\\\n\\hline\n\t1 &   1 &  7 & 16 & 1977 & 2 & NL & M & 32 &  NA & Neotoma & albigula & Rodent & Control & Other\\\\\n\t2 &  72 &  8 & 19 & 1977 & 2 & NL & M & 31 &  NA & Neotoma & albigula & Rodent & Control & Other\\\\\n\t3 & 224 &  9 & 13 & 1977 & 2 & NL &   & NA &  NA & Neotoma & albigula & Rodent & Control & Other\\\\\n\t4 & 266 & 10 & 16 & 1977 & 2 & NL &   & NA &  NA & Neotoma & albigula & Rodent & Control & Other\\\\\n\t5 & 349 & 11 & 12 & 1977 & 2 & NL &   & NA &  NA & Neotoma & albigula & Rodent & Control & Other\\\\\n\t6 & 363 & 11 & 12 & 1977 & 2 & NL &   & NA &  NA & Neotoma & albigula & Rodent & Control & Other\\\\\n\t7 & 435 & 12 & 10 & 1977 & 2 & NL &   & NA &  NA & Neotoma & albigula & Rodent & Control & Other\\\\\n\t8 & 506 &  1 &  8 & 1978 & 2 & NL &   & NA &  NA & Neotoma & albigula & Rodent & Control & Jan  \\\\\n\t9 & 588 &  2 & 18 & 1978 & 2 & NL & M & NA & 218 & Neotoma & albigula & Rodent & Control & Feb  \\\\\n\t10 & 661 &  3 & 11 & 1978 & 2 & NL &   & NA &  NA & Neotoma & albigula & Rodent & Control & Mar  \\\\\n\\end{tabular}\n",
            "text/plain": [
              "   record_id month day year plot_id species_id sex hindfoot_length weight\n",
              "1    1        7    16  1977 2       NL         M   32               NA   \n",
              "2   72        8    19  1977 2       NL         M   31               NA   \n",
              "3  224        9    13  1977 2       NL             NA               NA   \n",
              "4  266       10    16  1977 2       NL             NA               NA   \n",
              "5  349       11    12  1977 2       NL             NA               NA   \n",
              "6  363       11    12  1977 2       NL             NA               NA   \n",
              "7  435       12    10  1977 2       NL             NA               NA   \n",
              "8  506        1     8  1978 2       NL             NA               NA   \n",
              "9  588        2    18  1978 2       NL         M   NA              218   \n",
              "10 661        3    11  1978 2       NL             NA               NA   \n",
              "   genus   species  taxa   plot_type month_name\n",
              "1  Neotoma albigula Rodent Control   Other     \n",
              "2  Neotoma albigula Rodent Control   Other     \n",
              "3  Neotoma albigula Rodent Control   Other     \n",
              "4  Neotoma albigula Rodent Control   Other     \n",
              "5  Neotoma albigula Rodent Control   Other     \n",
              "6  Neotoma albigula Rodent Control   Other     \n",
              "7  Neotoma albigula Rodent Control   Other     \n",
              "8  Neotoma albigula Rodent Control   Jan       \n",
              "9  Neotoma albigula Rodent Control   Feb       \n",
              "10 Neotoma albigula Rodent Control   Mar       "
            ]
          },
          "metadata": {}
        }
      ]
    },
    {
      "cell_type": "markdown",
      "source": [
        "## Pattern 3 - Using `str_detect` to determine if a string CONTAINS a value.\n",
        "\n",
        "To apply the string verb CONTAINS, we use the `str_detect` function from the `stringr` library (in `tidyverse`)."
      ],
      "metadata": {
        "id": "FN3B1w05Ieic"
      }
    },
    {
      "cell_type": "code",
      "source": [
        "sex <- surveys$sex\n",
        "sex %>% unique"
      ],
      "metadata": {
        "id": "1mDGkuVeI7W-",
        "outputId": "5634f8e8-7991-49c6-d816-a5be1d2f9c01",
        "colab": {
          "base_uri": "https://localhost:8080/",
          "height": 34
        }
      },
      "execution_count": null,
      "outputs": [
        {
          "output_type": "display_data",
          "data": {
            "text/html": [
              "<style>\n",
              ".list-inline {list-style: none; margin:0; padding: 0}\n",
              ".list-inline>li {display: inline-block}\n",
              ".list-inline>li:not(:last-child)::after {content: \"\\00b7\"; padding: 0 .5ex}\n",
              "</style>\n",
              "<ol class=list-inline><li>'M'</li><li>''</li><li>'F'</li></ol>\n"
            ],
            "text/markdown": "1. 'M'\n2. ''\n3. 'F'\n\n\n",
            "text/latex": "\\begin{enumerate*}\n\\item 'M'\n\\item ''\n\\item 'F'\n\\end{enumerate*}\n",
            "text/plain": [
              "[1] \"M\" \"\"  \"F\""
            ]
          },
          "metadata": {}
        }
      ]
    },
    {
      "cell_type": "markdown",
      "source": [
        "### Use Case 1 - Using `str_detect` in a `filter`"
      ],
      "metadata": {
        "id": "OQ3gbxrHJOvE"
      }
    },
    {
      "cell_type": "code",
      "source": [
        "(surveys\n",
        " %>% filter(str_detect(sex, 'M'))\n",
        " %>% head\n",
        ")"
      ],
      "metadata": {
        "id": "nT0MNBE_JKAi",
        "outputId": "0be446e6-8185-4198-ba10-7d27eb48bcd1",
        "colab": {
          "base_uri": "https://localhost:8080/",
          "height": 283
        }
      },
      "execution_count": null,
      "outputs": [
        {
          "output_type": "display_data",
          "data": {
            "text/html": [
              "<table class=\"dataframe\">\n",
              "<caption>A data.frame: 6 × 13</caption>\n",
              "<thead>\n",
              "\t<tr><th></th><th scope=col>record_id</th><th scope=col>month</th><th scope=col>day</th><th scope=col>year</th><th scope=col>plot_id</th><th scope=col>species_id</th><th scope=col>sex</th><th scope=col>hindfoot_length</th><th scope=col>weight</th><th scope=col>genus</th><th scope=col>species</th><th scope=col>taxa</th><th scope=col>plot_type</th></tr>\n",
              "\t<tr><th></th><th scope=col>&lt;int&gt;</th><th scope=col>&lt;int&gt;</th><th scope=col>&lt;int&gt;</th><th scope=col>&lt;int&gt;</th><th scope=col>&lt;int&gt;</th><th scope=col>&lt;chr&gt;</th><th scope=col>&lt;chr&gt;</th><th scope=col>&lt;int&gt;</th><th scope=col>&lt;int&gt;</th><th scope=col>&lt;chr&gt;</th><th scope=col>&lt;chr&gt;</th><th scope=col>&lt;chr&gt;</th><th scope=col>&lt;chr&gt;</th></tr>\n",
              "</thead>\n",
              "<tbody>\n",
              "\t<tr><th scope=row>1</th><td>   1</td><td>7</td><td>16</td><td>1977</td><td>2</td><td>NL</td><td>M</td><td>32</td><td> NA</td><td>Neotoma</td><td>albigula</td><td>Rodent</td><td>Control</td></tr>\n",
              "\t<tr><th scope=row>2</th><td>  72</td><td>8</td><td>19</td><td>1977</td><td>2</td><td>NL</td><td>M</td><td>31</td><td> NA</td><td>Neotoma</td><td>albigula</td><td>Rodent</td><td>Control</td></tr>\n",
              "\t<tr><th scope=row>3</th><td> 588</td><td>2</td><td>18</td><td>1978</td><td>2</td><td>NL</td><td>M</td><td>NA</td><td>218</td><td>Neotoma</td><td>albigula</td><td>Rodent</td><td>Control</td></tr>\n",
              "\t<tr><th scope=row>4</th><td> 845</td><td>5</td><td> 6</td><td>1978</td><td>2</td><td>NL</td><td>M</td><td>32</td><td>204</td><td>Neotoma</td><td>albigula</td><td>Rodent</td><td>Control</td></tr>\n",
              "\t<tr><th scope=row>5</th><td> 990</td><td>6</td><td> 9</td><td>1978</td><td>2</td><td>NL</td><td>M</td><td>NA</td><td>200</td><td>Neotoma</td><td>albigula</td><td>Rodent</td><td>Control</td></tr>\n",
              "\t<tr><th scope=row>6</th><td>1164</td><td>8</td><td> 5</td><td>1978</td><td>2</td><td>NL</td><td>M</td><td>34</td><td>199</td><td>Neotoma</td><td>albigula</td><td>Rodent</td><td>Control</td></tr>\n",
              "</tbody>\n",
              "</table>\n"
            ],
            "text/markdown": "\nA data.frame: 6 × 13\n\n| <!--/--> | record_id &lt;int&gt; | month &lt;int&gt; | day &lt;int&gt; | year &lt;int&gt; | plot_id &lt;int&gt; | species_id &lt;chr&gt; | sex &lt;chr&gt; | hindfoot_length &lt;int&gt; | weight &lt;int&gt; | genus &lt;chr&gt; | species &lt;chr&gt; | taxa &lt;chr&gt; | plot_type &lt;chr&gt; |\n|---|---|---|---|---|---|---|---|---|---|---|---|---|---|\n| 1 |    1 | 7 | 16 | 1977 | 2 | NL | M | 32 |  NA | Neotoma | albigula | Rodent | Control |\n| 2 |   72 | 8 | 19 | 1977 | 2 | NL | M | 31 |  NA | Neotoma | albigula | Rodent | Control |\n| 3 |  588 | 2 | 18 | 1978 | 2 | NL | M | NA | 218 | Neotoma | albigula | Rodent | Control |\n| 4 |  845 | 5 |  6 | 1978 | 2 | NL | M | 32 | 204 | Neotoma | albigula | Rodent | Control |\n| 5 |  990 | 6 |  9 | 1978 | 2 | NL | M | NA | 200 | Neotoma | albigula | Rodent | Control |\n| 6 | 1164 | 8 |  5 | 1978 | 2 | NL | M | 34 | 199 | Neotoma | albigula | Rodent | Control |\n\n",
            "text/latex": "A data.frame: 6 × 13\n\\begin{tabular}{r|lllllllllllll}\n  & record\\_id & month & day & year & plot\\_id & species\\_id & sex & hindfoot\\_length & weight & genus & species & taxa & plot\\_type\\\\\n  & <int> & <int> & <int> & <int> & <int> & <chr> & <chr> & <int> & <int> & <chr> & <chr> & <chr> & <chr>\\\\\n\\hline\n\t1 &    1 & 7 & 16 & 1977 & 2 & NL & M & 32 &  NA & Neotoma & albigula & Rodent & Control\\\\\n\t2 &   72 & 8 & 19 & 1977 & 2 & NL & M & 31 &  NA & Neotoma & albigula & Rodent & Control\\\\\n\t3 &  588 & 2 & 18 & 1978 & 2 & NL & M & NA & 218 & Neotoma & albigula & Rodent & Control\\\\\n\t4 &  845 & 5 &  6 & 1978 & 2 & NL & M & 32 & 204 & Neotoma & albigula & Rodent & Control\\\\\n\t5 &  990 & 6 &  9 & 1978 & 2 & NL & M & NA & 200 & Neotoma & albigula & Rodent & Control\\\\\n\t6 & 1164 & 8 &  5 & 1978 & 2 & NL & M & 34 & 199 & Neotoma & albigula & Rodent & Control\\\\\n\\end{tabular}\n",
            "text/plain": [
              "  record_id month day year plot_id species_id sex hindfoot_length weight\n",
              "1    1      7     16  1977 2       NL         M   32               NA   \n",
              "2   72      8     19  1977 2       NL         M   31               NA   \n",
              "3  588      2     18  1978 2       NL         M   NA              218   \n",
              "4  845      5      6  1978 2       NL         M   32              204   \n",
              "5  990      6      9  1978 2       NL         M   NA              200   \n",
              "6 1164      8      5  1978 2       NL         M   34              199   \n",
              "  genus   species  taxa   plot_type\n",
              "1 Neotoma albigula Rodent Control  \n",
              "2 Neotoma albigula Rodent Control  \n",
              "3 Neotoma albigula Rodent Control  \n",
              "4 Neotoma albigula Rodent Control  \n",
              "5 Neotoma albigula Rodent Control  \n",
              "6 Neotoma albigula Rodent Control  "
            ]
          },
          "metadata": {}
        }
      ]
    },
    {
      "cell_type": "markdown",
      "source": [
        "### Use Case 2 - Use with `ifelse` to create an indicator column"
      ],
      "metadata": {
        "id": "ARrU87YvJpzW"
      }
    },
    {
      "cell_type": "code",
      "source": [
        "(surveys\n",
        " %>% mutate(male = ifelse(str_detect(sex, 'M'), 1, 0))\n",
        " %>% head\n",
        ")"
      ],
      "metadata": {
        "id": "eFcAkAuoJwbW",
        "outputId": "910e3522-1e87-444d-f476-b3b042c3bbaf",
        "colab": {
          "base_uri": "https://localhost:8080/",
          "height": 283
        }
      },
      "execution_count": null,
      "outputs": [
        {
          "output_type": "display_data",
          "data": {
            "text/html": [
              "<table class=\"dataframe\">\n",
              "<caption>A data.frame: 6 × 14</caption>\n",
              "<thead>\n",
              "\t<tr><th></th><th scope=col>record_id</th><th scope=col>month</th><th scope=col>day</th><th scope=col>year</th><th scope=col>plot_id</th><th scope=col>species_id</th><th scope=col>sex</th><th scope=col>hindfoot_length</th><th scope=col>weight</th><th scope=col>genus</th><th scope=col>species</th><th scope=col>taxa</th><th scope=col>plot_type</th><th scope=col>male</th></tr>\n",
              "\t<tr><th></th><th scope=col>&lt;int&gt;</th><th scope=col>&lt;int&gt;</th><th scope=col>&lt;int&gt;</th><th scope=col>&lt;int&gt;</th><th scope=col>&lt;int&gt;</th><th scope=col>&lt;chr&gt;</th><th scope=col>&lt;chr&gt;</th><th scope=col>&lt;int&gt;</th><th scope=col>&lt;int&gt;</th><th scope=col>&lt;chr&gt;</th><th scope=col>&lt;chr&gt;</th><th scope=col>&lt;chr&gt;</th><th scope=col>&lt;chr&gt;</th><th scope=col>&lt;dbl&gt;</th></tr>\n",
              "</thead>\n",
              "<tbody>\n",
              "\t<tr><th scope=row>1</th><td>  1</td><td> 7</td><td>16</td><td>1977</td><td>2</td><td>NL</td><td>M</td><td>32</td><td>NA</td><td>Neotoma</td><td>albigula</td><td>Rodent</td><td>Control</td><td>1</td></tr>\n",
              "\t<tr><th scope=row>2</th><td> 72</td><td> 8</td><td>19</td><td>1977</td><td>2</td><td>NL</td><td>M</td><td>31</td><td>NA</td><td>Neotoma</td><td>albigula</td><td>Rodent</td><td>Control</td><td>1</td></tr>\n",
              "\t<tr><th scope=row>3</th><td>224</td><td> 9</td><td>13</td><td>1977</td><td>2</td><td>NL</td><td> </td><td>NA</td><td>NA</td><td>Neotoma</td><td>albigula</td><td>Rodent</td><td>Control</td><td>0</td></tr>\n",
              "\t<tr><th scope=row>4</th><td>266</td><td>10</td><td>16</td><td>1977</td><td>2</td><td>NL</td><td> </td><td>NA</td><td>NA</td><td>Neotoma</td><td>albigula</td><td>Rodent</td><td>Control</td><td>0</td></tr>\n",
              "\t<tr><th scope=row>5</th><td>349</td><td>11</td><td>12</td><td>1977</td><td>2</td><td>NL</td><td> </td><td>NA</td><td>NA</td><td>Neotoma</td><td>albigula</td><td>Rodent</td><td>Control</td><td>0</td></tr>\n",
              "\t<tr><th scope=row>6</th><td>363</td><td>11</td><td>12</td><td>1977</td><td>2</td><td>NL</td><td> </td><td>NA</td><td>NA</td><td>Neotoma</td><td>albigula</td><td>Rodent</td><td>Control</td><td>0</td></tr>\n",
              "</tbody>\n",
              "</table>\n"
            ],
            "text/markdown": "\nA data.frame: 6 × 14\n\n| <!--/--> | record_id &lt;int&gt; | month &lt;int&gt; | day &lt;int&gt; | year &lt;int&gt; | plot_id &lt;int&gt; | species_id &lt;chr&gt; | sex &lt;chr&gt; | hindfoot_length &lt;int&gt; | weight &lt;int&gt; | genus &lt;chr&gt; | species &lt;chr&gt; | taxa &lt;chr&gt; | plot_type &lt;chr&gt; | male &lt;dbl&gt; |\n|---|---|---|---|---|---|---|---|---|---|---|---|---|---|---|\n| 1 |   1 |  7 | 16 | 1977 | 2 | NL | M | 32 | NA | Neotoma | albigula | Rodent | Control | 1 |\n| 2 |  72 |  8 | 19 | 1977 | 2 | NL | M | 31 | NA | Neotoma | albigula | Rodent | Control | 1 |\n| 3 | 224 |  9 | 13 | 1977 | 2 | NL | <!----> | NA | NA | Neotoma | albigula | Rodent | Control | 0 |\n| 4 | 266 | 10 | 16 | 1977 | 2 | NL | <!----> | NA | NA | Neotoma | albigula | Rodent | Control | 0 |\n| 5 | 349 | 11 | 12 | 1977 | 2 | NL | <!----> | NA | NA | Neotoma | albigula | Rodent | Control | 0 |\n| 6 | 363 | 11 | 12 | 1977 | 2 | NL | <!----> | NA | NA | Neotoma | albigula | Rodent | Control | 0 |\n\n",
            "text/latex": "A data.frame: 6 × 14\n\\begin{tabular}{r|llllllllllllll}\n  & record\\_id & month & day & year & plot\\_id & species\\_id & sex & hindfoot\\_length & weight & genus & species & taxa & plot\\_type & male\\\\\n  & <int> & <int> & <int> & <int> & <int> & <chr> & <chr> & <int> & <int> & <chr> & <chr> & <chr> & <chr> & <dbl>\\\\\n\\hline\n\t1 &   1 &  7 & 16 & 1977 & 2 & NL & M & 32 & NA & Neotoma & albigula & Rodent & Control & 1\\\\\n\t2 &  72 &  8 & 19 & 1977 & 2 & NL & M & 31 & NA & Neotoma & albigula & Rodent & Control & 1\\\\\n\t3 & 224 &  9 & 13 & 1977 & 2 & NL &   & NA & NA & Neotoma & albigula & Rodent & Control & 0\\\\\n\t4 & 266 & 10 & 16 & 1977 & 2 & NL &   & NA & NA & Neotoma & albigula & Rodent & Control & 0\\\\\n\t5 & 349 & 11 & 12 & 1977 & 2 & NL &   & NA & NA & Neotoma & albigula & Rodent & Control & 0\\\\\n\t6 & 363 & 11 & 12 & 1977 & 2 & NL &   & NA & NA & Neotoma & albigula & Rodent & Control & 0\\\\\n\\end{tabular}\n",
            "text/plain": [
              "  record_id month day year plot_id species_id sex hindfoot_length weight\n",
              "1   1        7    16  1977 2       NL         M   32              NA    \n",
              "2  72        8    19  1977 2       NL         M   31              NA    \n",
              "3 224        9    13  1977 2       NL             NA              NA    \n",
              "4 266       10    16  1977 2       NL             NA              NA    \n",
              "5 349       11    12  1977 2       NL             NA              NA    \n",
              "6 363       11    12  1977 2       NL             NA              NA    \n",
              "  genus   species  taxa   plot_type male\n",
              "1 Neotoma albigula Rodent Control   1   \n",
              "2 Neotoma albigula Rodent Control   1   \n",
              "3 Neotoma albigula Rodent Control   0   \n",
              "4 Neotoma albigula Rodent Control   0   \n",
              "5 Neotoma albigula Rodent Control   0   \n",
              "6 Neotoma albigula Rodent Control   0   "
            ]
          },
          "metadata": {}
        }
      ]
    },
    {
      "cell_type": "markdown",
      "source": [
        "## Pattern 4 - Split & Get\n",
        "\n",
        "We can use the `str_split_i(string, pattern, i)` function to split `string` on `pattern`, then getting element `i`"
      ],
      "metadata": {
        "id": "6DP_1sMDEb-Z"
      }
    },
    {
      "cell_type": "code",
      "source": [
        "( surveys\n",
        " %>% select(genus)\n",
        " %>% filter(genus == 'Neotoma')\n",
        "  %>% mutate(part1 = str_split_i(genus, 't', 1),\n",
        "             part2 = str_split_i(genus, 't', 2),\n",
        "            )\n",
        "  %>% head\n",
        ")"
      ],
      "metadata": {
        "id": "LsTptW6bKzsw",
        "outputId": "e94b7712-b454-487f-b73a-7c5f4f7269eb",
        "colab": {
          "base_uri": "https://localhost:8080/",
          "height": 283
        }
      },
      "execution_count": null,
      "outputs": [
        {
          "output_type": "display_data",
          "data": {
            "text/html": [
              "<table class=\"dataframe\">\n",
              "<caption>A data.frame: 6 × 3</caption>\n",
              "<thead>\n",
              "\t<tr><th></th><th scope=col>genus</th><th scope=col>part1</th><th scope=col>part2</th></tr>\n",
              "\t<tr><th></th><th scope=col>&lt;chr&gt;</th><th scope=col>&lt;chr&gt;</th><th scope=col>&lt;chr&gt;</th></tr>\n",
              "</thead>\n",
              "<tbody>\n",
              "\t<tr><th scope=row>1</th><td>Neotoma</td><td>Neo</td><td>oma</td></tr>\n",
              "\t<tr><th scope=row>2</th><td>Neotoma</td><td>Neo</td><td>oma</td></tr>\n",
              "\t<tr><th scope=row>3</th><td>Neotoma</td><td>Neo</td><td>oma</td></tr>\n",
              "\t<tr><th scope=row>4</th><td>Neotoma</td><td>Neo</td><td>oma</td></tr>\n",
              "\t<tr><th scope=row>5</th><td>Neotoma</td><td>Neo</td><td>oma</td></tr>\n",
              "\t<tr><th scope=row>6</th><td>Neotoma</td><td>Neo</td><td>oma</td></tr>\n",
              "</tbody>\n",
              "</table>\n"
            ],
            "text/markdown": "\nA data.frame: 6 × 3\n\n| <!--/--> | genus &lt;chr&gt; | part1 &lt;chr&gt; | part2 &lt;chr&gt; |\n|---|---|---|---|\n| 1 | Neotoma | Neo | oma |\n| 2 | Neotoma | Neo | oma |\n| 3 | Neotoma | Neo | oma |\n| 4 | Neotoma | Neo | oma |\n| 5 | Neotoma | Neo | oma |\n| 6 | Neotoma | Neo | oma |\n\n",
            "text/latex": "A data.frame: 6 × 3\n\\begin{tabular}{r|lll}\n  & genus & part1 & part2\\\\\n  & <chr> & <chr> & <chr>\\\\\n\\hline\n\t1 & Neotoma & Neo & oma\\\\\n\t2 & Neotoma & Neo & oma\\\\\n\t3 & Neotoma & Neo & oma\\\\\n\t4 & Neotoma & Neo & oma\\\\\n\t5 & Neotoma & Neo & oma\\\\\n\t6 & Neotoma & Neo & oma\\\\\n\\end{tabular}\n",
            "text/plain": [
              "  genus   part1 part2\n",
              "1 Neotoma Neo   oma  \n",
              "2 Neotoma Neo   oma  \n",
              "3 Neotoma Neo   oma  \n",
              "4 Neotoma Neo   oma  \n",
              "5 Neotoma Neo   oma  \n",
              "6 Neotoma Neo   oma  "
            ]
          },
          "metadata": {}
        }
      ]
    },
    {
      "cell_type": "markdown",
      "source": [
        "# Activity 6.3 - Cleaning the comic data in `R`\n",
        "\n",
        "In today's activity, we will return to the comics data, this time cleaning it up in `R`"
      ],
      "metadata": {
        "id": "Na19uBN-SupD"
      }
    },
    {
      "cell_type": "markdown",
      "source": [
        "#### Problem 0 - Lead the `Comic_Data_Messy.csv` file, which is located in the `data` folder in D2L."
      ],
      "metadata": {
        "id": "I2IkKJINUsSN"
      }
    },
    {
      "cell_type": "code",
      "source": [
        "# Your code here"
      ],
      "metadata": {
        "id": "oyX2CAHKU2Lh"
      },
      "execution_count": null,
      "outputs": []
    },
    {
      "cell_type": "markdown",
      "metadata": {
        "id": "sYCMgyFe4hHK"
      },
      "source": [
        "#### Problem 1 - Clean up the `comic` column\n",
        "**Tasks:**\n",
        "\n",
        "1. Use `unique` to explore the `comic` column and identify problems.\n",
        "2. Use `recode` to clean up the `comic` column"
      ]
    },
    {
      "cell_type": "code",
      "execution_count": null,
      "metadata": {
        "id": "aKJcvH9Z4hHK"
      },
      "outputs": [],
      "source": [
        "# Your code here"
      ]
    },
    {
      "cell_type": "markdown",
      "source": [
        "### Problem 1 - Lead a fresh copy of the file."
      ],
      "metadata": {
        "id": "o9IgZzA4TBNF"
      }
    },
    {
      "cell_type": "code",
      "source": [
        "# Your code here."
      ],
      "metadata": {
        "id": "6DIvA_B4SnJY"
      },
      "execution_count": null,
      "outputs": []
    },
    {
      "cell_type": "markdown",
      "source": [
        "## Problem 2 - Extract the year\n",
        "\n",
        "**Task 1.** Use `ifelse`, `str_detect`, and `str_split_i` to extract the year from the `FIRST.APPEARANCE` column into a column called `year.raw` .  The basic pattern will have the basic form shown below.\n",
        "\n",
        "```\n",
        "mutate(year.raw = ifelse(CONTAINS a comma, SPLIT on comma and GET 1, SPLIT on hyphen and GET 2)\n",
        "```\n",
        "\n",
        "**Task 2.** Suppose that we want to keep the last two digits of the year column.  Perform a transformations using `ifelse` to extract these last two digits into a column called `year`.\n",
        "\n",
        "**Task 3.** Drop the `year.raw` column."
      ],
      "metadata": {
        "id": "h-BUqvYVKwLA"
      }
    },
    {
      "cell_type": "code",
      "source": [
        "# Your code here"
      ],
      "metadata": {
        "id": "FIM4sgFTM6Wp"
      },
      "execution_count": null,
      "outputs": []
    },
    {
      "cell_type": "markdown",
      "source": [
        "## Problem 3 - Extract and recode the month\n",
        "\n",
        "Next, we will extract the month of the `FIRST.APPEARANCE`.\n",
        "**Task 1.** Use a similar pattern as used in the last problem to extract the month.\n",
        "\n",
        "**Task 2.** Use recode the recode the months to the three digit abbreviation."
      ],
      "metadata": {
        "id": "nFBSVl-KTReg"
      }
    },
    {
      "cell_type": "code",
      "source": [
        "# Your code here"
      ],
      "metadata": {
        "id": "2K28jenwTq7W"
      },
      "execution_count": null,
      "outputs": []
    },
    {
      "cell_type": "markdown",
      "source": [
        "## Case Study - Cleaning and extracting the information from `urlslug`\n",
        "\n",
        "In a previous activity, I shared the code for cleaning up the `urlslug` column.  I will apply the extact same process, but this time using `R`."
      ],
      "metadata": {
        "id": "ibFtAZKhNBk5"
      }
    },
    {
      "cell_type": "code",
      "source": [
        "(comics\n",
        "#  %>% select(urlslug) # Temp select\n",
        " %>% mutate(has_group = ifelse(str_detect(urlslug, '\\\\)_\\\\('), 1, 0), # parentheses are special and need \\\\ in front\n",
        "            urlslug2 = urlslug\n",
        "                        %>% str_replace(\"\\\\\\\\/wiki\", '') # both \\ and / are also special and need to be escaped\n",
        "                        %>% str_replace(\"\\\\\\\\/\", \"\")\n",
        "                        %>% str_replace(\"\\\\)_\\\\(\", \"|\")\n",
        "                        %>% str_replace(\"_\\\\(\", \"|\")\n",
        "                        %>% str_replace('\\\\)', '')\n",
        "                        %>% str_replace('_', ' '),\n",
        "           name = str_split_i(urlslug2, '\\\\|', 1),\n",
        "           group_or_alias = ifelse(has_group, str_split_i(urlslug2, '\\\\|', 2), NA),\n",
        "           universe = str_split_i(urlslug2, '\\\\|', -1),\n",
        "           )\n",
        " %>% select(-urlslug, -urlslug2)\n",
        " %>% head(10)\n",
        ")"
      ],
      "metadata": {
        "id": "IwE5h5i_NSVh",
        "outputId": "ce65ed9c-31f4-41e4-97e8-9050f6784af5",
        "colab": {
          "base_uri": "https://localhost:8080/",
          "height": 407
        }
      },
      "execution_count": null,
      "outputs": [
        {
          "output_type": "display_data",
          "data": {
            "text/html": [
              "<table class=\"dataframe\">\n",
              "<caption>A data.frame: 10 × 13</caption>\n",
              "<thead>\n",
              "\t<tr><th></th><th scope=col>page_id</th><th scope=col>ID</th><th scope=col>ALIGN</th><th scope=col>SEX</th><th scope=col>ALIVE</th><th scope=col>APPEARANCES</th><th scope=col>FIRST.APPEARANCE</th><th scope=col>comic</th><th scope=col>PHYSICAL</th><th scope=col>has_group</th><th scope=col>name</th><th scope=col>group_or_alias</th><th scope=col>universe</th></tr>\n",
              "\t<tr><th></th><th scope=col>&lt;int&gt;</th><th scope=col>&lt;chr&gt;</th><th scope=col>&lt;chr&gt;</th><th scope=col>&lt;chr&gt;</th><th scope=col>&lt;chr&gt;</th><th scope=col>&lt;int&gt;</th><th scope=col>&lt;chr&gt;</th><th scope=col>&lt;chr&gt;</th><th scope=col>&lt;chr&gt;</th><th scope=col>&lt;dbl&gt;</th><th scope=col>&lt;chr&gt;</th><th scope=col>&lt;chr&gt;</th><th scope=col>&lt;chr&gt;</th></tr>\n",
              "</thead>\n",
              "<tbody>\n",
              "\t<tr><th scope=row>1</th><td>666101</td><td>Public Identity</td><td>                  </td><td>Male Characters  </td><td>Living Characters  </td><td> 4</td><td>Apr-97         </td><td>marvel       </td><td>Blue Eyes , Brown Hair</td><td>0</td><td>Jonathan Dillon </td><td>NA    </td><td>Earth-616</td></tr>\n",
              "\t<tr><th scope=row>2</th><td>280850</td><td>Public Identity</td><td>                  </td><td>Male Characters  </td><td>Deceased Characters</td><td>NA</td><td>Oct-01         </td><td>marvl        </td><td>Blue Eyes , Blond Hair</td><td>1</td><td>John            </td><td>Mutant</td><td>Earth-616</td></tr>\n",
              "\t<tr><th scope=row>3</th><td>129267</td><td>Public Identity</td><td>Good Characters   </td><td>Male Characters  </td><td>Living Characters  </td><td>15</td><td>1987, September</td><td>DC comics    </td><td> , Black Hair         </td><td>0</td><td>Gene LaBostrie  </td><td>NA    </td><td>New_Earth</td></tr>\n",
              "\t<tr><th scope=row>4</th><td>157368</td><td>Public Identity</td><td>Good Characters   </td><td>Male Characters  </td><td>Deceased Characters</td><td>15</td><td>1992, September</td><td>DC           </td><td>Black Eyes ,          </td><td>0</td><td>Reemuz          </td><td>NA    </td><td>New Earth</td></tr>\n",
              "\t<tr><th scope=row>5</th><td> 16171</td><td>Secret Identity</td><td>Bad Characters    </td><td>Male Characters  </td><td>Living Characters  </td><td> 1</td><td>Jul-73         </td><td>marvl        </td><td> ,                    </td><td>0</td><td>Aquon           </td><td>NA    </td><td>Earth-616</td></tr>\n",
              "\t<tr><th scope=row>6</th><td>240298</td><td>Secret Identity</td><td>Bad Characters    </td><td>Female Characters</td><td>Living Characters  </td><td> 4</td><td>2002, April    </td><td>DC           </td><td> , Black Hair         </td><td>0</td><td>Rachel Berkowitz</td><td>NA    </td><td>New_Earth</td></tr>\n",
              "\t<tr><th scope=row>7</th><td>186659</td><td>               </td><td>Bad Characters    </td><td>Male Characters  </td><td>Living Characters  </td><td>NA</td><td>1999, May      </td><td>DC           </td><td> ,                    </td><td>0</td><td>Golem II        </td><td>NA    </td><td>New_Earth</td></tr>\n",
              "\t<tr><th scope=row>8</th><td>288877</td><td>Public Identity</td><td>Bad Characters    </td><td>Male Characters  </td><td>Living Characters  </td><td> 1</td><td>Oct-86         </td><td>Marvel Comics</td><td> ,                    </td><td>0</td><td>Burka           </td><td>NA    </td><td>Earth-616</td></tr>\n",
              "\t<tr><th scope=row>9</th><td>402328</td><td>               </td><td>Bad Characters    </td><td>Male Characters  </td><td>Living Characters  </td><td>14</td><td>Jul-06         </td><td>marvelcomics </td><td>Blue Eyes , Blond Hair</td><td>0</td><td>Max Lohmer      </td><td>NA    </td><td>Earth-616</td></tr>\n",
              "\t<tr><th scope=row>10</th><td> 22342</td><td>Public Identity</td><td>Neutral Characters</td><td>Male Characters  </td><td>Deceased Characters</td><td> 7</td><td>Aug-89         </td><td>marvelcomics </td><td> , Grey Hair          </td><td>0</td><td>Paul Harker     </td><td>NA    </td><td>Earth-616</td></tr>\n",
              "</tbody>\n",
              "</table>\n"
            ],
            "text/markdown": "\nA data.frame: 10 × 13\n\n| <!--/--> | page_id &lt;int&gt; | ID &lt;chr&gt; | ALIGN &lt;chr&gt; | SEX &lt;chr&gt; | ALIVE &lt;chr&gt; | APPEARANCES &lt;int&gt; | FIRST.APPEARANCE &lt;chr&gt; | comic &lt;chr&gt; | PHYSICAL &lt;chr&gt; | has_group &lt;dbl&gt; | name &lt;chr&gt; | group_or_alias &lt;chr&gt; | universe &lt;chr&gt; |\n|---|---|---|---|---|---|---|---|---|---|---|---|---|---|\n| 1 | 666101 | Public Identity | <!----> | Male Characters   | Living Characters   |  4 | Apr-97          | marvel        | Blue Eyes , Brown Hair | 0 | Jonathan Dillon  | NA     | Earth-616 |\n| 2 | 280850 | Public Identity | <!----> | Male Characters   | Deceased Characters | NA | Oct-01          | marvl         | Blue Eyes , Blond Hair | 1 | John             | Mutant | Earth-616 |\n| 3 | 129267 | Public Identity | Good Characters    | Male Characters   | Living Characters   | 15 | 1987, September | DC comics     |  , Black Hair          | 0 | Gene LaBostrie   | NA     | New_Earth |\n| 4 | 157368 | Public Identity | Good Characters    | Male Characters   | Deceased Characters | 15 | 1992, September | DC            | Black Eyes ,           | 0 | Reemuz           | NA     | New Earth |\n| 5 |  16171 | Secret Identity | Bad Characters     | Male Characters   | Living Characters   |  1 | Jul-73          | marvl         |  ,                     | 0 | Aquon            | NA     | Earth-616 |\n| 6 | 240298 | Secret Identity | Bad Characters     | Female Characters | Living Characters   |  4 | 2002, April     | DC            |  , Black Hair          | 0 | Rachel Berkowitz | NA     | New_Earth |\n| 7 | 186659 | <!----> | Bad Characters     | Male Characters   | Living Characters   | NA | 1999, May       | DC            |  ,                     | 0 | Golem II         | NA     | New_Earth |\n| 8 | 288877 | Public Identity | Bad Characters     | Male Characters   | Living Characters   |  1 | Oct-86          | Marvel Comics |  ,                     | 0 | Burka            | NA     | Earth-616 |\n| 9 | 402328 | <!----> | Bad Characters     | Male Characters   | Living Characters   | 14 | Jul-06          | marvelcomics  | Blue Eyes , Blond Hair | 0 | Max Lohmer       | NA     | Earth-616 |\n| 10 |  22342 | Public Identity | Neutral Characters | Male Characters   | Deceased Characters |  7 | Aug-89          | marvelcomics  |  , Grey Hair           | 0 | Paul Harker      | NA     | Earth-616 |\n\n",
            "text/latex": "A data.frame: 10 × 13\n\\begin{tabular}{r|lllllllllllll}\n  & page\\_id & ID & ALIGN & SEX & ALIVE & APPEARANCES & FIRST.APPEARANCE & comic & PHYSICAL & has\\_group & name & group\\_or\\_alias & universe\\\\\n  & <int> & <chr> & <chr> & <chr> & <chr> & <int> & <chr> & <chr> & <chr> & <dbl> & <chr> & <chr> & <chr>\\\\\n\\hline\n\t1 & 666101 & Public Identity &                    & Male Characters   & Living Characters   &  4 & Apr-97          & marvel        & Blue Eyes , Brown Hair & 0 & Jonathan Dillon  & NA     & Earth-616\\\\\n\t2 & 280850 & Public Identity &                    & Male Characters   & Deceased Characters & NA & Oct-01          & marvl         & Blue Eyes , Blond Hair & 1 & John             & Mutant & Earth-616\\\\\n\t3 & 129267 & Public Identity & Good Characters    & Male Characters   & Living Characters   & 15 & 1987, September & DC comics     &  , Black Hair          & 0 & Gene LaBostrie   & NA     & New\\_Earth\\\\\n\t4 & 157368 & Public Identity & Good Characters    & Male Characters   & Deceased Characters & 15 & 1992, September & DC            & Black Eyes ,           & 0 & Reemuz           & NA     & New Earth\\\\\n\t5 &  16171 & Secret Identity & Bad Characters     & Male Characters   & Living Characters   &  1 & Jul-73          & marvl         &  ,                     & 0 & Aquon            & NA     & Earth-616\\\\\n\t6 & 240298 & Secret Identity & Bad Characters     & Female Characters & Living Characters   &  4 & 2002, April     & DC            &  , Black Hair          & 0 & Rachel Berkowitz & NA     & New\\_Earth\\\\\n\t7 & 186659 &                 & Bad Characters     & Male Characters   & Living Characters   & NA & 1999, May       & DC            &  ,                     & 0 & Golem II         & NA     & New\\_Earth\\\\\n\t8 & 288877 & Public Identity & Bad Characters     & Male Characters   & Living Characters   &  1 & Oct-86          & Marvel Comics &  ,                     & 0 & Burka            & NA     & Earth-616\\\\\n\t9 & 402328 &                 & Bad Characters     & Male Characters   & Living Characters   & 14 & Jul-06          & marvelcomics  & Blue Eyes , Blond Hair & 0 & Max Lohmer       & NA     & Earth-616\\\\\n\t10 &  22342 & Public Identity & Neutral Characters & Male Characters   & Deceased Characters &  7 & Aug-89          & marvelcomics  &  , Grey Hair           & 0 & Paul Harker      & NA     & Earth-616\\\\\n\\end{tabular}\n",
            "text/plain": [
              "   page_id ID              ALIGN              SEX              \n",
              "1  666101  Public Identity                    Male Characters  \n",
              "2  280850  Public Identity                    Male Characters  \n",
              "3  129267  Public Identity Good Characters    Male Characters  \n",
              "4  157368  Public Identity Good Characters    Male Characters  \n",
              "5   16171  Secret Identity Bad Characters     Male Characters  \n",
              "6  240298  Secret Identity Bad Characters     Female Characters\n",
              "7  186659                  Bad Characters     Male Characters  \n",
              "8  288877  Public Identity Bad Characters     Male Characters  \n",
              "9  402328                  Bad Characters     Male Characters  \n",
              "10  22342  Public Identity Neutral Characters Male Characters  \n",
              "   ALIVE               APPEARANCES FIRST.APPEARANCE comic        \n",
              "1  Living Characters    4          Apr-97           marvel       \n",
              "2  Deceased Characters NA          Oct-01           marvl        \n",
              "3  Living Characters   15          1987, September  DC comics    \n",
              "4  Deceased Characters 15          1992, September  DC           \n",
              "5  Living Characters    1          Jul-73           marvl        \n",
              "6  Living Characters    4          2002, April      DC           \n",
              "7  Living Characters   NA          1999, May        DC           \n",
              "8  Living Characters    1          Oct-86           Marvel Comics\n",
              "9  Living Characters   14          Jul-06           marvelcomics \n",
              "10 Deceased Characters  7          Aug-89           marvelcomics \n",
              "   PHYSICAL               has_group name             group_or_alias universe \n",
              "1  Blue Eyes , Brown Hair 0         Jonathan Dillon  NA             Earth-616\n",
              "2  Blue Eyes , Blond Hair 1         John             Mutant         Earth-616\n",
              "3   , Black Hair          0         Gene LaBostrie   NA             New_Earth\n",
              "4  Black Eyes ,           0         Reemuz           NA             New Earth\n",
              "5   ,                     0         Aquon            NA             Earth-616\n",
              "6   , Black Hair          0         Rachel Berkowitz NA             New_Earth\n",
              "7   ,                     0         Golem II         NA             New_Earth\n",
              "8   ,                     0         Burka            NA             Earth-616\n",
              "9  Blue Eyes , Blond Hair 0         Max Lohmer       NA             Earth-616\n",
              "10  , Grey Hair           0         Paul Harker      NA             Earth-616"
            ]
          },
          "metadata": {}
        }
      ]
    },
    {
      "cell_type": "markdown",
      "source": [
        "#### Problem 4 - Explore the case study code.\n",
        "\n",
        "**Questions.**\n",
        "\n",
        "1. What is the purpose of the first (now commented out) `select`?\n",
        "2. Use comments to step through the creation of the `urlslug2` column and explain the purpose of each step.\n",
        "3. Discuss how the 2-3 pieces of information were split into three columns."
      ],
      "metadata": {
        "id": "6HC25ax3Tv7L"
      }
    },
    {
      "cell_type": "markdown",
      "source": [
        "<font color=\"orange\">\n",
        "Your answers here\n",
        "</font>"
      ],
      "metadata": {
        "id": "095G-DB2UM9r"
      }
    }
  ],
  "metadata": {
    "kernelspec": {
      "display_name": "R",
      "language": "R",
      "name": "ir"
    },
    "language_info": {
      "codemirror_mode": "r",
      "file_extension": ".r",
      "mimetype": "text/x-r-source",
      "name": "R",
      "pygments_lexer": "r",
      "version": "3.5.1"
    },
    "colab": {
      "provenance": [],
      "include_colab_link": true
    }
  },
  "nbformat": 4,
  "nbformat_minor": 0
}