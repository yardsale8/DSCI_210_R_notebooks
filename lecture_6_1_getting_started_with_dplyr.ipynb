{
  "cells": [
    {
      "cell_type": "markdown",
      "metadata": {
        "id": "view-in-github",
        "colab_type": "text"
      },
      "source": [
        "<a href=\"https://colab.research.google.com/github/yardsale8/DSCI_210_R_notebooks/blob/main/lecture_6_1_getting_started_with_dplyr.ipynb\" target=\"_parent\"><img src=\"https://colab.research.google.com/assets/colab-badge.svg\" alt=\"Open In Colab\"/></a>"
      ]
    },
    {
      "cell_type": "markdown",
      "metadata": {
        "id": "mEi2tchpFUCw"
      },
      "source": [
        "# Introduction to dplyr and tidyr (part 1)"
      ]
    },
    {
      "cell_type": "markdown",
      "metadata": {
        "id": "fJFczvaIFUCx"
      },
      "source": [
        "### Why use R?\n",
        "\n",
        "\n",
        "- Save and rerun code\n",
        "- Lots of stats/data science packages\n",
        "- Great graphics\n",
        "- Built for data\n",
        "- free, open source, cross-platform\n",
        "- Large community"
      ]
    },
    {
      "cell_type": "markdown",
      "metadata": {
        "id": "IUz-a3naFUCx"
      },
      "source": [
        "### Market-share\n",
        "\n",
        "![](https://github.com/WSU-DataScience/DSCI_210_R_notebooks/blob/main/img/Fig-1a-IndeedJobs-2017.png?raw=1)"
      ]
    },
    {
      "cell_type": "markdown",
      "metadata": {
        "id": "DDfmTPnIFUCx"
      },
      "source": [
        "What is the `tidyverse`?\n",
        "========================================================\n",
        "\n",
        "- Multiple packages for managing and manipulating data, using data verb syntax\n",
        "    - `dplyr`\n",
        "        - filter\n",
        "        - mutate\n",
        "        - aggregate\n",
        "    - `tidyr`\n",
        "        - stack and unstack (`gather()` and `spread()`)\n",
        "    - `ggplot`\n",
        "        - Nice graphics\n",
        "    \n",
        "    "
      ]
    },
    {
      "cell_type": "markdown",
      "metadata": {
        "id": "xO_zFmDCFUCx"
      },
      "source": [
        "### Loading a Library"
      ]
    },
    {
      "cell_type": "code",
      "execution_count": 3,
      "metadata": {
        "id": "DIapfQ-XFUCy",
        "outputId": "588e73ef-4547-44c3-85f0-0eaba2772a59",
        "colab": {
          "base_uri": "https://localhost:8080/"
        }
      },
      "outputs": [
        {
          "output_type": "stream",
          "name": "stderr",
          "text": [
            "── \u001b[1mAttaching core tidyverse packages\u001b[22m ──────────────────────── tidyverse 2.0.0 ──\n",
            "\u001b[32m✔\u001b[39m \u001b[34mdplyr    \u001b[39m 1.1.3     \u001b[32m✔\u001b[39m \u001b[34mreadr    \u001b[39m 2.1.4\n",
            "\u001b[32m✔\u001b[39m \u001b[34mforcats  \u001b[39m 1.0.0     \u001b[32m✔\u001b[39m \u001b[34mstringr  \u001b[39m 1.5.0\n",
            "\u001b[32m✔\u001b[39m \u001b[34mggplot2  \u001b[39m 3.4.3     \u001b[32m✔\u001b[39m \u001b[34mtibble   \u001b[39m 3.2.1\n",
            "\u001b[32m✔\u001b[39m \u001b[34mlubridate\u001b[39m 1.9.3     \u001b[32m✔\u001b[39m \u001b[34mtidyr    \u001b[39m 1.3.0\n",
            "\u001b[32m✔\u001b[39m \u001b[34mpurrr    \u001b[39m 1.0.2     \n",
            "── \u001b[1mConflicts\u001b[22m ────────────────────────────────────────── tidyverse_conflicts() ──\n",
            "\u001b[31m✖\u001b[39m \u001b[34mdplyr\u001b[39m::\u001b[32mfilter()\u001b[39m masks \u001b[34mstats\u001b[39m::filter()\n",
            "\u001b[31m✖\u001b[39m \u001b[34mdplyr\u001b[39m::\u001b[32mlag()\u001b[39m    masks \u001b[34mstats\u001b[39m::lag()\n",
            "\u001b[36mℹ\u001b[39m Use the conflicted package (\u001b[3m\u001b[34m<http://conflicted.r-lib.org/>\u001b[39m\u001b[23m) to force all conflicts to become errors\n"
          ]
        }
      ],
      "source": [
        "# This loads all of the dplyr functions\n",
        "#must do everytime you start new R session\n",
        "library(\"tidyverse\")"
      ]
    },
    {
      "cell_type": "markdown",
      "metadata": {
        "id": "oI2o9_LyFUCz"
      },
      "source": [
        "#### Reading in data"
      ]
    },
    {
      "cell_type": "code",
      "execution_count": 4,
      "metadata": {
        "id": "lvKsJgr8FUCz",
        "outputId": "61954ddd-7d02-4373-c81e-4971791ce781",
        "colab": {
          "base_uri": "https://localhost:8080/",
          "height": 277
        }
      },
      "outputs": [
        {
          "output_type": "display_data",
          "data": {
            "text/html": [
              "<table class=\"dataframe\">\n",
              "<caption>A data.frame: 6 × 13</caption>\n",
              "<thead>\n",
              "\t<tr><th></th><th scope=col>record_id</th><th scope=col>month</th><th scope=col>day</th><th scope=col>year</th><th scope=col>plot_id</th><th scope=col>species_id</th><th scope=col>sex</th><th scope=col>hindfoot_length</th><th scope=col>weight</th><th scope=col>genus</th><th scope=col>species</th><th scope=col>taxa</th><th scope=col>plot_type</th></tr>\n",
              "\t<tr><th></th><th scope=col>&lt;int&gt;</th><th scope=col>&lt;int&gt;</th><th scope=col>&lt;int&gt;</th><th scope=col>&lt;int&gt;</th><th scope=col>&lt;int&gt;</th><th scope=col>&lt;chr&gt;</th><th scope=col>&lt;chr&gt;</th><th scope=col>&lt;int&gt;</th><th scope=col>&lt;int&gt;</th><th scope=col>&lt;chr&gt;</th><th scope=col>&lt;chr&gt;</th><th scope=col>&lt;chr&gt;</th><th scope=col>&lt;chr&gt;</th></tr>\n",
              "</thead>\n",
              "<tbody>\n",
              "\t<tr><th scope=row>1</th><td>  1</td><td> 7</td><td>16</td><td>1977</td><td>2</td><td>NL</td><td>M</td><td>32</td><td>NA</td><td>Neotoma</td><td>albigula</td><td>Rodent</td><td>Control</td></tr>\n",
              "\t<tr><th scope=row>2</th><td> 72</td><td> 8</td><td>19</td><td>1977</td><td>2</td><td>NL</td><td>M</td><td>31</td><td>NA</td><td>Neotoma</td><td>albigula</td><td>Rodent</td><td>Control</td></tr>\n",
              "\t<tr><th scope=row>3</th><td>224</td><td> 9</td><td>13</td><td>1977</td><td>2</td><td>NL</td><td> </td><td>NA</td><td>NA</td><td>Neotoma</td><td>albigula</td><td>Rodent</td><td>Control</td></tr>\n",
              "\t<tr><th scope=row>4</th><td>266</td><td>10</td><td>16</td><td>1977</td><td>2</td><td>NL</td><td> </td><td>NA</td><td>NA</td><td>Neotoma</td><td>albigula</td><td>Rodent</td><td>Control</td></tr>\n",
              "\t<tr><th scope=row>5</th><td>349</td><td>11</td><td>12</td><td>1977</td><td>2</td><td>NL</td><td> </td><td>NA</td><td>NA</td><td>Neotoma</td><td>albigula</td><td>Rodent</td><td>Control</td></tr>\n",
              "\t<tr><th scope=row>6</th><td>363</td><td>11</td><td>12</td><td>1977</td><td>2</td><td>NL</td><td> </td><td>NA</td><td>NA</td><td>Neotoma</td><td>albigula</td><td>Rodent</td><td>Control</td></tr>\n",
              "</tbody>\n",
              "</table>\n"
            ],
            "text/markdown": "\nA data.frame: 6 × 13\n\n| <!--/--> | record_id &lt;int&gt; | month &lt;int&gt; | day &lt;int&gt; | year &lt;int&gt; | plot_id &lt;int&gt; | species_id &lt;chr&gt; | sex &lt;chr&gt; | hindfoot_length &lt;int&gt; | weight &lt;int&gt; | genus &lt;chr&gt; | species &lt;chr&gt; | taxa &lt;chr&gt; | plot_type &lt;chr&gt; |\n|---|---|---|---|---|---|---|---|---|---|---|---|---|---|\n| 1 |   1 |  7 | 16 | 1977 | 2 | NL | M | 32 | NA | Neotoma | albigula | Rodent | Control |\n| 2 |  72 |  8 | 19 | 1977 | 2 | NL | M | 31 | NA | Neotoma | albigula | Rodent | Control |\n| 3 | 224 |  9 | 13 | 1977 | 2 | NL | <!----> | NA | NA | Neotoma | albigula | Rodent | Control |\n| 4 | 266 | 10 | 16 | 1977 | 2 | NL | <!----> | NA | NA | Neotoma | albigula | Rodent | Control |\n| 5 | 349 | 11 | 12 | 1977 | 2 | NL | <!----> | NA | NA | Neotoma | albigula | Rodent | Control |\n| 6 | 363 | 11 | 12 | 1977 | 2 | NL | <!----> | NA | NA | Neotoma | albigula | Rodent | Control |\n\n",
            "text/latex": "A data.frame: 6 × 13\n\\begin{tabular}{r|lllllllllllll}\n  & record\\_id & month & day & year & plot\\_id & species\\_id & sex & hindfoot\\_length & weight & genus & species & taxa & plot\\_type\\\\\n  & <int> & <int> & <int> & <int> & <int> & <chr> & <chr> & <int> & <int> & <chr> & <chr> & <chr> & <chr>\\\\\n\\hline\n\t1 &   1 &  7 & 16 & 1977 & 2 & NL & M & 32 & NA & Neotoma & albigula & Rodent & Control\\\\\n\t2 &  72 &  8 & 19 & 1977 & 2 & NL & M & 31 & NA & Neotoma & albigula & Rodent & Control\\\\\n\t3 & 224 &  9 & 13 & 1977 & 2 & NL &   & NA & NA & Neotoma & albigula & Rodent & Control\\\\\n\t4 & 266 & 10 & 16 & 1977 & 2 & NL &   & NA & NA & Neotoma & albigula & Rodent & Control\\\\\n\t5 & 349 & 11 & 12 & 1977 & 2 & NL &   & NA & NA & Neotoma & albigula & Rodent & Control\\\\\n\t6 & 363 & 11 & 12 & 1977 & 2 & NL &   & NA & NA & Neotoma & albigula & Rodent & Control\\\\\n\\end{tabular}\n",
            "text/plain": [
              "  record_id month day year plot_id species_id sex hindfoot_length weight\n",
              "1   1        7    16  1977 2       NL         M   32              NA    \n",
              "2  72        8    19  1977 2       NL         M   31              NA    \n",
              "3 224        9    13  1977 2       NL             NA              NA    \n",
              "4 266       10    16  1977 2       NL             NA              NA    \n",
              "5 349       11    12  1977 2       NL             NA              NA    \n",
              "6 363       11    12  1977 2       NL             NA              NA    \n",
              "  genus   species  taxa   plot_type\n",
              "1 Neotoma albigula Rodent Control  \n",
              "2 Neotoma albigula Rodent Control  \n",
              "3 Neotoma albigula Rodent Control  \n",
              "4 Neotoma albigula Rodent Control  \n",
              "5 Neotoma albigula Rodent Control  \n",
              "6 Neotoma albigula Rodent Control  "
            ]
          },
          "metadata": {}
        }
      ],
      "source": [
        "surveys <- read.csv('https://github.com/WSU-DataScience/DSCI_210_R_notebooks/raw/main/data/portal_data_joined.csv')\n",
        "head(surveys)"
      ]
    },
    {
      "cell_type": "markdown",
      "source": [
        "## <font color=\"red\"> Exercise 1 </font>\n",
        "\n",
        "1. Load the `NC_births.csv` from github (see data folder, Raw link).\n",
        "2. Inspect the data using `head`"
      ],
      "metadata": {
        "id": "UA1-NhCFJWxP"
      }
    },
    {
      "cell_type": "code",
      "source": [
        "# Your code here"
      ],
      "metadata": {
        "id": "nyF7y8fwKPlr"
      },
      "execution_count": 1,
      "outputs": []
    },
    {
      "cell_type": "markdown",
      "metadata": {
        "id": "qYhiQh7GFUC0"
      },
      "source": [
        "Selecting columns with `select`\n",
        "========================================================"
      ]
    },
    {
      "cell_type": "code",
      "execution_count": 5,
      "metadata": {
        "id": "gB1HiEh2FUC0"
      },
      "outputs": [],
      "source": [
        "# Syntax: select(df, col1, col2, ...)\n",
        "new_df <- select(surveys, plot_id, species_id, weight, year)"
      ]
    },
    {
      "cell_type": "markdown",
      "source": [
        "No output?  $\\rightarrow$ This is normal.  \n",
        "\n",
        "Use `head` to inspect."
      ],
      "metadata": {
        "id": "hzQpEoYMrxUz"
      }
    },
    {
      "cell_type": "code",
      "execution_count": 6,
      "metadata": {
        "id": "JxDE60hZFUC0",
        "outputId": "0d036fbe-36a7-4cd9-d6d1-2c38edfbe562",
        "colab": {
          "base_uri": "https://localhost:8080/",
          "height": 277
        }
      },
      "outputs": [
        {
          "output_type": "display_data",
          "data": {
            "text/html": [
              "<table class=\"dataframe\">\n",
              "<caption>A data.frame: 6 × 4</caption>\n",
              "<thead>\n",
              "\t<tr><th></th><th scope=col>plot_id</th><th scope=col>species_id</th><th scope=col>weight</th><th scope=col>year</th></tr>\n",
              "\t<tr><th></th><th scope=col>&lt;int&gt;</th><th scope=col>&lt;chr&gt;</th><th scope=col>&lt;int&gt;</th><th scope=col>&lt;int&gt;</th></tr>\n",
              "</thead>\n",
              "<tbody>\n",
              "\t<tr><th scope=row>1</th><td>2</td><td>NL</td><td>NA</td><td>1977</td></tr>\n",
              "\t<tr><th scope=row>2</th><td>2</td><td>NL</td><td>NA</td><td>1977</td></tr>\n",
              "\t<tr><th scope=row>3</th><td>2</td><td>NL</td><td>NA</td><td>1977</td></tr>\n",
              "\t<tr><th scope=row>4</th><td>2</td><td>NL</td><td>NA</td><td>1977</td></tr>\n",
              "\t<tr><th scope=row>5</th><td>2</td><td>NL</td><td>NA</td><td>1977</td></tr>\n",
              "\t<tr><th scope=row>6</th><td>2</td><td>NL</td><td>NA</td><td>1977</td></tr>\n",
              "</tbody>\n",
              "</table>\n"
            ],
            "text/markdown": "\nA data.frame: 6 × 4\n\n| <!--/--> | plot_id &lt;int&gt; | species_id &lt;chr&gt; | weight &lt;int&gt; | year &lt;int&gt; |\n|---|---|---|---|---|\n| 1 | 2 | NL | NA | 1977 |\n| 2 | 2 | NL | NA | 1977 |\n| 3 | 2 | NL | NA | 1977 |\n| 4 | 2 | NL | NA | 1977 |\n| 5 | 2 | NL | NA | 1977 |\n| 6 | 2 | NL | NA | 1977 |\n\n",
            "text/latex": "A data.frame: 6 × 4\n\\begin{tabular}{r|llll}\n  & plot\\_id & species\\_id & weight & year\\\\\n  & <int> & <chr> & <int> & <int>\\\\\n\\hline\n\t1 & 2 & NL & NA & 1977\\\\\n\t2 & 2 & NL & NA & 1977\\\\\n\t3 & 2 & NL & NA & 1977\\\\\n\t4 & 2 & NL & NA & 1977\\\\\n\t5 & 2 & NL & NA & 1977\\\\\n\t6 & 2 & NL & NA & 1977\\\\\n\\end{tabular}\n",
            "text/plain": [
              "  plot_id species_id weight year\n",
              "1 2       NL         NA     1977\n",
              "2 2       NL         NA     1977\n",
              "3 2       NL         NA     1977\n",
              "4 2       NL         NA     1977\n",
              "5 2       NL         NA     1977\n",
              "6 2       NL         NA     1977"
            ]
          },
          "metadata": {}
        }
      ],
      "source": [
        "# Good habit: Always inspect the result with head\n",
        "head(new_df)"
      ]
    },
    {
      "cell_type": "markdown",
      "metadata": {
        "id": "Ov6TxYnhFUC0"
      },
      "source": [
        "### Filtering rows with `filter`\n"
      ]
    },
    {
      "cell_type": "code",
      "execution_count": 7,
      "metadata": {
        "id": "ljPRBTM7FUC0",
        "outputId": "0b2664c2-c017-4255-cf8f-a786e613e53c",
        "colab": {
          "base_uri": "https://localhost:8080/",
          "height": 277
        }
      },
      "outputs": [
        {
          "output_type": "display_data",
          "data": {
            "text/html": [
              "<table class=\"dataframe\">\n",
              "<caption>A data.frame: 6 × 13</caption>\n",
              "<thead>\n",
              "\t<tr><th></th><th scope=col>record_id</th><th scope=col>month</th><th scope=col>day</th><th scope=col>year</th><th scope=col>plot_id</th><th scope=col>species_id</th><th scope=col>sex</th><th scope=col>hindfoot_length</th><th scope=col>weight</th><th scope=col>genus</th><th scope=col>species</th><th scope=col>taxa</th><th scope=col>plot_type</th></tr>\n",
              "\t<tr><th></th><th scope=col>&lt;int&gt;</th><th scope=col>&lt;int&gt;</th><th scope=col>&lt;int&gt;</th><th scope=col>&lt;int&gt;</th><th scope=col>&lt;int&gt;</th><th scope=col>&lt;chr&gt;</th><th scope=col>&lt;chr&gt;</th><th scope=col>&lt;int&gt;</th><th scope=col>&lt;int&gt;</th><th scope=col>&lt;chr&gt;</th><th scope=col>&lt;chr&gt;</th><th scope=col>&lt;chr&gt;</th><th scope=col>&lt;chr&gt;</th></tr>\n",
              "</thead>\n",
              "<tbody>\n",
              "\t<tr><th scope=row>1</th><td>22314</td><td> 6</td><td> 7</td><td>1995</td><td>2</td><td>NL</td><td>M</td><td>34</td><td> NA</td><td>Neotoma  </td><td>albigula</td><td>Rodent</td><td>Control</td></tr>\n",
              "\t<tr><th scope=row>2</th><td>22728</td><td> 9</td><td>23</td><td>1995</td><td>2</td><td>NL</td><td>F</td><td>32</td><td>165</td><td>Neotoma  </td><td>albigula</td><td>Rodent</td><td>Control</td></tr>\n",
              "\t<tr><th scope=row>3</th><td>22899</td><td>10</td><td>28</td><td>1995</td><td>2</td><td>NL</td><td>F</td><td>32</td><td>171</td><td>Neotoma  </td><td>albigula</td><td>Rodent</td><td>Control</td></tr>\n",
              "\t<tr><th scope=row>4</th><td>23032</td><td>12</td><td> 2</td><td>1995</td><td>2</td><td>NL</td><td>F</td><td>33</td><td> NA</td><td>Neotoma  </td><td>albigula</td><td>Rodent</td><td>Control</td></tr>\n",
              "\t<tr><th scope=row>5</th><td>22003</td><td> 1</td><td>11</td><td>1995</td><td>2</td><td>DM</td><td>M</td><td>37</td><td> 41</td><td>Dipodomys</td><td>merriami</td><td>Rodent</td><td>Control</td></tr>\n",
              "\t<tr><th scope=row>6</th><td>22042</td><td> 2</td><td> 4</td><td>1995</td><td>2</td><td>DM</td><td>F</td><td>36</td><td> 45</td><td>Dipodomys</td><td>merriami</td><td>Rodent</td><td>Control</td></tr>\n",
              "</tbody>\n",
              "</table>\n"
            ],
            "text/markdown": "\nA data.frame: 6 × 13\n\n| <!--/--> | record_id &lt;int&gt; | month &lt;int&gt; | day &lt;int&gt; | year &lt;int&gt; | plot_id &lt;int&gt; | species_id &lt;chr&gt; | sex &lt;chr&gt; | hindfoot_length &lt;int&gt; | weight &lt;int&gt; | genus &lt;chr&gt; | species &lt;chr&gt; | taxa &lt;chr&gt; | plot_type &lt;chr&gt; |\n|---|---|---|---|---|---|---|---|---|---|---|---|---|---|\n| 1 | 22314 |  6 |  7 | 1995 | 2 | NL | M | 34 |  NA | Neotoma   | albigula | Rodent | Control |\n| 2 | 22728 |  9 | 23 | 1995 | 2 | NL | F | 32 | 165 | Neotoma   | albigula | Rodent | Control |\n| 3 | 22899 | 10 | 28 | 1995 | 2 | NL | F | 32 | 171 | Neotoma   | albigula | Rodent | Control |\n| 4 | 23032 | 12 |  2 | 1995 | 2 | NL | F | 33 |  NA | Neotoma   | albigula | Rodent | Control |\n| 5 | 22003 |  1 | 11 | 1995 | 2 | DM | M | 37 |  41 | Dipodomys | merriami | Rodent | Control |\n| 6 | 22042 |  2 |  4 | 1995 | 2 | DM | F | 36 |  45 | Dipodomys | merriami | Rodent | Control |\n\n",
            "text/latex": "A data.frame: 6 × 13\n\\begin{tabular}{r|lllllllllllll}\n  & record\\_id & month & day & year & plot\\_id & species\\_id & sex & hindfoot\\_length & weight & genus & species & taxa & plot\\_type\\\\\n  & <int> & <int> & <int> & <int> & <int> & <chr> & <chr> & <int> & <int> & <chr> & <chr> & <chr> & <chr>\\\\\n\\hline\n\t1 & 22314 &  6 &  7 & 1995 & 2 & NL & M & 34 &  NA & Neotoma   & albigula & Rodent & Control\\\\\n\t2 & 22728 &  9 & 23 & 1995 & 2 & NL & F & 32 & 165 & Neotoma   & albigula & Rodent & Control\\\\\n\t3 & 22899 & 10 & 28 & 1995 & 2 & NL & F & 32 & 171 & Neotoma   & albigula & Rodent & Control\\\\\n\t4 & 23032 & 12 &  2 & 1995 & 2 & NL & F & 33 &  NA & Neotoma   & albigula & Rodent & Control\\\\\n\t5 & 22003 &  1 & 11 & 1995 & 2 & DM & M & 37 &  41 & Dipodomys & merriami & Rodent & Control\\\\\n\t6 & 22042 &  2 &  4 & 1995 & 2 & DM & F & 36 &  45 & Dipodomys & merriami & Rodent & Control\\\\\n\\end{tabular}\n",
            "text/plain": [
              "  record_id month day year plot_id species_id sex hindfoot_length weight\n",
              "1 22314      6     7  1995 2       NL         M   34               NA   \n",
              "2 22728      9    23  1995 2       NL         F   32              165   \n",
              "3 22899     10    28  1995 2       NL         F   32              171   \n",
              "4 23032     12     2  1995 2       NL         F   33               NA   \n",
              "5 22003      1    11  1995 2       DM         M   37               41   \n",
              "6 22042      2     4  1995 2       DM         F   36               45   \n",
              "  genus     species  taxa   plot_type\n",
              "1 Neotoma   albigula Rodent Control  \n",
              "2 Neotoma   albigula Rodent Control  \n",
              "3 Neotoma   albigula Rodent Control  \n",
              "4 Neotoma   albigula Rodent Control  \n",
              "5 Dipodomys merriami Rodent Control  \n",
              "6 Dipodomys merriami Rodent Control  "
            ]
          },
          "metadata": {}
        }
      ],
      "source": [
        "new_df2 <- filter(surveys, year == 1995)\n",
        "head(new_df2)"
      ]
    },
    {
      "cell_type": "markdown",
      "source": [
        "\n",
        "<font color=\"red\"> <b> Question.</b></font> Why are there columns not selected (last slide) still here? <font size = 1>Answer below.</font>\n",
        "\n",
        "\n",
        "<font color=\"red\"> <b> Tasks.</b></font>\n",
        "\n",
        "1. Edit the filter code to correctly apply both the select and filter,\n",
        "2. Identify the new bug  <font size = 1>Answer below</font>,\n",
        "3. Correct the bug by editing the select code."
      ],
      "metadata": {
        "id": "DdjomtLfsUjr"
      }
    },
    {
      "cell_type": "markdown",
      "source": [
        "<font color=\"orange\">\n",
        "Your answers here\n",
        "</font>"
      ],
      "metadata": {
        "id": "NyT-6oY2sdDa"
      }
    },
    {
      "cell_type": "markdown",
      "metadata": {
        "id": "U6BGHLL4FUC1"
      },
      "source": [
        "Making a new column with `mutate`\n",
        "========================================================"
      ]
    },
    {
      "cell_type": "code",
      "execution_count": 15,
      "metadata": {
        "id": "ue-XsUNOFUC1",
        "outputId": "171a4e43-5cb8-46f1-a5b9-455d4618444c",
        "colab": {
          "base_uri": "https://localhost:8080/",
          "height": 277
        }
      },
      "outputs": [
        {
          "output_type": "display_data",
          "data": {
            "text/html": [
              "<table class=\"dataframe\">\n",
              "<caption>A data.frame: 6 × 5</caption>\n",
              "<thead>\n",
              "\t<tr><th></th><th scope=col>plot_id</th><th scope=col>species_id</th><th scope=col>weight</th><th scope=col>year</th><th scope=col>weight_kg</th></tr>\n",
              "\t<tr><th></th><th scope=col>&lt;int&gt;</th><th scope=col>&lt;chr&gt;</th><th scope=col>&lt;int&gt;</th><th scope=col>&lt;int&gt;</th><th scope=col>&lt;dbl&gt;</th></tr>\n",
              "</thead>\n",
              "<tbody>\n",
              "\t<tr><th scope=row>1</th><td>2</td><td>NL</td><td> NA</td><td>1995</td><td>   NA</td></tr>\n",
              "\t<tr><th scope=row>2</th><td>2</td><td>NL</td><td>165</td><td>1995</td><td>0.165</td></tr>\n",
              "\t<tr><th scope=row>3</th><td>2</td><td>NL</td><td>171</td><td>1995</td><td>0.171</td></tr>\n",
              "\t<tr><th scope=row>4</th><td>2</td><td>NL</td><td> NA</td><td>1995</td><td>   NA</td></tr>\n",
              "\t<tr><th scope=row>5</th><td>2</td><td>DM</td><td> 41</td><td>1995</td><td>0.041</td></tr>\n",
              "\t<tr><th scope=row>6</th><td>2</td><td>DM</td><td> 45</td><td>1995</td><td>0.045</td></tr>\n",
              "</tbody>\n",
              "</table>\n"
            ],
            "text/markdown": "\nA data.frame: 6 × 5\n\n| <!--/--> | plot_id &lt;int&gt; | species_id &lt;chr&gt; | weight &lt;int&gt; | year &lt;int&gt; | weight_kg &lt;dbl&gt; |\n|---|---|---|---|---|---|\n| 1 | 2 | NL |  NA | 1995 |    NA |\n| 2 | 2 | NL | 165 | 1995 | 0.165 |\n| 3 | 2 | NL | 171 | 1995 | 0.171 |\n| 4 | 2 | NL |  NA | 1995 |    NA |\n| 5 | 2 | DM |  41 | 1995 | 0.041 |\n| 6 | 2 | DM |  45 | 1995 | 0.045 |\n\n",
            "text/latex": "A data.frame: 6 × 5\n\\begin{tabular}{r|lllll}\n  & plot\\_id & species\\_id & weight & year & weight\\_kg\\\\\n  & <int> & <chr> & <int> & <int> & <dbl>\\\\\n\\hline\n\t1 & 2 & NL &  NA & 1995 &    NA\\\\\n\t2 & 2 & NL & 165 & 1995 & 0.165\\\\\n\t3 & 2 & NL & 171 & 1995 & 0.171\\\\\n\t4 & 2 & NL &  NA & 1995 &    NA\\\\\n\t5 & 2 & DM &  41 & 1995 & 0.041\\\\\n\t6 & 2 & DM &  45 & 1995 & 0.045\\\\\n\\end{tabular}\n",
            "text/plain": [
              "  plot_id species_id weight year weight_kg\n",
              "1 2       NL          NA    1995    NA    \n",
              "2 2       NL         165    1995 0.165    \n",
              "3 2       NL         171    1995 0.171    \n",
              "4 2       NL          NA    1995    NA    \n",
              "5 2       DM          41    1995 0.041    \n",
              "6 2       DM          45    1995 0.045    "
            ]
          },
          "metadata": {}
        }
      ],
      "source": [
        "new_df <- select(surveys, plot_id, species_id, weight, year)\n",
        "new_df2 <- filter(new_df, year == 1995)\n",
        "new_df3 <- mutate(new_df2, weight_kg = weight / 1000)\n",
        "head(new_df3)"
      ]
    },
    {
      "cell_type": "code",
      "execution_count": 18,
      "metadata": {
        "id": "ugOPhx7pFUC1",
        "outputId": "d23b85f0-d2dc-4c00-da3d-78f751e70792",
        "colab": {
          "base_uri": "https://localhost:8080/",
          "height": 277
        }
      },
      "outputs": [
        {
          "output_type": "display_data",
          "data": {
            "text/html": [
              "<table class=\"dataframe\">\n",
              "<caption>A data.frame: 6 × 4</caption>\n",
              "<thead>\n",
              "\t<tr><th></th><th scope=col>plot_id</th><th scope=col>species_id</th><th scope=col>year</th><th scope=col>weight_kg</th></tr>\n",
              "\t<tr><th></th><th scope=col>&lt;int&gt;</th><th scope=col>&lt;chr&gt;</th><th scope=col>&lt;int&gt;</th><th scope=col>&lt;dbl&gt;</th></tr>\n",
              "</thead>\n",
              "<tbody>\n",
              "\t<tr><th scope=row>1</th><td>2</td><td>NL</td><td>1995</td><td>   NA</td></tr>\n",
              "\t<tr><th scope=row>2</th><td>2</td><td>NL</td><td>1995</td><td>0.165</td></tr>\n",
              "\t<tr><th scope=row>3</th><td>2</td><td>NL</td><td>1995</td><td>0.171</td></tr>\n",
              "\t<tr><th scope=row>4</th><td>2</td><td>NL</td><td>1995</td><td>   NA</td></tr>\n",
              "\t<tr><th scope=row>5</th><td>2</td><td>DM</td><td>1995</td><td>0.041</td></tr>\n",
              "\t<tr><th scope=row>6</th><td>2</td><td>DM</td><td>1995</td><td>0.045</td></tr>\n",
              "</tbody>\n",
              "</table>\n"
            ],
            "text/markdown": "\nA data.frame: 6 × 4\n\n| <!--/--> | plot_id &lt;int&gt; | species_id &lt;chr&gt; | year &lt;int&gt; | weight_kg &lt;dbl&gt; |\n|---|---|---|---|---|\n| 1 | 2 | NL | 1995 |    NA |\n| 2 | 2 | NL | 1995 | 0.165 |\n| 3 | 2 | NL | 1995 | 0.171 |\n| 4 | 2 | NL | 1995 |    NA |\n| 5 | 2 | DM | 1995 | 0.041 |\n| 6 | 2 | DM | 1995 | 0.045 |\n\n",
            "text/latex": "A data.frame: 6 × 4\n\\begin{tabular}{r|llll}\n  & plot\\_id & species\\_id & year & weight\\_kg\\\\\n  & <int> & <chr> & <int> & <dbl>\\\\\n\\hline\n\t1 & 2 & NL & 1995 &    NA\\\\\n\t2 & 2 & NL & 1995 & 0.165\\\\\n\t3 & 2 & NL & 1995 & 0.171\\\\\n\t4 & 2 & NL & 1995 &    NA\\\\\n\t5 & 2 & DM & 1995 & 0.041\\\\\n\t6 & 2 & DM & 1995 & 0.045\\\\\n\\end{tabular}\n",
            "text/plain": [
              "  plot_id species_id year weight_kg\n",
              "1 2       NL         1995    NA    \n",
              "2 2       NL         1995 0.165    \n",
              "3 2       NL         1995 0.171    \n",
              "4 2       NL         1995    NA    \n",
              "5 2       DM         1995 0.041    \n",
              "6 2       DM         1995 0.045    "
            ]
          },
          "metadata": {}
        }
      ],
      "source": [
        "#Drop old weight column:\n",
        "new_df4 <- select(new_df3, -weight)\n",
        "head(new_df4)"
      ]
    },
    {
      "cell_type": "markdown",
      "metadata": {
        "id": "SeN6o66KFUC1"
      },
      "source": [
        "Motivating pipes\n",
        "========================================================\n",
        "\n",
        "### Imperative pattern - Save, save, save\n",
        "\n",
        "\n",
        "<img width=\"450\" src=\"https://github.com/WSU-DataScience/DSCI_210_R_notebooks/blob/main/img/imperative_pattern.png?raw=1\">\n",
        "\n",
        "- **Problem 1:** Lots of temporary variables\n",
        "- **Problem 2:** Messy and lots of *overhead*\n",
        "    - All the extra *stuff* clouds the meaning/intent of the code"
      ]
    },
    {
      "cell_type": "markdown",
      "metadata": {
        "id": "KT5EvU-QFUC2"
      },
      "source": [
        "### Poor solution - Rewrite to the same data frame"
      ]
    },
    {
      "cell_type": "markdown",
      "metadata": {
        "id": "71CibccjFUC2"
      },
      "source": [
        "```{R}\n",
        "surveys <- select(surveys, plot_id, species_id, weight, year)\n",
        "surveys <- filter(surveys, year == 1995)\n",
        "surveys <- mutate(surveys, weight_kg = weight / 1000)\n",
        "```"
      ]
    },
    {
      "cell_type": "markdown",
      "metadata": {
        "id": "ihz9IiZLFUC2"
      },
      "source": [
        "**Question:**\n",
        "<font color=\"red\"> <b> Question.</b></font> What's the problems with this approach?<font size = 1>Answer below.</font>\n"
      ]
    },
    {
      "cell_type": "markdown",
      "source": [
        "<font color=\"orange\" size=3>\n",
        "You answer here\n",
        "</font>"
      ],
      "metadata": {
        "id": "zF824e5VtnMY"
      }
    },
    {
      "cell_type": "markdown",
      "metadata": {
        "id": "7xUfVDydFUC2"
      },
      "source": [
        "## Use a pipe for cleaner code\n",
        "\n",
        "Pipe pushes the data frame through the first position:\n",
        "\n",
        "<img width=\"350\" src=\"https://github.com/WSU-DataScience/DSCI_210_R_notebooks/blob/main/img/pipe1.png?raw=1\">"
      ]
    },
    {
      "cell_type": "markdown",
      "metadata": {
        "id": "EX3zSOXVFUC2"
      },
      "source": [
        "### Imagine an invisible data frame in the first spot...\n",
        "\n",
        "Important Point - Each data frame is NEW\n",
        "\n",
        "<img width=\"350\" src=\"https://github.com/WSU-DataScience/DSCI_210_R_notebooks/blob/main/img/pipe2.png?raw=1\">"
      ]
    },
    {
      "cell_type": "markdown",
      "metadata": {
        "id": "KMOhX3RGFUC2"
      },
      "source": [
        "### ... but don't write it!"
      ]
    },
    {
      "cell_type": "code",
      "execution_count": 19,
      "metadata": {
        "id": "LYc1pHiiFUC3",
        "outputId": "363d65c9-5174-4620-eca9-7fcc7b441000",
        "colab": {
          "base_uri": "https://localhost:8080/",
          "height": 277
        }
      },
      "outputs": [
        {
          "output_type": "display_data",
          "data": {
            "text/html": [
              "<table class=\"dataframe\">\n",
              "<caption>A data.frame: 6 × 5</caption>\n",
              "<thead>\n",
              "\t<tr><th></th><th scope=col>plot_id</th><th scope=col>species_id</th><th scope=col>weight</th><th scope=col>year</th><th scope=col>weight_kg</th></tr>\n",
              "\t<tr><th></th><th scope=col>&lt;int&gt;</th><th scope=col>&lt;chr&gt;</th><th scope=col>&lt;int&gt;</th><th scope=col>&lt;int&gt;</th><th scope=col>&lt;dbl&gt;</th></tr>\n",
              "</thead>\n",
              "<tbody>\n",
              "\t<tr><th scope=row>1</th><td>2</td><td>NL</td><td> NA</td><td>1995</td><td>   NA</td></tr>\n",
              "\t<tr><th scope=row>2</th><td>2</td><td>NL</td><td>165</td><td>1995</td><td>0.165</td></tr>\n",
              "\t<tr><th scope=row>3</th><td>2</td><td>NL</td><td>171</td><td>1995</td><td>0.171</td></tr>\n",
              "\t<tr><th scope=row>4</th><td>2</td><td>NL</td><td> NA</td><td>1995</td><td>   NA</td></tr>\n",
              "\t<tr><th scope=row>5</th><td>2</td><td>DM</td><td> 41</td><td>1995</td><td>0.041</td></tr>\n",
              "\t<tr><th scope=row>6</th><td>2</td><td>DM</td><td> 45</td><td>1995</td><td>0.045</td></tr>\n",
              "</tbody>\n",
              "</table>\n"
            ],
            "text/markdown": "\nA data.frame: 6 × 5\n\n| <!--/--> | plot_id &lt;int&gt; | species_id &lt;chr&gt; | weight &lt;int&gt; | year &lt;int&gt; | weight_kg &lt;dbl&gt; |\n|---|---|---|---|---|---|\n| 1 | 2 | NL |  NA | 1995 |    NA |\n| 2 | 2 | NL | 165 | 1995 | 0.165 |\n| 3 | 2 | NL | 171 | 1995 | 0.171 |\n| 4 | 2 | NL |  NA | 1995 |    NA |\n| 5 | 2 | DM |  41 | 1995 | 0.041 |\n| 6 | 2 | DM |  45 | 1995 | 0.045 |\n\n",
            "text/latex": "A data.frame: 6 × 5\n\\begin{tabular}{r|lllll}\n  & plot\\_id & species\\_id & weight & year & weight\\_kg\\\\\n  & <int> & <chr> & <int> & <int> & <dbl>\\\\\n\\hline\n\t1 & 2 & NL &  NA & 1995 &    NA\\\\\n\t2 & 2 & NL & 165 & 1995 & 0.165\\\\\n\t3 & 2 & NL & 171 & 1995 & 0.171\\\\\n\t4 & 2 & NL &  NA & 1995 &    NA\\\\\n\t5 & 2 & DM &  41 & 1995 & 0.041\\\\\n\t6 & 2 & DM &  45 & 1995 & 0.045\\\\\n\\end{tabular}\n",
            "text/plain": [
              "  plot_id species_id weight year weight_kg\n",
              "1 2       NL          NA    1995    NA    \n",
              "2 2       NL         165    1995 0.165    \n",
              "3 2       NL         171    1995 0.171    \n",
              "4 2       NL          NA    1995    NA    \n",
              "5 2       DM          41    1995 0.041    \n",
              "6 2       DM          45    1995 0.045    "
            ]
          },
          "metadata": {}
        }
      ],
      "source": [
        "surveys  %>%\n",
        "  select(plot_id, species_id, weight, year) %>%\n",
        "  filter(year == 1995) %>%\n",
        "  mutate(weight_kg = weight / 1000) %>%\n",
        "  head()"
      ]
    },
    {
      "cell_type": "markdown",
      "metadata": {
        "id": "jxw7TlmbFUC3"
      },
      "source": [
        "### My preferred code format"
      ]
    },
    {
      "cell_type": "code",
      "execution_count": 8,
      "metadata": {
        "id": "E5QdmjG5FUC3",
        "outputId": "7d9be6ce-bb3f-423c-cff5-11fa2dad3f25",
        "colab": {
          "base_uri": "https://localhost:8080/",
          "height": 277
        }
      },
      "outputs": [
        {
          "output_type": "display_data",
          "data": {
            "text/html": [
              "<table class=\"dataframe\">\n",
              "<caption>A data.frame: 6 × 5</caption>\n",
              "<thead>\n",
              "\t<tr><th></th><th scope=col>plot_id</th><th scope=col>species_id</th><th scope=col>weight</th><th scope=col>year</th><th scope=col>weight_kg</th></tr>\n",
              "\t<tr><th></th><th scope=col>&lt;int&gt;</th><th scope=col>&lt;chr&gt;</th><th scope=col>&lt;int&gt;</th><th scope=col>&lt;int&gt;</th><th scope=col>&lt;dbl&gt;</th></tr>\n",
              "</thead>\n",
              "<tbody>\n",
              "\t<tr><th scope=row>1</th><td>2</td><td>NL</td><td> NA</td><td>1995</td><td>   NA</td></tr>\n",
              "\t<tr><th scope=row>2</th><td>2</td><td>NL</td><td>165</td><td>1995</td><td>0.165</td></tr>\n",
              "\t<tr><th scope=row>3</th><td>2</td><td>NL</td><td>171</td><td>1995</td><td>0.171</td></tr>\n",
              "\t<tr><th scope=row>4</th><td>2</td><td>NL</td><td> NA</td><td>1995</td><td>   NA</td></tr>\n",
              "\t<tr><th scope=row>5</th><td>2</td><td>DM</td><td> 41</td><td>1995</td><td>0.041</td></tr>\n",
              "\t<tr><th scope=row>6</th><td>2</td><td>DM</td><td> 45</td><td>1995</td><td>0.045</td></tr>\n",
              "</tbody>\n",
              "</table>\n"
            ],
            "text/markdown": "\nA data.frame: 6 × 5\n\n| <!--/--> | plot_id &lt;int&gt; | species_id &lt;chr&gt; | weight &lt;int&gt; | year &lt;int&gt; | weight_kg &lt;dbl&gt; |\n|---|---|---|---|---|---|\n| 1 | 2 | NL |  NA | 1995 |    NA |\n| 2 | 2 | NL | 165 | 1995 | 0.165 |\n| 3 | 2 | NL | 171 | 1995 | 0.171 |\n| 4 | 2 | NL |  NA | 1995 |    NA |\n| 5 | 2 | DM |  41 | 1995 | 0.041 |\n| 6 | 2 | DM |  45 | 1995 | 0.045 |\n\n",
            "text/latex": "A data.frame: 6 × 5\n\\begin{tabular}{r|lllll}\n  & plot\\_id & species\\_id & weight & year & weight\\_kg\\\\\n  & <int> & <chr> & <int> & <int> & <dbl>\\\\\n\\hline\n\t1 & 2 & NL &  NA & 1995 &    NA\\\\\n\t2 & 2 & NL & 165 & 1995 & 0.165\\\\\n\t3 & 2 & NL & 171 & 1995 & 0.171\\\\\n\t4 & 2 & NL &  NA & 1995 &    NA\\\\\n\t5 & 2 & DM &  41 & 1995 & 0.041\\\\\n\t6 & 2 & DM &  45 & 1995 & 0.045\\\\\n\\end{tabular}\n",
            "text/plain": [
              "  plot_id species_id weight year weight_kg\n",
              "1 2       NL          NA    1995    NA    \n",
              "2 2       NL         165    1995 0.165    \n",
              "3 2       NL         171    1995 0.171    \n",
              "4 2       NL          NA    1995    NA    \n",
              "5 2       DM          41    1995 0.041    \n",
              "6 2       DM          45    1995 0.045    "
            ]
          },
          "metadata": {}
        }
      ],
      "source": [
        "(surveys\n",
        " %>% select(plot_id, species_id, weight, year)\n",
        " %>% filter(year == 1995)\n",
        " %>% mutate(weight_kg = weight / 1000)\n",
        " %>% head()\n",
        " ) -> survey_clean\n",
        "\n",
        " survey_clean"
      ]
    },
    {
      "cell_type": "markdown",
      "metadata": {
        "id": "4LrwXqsoFUC3"
      },
      "source": [
        "## <font color=\"red\"> Exercise 2 </font>\n",
        "\n",
        "Write a pipe to perform the following tasks.\n",
        "\n",
        "1. Select the `weight`, `sex` and `gender` columns,\n",
        "2. Filter out the rows that are `NA` (see [answer 1](https://stackoverflow.com/questions/28857653/removing-na-observations-with-dplyrfilter)), and\n",
        "3. Compute the a weight of all species in lbs."
      ]
    },
    {
      "cell_type": "code",
      "execution_count": null,
      "metadata": {
        "id": "E5B7iZqxFUC3"
      },
      "outputs": [],
      "source": [
        "# Your piped process here"
      ]
    },
    {
      "cell_type": "markdown",
      "source": [
        "## Deliverables\n",
        "\n",
        "Please submit the following on D2L.\n",
        "\n",
        "1. A WORD document containing screenshots of your solutions (code + output), and\n",
        "2. A share link to your notebook.  You will need to save a copy of your notebook and change the share permissions to allow anyone with the link access."
      ],
      "metadata": {
        "id": "YcnK4AkWvyFr"
      }
    },
    {
      "cell_type": "markdown",
      "metadata": {
        "id": "wcwmsUHBFUC4"
      },
      "source": [
        "# Part 2 - Converting code and types of errors."
      ]
    },
    {
      "cell_type": "markdown",
      "metadata": {
        "id": "zyWiDQWyFUC4"
      },
      "source": [
        "### You've seen piping before...\n",
        "\n",
        "<img width=\"850\" src=\"https://github.com/WSU-DataScience/DSCI_210_R_notebooks/raw/main/img/openrefine_piping.PNG\">"
      ]
    },
    {
      "cell_type": "markdown",
      "metadata": {
        "id": "1fzdAFZkFUC4"
      },
      "source": [
        "### Saving the result of a piped operation"
      ]
    },
    {
      "cell_type": "code",
      "execution_count": null,
      "metadata": {
        "id": "_WgiJaj0FUC4",
        "outputId": "e51d08bf-0e25-4681-d598-5c0f515c2062"
      },
      "outputs": [
        {
          "data": {
            "text/html": [
              "<table>\n",
              "<thead><tr><th scope=col>species_id</th><th scope=col>sex</th><th scope=col>weight</th></tr></thead>\n",
              "<tbody>\n",
              "\t<tr><td>PF</td><td>F </td><td>4 </td></tr>\n",
              "\t<tr><td>PF</td><td>F </td><td>4 </td></tr>\n",
              "\t<tr><td>PF</td><td>M </td><td>4 </td></tr>\n",
              "\t<tr><td>RM</td><td>F </td><td>4 </td></tr>\n",
              "\t<tr><td>RM</td><td>M </td><td>4 </td></tr>\n",
              "\t<tr><td>PF</td><td>  </td><td>4 </td></tr>\n",
              "</tbody>\n",
              "</table>\n"
            ],
            "text/latex": [
              "\\begin{tabular}{r|lll}\n",
              " species\\_id & sex & weight\\\\\n",
              "\\hline\n",
              "\t PF & F  & 4 \\\\\n",
              "\t PF & F  & 4 \\\\\n",
              "\t PF & M  & 4 \\\\\n",
              "\t RM & F  & 4 \\\\\n",
              "\t RM & M  & 4 \\\\\n",
              "\t PF &    & 4 \\\\\n",
              "\\end{tabular}\n"
            ],
            "text/markdown": [
              "\n",
              "species_id | sex | weight | \n",
              "|---|---|---|---|---|---|\n",
              "| PF | F  | 4  | \n",
              "| PF | F  | 4  | \n",
              "| PF | M  | 4  | \n",
              "| RM | F  | 4  | \n",
              "| RM | M  | 4  | \n",
              "| PF |    | 4  | \n",
              "\n",
              "\n"
            ],
            "text/plain": [
              "  species_id sex weight\n",
              "1 PF         F   4     \n",
              "2 PF         F   4     \n",
              "3 PF         M   4     \n",
              "4 RM         F   4     \n",
              "5 RM         M   4     \n",
              "6 PF             4     "
            ]
          },
          "metadata": {},
          "output_type": "display_data"
        }
      ],
      "source": [
        "surveys_small <- surveys %>%\n",
        "  filter(weight < 5) %>%\n",
        "  select(species_id, sex, weight)\n",
        "\n",
        "head(surveys_small)"
      ]
    },
    {
      "cell_type": "markdown",
      "metadata": {
        "id": "UR5VR164FUC4"
      },
      "source": [
        "### The advantages of piping\n",
        "\n",
        "* reads left-to-right\n",
        "* reads top-to-bottom\n",
        "* Focuses on verbs\n",
        "* Removes pointless nouns"
      ]
    },
    {
      "cell_type": "markdown",
      "metadata": {
        "id": "cVGzKk5-FUC4"
      },
      "source": [
        "### Compare\n",
        "\n",
        "* Imperative\n",
        "* Functional\n",
        "* Piping"
      ]
    },
    {
      "cell_type": "markdown",
      "metadata": {
        "id": "35vV2LuVFUC4"
      },
      "source": [
        "### Imperative:"
      ]
    },
    {
      "cell_type": "code",
      "execution_count": null,
      "metadata": {
        "id": "VZmyiNi4FUC4",
        "outputId": "e0c67591-cf9d-482b-e40d-480e39eb2134"
      },
      "outputs": [
        {
          "data": {
            "text/html": [
              "'3.14'"
            ],
            "text/latex": [
              "'3.14'"
            ],
            "text/markdown": [
              "'3.14'"
            ],
            "text/plain": [
              "[1] \"3.14\""
            ]
          },
          "metadata": {},
          "output_type": "display_data"
        }
      ],
      "source": [
        "x <- pi\n",
        "r_x <- round(x, 2)\n",
        "c_x <- as.character(r_x)\n",
        "c_x"
      ]
    },
    {
      "cell_type": "markdown",
      "metadata": {
        "id": "hX6tRCBoFUC4"
      },
      "source": [
        "### Functional:"
      ]
    },
    {
      "cell_type": "code",
      "execution_count": null,
      "metadata": {
        "id": "ted6BD7EFUC5",
        "outputId": "812ab53d-f120-4119-af63-28278d147a2c"
      },
      "outputs": [
        {
          "data": {
            "text/html": [
              "'3.14'"
            ],
            "text/latex": [
              "'3.14'"
            ],
            "text/markdown": [
              "'3.14'"
            ],
            "text/plain": [
              "[1] \"3.14\""
            ]
          },
          "metadata": {},
          "output_type": "display_data"
        }
      ],
      "source": [
        "as.character(round(pi, 2))"
      ]
    },
    {
      "cell_type": "markdown",
      "metadata": {
        "id": "8UpD5jIQFUC5"
      },
      "source": [
        "### Piping:"
      ]
    },
    {
      "cell_type": "code",
      "execution_count": null,
      "metadata": {
        "id": "bL122RizFUC5",
        "outputId": "3fbde8bb-aca4-4a58-c9ba-93089193396f"
      },
      "outputs": [
        {
          "data": {
            "text/html": [
              "'3.14'"
            ],
            "text/latex": [
              "'3.14'"
            ],
            "text/markdown": [
              "'3.14'"
            ],
            "text/plain": [
              "[1] \"3.14\""
            ]
          },
          "metadata": {},
          "output_type": "display_data"
        }
      ],
      "source": [
        "pi %>%\n",
        "  round(2) %>%\n",
        "  as.character"
      ]
    },
    {
      "cell_type": "markdown",
      "metadata": {
        "id": "KEkacCoxFUC5"
      },
      "source": [
        "## Example 1 - Converting to pipes"
      ]
    },
    {
      "cell_type": "code",
      "execution_count": null,
      "metadata": {
        "id": "yoAcWiszFUC5",
        "outputId": "198dcadf-4bca-401a-86f7-dcb1916b1669"
      },
      "outputs": [
        {
          "data": {
            "text/html": [
              "<table>\n",
              "<thead><tr><th scope=col>species_id</th><th scope=col>sex</th><th scope=col>weight</th></tr></thead>\n",
              "<tbody>\n",
              "\t<tr><td>PF</td><td>F </td><td>4 </td></tr>\n",
              "\t<tr><td>PF</td><td>F </td><td>4 </td></tr>\n",
              "\t<tr><td>PF</td><td>M </td><td>4 </td></tr>\n",
              "\t<tr><td>RM</td><td>F </td><td>4 </td></tr>\n",
              "\t<tr><td>RM</td><td>M </td><td>4 </td></tr>\n",
              "\t<tr><td>PF</td><td>  </td><td>4 </td></tr>\n",
              "</tbody>\n",
              "</table>\n"
            ],
            "text/latex": [
              "\\begin{tabular}{r|lll}\n",
              " species\\_id & sex & weight\\\\\n",
              "\\hline\n",
              "\t PF & F  & 4 \\\\\n",
              "\t PF & F  & 4 \\\\\n",
              "\t PF & M  & 4 \\\\\n",
              "\t RM & F  & 4 \\\\\n",
              "\t RM & M  & 4 \\\\\n",
              "\t PF &    & 4 \\\\\n",
              "\\end{tabular}\n"
            ],
            "text/markdown": [
              "\n",
              "species_id | sex | weight | \n",
              "|---|---|---|---|---|---|\n",
              "| PF | F  | 4  | \n",
              "| PF | F  | 4  | \n",
              "| PF | M  | 4  | \n",
              "| RM | F  | 4  | \n",
              "| RM | M  | 4  | \n",
              "| PF |    | 4  | \n",
              "\n",
              "\n"
            ],
            "text/plain": [
              "  species_id sex weight\n",
              "1 PF         F   4     \n",
              "2 PF         F   4     \n",
              "3 PF         M   4     \n",
              "4 RM         F   4     \n",
              "5 RM         M   4     \n",
              "6 PF             4     "
            ]
          },
          "metadata": {},
          "output_type": "display_data"
        }
      ],
      "source": [
        "surveys_small <- filter(surveys, weight < 5)\n",
        "survey_small_id_sex_wgt <- select(surveys_small, species_id, sex, weight)\n",
        "head(survey_small_id_sex_wgt)"
      ]
    },
    {
      "cell_type": "code",
      "execution_count": null,
      "metadata": {
        "id": "BST41LTRFUC6"
      },
      "outputs": [],
      "source": [
        "# Convert to piped code"
      ]
    },
    {
      "cell_type": "markdown",
      "metadata": {
        "id": "33SF41pyFUC6"
      },
      "source": [
        "## Example 2 - Converting to imperative"
      ]
    },
    {
      "cell_type": "code",
      "execution_count": null,
      "metadata": {
        "id": "uHZN8eC_FUC6",
        "outputId": "1c8ddf1c-5b72-4bd8-969d-60647c94bc72"
      },
      "outputs": [
        {
          "data": {
            "text/html": [
              "<table>\n",
              "<thead><tr><th scope=col>species_id</th><th scope=col>sex</th><th scope=col>weight</th></tr></thead>\n",
              "<tbody>\n",
              "\t<tr><td>NL</td><td>M </td><td>NA</td></tr>\n",
              "\t<tr><td>NL</td><td>M </td><td>NA</td></tr>\n",
              "\t<tr><td>NL</td><td>  </td><td>NA</td></tr>\n",
              "\t<tr><td>NL</td><td>  </td><td>NA</td></tr>\n",
              "\t<tr><td>NL</td><td>  </td><td>NA</td></tr>\n",
              "\t<tr><td>NL</td><td>  </td><td>NA</td></tr>\n",
              "</tbody>\n",
              "</table>\n"
            ],
            "text/latex": [
              "\\begin{tabular}{r|lll}\n",
              " species\\_id & sex & weight\\\\\n",
              "\\hline\n",
              "\t NL & M  & NA\\\\\n",
              "\t NL & M  & NA\\\\\n",
              "\t NL &    & NA\\\\\n",
              "\t NL &    & NA\\\\\n",
              "\t NL &    & NA\\\\\n",
              "\t NL &    & NA\\\\\n",
              "\\end{tabular}\n"
            ],
            "text/markdown": [
              "\n",
              "species_id | sex | weight | \n",
              "|---|---|---|---|---|---|\n",
              "| NL | M  | NA | \n",
              "| NL | M  | NA | \n",
              "| NL |    | NA | \n",
              "| NL |    | NA | \n",
              "| NL |    | NA | \n",
              "| NL |    | NA | \n",
              "\n",
              "\n"
            ],
            "text/plain": [
              "  species_id sex weight\n",
              "1 NL         M   NA    \n",
              "2 NL         M   NA    \n",
              "3 NL             NA    \n",
              "4 NL             NA    \n",
              "5 NL             NA    \n",
              "6 NL             NA    "
            ]
          },
          "metadata": {},
          "output_type": "display_data"
        }
      ],
      "source": [
        "surveys_small <- surveys %>%\n",
        "  filter(species_id == 'NL') %>%\n",
        "  select(species_id, sex, weight)\n",
        "\n",
        "head(surveys_small)"
      ]
    },
    {
      "cell_type": "code",
      "execution_count": null,
      "metadata": {
        "id": "vGZSzDRQFUC6"
      },
      "outputs": [],
      "source": [
        "# Convert to imperative"
      ]
    },
    {
      "cell_type": "markdown",
      "metadata": {
        "id": "Pxk1nfDiFUC6"
      },
      "source": [
        "## Example 3 - Converting to functional"
      ]
    },
    {
      "cell_type": "code",
      "execution_count": null,
      "metadata": {
        "id": "9goIT3ZCFUC6",
        "outputId": "1bc4135b-611d-4ca7-fde0-06c48d5943a8"
      },
      "outputs": [
        {
          "data": {
            "text/html": [
              "<table>\n",
              "<thead><tr><th scope=col>species_id</th><th scope=col>sex</th><th scope=col>weight</th></tr></thead>\n",
              "<tbody>\n",
              "\t<tr><td>PF</td><td>F </td><td>4 </td></tr>\n",
              "\t<tr><td>PF</td><td>F </td><td>4 </td></tr>\n",
              "\t<tr><td>PF</td><td>M </td><td>4 </td></tr>\n",
              "\t<tr><td>RM</td><td>F </td><td>4 </td></tr>\n",
              "\t<tr><td>RM</td><td>M </td><td>4 </td></tr>\n",
              "\t<tr><td>PF</td><td>  </td><td>4 </td></tr>\n",
              "</tbody>\n",
              "</table>\n"
            ],
            "text/latex": [
              "\\begin{tabular}{r|lll}\n",
              " species\\_id & sex & weight\\\\\n",
              "\\hline\n",
              "\t PF & F  & 4 \\\\\n",
              "\t PF & F  & 4 \\\\\n",
              "\t PF & M  & 4 \\\\\n",
              "\t RM & F  & 4 \\\\\n",
              "\t RM & M  & 4 \\\\\n",
              "\t PF &    & 4 \\\\\n",
              "\\end{tabular}\n"
            ],
            "text/markdown": [
              "\n",
              "species_id | sex | weight | \n",
              "|---|---|---|---|---|---|\n",
              "| PF | F  | 4  | \n",
              "| PF | F  | 4  | \n",
              "| PF | M  | 4  | \n",
              "| RM | F  | 4  | \n",
              "| RM | M  | 4  | \n",
              "| PF |    | 4  | \n",
              "\n",
              "\n"
            ],
            "text/plain": [
              "  species_id sex weight\n",
              "1 PF         F   4     \n",
              "2 PF         F   4     \n",
              "3 PF         M   4     \n",
              "4 RM         F   4     \n",
              "5 RM         M   4     \n",
              "6 PF             4     "
            ]
          },
          "metadata": {},
          "output_type": "display_data"
        }
      ],
      "source": [
        "surveys_small <- surveys %>%\n",
        "  filter(weight < 5) %>%\n",
        "  select(species_id, sex, weight)\n",
        "\n",
        "head(surveys_small)"
      ]
    },
    {
      "cell_type": "code",
      "execution_count": null,
      "metadata": {
        "id": "sryDJzzKFUC6"
      },
      "outputs": [],
      "source": [
        "# Convert to imperative"
      ]
    },
    {
      "cell_type": "markdown",
      "metadata": {
        "id": "MNU8aWwRFUC6"
      },
      "source": [
        "## <font color=\"red\"> Exercise 2 </font>\n",
        "\n",
        "Perform each of the following code conversions."
      ]
    },
    {
      "cell_type": "code",
      "execution_count": null,
      "metadata": {
        "id": "wyR1yjLiFUC6",
        "outputId": "4ae38423-1187-471f-ca6a-ce511ca004a8"
      },
      "outputs": [
        {
          "data": {
            "text/html": [
              "<table>\n",
              "<thead><tr><th scope=col>Salesperson</th><th scope=col>Compact</th><th scope=col>Sedan</th><th scope=col>SUV</th><th scope=col>Truck</th></tr></thead>\n",
              "<tbody>\n",
              "\t<tr><td>Ann    </td><td>22     </td><td>18     </td><td>15     </td><td>12     </td></tr>\n",
              "\t<tr><td>Bob    </td><td>19     </td><td>12     </td><td>17     </td><td>20     </td></tr>\n",
              "\t<tr><td>Yolanda</td><td>19     </td><td> 8     </td><td>32     </td><td>15     </td></tr>\n",
              "\t<tr><td>Xerxes </td><td>12     </td><td>23     </td><td>18     </td><td> 9     </td></tr>\n",
              "</tbody>\n",
              "</table>\n"
            ],
            "text/latex": [
              "\\begin{tabular}{r|lllll}\n",
              " Salesperson & Compact & Sedan & SUV & Truck\\\\\n",
              "\\hline\n",
              "\t Ann     & 22      & 18      & 15      & 12     \\\\\n",
              "\t Bob     & 19      & 12      & 17      & 20     \\\\\n",
              "\t Yolanda & 19      &  8      & 32      & 15     \\\\\n",
              "\t Xerxes  & 12      & 23      & 18      &  9     \\\\\n",
              "\\end{tabular}\n"
            ],
            "text/markdown": [
              "\n",
              "Salesperson | Compact | Sedan | SUV | Truck | \n",
              "|---|---|---|---|\n",
              "| Ann     | 22      | 18      | 15      | 12      | \n",
              "| Bob     | 19      | 12      | 17      | 20      | \n",
              "| Yolanda | 19      |  8      | 32      | 15      | \n",
              "| Xerxes  | 12      | 23      | 18      |  9      | \n",
              "\n",
              "\n"
            ],
            "text/plain": [
              "  Salesperson Compact Sedan SUV Truck\n",
              "1 Ann         22      18    15  12   \n",
              "2 Bob         19      12    17  20   \n",
              "3 Yolanda     19       8    32  15   \n",
              "4 Xerxes      12      23    18   9   "
            ]
          },
          "metadata": {},
          "output_type": "display_data"
        }
      ],
      "source": [
        "sales <- read.csv('https://github.com/WSU-DataScience/DSCI_210_R_notebooks/raw/main/data/auto_sales.csv')\n",
        "head(sales)"
      ]
    },
    {
      "cell_type": "markdown",
      "metadata": {
        "id": "drYhABD8FUC6"
      },
      "source": [
        "#### <font color=\"red\">TASK 1</font>. Convert the following *piped code* to the *imperative style*"
      ]
    },
    {
      "cell_type": "code",
      "execution_count": null,
      "metadata": {
        "id": "UBo7ZXcYFUC7",
        "outputId": "9b3e6858-e9e4-4efd-fd60-2e634177a9e5"
      },
      "outputs": [
        {
          "data": {
            "text/html": [
              "<table>\n",
              "<thead><tr><th scope=col>Salesperson</th><th scope=col>Compact</th><th scope=col>Sedan</th><th scope=col>Car</th></tr></thead>\n",
              "<tbody>\n",
              "\t<tr><td>Ann    </td><td>22     </td><td>18     </td><td>40     </td></tr>\n",
              "\t<tr><td>Bob    </td><td>19     </td><td>12     </td><td>31     </td></tr>\n",
              "\t<tr><td>Yolanda</td><td>19     </td><td> 8     </td><td>27     </td></tr>\n",
              "\t<tr><td>Xerxes </td><td>12     </td><td>23     </td><td>35     </td></tr>\n",
              "</tbody>\n",
              "</table>\n"
            ],
            "text/latex": [
              "\\begin{tabular}{r|llll}\n",
              " Salesperson & Compact & Sedan & Car\\\\\n",
              "\\hline\n",
              "\t Ann     & 22      & 18      & 40     \\\\\n",
              "\t Bob     & 19      & 12      & 31     \\\\\n",
              "\t Yolanda & 19      &  8      & 27     \\\\\n",
              "\t Xerxes  & 12      & 23      & 35     \\\\\n",
              "\\end{tabular}\n"
            ],
            "text/markdown": [
              "\n",
              "Salesperson | Compact | Sedan | Car | \n",
              "|---|---|---|---|\n",
              "| Ann     | 22      | 18      | 40      | \n",
              "| Bob     | 19      | 12      | 31      | \n",
              "| Yolanda | 19      |  8      | 27      | \n",
              "| Xerxes  | 12      | 23      | 35      | \n",
              "\n",
              "\n"
            ],
            "text/plain": [
              "  Salesperson Compact Sedan Car\n",
              "1 Ann         22      18    40 \n",
              "2 Bob         19      12    31 \n",
              "3 Yolanda     19       8    27 \n",
              "4 Xerxes      12      23    35 "
            ]
          },
          "metadata": {},
          "output_type": "display_data"
        }
      ],
      "source": [
        "sales %>%\n",
        "    select(Salesperson, Compact, Sedan) %>%\n",
        "    mutate(Car = Compact + Sedan)"
      ]
    },
    {
      "cell_type": "code",
      "execution_count": null,
      "metadata": {
        "id": "cFvvJFhNFUC7"
      },
      "outputs": [],
      "source": [
        "# Your code here"
      ]
    },
    {
      "cell_type": "markdown",
      "metadata": {
        "id": "aFYX01PtFUC7"
      },
      "source": [
        "#### <font color=\"red\">TASK 2</font>. Convert the following *imperative code* to the *piped style*"
      ]
    },
    {
      "cell_type": "code",
      "execution_count": null,
      "metadata": {
        "id": "pUdbGQhzFUC7",
        "outputId": "1e87a071-c3db-4fa8-d9df-984c9ebb5141"
      },
      "outputs": [
        {
          "data": {
            "text/html": [
              "<table>\n",
              "<thead><tr><th scope=col>Salesperson</th><th scope=col>Car</th><th scope=col>Utility</th></tr></thead>\n",
              "<tbody>\n",
              "\t<tr><td>Ann    </td><td>40     </td><td>27     </td></tr>\n",
              "\t<tr><td>Bob    </td><td>31     </td><td>37     </td></tr>\n",
              "\t<tr><td>Yolanda</td><td>27     </td><td>47     </td></tr>\n",
              "\t<tr><td>Xerxes </td><td>35     </td><td>27     </td></tr>\n",
              "</tbody>\n",
              "</table>\n"
            ],
            "text/latex": [
              "\\begin{tabular}{r|lll}\n",
              " Salesperson & Car & Utility\\\\\n",
              "\\hline\n",
              "\t Ann     & 40      & 27     \\\\\n",
              "\t Bob     & 31      & 37     \\\\\n",
              "\t Yolanda & 27      & 47     \\\\\n",
              "\t Xerxes  & 35      & 27     \\\\\n",
              "\\end{tabular}\n"
            ],
            "text/markdown": [
              "\n",
              "Salesperson | Car | Utility | \n",
              "|---|---|---|---|\n",
              "| Ann     | 40      | 27      | \n",
              "| Bob     | 31      | 37      | \n",
              "| Yolanda | 27      | 47      | \n",
              "| Xerxes  | 35      | 27      | \n",
              "\n",
              "\n"
            ],
            "text/plain": [
              "  Salesperson Car Utility\n",
              "1 Ann         40  27     \n",
              "2 Bob         31  37     \n",
              "3 Yolanda     27  47     \n",
              "4 Xerxes      35  27     "
            ]
          },
          "metadata": {},
          "output_type": "display_data"
        }
      ],
      "source": [
        "df2 <- mutate(sales, Car = Compact + Sedan)\n",
        "df3 <- mutate(df2, Utility = SUV + Truck)\n",
        "df4 <- select(df3, Salesperson, Car, Utility)\n",
        "head(df4)"
      ]
    },
    {
      "cell_type": "code",
      "execution_count": null,
      "metadata": {
        "id": "qC4dYZ6qFUC7"
      },
      "outputs": [],
      "source": [
        "# Your code here"
      ]
    },
    {
      "cell_type": "markdown",
      "metadata": {
        "id": "XuDJcDmrFUC7"
      },
      "source": [
        "Types of programming errors\n",
        "========================================================\n",
        "\n",
        "* Name errors\n",
        "* Syntax errors\n",
        "* Semantic errors (hardest/worst)"
      ]
    },
    {
      "cell_type": "markdown",
      "metadata": {
        "id": "wZhLxqipFUC7"
      },
      "source": [
        "### Name Errors - Using the wrong name"
      ]
    },
    {
      "cell_type": "code",
      "execution_count": null,
      "metadata": {
        "id": "IF_QEPFpFUC7",
        "outputId": "a636580e-3c3a-400d-c8b2-d32d54ddad97"
      },
      "outputs": [
        {
          "data": {
            "text/html": [
              "<table>\n",
              "<thead><tr><th scope=col>Salesperson</th><th scope=col>Compact</th><th scope=col>Sedan</th><th scope=col>SUV</th><th scope=col>Truck</th></tr></thead>\n",
              "<tbody>\n",
              "\t<tr><td>Ann    </td><td>22     </td><td>18     </td><td>15     </td><td>12     </td></tr>\n",
              "\t<tr><td>Bob    </td><td>19     </td><td>12     </td><td>17     </td><td>20     </td></tr>\n",
              "\t<tr><td>Yolanda</td><td>19     </td><td> 8     </td><td>32     </td><td>15     </td></tr>\n",
              "\t<tr><td>Xerxes </td><td>12     </td><td>23     </td><td>18     </td><td> 9     </td></tr>\n",
              "</tbody>\n",
              "</table>\n"
            ],
            "text/latex": [
              "\\begin{tabular}{r|lllll}\n",
              " Salesperson & Compact & Sedan & SUV & Truck\\\\\n",
              "\\hline\n",
              "\t Ann     & 22      & 18      & 15      & 12     \\\\\n",
              "\t Bob     & 19      & 12      & 17      & 20     \\\\\n",
              "\t Yolanda & 19      &  8      & 32      & 15     \\\\\n",
              "\t Xerxes  & 12      & 23      & 18      &  9     \\\\\n",
              "\\end{tabular}\n"
            ],
            "text/markdown": [
              "\n",
              "Salesperson | Compact | Sedan | SUV | Truck | \n",
              "|---|---|---|---|\n",
              "| Ann     | 22      | 18      | 15      | 12      | \n",
              "| Bob     | 19      | 12      | 17      | 20      | \n",
              "| Yolanda | 19      |  8      | 32      | 15      | \n",
              "| Xerxes  | 12      | 23      | 18      |  9      | \n",
              "\n",
              "\n"
            ],
            "text/plain": [
              "  Salesperson Compact Sedan SUV Truck\n",
              "1 Ann         22      18    15  12   \n",
              "2 Bob         19      12    17  20   \n",
              "3 Yolanda     19       8    32  15   \n",
              "4 Xerxes      12      23    18   9   "
            ]
          },
          "metadata": {},
          "output_type": "display_data"
        }
      ],
      "source": [
        "sales <- read.csv('https://github.com/WSU-DataScience/DSCI_210_R_notebooks/raw/main/data/auto_sales.csv')\n",
        "head(sales)"
      ]
    },
    {
      "cell_type": "markdown",
      "metadata": {
        "id": "GZUdJZzVFUC7"
      },
      "source": [
        "##  Find the name errors"
      ]
    },
    {
      "cell_type": "code",
      "execution_count": null,
      "metadata": {
        "scrolled": true,
        "id": "xKR3bnfjFUC7",
        "outputId": "cfb118df-a576-4bfd-dbd5-ffbf827b52eb"
      },
      "outputs": [
        {
          "ename": "ERROR",
          "evalue": "Error: Can't subset columns that don't exist.\n✖ Column `salesperson` doesn't exist.\n",
          "output_type": "error",
          "traceback": [
            "Error: Can't subset columns that don't exist.\n✖ Column `salesperson` doesn't exist.\nTraceback:\n",
            "1. sales %>% select(salesperson, sedan)",
            "2. withVisible(eval(quote(`_fseq`(`_lhs`)), env, env))",
            "3. eval(quote(`_fseq`(`_lhs`)), env, env)",
            "4. eval(quote(`_fseq`(`_lhs`)), env, env)",
            "5. `_fseq`(`_lhs`)",
            "6. freduce(value, `_function_list`)",
            "7. withVisible(function_list[[k]](value))",
            "8. function_list[[k]](value)",
            "9. select(., salesperson, sedan)",
            "10. select.data.frame(., salesperson, sedan)",
            "11. tidyselect::eval_select(expr(c(...)), .data)",
            "12. eval_select_impl(data, names(data), as_quosure(expr, env), include = include, \n  .     exclude = exclude, strict = strict, name_spec = name_spec, \n  .     allow_rename = allow_rename)",
            "13. with_subscript_errors(vars_select_eval(vars, expr, strict, data = x, \n  .     name_spec = name_spec, uniquely_named = uniquely_named, allow_rename = allow_rename, \n  .     type = type), type = type)",
            "14. tryCatch(instrument_base_errors(expr), vctrs_error_subscript = function(cnd) {\n  .     cnd$subscript_action <- subscript_action(type)\n  .     cnd$subscript_elt <- \"column\"\n  .     cnd_signal(cnd)\n  . })",
            "15. tryCatchList(expr, classes, parentenv, handlers)",
            "16. tryCatchOne(expr, names, parentenv, handlers[[1L]])",
            "17. value[[3L]](cond)",
            "18. cnd_signal(cnd)",
            "19. rlang:::signal_abort(x)"
          ]
        }
      ],
      "source": [
        "sales %>%\n",
        "  select(salesperson, sedan)"
      ]
    },
    {
      "cell_type": "markdown",
      "metadata": {
        "id": "h3ZYZh8SFUC8"
      },
      "source": [
        "### Syntax errors - Incorrect syntax"
      ]
    },
    {
      "cell_type": "code",
      "execution_count": null,
      "metadata": {
        "id": "TQFmEBIiFUC8",
        "outputId": "5fdbe5fd-ada6-440c-f5bc-195ffd8ad8cf"
      },
      "outputs": [
        {
          "ename": "ERROR",
          "evalue": "Error in parse(text = x, srcfile = src): <text>:2:0: unexpected end of input\n1: head(sales\n   ^\n",
          "output_type": "error",
          "traceback": [
            "Error in parse(text = x, srcfile = src): <text>:2:0: unexpected end of input\n1: head(sales\n   ^\nTraceback:\n"
          ]
        }
      ],
      "source": [
        "head(sales"
      ]
    },
    {
      "cell_type": "markdown",
      "metadata": {
        "id": "w4U___ZFFUC8"
      },
      "source": [
        "##  Find the syntax errors"
      ]
    },
    {
      "cell_type": "code",
      "execution_count": null,
      "metadata": {
        "id": "GOvgse02FUC8",
        "outputId": "b013ec06-cf28-41e1-a775-777a753e9edd"
      },
      "outputs": [
        {
          "ename": "ERROR",
          "evalue": "Error in parse(text = x, srcfile = src): <text>:5:10: unexpected symbol\n4:          monthly_suv = SUV/3\n5:          monthly_truck\n            ^\n",
          "output_type": "error",
          "traceback": [
            "Error in parse(text = x, srcfile = src): <text>:5:10: unexpected symbol\n4:          monthly_suv = SUV/3\n5:          monthly_truck\n            ^\nTraceback:\n"
          ]
        }
      ],
      "source": [
        "# Find the syntax error\n",
        "sales %>%\n",
        "  mutate(monthly_sedan = Sedan/3,\n",
        "         monthly_suv = SUV/3\n",
        "         monthly_truck = Truck/3"
      ]
    },
    {
      "cell_type": "markdown",
      "metadata": {
        "id": "TDBMNkbrFUC8"
      },
      "source": [
        "### Semantic Errors - Correct code, wrong meaning"
      ]
    },
    {
      "cell_type": "code",
      "execution_count": null,
      "metadata": {
        "id": "5Z262ZNWFUC8",
        "outputId": "b862d7fe-a638-4173-dbbd-b6eba5d0572c"
      },
      "outputs": [
        {
          "data": {
            "text/html": [
              "<table>\n",
              "<thead><tr><th scope=col>Salesperson</th><th scope=col>Compact</th><th scope=col>Sedan</th><th scope=col>SUV</th><th scope=col>Truck</th><th scope=col>avg_sedan</th></tr></thead>\n",
              "<tbody>\n",
              "\t<tr><td>Ann    </td><td>22     </td><td>18     </td><td>15     </td><td>12     </td><td>12     </td></tr>\n",
              "\t<tr><td>Bob    </td><td>19     </td><td>12     </td><td>17     </td><td>20     </td><td>20     </td></tr>\n",
              "\t<tr><td>Yolanda</td><td>19     </td><td> 8     </td><td>32     </td><td>15     </td><td>15     </td></tr>\n",
              "\t<tr><td>Xerxes </td><td>12     </td><td>23     </td><td>18     </td><td> 9     </td><td> 9     </td></tr>\n",
              "</tbody>\n",
              "</table>\n"
            ],
            "text/latex": [
              "\\begin{tabular}{r|llllll}\n",
              " Salesperson & Compact & Sedan & SUV & Truck & avg\\_sedan\\\\\n",
              "\\hline\n",
              "\t Ann     & 22      & 18      & 15      & 12      & 12     \\\\\n",
              "\t Bob     & 19      & 12      & 17      & 20      & 20     \\\\\n",
              "\t Yolanda & 19      &  8      & 32      & 15      & 15     \\\\\n",
              "\t Xerxes  & 12      & 23      & 18      &  9      &  9     \\\\\n",
              "\\end{tabular}\n"
            ],
            "text/markdown": [
              "\n",
              "Salesperson | Compact | Sedan | SUV | Truck | avg_sedan | \n",
              "|---|---|---|---|\n",
              "| Ann     | 22      | 18      | 15      | 12      | 12      | \n",
              "| Bob     | 19      | 12      | 17      | 20      | 20      | \n",
              "| Yolanda | 19      |  8      | 32      | 15      | 15      | \n",
              "| Xerxes  | 12      | 23      | 18      |  9      |  9      | \n",
              "\n",
              "\n"
            ],
            "text/plain": [
              "  Salesperson Compact Sedan SUV Truck avg_sedan\n",
              "1 Ann         22      18    15  12    12       \n",
              "2 Bob         19      12    17  20    20       \n",
              "3 Yolanda     19       8    32  15    15       \n",
              "4 Xerxes      12      23    18   9     9       "
            ]
          },
          "metadata": {},
          "output_type": "display_data"
        }
      ],
      "source": [
        "# Find the semantic errors\n",
        "sales %>%\n",
        "  group_by(Salesperson) %>%\n",
        "  mutate(avg_sedan = median(Truck))"
      ]
    },
    {
      "cell_type": "markdown",
      "metadata": {
        "id": "4dwSXNz9FUC8"
      },
      "source": [
        "## <font color=\"red\"> Exercise 3 </font>\n",
        "\n",
        "Identify all of the errors and classify each as either a name, syntax, or semantic error."
      ]
    },
    {
      "cell_type": "code",
      "execution_count": null,
      "metadata": {
        "id": "ZxNJGSDFFUC9",
        "outputId": "4b11ba75-d4e2-43b6-cc3f-af28ac8af482"
      },
      "outputs": [
        {
          "ename": "ERROR",
          "evalue": "Error in parse(text = x, srcfile = src): <text>:4:0: unexpected end of input\n2:     mutate(Car = compact + sedan) %>%\n3:     mutate(Utility = SUV * Truck %>%\n  ^\n",
          "output_type": "error",
          "traceback": [
            "Error in parse(text = x, srcfile = src): <text>:4:0: unexpected end of input\n2:     mutate(Car = compact + sedan) %>%\n3:     mutate(Utility = SUV * Truck %>%\n  ^\nTraceback:\n"
          ]
        }
      ],
      "source": [
        "sales %>%\n",
        "    mutate(Car = compact + sedan) %>%\n",
        "    mutate(Utility = SUV * Truck %>%"
      ]
    },
    {
      "cell_type": "markdown",
      "metadata": {
        "id": "zRiVuSk5FUC9"
      },
      "source": [
        "> Your answer here"
      ]
    }
  ],
  "metadata": {
    "kernelspec": {
      "display_name": "R",
      "language": "R",
      "name": "ir"
    },
    "language_info": {
      "codemirror_mode": "r",
      "file_extension": ".r",
      "mimetype": "text/x-r-source",
      "name": "R",
      "pygments_lexer": "r",
      "version": "3.5.1"
    },
    "colab": {
      "provenance": [],
      "include_colab_link": true
    }
  },
  "nbformat": 4,
  "nbformat_minor": 0
}