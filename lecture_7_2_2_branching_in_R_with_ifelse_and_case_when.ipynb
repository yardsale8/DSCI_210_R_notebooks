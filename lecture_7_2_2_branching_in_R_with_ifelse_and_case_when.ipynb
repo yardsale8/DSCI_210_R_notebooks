{
  "cells": [
    {
      "cell_type": "markdown",
      "metadata": {
        "id": "view-in-github",
        "colab_type": "text"
      },
      "source": [
        "<a href=\"https://colab.research.google.com/github/yardsale8/DSCI_210_R_notebooks/blob/main/lecture_7_2_2_branching_in_R_with_ifelse_and_case_when.ipynb\" target=\"_parent\"><img src=\"https://colab.research.google.com/assets/colab-badge.svg\" alt=\"Open In Colab\"/></a>"
      ]
    },
    {
      "cell_type": "code",
      "execution_count": 25,
      "metadata": {
        "id": "DIapfQ-XFUCy"
      },
      "outputs": [],
      "source": [
        "# This loads all of the dplyr functions\n",
        "#must do everytime you start new R session\n",
        "library(tidyverse)"
      ]
    },
    {
      "cell_type": "markdown",
      "metadata": {
        "id": "mEi2tchpFUCw"
      },
      "source": [
        "# Branching in R\n",
        "\n",
        "In this notebook, we will look at functions for branching in `R`.\n",
        "\n",
        "1. Using `ifelse` to perform an `IF ... THEN ... ELSE` operations.\n",
        "2. Using `case_when` to perform `IF ... THEN ... ELSEIF ...` and `IF ... THEN ... ELSEIF ... ELSE` operations.\n",
        "2. Performing a data management process using a pipe."
      ]
    },
    {
      "cell_type": "markdown",
      "metadata": {
        "id": "oI2o9_LyFUCz"
      },
      "source": [
        "## Example - Loading some survey data."
      ]
    },
    {
      "cell_type": "code",
      "execution_count": 7,
      "metadata": {
        "id": "lvKsJgr8FUCz",
        "outputId": "e40e6e20-7435-4437-93fb-b3bb69504424",
        "colab": {
          "base_uri": "https://localhost:8080/",
          "height": 255
        }
      },
      "outputs": [
        {
          "output_type": "display_data",
          "data": {
            "text/html": [
              "<table class=\"dataframe\">\n",
              "<caption>A data.frame: 6 × 13</caption>\n",
              "<thead>\n",
              "\t<tr><th></th><th scope=col>record_id</th><th scope=col>month</th><th scope=col>day</th><th scope=col>year</th><th scope=col>plot_id</th><th scope=col>species_id</th><th scope=col>sex</th><th scope=col>hindfoot_length</th><th scope=col>weight</th><th scope=col>genus</th><th scope=col>species</th><th scope=col>taxa</th><th scope=col>plot_type</th></tr>\n",
              "\t<tr><th></th><th scope=col>&lt;int&gt;</th><th scope=col>&lt;int&gt;</th><th scope=col>&lt;int&gt;</th><th scope=col>&lt;int&gt;</th><th scope=col>&lt;int&gt;</th><th scope=col>&lt;chr&gt;</th><th scope=col>&lt;chr&gt;</th><th scope=col>&lt;int&gt;</th><th scope=col>&lt;int&gt;</th><th scope=col>&lt;chr&gt;</th><th scope=col>&lt;chr&gt;</th><th scope=col>&lt;chr&gt;</th><th scope=col>&lt;chr&gt;</th></tr>\n",
              "</thead>\n",
              "<tbody>\n",
              "\t<tr><th scope=row>1</th><td>  1</td><td> 7</td><td>16</td><td>1977</td><td>2</td><td>NL</td><td>M</td><td>32</td><td>NA</td><td>Neotoma</td><td>albigula</td><td>Rodent</td><td>Control</td></tr>\n",
              "\t<tr><th scope=row>2</th><td> 72</td><td> 8</td><td>19</td><td>1977</td><td>2</td><td>NL</td><td>M</td><td>31</td><td>NA</td><td>Neotoma</td><td>albigula</td><td>Rodent</td><td>Control</td></tr>\n",
              "\t<tr><th scope=row>3</th><td>224</td><td> 9</td><td>13</td><td>1977</td><td>2</td><td>NL</td><td> </td><td>NA</td><td>NA</td><td>Neotoma</td><td>albigula</td><td>Rodent</td><td>Control</td></tr>\n",
              "\t<tr><th scope=row>4</th><td>266</td><td>10</td><td>16</td><td>1977</td><td>2</td><td>NL</td><td> </td><td>NA</td><td>NA</td><td>Neotoma</td><td>albigula</td><td>Rodent</td><td>Control</td></tr>\n",
              "\t<tr><th scope=row>5</th><td>349</td><td>11</td><td>12</td><td>1977</td><td>2</td><td>NL</td><td> </td><td>NA</td><td>NA</td><td>Neotoma</td><td>albigula</td><td>Rodent</td><td>Control</td></tr>\n",
              "\t<tr><th scope=row>6</th><td>363</td><td>11</td><td>12</td><td>1977</td><td>2</td><td>NL</td><td> </td><td>NA</td><td>NA</td><td>Neotoma</td><td>albigula</td><td>Rodent</td><td>Control</td></tr>\n",
              "</tbody>\n",
              "</table>\n"
            ],
            "text/markdown": "\nA data.frame: 6 × 13\n\n| <!--/--> | record_id &lt;int&gt; | month &lt;int&gt; | day &lt;int&gt; | year &lt;int&gt; | plot_id &lt;int&gt; | species_id &lt;chr&gt; | sex &lt;chr&gt; | hindfoot_length &lt;int&gt; | weight &lt;int&gt; | genus &lt;chr&gt; | species &lt;chr&gt; | taxa &lt;chr&gt; | plot_type &lt;chr&gt; |\n|---|---|---|---|---|---|---|---|---|---|---|---|---|---|\n| 1 |   1 |  7 | 16 | 1977 | 2 | NL | M | 32 | NA | Neotoma | albigula | Rodent | Control |\n| 2 |  72 |  8 | 19 | 1977 | 2 | NL | M | 31 | NA | Neotoma | albigula | Rodent | Control |\n| 3 | 224 |  9 | 13 | 1977 | 2 | NL | <!----> | NA | NA | Neotoma | albigula | Rodent | Control |\n| 4 | 266 | 10 | 16 | 1977 | 2 | NL | <!----> | NA | NA | Neotoma | albigula | Rodent | Control |\n| 5 | 349 | 11 | 12 | 1977 | 2 | NL | <!----> | NA | NA | Neotoma | albigula | Rodent | Control |\n| 6 | 363 | 11 | 12 | 1977 | 2 | NL | <!----> | NA | NA | Neotoma | albigula | Rodent | Control |\n\n",
            "text/latex": "A data.frame: 6 × 13\n\\begin{tabular}{r|lllllllllllll}\n  & record\\_id & month & day & year & plot\\_id & species\\_id & sex & hindfoot\\_length & weight & genus & species & taxa & plot\\_type\\\\\n  & <int> & <int> & <int> & <int> & <int> & <chr> & <chr> & <int> & <int> & <chr> & <chr> & <chr> & <chr>\\\\\n\\hline\n\t1 &   1 &  7 & 16 & 1977 & 2 & NL & M & 32 & NA & Neotoma & albigula & Rodent & Control\\\\\n\t2 &  72 &  8 & 19 & 1977 & 2 & NL & M & 31 & NA & Neotoma & albigula & Rodent & Control\\\\\n\t3 & 224 &  9 & 13 & 1977 & 2 & NL &   & NA & NA & Neotoma & albigula & Rodent & Control\\\\\n\t4 & 266 & 10 & 16 & 1977 & 2 & NL &   & NA & NA & Neotoma & albigula & Rodent & Control\\\\\n\t5 & 349 & 11 & 12 & 1977 & 2 & NL &   & NA & NA & Neotoma & albigula & Rodent & Control\\\\\n\t6 & 363 & 11 & 12 & 1977 & 2 & NL &   & NA & NA & Neotoma & albigula & Rodent & Control\\\\\n\\end{tabular}\n",
            "text/plain": [
              "  record_id month day year plot_id species_id sex hindfoot_length weight\n",
              "1   1        7    16  1977 2       NL         M   32              NA    \n",
              "2  72        8    19  1977 2       NL         M   31              NA    \n",
              "3 224        9    13  1977 2       NL             NA              NA    \n",
              "4 266       10    16  1977 2       NL             NA              NA    \n",
              "5 349       11    12  1977 2       NL             NA              NA    \n",
              "6 363       11    12  1977 2       NL             NA              NA    \n",
              "  genus   species  taxa   plot_type\n",
              "1 Neotoma albigula Rodent Control  \n",
              "2 Neotoma albigula Rodent Control  \n",
              "3 Neotoma albigula Rodent Control  \n",
              "4 Neotoma albigula Rodent Control  \n",
              "5 Neotoma albigula Rodent Control  \n",
              "6 Neotoma albigula Rodent Control  "
            ]
          },
          "metadata": {}
        }
      ],
      "source": [
        "surveys <- read.csv('https://github.com/WSU-DataScience/DSCI_210_R_notebooks/raw/main/data/portal_data_joined.csv')\n",
        "head(surveys)"
      ]
    },
    {
      "cell_type": "code",
      "source": [
        "surveys$year %>% unique"
      ],
      "metadata": {
        "colab": {
          "base_uri": "https://localhost:8080/",
          "height": 45
        },
        "id": "JXShnPC2XY2X",
        "outputId": "a57c20a5-bf0a-436f-cab4-5afa8affb063"
      },
      "execution_count": 17,
      "outputs": [
        {
          "output_type": "display_data",
          "data": {
            "text/html": [
              "<style>\n",
              ".list-inline {list-style: none; margin:0; padding: 0}\n",
              ".list-inline>li {display: inline-block}\n",
              ".list-inline>li:not(:last-child)::after {content: \"\\00b7\"; padding: 0 .5ex}\n",
              "</style>\n",
              "<ol class=list-inline><li>1977</li><li>1978</li><li>1979</li><li>1980</li><li>1981</li><li>1982</li><li>1983</li><li>1984</li><li>1985</li><li>1986</li><li>1987</li><li>1988</li><li>1989</li><li>1990</li><li>1991</li><li>1992</li><li>1993</li><li>1994</li><li>1995</li><li>1996</li><li>1997</li><li>1998</li><li>1999</li><li>2000</li><li>2001</li><li>2002</li></ol>\n"
            ],
            "text/markdown": "1. 1977\n2. 1978\n3. 1979\n4. 1980\n5. 1981\n6. 1982\n7. 1983\n8. 1984\n9. 1985\n10. 1986\n11. 1987\n12. 1988\n13. 1989\n14. 1990\n15. 1991\n16. 1992\n17. 1993\n18. 1994\n19. 1995\n20. 1996\n21. 1997\n22. 1998\n23. 1999\n24. 2000\n25. 2001\n26. 2002\n\n\n",
            "text/latex": "\\begin{enumerate*}\n\\item 1977\n\\item 1978\n\\item 1979\n\\item 1980\n\\item 1981\n\\item 1982\n\\item 1983\n\\item 1984\n\\item 1985\n\\item 1986\n\\item 1987\n\\item 1988\n\\item 1989\n\\item 1990\n\\item 1991\n\\item 1992\n\\item 1993\n\\item 1994\n\\item 1995\n\\item 1996\n\\item 1997\n\\item 1998\n\\item 1999\n\\item 2000\n\\item 2001\n\\item 2002\n\\end{enumerate*}\n",
            "text/plain": [
              " [1] 1977 1978 1979 1980 1981 1982 1983 1984 1985 1986 1987 1988 1989 1990 1991\n",
              "[16] 1992 1993 1994 1995 1996 1997 1998 1999 2000 2001 2002"
            ]
          },
          "metadata": {}
        }
      ]
    },
    {
      "cell_type": "markdown",
      "metadata": {
        "id": "qYhiQh7GFUC0"
      },
      "source": [
        "## Topic 1 - Using `ifelse` to perform an `IF ... THEN ... ELSE` operations.\n",
        "\n",
        "**Syntax.**\n",
        "\n",
        "```{R}\n",
        "...\n",
        "%>% mutate(new_col = ifelse(_cond_, _then_, _else_)\n",
        "...\n",
        "```\n"
      ]
    },
    {
      "cell_type": "markdown",
      "source": [
        "#### Example - Recoding the `sex` columns\n",
        "\n",
        "Suppose that we want to make an indicator column for males.\n",
        "\n",
        "**Step 1.** First, we use `unique` to see the unique labels."
      ],
      "metadata": {
        "id": "IPX3KHxWSgas"
      }
    },
    {
      "cell_type": "code",
      "source": [
        "surveys$sex %>% unique"
      ],
      "metadata": {
        "colab": {
          "base_uri": "https://localhost:8080/",
          "height": 31
        },
        "id": "MaNdZpPlSr7S",
        "outputId": "60ae39fe-7aca-4cff-aa02-78782a937eba"
      },
      "execution_count": 8,
      "outputs": [
        {
          "output_type": "display_data",
          "data": {
            "text/html": [
              "<style>\n",
              ".list-inline {list-style: none; margin:0; padding: 0}\n",
              ".list-inline>li {display: inline-block}\n",
              ".list-inline>li:not(:last-child)::after {content: \"\\00b7\"; padding: 0 .5ex}\n",
              "</style>\n",
              "<ol class=list-inline><li>'M'</li><li>''</li><li>'F'</li></ol>\n"
            ],
            "text/markdown": "1. 'M'\n2. ''\n3. 'F'\n\n\n",
            "text/latex": "\\begin{enumerate*}\n\\item 'M'\n\\item ''\n\\item 'F'\n\\end{enumerate*}\n",
            "text/plain": [
              "[1] \"M\" \"\"  \"F\""
            ]
          },
          "metadata": {}
        }
      ]
    },
    {
      "cell_type": "markdown",
      "source": [
        "Now we transform this column using `mutate` and `ifelse`"
      ],
      "metadata": {
        "id": "AKWFvYfETQjf"
      }
    },
    {
      "cell_type": "code",
      "source": [
        "(surveys\n",
        " %>% select(sex) # Temp.  Remember to delete before saving\n",
        " %>% mutate(is_male = ifelse(sex == 'M', 1, 0))\n",
        " %>% head # Temp.  Remember to delete before saving\n",
        ")"
      ],
      "metadata": {
        "colab": {
          "base_uri": "https://localhost:8080/",
          "height": 235
        },
        "id": "UszwMusoSRbI",
        "outputId": "05388364-ed76-477f-b3bd-0b60458cc1f1"
      },
      "execution_count": 12,
      "outputs": [
        {
          "output_type": "display_data",
          "data": {
            "text/html": [
              "<table class=\"dataframe\">\n",
              "<caption>A data.frame: 6 × 2</caption>\n",
              "<thead>\n",
              "\t<tr><th></th><th scope=col>sex</th><th scope=col>is_male</th></tr>\n",
              "\t<tr><th></th><th scope=col>&lt;chr&gt;</th><th scope=col>&lt;dbl&gt;</th></tr>\n",
              "</thead>\n",
              "<tbody>\n",
              "\t<tr><th scope=row>1</th><td>M</td><td>1</td></tr>\n",
              "\t<tr><th scope=row>2</th><td>M</td><td>1</td></tr>\n",
              "\t<tr><th scope=row>3</th><td> </td><td>0</td></tr>\n",
              "\t<tr><th scope=row>4</th><td> </td><td>0</td></tr>\n",
              "\t<tr><th scope=row>5</th><td> </td><td>0</td></tr>\n",
              "\t<tr><th scope=row>6</th><td> </td><td>0</td></tr>\n",
              "</tbody>\n",
              "</table>\n"
            ],
            "text/markdown": "\nA data.frame: 6 × 2\n\n| <!--/--> | sex &lt;chr&gt; | is_male &lt;dbl&gt; |\n|---|---|---|\n| 1 | M | 1 |\n| 2 | M | 1 |\n| 3 | <!----> | 0 |\n| 4 | <!----> | 0 |\n| 5 | <!----> | 0 |\n| 6 | <!----> | 0 |\n\n",
            "text/latex": "A data.frame: 6 × 2\n\\begin{tabular}{r|ll}\n  & sex & is\\_male\\\\\n  & <chr> & <dbl>\\\\\n\\hline\n\t1 & M & 1\\\\\n\t2 & M & 1\\\\\n\t3 &   & 0\\\\\n\t4 &   & 0\\\\\n\t5 &   & 0\\\\\n\t6 &   & 0\\\\\n\\end{tabular}\n",
            "text/plain": [
              "  sex is_male\n",
              "1 M   1      \n",
              "2 M   1      \n",
              "3     0      \n",
              "4     0      \n",
              "5     0      \n",
              "6     0      "
            ]
          },
          "metadata": {}
        }
      ]
    },
    {
      "cell_type": "markdown",
      "source": [
        "<font color=\"red\"> <b> Question </b></font> Should the missing values be coded as `0` or `NA`? Explain."
      ],
      "metadata": {
        "id": "wwVscAa0UE-8"
      }
    },
    {
      "cell_type": "markdown",
      "source": [
        "<font color = \"orange\">\n",
        "Your answer here.\n",
        "</font>"
      ],
      "metadata": {
        "id": "wfm1AFH3URtj"
      }
    },
    {
      "cell_type": "code",
      "source": [],
      "metadata": {
        "id": "jqgSbc-2XrXs"
      },
      "execution_count": null,
      "outputs": []
    },
    {
      "cell_type": "markdown",
      "source": [
        "## <font color=\"red\"> <b> Exercise 7.2.4 </b></font>\n",
        "\n",
        "**Task.** Create a `after_1990` column using `mutate` and `ifelse` that is `1` for years before `1990` and `0` otherwise."
      ],
      "metadata": {
        "id": "flQg0T74XNxT"
      }
    },
    {
      "cell_type": "code",
      "source": [
        "# Your code here"
      ],
      "metadata": {
        "id": "_J9rhiTDXm9O"
      },
      "execution_count": 18,
      "outputs": []
    },
    {
      "cell_type": "markdown",
      "metadata": {
        "id": "P-W2HlhiSL5w"
      },
      "source": [
        "## Topic 2 - Using `case_when` to perform longer branches.\n",
        "\n",
        "**Syntax - No Else.**\n",
        "```{R}\n",
        "...\n",
        "%>% mutate(new_col = case_when( _cond1_ ~ _val1_,\n",
        "                                _cond2_ ~ _val2_,\n",
        "                                ...\n",
        "                                _condk_ ~ _valk_,\n",
        "                              )\n",
        "\n",
        "```\n",
        "**Note.** Any values that don't match a condition become `NA`"
      ]
    },
    {
      "cell_type": "markdown",
      "source": [
        "#### Example - Recoding `sex`\n",
        "\n",
        "Let's redo the last problem, but this using `case_when` with no `ELSE`"
      ],
      "metadata": {
        "id": "0Vu3wVhUVQXs"
      }
    },
    {
      "cell_type": "code",
      "source": [
        "(surveys\n",
        " %>% select(sex) # Temp.  Remember to delete before saving\n",
        " %>% mutate(is_male = case_when(sex == 'M' ~ 1,\n",
        "                                sex == 'F' ~ 0,\n",
        "                               )\n",
        "           )\n",
        " %>% head # Temp.  Remember to delete before saving\n",
        ")"
      ],
      "metadata": {
        "colab": {
          "base_uri": "https://localhost:8080/",
          "height": 235
        },
        "id": "Iik5v5FPVjvJ",
        "outputId": "27b9acbf-a18d-4db2-dc63-48606374fc50"
      },
      "execution_count": 15,
      "outputs": [
        {
          "output_type": "display_data",
          "data": {
            "text/html": [
              "<table class=\"dataframe\">\n",
              "<caption>A data.frame: 6 × 2</caption>\n",
              "<thead>\n",
              "\t<tr><th></th><th scope=col>sex</th><th scope=col>is_male</th></tr>\n",
              "\t<tr><th></th><th scope=col>&lt;chr&gt;</th><th scope=col>&lt;dbl&gt;</th></tr>\n",
              "</thead>\n",
              "<tbody>\n",
              "\t<tr><th scope=row>1</th><td>M</td><td> 1</td></tr>\n",
              "\t<tr><th scope=row>2</th><td>M</td><td> 1</td></tr>\n",
              "\t<tr><th scope=row>3</th><td> </td><td>NA</td></tr>\n",
              "\t<tr><th scope=row>4</th><td> </td><td>NA</td></tr>\n",
              "\t<tr><th scope=row>5</th><td> </td><td>NA</td></tr>\n",
              "\t<tr><th scope=row>6</th><td> </td><td>NA</td></tr>\n",
              "</tbody>\n",
              "</table>\n"
            ],
            "text/markdown": "\nA data.frame: 6 × 2\n\n| <!--/--> | sex &lt;chr&gt; | is_male &lt;dbl&gt; |\n|---|---|---|\n| 1 | M |  1 |\n| 2 | M |  1 |\n| 3 | <!----> | NA |\n| 4 | <!----> | NA |\n| 5 | <!----> | NA |\n| 6 | <!----> | NA |\n\n",
            "text/latex": "A data.frame: 6 × 2\n\\begin{tabular}{r|ll}\n  & sex & is\\_male\\\\\n  & <chr> & <dbl>\\\\\n\\hline\n\t1 & M &  1\\\\\n\t2 & M &  1\\\\\n\t3 &   & NA\\\\\n\t4 &   & NA\\\\\n\t5 &   & NA\\\\\n\t6 &   & NA\\\\\n\\end{tabular}\n",
            "text/plain": [
              "  sex is_male\n",
              "1 M    1     \n",
              "2 M    1     \n",
              "3     NA     \n",
              "4     NA     \n",
              "5     NA     \n",
              "6     NA     "
            ]
          },
          "metadata": {}
        }
      ]
    },
    {
      "cell_type": "markdown",
      "source": [
        "### Adding an `ELSE` using `.default =`\n",
        "\n",
        "\n",
        "**Syntax - With Else.**\n",
        "```{R}\n",
        "...\n",
        "%>% mutate(new_col = case_when( _cond1_ ~ _val1_,\n",
        "                                _cond2_ ~ _val2_,\n",
        "                                ...\n",
        "                                _condk_ ~ _valk_,\n",
        "                                .default = _elseVal_\n",
        "                              )\n",
        "...\n",
        "```\n",
        "**Note.** Any values that don't match get assigned the `.default` value"
      ],
      "metadata": {
        "id": "hK1zGNKXWEKP"
      }
    },
    {
      "cell_type": "markdown",
      "source": [
        "#### Example - Recoding `sex`\n",
        "\n",
        "Finally, suppose we want to recode `sex` as follows\n",
        "1. Recode `M` and `F` to `Male` and `Female`, respectively.\n",
        "2. Make missing values `''` into `Unknown`."
      ],
      "metadata": {
        "id": "y-thRMJVWZya"
      }
    },
    {
      "cell_type": "code",
      "source": [
        "(surveys\n",
        " %>% select(sex) # Temp.  Remember to delete before saving\n",
        " %>% mutate(sex = case_when(sex == 'M' ~ 'Male',\n",
        "                            sex == 'F' ~ 'Female',\n",
        "                            .default = 'Unknown'\n",
        "                            )\n",
        "           )\n",
        " %>% head # Temp.  Remember to delete before saving\n",
        ")"
      ],
      "metadata": {
        "colab": {
          "base_uri": "https://localhost:8080/",
          "height": 249
        },
        "id": "C33DdP0wWup5",
        "outputId": "3fc91cab-75b9-4c02-aec2-15d3ddbe1a70"
      },
      "execution_count": 16,
      "outputs": [
        {
          "output_type": "display_data",
          "data": {
            "text/html": [
              "<table class=\"dataframe\">\n",
              "<caption>A data.frame: 6 × 1</caption>\n",
              "<thead>\n",
              "\t<tr><th></th><th scope=col>sex</th></tr>\n",
              "\t<tr><th></th><th scope=col>&lt;chr&gt;</th></tr>\n",
              "</thead>\n",
              "<tbody>\n",
              "\t<tr><th scope=row>1</th><td>Male   </td></tr>\n",
              "\t<tr><th scope=row>2</th><td>Male   </td></tr>\n",
              "\t<tr><th scope=row>3</th><td>Unknown</td></tr>\n",
              "\t<tr><th scope=row>4</th><td>Unknown</td></tr>\n",
              "\t<tr><th scope=row>5</th><td>Unknown</td></tr>\n",
              "\t<tr><th scope=row>6</th><td>Unknown</td></tr>\n",
              "</tbody>\n",
              "</table>\n"
            ],
            "text/markdown": "\nA data.frame: 6 × 1\n\n| <!--/--> | sex &lt;chr&gt; |\n|---|---|\n| 1 | Male    |\n| 2 | Male    |\n| 3 | Unknown |\n| 4 | Unknown |\n| 5 | Unknown |\n| 6 | Unknown |\n\n",
            "text/latex": "A data.frame: 6 × 1\n\\begin{tabular}{r|l}\n  & sex\\\\\n  & <chr>\\\\\n\\hline\n\t1 & Male   \\\\\n\t2 & Male   \\\\\n\t3 & Unknown\\\\\n\t4 & Unknown\\\\\n\t5 & Unknown\\\\\n\t6 & Unknown\\\\\n\\end{tabular}\n",
            "text/plain": [
              "  sex    \n",
              "1 Male   \n",
              "2 Male   \n",
              "3 Unknown\n",
              "4 Unknown\n",
              "5 Unknown\n",
              "6 Unknown"
            ]
          },
          "metadata": {}
        }
      ]
    },
    {
      "cell_type": "markdown",
      "source": [
        "## <font color=\"red\"> <b> Exercise 7.2.5 </b></font>\n",
        "\n",
        "**Task.** Create a `decade` column that contains the decade written out in text.  \n",
        "\n",
        "**Hints.**\n",
        "1. You should use `unique` to inspect the `year` column to determine the possible decades.\n",
        "2. Use `case_when` with inequalities,\n",
        "3. Use `.default` to catch the last case (less/simpler code), and\n",
        "3. `R` doesn't allow compound inequalities ($2 < x \\le 5$).  Remember that you can rule out the previous cases, which should allow you to write simple inequalities.  Ask for help if needed."
      ],
      "metadata": {
        "id": "UN3ufNbGXycT"
      }
    },
    {
      "cell_type": "code",
      "source": [
        "# Your code here"
      ],
      "metadata": {
        "id": "YkVL6LfTYpug"
      },
      "execution_count": 19,
      "outputs": []
    },
    {
      "cell_type": "markdown",
      "source": [
        "## Topic 3 - Using `case_match` to match specific values\n",
        "\n",
        "In Tableau Prep, we could use the `CASE ... WHEN ... THEN ... END` expression to\n",
        "1. Match specific values, and\n",
        "2. Remove the need for Boolean expressions.\n",
        "\n",
        "In `R`, this is accomplished using `case_match`."
      ],
      "metadata": {
        "id": "Uz8xDiRgYung"
      }
    },
    {
      "cell_type": "markdown",
      "source": [
        "\n",
        "**Syntax.**\n",
        "```{R}\n",
        "...\n",
        "%>% mutate(new_col = case_match( col,\n",
        "                                _original_val1_ ~ _new_val2_,\n",
        "                                _original_val2_ ~ _new_val2_,\n",
        "                                ...\n",
        "                                _original_valk_ ~ _new_valk_,\n",
        "                                .default = _elseVal_ # Optional\n",
        "                              )\n",
        "...\n",
        "```"
      ],
      "metadata": {
        "id": "LXt3pKxXZavo"
      }
    },
    {
      "cell_type": "code",
      "source": [
        "# Look at the help\n",
        "?case_match"
      ],
      "metadata": {
        "id": "45lCqvWlZJbY"
      },
      "execution_count": 22,
      "outputs": []
    },
    {
      "cell_type": "markdown",
      "source": [
        "#### Example - Recoding `sex` one more time\n",
        "\n",
        "Let's redo the last two examples of recoding the `sex` column, but this time using `case_when`."
      ],
      "metadata": {
        "id": "rrkluM3iZ3un"
      }
    },
    {
      "cell_type": "code",
      "source": [
        "# Making an indicator column\n",
        "(surveys\n",
        " %>% select(sex) # Temp.  Remember to delete before saving\n",
        " %>% mutate(sex = case_match(sex,\n",
        "                            'M' ~ 1,\n",
        "                            'F' ~ 0,\n",
        "                            )\n",
        "           )\n",
        " %>% head # Temp.  Remember to delete before saving\n",
        ")"
      ],
      "metadata": {
        "colab": {
          "base_uri": "https://localhost:8080/",
          "height": 262
        },
        "id": "PDmRayN3aO5_",
        "outputId": "8215aa37-6732-42e6-c5d1-5f6ca7d46888"
      },
      "execution_count": 23,
      "outputs": [
        {
          "output_type": "display_data",
          "data": {
            "text/html": [
              "<table class=\"dataframe\">\n",
              "<caption>A data.frame: 6 × 1</caption>\n",
              "<thead>\n",
              "\t<tr><th></th><th scope=col>sex</th></tr>\n",
              "\t<tr><th></th><th scope=col>&lt;dbl&gt;</th></tr>\n",
              "</thead>\n",
              "<tbody>\n",
              "\t<tr><th scope=row>1</th><td> 1</td></tr>\n",
              "\t<tr><th scope=row>2</th><td> 1</td></tr>\n",
              "\t<tr><th scope=row>3</th><td>NA</td></tr>\n",
              "\t<tr><th scope=row>4</th><td>NA</td></tr>\n",
              "\t<tr><th scope=row>5</th><td>NA</td></tr>\n",
              "\t<tr><th scope=row>6</th><td>NA</td></tr>\n",
              "</tbody>\n",
              "</table>\n"
            ],
            "text/markdown": "\nA data.frame: 6 × 1\n\n| <!--/--> | sex &lt;dbl&gt; |\n|---|---|\n| 1 |  1 |\n| 2 |  1 |\n| 3 | NA |\n| 4 | NA |\n| 5 | NA |\n| 6 | NA |\n\n",
            "text/latex": "A data.frame: 6 × 1\n\\begin{tabular}{r|l}\n  & sex\\\\\n  & <dbl>\\\\\n\\hline\n\t1 &  1\\\\\n\t2 &  1\\\\\n\t3 & NA\\\\\n\t4 & NA\\\\\n\t5 & NA\\\\\n\t6 & NA\\\\\n\\end{tabular}\n",
            "text/plain": [
              "  sex\n",
              "1  1 \n",
              "2  1 \n",
              "3 NA \n",
              "4 NA \n",
              "5 NA \n",
              "6 NA "
            ]
          },
          "metadata": {}
        }
      ]
    },
    {
      "cell_type": "code",
      "source": [
        "# Recoding in place with Unknown\n",
        "(surveys\n",
        " %>% select(sex) # Temp.  Remember to delete before saving\n",
        " %>% mutate(sex = case_match(sex,\n",
        "                            'M' ~ 'Male',\n",
        "                            'F' ~ 'Female',\n",
        "                            .default = 'Unknown'\n",
        "                            )\n",
        "           )\n",
        " %>% head # Temp.  Remember to delete before saving\n",
        ")"
      ],
      "metadata": {
        "colab": {
          "base_uri": "https://localhost:8080/",
          "height": 249
        },
        "id": "gpCGnonVaDQK",
        "outputId": "fa6dca8a-0400-4e2d-871e-32d75d24df41"
      },
      "execution_count": 24,
      "outputs": [
        {
          "output_type": "display_data",
          "data": {
            "text/html": [
              "<table class=\"dataframe\">\n",
              "<caption>A data.frame: 6 × 1</caption>\n",
              "<thead>\n",
              "\t<tr><th></th><th scope=col>sex</th></tr>\n",
              "\t<tr><th></th><th scope=col>&lt;chr&gt;</th></tr>\n",
              "</thead>\n",
              "<tbody>\n",
              "\t<tr><th scope=row>1</th><td>Male   </td></tr>\n",
              "\t<tr><th scope=row>2</th><td>Male   </td></tr>\n",
              "\t<tr><th scope=row>3</th><td>Unknown</td></tr>\n",
              "\t<tr><th scope=row>4</th><td>Unknown</td></tr>\n",
              "\t<tr><th scope=row>5</th><td>Unknown</td></tr>\n",
              "\t<tr><th scope=row>6</th><td>Unknown</td></tr>\n",
              "</tbody>\n",
              "</table>\n"
            ],
            "text/markdown": "\nA data.frame: 6 × 1\n\n| <!--/--> | sex &lt;chr&gt; |\n|---|---|\n| 1 | Male    |\n| 2 | Male    |\n| 3 | Unknown |\n| 4 | Unknown |\n| 5 | Unknown |\n| 6 | Unknown |\n\n",
            "text/latex": "A data.frame: 6 × 1\n\\begin{tabular}{r|l}\n  & sex\\\\\n  & <chr>\\\\\n\\hline\n\t1 & Male   \\\\\n\t2 & Male   \\\\\n\t3 & Unknown\\\\\n\t4 & Unknown\\\\\n\t5 & Unknown\\\\\n\t6 & Unknown\\\\\n\\end{tabular}\n",
            "text/plain": [
              "  sex    \n",
              "1 Male   \n",
              "2 Male   \n",
              "3 Unknown\n",
              "4 Unknown\n",
              "5 Unknown\n",
              "6 Unknown"
            ]
          },
          "metadata": {}
        }
      ]
    },
    {
      "cell_type": "markdown",
      "source": [
        "## <font color=\"red\"> <b> Exercise 7.2.6 </b></font>\n",
        "\n",
        "**Tasks/Questions.**\n",
        "\n",
        "1. Use `case_match` to recode the month numbers to (e.g., `1`) the month names (e.g., `\"January\"`).\n",
        "2. Explain why we don't want to use `case_match` to define either `after_1990` or `decade`."
      ],
      "metadata": {
        "id": "jgzklmRXaoNH"
      }
    },
    {
      "cell_type": "code",
      "source": [
        "# Your code here."
      ],
      "metadata": {
        "id": "JXLsl3_Xg7HF"
      },
      "execution_count": null,
      "outputs": []
    }
  ],
  "metadata": {
    "kernelspec": {
      "display_name": "R",
      "language": "R",
      "name": "ir"
    },
    "language_info": {
      "codemirror_mode": "r",
      "file_extension": ".r",
      "mimetype": "text/x-r-source",
      "name": "R",
      "pygments_lexer": "r",
      "version": "3.5.1"
    },
    "colab": {
      "provenance": [],
      "include_colab_link": true
    }
  },
  "nbformat": 4,
  "nbformat_minor": 0
}