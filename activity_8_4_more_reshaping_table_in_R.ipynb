{
  "cells": [
    {
      "cell_type": "markdown",
      "metadata": {
        "id": "view-in-github",
        "colab_type": "text"
      },
      "source": [
        "<a href=\"https://colab.research.google.com/github/yardsale8/DSCI_210_R_notebooks/blob/main/activity_8_4_more_reshaping_table_in_R.ipynb\" target=\"_parent\"><img src=\"https://colab.research.google.com/assets/colab-badge.svg\" alt=\"Open In Colab\"/></a>"
      ]
    },
    {
      "cell_type": "markdown",
      "metadata": {
        "id": "xmBBKRS0Y7zV"
      },
      "source": [
        "# More Practice Stacking and Unstacking in R"
      ]
    },
    {
      "cell_type": "code",
      "source": [
        "library(tidyverse)"
      ],
      "metadata": {
        "colab": {
          "base_uri": "https://localhost:8080/"
        },
        "id": "32QJj61Mxmxk",
        "outputId": "6cf018ce-3b02-46b8-f009-9d3110913330"
      },
      "execution_count": 1,
      "outputs": [
        {
          "output_type": "stream",
          "name": "stderr",
          "text": [
            "── \u001b[1mAttaching core tidyverse packages\u001b[22m ──────────────────────── tidyverse 2.0.0 ──\n",
            "\u001b[32m✔\u001b[39m \u001b[34mdplyr    \u001b[39m 1.1.4     \u001b[32m✔\u001b[39m \u001b[34mreadr    \u001b[39m 2.1.5\n",
            "\u001b[32m✔\u001b[39m \u001b[34mforcats  \u001b[39m 1.0.0     \u001b[32m✔\u001b[39m \u001b[34mstringr  \u001b[39m 1.5.1\n",
            "\u001b[32m✔\u001b[39m \u001b[34mggplot2  \u001b[39m 3.4.4     \u001b[32m✔\u001b[39m \u001b[34mtibble   \u001b[39m 3.2.1\n",
            "\u001b[32m✔\u001b[39m \u001b[34mlubridate\u001b[39m 1.9.3     \u001b[32m✔\u001b[39m \u001b[34mtidyr    \u001b[39m 1.3.1\n",
            "\u001b[32m✔\u001b[39m \u001b[34mpurrr    \u001b[39m 1.0.2     \n",
            "── \u001b[1mConflicts\u001b[22m ────────────────────────────────────────── tidyverse_conflicts() ──\n",
            "\u001b[31m✖\u001b[39m \u001b[34mdplyr\u001b[39m::\u001b[32mfilter()\u001b[39m masks \u001b[34mstats\u001b[39m::filter()\n",
            "\u001b[31m✖\u001b[39m \u001b[34mdplyr\u001b[39m::\u001b[32mlag()\u001b[39m    masks \u001b[34mstats\u001b[39m::lag()\n",
            "\u001b[36mℹ\u001b[39m Use the conflicted package (\u001b[3m\u001b[34m<http://conflicted.r-lib.org/>\u001b[39m\u001b[23m) to force all conflicts to become errors\n"
          ]
        }
      ]
    },
    {
      "cell_type": "markdown",
      "metadata": {
        "id": "K7Mxq-I4Y7za"
      },
      "source": [
        "# Stack and Unstack\n",
        "\n",
        "\n",
        "* `library(tidyr)`\n",
        "* Stack $\\rightarrow$ `gather`\n",
        "* Unstack $\\rightarrow$ `spread`"
      ]
    },
    {
      "cell_type": "code",
      "execution_count": null,
      "metadata": {
        "id": "uq5_P_W7Y7zb",
        "outputId": "a1d0e3fd-893f-42b0-d8a6-63786fb7b82b"
      },
      "outputs": [
        {
          "name": "stderr",
          "output_type": "stream",
          "text": [
            "\n",
            "Attaching package: ‘dplyr’\n",
            "\n",
            "The following objects are masked from ‘package:stats’:\n",
            "\n",
            "    filter, lag\n",
            "\n",
            "The following objects are masked from ‘package:base’:\n",
            "\n",
            "    intersect, setdiff, setequal, union\n",
            "\n"
          ]
        }
      ],
      "source": [
        "library(dplyr)\n",
        "library(tidyr)"
      ]
    },
    {
      "cell_type": "markdown",
      "metadata": {
        "id": "PN7kEon2Y7zn"
      },
      "source": [
        "## The stack + mutate + aggregate +  unstack trick\n",
        "\n",
        "Recall that we can use stacking and unstacking columns to automate applying the same transformations to many columns"
      ]
    },
    {
      "cell_type": "markdown",
      "metadata": {
        "id": "M7Xr-F8NY7zn"
      },
      "source": [
        "### Example - Recoding auto sales"
      ]
    },
    {
      "cell_type": "code",
      "source": [
        "sales <- read.csv(\"https://github.com/WSU-DataScience/DSCI_210_R_notebooks/raw/main/data/auto_sales.csv\")\n",
        "sales"
      ],
      "metadata": {
        "colab": {
          "base_uri": "https://localhost:8080/",
          "height": 204
        },
        "id": "n91fJhDTyaSk",
        "outputId": "fbf3dd99-e9dc-4d83-b00f-0f221f3589e9"
      },
      "execution_count": 3,
      "outputs": [
        {
          "output_type": "display_data",
          "data": {
            "text/html": [
              "<table class=\"dataframe\">\n",
              "<caption>A data.frame: 4 × 5</caption>\n",
              "<thead>\n",
              "\t<tr><th scope=col>Salesperson</th><th scope=col>Compact</th><th scope=col>Sedan</th><th scope=col>SUV</th><th scope=col>Truck</th></tr>\n",
              "\t<tr><th scope=col>&lt;chr&gt;</th><th scope=col>&lt;int&gt;</th><th scope=col>&lt;int&gt;</th><th scope=col>&lt;int&gt;</th><th scope=col>&lt;int&gt;</th></tr>\n",
              "</thead>\n",
              "<tbody>\n",
              "\t<tr><td>Ann    </td><td>22</td><td>18</td><td>15</td><td>12</td></tr>\n",
              "\t<tr><td>Bob    </td><td>19</td><td>12</td><td>17</td><td>20</td></tr>\n",
              "\t<tr><td>Yolanda</td><td>19</td><td> 8</td><td>32</td><td>15</td></tr>\n",
              "\t<tr><td>Xerxes </td><td>12</td><td>23</td><td>18</td><td> 9</td></tr>\n",
              "</tbody>\n",
              "</table>\n"
            ],
            "text/markdown": "\nA data.frame: 4 × 5\n\n| Salesperson &lt;chr&gt; | Compact &lt;int&gt; | Sedan &lt;int&gt; | SUV &lt;int&gt; | Truck &lt;int&gt; |\n|---|---|---|---|---|\n| Ann     | 22 | 18 | 15 | 12 |\n| Bob     | 19 | 12 | 17 | 20 |\n| Yolanda | 19 |  8 | 32 | 15 |\n| Xerxes  | 12 | 23 | 18 |  9 |\n\n",
            "text/latex": "A data.frame: 4 × 5\n\\begin{tabular}{lllll}\n Salesperson & Compact & Sedan & SUV & Truck\\\\\n <chr> & <int> & <int> & <int> & <int>\\\\\n\\hline\n\t Ann     & 22 & 18 & 15 & 12\\\\\n\t Bob     & 19 & 12 & 17 & 20\\\\\n\t Yolanda & 19 &  8 & 32 & 15\\\\\n\t Xerxes  & 12 & 23 & 18 &  9\\\\\n\\end{tabular}\n",
            "text/plain": [
              "  Salesperson Compact Sedan SUV Truck\n",
              "1 Ann         22      18    15  12   \n",
              "2 Bob         19      12    17  20   \n",
              "3 Yolanda     19       8    32  15   \n",
              "4 Xerxes      12      23    18   9   "
            ]
          },
          "metadata": {}
        }
      ]
    },
    {
      "cell_type": "code",
      "execution_count": 4,
      "metadata": {
        "scrolled": true,
        "id": "_2UE_FATY7zo",
        "outputId": "60cd1b47-08f5-4593-f413-6c83e4f80a7b",
        "colab": {
          "base_uri": "https://localhost:8080/",
          "height": 231
        }
      },
      "outputs": [
        {
          "output_type": "stream",
          "name": "stderr",
          "text": [
            "\u001b[1m\u001b[22m`summarise()` has grouped output by 'Salesperson'. You can override using the\n",
            "`.groups` argument.\n"
          ]
        },
        {
          "output_type": "display_data",
          "data": {
            "text/html": [
              "<table class=\"dataframe\">\n",
              "<caption>A grouped_df: 4 × 3</caption>\n",
              "<thead>\n",
              "\t<tr><th scope=col>Salesperson</th><th scope=col>car</th><th scope=col>utility</th></tr>\n",
              "\t<tr><th scope=col>&lt;chr&gt;</th><th scope=col>&lt;int&gt;</th><th scope=col>&lt;int&gt;</th></tr>\n",
              "</thead>\n",
              "<tbody>\n",
              "\t<tr><td>Ann    </td><td>40</td><td>27</td></tr>\n",
              "\t<tr><td>Bob    </td><td>31</td><td>37</td></tr>\n",
              "\t<tr><td>Xerxes </td><td>35</td><td>27</td></tr>\n",
              "\t<tr><td>Yolanda</td><td>27</td><td>47</td></tr>\n",
              "</tbody>\n",
              "</table>\n"
            ],
            "text/markdown": "\nA grouped_df: 4 × 3\n\n| Salesperson &lt;chr&gt; | car &lt;int&gt; | utility &lt;int&gt; |\n|---|---|---|\n| Ann     | 40 | 27 |\n| Bob     | 31 | 37 |\n| Xerxes  | 35 | 27 |\n| Yolanda | 27 | 47 |\n\n",
            "text/latex": "A grouped\\_df: 4 × 3\n\\begin{tabular}{lll}\n Salesperson & car & utility\\\\\n <chr> & <int> & <int>\\\\\n\\hline\n\t Ann     & 40 & 27\\\\\n\t Bob     & 31 & 37\\\\\n\t Xerxes  & 35 & 27\\\\\n\t Yolanda & 27 & 47\\\\\n\\end{tabular}\n",
            "text/plain": [
              "  Salesperson car utility\n",
              "1 Ann         40  27     \n",
              "2 Bob         31  37     \n",
              "3 Xerxes      35  27     \n",
              "4 Yolanda     27  47     "
            ]
          },
          "metadata": {}
        }
      ],
      "source": [
        "(sales\n",
        " %>% gather(key = \"auto_type\",\n",
        "            value = \"num_sales\",\n",
        "            Compact:Truck)\n",
        " %>% mutate(car_type = recode(auto_type,\n",
        "                             `Compact` = 'car',\n",
        "                             `Sedan` = 'car',\n",
        "                             `SUV` = 'utility',\n",
        "                             `Truck` = 'utility'))\n",
        " %>% group_by(Salesperson,\n",
        "              car_type)\n",
        " %>% summarize(total_sales = sum(num_sales))\n",
        " %>% spread(key = car_type,\n",
        "            value = total_sales)\n",
        " )"
      ]
    },
    {
      "cell_type": "markdown",
      "metadata": {
        "id": "7CjQP3GLY7zo"
      },
      "source": [
        "## <font color=\"red\"> Exercise 8.4.1 </font>\n",
        "\n",
        "Recall that the MoMA `Artist.csv` data had two columns (`BeginDate` and `EndDate`) that needed to be cleaned up by  replacing zeros with with a better representation of missing values, namely `NA` in R.\n",
        "\n",
        "Since we need to perform the same transformations on both columns, we can use the stack + transform + unstack trick to clean both columns at once."
      ]
    },
    {
      "cell_type": "code",
      "execution_count": null,
      "metadata": {
        "id": "ILta3ujPY7zo",
        "outputId": "87b2954c-ef38-4a69-992c-8a4ed1fe7970"
      },
      "outputs": [
        {
          "data": {
            "text/html": [
              "<table>\n",
              "<thead><tr><th scope=col>ConstituentID</th><th scope=col>DisplayName</th><th scope=col>ArtistBio</th><th scope=col>Nationality</th><th scope=col>Gender</th><th scope=col>BeginDate</th><th scope=col>EndDate</th><th scope=col>Wiki.QID</th><th scope=col>ULAN</th></tr></thead>\n",
              "<tbody>\n",
              "\t<tr><td>1                  </td><td>Robert Arneson     </td><td>American, 1930–1992</td><td>American           </td><td>Male               </td><td>1930               </td><td>1992               </td><td>                   </td><td>       NA          </td></tr>\n",
              "\t<tr><td>2                  </td><td>Doroteo Arnaiz     </td><td>Spanish, born 1936 </td><td>Spanish            </td><td>Male               </td><td>1936               </td><td>   0               </td><td>                   </td><td>       NA          </td></tr>\n",
              "\t<tr><td>3                  </td><td>Bill Arnold        </td><td>American, born 1941</td><td>American           </td><td>Male               </td><td>1941               </td><td>   0               </td><td>                   </td><td>       NA          </td></tr>\n",
              "\t<tr><td>4                  </td><td>Charles Arnoldi    </td><td>American, born 1946</td><td>American           </td><td>Male               </td><td>1946               </td><td>   0               </td><td>Q1063584           </td><td>500027998          </td></tr>\n",
              "\t<tr><td>5                  </td><td>Per Arnoldi        </td><td>Danish, born 1941  </td><td>Danish             </td><td>Male               </td><td>1941               </td><td>   0               </td><td>                   </td><td>       NA          </td></tr>\n",
              "\t<tr><td>6                  </td><td>Danilo Aroldi      </td><td>Italian, born 1925 </td><td>Italian            </td><td>Male               </td><td>1925               </td><td>   0               </td><td>                   </td><td>       NA          </td></tr>\n",
              "</tbody>\n",
              "</table>\n"
            ],
            "text/latex": [
              "\\begin{tabular}{r|lllllllll}\n",
              " ConstituentID & DisplayName & ArtistBio & Nationality & Gender & BeginDate & EndDate & Wiki.QID & ULAN\\\\\n",
              "\\hline\n",
              "\t 1                   & Robert Arneson      & American, 1930–1992 & American            & Male                & 1930                & 1992                &                     &        NA          \\\\\n",
              "\t 2                   & Doroteo Arnaiz      & Spanish, born 1936  & Spanish             & Male                & 1936                &    0                &                     &        NA          \\\\\n",
              "\t 3                   & Bill Arnold         & American, born 1941 & American            & Male                & 1941                &    0                &                     &        NA          \\\\\n",
              "\t 4                   & Charles Arnoldi     & American, born 1946 & American            & Male                & 1946                &    0                & Q1063584            & 500027998          \\\\\n",
              "\t 5                   & Per Arnoldi         & Danish, born 1941   & Danish              & Male                & 1941                &    0                &                     &        NA          \\\\\n",
              "\t 6                   & Danilo Aroldi       & Italian, born 1925  & Italian             & Male                & 1925                &    0                &                     &        NA          \\\\\n",
              "\\end{tabular}\n"
            ],
            "text/markdown": [
              "\n",
              "ConstituentID | DisplayName | ArtistBio | Nationality | Gender | BeginDate | EndDate | Wiki.QID | ULAN | \n",
              "|---|---|---|---|---|---|\n",
              "| 1                   | Robert Arneson      | American, 1930–1992 | American            | Male                | 1930                | 1992                |                     |        NA           | \n",
              "| 2                   | Doroteo Arnaiz      | Spanish, born 1936  | Spanish             | Male                | 1936                |    0                |                     |        NA           | \n",
              "| 3                   | Bill Arnold         | American, born 1941 | American            | Male                | 1941                |    0                |                     |        NA           | \n",
              "| 4                   | Charles Arnoldi     | American, born 1946 | American            | Male                | 1946                |    0                | Q1063584            | 500027998           | \n",
              "| 5                   | Per Arnoldi         | Danish, born 1941   | Danish              | Male                | 1941                |    0                |                     |        NA           | \n",
              "| 6                   | Danilo Aroldi       | Italian, born 1925  | Italian             | Male                | 1925                |    0                |                     |        NA           | \n",
              "\n",
              "\n"
            ],
            "text/plain": [
              "  ConstituentID DisplayName     ArtistBio           Nationality Gender\n",
              "1 1             Robert Arneson  American, 1930–1992 American    Male  \n",
              "2 2             Doroteo Arnaiz  Spanish, born 1936  Spanish     Male  \n",
              "3 3             Bill Arnold     American, born 1941 American    Male  \n",
              "4 4             Charles Arnoldi American, born 1946 American    Male  \n",
              "5 5             Per Arnoldi     Danish, born 1941   Danish      Male  \n",
              "6 6             Danilo Aroldi   Italian, born 1925  Italian     Male  \n",
              "  BeginDate EndDate Wiki.QID ULAN     \n",
              "1 1930      1992                    NA\n",
              "2 1936         0                    NA\n",
              "3 1941         0                    NA\n",
              "4 1946         0    Q1063584 500027998\n",
              "5 1941         0                    NA\n",
              "6 1925         0                    NA"
            ]
          },
          "metadata": {},
          "output_type": "display_data"
        }
      ],
      "source": [
        "artist = read.csv(\"https://github.com/MuseumofModernArt/collection/raw/master/Artists.csv\")\n",
        "head(artist)"
      ]
    },
    {
      "cell_type": "markdown",
      "metadata": {
        "id": "WL-VQePMY7zp"
      },
      "source": [
        "**Task:** Fix this issue by\n",
        "\n",
        "1. Use `gather` stack the two columns.\n",
        "2. Using `mutate` and `ifelse` to replace all zeros with `NA`.\n",
        "3. Use `spread` to unstack the two columns, this time giving them more meaningful names."
      ]
    },
    {
      "cell_type": "code",
      "execution_count": null,
      "metadata": {
        "id": "nQijhEgHY7zp"
      },
      "outputs": [],
      "source": [
        "# Your code here"
      ]
    },
    {
      "cell_type": "markdown",
      "metadata": {
        "id": "s8wc-ixyY7zp"
      },
      "source": [
        "## <font color=\"red\"> Exercise 8.4.2 </font>\n",
        "\n",
        "In this assignment we will visualize the effect of the introduction of the  designated hitter, by comparing the best overall team-wide earned run average (ERA) for each league. In the process, you will see an important application of reshaping tables when creating visualizations.  \n",
        "\n",
        "Take a look at the `Teams.csv` file.  This file contains, for each season, team-by-team statistics.  We will focus on the ERA, which measures the average number of runs allowed by each team’s pitchers over a 9-inning game, with a smaller number indicating better pitching + defense.\n",
        "Your job is to recreate the following graph.  \n",
        "\n",
        "<img src=\"https://github.com/WSU-DataScience/DSCI_210_R_notebooks/raw/main/img/min_era.png\"/>"
      ]
    },
    {
      "cell_type": "code",
      "execution_count": null,
      "metadata": {
        "id": "f30m9gQYY7zq",
        "outputId": "030a027f-1d5f-4729-e3f8-4fecf003125d"
      },
      "outputs": [
        {
          "data": {
            "text/html": [
              "<table>\n",
              "<thead><tr><th scope=col>yearID</th><th scope=col>lgID</th><th scope=col>teamID</th><th scope=col>franchID</th><th scope=col>divID</th><th scope=col>Rank</th><th scope=col>G</th><th scope=col>Ghome</th><th scope=col>W</th><th scope=col>L</th><th scope=col>⋯</th><th scope=col>DP</th><th scope=col>FP</th><th scope=col>name</th><th scope=col>park</th><th scope=col>attendance</th><th scope=col>BPF</th><th scope=col>PPF</th><th scope=col>teamIDBR</th><th scope=col>teamIDlahman45</th><th scope=col>teamIDretro</th></tr></thead>\n",
              "<tbody>\n",
              "\t<tr><td>1871                        </td><td>NA                          </td><td>BS1                         </td><td>BNA                         </td><td>                            </td><td>3                           </td><td>31                          </td><td>NA                          </td><td>20                          </td><td>10                          </td><td>⋯                           </td><td>24                          </td><td>0.834                       </td><td>Boston Red Stockings        </td><td>South End Grounds I         </td><td>NA                          </td><td>103                         </td><td> 98                         </td><td>BOS                         </td><td>BS1                         </td><td>BS1                         </td></tr>\n",
              "\t<tr><td>1871                        </td><td>NA                          </td><td>CH1                         </td><td>CNA                         </td><td>                            </td><td>2                           </td><td>28                          </td><td>NA                          </td><td>19                          </td><td> 9                          </td><td>⋯                           </td><td>16                          </td><td>0.829                       </td><td>Chicago White Stockings     </td><td>Union Base-Ball Grounds     </td><td>NA                          </td><td>104                         </td><td>102                         </td><td>CHI                         </td><td>CH1                         </td><td>CH1                         </td></tr>\n",
              "\t<tr><td>1871                        </td><td>NA                          </td><td>CL1                         </td><td>CFC                         </td><td>                            </td><td>8                           </td><td>29                          </td><td>NA                          </td><td>10                          </td><td>19                          </td><td>⋯                           </td><td>15                          </td><td>0.818                       </td><td>Cleveland Forest Citys      </td><td>National Association Grounds</td><td>NA                          </td><td> 96                         </td><td>100                         </td><td>CLE                         </td><td>CL1                         </td><td>CL1                         </td></tr>\n",
              "\t<tr><td>1871                        </td><td>NA                          </td><td>FW1                         </td><td>KEK                         </td><td>                            </td><td>7                           </td><td>19                          </td><td>NA                          </td><td> 7                          </td><td>12                          </td><td>⋯                           </td><td> 8                          </td><td>0.803                       </td><td>Fort Wayne Kekiongas        </td><td>Hamilton Field              </td><td>NA                          </td><td>101                         </td><td>107                         </td><td>KEK                         </td><td>FW1                         </td><td>FW1                         </td></tr>\n",
              "\t<tr><td>1871                        </td><td>NA                          </td><td>NY2                         </td><td>NNA                         </td><td>                            </td><td>5                           </td><td>33                          </td><td>NA                          </td><td>16                          </td><td>17                          </td><td>⋯                           </td><td>14                          </td><td>0.840                       </td><td>New York Mutuals            </td><td>Union Grounds (Brooklyn)    </td><td>NA                          </td><td> 90                         </td><td> 88                         </td><td>NYU                         </td><td>NY2                         </td><td>NY2                         </td></tr>\n",
              "\t<tr><td>1871                        </td><td>NA                          </td><td>PH1                         </td><td>PNA                         </td><td>                            </td><td>1                           </td><td>28                          </td><td>NA                          </td><td>21                          </td><td> 7                          </td><td>⋯                           </td><td>13                          </td><td>0.845                       </td><td>Philadelphia Athletics      </td><td>Jefferson Street Grounds    </td><td>NA                          </td><td>102                         </td><td> 98                         </td><td>ATH                         </td><td>PH1                         </td><td>PH1                         </td></tr>\n",
              "</tbody>\n",
              "</table>\n"
            ],
            "text/latex": [
              "\\begin{tabular}{r|llllllllllllllllllllllllllllllllllllllllllllllll}\n",
              " yearID & lgID & teamID & franchID & divID & Rank & G & Ghome & W & L & ⋯ & DP & FP & name & park & attendance & BPF & PPF & teamIDBR & teamIDlahman45 & teamIDretro\\\\\n",
              "\\hline\n",
              "\t 1871                         & NA                           & BS1                          & BNA                          &                              & 3                            & 31                           & NA                           & 20                           & 10                           & ⋯                            & 24                           & 0.834                        & Boston Red Stockings         & South End Grounds I          & NA                           & 103                          &  98                          & BOS                          & BS1                          & BS1                         \\\\\n",
              "\t 1871                         & NA                           & CH1                          & CNA                          &                              & 2                            & 28                           & NA                           & 19                           &  9                           & ⋯                            & 16                           & 0.829                        & Chicago White Stockings      & Union Base-Ball Grounds      & NA                           & 104                          & 102                          & CHI                          & CH1                          & CH1                         \\\\\n",
              "\t 1871                         & NA                           & CL1                          & CFC                          &                              & 8                            & 29                           & NA                           & 10                           & 19                           & ⋯                            & 15                           & 0.818                        & Cleveland Forest Citys       & National Association Grounds & NA                           &  96                          & 100                          & CLE                          & CL1                          & CL1                         \\\\\n",
              "\t 1871                         & NA                           & FW1                          & KEK                          &                              & 7                            & 19                           & NA                           &  7                           & 12                           & ⋯                            &  8                           & 0.803                        & Fort Wayne Kekiongas         & Hamilton Field               & NA                           & 101                          & 107                          & KEK                          & FW1                          & FW1                         \\\\\n",
              "\t 1871                         & NA                           & NY2                          & NNA                          &                              & 5                            & 33                           & NA                           & 16                           & 17                           & ⋯                            & 14                           & 0.840                        & New York Mutuals             & Union Grounds (Brooklyn)     & NA                           &  90                          &  88                          & NYU                          & NY2                          & NY2                         \\\\\n",
              "\t 1871                         & NA                           & PH1                          & PNA                          &                              & 1                            & 28                           & NA                           & 21                           &  7                           & ⋯                            & 13                           & 0.845                        & Philadelphia Athletics       & Jefferson Street Grounds     & NA                           & 102                          &  98                          & ATH                          & PH1                          & PH1                         \\\\\n",
              "\\end{tabular}\n"
            ],
            "text/markdown": [
              "\n",
              "yearID | lgID | teamID | franchID | divID | Rank | G | Ghome | W | L | ⋯ | DP | FP | name | park | attendance | BPF | PPF | teamIDBR | teamIDlahman45 | teamIDretro | \n",
              "|---|---|---|---|---|---|\n",
              "| 1871                         | NA                           | BS1                          | BNA                          |                              | 3                            | 31                           | NA                           | 20                           | 10                           | ⋯                            | 24                           | 0.834                        | Boston Red Stockings         | South End Grounds I          | NA                           | 103                          |  98                          | BOS                          | BS1                          | BS1                          | \n",
              "| 1871                         | NA                           | CH1                          | CNA                          |                              | 2                            | 28                           | NA                           | 19                           |  9                           | ⋯                            | 16                           | 0.829                        | Chicago White Stockings      | Union Base-Ball Grounds      | NA                           | 104                          | 102                          | CHI                          | CH1                          | CH1                          | \n",
              "| 1871                         | NA                           | CL1                          | CFC                          |                              | 8                            | 29                           | NA                           | 10                           | 19                           | ⋯                            | 15                           | 0.818                        | Cleveland Forest Citys       | National Association Grounds | NA                           |  96                          | 100                          | CLE                          | CL1                          | CL1                          | \n",
              "| 1871                         | NA                           | FW1                          | KEK                          |                              | 7                            | 19                           | NA                           |  7                           | 12                           | ⋯                            |  8                           | 0.803                        | Fort Wayne Kekiongas         | Hamilton Field               | NA                           | 101                          | 107                          | KEK                          | FW1                          | FW1                          | \n",
              "| 1871                         | NA                           | NY2                          | NNA                          |                              | 5                            | 33                           | NA                           | 16                           | 17                           | ⋯                            | 14                           | 0.840                        | New York Mutuals             | Union Grounds (Brooklyn)     | NA                           |  90                          |  88                          | NYU                          | NY2                          | NY2                          | \n",
              "| 1871                         | NA                           | PH1                          | PNA                          |                              | 1                            | 28                           | NA                           | 21                           |  7                           | ⋯                            | 13                           | 0.845                        | Philadelphia Athletics       | Jefferson Street Grounds     | NA                           | 102                          |  98                          | ATH                          | PH1                          | PH1                          | \n",
              "\n",
              "\n"
            ],
            "text/plain": [
              "  yearID lgID teamID franchID divID Rank G  Ghome W  L  ⋯ DP FP   \n",
              "1 1871   NA   BS1    BNA            3    31 NA    20 10 ⋯ 24 0.834\n",
              "2 1871   NA   CH1    CNA            2    28 NA    19  9 ⋯ 16 0.829\n",
              "3 1871   NA   CL1    CFC            8    29 NA    10 19 ⋯ 15 0.818\n",
              "4 1871   NA   FW1    KEK            7    19 NA     7 12 ⋯  8 0.803\n",
              "5 1871   NA   NY2    NNA            5    33 NA    16 17 ⋯ 14 0.840\n",
              "6 1871   NA   PH1    PNA            1    28 NA    21  7 ⋯ 13 0.845\n",
              "  name                    park                         attendance BPF PPF\n",
              "1 Boston Red Stockings    South End Grounds I          NA         103  98\n",
              "2 Chicago White Stockings Union Base-Ball Grounds      NA         104 102\n",
              "3 Cleveland Forest Citys  National Association Grounds NA          96 100\n",
              "4 Fort Wayne Kekiongas    Hamilton Field               NA         101 107\n",
              "5 New York Mutuals        Union Grounds (Brooklyn)     NA          90  88\n",
              "6 Philadelphia Athletics  Jefferson Street Grounds     NA         102  98\n",
              "  teamIDBR teamIDlahman45 teamIDretro\n",
              "1 BOS      BS1            BS1        \n",
              "2 CHI      CH1            CH1        \n",
              "3 CLE      CL1            CL1        \n",
              "4 KEK      FW1            FW1        \n",
              "5 NYU      NY2            NY2        \n",
              "6 ATH      PH1            PH1        "
            ]
          },
          "metadata": {},
          "output_type": "display_data"
        }
      ],
      "source": [
        "teams <- read.csv('https://github.com/WSU-DataScience/DSCI_210_R_notebooks/raw/main/data/Teams.csv')\n",
        "head(teams)"
      ]
    },
    {
      "cell_type": "markdown",
      "metadata": {
        "id": "FPHETo3LY7zr"
      },
      "source": [
        "**Tasks:**\n",
        "\n",
        "1. Filter the data to only the years after World War II (1946+).\n",
        "2. Group and aggregate the data to compute the minimum ERA for each league for each season.\n",
        "3. Split the min(ERA) by the leagues so that you have the two columns of min(ERA) values—one for each league—with one row per year.\n",
        "4. Compute AL – NL, storing the result in a new column.\n",
        "5. Stack the data for the AL, NL, and AL – NL, with the labels column called Type and the data column called min(ERA).\n",
        "6. Save the resulting data frame to a variable named `min_era_by_league`\n",
        "7. Use `ggplot` to recreate the plot.  Hint:  Use `geom_hline` and `geom_vline` to add the reference lines and `annotate` to add the annotation."
      ]
    },
    {
      "cell_type": "code",
      "execution_count": null,
      "metadata": {
        "id": "CxwEsVG9Y7zr"
      },
      "outputs": [],
      "source": [
        "# Your code here"
      ]
    }
  ],
  "metadata": {
    "kernelspec": {
      "display_name": "R",
      "language": "R",
      "name": "ir"
    },
    "language_info": {
      "codemirror_mode": "r",
      "file_extension": ".r",
      "mimetype": "text/x-r-source",
      "name": "R",
      "pygments_lexer": "r",
      "version": "3.5.1"
    },
    "colab": {
      "provenance": [],
      "include_colab_link": true
    }
  },
  "nbformat": 4,
  "nbformat_minor": 0
}