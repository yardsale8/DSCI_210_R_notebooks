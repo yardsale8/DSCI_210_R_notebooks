{
  "cells": [
    {
      "cell_type": "markdown",
      "metadata": {
        "id": "view-in-github",
        "colab_type": "text"
      },
      "source": [
        "<a href=\"https://colab.research.google.com/github/yardsale8/DSCI_210_R_notebooks/blob/main/lecture_9_3_computing_arules_the_dplyr_way.ipynb\" target=\"_parent\"><img src=\"https://colab.research.google.com/assets/colab-badge.svg\" alt=\"Open In Colab\"/></a>"
      ]
    },
    {
      "cell_type": "markdown",
      "metadata": {
        "id": "kZ0WKKMLBFWy"
      },
      "source": [
        "# Computing Association Rules with `dplyr`"
      ]
    },
    {
      "cell_type": "markdown",
      "metadata": {
        "id": "Fx4yBRn4BFW2"
      },
      "source": [
        "### Review - Association Rules\n",
        "\n",
        "Consider the rule $\\{butter\\} \\rightarrow \\{whole.milk\\}$\n",
        "\n",
        "  * $Support(\\textrm{butter and milk}) = \\frac{\\textrm{# butter and milk transactions}}{\\textrm{# total transactions}}$\n",
        "  * $Support(\\textrm{butter}) = \\frac{\\textrm{# butter transactions}}{\\textrm{#\n",
        "  total transactions}}$\n",
        "  * $Confidence= \\frac{Support(\\textrm{butter and milk})}{Support(\\textrm{butter})}$\n",
        "  * $Lift= \\frac{Confidence}{Support(\\textrm{milk})}$\n",
        "  "
      ]
    },
    {
      "cell_type": "markdown",
      "metadata": {
        "id": "p8uGQHuhBFW2"
      },
      "source": [
        "### Small example:  Compute the confidence and lift of {bread} -> {milk}\n",
        "\n",
        "\n",
        "<img width=\"350\" src=\"https://github.com/yardsale8/DSCI_210_R_notebooks/blob/main/img/small_example.png?raw=1\">\n",
        "\n",
        "\n",
        "Use `dyplr` to:  \n",
        "\n",
        "  * mutate to compute joint transactions\n",
        "  * summarize to compute counts and percents\n",
        "  "
      ]
    },
    {
      "cell_type": "markdown",
      "metadata": {
        "id": "WinasRzNBFW3"
      },
      "source": [
        "### New example: investigate rule $\\{butter\\} \\longrightarrow \\{milk\\}$ with `dplyr`\n",
        "  "
      ]
    },
    {
      "cell_type": "code",
      "execution_count": 42,
      "metadata": {
        "colab": {
          "base_uri": "https://localhost:8080/",
          "height": 299
        },
        "id": "V7ieY1q6BFW3",
        "outputId": "b9d77cd5-a7b9-4787-eedf-32de42756725"
      },
      "outputs": [
        {
          "output_type": "display_data",
          "data": {
            "text/html": [
              "<table class=\"dataframe\">\n",
              "<caption>A data.frame: 6 × 169</caption>\n",
              "<thead>\n",
              "\t<tr><th></th><th scope=col>frankfurter</th><th scope=col>sausage</th><th scope=col>liver.loaf</th><th scope=col>ham</th><th scope=col>meat</th><th scope=col>finished.products</th><th scope=col>organic.sausage</th><th scope=col>chicken</th><th scope=col>turkey</th><th scope=col>pork</th><th scope=col>⋯</th><th scope=col>candles</th><th scope=col>light.bulbs</th><th scope=col>sound.storage.medium</th><th scope=col>newspapers</th><th scope=col>photo.film</th><th scope=col>pot.plants</th><th scope=col>flower.soil.fertilizer</th><th scope=col>flower..seeds.</th><th scope=col>shopping.bags</th><th scope=col>bags</th></tr>\n",
              "\t<tr><th></th><th scope=col>&lt;int&gt;</th><th scope=col>&lt;int&gt;</th><th scope=col>&lt;int&gt;</th><th scope=col>&lt;int&gt;</th><th scope=col>&lt;int&gt;</th><th scope=col>&lt;int&gt;</th><th scope=col>&lt;int&gt;</th><th scope=col>&lt;int&gt;</th><th scope=col>&lt;int&gt;</th><th scope=col>&lt;int&gt;</th><th scope=col>⋯</th><th scope=col>&lt;int&gt;</th><th scope=col>&lt;int&gt;</th><th scope=col>&lt;int&gt;</th><th scope=col>&lt;int&gt;</th><th scope=col>&lt;int&gt;</th><th scope=col>&lt;int&gt;</th><th scope=col>&lt;int&gt;</th><th scope=col>&lt;int&gt;</th><th scope=col>&lt;int&gt;</th><th scope=col>&lt;int&gt;</th></tr>\n",
              "</thead>\n",
              "<tbody>\n",
              "\t<tr><th scope=row>1</th><td>0</td><td>0</td><td>0</td><td>0</td><td>0</td><td>0</td><td>0</td><td>0</td><td>0</td><td>0</td><td>⋯</td><td>0</td><td>0</td><td>0</td><td>0</td><td>0</td><td>0</td><td>0</td><td>0</td><td>0</td><td>0</td></tr>\n",
              "\t<tr><th scope=row>2</th><td>0</td><td>0</td><td>0</td><td>0</td><td>0</td><td>0</td><td>0</td><td>0</td><td>0</td><td>0</td><td>⋯</td><td>0</td><td>0</td><td>0</td><td>0</td><td>0</td><td>0</td><td>0</td><td>0</td><td>0</td><td>0</td></tr>\n",
              "\t<tr><th scope=row>3</th><td>0</td><td>0</td><td>0</td><td>0</td><td>0</td><td>0</td><td>0</td><td>0</td><td>0</td><td>0</td><td>⋯</td><td>0</td><td>0</td><td>0</td><td>0</td><td>0</td><td>0</td><td>0</td><td>0</td><td>0</td><td>0</td></tr>\n",
              "\t<tr><th scope=row>4</th><td>0</td><td>0</td><td>0</td><td>0</td><td>0</td><td>0</td><td>0</td><td>0</td><td>0</td><td>0</td><td>⋯</td><td>0</td><td>0</td><td>0</td><td>0</td><td>0</td><td>0</td><td>0</td><td>0</td><td>0</td><td>0</td></tr>\n",
              "\t<tr><th scope=row>5</th><td>0</td><td>0</td><td>0</td><td>0</td><td>0</td><td>0</td><td>0</td><td>0</td><td>0</td><td>0</td><td>⋯</td><td>0</td><td>0</td><td>0</td><td>0</td><td>0</td><td>0</td><td>0</td><td>0</td><td>0</td><td>0</td></tr>\n",
              "\t<tr><th scope=row>6</th><td>0</td><td>0</td><td>0</td><td>0</td><td>0</td><td>0</td><td>0</td><td>0</td><td>0</td><td>0</td><td>⋯</td><td>0</td><td>0</td><td>0</td><td>0</td><td>0</td><td>0</td><td>0</td><td>0</td><td>0</td><td>0</td></tr>\n",
              "</tbody>\n",
              "</table>\n"
            ],
            "text/markdown": "\nA data.frame: 6 × 169\n\n| <!--/--> | frankfurter &lt;int&gt; | sausage &lt;int&gt; | liver.loaf &lt;int&gt; | ham &lt;int&gt; | meat &lt;int&gt; | finished.products &lt;int&gt; | organic.sausage &lt;int&gt; | chicken &lt;int&gt; | turkey &lt;int&gt; | pork &lt;int&gt; | ⋯ ⋯ | candles &lt;int&gt; | light.bulbs &lt;int&gt; | sound.storage.medium &lt;int&gt; | newspapers &lt;int&gt; | photo.film &lt;int&gt; | pot.plants &lt;int&gt; | flower.soil.fertilizer &lt;int&gt; | flower..seeds. &lt;int&gt; | shopping.bags &lt;int&gt; | bags &lt;int&gt; |\n|---|---|---|---|---|---|---|---|---|---|---|---|---|---|---|---|---|---|---|---|---|---|\n| 1 | 0 | 0 | 0 | 0 | 0 | 0 | 0 | 0 | 0 | 0 | ⋯ | 0 | 0 | 0 | 0 | 0 | 0 | 0 | 0 | 0 | 0 |\n| 2 | 0 | 0 | 0 | 0 | 0 | 0 | 0 | 0 | 0 | 0 | ⋯ | 0 | 0 | 0 | 0 | 0 | 0 | 0 | 0 | 0 | 0 |\n| 3 | 0 | 0 | 0 | 0 | 0 | 0 | 0 | 0 | 0 | 0 | ⋯ | 0 | 0 | 0 | 0 | 0 | 0 | 0 | 0 | 0 | 0 |\n| 4 | 0 | 0 | 0 | 0 | 0 | 0 | 0 | 0 | 0 | 0 | ⋯ | 0 | 0 | 0 | 0 | 0 | 0 | 0 | 0 | 0 | 0 |\n| 5 | 0 | 0 | 0 | 0 | 0 | 0 | 0 | 0 | 0 | 0 | ⋯ | 0 | 0 | 0 | 0 | 0 | 0 | 0 | 0 | 0 | 0 |\n| 6 | 0 | 0 | 0 | 0 | 0 | 0 | 0 | 0 | 0 | 0 | ⋯ | 0 | 0 | 0 | 0 | 0 | 0 | 0 | 0 | 0 | 0 |\n\n",
            "text/latex": "A data.frame: 6 × 169\n\\begin{tabular}{r|lllllllllllllllllllll}\n  & frankfurter & sausage & liver.loaf & ham & meat & finished.products & organic.sausage & chicken & turkey & pork & ⋯ & candles & light.bulbs & sound.storage.medium & newspapers & photo.film & pot.plants & flower.soil.fertilizer & flower..seeds. & shopping.bags & bags\\\\\n  & <int> & <int> & <int> & <int> & <int> & <int> & <int> & <int> & <int> & <int> & ⋯ & <int> & <int> & <int> & <int> & <int> & <int> & <int> & <int> & <int> & <int>\\\\\n\\hline\n\t1 & 0 & 0 & 0 & 0 & 0 & 0 & 0 & 0 & 0 & 0 & ⋯ & 0 & 0 & 0 & 0 & 0 & 0 & 0 & 0 & 0 & 0\\\\\n\t2 & 0 & 0 & 0 & 0 & 0 & 0 & 0 & 0 & 0 & 0 & ⋯ & 0 & 0 & 0 & 0 & 0 & 0 & 0 & 0 & 0 & 0\\\\\n\t3 & 0 & 0 & 0 & 0 & 0 & 0 & 0 & 0 & 0 & 0 & ⋯ & 0 & 0 & 0 & 0 & 0 & 0 & 0 & 0 & 0 & 0\\\\\n\t4 & 0 & 0 & 0 & 0 & 0 & 0 & 0 & 0 & 0 & 0 & ⋯ & 0 & 0 & 0 & 0 & 0 & 0 & 0 & 0 & 0 & 0\\\\\n\t5 & 0 & 0 & 0 & 0 & 0 & 0 & 0 & 0 & 0 & 0 & ⋯ & 0 & 0 & 0 & 0 & 0 & 0 & 0 & 0 & 0 & 0\\\\\n\t6 & 0 & 0 & 0 & 0 & 0 & 0 & 0 & 0 & 0 & 0 & ⋯ & 0 & 0 & 0 & 0 & 0 & 0 & 0 & 0 & 0 & 0\\\\\n\\end{tabular}\n",
            "text/plain": [
              "  frankfurter sausage liver.loaf ham meat finished.products organic.sausage\n",
              "1 0           0       0          0   0    0                 0              \n",
              "2 0           0       0          0   0    0                 0              \n",
              "3 0           0       0          0   0    0                 0              \n",
              "4 0           0       0          0   0    0                 0              \n",
              "5 0           0       0          0   0    0                 0              \n",
              "6 0           0       0          0   0    0                 0              \n",
              "  chicken turkey pork ⋯ candles light.bulbs sound.storage.medium newspapers\n",
              "1 0       0      0    ⋯ 0       0           0                    0         \n",
              "2 0       0      0    ⋯ 0       0           0                    0         \n",
              "3 0       0      0    ⋯ 0       0           0                    0         \n",
              "4 0       0      0    ⋯ 0       0           0                    0         \n",
              "5 0       0      0    ⋯ 0       0           0                    0         \n",
              "6 0       0      0    ⋯ 0       0           0                    0         \n",
              "  photo.film pot.plants flower.soil.fertilizer flower..seeds. shopping.bags\n",
              "1 0          0          0                      0              0            \n",
              "2 0          0          0                      0              0            \n",
              "3 0          0          0                      0              0            \n",
              "4 0          0          0                      0              0            \n",
              "5 0          0          0                      0              0            \n",
              "6 0          0          0                      0              0            \n",
              "  bags\n",
              "1 0   \n",
              "2 0   \n",
              "3 0   \n",
              "4 0   \n",
              "5 0   \n",
              "6 0   "
            ]
          },
          "metadata": {}
        }
      ],
      "source": [
        "groceries <- read.csv('https://github.com/WSU-DataScience/DSCI_210_R_notebooks/raw/main/data/Groceries.csv')\n",
        "head(groceries)"
      ]
    },
    {
      "cell_type": "code",
      "source": [
        "library(tidyverse)"
      ],
      "metadata": {
        "id": "bD5XDSLRHW03"
      },
      "execution_count": 43,
      "outputs": []
    },
    {
      "cell_type": "code",
      "execution_count": 44,
      "metadata": {
        "colab": {
          "base_uri": "https://localhost:8080/",
          "height": 279
        },
        "id": "03S6hqHPBFW6",
        "outputId": "0b359706-52eb-434a-b28b-5cb9f264ec43"
      },
      "outputs": [
        {
          "output_type": "display_data",
          "data": {
            "text/html": [
              "<table class=\"dataframe\">\n",
              "<caption>A data.frame: 6 × 2</caption>\n",
              "<thead>\n",
              "\t<tr><th></th><th scope=col>butter</th><th scope=col>whole.milk</th></tr>\n",
              "\t<tr><th></th><th scope=col>&lt;int&gt;</th><th scope=col>&lt;int&gt;</th></tr>\n",
              "</thead>\n",
              "<tbody>\n",
              "\t<tr><th scope=row>1</th><td>0</td><td>0</td></tr>\n",
              "\t<tr><th scope=row>2</th><td>0</td><td>0</td></tr>\n",
              "\t<tr><th scope=row>3</th><td>0</td><td>1</td></tr>\n",
              "\t<tr><th scope=row>4</th><td>0</td><td>0</td></tr>\n",
              "\t<tr><th scope=row>5</th><td>0</td><td>1</td></tr>\n",
              "\t<tr><th scope=row>6</th><td>1</td><td>1</td></tr>\n",
              "</tbody>\n",
              "</table>\n"
            ],
            "text/markdown": "\nA data.frame: 6 × 2\n\n| <!--/--> | butter &lt;int&gt; | whole.milk &lt;int&gt; |\n|---|---|---|\n| 1 | 0 | 0 |\n| 2 | 0 | 0 |\n| 3 | 0 | 1 |\n| 4 | 0 | 0 |\n| 5 | 0 | 1 |\n| 6 | 1 | 1 |\n\n",
            "text/latex": "A data.frame: 6 × 2\n\\begin{tabular}{r|ll}\n  & butter & whole.milk\\\\\n  & <int> & <int>\\\\\n\\hline\n\t1 & 0 & 0\\\\\n\t2 & 0 & 0\\\\\n\t3 & 0 & 1\\\\\n\t4 & 0 & 0\\\\\n\t5 & 0 & 1\\\\\n\t6 & 1 & 1\\\\\n\\end{tabular}\n",
            "text/plain": [
              "  butter whole.milk\n",
              "1 0      0         \n",
              "2 0      0         \n",
              "3 0      1         \n",
              "4 0      0         \n",
              "5 0      1         \n",
              "6 1      1         "
            ]
          },
          "metadata": {}
        }
      ],
      "source": [
        "(groceries\n",
        " %>% select(butter, whole.milk)\n",
        " ) -> butter_milk\n",
        "\n",
        "butter_milk %>% head"
      ]
    },
    {
      "cell_type": "markdown",
      "metadata": {
        "id": "DhPfDwN-BFW8"
      },
      "source": [
        "#### Support(Butter): 2 steps"
      ]
    },
    {
      "cell_type": "code",
      "execution_count": 46,
      "metadata": {
        "colab": {
          "base_uri": "https://localhost:8080/",
          "height": 126
        },
        "id": "BWEDqDqzBFW8",
        "outputId": "7704ac14-169f-450c-c8bf-3192d68d55f9"
      },
      "outputs": [
        {
          "output_type": "display_data",
          "data": {
            "text/html": [
              "<table class=\"dataframe\">\n",
              "<caption>A data.frame: 1 × 3</caption>\n",
              "<thead>\n",
              "\t<tr><th scope=col>Nbutter</th><th scope=col>N</th><th scope=col>support_butter</th></tr>\n",
              "\t<tr><th scope=col>&lt;int&gt;</th><th scope=col>&lt;int&gt;</th><th scope=col>&lt;dbl&gt;</th></tr>\n",
              "</thead>\n",
              "<tbody>\n",
              "\t<tr><td>545</td><td>9835</td><td>0.05541434</td></tr>\n",
              "</tbody>\n",
              "</table>\n"
            ],
            "text/markdown": "\nA data.frame: 1 × 3\n\n| Nbutter &lt;int&gt; | N &lt;int&gt; | support_butter &lt;dbl&gt; |\n|---|---|---|\n| 545 | 9835 | 0.05541434 |\n\n",
            "text/latex": "A data.frame: 1 × 3\n\\begin{tabular}{lll}\n Nbutter & N & support\\_butter\\\\\n <int> & <int> & <dbl>\\\\\n\\hline\n\t 545 & 9835 & 0.05541434\\\\\n\\end{tabular}\n",
            "text/plain": [
              "  Nbutter N    support_butter\n",
              "1 545     9835 0.05541434    "
            ]
          },
          "metadata": {}
        }
      ],
      "source": [
        "(butter_milk\n",
        "%>% summarize(Nbutter = sum(butter),\n",
        "              N = n())\n",
        "%>% mutate(support_butter = Nbutter/N)\n",
        ")"
      ]
    },
    {
      "cell_type": "markdown",
      "metadata": {
        "id": "mY1w7zQIBFW8"
      },
      "source": [
        "#### Support(Butter): all at once"
      ]
    },
    {
      "cell_type": "code",
      "execution_count": 47,
      "metadata": {
        "colab": {
          "base_uri": "https://localhost:8080/",
          "height": 126
        },
        "id": "vmVoassZBFW9",
        "outputId": "8789ecd8-6be6-4530-f459-b43c2c78e9be"
      },
      "outputs": [
        {
          "output_type": "display_data",
          "data": {
            "text/html": [
              "<table class=\"dataframe\">\n",
              "<caption>A data.frame: 1 × 1</caption>\n",
              "<thead>\n",
              "\t<tr><th scope=col>support_butter</th></tr>\n",
              "\t<tr><th scope=col>&lt;dbl&gt;</th></tr>\n",
              "</thead>\n",
              "<tbody>\n",
              "\t<tr><td>0.05541434</td></tr>\n",
              "</tbody>\n",
              "</table>\n"
            ],
            "text/markdown": "\nA data.frame: 1 × 1\n\n| support_butter &lt;dbl&gt; |\n|---|\n| 0.05541434 |\n\n",
            "text/latex": "A data.frame: 1 × 1\n\\begin{tabular}{l}\n support\\_butter\\\\\n <dbl>\\\\\n\\hline\n\t 0.05541434\\\\\n\\end{tabular}\n",
            "text/plain": [
              "  support_butter\n",
              "1 0.05541434    "
            ]
          },
          "metadata": {}
        }
      ],
      "source": [
        "(butter_milk\n",
        " %>% summarize(support_butter = sum(butter)/n())\n",
        ")"
      ]
    },
    {
      "cell_type": "markdown",
      "metadata": {
        "id": "f0iVkK2nBFW9"
      },
      "source": [
        "#### Support of whole.milk"
      ]
    },
    {
      "cell_type": "code",
      "execution_count": 48,
      "metadata": {
        "colab": {
          "base_uri": "https://localhost:8080/",
          "height": 143
        },
        "id": "A2b9-xp7BFW9",
        "outputId": "bdbac9f4-76fa-4bd7-d864-022efe4d2330"
      },
      "outputs": [
        {
          "output_type": "display_data",
          "data": {
            "text/html": [
              "<table class=\"dataframe\">\n",
              "<caption>A data.frame: 1 × 1</caption>\n",
              "<thead>\n",
              "\t<tr><th scope=col>support_milk</th></tr>\n",
              "\t<tr><th scope=col>&lt;dbl&gt;</th></tr>\n",
              "</thead>\n",
              "<tbody>\n",
              "\t<tr><td>0.255516</td></tr>\n",
              "</tbody>\n",
              "</table>\n"
            ],
            "text/markdown": "\nA data.frame: 1 × 1\n\n| support_milk &lt;dbl&gt; |\n|---|\n| 0.255516 |\n\n",
            "text/latex": "A data.frame: 1 × 1\n\\begin{tabular}{l}\n support\\_milk\\\\\n <dbl>\\\\\n\\hline\n\t 0.255516\\\\\n\\end{tabular}\n",
            "text/plain": [
              "  support_milk\n",
              "1 0.255516    "
            ]
          },
          "metadata": {}
        }
      ],
      "source": [
        "(butter_milk\n",
        "%>% summarize(support_milk = sum(whole.milk)/n())\n",
        ")"
      ]
    },
    {
      "cell_type": "markdown",
      "metadata": {
        "id": "HskAILy1BFW9"
      },
      "source": [
        "#### Support of $\\{Butter\\;and\\;Milk\\}$\n",
        "\n",
        "Why `butter * whole.milk`?"
      ]
    },
    {
      "cell_type": "code",
      "source": [
        "(butter_milk\n",
        "%>% summarize(support_rule = sum(butter * whole.milk)/n())\n",
        ")"
      ],
      "metadata": {
        "colab": {
          "base_uri": "https://localhost:8080/",
          "height": 143
        },
        "id": "ksfCV0N7Btso",
        "outputId": "b8fc8de3-3296-4eda-fc29-cc7c7efca797"
      },
      "execution_count": 49,
      "outputs": [
        {
          "output_type": "display_data",
          "data": {
            "text/html": [
              "<table class=\"dataframe\">\n",
              "<caption>A data.frame: 1 × 1</caption>\n",
              "<thead>\n",
              "\t<tr><th scope=col>support_rule</th></tr>\n",
              "\t<tr><th scope=col>&lt;dbl&gt;</th></tr>\n",
              "</thead>\n",
              "<tbody>\n",
              "\t<tr><td>0.02755465</td></tr>\n",
              "</tbody>\n",
              "</table>\n"
            ],
            "text/markdown": "\nA data.frame: 1 × 1\n\n| support_rule &lt;dbl&gt; |\n|---|\n| 0.02755465 |\n\n",
            "text/latex": "A data.frame: 1 × 1\n\\begin{tabular}{l}\n support\\_rule\\\\\n <dbl>\\\\\n\\hline\n\t 0.02755465\\\\\n\\end{tabular}\n",
            "text/plain": [
              "  support_rule\n",
              "1 0.02755465  "
            ]
          },
          "metadata": {}
        }
      ]
    },
    {
      "cell_type": "markdown",
      "metadata": {
        "id": "du3BEkTJBFW9"
      },
      "source": [
        "#### All together now (+ confidence and lift)"
      ]
    },
    {
      "cell_type": "code",
      "execution_count": 50,
      "metadata": {
        "colab": {
          "base_uri": "https://localhost:8080/",
          "height": 126
        },
        "id": "K-VLZZ4MBFW-",
        "outputId": "3053c0b3-82be-4fb6-86f7-56adf689ed9d"
      },
      "outputs": [
        {
          "output_type": "display_data",
          "data": {
            "text/html": [
              "<table class=\"dataframe\">\n",
              "<caption>A data.frame: 1 × 5</caption>\n",
              "<thead>\n",
              "\t<tr><th scope=col>support_milk</th><th scope=col>support_butter</th><th scope=col>support_rule</th><th scope=col>confidence</th><th scope=col>lift</th></tr>\n",
              "\t<tr><th scope=col>&lt;dbl&gt;</th><th scope=col>&lt;dbl&gt;</th><th scope=col>&lt;dbl&gt;</th><th scope=col>&lt;dbl&gt;</th><th scope=col>&lt;dbl&gt;</th></tr>\n",
              "</thead>\n",
              "<tbody>\n",
              "\t<tr><td>0.255516</td><td>0.05541434</td><td>0.02755465</td><td>0.4972477</td><td>1.946053</td></tr>\n",
              "</tbody>\n",
              "</table>\n"
            ],
            "text/markdown": "\nA data.frame: 1 × 5\n\n| support_milk &lt;dbl&gt; | support_butter &lt;dbl&gt; | support_rule &lt;dbl&gt; | confidence &lt;dbl&gt; | lift &lt;dbl&gt; |\n|---|---|---|---|---|\n| 0.255516 | 0.05541434 | 0.02755465 | 0.4972477 | 1.946053 |\n\n",
            "text/latex": "A data.frame: 1 × 5\n\\begin{tabular}{lllll}\n support\\_milk & support\\_butter & support\\_rule & confidence & lift\\\\\n <dbl> & <dbl> & <dbl> & <dbl> & <dbl>\\\\\n\\hline\n\t 0.255516 & 0.05541434 & 0.02755465 & 0.4972477 & 1.946053\\\\\n\\end{tabular}\n",
            "text/plain": [
              "  support_milk support_butter support_rule confidence lift    \n",
              "1 0.255516     0.05541434     0.02755465   0.4972477  1.946053"
            ]
          },
          "metadata": {}
        }
      ],
      "source": [
        "(groceries\n",
        "%>% summarize(support_milk = sum(whole.milk)/n(),\n",
        "              support_butter = sum(butter)/n(),\n",
        "              support_rule = sum(butter *  whole.milk)/n())\n",
        "%>% mutate(confidence = support_rule/support_butter)\n",
        "%>% mutate(lift = confidence/support_milk)\n",
        ")"
      ]
    },
    {
      "cell_type": "markdown",
      "metadata": {
        "id": "vl9GK2OPBFW-"
      },
      "source": [
        "#### Notes\n",
        "\n",
        "* Must compute values before you use them\n",
        "    * Supports before confidence\n",
        "    * Confidence before lift"
      ]
    },
    {
      "cell_type": "markdown",
      "source": [
        "## <font color=\"red\"> Exercise 9.3.1 </font>\n",
        "\n",
        "Use a similar approach to compute the above values for the rule $\\{\\text{domestic.eggs}\\}\\longrightarrow\\{\\text{ham}\\}$."
      ],
      "metadata": {
        "id": "ISnKkOm0CfnJ"
      }
    },
    {
      "cell_type": "code",
      "source": [
        "# Your code here"
      ],
      "metadata": {
        "id": "PtKzrnXuEmb0"
      },
      "execution_count": null,
      "outputs": []
    },
    {
      "cell_type": "markdown",
      "metadata": {
        "id": "7WoVPZgbBFW-"
      },
      "source": [
        "### Computing Many Rules At Once\n",
        "\n",
        "\n",
        "* Stack the LHS into one column\n",
        "* Group by LHS\n",
        "* Compute:\n",
        "    * Support\n",
        "    * Confidence\n",
        "    * Lift\n",
        "  "
      ]
    },
    {
      "cell_type": "code",
      "execution_count": 51,
      "metadata": {
        "id": "woeGbDBBBFW-"
      },
      "outputs": [],
      "source": [
        "groceries <- read.csv('https://github.com/WSU-DataScience/DSCI_210_R_notebooks/raw/main/data/Groceries.csv')\n",
        "N <- nrow(groceries)"
      ]
    },
    {
      "cell_type": "markdown",
      "metadata": {
        "id": "zkl4bkrdBFW-"
      },
      "source": [
        "#### Step 1 - Stack all of the other products"
      ]
    },
    {
      "cell_type": "code",
      "execution_count": 53,
      "metadata": {
        "colab": {
          "base_uri": "https://localhost:8080/",
          "height": 279
        },
        "id": "WNi9SHY1BFW-",
        "outputId": "3486da20-972c-4323-c334-326d3bff4f1f"
      },
      "outputs": [
        {
          "output_type": "display_data",
          "data": {
            "text/html": [
              "<table class=\"dataframe\">\n",
              "<caption>A data.frame: 6 × 3</caption>\n",
              "<thead>\n",
              "\t<tr><th></th><th scope=col>whole.milk</th><th scope=col>lhs</th><th scope=col>pur_lhs</th></tr>\n",
              "\t<tr><th></th><th scope=col>&lt;int&gt;</th><th scope=col>&lt;chr&gt;</th><th scope=col>&lt;int&gt;</th></tr>\n",
              "</thead>\n",
              "<tbody>\n",
              "\t<tr><th scope=row>1</th><td>0</td><td>frankfurter</td><td>0</td></tr>\n",
              "\t<tr><th scope=row>2</th><td>0</td><td>frankfurter</td><td>0</td></tr>\n",
              "\t<tr><th scope=row>3</th><td>1</td><td>frankfurter</td><td>0</td></tr>\n",
              "\t<tr><th scope=row>4</th><td>0</td><td>frankfurter</td><td>0</td></tr>\n",
              "\t<tr><th scope=row>5</th><td>1</td><td>frankfurter</td><td>0</td></tr>\n",
              "\t<tr><th scope=row>6</th><td>1</td><td>frankfurter</td><td>0</td></tr>\n",
              "</tbody>\n",
              "</table>\n"
            ],
            "text/markdown": "\nA data.frame: 6 × 3\n\n| <!--/--> | whole.milk &lt;int&gt; | lhs &lt;chr&gt; | pur_lhs &lt;int&gt; |\n|---|---|---|---|\n| 1 | 0 | frankfurter | 0 |\n| 2 | 0 | frankfurter | 0 |\n| 3 | 1 | frankfurter | 0 |\n| 4 | 0 | frankfurter | 0 |\n| 5 | 1 | frankfurter | 0 |\n| 6 | 1 | frankfurter | 0 |\n\n",
            "text/latex": "A data.frame: 6 × 3\n\\begin{tabular}{r|lll}\n  & whole.milk & lhs & pur\\_lhs\\\\\n  & <int> & <chr> & <int>\\\\\n\\hline\n\t1 & 0 & frankfurter & 0\\\\\n\t2 & 0 & frankfurter & 0\\\\\n\t3 & 1 & frankfurter & 0\\\\\n\t4 & 0 & frankfurter & 0\\\\\n\t5 & 1 & frankfurter & 0\\\\\n\t6 & 1 & frankfurter & 0\\\\\n\\end{tabular}\n",
            "text/plain": [
              "  whole.milk lhs         pur_lhs\n",
              "1 0          frankfurter 0      \n",
              "2 0          frankfurter 0      \n",
              "3 1          frankfurter 0      \n",
              "4 0          frankfurter 0      \n",
              "5 1          frankfurter 0      \n",
              "6 1          frankfurter 0      "
            ]
          },
          "metadata": {}
        }
      ],
      "source": [
        "(groceries\n",
        " %>% gather(key = \"lhs\",\n",
        "            value = \"pur_lhs\",\n",
        "            -whole.milk)\n",
        ") -> groceries_stacked\n",
        "\n",
        "groceries_stacked %>% head"
      ]
    },
    {
      "cell_type": "markdown",
      "metadata": {
        "id": "mAeSmZwSBFW_"
      },
      "source": [
        "#### Step 2 - Compute the support, confidence, and lift for each"
      ]
    },
    {
      "cell_type": "code",
      "execution_count": 55,
      "metadata": {
        "colab": {
          "base_uri": "https://localhost:8080/",
          "height": 279
        },
        "id": "0E44DO67BFW_",
        "outputId": "14c888c8-c213-4c5b-c6ca-91c44702a192"
      },
      "outputs": [
        {
          "output_type": "display_data",
          "data": {
            "text/html": [
              "<table class=\"dataframe\">\n",
              "<caption>A tibble: 6 × 6</caption>\n",
              "<thead>\n",
              "\t<tr><th scope=col>lhs</th><th scope=col>sup_milk</th><th scope=col>sup_lhs</th><th scope=col>joint_support</th><th scope=col>conf</th><th scope=col>lift</th></tr>\n",
              "\t<tr><th scope=col>&lt;chr&gt;</th><th scope=col>&lt;dbl&gt;</th><th scope=col>&lt;dbl&gt;</th><th scope=col>&lt;dbl&gt;</th><th scope=col>&lt;dbl&gt;</th><th scope=col>&lt;dbl&gt;</th></tr>\n",
              "</thead>\n",
              "<tbody>\n",
              "\t<tr><td>Instant.food.products</td><td>0.255516</td><td>0.0080325369</td><td>0.003050330</td><td>0.3797468</td><td>1.486196</td></tr>\n",
              "\t<tr><td>UHT.milk             </td><td>0.255516</td><td>0.0334519573</td><td>0.003965430</td><td>0.1185410</td><td>0.463928</td></tr>\n",
              "\t<tr><td>abrasive.cleaner     </td><td>0.255516</td><td>0.0035587189</td><td>0.001626843</td><td>0.4571429</td><td>1.789097</td></tr>\n",
              "\t<tr><td>artif..sweetener     </td><td>0.255516</td><td>0.0032536858</td><td>0.001118454</td><td>0.3437500</td><td>1.345317</td></tr>\n",
              "\t<tr><td>baby.cosmetics       </td><td>0.255516</td><td>0.0006100661</td><td>0.000305033</td><td>0.5000000</td><td>1.956825</td></tr>\n",
              "\t<tr><td>baby.food            </td><td>0.255516</td><td>0.0001016777</td><td>0.000000000</td><td>0.0000000</td><td>0.000000</td></tr>\n",
              "</tbody>\n",
              "</table>\n"
            ],
            "text/markdown": "\nA tibble: 6 × 6\n\n| lhs &lt;chr&gt; | sup_milk &lt;dbl&gt; | sup_lhs &lt;dbl&gt; | joint_support &lt;dbl&gt; | conf &lt;dbl&gt; | lift &lt;dbl&gt; |\n|---|---|---|---|---|---|\n| Instant.food.products | 0.255516 | 0.0080325369 | 0.003050330 | 0.3797468 | 1.486196 |\n| UHT.milk              | 0.255516 | 0.0334519573 | 0.003965430 | 0.1185410 | 0.463928 |\n| abrasive.cleaner      | 0.255516 | 0.0035587189 | 0.001626843 | 0.4571429 | 1.789097 |\n| artif..sweetener      | 0.255516 | 0.0032536858 | 0.001118454 | 0.3437500 | 1.345317 |\n| baby.cosmetics        | 0.255516 | 0.0006100661 | 0.000305033 | 0.5000000 | 1.956825 |\n| baby.food             | 0.255516 | 0.0001016777 | 0.000000000 | 0.0000000 | 0.000000 |\n\n",
            "text/latex": "A tibble: 6 × 6\n\\begin{tabular}{llllll}\n lhs & sup\\_milk & sup\\_lhs & joint\\_support & conf & lift\\\\\n <chr> & <dbl> & <dbl> & <dbl> & <dbl> & <dbl>\\\\\n\\hline\n\t Instant.food.products & 0.255516 & 0.0080325369 & 0.003050330 & 0.3797468 & 1.486196\\\\\n\t UHT.milk              & 0.255516 & 0.0334519573 & 0.003965430 & 0.1185410 & 0.463928\\\\\n\t abrasive.cleaner      & 0.255516 & 0.0035587189 & 0.001626843 & 0.4571429 & 1.789097\\\\\n\t artif..sweetener      & 0.255516 & 0.0032536858 & 0.001118454 & 0.3437500 & 1.345317\\\\\n\t baby.cosmetics        & 0.255516 & 0.0006100661 & 0.000305033 & 0.5000000 & 1.956825\\\\\n\t baby.food             & 0.255516 & 0.0001016777 & 0.000000000 & 0.0000000 & 0.000000\\\\\n\\end{tabular}\n",
            "text/plain": [
              "  lhs                   sup_milk sup_lhs      joint_support conf      lift    \n",
              "1 Instant.food.products 0.255516 0.0080325369 0.003050330   0.3797468 1.486196\n",
              "2 UHT.milk              0.255516 0.0334519573 0.003965430   0.1185410 0.463928\n",
              "3 abrasive.cleaner      0.255516 0.0035587189 0.001626843   0.4571429 1.789097\n",
              "4 artif..sweetener      0.255516 0.0032536858 0.001118454   0.3437500 1.345317\n",
              "5 baby.cosmetics        0.255516 0.0006100661 0.000305033   0.5000000 1.956825\n",
              "6 baby.food             0.255516 0.0001016777 0.000000000   0.0000000 0.000000"
            ]
          },
          "metadata": {}
        }
      ],
      "source": [
        "# Note that we group_by the products to keep them separate.\n",
        "many_rules <-\n",
        "(groceries_stacked\n",
        " %>% group_by(lhs)\n",
        " %>% summarize(sup_milk = sum(whole.milk)/n(),\n",
        "               sup_lhs = sum(pur_lhs)/n(),\n",
        "               joint_support = sum(whole.milk*pur_lhs)/n())\n",
        " %>% mutate(conf = joint_support/sup_lhs)\n",
        " %>% mutate(lift = conf/sup_milk)\n",
        ") -> many_rules\n",
        "\n",
        "many_rules %>% head"
      ]
    },
    {
      "cell_type": "markdown",
      "metadata": {
        "id": "BBDSfBfABFW_"
      },
      "source": [
        "#### Step 4 - filter rules with low support; sort by lift"
      ]
    },
    {
      "cell_type": "code",
      "execution_count": 56,
      "metadata": {
        "colab": {
          "base_uri": "https://localhost:8080/",
          "height": 187
        },
        "id": "9EtExudVBFW_",
        "outputId": "a0cd813e-6708-47aa-ffbe-6bbb85cbc062"
      },
      "outputs": [
        {
          "output_type": "display_data",
          "data": {
            "text/html": [
              "<table class=\"dataframe\">\n",
              "<caption>A tibble: 3 × 6</caption>\n",
              "<thead>\n",
              "\t<tr><th scope=col>lhs</th><th scope=col>sup_milk</th><th scope=col>sup_lhs</th><th scope=col>joint_support</th><th scope=col>conf</th><th scope=col>lift</th></tr>\n",
              "\t<tr><th scope=col>&lt;chr&gt;</th><th scope=col>&lt;dbl&gt;</th><th scope=col>&lt;dbl&gt;</th><th scope=col>&lt;dbl&gt;</th><th scope=col>&lt;dbl&gt;</th><th scope=col>&lt;dbl&gt;</th></tr>\n",
              "</thead>\n",
              "<tbody>\n",
              "\t<tr><td>yogurt          </td><td>0.255516</td><td>0.1395018</td><td>0.05602440</td><td>0.4016035</td><td>1.571735</td></tr>\n",
              "\t<tr><td>other.vegetables</td><td>0.255516</td><td>0.1934926</td><td>0.07483477</td><td>0.3867578</td><td>1.513634</td></tr>\n",
              "\t<tr><td>rolls.buns      </td><td>0.255516</td><td>0.1839349</td><td>0.05663447</td><td>0.3079049</td><td>1.205032</td></tr>\n",
              "</tbody>\n",
              "</table>\n"
            ],
            "text/markdown": "\nA tibble: 3 × 6\n\n| lhs &lt;chr&gt; | sup_milk &lt;dbl&gt; | sup_lhs &lt;dbl&gt; | joint_support &lt;dbl&gt; | conf &lt;dbl&gt; | lift &lt;dbl&gt; |\n|---|---|---|---|---|---|\n| yogurt           | 0.255516 | 0.1395018 | 0.05602440 | 0.4016035 | 1.571735 |\n| other.vegetables | 0.255516 | 0.1934926 | 0.07483477 | 0.3867578 | 1.513634 |\n| rolls.buns       | 0.255516 | 0.1839349 | 0.05663447 | 0.3079049 | 1.205032 |\n\n",
            "text/latex": "A tibble: 3 × 6\n\\begin{tabular}{llllll}\n lhs & sup\\_milk & sup\\_lhs & joint\\_support & conf & lift\\\\\n <chr> & <dbl> & <dbl> & <dbl> & <dbl> & <dbl>\\\\\n\\hline\n\t yogurt           & 0.255516 & 0.1395018 & 0.05602440 & 0.4016035 & 1.571735\\\\\n\t other.vegetables & 0.255516 & 0.1934926 & 0.07483477 & 0.3867578 & 1.513634\\\\\n\t rolls.buns       & 0.255516 & 0.1839349 & 0.05663447 & 0.3079049 & 1.205032\\\\\n\\end{tabular}\n",
            "text/plain": [
              "  lhs              sup_milk sup_lhs   joint_support conf      lift    \n",
              "1 yogurt           0.255516 0.1395018 0.05602440    0.4016035 1.571735\n",
              "2 other.vegetables 0.255516 0.1934926 0.07483477    0.3867578 1.513634\n",
              "3 rolls.buns       0.255516 0.1839349 0.05663447    0.3079049 1.205032"
            ]
          },
          "metadata": {}
        }
      ],
      "source": [
        "(many_rules\n",
        " %>% filter(joint_support > .05)\n",
        " %>% arrange(desc(lift))\n",
        ")"
      ]
    },
    {
      "cell_type": "code",
      "source": [
        "(many_rules\n",
        " %>% filter(joint_support > .05)\n",
        " %>% arrange(lift)\n",
        ")"
      ],
      "metadata": {
        "id": "sVBkQUOEIyEr",
        "outputId": "51c87bc3-4dee-40f1-d501-f108187648e8",
        "colab": {
          "base_uri": "https://localhost:8080/",
          "height": 187
        }
      },
      "execution_count": 57,
      "outputs": [
        {
          "output_type": "display_data",
          "data": {
            "text/html": [
              "<table class=\"dataframe\">\n",
              "<caption>A tibble: 3 × 6</caption>\n",
              "<thead>\n",
              "\t<tr><th scope=col>lhs</th><th scope=col>sup_milk</th><th scope=col>sup_lhs</th><th scope=col>joint_support</th><th scope=col>conf</th><th scope=col>lift</th></tr>\n",
              "\t<tr><th scope=col>&lt;chr&gt;</th><th scope=col>&lt;dbl&gt;</th><th scope=col>&lt;dbl&gt;</th><th scope=col>&lt;dbl&gt;</th><th scope=col>&lt;dbl&gt;</th><th scope=col>&lt;dbl&gt;</th></tr>\n",
              "</thead>\n",
              "<tbody>\n",
              "\t<tr><td>rolls.buns      </td><td>0.255516</td><td>0.1839349</td><td>0.05663447</td><td>0.3079049</td><td>1.205032</td></tr>\n",
              "\t<tr><td>other.vegetables</td><td>0.255516</td><td>0.1934926</td><td>0.07483477</td><td>0.3867578</td><td>1.513634</td></tr>\n",
              "\t<tr><td>yogurt          </td><td>0.255516</td><td>0.1395018</td><td>0.05602440</td><td>0.4016035</td><td>1.571735</td></tr>\n",
              "</tbody>\n",
              "</table>\n"
            ],
            "text/markdown": "\nA tibble: 3 × 6\n\n| lhs &lt;chr&gt; | sup_milk &lt;dbl&gt; | sup_lhs &lt;dbl&gt; | joint_support &lt;dbl&gt; | conf &lt;dbl&gt; | lift &lt;dbl&gt; |\n|---|---|---|---|---|---|\n| rolls.buns       | 0.255516 | 0.1839349 | 0.05663447 | 0.3079049 | 1.205032 |\n| other.vegetables | 0.255516 | 0.1934926 | 0.07483477 | 0.3867578 | 1.513634 |\n| yogurt           | 0.255516 | 0.1395018 | 0.05602440 | 0.4016035 | 1.571735 |\n\n",
            "text/latex": "A tibble: 3 × 6\n\\begin{tabular}{llllll}\n lhs & sup\\_milk & sup\\_lhs & joint\\_support & conf & lift\\\\\n <chr> & <dbl> & <dbl> & <dbl> & <dbl> & <dbl>\\\\\n\\hline\n\t rolls.buns       & 0.255516 & 0.1839349 & 0.05663447 & 0.3079049 & 1.205032\\\\\n\t other.vegetables & 0.255516 & 0.1934926 & 0.07483477 & 0.3867578 & 1.513634\\\\\n\t yogurt           & 0.255516 & 0.1395018 & 0.05602440 & 0.4016035 & 1.571735\\\\\n\\end{tabular}\n",
            "text/plain": [
              "  lhs              sup_milk sup_lhs   joint_support conf      lift    \n",
              "1 rolls.buns       0.255516 0.1839349 0.05663447    0.3079049 1.205032\n",
              "2 other.vegetables 0.255516 0.1934926 0.07483477    0.3867578 1.513634\n",
              "3 yogurt           0.255516 0.1395018 0.05602440    0.4016035 1.571735"
            ]
          },
          "metadata": {}
        }
      ]
    },
    {
      "cell_type": "markdown",
      "metadata": {
        "id": "pAi7jg2xBFXA"
      },
      "source": [
        "Interpretation of first rule:\n",
        "\n",
        "* Milk is purchased 25.6% of the time.  \n",
        "* Knowing yogurt was also purchased 'lifts' this rate of purchase by 57%.  \n",
        "* In other words, knowing yogurt was purchased increases the likelihood that milk was purchased by 57%, relative to the underlying rate at which milk was already being purchased."
      ]
    },
    {
      "cell_type": "markdown",
      "source": [
        "## <font color=\"red\"> Exercise 9.3.2 </font>\n",
        "\n",
        "Use a similar approach to all rules of the form $\\{\\text{<something>}\\}\\longrightarrow\\{\\text{ham}\\}$, then answer the following questions.\n",
        "\n",
        "1. Which of these rules is least useful in the prediction of `ham`?  Explain how you made this determination.\n",
        "2. Which items would you say are the most useful for predicting `ham`?  Explain.  \n"
      ],
      "metadata": {
        "id": "z3_BqloJF5_J"
      }
    },
    {
      "cell_type": "code",
      "source": [
        "# Your code here"
      ],
      "metadata": {
        "id": "0PONascWGWEn"
      },
      "execution_count": null,
      "outputs": []
    },
    {
      "cell_type": "markdown",
      "source": [
        "<font color=\"orange\">\n",
        "Your answers here\n",
        "</font>"
      ],
      "metadata": {
        "id": "TxeZLr2PGY61"
      }
    }
  ],
  "metadata": {
    "kernelspec": {
      "display_name": "R",
      "language": "R",
      "name": "ir"
    },
    "language_info": {
      "codemirror_mode": "r",
      "file_extension": ".r",
      "mimetype": "text/x-r-source",
      "name": "R",
      "pygments_lexer": "r",
      "version": "3.5.1"
    },
    "colab": {
      "provenance": [],
      "include_colab_link": true
    }
  },
  "nbformat": 4,
  "nbformat_minor": 0
}