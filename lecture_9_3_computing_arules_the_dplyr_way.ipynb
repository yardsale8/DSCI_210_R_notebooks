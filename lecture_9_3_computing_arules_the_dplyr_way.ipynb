{
 "cells": [
  {
   "cell_type": "markdown",
   "metadata": {},
   "source": [
    "# Computing Association Rules with `dplyr`"
   ]
  },
  {
   "cell_type": "markdown",
   "metadata": {},
   "source": [
    "### Review - Association Rules\n",
    "\n",
    "Consider the rule $\\{butter\\} \\rightarrow \\{whole.milk\\}$\n",
    "\n",
    "  * $Support(\\textrm{butter and milk}) = \\frac{\\textrm{# butter and milk transactions}}{\\textrm{# total transactions}}$ \n",
    "  * $Support(\\textrm{butter}) = \\frac{\\textrm{# butter transactions}}{\\textrm{#\n",
    "  total transactions}}$ \n",
    "  * $Confidence= \\frac{Support(\\textrm{butter and milk})}{Support(\\textrm{butter})}$ \n",
    "  * $Lift= \\frac{Confidence}{Support(\\textrm{milk})}$ \n",
    "  "
   ]
  },
  {
   "cell_type": "markdown",
   "metadata": {},
   "source": [
    "### Small example:  Compute the confidence and lift of {bread} -> {milk} \n",
    "\n",
    "\n",
    "<img width=\"350\" src=\"img/small_example.png\">\n",
    "\n",
    "\n",
    "Use `dyplr` to:  \n",
    "\n",
    "  * mutate to compute joint transactions \n",
    "  * summarize to compute counts and percents \n",
    "  "
   ]
  },
  {
   "cell_type": "markdown",
   "metadata": {},
   "source": [
    "### New example: investigate rule $\\{butter\\} \\longrightarrow \\{milk\\}$ with `dplyr`\n",
    "  "
   ]
  },
  {
   "cell_type": "code",
   "execution_count": 1,
   "metadata": {},
   "outputs": [
    {
     "data": {
      "text/html": [
       "<table>\n",
       "<thead><tr><th scope=col>frankfurter</th><th scope=col>sausage</th><th scope=col>liver.loaf</th><th scope=col>ham</th><th scope=col>meat</th><th scope=col>finished.products</th><th scope=col>organic.sausage</th><th scope=col>chicken</th><th scope=col>turkey</th><th scope=col>pork</th><th scope=col>⋯</th><th scope=col>candles</th><th scope=col>light.bulbs</th><th scope=col>sound.storage.medium</th><th scope=col>newspapers</th><th scope=col>photo.film</th><th scope=col>pot.plants</th><th scope=col>flower.soil.fertilizer</th><th scope=col>flower..seeds.</th><th scope=col>shopping.bags</th><th scope=col>bags</th></tr></thead>\n",
       "<tbody>\n",
       "\t<tr><td>0</td><td>0</td><td>0</td><td>0</td><td>0</td><td>0</td><td>0</td><td>0</td><td>0</td><td>0</td><td>⋯</td><td>0</td><td>0</td><td>0</td><td>0</td><td>0</td><td>0</td><td>0</td><td>0</td><td>0</td><td>0</td></tr>\n",
       "\t<tr><td>0</td><td>0</td><td>0</td><td>0</td><td>0</td><td>0</td><td>0</td><td>0</td><td>0</td><td>0</td><td>⋯</td><td>0</td><td>0</td><td>0</td><td>0</td><td>0</td><td>0</td><td>0</td><td>0</td><td>0</td><td>0</td></tr>\n",
       "\t<tr><td>0</td><td>0</td><td>0</td><td>0</td><td>0</td><td>0</td><td>0</td><td>0</td><td>0</td><td>0</td><td>⋯</td><td>0</td><td>0</td><td>0</td><td>0</td><td>0</td><td>0</td><td>0</td><td>0</td><td>0</td><td>0</td></tr>\n",
       "\t<tr><td>0</td><td>0</td><td>0</td><td>0</td><td>0</td><td>0</td><td>0</td><td>0</td><td>0</td><td>0</td><td>⋯</td><td>0</td><td>0</td><td>0</td><td>0</td><td>0</td><td>0</td><td>0</td><td>0</td><td>0</td><td>0</td></tr>\n",
       "\t<tr><td>0</td><td>0</td><td>0</td><td>0</td><td>0</td><td>0</td><td>0</td><td>0</td><td>0</td><td>0</td><td>⋯</td><td>0</td><td>0</td><td>0</td><td>0</td><td>0</td><td>0</td><td>0</td><td>0</td><td>0</td><td>0</td></tr>\n",
       "\t<tr><td>0</td><td>0</td><td>0</td><td>0</td><td>0</td><td>0</td><td>0</td><td>0</td><td>0</td><td>0</td><td>⋯</td><td>0</td><td>0</td><td>0</td><td>0</td><td>0</td><td>0</td><td>0</td><td>0</td><td>0</td><td>0</td></tr>\n",
       "</tbody>\n",
       "</table>\n"
      ],
      "text/latex": [
       "\\begin{tabular}{r|lllllllllllllllllllllllllllllllllllllllllllllllllllllllllllllllllllllllllllllllllllllllllllllllllllllllllllllllllllllllllllllllllllllllllllllllllllllllllllllllllllllllll}\n",
       " frankfurter & sausage & liver.loaf & ham & meat & finished.products & organic.sausage & chicken & turkey & pork & ⋯ & candles & light.bulbs & sound.storage.medium & newspapers & photo.film & pot.plants & flower.soil.fertilizer & flower..seeds. & shopping.bags & bags\\\\\n",
       "\\hline\n",
       "\t 0 & 0 & 0 & 0 & 0 & 0 & 0 & 0 & 0 & 0 & ⋯ & 0 & 0 & 0 & 0 & 0 & 0 & 0 & 0 & 0 & 0\\\\\n",
       "\t 0 & 0 & 0 & 0 & 0 & 0 & 0 & 0 & 0 & 0 & ⋯ & 0 & 0 & 0 & 0 & 0 & 0 & 0 & 0 & 0 & 0\\\\\n",
       "\t 0 & 0 & 0 & 0 & 0 & 0 & 0 & 0 & 0 & 0 & ⋯ & 0 & 0 & 0 & 0 & 0 & 0 & 0 & 0 & 0 & 0\\\\\n",
       "\t 0 & 0 & 0 & 0 & 0 & 0 & 0 & 0 & 0 & 0 & ⋯ & 0 & 0 & 0 & 0 & 0 & 0 & 0 & 0 & 0 & 0\\\\\n",
       "\t 0 & 0 & 0 & 0 & 0 & 0 & 0 & 0 & 0 & 0 & ⋯ & 0 & 0 & 0 & 0 & 0 & 0 & 0 & 0 & 0 & 0\\\\\n",
       "\t 0 & 0 & 0 & 0 & 0 & 0 & 0 & 0 & 0 & 0 & ⋯ & 0 & 0 & 0 & 0 & 0 & 0 & 0 & 0 & 0 & 0\\\\\n",
       "\\end{tabular}\n"
      ],
      "text/markdown": [
       "\n",
       "frankfurter | sausage | liver.loaf | ham | meat | finished.products | organic.sausage | chicken | turkey | pork | ⋯ | candles | light.bulbs | sound.storage.medium | newspapers | photo.film | pot.plants | flower.soil.fertilizer | flower..seeds. | shopping.bags | bags | \n",
       "|---|---|---|---|---|---|\n",
       "| 0 | 0 | 0 | 0 | 0 | 0 | 0 | 0 | 0 | 0 | ⋯ | 0 | 0 | 0 | 0 | 0 | 0 | 0 | 0 | 0 | 0 | \n",
       "| 0 | 0 | 0 | 0 | 0 | 0 | 0 | 0 | 0 | 0 | ⋯ | 0 | 0 | 0 | 0 | 0 | 0 | 0 | 0 | 0 | 0 | \n",
       "| 0 | 0 | 0 | 0 | 0 | 0 | 0 | 0 | 0 | 0 | ⋯ | 0 | 0 | 0 | 0 | 0 | 0 | 0 | 0 | 0 | 0 | \n",
       "| 0 | 0 | 0 | 0 | 0 | 0 | 0 | 0 | 0 | 0 | ⋯ | 0 | 0 | 0 | 0 | 0 | 0 | 0 | 0 | 0 | 0 | \n",
       "| 0 | 0 | 0 | 0 | 0 | 0 | 0 | 0 | 0 | 0 | ⋯ | 0 | 0 | 0 | 0 | 0 | 0 | 0 | 0 | 0 | 0 | \n",
       "| 0 | 0 | 0 | 0 | 0 | 0 | 0 | 0 | 0 | 0 | ⋯ | 0 | 0 | 0 | 0 | 0 | 0 | 0 | 0 | 0 | 0 | \n",
       "\n",
       "\n"
      ],
      "text/plain": [
       "  frankfurter sausage liver.loaf ham meat finished.products organic.sausage\n",
       "1 0           0       0          0   0    0                 0              \n",
       "2 0           0       0          0   0    0                 0              \n",
       "3 0           0       0          0   0    0                 0              \n",
       "4 0           0       0          0   0    0                 0              \n",
       "5 0           0       0          0   0    0                 0              \n",
       "6 0           0       0          0   0    0                 0              \n",
       "  chicken turkey pork ⋯ candles light.bulbs sound.storage.medium newspapers\n",
       "1 0       0      0    ⋯ 0       0           0                    0         \n",
       "2 0       0      0    ⋯ 0       0           0                    0         \n",
       "3 0       0      0    ⋯ 0       0           0                    0         \n",
       "4 0       0      0    ⋯ 0       0           0                    0         \n",
       "5 0       0      0    ⋯ 0       0           0                    0         \n",
       "6 0       0      0    ⋯ 0       0           0                    0         \n",
       "  photo.film pot.plants flower.soil.fertilizer flower..seeds. shopping.bags\n",
       "1 0          0          0                      0              0            \n",
       "2 0          0          0                      0              0            \n",
       "3 0          0          0                      0              0            \n",
       "4 0          0          0                      0              0            \n",
       "5 0          0          0                      0              0            \n",
       "6 0          0          0                      0              0            \n",
       "  bags\n",
       "1 0   \n",
       "2 0   \n",
       "3 0   \n",
       "4 0   \n",
       "5 0   \n",
       "6 0   "
      ]
     },
     "metadata": {},
     "output_type": "display_data"
    }
   ],
   "source": [
    "groceries <- read.csv('https://github.com/WSU-DataScience/DSCI_210_R_notebooks/raw/main/data/Groceries.csv')\n",
    "head(groceries)"
   ]
  },
  {
   "cell_type": "code",
   "execution_count": 2,
   "metadata": {},
   "outputs": [],
   "source": [
    "# Run if needed\n",
    "# install.packages('dplyr')"
   ]
  },
  {
   "cell_type": "code",
   "execution_count": 3,
   "metadata": {},
   "outputs": [
    {
     "name": "stderr",
     "output_type": "stream",
     "text": [
      "\n",
      "Attaching package: ‘dplyr’\n",
      "\n",
      "The following objects are masked from ‘package:stats’:\n",
      "\n",
      "    filter, lag\n",
      "\n",
      "The following objects are masked from ‘package:base’:\n",
      "\n",
      "    intersect, setdiff, setequal, union\n",
      "\n"
     ]
    },
    {
     "data": {
      "text/html": [
       "<table>\n",
       "<thead><tr><th scope=col>butter</th><th scope=col>whole.milk</th></tr></thead>\n",
       "<tbody>\n",
       "\t<tr><td>0</td><td>0</td></tr>\n",
       "\t<tr><td>0</td><td>0</td></tr>\n",
       "\t<tr><td>0</td><td>1</td></tr>\n",
       "\t<tr><td>0</td><td>0</td></tr>\n",
       "\t<tr><td>0</td><td>1</td></tr>\n",
       "\t<tr><td>1</td><td>1</td></tr>\n",
       "</tbody>\n",
       "</table>\n"
      ],
      "text/latex": [
       "\\begin{tabular}{r|ll}\n",
       " butter & whole.milk\\\\\n",
       "\\hline\n",
       "\t 0 & 0\\\\\n",
       "\t 0 & 0\\\\\n",
       "\t 0 & 1\\\\\n",
       "\t 0 & 0\\\\\n",
       "\t 0 & 1\\\\\n",
       "\t 1 & 1\\\\\n",
       "\\end{tabular}\n"
      ],
      "text/markdown": [
       "\n",
       "butter | whole.milk | \n",
       "|---|---|---|---|---|---|\n",
       "| 0 | 0 | \n",
       "| 0 | 0 | \n",
       "| 0 | 1 | \n",
       "| 0 | 0 | \n",
       "| 0 | 1 | \n",
       "| 1 | 1 | \n",
       "\n",
       "\n"
      ],
      "text/plain": [
       "  butter whole.milk\n",
       "1 0      0         \n",
       "2 0      0         \n",
       "3 0      1         \n",
       "4 0      0         \n",
       "5 0      1         \n",
       "6 1      1         "
      ]
     },
     "metadata": {},
     "output_type": "display_data"
    }
   ],
   "source": [
    "library(dplyr)\n",
    "butter_milk <- groceries %>%\n",
    "                select(butter, whole.milk)\n",
    "head(butter_milk)"
   ]
  },
  {
   "cell_type": "code",
   "execution_count": 4,
   "metadata": {},
   "outputs": [
    {
     "data": {
      "text/html": [
       "9835"
      ],
      "text/latex": [
       "9835"
      ],
      "text/markdown": [
       "9835"
      ],
      "text/plain": [
       "[1] 9835"
      ]
     },
     "metadata": {},
     "output_type": "display_data"
    }
   ],
   "source": [
    "N <- nrow(groceries)\n",
    "N"
   ]
  },
  {
   "cell_type": "markdown",
   "metadata": {},
   "source": [
    "#### Support(Butter): 2 steps"
   ]
  },
  {
   "cell_type": "code",
   "execution_count": 5,
   "metadata": {},
   "outputs": [
    {
     "data": {
      "text/html": [
       "<table>\n",
       "<thead><tr><th scope=col>Nbutter</th><th scope=col>support_butter</th></tr></thead>\n",
       "<tbody>\n",
       "\t<tr><td>545       </td><td>0.05541434</td></tr>\n",
       "</tbody>\n",
       "</table>\n"
      ],
      "text/latex": [
       "\\begin{tabular}{r|ll}\n",
       " Nbutter & support\\_butter\\\\\n",
       "\\hline\n",
       "\t 545        & 0.05541434\\\\\n",
       "\\end{tabular}\n"
      ],
      "text/markdown": [
       "\n",
       "Nbutter | support_butter | \n",
       "|---|\n",
       "| 545        | 0.05541434 | \n",
       "\n",
       "\n"
      ],
      "text/plain": [
       "  Nbutter support_butter\n",
       "1 545     0.05541434    "
      ]
     },
     "metadata": {},
     "output_type": "display_data"
    }
   ],
   "source": [
    "butter_milk %>%\n",
    "  summarize(Nbutter = sum(butter)) %>% \n",
    "  mutate(support_butter = Nbutter/N)"
   ]
  },
  {
   "cell_type": "markdown",
   "metadata": {},
   "source": [
    "#### Support(Butter): all at once"
   ]
  },
  {
   "cell_type": "code",
   "execution_count": 6,
   "metadata": {},
   "outputs": [
    {
     "data": {
      "text/html": [
       "<table>\n",
       "<thead><tr><th scope=col>support_butter</th></tr></thead>\n",
       "<tbody>\n",
       "\t<tr><td>0.05541434</td></tr>\n",
       "</tbody>\n",
       "</table>\n"
      ],
      "text/latex": [
       "\\begin{tabular}{r|l}\n",
       " support\\_butter\\\\\n",
       "\\hline\n",
       "\t 0.05541434\\\\\n",
       "\\end{tabular}\n"
      ],
      "text/markdown": [
       "\n",
       "support_butter | \n",
       "|---|\n",
       "| 0.05541434 | \n",
       "\n",
       "\n"
      ],
      "text/plain": [
       "  support_butter\n",
       "1 0.05541434    "
      ]
     },
     "metadata": {},
     "output_type": "display_data"
    }
   ],
   "source": [
    "butter_milk %>%\n",
    "  summarize(support_butter = sum(butter)/N)"
   ]
  },
  {
   "cell_type": "markdown",
   "metadata": {},
   "source": [
    "#### Support of whole.milk"
   ]
  },
  {
   "cell_type": "code",
   "execution_count": 7,
   "metadata": {},
   "outputs": [
    {
     "data": {
      "text/html": [
       "<table>\n",
       "<thead><tr><th scope=col>support_milk</th></tr></thead>\n",
       "<tbody>\n",
       "\t<tr><td>0.255516</td></tr>\n",
       "</tbody>\n",
       "</table>\n"
      ],
      "text/latex": [
       "\\begin{tabular}{r|l}\n",
       " support\\_milk\\\\\n",
       "\\hline\n",
       "\t 0.255516\\\\\n",
       "\\end{tabular}\n"
      ],
      "text/markdown": [
       "\n",
       "support_milk | \n",
       "|---|\n",
       "| 0.255516 | \n",
       "\n",
       "\n"
      ],
      "text/plain": [
       "  support_milk\n",
       "1 0.255516    "
      ]
     },
     "metadata": {},
     "output_type": "display_data"
    }
   ],
   "source": [
    "butter_milk %>%\n",
    "  summarize(support_milk = sum(whole.milk)/N)"
   ]
  },
  {
   "cell_type": "markdown",
   "metadata": {},
   "source": [
    "#### Support of $\\{Butter\\;and\\;Milk\\}$\n",
    "\n",
    "Why `butter * whole.milk`? "
   ]
  },
  {
   "cell_type": "code",
   "execution_count": 8,
   "metadata": {},
   "outputs": [
    {
     "data": {
      "text/html": [
       "<table>\n",
       "<thead><tr><th scope=col>support_rule</th></tr></thead>\n",
       "<tbody>\n",
       "\t<tr><td>0.02755465</td></tr>\n",
       "</tbody>\n",
       "</table>\n"
      ],
      "text/latex": [
       "\\begin{tabular}{r|l}\n",
       " support\\_rule\\\\\n",
       "\\hline\n",
       "\t 0.02755465\\\\\n",
       "\\end{tabular}\n"
      ],
      "text/markdown": [
       "\n",
       "support_rule | \n",
       "|---|\n",
       "| 0.02755465 | \n",
       "\n",
       "\n"
      ],
      "text/plain": [
       "  support_rule\n",
       "1 0.02755465  "
      ]
     },
     "metadata": {},
     "output_type": "display_data"
    }
   ],
   "source": [
    "butter_milk %>%\n",
    "  mutate(butter_and_milk = butter * whole.milk) %>%\n",
    "  summarize(support_rule = sum(butter_and_milk)/N)"
   ]
  },
  {
   "cell_type": "markdown",
   "metadata": {},
   "source": [
    "#### All together now (+ confidence and lift)"
   ]
  },
  {
   "cell_type": "code",
   "execution_count": 9,
   "metadata": {},
   "outputs": [
    {
     "data": {
      "text/html": [
       "<table>\n",
       "<thead><tr><th scope=col>support_milk</th><th scope=col>support_butter</th><th scope=col>support_rule</th><th scope=col>confidence</th><th scope=col>lift</th></tr></thead>\n",
       "<tbody>\n",
       "\t<tr><td>0.255516  </td><td>0.05541434</td><td>0.02755465</td><td>0.4972477 </td><td>1.946053  </td></tr>\n",
       "</tbody>\n",
       "</table>\n"
      ],
      "text/latex": [
       "\\begin{tabular}{r|lllll}\n",
       " support\\_milk & support\\_butter & support\\_rule & confidence & lift\\\\\n",
       "\\hline\n",
       "\t 0.255516   & 0.05541434 & 0.02755465 & 0.4972477  & 1.946053  \\\\\n",
       "\\end{tabular}\n"
      ],
      "text/markdown": [
       "\n",
       "support_milk | support_butter | support_rule | confidence | lift | \n",
       "|---|\n",
       "| 0.255516   | 0.05541434 | 0.02755465 | 0.4972477  | 1.946053   | \n",
       "\n",
       "\n"
      ],
      "text/plain": [
       "  support_milk support_butter support_rule confidence lift    \n",
       "1 0.255516     0.05541434     0.02755465   0.4972477  1.946053"
      ]
     },
     "metadata": {},
     "output_type": "display_data"
    }
   ],
   "source": [
    "groceries %>%\n",
    "  mutate(bought_butter_milk = butter *  whole.milk) %>%\n",
    "  summarize(support_milk = sum(whole.milk)/N,\n",
    "            support_butter = sum(butter)/N,\n",
    "            support_rule = sum(bought_butter_milk)/N) %>%\n",
    "  mutate(confidence = support_rule/support_butter) %>%\n",
    "  mutate(lift = confidence/support_milk)"
   ]
  },
  {
   "cell_type": "markdown",
   "metadata": {},
   "source": [
    "#### Notes\n",
    "\n",
    "* Must compute values before you use them\n",
    "    * Supports before confidence\n",
    "    * Confidence before lift"
   ]
  },
  {
   "cell_type": "markdown",
   "metadata": {},
   "source": [
    "### Computing Many Rules At Once\n",
    "\n",
    "\n",
    "* Stack the LHS into one column\n",
    "* Group by LHS\n",
    "* Compute:\n",
    "    * Support\n",
    "    * Confidence\n",
    "    * Lift\n",
    "  "
   ]
  },
  {
   "cell_type": "markdown",
   "metadata": {},
   "source": [
    "#### Step 0 - Read the data and load libraries"
   ]
  },
  {
   "cell_type": "code",
   "execution_count": 16,
   "metadata": {},
   "outputs": [
    {
     "name": "stderr",
     "output_type": "stream",
     "text": [
      "Updating HTML index of packages in '.Library'\n",
      "Making 'packages.html' ... done\n"
     ]
    }
   ],
   "source": [
    "# Run if needed\n",
    "install.packages('tidyr')"
   ]
  },
  {
   "cell_type": "code",
   "execution_count": 10,
   "metadata": {},
   "outputs": [],
   "source": [
    "library(tidyr)\n",
    "library(dplyr)"
   ]
  },
  {
   "cell_type": "code",
   "execution_count": 11,
   "metadata": {},
   "outputs": [],
   "source": [
    "groceries <- read.csv('https://github.com/WSU-DataScience/DSCI_210_R_notebooks/raw/main/data/Groceries.csv')\n",
    "N <- nrow(groceries)"
   ]
  },
  {
   "cell_type": "markdown",
   "metadata": {},
   "source": [
    "#### Step 1 - Stack all of the other products"
   ]
  },
  {
   "cell_type": "code",
   "execution_count": 12,
   "metadata": {},
   "outputs": [
    {
     "data": {
      "text/html": [
       "<table>\n",
       "<thead><tr><th scope=col>whole.milk</th><th scope=col>lhs</th><th scope=col>pur_lhs</th></tr></thead>\n",
       "<tbody>\n",
       "\t<tr><td>0          </td><td>frankfurter</td><td>0          </td></tr>\n",
       "\t<tr><td>0          </td><td>frankfurter</td><td>0          </td></tr>\n",
       "\t<tr><td>1          </td><td>frankfurter</td><td>0          </td></tr>\n",
       "\t<tr><td>0          </td><td>frankfurter</td><td>0          </td></tr>\n",
       "\t<tr><td>1          </td><td>frankfurter</td><td>0          </td></tr>\n",
       "\t<tr><td>1          </td><td>frankfurter</td><td>0          </td></tr>\n",
       "</tbody>\n",
       "</table>\n"
      ],
      "text/latex": [
       "\\begin{tabular}{r|lll}\n",
       " whole.milk & lhs & pur\\_lhs\\\\\n",
       "\\hline\n",
       "\t 0           & frankfurter & 0          \\\\\n",
       "\t 0           & frankfurter & 0          \\\\\n",
       "\t 1           & frankfurter & 0          \\\\\n",
       "\t 0           & frankfurter & 0          \\\\\n",
       "\t 1           & frankfurter & 0          \\\\\n",
       "\t 1           & frankfurter & 0          \\\\\n",
       "\\end{tabular}\n"
      ],
      "text/markdown": [
       "\n",
       "whole.milk | lhs | pur_lhs | \n",
       "|---|---|---|---|---|---|\n",
       "| 0           | frankfurter | 0           | \n",
       "| 0           | frankfurter | 0           | \n",
       "| 1           | frankfurter | 0           | \n",
       "| 0           | frankfurter | 0           | \n",
       "| 1           | frankfurter | 0           | \n",
       "| 1           | frankfurter | 0           | \n",
       "\n",
       "\n"
      ],
      "text/plain": [
       "  whole.milk lhs         pur_lhs\n",
       "1 0          frankfurter 0      \n",
       "2 0          frankfurter 0      \n",
       "3 1          frankfurter 0      \n",
       "4 0          frankfurter 0      \n",
       "5 1          frankfurter 0      \n",
       "6 1          frankfurter 0      "
      ]
     },
     "metadata": {},
     "output_type": "display_data"
    }
   ],
   "source": [
    "groceries_stacked <-\n",
    "  groceries %>%\n",
    "  gather(key = \"lhs\",\n",
    "         value = \"pur_lhs\",\n",
    "         -whole.milk) \n",
    "head(groceries_stacked)"
   ]
  },
  {
   "cell_type": "markdown",
   "metadata": {},
   "source": [
    "#### Step 2 - find whether lhs and milk were bought together"
   ]
  },
  {
   "cell_type": "code",
   "execution_count": 13,
   "metadata": {},
   "outputs": [
    {
     "data": {
      "text/html": [
       "<table>\n",
       "<thead><tr><th scope=col>whole.milk</th><th scope=col>lhs</th><th scope=col>pur_lhs</th><th scope=col>pur_both</th></tr></thead>\n",
       "<tbody>\n",
       "\t<tr><td>0          </td><td>frankfurter</td><td>0          </td><td>0          </td></tr>\n",
       "\t<tr><td>0          </td><td>frankfurter</td><td>0          </td><td>0          </td></tr>\n",
       "\t<tr><td>1          </td><td>frankfurter</td><td>0          </td><td>0          </td></tr>\n",
       "\t<tr><td>0          </td><td>frankfurter</td><td>0          </td><td>0          </td></tr>\n",
       "\t<tr><td>1          </td><td>frankfurter</td><td>0          </td><td>0          </td></tr>\n",
       "\t<tr><td>1          </td><td>frankfurter</td><td>0          </td><td>0          </td></tr>\n",
       "</tbody>\n",
       "</table>\n"
      ],
      "text/latex": [
       "\\begin{tabular}{r|llll}\n",
       " whole.milk & lhs & pur\\_lhs & pur\\_both\\\\\n",
       "\\hline\n",
       "\t 0           & frankfurter & 0           & 0          \\\\\n",
       "\t 0           & frankfurter & 0           & 0          \\\\\n",
       "\t 1           & frankfurter & 0           & 0          \\\\\n",
       "\t 0           & frankfurter & 0           & 0          \\\\\n",
       "\t 1           & frankfurter & 0           & 0          \\\\\n",
       "\t 1           & frankfurter & 0           & 0          \\\\\n",
       "\\end{tabular}\n"
      ],
      "text/markdown": [
       "\n",
       "whole.milk | lhs | pur_lhs | pur_both | \n",
       "|---|---|---|---|---|---|\n",
       "| 0           | frankfurter | 0           | 0           | \n",
       "| 0           | frankfurter | 0           | 0           | \n",
       "| 1           | frankfurter | 0           | 0           | \n",
       "| 0           | frankfurter | 0           | 0           | \n",
       "| 1           | frankfurter | 0           | 0           | \n",
       "| 1           | frankfurter | 0           | 0           | \n",
       "\n",
       "\n"
      ],
      "text/plain": [
       "  whole.milk lhs         pur_lhs pur_both\n",
       "1 0          frankfurter 0       0       \n",
       "2 0          frankfurter 0       0       \n",
       "3 1          frankfurter 0       0       \n",
       "4 0          frankfurter 0       0       \n",
       "5 1          frankfurter 0       0       \n",
       "6 1          frankfurter 0       0       "
      ]
     },
     "metadata": {},
     "output_type": "display_data"
    }
   ],
   "source": [
    "groceries_stacked <-\n",
    "  groceries_stacked %>%\n",
    "  mutate(pur_both = whole.milk * pur_lhs) \n",
    "head(groceries_stacked)"
   ]
  },
  {
   "cell_type": "markdown",
   "metadata": {},
   "source": [
    "#### Step 3 - Compute the support, confidence, and lift for each"
   ]
  },
  {
   "cell_type": "code",
   "execution_count": 14,
   "metadata": {},
   "outputs": [
    {
     "name": "stderr",
     "output_type": "stream",
     "text": [
      "`summarise()` ungrouping output (override with `.groups` argument)\n"
     ]
    },
    {
     "data": {
      "text/html": [
       "<table>\n",
       "<thead><tr><th scope=col>lhs</th><th scope=col>sup_milk</th><th scope=col>sup_lhs</th><th scope=col>joint_support</th><th scope=col>conf</th><th scope=col>lift</th></tr></thead>\n",
       "<tbody>\n",
       "\t<tr><td>abrasive.cleaner</td><td>0.255516        </td><td>0.0035587189    </td><td>0.0016268429    </td><td>0.4571429       </td><td>1.7890967       </td></tr>\n",
       "\t<tr><td>artif..sweetener</td><td>0.255516        </td><td>0.0032536858    </td><td>0.0011184545    </td><td>0.3437500       </td><td>1.3453169       </td></tr>\n",
       "\t<tr><td>baby.cosmetics  </td><td>0.255516        </td><td>0.0006100661    </td><td>0.0003050330    </td><td>0.5000000       </td><td>1.9568245       </td></tr>\n",
       "\t<tr><td>baby.food       </td><td>0.255516        </td><td>0.0001016777    </td><td>0.0000000000    </td><td>0.0000000       </td><td>0.0000000       </td></tr>\n",
       "\t<tr><td>bags            </td><td>0.255516        </td><td>0.0004067107    </td><td>0.0001016777    </td><td>0.2500000       </td><td>0.9784123       </td></tr>\n",
       "\t<tr><td>baking.powder   </td><td>0.255516        </td><td>0.0176919166    </td><td>0.0092526690    </td><td>0.5229885       </td><td>2.0467935       </td></tr>\n",
       "</tbody>\n",
       "</table>\n"
      ],
      "text/latex": [
       "\\begin{tabular}{r|llllll}\n",
       " lhs & sup\\_milk & sup\\_lhs & joint\\_support & conf & lift\\\\\n",
       "\\hline\n",
       "\t abrasive.cleaner & 0.255516         & 0.0035587189     & 0.0016268429     & 0.4571429        & 1.7890967       \\\\\n",
       "\t artif..sweetener & 0.255516         & 0.0032536858     & 0.0011184545     & 0.3437500        & 1.3453169       \\\\\n",
       "\t baby.cosmetics   & 0.255516         & 0.0006100661     & 0.0003050330     & 0.5000000        & 1.9568245       \\\\\n",
       "\t baby.food        & 0.255516         & 0.0001016777     & 0.0000000000     & 0.0000000        & 0.0000000       \\\\\n",
       "\t bags             & 0.255516         & 0.0004067107     & 0.0001016777     & 0.2500000        & 0.9784123       \\\\\n",
       "\t baking.powder    & 0.255516         & 0.0176919166     & 0.0092526690     & 0.5229885        & 2.0467935       \\\\\n",
       "\\end{tabular}\n"
      ],
      "text/markdown": [
       "\n",
       "lhs | sup_milk | sup_lhs | joint_support | conf | lift | \n",
       "|---|---|---|---|---|---|\n",
       "| abrasive.cleaner | 0.255516         | 0.0035587189     | 0.0016268429     | 0.4571429        | 1.7890967        | \n",
       "| artif..sweetener | 0.255516         | 0.0032536858     | 0.0011184545     | 0.3437500        | 1.3453169        | \n",
       "| baby.cosmetics   | 0.255516         | 0.0006100661     | 0.0003050330     | 0.5000000        | 1.9568245        | \n",
       "| baby.food        | 0.255516         | 0.0001016777     | 0.0000000000     | 0.0000000        | 0.0000000        | \n",
       "| bags             | 0.255516         | 0.0004067107     | 0.0001016777     | 0.2500000        | 0.9784123        | \n",
       "| baking.powder    | 0.255516         | 0.0176919166     | 0.0092526690     | 0.5229885        | 2.0467935        | \n",
       "\n",
       "\n"
      ],
      "text/plain": [
       "  lhs              sup_milk sup_lhs      joint_support conf      lift     \n",
       "1 abrasive.cleaner 0.255516 0.0035587189 0.0016268429  0.4571429 1.7890967\n",
       "2 artif..sweetener 0.255516 0.0032536858 0.0011184545  0.3437500 1.3453169\n",
       "3 baby.cosmetics   0.255516 0.0006100661 0.0003050330  0.5000000 1.9568245\n",
       "4 baby.food        0.255516 0.0001016777 0.0000000000  0.0000000 0.0000000\n",
       "5 bags             0.255516 0.0004067107 0.0001016777  0.2500000 0.9784123\n",
       "6 baking.powder    0.255516 0.0176919166 0.0092526690  0.5229885 2.0467935"
      ]
     },
     "metadata": {},
     "output_type": "display_data"
    }
   ],
   "source": [
    "# Note that we group_by the products to keep them separate.\n",
    "many_rules <-\n",
    "groceries_stacked %>%\n",
    "  group_by(lhs) %>%\n",
    "  summarize(sup_milk = sum(whole.milk)/N,\n",
    "            sup_lhs = sum(pur_lhs)/N,\n",
    "            joint_support = sum(pur_both)/N) %>%\n",
    "  mutate(conf = joint_support/sup_lhs) %>%\n",
    "  mutate(lift = conf/sup_milk) \n",
    "many_rules %>% head"
   ]
  },
  {
   "cell_type": "markdown",
   "metadata": {},
   "source": [
    "#### Step 4 - filter rules with low support; sort by lift"
   ]
  },
  {
   "cell_type": "code",
   "execution_count": 15,
   "metadata": {},
   "outputs": [
    {
     "data": {
      "text/html": [
       "<table>\n",
       "<thead><tr><th scope=col>lhs</th><th scope=col>sup_milk</th><th scope=col>sup_lhs</th><th scope=col>joint_support</th><th scope=col>conf</th><th scope=col>lift</th></tr></thead>\n",
       "<tbody>\n",
       "\t<tr><td>yogurt          </td><td>0.255516        </td><td>0.1395018       </td><td>0.05602440      </td><td>0.4016035       </td><td>1.571735        </td></tr>\n",
       "\t<tr><td>other.vegetables</td><td>0.255516        </td><td>0.1934926       </td><td>0.07483477      </td><td>0.3867578       </td><td>1.513634        </td></tr>\n",
       "\t<tr><td>rolls.buns      </td><td>0.255516        </td><td>0.1839349       </td><td>0.05663447      </td><td>0.3079049       </td><td>1.205032        </td></tr>\n",
       "</tbody>\n",
       "</table>\n"
      ],
      "text/latex": [
       "\\begin{tabular}{r|llllll}\n",
       " lhs & sup\\_milk & sup\\_lhs & joint\\_support & conf & lift\\\\\n",
       "\\hline\n",
       "\t yogurt           & 0.255516         & 0.1395018        & 0.05602440       & 0.4016035        & 1.571735        \\\\\n",
       "\t other.vegetables & 0.255516         & 0.1934926        & 0.07483477       & 0.3867578        & 1.513634        \\\\\n",
       "\t rolls.buns       & 0.255516         & 0.1839349        & 0.05663447       & 0.3079049        & 1.205032        \\\\\n",
       "\\end{tabular}\n"
      ],
      "text/markdown": [
       "\n",
       "lhs | sup_milk | sup_lhs | joint_support | conf | lift | \n",
       "|---|---|---|\n",
       "| yogurt           | 0.255516         | 0.1395018        | 0.05602440       | 0.4016035        | 1.571735         | \n",
       "| other.vegetables | 0.255516         | 0.1934926        | 0.07483477       | 0.3867578        | 1.513634         | \n",
       "| rolls.buns       | 0.255516         | 0.1839349        | 0.05663447       | 0.3079049        | 1.205032         | \n",
       "\n",
       "\n"
      ],
      "text/plain": [
       "  lhs              sup_milk sup_lhs   joint_support conf      lift    \n",
       "1 yogurt           0.255516 0.1395018 0.05602440    0.4016035 1.571735\n",
       "2 other.vegetables 0.255516 0.1934926 0.07483477    0.3867578 1.513634\n",
       "3 rolls.buns       0.255516 0.1839349 0.05663447    0.3079049 1.205032"
      ]
     },
     "metadata": {},
     "output_type": "display_data"
    }
   ],
   "source": [
    "many_rules %>%\n",
    "  filter(joint_support > .05) %>%\n",
    "  arrange(-lift)"
   ]
  },
  {
   "cell_type": "markdown",
   "metadata": {},
   "source": [
    "Interpretation of first rule: \n",
    "\n",
    "* Milk is purchased 25.6% of the time.  \n",
    "* Knowing yogurt was also purchased 'lifts' this rate of purchase by 57%.  \n",
    "* In other words, knowing yogurt was purchased increases the likelihood that milk was purchased by 57%, relative to the underlying rate at which milk was already being purchased."
   ]
  }
 ],
 "metadata": {
  "kernelspec": {
   "display_name": "R",
   "language": "R",
   "name": "ir"
  },
  "language_info": {
   "codemirror_mode": "r",
   "file_extension": ".r",
   "mimetype": "text/x-r-source",
   "name": "R",
   "pygments_lexer": "r",
   "version": "3.5.1"
  }
 },
 "nbformat": 4,
 "nbformat_minor": 2
}
