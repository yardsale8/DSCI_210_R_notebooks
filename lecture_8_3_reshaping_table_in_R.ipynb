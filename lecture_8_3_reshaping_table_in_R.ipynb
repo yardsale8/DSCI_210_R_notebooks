{
  "cells": [
    {
      "cell_type": "markdown",
      "metadata": {
        "id": "view-in-github",
        "colab_type": "text"
      },
      "source": [
        "<a href=\"https://colab.research.google.com/github/yardsale8/DSCI_210_R_notebooks/blob/main/lecture_8_3_reshaping_table_in_R.ipynb\" target=\"_parent\"><img src=\"https://colab.research.google.com/assets/colab-badge.svg\" alt=\"Open In Colab\"/></a>"
      ]
    },
    {
      "cell_type": "markdown",
      "metadata": {
        "id": "xmBBKRS0Y7zV"
      },
      "source": [
        "# Stacking and Unstacking in R"
      ]
    },
    {
      "cell_type": "markdown",
      "metadata": {
        "id": "K7Mxq-I4Y7za"
      },
      "source": [
        "# Stack and Unstack\n",
        "\n",
        "\n",
        "* `library(tidyr)` [Included in `library(tidyverse)`]\n",
        "* Stack $\\rightarrow$ `gather`\n",
        "* Unstack $\\rightarrow$ `spread`"
      ]
    },
    {
      "cell_type": "code",
      "execution_count": 1,
      "metadata": {
        "id": "uq5_P_W7Y7zb",
        "outputId": "f00b4c07-c20b-4a17-edc5-1b12921141dc",
        "colab": {
          "base_uri": "https://localhost:8080/"
        }
      },
      "outputs": [
        {
          "output_type": "stream",
          "name": "stderr",
          "text": [
            "── \u001b[1mAttaching core tidyverse packages\u001b[22m ──────────────────────── tidyverse 2.0.0 ──\n",
            "\u001b[32m✔\u001b[39m \u001b[34mdplyr    \u001b[39m 1.1.4     \u001b[32m✔\u001b[39m \u001b[34mreadr    \u001b[39m 2.1.5\n",
            "\u001b[32m✔\u001b[39m \u001b[34mforcats  \u001b[39m 1.0.0     \u001b[32m✔\u001b[39m \u001b[34mstringr  \u001b[39m 1.5.1\n",
            "\u001b[32m✔\u001b[39m \u001b[34mggplot2  \u001b[39m 3.4.4     \u001b[32m✔\u001b[39m \u001b[34mtibble   \u001b[39m 3.2.1\n",
            "\u001b[32m✔\u001b[39m \u001b[34mlubridate\u001b[39m 1.9.3     \u001b[32m✔\u001b[39m \u001b[34mtidyr    \u001b[39m 1.3.1\n",
            "\u001b[32m✔\u001b[39m \u001b[34mpurrr    \u001b[39m 1.0.2     \n",
            "── \u001b[1mConflicts\u001b[22m ────────────────────────────────────────── tidyverse_conflicts() ──\n",
            "\u001b[31m✖\u001b[39m \u001b[34mdplyr\u001b[39m::\u001b[32mfilter()\u001b[39m masks \u001b[34mstats\u001b[39m::filter()\n",
            "\u001b[31m✖\u001b[39m \u001b[34mdplyr\u001b[39m::\u001b[32mlag()\u001b[39m    masks \u001b[34mstats\u001b[39m::lag()\n",
            "\u001b[36mℹ\u001b[39m Use the conflicted package (\u001b[3m\u001b[34m<http://conflicted.r-lib.org/>\u001b[39m\u001b[23m) to force all conflicts to become errors\n"
          ]
        }
      ],
      "source": [
        "library(tidyverse)"
      ]
    },
    {
      "cell_type": "markdown",
      "metadata": {
        "id": "7PkIN9nkY7zd"
      },
      "source": [
        "## Stacking columns with `gather` or `pivot_longer`\n",
        "\n",
        "The function `gather` from the `tidyr` library is used to stack columns."
      ]
    },
    {
      "cell_type": "markdown",
      "metadata": {
        "id": "kDn7XVCVY7zd"
      },
      "source": [
        "### Older approach: Stacking columns with `gather`\n",
        "\n",
        "Arguments are:\n",
        "\n",
        "1. label column name\n",
        "2. data column name\n",
        "3. then a list of columns to stack\n",
        "\n",
        "#### Syntax\n",
        "```{R}\n",
        "...\n",
        "%>% gather(key = \"lbl1\", value = \"lbl2\", col1, col2, col3, ...)\n",
        "...\n",
        "```\n"
      ]
    },
    {
      "cell_type": "markdown",
      "metadata": {
        "id": "IfMZHGSRY7ze"
      },
      "source": [
        "### A familiar example"
      ]
    },
    {
      "cell_type": "code",
      "execution_count": 2,
      "metadata": {
        "id": "7RzQYjInY7zf",
        "outputId": "8f422714-c063-4df0-a5bc-1592f41f2b38",
        "colab": {
          "base_uri": "https://localhost:8080/",
          "height": 211
        }
      },
      "outputs": [
        {
          "output_type": "display_data",
          "data": {
            "text/html": [
              "<table class=\"dataframe\">\n",
              "<caption>A data.frame: 4 × 5</caption>\n",
              "<thead>\n",
              "\t<tr><th scope=col>Salesperson</th><th scope=col>Compact</th><th scope=col>Sedan</th><th scope=col>SUV</th><th scope=col>Truck</th></tr>\n",
              "\t<tr><th scope=col>&lt;chr&gt;</th><th scope=col>&lt;int&gt;</th><th scope=col>&lt;int&gt;</th><th scope=col>&lt;int&gt;</th><th scope=col>&lt;int&gt;</th></tr>\n",
              "</thead>\n",
              "<tbody>\n",
              "\t<tr><td>Ann    </td><td>22</td><td>18</td><td>15</td><td>12</td></tr>\n",
              "\t<tr><td>Bob    </td><td>19</td><td>12</td><td>17</td><td>20</td></tr>\n",
              "\t<tr><td>Yolanda</td><td>19</td><td> 8</td><td>32</td><td>15</td></tr>\n",
              "\t<tr><td>Xerxes </td><td>12</td><td>23</td><td>18</td><td> 9</td></tr>\n",
              "</tbody>\n",
              "</table>\n"
            ],
            "text/markdown": "\nA data.frame: 4 × 5\n\n| Salesperson &lt;chr&gt; | Compact &lt;int&gt; | Sedan &lt;int&gt; | SUV &lt;int&gt; | Truck &lt;int&gt; |\n|---|---|---|---|---|\n| Ann     | 22 | 18 | 15 | 12 |\n| Bob     | 19 | 12 | 17 | 20 |\n| Yolanda | 19 |  8 | 32 | 15 |\n| Xerxes  | 12 | 23 | 18 |  9 |\n\n",
            "text/latex": "A data.frame: 4 × 5\n\\begin{tabular}{lllll}\n Salesperson & Compact & Sedan & SUV & Truck\\\\\n <chr> & <int> & <int> & <int> & <int>\\\\\n\\hline\n\t Ann     & 22 & 18 & 15 & 12\\\\\n\t Bob     & 19 & 12 & 17 & 20\\\\\n\t Yolanda & 19 &  8 & 32 & 15\\\\\n\t Xerxes  & 12 & 23 & 18 &  9\\\\\n\\end{tabular}\n",
            "text/plain": [
              "  Salesperson Compact Sedan SUV Truck\n",
              "1 Ann         22      18    15  12   \n",
              "2 Bob         19      12    17  20   \n",
              "3 Yolanda     19       8    32  15   \n",
              "4 Xerxes      12      23    18   9   "
            ]
          },
          "metadata": {}
        }
      ],
      "source": [
        "sales <- read.csv(\"https://github.com/WSU-DataScience/DSCI_210_R_notebooks/raw/main/data/auto_sales.csv\")\n",
        "sales"
      ]
    },
    {
      "cell_type": "markdown",
      "metadata": {
        "id": "uVrDIk5qY7zf"
      },
      "source": [
        "#### Option 1: spell out all stacking columns"
      ]
    },
    {
      "cell_type": "code",
      "execution_count": 3,
      "metadata": {
        "id": "aKdzRJfEY7zf",
        "outputId": "1a83624d-baa5-4975-cec2-d8e66c7077e5",
        "colab": {
          "base_uri": "https://localhost:8080/",
          "height": 264
        }
      },
      "outputs": [
        {
          "output_type": "display_data",
          "data": {
            "text/html": [
              "<table class=\"dataframe\">\n",
              "<caption>A data.frame: 6 × 3</caption>\n",
              "<thead>\n",
              "\t<tr><th></th><th scope=col>Salesperson</th><th scope=col>auto_type</th><th scope=col>num_sales</th></tr>\n",
              "\t<tr><th></th><th scope=col>&lt;chr&gt;</th><th scope=col>&lt;chr&gt;</th><th scope=col>&lt;int&gt;</th></tr>\n",
              "</thead>\n",
              "<tbody>\n",
              "\t<tr><th scope=row>1</th><td>Ann    </td><td>Compact</td><td>22</td></tr>\n",
              "\t<tr><th scope=row>2</th><td>Bob    </td><td>Compact</td><td>19</td></tr>\n",
              "\t<tr><th scope=row>3</th><td>Yolanda</td><td>Compact</td><td>19</td></tr>\n",
              "\t<tr><th scope=row>4</th><td>Xerxes </td><td>Compact</td><td>12</td></tr>\n",
              "\t<tr><th scope=row>5</th><td>Ann    </td><td>Sedan  </td><td>18</td></tr>\n",
              "\t<tr><th scope=row>6</th><td>Bob    </td><td>Sedan  </td><td>12</td></tr>\n",
              "</tbody>\n",
              "</table>\n"
            ],
            "text/markdown": "\nA data.frame: 6 × 3\n\n| <!--/--> | Salesperson &lt;chr&gt; | auto_type &lt;chr&gt; | num_sales &lt;int&gt; |\n|---|---|---|---|\n| 1 | Ann     | Compact | 22 |\n| 2 | Bob     | Compact | 19 |\n| 3 | Yolanda | Compact | 19 |\n| 4 | Xerxes  | Compact | 12 |\n| 5 | Ann     | Sedan   | 18 |\n| 6 | Bob     | Sedan   | 12 |\n\n",
            "text/latex": "A data.frame: 6 × 3\n\\begin{tabular}{r|lll}\n  & Salesperson & auto\\_type & num\\_sales\\\\\n  & <chr> & <chr> & <int>\\\\\n\\hline\n\t1 & Ann     & Compact & 22\\\\\n\t2 & Bob     & Compact & 19\\\\\n\t3 & Yolanda & Compact & 19\\\\\n\t4 & Xerxes  & Compact & 12\\\\\n\t5 & Ann     & Sedan   & 18\\\\\n\t6 & Bob     & Sedan   & 12\\\\\n\\end{tabular}\n",
            "text/plain": [
              "  Salesperson auto_type num_sales\n",
              "1 Ann         Compact   22       \n",
              "2 Bob         Compact   19       \n",
              "3 Yolanda     Compact   19       \n",
              "4 Xerxes      Compact   12       \n",
              "5 Ann         Sedan     18       \n",
              "6 Bob         Sedan     12       "
            ]
          },
          "metadata": {}
        }
      ],
      "source": [
        "(sales\n",
        " %>% gather(key = \"auto_type\",\n",
        "            value = \"num_sales\",\n",
        "            Compact, Sedan, SUV, Truck)\n",
        ") -> stacked_sales\n",
        "\n",
        "head(stacked_sales)"
      ]
    },
    {
      "cell_type": "markdown",
      "metadata": {
        "id": "bDPAVp9wY7zf"
      },
      "source": [
        "#### Option 2: refer to column range"
      ]
    },
    {
      "cell_type": "code",
      "execution_count": 4,
      "metadata": {
        "id": "XgQlsCazY7zg",
        "outputId": "57ec3084-37fc-40ad-c14e-ea55e9cc6ce2",
        "colab": {
          "base_uri": "https://localhost:8080/",
          "height": 264
        }
      },
      "outputs": [
        {
          "output_type": "display_data",
          "data": {
            "text/html": [
              "<table class=\"dataframe\">\n",
              "<caption>A data.frame: 6 × 3</caption>\n",
              "<thead>\n",
              "\t<tr><th></th><th scope=col>Salesperson</th><th scope=col>auto_type</th><th scope=col>num_sales</th></tr>\n",
              "\t<tr><th></th><th scope=col>&lt;chr&gt;</th><th scope=col>&lt;chr&gt;</th><th scope=col>&lt;int&gt;</th></tr>\n",
              "</thead>\n",
              "<tbody>\n",
              "\t<tr><th scope=row>1</th><td>Ann    </td><td>Compact</td><td>22</td></tr>\n",
              "\t<tr><th scope=row>2</th><td>Bob    </td><td>Compact</td><td>19</td></tr>\n",
              "\t<tr><th scope=row>3</th><td>Yolanda</td><td>Compact</td><td>19</td></tr>\n",
              "\t<tr><th scope=row>4</th><td>Xerxes </td><td>Compact</td><td>12</td></tr>\n",
              "\t<tr><th scope=row>5</th><td>Ann    </td><td>Sedan  </td><td>18</td></tr>\n",
              "\t<tr><th scope=row>6</th><td>Bob    </td><td>Sedan  </td><td>12</td></tr>\n",
              "</tbody>\n",
              "</table>\n"
            ],
            "text/markdown": "\nA data.frame: 6 × 3\n\n| <!--/--> | Salesperson &lt;chr&gt; | auto_type &lt;chr&gt; | num_sales &lt;int&gt; |\n|---|---|---|---|\n| 1 | Ann     | Compact | 22 |\n| 2 | Bob     | Compact | 19 |\n| 3 | Yolanda | Compact | 19 |\n| 4 | Xerxes  | Compact | 12 |\n| 5 | Ann     | Sedan   | 18 |\n| 6 | Bob     | Sedan   | 12 |\n\n",
            "text/latex": "A data.frame: 6 × 3\n\\begin{tabular}{r|lll}\n  & Salesperson & auto\\_type & num\\_sales\\\\\n  & <chr> & <chr> & <int>\\\\\n\\hline\n\t1 & Ann     & Compact & 22\\\\\n\t2 & Bob     & Compact & 19\\\\\n\t3 & Yolanda & Compact & 19\\\\\n\t4 & Xerxes  & Compact & 12\\\\\n\t5 & Ann     & Sedan   & 18\\\\\n\t6 & Bob     & Sedan   & 12\\\\\n\\end{tabular}\n",
            "text/plain": [
              "  Salesperson auto_type num_sales\n",
              "1 Ann         Compact   22       \n",
              "2 Bob         Compact   19       \n",
              "3 Yolanda     Compact   19       \n",
              "4 Xerxes      Compact   12       \n",
              "5 Ann         Sedan     18       \n",
              "6 Bob         Sedan     12       "
            ]
          },
          "metadata": {}
        }
      ],
      "source": [
        "(sales\n",
        " %>% gather(key = \"auto_type\",\n",
        "            value = \"num_sales\",\n",
        "            Compact:Truck)\n",
        ") -> stacked_sales\n",
        "\n",
        "head(stacked_sales)\n"
      ]
    },
    {
      "cell_type": "markdown",
      "metadata": {
        "id": "0r7Ipv-jY7zg"
      },
      "source": [
        "#### Option 3: select by exclusion"
      ]
    },
    {
      "cell_type": "code",
      "execution_count": 5,
      "metadata": {
        "id": "8GDmngIBY7zg",
        "outputId": "2c5e6bcf-f618-4fb5-a62c-0e72c25748f4",
        "colab": {
          "base_uri": "https://localhost:8080/",
          "height": 264
        }
      },
      "outputs": [
        {
          "output_type": "display_data",
          "data": {
            "text/html": [
              "<table class=\"dataframe\">\n",
              "<caption>A data.frame: 6 × 3</caption>\n",
              "<thead>\n",
              "\t<tr><th></th><th scope=col>Salesperson</th><th scope=col>auto_type</th><th scope=col>num_sales</th></tr>\n",
              "\t<tr><th></th><th scope=col>&lt;chr&gt;</th><th scope=col>&lt;chr&gt;</th><th scope=col>&lt;int&gt;</th></tr>\n",
              "</thead>\n",
              "<tbody>\n",
              "\t<tr><th scope=row>1</th><td>Ann    </td><td>Compact</td><td>22</td></tr>\n",
              "\t<tr><th scope=row>2</th><td>Bob    </td><td>Compact</td><td>19</td></tr>\n",
              "\t<tr><th scope=row>3</th><td>Yolanda</td><td>Compact</td><td>19</td></tr>\n",
              "\t<tr><th scope=row>4</th><td>Xerxes </td><td>Compact</td><td>12</td></tr>\n",
              "\t<tr><th scope=row>5</th><td>Ann    </td><td>Sedan  </td><td>18</td></tr>\n",
              "\t<tr><th scope=row>6</th><td>Bob    </td><td>Sedan  </td><td>12</td></tr>\n",
              "</tbody>\n",
              "</table>\n"
            ],
            "text/markdown": "\nA data.frame: 6 × 3\n\n| <!--/--> | Salesperson &lt;chr&gt; | auto_type &lt;chr&gt; | num_sales &lt;int&gt; |\n|---|---|---|---|\n| 1 | Ann     | Compact | 22 |\n| 2 | Bob     | Compact | 19 |\n| 3 | Yolanda | Compact | 19 |\n| 4 | Xerxes  | Compact | 12 |\n| 5 | Ann     | Sedan   | 18 |\n| 6 | Bob     | Sedan   | 12 |\n\n",
            "text/latex": "A data.frame: 6 × 3\n\\begin{tabular}{r|lll}\n  & Salesperson & auto\\_type & num\\_sales\\\\\n  & <chr> & <chr> & <int>\\\\\n\\hline\n\t1 & Ann     & Compact & 22\\\\\n\t2 & Bob     & Compact & 19\\\\\n\t3 & Yolanda & Compact & 19\\\\\n\t4 & Xerxes  & Compact & 12\\\\\n\t5 & Ann     & Sedan   & 18\\\\\n\t6 & Bob     & Sedan   & 12\\\\\n\\end{tabular}\n",
            "text/plain": [
              "  Salesperson auto_type num_sales\n",
              "1 Ann         Compact   22       \n",
              "2 Bob         Compact   19       \n",
              "3 Yolanda     Compact   19       \n",
              "4 Xerxes      Compact   12       \n",
              "5 Ann         Sedan     18       \n",
              "6 Bob         Sedan     12       "
            ]
          },
          "metadata": {}
        }
      ],
      "source": [
        "(sales\n",
        " %>% gather(key = \"auto_type\",\n",
        "            value = \"num_sales\",\n",
        "            -Salesperson)\n",
        ") -> stacked_sales\n",
        "\n",
        "head(stacked_sales)"
      ]
    },
    {
      "cell_type": "markdown",
      "source": [
        "### Modern approach: Stacking columns with `pivot_longer`\n",
        "\n",
        "The function `pivot_longer` is a newer version of `gather` with a cleaner syntax and more powerful features.\n",
        "\n",
        "Arguments are:\n",
        "\n",
        "1. label column name using `names_to = ...`\n",
        "2. data column name using `values_to = ...`\n",
        "3. then a list of columns to stack using `cols = `\n",
        "\n",
        "#### Syntax\n",
        "```{R}\n",
        "...\n",
        "%>% pivot_longer(cols = c(col1, col2, ...),\n",
        "                 names_to = \"name_col\",\n",
        "                 values_to = \"value_col\")\n",
        "...\n",
        "```"
      ],
      "metadata": {
        "id": "Tf5H53b5wvn2"
      }
    },
    {
      "cell_type": "markdown",
      "source": [
        "#### Option 1: List all the columns using `cols = c(...)`"
      ],
      "metadata": {
        "id": "t5maUyfkxp0c"
      }
    },
    {
      "cell_type": "code",
      "source": [
        "(sales\n",
        " %>% pivot_longer(names_to = \"auto_type\",\n",
        "                  values_to = \"num_sales\",\n",
        "                  cols = c(Compact, Sedan, SUV, Truck))\n",
        ") -> stacked_sales\n",
        "\n",
        "head(stacked_sales)"
      ],
      "metadata": {
        "colab": {
          "base_uri": "https://localhost:8080/",
          "height": 264
        },
        "id": "Ghv42ZqjxeCF",
        "outputId": "43faaf70-4adb-4634-d21c-71b0f6576390"
      },
      "execution_count": 7,
      "outputs": [
        {
          "output_type": "display_data",
          "data": {
            "text/html": [
              "<table class=\"dataframe\">\n",
              "<caption>A tibble: 6 × 3</caption>\n",
              "<thead>\n",
              "\t<tr><th scope=col>Salesperson</th><th scope=col>auto_type</th><th scope=col>num_sales</th></tr>\n",
              "\t<tr><th scope=col>&lt;chr&gt;</th><th scope=col>&lt;chr&gt;</th><th scope=col>&lt;int&gt;</th></tr>\n",
              "</thead>\n",
              "<tbody>\n",
              "\t<tr><td>Ann</td><td>Compact</td><td>22</td></tr>\n",
              "\t<tr><td>Ann</td><td>Sedan  </td><td>18</td></tr>\n",
              "\t<tr><td>Ann</td><td>SUV    </td><td>15</td></tr>\n",
              "\t<tr><td>Ann</td><td>Truck  </td><td>12</td></tr>\n",
              "\t<tr><td>Bob</td><td>Compact</td><td>19</td></tr>\n",
              "\t<tr><td>Bob</td><td>Sedan  </td><td>12</td></tr>\n",
              "</tbody>\n",
              "</table>\n"
            ],
            "text/markdown": "\nA tibble: 6 × 3\n\n| Salesperson &lt;chr&gt; | auto_type &lt;chr&gt; | num_sales &lt;int&gt; |\n|---|---|---|\n| Ann | Compact | 22 |\n| Ann | Sedan   | 18 |\n| Ann | SUV     | 15 |\n| Ann | Truck   | 12 |\n| Bob | Compact | 19 |\n| Bob | Sedan   | 12 |\n\n",
            "text/latex": "A tibble: 6 × 3\n\\begin{tabular}{lll}\n Salesperson & auto\\_type & num\\_sales\\\\\n <chr> & <chr> & <int>\\\\\n\\hline\n\t Ann & Compact & 22\\\\\n\t Ann & Sedan   & 18\\\\\n\t Ann & SUV     & 15\\\\\n\t Ann & Truck   & 12\\\\\n\t Bob & Compact & 19\\\\\n\t Bob & Sedan   & 12\\\\\n\\end{tabular}\n",
            "text/plain": [
              "  Salesperson auto_type num_sales\n",
              "1 Ann         Compact   22       \n",
              "2 Ann         Sedan     18       \n",
              "3 Ann         SUV       15       \n",
              "4 Ann         Truck     12       \n",
              "5 Bob         Compact   19       \n",
              "6 Bob         Sedan     12       "
            ]
          },
          "metadata": {}
        }
      ]
    },
    {
      "cell_type": "markdown",
      "source": [
        "#### Option 2: Give a range of columns using `cols = col_1:col_n`"
      ],
      "metadata": {
        "id": "09jHY5MexylI"
      }
    },
    {
      "cell_type": "code",
      "source": [
        "(sales\n",
        " %>% pivot_longer(names_to = \"auto_type\",\n",
        "                  values_to = \"num_sales\",\n",
        "                  cols = Compact:Truck)\n",
        ") -> stacked_sales\n",
        "\n",
        "head(stacked_sales)"
      ],
      "metadata": {
        "colab": {
          "base_uri": "https://localhost:8080/",
          "height": 264
        },
        "id": "Ea3HnKU1x6xP",
        "outputId": "4ff25519-dd92-4e02-ac2c-1199f5484b56"
      },
      "execution_count": 9,
      "outputs": [
        {
          "output_type": "display_data",
          "data": {
            "text/html": [
              "<table class=\"dataframe\">\n",
              "<caption>A tibble: 6 × 3</caption>\n",
              "<thead>\n",
              "\t<tr><th scope=col>Salesperson</th><th scope=col>auto_type</th><th scope=col>num_sales</th></tr>\n",
              "\t<tr><th scope=col>&lt;chr&gt;</th><th scope=col>&lt;chr&gt;</th><th scope=col>&lt;int&gt;</th></tr>\n",
              "</thead>\n",
              "<tbody>\n",
              "\t<tr><td>Ann</td><td>Compact</td><td>22</td></tr>\n",
              "\t<tr><td>Ann</td><td>Sedan  </td><td>18</td></tr>\n",
              "\t<tr><td>Ann</td><td>SUV    </td><td>15</td></tr>\n",
              "\t<tr><td>Ann</td><td>Truck  </td><td>12</td></tr>\n",
              "\t<tr><td>Bob</td><td>Compact</td><td>19</td></tr>\n",
              "\t<tr><td>Bob</td><td>Sedan  </td><td>12</td></tr>\n",
              "</tbody>\n",
              "</table>\n"
            ],
            "text/markdown": "\nA tibble: 6 × 3\n\n| Salesperson &lt;chr&gt; | auto_type &lt;chr&gt; | num_sales &lt;int&gt; |\n|---|---|---|\n| Ann | Compact | 22 |\n| Ann | Sedan   | 18 |\n| Ann | SUV     | 15 |\n| Ann | Truck   | 12 |\n| Bob | Compact | 19 |\n| Bob | Sedan   | 12 |\n\n",
            "text/latex": "A tibble: 6 × 3\n\\begin{tabular}{lll}\n Salesperson & auto\\_type & num\\_sales\\\\\n <chr> & <chr> & <int>\\\\\n\\hline\n\t Ann & Compact & 22\\\\\n\t Ann & Sedan   & 18\\\\\n\t Ann & SUV     & 15\\\\\n\t Ann & Truck   & 12\\\\\n\t Bob & Compact & 19\\\\\n\t Bob & Sedan   & 12\\\\\n\\end{tabular}\n",
            "text/plain": [
              "  Salesperson auto_type num_sales\n",
              "1 Ann         Compact   22       \n",
              "2 Ann         Sedan     18       \n",
              "3 Ann         SUV       15       \n",
              "4 Ann         Truck     12       \n",
              "5 Bob         Compact   19       \n",
              "6 Bob         Sedan     12       "
            ]
          },
          "metadata": {}
        }
      ]
    },
    {
      "cell_type": "markdown",
      "source": [
        "#### Option 3: Select by exclusion"
      ],
      "metadata": {
        "id": "v37iuaG_zgg2"
      }
    },
    {
      "cell_type": "code",
      "source": [
        "(sales\n",
        " %>% pivot_longer(names_to = \"auto_type\",\n",
        "                  values_to = \"num_sales\",\n",
        "                  cols = -Salesperson)\n",
        ") -> stacked_sales\n",
        "\n",
        "head(stacked_sales)"
      ],
      "metadata": {
        "colab": {
          "base_uri": "https://localhost:8080/",
          "height": 264
        },
        "id": "KgAl4vuezm8r",
        "outputId": "a8802e4e-4fcc-4b38-c9d0-fb6ccc04ce70"
      },
      "execution_count": 11,
      "outputs": [
        {
          "output_type": "display_data",
          "data": {
            "text/html": [
              "<table class=\"dataframe\">\n",
              "<caption>A tibble: 6 × 3</caption>\n",
              "<thead>\n",
              "\t<tr><th scope=col>Salesperson</th><th scope=col>auto_type</th><th scope=col>num_sales</th></tr>\n",
              "\t<tr><th scope=col>&lt;chr&gt;</th><th scope=col>&lt;chr&gt;</th><th scope=col>&lt;int&gt;</th></tr>\n",
              "</thead>\n",
              "<tbody>\n",
              "\t<tr><td>Ann</td><td>Compact</td><td>22</td></tr>\n",
              "\t<tr><td>Ann</td><td>Sedan  </td><td>18</td></tr>\n",
              "\t<tr><td>Ann</td><td>SUV    </td><td>15</td></tr>\n",
              "\t<tr><td>Ann</td><td>Truck  </td><td>12</td></tr>\n",
              "\t<tr><td>Bob</td><td>Compact</td><td>19</td></tr>\n",
              "\t<tr><td>Bob</td><td>Sedan  </td><td>12</td></tr>\n",
              "</tbody>\n",
              "</table>\n"
            ],
            "text/markdown": "\nA tibble: 6 × 3\n\n| Salesperson &lt;chr&gt; | auto_type &lt;chr&gt; | num_sales &lt;int&gt; |\n|---|---|---|\n| Ann | Compact | 22 |\n| Ann | Sedan   | 18 |\n| Ann | SUV     | 15 |\n| Ann | Truck   | 12 |\n| Bob | Compact | 19 |\n| Bob | Sedan   | 12 |\n\n",
            "text/latex": "A tibble: 6 × 3\n\\begin{tabular}{lll}\n Salesperson & auto\\_type & num\\_sales\\\\\n <chr> & <chr> & <int>\\\\\n\\hline\n\t Ann & Compact & 22\\\\\n\t Ann & Sedan   & 18\\\\\n\t Ann & SUV     & 15\\\\\n\t Ann & Truck   & 12\\\\\n\t Bob & Compact & 19\\\\\n\t Bob & Sedan   & 12\\\\\n\\end{tabular}\n",
            "text/plain": [
              "  Salesperson auto_type num_sales\n",
              "1 Ann         Compact   22       \n",
              "2 Ann         Sedan     18       \n",
              "3 Ann         SUV       15       \n",
              "4 Ann         Truck     12       \n",
              "5 Bob         Compact   19       \n",
              "6 Bob         Sedan     12       "
            ]
          },
          "metadata": {}
        }
      ]
    },
    {
      "cell_type": "markdown",
      "metadata": {
        "id": "6QRQ5DcEY7zh"
      },
      "source": [
        "## <font color=\"red\"> Exercise 8.3.1 </font>\n",
        "\n",
        "Notice that the years are all in separate columns in the `world_bank_fresh_download.csv`.  "
      ]
    },
    {
      "cell_type": "code",
      "execution_count": 6,
      "metadata": {
        "id": "x-fW5gNbY7zh",
        "outputId": "11c94d01-5c04-4bc4-f966-57e922772e6b",
        "colab": {
          "base_uri": "https://localhost:8080/",
          "height": 264
        }
      },
      "outputs": [
        {
          "output_type": "display_data",
          "data": {
            "text/html": [
              "<table class=\"dataframe\">\n",
              "<caption>A data.frame: 6 × 59</caption>\n",
              "<thead>\n",
              "\t<tr><th></th><th scope=col>Country</th><th scope=col>Region</th><th scope=col>Indicator</th><th scope=col>X1960</th><th scope=col>X1961</th><th scope=col>X1962</th><th scope=col>X1963</th><th scope=col>X1964</th><th scope=col>X1965</th><th scope=col>X1966</th><th scope=col>⋯</th><th scope=col>X2006</th><th scope=col>X2007</th><th scope=col>X2008</th><th scope=col>X2009</th><th scope=col>X2010</th><th scope=col>X2011</th><th scope=col>X2012</th><th scope=col>X2013</th><th scope=col>X2014</th><th scope=col>X2015</th></tr>\n",
              "\t<tr><th></th><th scope=col>&lt;chr&gt;</th><th scope=col>&lt;chr&gt;</th><th scope=col>&lt;chr&gt;</th><th scope=col>&lt;dbl&gt;</th><th scope=col>&lt;dbl&gt;</th><th scope=col>&lt;dbl&gt;</th><th scope=col>&lt;dbl&gt;</th><th scope=col>&lt;dbl&gt;</th><th scope=col>&lt;dbl&gt;</th><th scope=col>&lt;dbl&gt;</th><th scope=col>⋯</th><th scope=col>&lt;dbl&gt;</th><th scope=col>&lt;dbl&gt;</th><th scope=col>&lt;dbl&gt;</th><th scope=col>&lt;dbl&gt;</th><th scope=col>&lt;dbl&gt;</th><th scope=col>&lt;dbl&gt;</th><th scope=col>&lt;dbl&gt;</th><th scope=col>&lt;dbl&gt;</th><th scope=col>&lt;dbl&gt;</th><th scope=col>&lt;dbl&gt;</th></tr>\n",
              "</thead>\n",
              "<tbody>\n",
              "\t<tr><th scope=row>1</th><td>Algeria</td><td>Africa</td><td>Total_population</td><td>1.112489e+07</td><td>1.140486e+07</td><td>1.169015e+07</td><td>1.198513e+07</td><td>1.229597e+07</td><td>1.262695e+07</td><td>1.298027e+07</td><td>⋯</td><td>3.374933e+07</td><td>3.426197e+07</td><td>3.481106e+07</td><td>3.540179e+07</td><td>3.603616e+07</td><td>3.671713e+07</td><td>3.743943e+07</td><td>3.818614e+07</td><td>3.893433e+07</td><td>39666519</td></tr>\n",
              "\t<tr><th scope=row>2</th><td>Algeria</td><td>Africa</td><td>CO2_emissions   </td><td>5.537636e-01</td><td>5.318100e-01</td><td>4.849537e-01</td><td>4.528245e-01</td><td>4.595689e-01</td><td>5.224485e-01</td><td>6.494806e-01</td><td>⋯</td><td>2.990267e+00</td><td>3.189978e+00</td><td>3.205183e+00</td><td>3.428472e+00</td><td>3.309912e+00</td><td>3.316038e+00</td><td>          NA</td><td>          NA</td><td>          NA</td><td>      NA</td></tr>\n",
              "\t<tr><th scope=row>3</th><td>Algeria</td><td>Africa</td><td>Life_expectancy </td><td>4.613512e+01</td><td>4.659032e+01</td><td>4.704500e+01</td><td>4.749620e+01</td><td>4.794190e+01</td><td>4.837610e+01</td><td>4.879080e+01</td><td>⋯</td><td>7.255771e+01</td><td>7.289837e+01</td><td>7.321932e+01</td><td>7.352102e+01</td><td>7.380405e+01</td><td>7.407000e+01</td><td>7.432410e+01</td><td>7.456895e+01</td><td>7.480810e+01</td><td>      NA</td></tr>\n",
              "\t<tr><th scope=row>4</th><td>Algeria</td><td>Africa</td><td>Internet_usage  </td><td>          NA</td><td>          NA</td><td>          NA</td><td>          NA</td><td>          NA</td><td>          NA</td><td>          NA</td><td>⋯</td><td>7.375985e+00</td><td>9.451191e+00</td><td>1.018000e+01</td><td>1.123000e+01</td><td>1.250000e+01</td><td>1.400000e+01</td><td>1.522803e+01</td><td>1.650000e+01</td><td>1.809000e+01</td><td>      NA</td></tr>\n",
              "\t<tr><th scope=row>5</th><td>Angola </td><td>Africa</td><td>Total_population</td><td>5.270844e+06</td><td>5.367287e+06</td><td>5.465905e+06</td><td>5.565808e+06</td><td>5.665701e+06</td><td>5.765025e+06</td><td>5.863568e+06</td><td>⋯</td><td>1.854147e+07</td><td>1.918391e+07</td><td>1.984225e+07</td><td>2.052010e+07</td><td>2.121995e+07</td><td>2.194230e+07</td><td>2.268563e+07</td><td>2.344820e+07</td><td>2.422752e+07</td><td>25021974</td></tr>\n",
              "\t<tr><th scope=row>6</th><td>Angola </td><td>Africa</td><td>CO2_emissions   </td><td>1.043571e-01</td><td>8.471841e-02</td><td>2.160253e-01</td><td>2.068771e-01</td><td>2.161741e-01</td><td>2.060890e-01</td><td>2.651641e-01</td><td>⋯</td><td>1.200877e+00</td><td>1.311096e+00</td><td>1.369425e+00</td><td>1.430873e+00</td><td>1.401654e+00</td><td>1.354008e+00</td><td>          NA</td><td>          NA</td><td>          NA</td><td>      NA</td></tr>\n",
              "</tbody>\n",
              "</table>\n"
            ],
            "text/markdown": "\nA data.frame: 6 × 59\n\n| <!--/--> | Country &lt;chr&gt; | Region &lt;chr&gt; | Indicator &lt;chr&gt; | X1960 &lt;dbl&gt; | X1961 &lt;dbl&gt; | X1962 &lt;dbl&gt; | X1963 &lt;dbl&gt; | X1964 &lt;dbl&gt; | X1965 &lt;dbl&gt; | X1966 &lt;dbl&gt; | ⋯ ⋯ | X2006 &lt;dbl&gt; | X2007 &lt;dbl&gt; | X2008 &lt;dbl&gt; | X2009 &lt;dbl&gt; | X2010 &lt;dbl&gt; | X2011 &lt;dbl&gt; | X2012 &lt;dbl&gt; | X2013 &lt;dbl&gt; | X2014 &lt;dbl&gt; | X2015 &lt;dbl&gt; |\n|---|---|---|---|---|---|---|---|---|---|---|---|---|---|---|---|---|---|---|---|---|---|\n| 1 | Algeria | Africa | Total_population | 1.112489e+07 | 1.140486e+07 | 1.169015e+07 | 1.198513e+07 | 1.229597e+07 | 1.262695e+07 | 1.298027e+07 | ⋯ | 3.374933e+07 | 3.426197e+07 | 3.481106e+07 | 3.540179e+07 | 3.603616e+07 | 3.671713e+07 | 3.743943e+07 | 3.818614e+07 | 3.893433e+07 | 39666519 |\n| 2 | Algeria | Africa | CO2_emissions    | 5.537636e-01 | 5.318100e-01 | 4.849537e-01 | 4.528245e-01 | 4.595689e-01 | 5.224485e-01 | 6.494806e-01 | ⋯ | 2.990267e+00 | 3.189978e+00 | 3.205183e+00 | 3.428472e+00 | 3.309912e+00 | 3.316038e+00 |           NA |           NA |           NA |       NA |\n| 3 | Algeria | Africa | Life_expectancy  | 4.613512e+01 | 4.659032e+01 | 4.704500e+01 | 4.749620e+01 | 4.794190e+01 | 4.837610e+01 | 4.879080e+01 | ⋯ | 7.255771e+01 | 7.289837e+01 | 7.321932e+01 | 7.352102e+01 | 7.380405e+01 | 7.407000e+01 | 7.432410e+01 | 7.456895e+01 | 7.480810e+01 |       NA |\n| 4 | Algeria | Africa | Internet_usage   |           NA |           NA |           NA |           NA |           NA |           NA |           NA | ⋯ | 7.375985e+00 | 9.451191e+00 | 1.018000e+01 | 1.123000e+01 | 1.250000e+01 | 1.400000e+01 | 1.522803e+01 | 1.650000e+01 | 1.809000e+01 |       NA |\n| 5 | Angola  | Africa | Total_population | 5.270844e+06 | 5.367287e+06 | 5.465905e+06 | 5.565808e+06 | 5.665701e+06 | 5.765025e+06 | 5.863568e+06 | ⋯ | 1.854147e+07 | 1.918391e+07 | 1.984225e+07 | 2.052010e+07 | 2.121995e+07 | 2.194230e+07 | 2.268563e+07 | 2.344820e+07 | 2.422752e+07 | 25021974 |\n| 6 | Angola  | Africa | CO2_emissions    | 1.043571e-01 | 8.471841e-02 | 2.160253e-01 | 2.068771e-01 | 2.161741e-01 | 2.060890e-01 | 2.651641e-01 | ⋯ | 1.200877e+00 | 1.311096e+00 | 1.369425e+00 | 1.430873e+00 | 1.401654e+00 | 1.354008e+00 |           NA |           NA |           NA |       NA |\n\n",
            "text/latex": "A data.frame: 6 × 59\n\\begin{tabular}{r|lllllllllllllllllllll}\n  & Country & Region & Indicator & X1960 & X1961 & X1962 & X1963 & X1964 & X1965 & X1966 & ⋯ & X2006 & X2007 & X2008 & X2009 & X2010 & X2011 & X2012 & X2013 & X2014 & X2015\\\\\n  & <chr> & <chr> & <chr> & <dbl> & <dbl> & <dbl> & <dbl> & <dbl> & <dbl> & <dbl> & ⋯ & <dbl> & <dbl> & <dbl> & <dbl> & <dbl> & <dbl> & <dbl> & <dbl> & <dbl> & <dbl>\\\\\n\\hline\n\t1 & Algeria & Africa & Total\\_population & 1.112489e+07 & 1.140486e+07 & 1.169015e+07 & 1.198513e+07 & 1.229597e+07 & 1.262695e+07 & 1.298027e+07 & ⋯ & 3.374933e+07 & 3.426197e+07 & 3.481106e+07 & 3.540179e+07 & 3.603616e+07 & 3.671713e+07 & 3.743943e+07 & 3.818614e+07 & 3.893433e+07 & 39666519\\\\\n\t2 & Algeria & Africa & CO2\\_emissions    & 5.537636e-01 & 5.318100e-01 & 4.849537e-01 & 4.528245e-01 & 4.595689e-01 & 5.224485e-01 & 6.494806e-01 & ⋯ & 2.990267e+00 & 3.189978e+00 & 3.205183e+00 & 3.428472e+00 & 3.309912e+00 & 3.316038e+00 &           NA &           NA &           NA &       NA\\\\\n\t3 & Algeria & Africa & Life\\_expectancy  & 4.613512e+01 & 4.659032e+01 & 4.704500e+01 & 4.749620e+01 & 4.794190e+01 & 4.837610e+01 & 4.879080e+01 & ⋯ & 7.255771e+01 & 7.289837e+01 & 7.321932e+01 & 7.352102e+01 & 7.380405e+01 & 7.407000e+01 & 7.432410e+01 & 7.456895e+01 & 7.480810e+01 &       NA\\\\\n\t4 & Algeria & Africa & Internet\\_usage   &           NA &           NA &           NA &           NA &           NA &           NA &           NA & ⋯ & 7.375985e+00 & 9.451191e+00 & 1.018000e+01 & 1.123000e+01 & 1.250000e+01 & 1.400000e+01 & 1.522803e+01 & 1.650000e+01 & 1.809000e+01 &       NA\\\\\n\t5 & Angola  & Africa & Total\\_population & 5.270844e+06 & 5.367287e+06 & 5.465905e+06 & 5.565808e+06 & 5.665701e+06 & 5.765025e+06 & 5.863568e+06 & ⋯ & 1.854147e+07 & 1.918391e+07 & 1.984225e+07 & 2.052010e+07 & 2.121995e+07 & 2.194230e+07 & 2.268563e+07 & 2.344820e+07 & 2.422752e+07 & 25021974\\\\\n\t6 & Angola  & Africa & CO2\\_emissions    & 1.043571e-01 & 8.471841e-02 & 2.160253e-01 & 2.068771e-01 & 2.161741e-01 & 2.060890e-01 & 2.651641e-01 & ⋯ & 1.200877e+00 & 1.311096e+00 & 1.369425e+00 & 1.430873e+00 & 1.401654e+00 & 1.354008e+00 &           NA &           NA &           NA &       NA\\\\\n\\end{tabular}\n",
            "text/plain": [
              "  Country Region Indicator        X1960        X1961        X1962       \n",
              "1 Algeria Africa Total_population 1.112489e+07 1.140486e+07 1.169015e+07\n",
              "2 Algeria Africa CO2_emissions    5.537636e-01 5.318100e-01 4.849537e-01\n",
              "3 Algeria Africa Life_expectancy  4.613512e+01 4.659032e+01 4.704500e+01\n",
              "4 Algeria Africa Internet_usage             NA           NA           NA\n",
              "5 Angola  Africa Total_population 5.270844e+06 5.367287e+06 5.465905e+06\n",
              "6 Angola  Africa CO2_emissions    1.043571e-01 8.471841e-02 2.160253e-01\n",
              "  X1963        X1964        X1965        X1966        ⋯ X2006       \n",
              "1 1.198513e+07 1.229597e+07 1.262695e+07 1.298027e+07 ⋯ 3.374933e+07\n",
              "2 4.528245e-01 4.595689e-01 5.224485e-01 6.494806e-01 ⋯ 2.990267e+00\n",
              "3 4.749620e+01 4.794190e+01 4.837610e+01 4.879080e+01 ⋯ 7.255771e+01\n",
              "4           NA           NA           NA           NA ⋯ 7.375985e+00\n",
              "5 5.565808e+06 5.665701e+06 5.765025e+06 5.863568e+06 ⋯ 1.854147e+07\n",
              "6 2.068771e-01 2.161741e-01 2.060890e-01 2.651641e-01 ⋯ 1.200877e+00\n",
              "  X2007        X2008        X2009        X2010        X2011        X2012       \n",
              "1 3.426197e+07 3.481106e+07 3.540179e+07 3.603616e+07 3.671713e+07 3.743943e+07\n",
              "2 3.189978e+00 3.205183e+00 3.428472e+00 3.309912e+00 3.316038e+00           NA\n",
              "3 7.289837e+01 7.321932e+01 7.352102e+01 7.380405e+01 7.407000e+01 7.432410e+01\n",
              "4 9.451191e+00 1.018000e+01 1.123000e+01 1.250000e+01 1.400000e+01 1.522803e+01\n",
              "5 1.918391e+07 1.984225e+07 2.052010e+07 2.121995e+07 2.194230e+07 2.268563e+07\n",
              "6 1.311096e+00 1.369425e+00 1.430873e+00 1.401654e+00 1.354008e+00           NA\n",
              "  X2013        X2014        X2015   \n",
              "1 3.818614e+07 3.893433e+07 39666519\n",
              "2           NA           NA       NA\n",
              "3 7.456895e+01 7.480810e+01       NA\n",
              "4 1.650000e+01 1.809000e+01       NA\n",
              "5 2.344820e+07 2.422752e+07 25021974\n",
              "6           NA           NA       NA"
            ]
          },
          "metadata": {}
        }
      ],
      "source": [
        "world_bank = read.csv(\"https://github.com/WSU-DataScience/DSCI_210_R_notebooks/raw/main/data/world_bank_fresh_download.csv\")\n",
        "head(world_bank)"
      ]
    },
    {
      "cell_type": "markdown",
      "metadata": {
        "id": "uh2S-N6XY7zh"
      },
      "source": [
        "#### Question\n",
        "\n",
        "Why is this a violation of the Golden Rule?"
      ]
    },
    {
      "cell_type": "markdown",
      "metadata": {
        "id": "gUaPLeAkY7zh"
      },
      "source": [
        "<font color=\"orange\">\n",
        "Your answer here\n",
        "</font>"
      ]
    },
    {
      "cell_type": "markdown",
      "metadata": {
        "id": "WYpK-KppY7zh"
      },
      "source": [
        "#### Task 1\n",
        "\n",
        "Fix this issue by\n",
        "\n",
        "1. Use `gather` in a pipe to stack all these columns.  Store the years in a column called `year` and the number in a column called `values`.\n",
        "2. Using `mutate`, `gsub`, and `as.numeric` to clean up the resulting `year` column and convert it to a numeric column.\n",
        "3. Save the resulting dataframe to a variable named `world_bank_stacked`"
      ]
    },
    {
      "cell_type": "code",
      "execution_count": null,
      "metadata": {
        "id": "hfeG_opyY7zi"
      },
      "outputs": [],
      "source": [
        "# Your code here"
      ]
    },
    {
      "cell_type": "markdown",
      "source": [
        "#### Task 2\n",
        "\n",
        "Redo **Task 1**, but this time using `pivot_longer`."
      ],
      "metadata": {
        "id": "-BK2Kb0mz79O"
      }
    },
    {
      "cell_type": "code",
      "source": [
        "# Your code here"
      ],
      "metadata": {
        "id": "CCQUYevc0DJI"
      },
      "execution_count": null,
      "outputs": []
    },
    {
      "cell_type": "markdown",
      "metadata": {
        "id": "M8sB-B4-Y7zi"
      },
      "source": [
        "## Unstacking columns with `spread` and `pivot_wider`\n",
        "\n",
        "### Older approach - Split the columns using `spread`\n",
        "\n",
        "The function `spread`, also from the `tidyr` library, is used to stack columns.\n",
        "\n",
        "Arguments:\n",
        "\n",
        "1. Column to split on\n",
        "2. Column to split\n",
        "\n",
        "#### Syntax\n",
        "\n",
        "```{r}\n",
        "...\n",
        "%>% spread(key = col1, value = col2)\n",
        "...\n",
        "```"
      ]
    },
    {
      "cell_type": "markdown",
      "metadata": {
        "id": "vjNNrNk7Y7zi"
      },
      "source": []
    },
    {
      "cell_type": "markdown",
      "metadata": {
        "id": "FKHXy5PXY7zi"
      },
      "source": [
        "#### A simple unstack"
      ]
    },
    {
      "cell_type": "code",
      "execution_count": 12,
      "metadata": {
        "scrolled": true,
        "id": "t6lajaR8Y7zi",
        "outputId": "057f3690-7b4f-4d4b-e21a-4b8e59f6a979",
        "colab": {
          "base_uri": "https://localhost:8080/",
          "height": 264
        }
      },
      "outputs": [
        {
          "output_type": "display_data",
          "data": {
            "text/html": [
              "<table class=\"dataframe\">\n",
              "<caption>A tibble: 6 × 3</caption>\n",
              "<thead>\n",
              "\t<tr><th scope=col>Salesperson</th><th scope=col>auto_type</th><th scope=col>num_sales</th></tr>\n",
              "\t<tr><th scope=col>&lt;chr&gt;</th><th scope=col>&lt;chr&gt;</th><th scope=col>&lt;int&gt;</th></tr>\n",
              "</thead>\n",
              "<tbody>\n",
              "\t<tr><td>Ann</td><td>Compact</td><td>22</td></tr>\n",
              "\t<tr><td>Ann</td><td>Sedan  </td><td>18</td></tr>\n",
              "\t<tr><td>Ann</td><td>SUV    </td><td>15</td></tr>\n",
              "\t<tr><td>Ann</td><td>Truck  </td><td>12</td></tr>\n",
              "\t<tr><td>Bob</td><td>Compact</td><td>19</td></tr>\n",
              "\t<tr><td>Bob</td><td>Sedan  </td><td>12</td></tr>\n",
              "</tbody>\n",
              "</table>\n"
            ],
            "text/markdown": "\nA tibble: 6 × 3\n\n| Salesperson &lt;chr&gt; | auto_type &lt;chr&gt; | num_sales &lt;int&gt; |\n|---|---|---|\n| Ann | Compact | 22 |\n| Ann | Sedan   | 18 |\n| Ann | SUV     | 15 |\n| Ann | Truck   | 12 |\n| Bob | Compact | 19 |\n| Bob | Sedan   | 12 |\n\n",
            "text/latex": "A tibble: 6 × 3\n\\begin{tabular}{lll}\n Salesperson & auto\\_type & num\\_sales\\\\\n <chr> & <chr> & <int>\\\\\n\\hline\n\t Ann & Compact & 22\\\\\n\t Ann & Sedan   & 18\\\\\n\t Ann & SUV     & 15\\\\\n\t Ann & Truck   & 12\\\\\n\t Bob & Compact & 19\\\\\n\t Bob & Sedan   & 12\\\\\n\\end{tabular}\n",
            "text/plain": [
              "  Salesperson auto_type num_sales\n",
              "1 Ann         Compact   22       \n",
              "2 Ann         Sedan     18       \n",
              "3 Ann         SUV       15       \n",
              "4 Ann         Truck     12       \n",
              "5 Bob         Compact   19       \n",
              "6 Bob         Sedan     12       "
            ]
          },
          "metadata": {}
        }
      ],
      "source": [
        "head(stacked_sales)"
      ]
    },
    {
      "cell_type": "code",
      "execution_count": 16,
      "metadata": {
        "id": "wZoC4YTUY7zk",
        "outputId": "2a0a9485-7de1-4100-cbb0-aaf727b37b7e",
        "colab": {
          "base_uri": "https://localhost:8080/",
          "height": 211
        }
      },
      "outputs": [
        {
          "output_type": "display_data",
          "data": {
            "text/html": [
              "<table class=\"dataframe\">\n",
              "<caption>A tibble: 4 × 5</caption>\n",
              "<thead>\n",
              "\t<tr><th scope=col>Salesperson</th><th scope=col>Compact</th><th scope=col>Sedan</th><th scope=col>SUV</th><th scope=col>Truck</th></tr>\n",
              "\t<tr><th scope=col>&lt;chr&gt;</th><th scope=col>&lt;int&gt;</th><th scope=col>&lt;int&gt;</th><th scope=col>&lt;int&gt;</th><th scope=col>&lt;int&gt;</th></tr>\n",
              "</thead>\n",
              "<tbody>\n",
              "\t<tr><td>Ann    </td><td>22</td><td>18</td><td>15</td><td>12</td></tr>\n",
              "\t<tr><td>Bob    </td><td>19</td><td>12</td><td>17</td><td>20</td></tr>\n",
              "\t<tr><td>Xerxes </td><td>12</td><td>23</td><td>18</td><td> 9</td></tr>\n",
              "\t<tr><td>Yolanda</td><td>19</td><td> 8</td><td>32</td><td>15</td></tr>\n",
              "</tbody>\n",
              "</table>\n"
            ],
            "text/markdown": "\nA tibble: 4 × 5\n\n| Salesperson &lt;chr&gt; | Compact &lt;int&gt; | Sedan &lt;int&gt; | SUV &lt;int&gt; | Truck &lt;int&gt; |\n|---|---|---|---|---|\n| Ann     | 22 | 18 | 15 | 12 |\n| Bob     | 19 | 12 | 17 | 20 |\n| Xerxes  | 12 | 23 | 18 |  9 |\n| Yolanda | 19 |  8 | 32 | 15 |\n\n",
            "text/latex": "A tibble: 4 × 5\n\\begin{tabular}{lllll}\n Salesperson & Compact & Sedan & SUV & Truck\\\\\n <chr> & <int> & <int> & <int> & <int>\\\\\n\\hline\n\t Ann     & 22 & 18 & 15 & 12\\\\\n\t Bob     & 19 & 12 & 17 & 20\\\\\n\t Xerxes  & 12 & 23 & 18 &  9\\\\\n\t Yolanda & 19 &  8 & 32 & 15\\\\\n\\end{tabular}\n",
            "text/plain": [
              "  Salesperson Compact Sedan SUV Truck\n",
              "1 Ann         22      18    15  12   \n",
              "2 Bob         19      12    17  20   \n",
              "3 Xerxes      12      23    18   9   \n",
              "4 Yolanda     19       8    32  15   "
            ]
          },
          "metadata": {}
        }
      ],
      "source": [
        "(stacked_sales\n",
        " %>% spread(key = auto_type,\n",
        "            value = num_sales)\n",
        " )"
      ]
    },
    {
      "cell_type": "markdown",
      "source": [
        "### Newer approach - Split the columns using `pivot_wider`\n",
        "\n",
        "The function `pivot_wider` is an updated version of `spread` with a cleaner syntax and more powerful features.\n",
        "\n",
        "Arguments:\n",
        "\n",
        "1. Column to split on using `names_from = col1`\n",
        "2. Column to split using `values_from = col2`\n",
        "3. [Optional as needed] Columns to group on using `id_cols = c(...)`\n",
        "\n",
        "#### Syntax\n",
        "\n",
        "```{r}\n",
        "...\n",
        "%>% pivot_wider(names_from = col1,\n",
        "                values_from = col2,\n",
        "               )\n",
        "...\n",
        "```"
      ],
      "metadata": {
        "id": "7vue0poz0qRZ"
      }
    },
    {
      "cell_type": "markdown",
      "source": [
        "#### A simple unstack with `pivot_wider`"
      ],
      "metadata": {
        "id": "FdT59fPq1mrz"
      }
    },
    {
      "cell_type": "code",
      "source": [
        "head(stacked_sales)"
      ],
      "metadata": {
        "colab": {
          "base_uri": "https://localhost:8080/",
          "height": 264
        },
        "id": "2c3dMs8p1soM",
        "outputId": "3e8b37d5-3184-4f80-e687-674e417c92b0"
      },
      "execution_count": 15,
      "outputs": [
        {
          "output_type": "display_data",
          "data": {
            "text/html": [
              "<table class=\"dataframe\">\n",
              "<caption>A tibble: 6 × 3</caption>\n",
              "<thead>\n",
              "\t<tr><th scope=col>Salesperson</th><th scope=col>auto_type</th><th scope=col>num_sales</th></tr>\n",
              "\t<tr><th scope=col>&lt;chr&gt;</th><th scope=col>&lt;chr&gt;</th><th scope=col>&lt;int&gt;</th></tr>\n",
              "</thead>\n",
              "<tbody>\n",
              "\t<tr><td>Ann</td><td>Compact</td><td>22</td></tr>\n",
              "\t<tr><td>Ann</td><td>Sedan  </td><td>18</td></tr>\n",
              "\t<tr><td>Ann</td><td>SUV    </td><td>15</td></tr>\n",
              "\t<tr><td>Ann</td><td>Truck  </td><td>12</td></tr>\n",
              "\t<tr><td>Bob</td><td>Compact</td><td>19</td></tr>\n",
              "\t<tr><td>Bob</td><td>Sedan  </td><td>12</td></tr>\n",
              "</tbody>\n",
              "</table>\n"
            ],
            "text/markdown": "\nA tibble: 6 × 3\n\n| Salesperson &lt;chr&gt; | auto_type &lt;chr&gt; | num_sales &lt;int&gt; |\n|---|---|---|\n| Ann | Compact | 22 |\n| Ann | Sedan   | 18 |\n| Ann | SUV     | 15 |\n| Ann | Truck   | 12 |\n| Bob | Compact | 19 |\n| Bob | Sedan   | 12 |\n\n",
            "text/latex": "A tibble: 6 × 3\n\\begin{tabular}{lll}\n Salesperson & auto\\_type & num\\_sales\\\\\n <chr> & <chr> & <int>\\\\\n\\hline\n\t Ann & Compact & 22\\\\\n\t Ann & Sedan   & 18\\\\\n\t Ann & SUV     & 15\\\\\n\t Ann & Truck   & 12\\\\\n\t Bob & Compact & 19\\\\\n\t Bob & Sedan   & 12\\\\\n\\end{tabular}\n",
            "text/plain": [
              "  Salesperson auto_type num_sales\n",
              "1 Ann         Compact   22       \n",
              "2 Ann         Sedan     18       \n",
              "3 Ann         SUV       15       \n",
              "4 Ann         Truck     12       \n",
              "5 Bob         Compact   19       \n",
              "6 Bob         Sedan     12       "
            ]
          },
          "metadata": {}
        }
      ]
    },
    {
      "cell_type": "code",
      "source": [
        "(stacked_sales\n",
        " %>% pivot_wider(names_from = auto_type,\n",
        "                 values_from = num_sales,\n",
        "                )\n",
        " )"
      ],
      "metadata": {
        "colab": {
          "base_uri": "https://localhost:8080/",
          "height": 211
        },
        "id": "1pR6aY_e1urE",
        "outputId": "5355c39f-1061-4833-802e-973f2103b2cc"
      },
      "execution_count": 17,
      "outputs": [
        {
          "output_type": "display_data",
          "data": {
            "text/html": [
              "<table class=\"dataframe\">\n",
              "<caption>A tibble: 4 × 5</caption>\n",
              "<thead>\n",
              "\t<tr><th scope=col>Salesperson</th><th scope=col>Compact</th><th scope=col>Sedan</th><th scope=col>SUV</th><th scope=col>Truck</th></tr>\n",
              "\t<tr><th scope=col>&lt;chr&gt;</th><th scope=col>&lt;int&gt;</th><th scope=col>&lt;int&gt;</th><th scope=col>&lt;int&gt;</th><th scope=col>&lt;int&gt;</th></tr>\n",
              "</thead>\n",
              "<tbody>\n",
              "\t<tr><td>Ann    </td><td>22</td><td>18</td><td>15</td><td>12</td></tr>\n",
              "\t<tr><td>Bob    </td><td>19</td><td>12</td><td>17</td><td>20</td></tr>\n",
              "\t<tr><td>Yolanda</td><td>19</td><td> 8</td><td>32</td><td>15</td></tr>\n",
              "\t<tr><td>Xerxes </td><td>12</td><td>23</td><td>18</td><td> 9</td></tr>\n",
              "</tbody>\n",
              "</table>\n"
            ],
            "text/markdown": "\nA tibble: 4 × 5\n\n| Salesperson &lt;chr&gt; | Compact &lt;int&gt; | Sedan &lt;int&gt; | SUV &lt;int&gt; | Truck &lt;int&gt; |\n|---|---|---|---|---|\n| Ann     | 22 | 18 | 15 | 12 |\n| Bob     | 19 | 12 | 17 | 20 |\n| Yolanda | 19 |  8 | 32 | 15 |\n| Xerxes  | 12 | 23 | 18 |  9 |\n\n",
            "text/latex": "A tibble: 4 × 5\n\\begin{tabular}{lllll}\n Salesperson & Compact & Sedan & SUV & Truck\\\\\n <chr> & <int> & <int> & <int> & <int>\\\\\n\\hline\n\t Ann     & 22 & 18 & 15 & 12\\\\\n\t Bob     & 19 & 12 & 17 & 20\\\\\n\t Yolanda & 19 &  8 & 32 & 15\\\\\n\t Xerxes  & 12 & 23 & 18 &  9\\\\\n\\end{tabular}\n",
            "text/plain": [
              "  Salesperson Compact Sedan SUV Truck\n",
              "1 Ann         22      18    15  12   \n",
              "2 Bob         19      12    17  20   \n",
              "3 Yolanda     19       8    32  15   \n",
              "4 Xerxes      12      23    18   9   "
            ]
          },
          "metadata": {}
        }
      ]
    },
    {
      "cell_type": "markdown",
      "metadata": {
        "id": "Dd9t2rPgY7zk"
      },
      "source": [
        "## <font color=\"red\"> Exercise 7.3.2 </font>\n",
        "\n",
        "Continuing the `world_bank_fresh_download.csv`, notice that the labels in the `Indicator` column are actually variables.\n",
        "\n"
      ]
    },
    {
      "cell_type": "code",
      "execution_count": null,
      "metadata": {
        "id": "IUYqzbbkY7zk"
      },
      "outputs": [],
      "source": [
        "head(world_bank_stacked)"
      ]
    },
    {
      "cell_type": "markdown",
      "metadata": {
        "id": "PHXC3PF3Y7zl"
      },
      "source": [
        "#### Question\n",
        "\n",
        "Why is this a violation of the Golden Rule?"
      ]
    },
    {
      "cell_type": "markdown",
      "metadata": {
        "id": "jDQ4P9ELY7zl"
      },
      "source": [
        "<font color=\"orange\">\n",
        "Your answer here\n",
        "</font>"
      ]
    },
    {
      "cell_type": "markdown",
      "metadata": {
        "id": "fRe5WhMfY7zl"
      },
      "source": [
        "#### Task 1\n",
        "\n",
        "Fix this issue by\n",
        "\n",
        "1. Use `spread` in a pipe to unstack all these labels into their own columns.\n",
        "2. Save the resulting dataframe to a variable named `world_bank_clean`"
      ]
    },
    {
      "cell_type": "code",
      "execution_count": null,
      "metadata": {
        "id": "yfEcEXRQY7zm"
      },
      "outputs": [],
      "source": [
        "# Your code here"
      ]
    },
    {
      "cell_type": "markdown",
      "source": [
        "#### Task 2\n",
        "\n",
        "Redo the last problem using `pivot_wider`"
      ],
      "metadata": {
        "id": "E0XYiM_72LXX"
      }
    },
    {
      "cell_type": "code",
      "source": [
        "# Your code here"
      ],
      "metadata": {
        "id": "ko464SOt2Ptw"
      },
      "execution_count": null,
      "outputs": []
    }
  ],
  "metadata": {
    "kernelspec": {
      "display_name": "R",
      "language": "R",
      "name": "ir"
    },
    "language_info": {
      "codemirror_mode": "r",
      "file_extension": ".r",
      "mimetype": "text/x-r-source",
      "name": "R",
      "pygments_lexer": "r",
      "version": "3.5.1"
    },
    "colab": {
      "provenance": [],
      "include_colab_link": true
    }
  },
  "nbformat": 4,
  "nbformat_minor": 0
}